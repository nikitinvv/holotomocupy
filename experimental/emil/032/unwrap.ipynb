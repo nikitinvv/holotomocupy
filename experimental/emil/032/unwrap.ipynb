{
 "cells": [
  {
   "cell_type": "code",
   "execution_count": null,
   "id": "fad77fab-e206-47c1-9655-088d14fe30cb",
   "metadata": {},
   "outputs": [],
   "source": [
    "import numpy as np\n",
    "import matplotlib.pyplot as plt\n",
    "import h5py\n",
    "from holotomocupy.holo import G, GT\n",
    "from holotomocupy.magnification import M, MT\n",
    "from holotomocupy.shift import S, ST, registration_shift\n",
    "from holotomocupy.recon_methods import CTFPurePhase, multiPaganin\n",
    "from holotomocupy.proc import linear, dai_yuan\n",
    "from holotomocupy.chunking import gpu_batch\n",
    "import holotomocupy.chunking as chunking\n",
    "from holotomocupy.utils import *\n",
    "from holotomocupy.proc import remove_outliers\n",
    "import sys\n",
    "from skimage.restoration import unwrap_phase\n",
    "\n",
    "%matplotlib inline\n",
    "\n",
    "chunking.global_chunk = 50"
   ]
  },
  {
   "cell_type": "markdown",
   "id": "3c0fdd65-1cff-451e-865e-56cd8b7882a6",
   "metadata": {},
   "source": [
    "# Init data sizes and parametes of the PXM of ID16A"
   ]
  },
  {
   "cell_type": "code",
   "execution_count": null,
   "id": "59fa16f2-1f9c-4b3a-a330-e10942f12234",
   "metadata": {},
   "outputs": [],
   "source": [
    "fname = '/data/vnikitin/ESRF/ID16B/009/032_009_100nm'\n",
    "st = 0\n",
    "i = 8\n",
    "fid = h5py.File(f'{fname}_rec/h{st}_{i:03}.h5')\n",
    "data = fid['/exchange/data'][:]\n",
    "for k in range(data.shape[0]):\n",
    "    data[k] = unwrap_phase(data[k])\n",
    "\n",
    "with h5py.File(f'{fname}_rec/h{st}_{i:03}_unwrap.h5','w') as fido:\n",
    "    fido.create_dataset('/exchange/data',data = data)\n",
    "    fido.create_dataset('/exchange/data_white',data = fid['/exchange/data_white'][:])\n",
    "    fido.create_dataset('/exchange/data_dark',data = fid['/exchange/data_dark'][:])\n",
    "    fido.create_dataset('/exchange/theta',data = np.linspace(0,360,data.shape[0]).astype('float32'))  \n"
   ]
  }
 ],
 "metadata": {
  "kernelspec": {
   "display_name": "Python 3 (ipykernel)",
   "language": "python",
   "name": "python3"
  },
  "language_info": {
   "codemirror_mode": {
    "name": "ipython",
    "version": 3
   },
   "file_extension": ".py",
   "mimetype": "text/x-python",
   "name": "python",
   "nbconvert_exporter": "python",
   "pygments_lexer": "ipython3",
   "version": "3.12.4"
  }
 },
 "nbformat": 4,
 "nbformat_minor": 5
}
