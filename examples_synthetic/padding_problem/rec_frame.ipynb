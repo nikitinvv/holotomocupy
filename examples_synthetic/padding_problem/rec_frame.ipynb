{
 "cells": [
  {
   "cell_type": "code",
   "execution_count": null,
   "id": "fad77fab-e206-47c1-9655-088d14fe30cb",
   "metadata": {},
   "outputs": [],
   "source": [
    "import numpy as np\n",
    "import cupy as cp\n",
    "import h5py\n",
    "from holotomocupy.holo import G, GT\n",
    "from holotomocupy.shift import S, ST\n",
    "from holotomocupy.recon_methods import multiPaganin\n",
    "from holotomocupy.utils import *\n",
    "from holotomocupy.proc import remove_outliers\n",
    "##!jupyter nbconvert --to script config_template.ipynb"
   ]
  },
  {
   "cell_type": "markdown",
   "id": "3c0fdd65-1cff-451e-865e-56cd8b7882a6",
   "metadata": {},
   "source": [
    "# Init data sizes and parametes of the PXM of ID16A"
   ]
  },
  {
   "cell_type": "code",
   "execution_count": null,
   "id": "59fa16f2-1f9c-4b3a-a330-e10942f12234",
   "metadata": {},
   "outputs": [],
   "source": [
    "n = 512  # detector size\n",
    "ne = n+n//4\n",
    "energy = 33.35  # [keV] xray energy\n",
    "wavelength = 1.2398419840550367e-09/energy  # [m] wave length\n",
    "focusToDetectorDistance = 1.28  # [m]\n",
    "ndist = 4\n",
    "distances = np.array([0.0029432,0.00306911,0.00357247,0.00461673])[:ndist] # [m]\n",
    "magnification = 400\n",
    "detector_pixelsize = 3.03751e-6\n",
    "voxelsize = detector_pixelsize/magnification*2048/n  # object voxel size\n",
    "\n",
    "distances2 = distances[-1]-distances\n",
    "path = f'/data/vnikitin/modeling/siemens{n}'\n",
    "show=True\n",
    "print(distances+distances2)"
   ]
  },
  {
   "cell_type": "markdown",
   "id": "49eb1696-bb30-496e-8c3d-565f2791112c",
   "metadata": {},
   "source": [
    "## Read data"
   ]
  },
  {
   "cell_type": "code",
   "execution_count": null,
   "id": "c23a78d2",
   "metadata": {},
   "outputs": [],
   "source": [
    "data = cp.load(f'{path}/data.npy')\n",
    "ref = cp.load(f'{path}/ref.npy')\n",
    "psi = cp.load(f'{path}/psi.npy')\n",
    "prb = cp.load(f'{path}/prb.npy')\n",
    "rdata = data/(ref+1e-3)\n",
    "mshow(rdata[0,0],show,vmax=3)"
   ]
  },
  {
   "cell_type": "markdown",
   "id": "daee2463",
   "metadata": {},
   "source": [
    "# Construct operators\n"
   ]
  },
  {
   "cell_type": "code",
   "execution_count": null,
   "id": "adf88f3b",
   "metadata": {},
   "outputs": [],
   "source": [
    "def L1op(psi):\n",
    "    data = cp.zeros([1,ndist, ne, ne], dtype='complex64')\n",
    "    for i in range(ndist):\n",
    "        psir = cp.array(psi)           \n",
    "        psir = G(psir, wavelength, voxelsize, distances2[i],'symmetric')        \n",
    "        data[:, i] = psir#[:,ne//2-n//2:ne//2+n//2,ne//2-n//2:ne//2+n//2]\n",
    "    return data\n",
    "\n",
    "def L1Top(data):\n",
    "    psi = cp.zeros([1, ne, ne], dtype='complex64')\n",
    "    for j in range(ndist):\n",
    "        datar = cp.array(data[:, j])\n",
    "        datar = GT(datar, wavelength, voxelsize, distances2[j],'symmetric')        \n",
    "        psi += datar\n",
    "    return psi\n",
    "\n",
    "def Lop(psi):\n",
    "    data = cp.zeros([1,ndist, n, n], dtype='complex64')\n",
    "    Lprb = L1op(prb)\n",
    "    for i in range(ndist):\n",
    "        psir = psi*Lprb[:,i]\n",
    "        v = cp.ones(ne,dtype='float32')\n",
    "        v[:(ne-n)//2] = cp.sin(cp.linspace(0,1,(ne-n)//2)*cp.pi/2)\n",
    "        v[-(ne-n)//2:] = cp.cos(cp.linspace(0,1,(ne-n)//2)*cp.pi/2)\n",
    "        v = cp.outer(v,v)\n",
    "\n",
    "\n",
    "        psir*=v\n",
    "        psir = G(psir, wavelength, voxelsize, distances[i],'constant')        \n",
    "\n",
    "        data[:, i] = psir[:,ne//2-n//2:ne//2+n//2,ne//2-n//2:ne//2+n//2]\n",
    "    return data\n",
    "\n",
    "def LTop(data):\n",
    "    psi = cp.zeros([1, ne, ne], dtype='complex64')\n",
    "    Lprb = L1op(prb)\n",
    "    for j in range(ndist):\n",
    "        datar = cp.array(cp.pad(data[:, j],((0,0),(ne//2-n//2,ne//2-n//2),(ne//2-n//2,ne//2-n//2)))).astype('complex64')        \n",
    "        datar = GT(datar, wavelength, voxelsize, distances[j],'constant')        \n",
    "\n",
    "        v = cp.ones(ne,dtype='float32')\n",
    "        v[:(ne-n)//2] = cp.sin(cp.linspace(0,1,(ne-n)//2)*cp.pi/2)\n",
    "        v[-(ne-n)//2:] = cp.cos(cp.linspace(0,1,(ne-n)//2)*cp.pi/2)\n",
    "        v = cp.outer(v,v)        \n",
    "        datar *= v\n",
    "\n",
    "        psi += datar*cp.conj(Lprb[:,j])\n",
    "    \n",
    "    return psi\n",
    "\n",
    "def Cop(psi):\n",
    "    return psi[:,ne//2-n//2:ne//2+n//2,ne//2-n//2:ne//2+n//2]\n",
    "\n",
    "def CTop(psi):\n",
    "    return cp.pad(psi,((0,0),(ne//2-n//2,ne//2-n//2),(ne//2-n//2,ne//2-n//2)))\n",
    "\n",
    "# adjoint tests\n",
    "arr1 = (cp.random.random([1,ne,ne])+1j*cp.random.random([1,ne,ne])).astype('complex64')\n",
    "arr2 = L1op(arr1)\n",
    "arr3 = L1Top(arr2)\n",
    "print(f'{np.sum(arr1*np.conj(arr3))}==\\n{np.sum(arr2*np.conj(arr2))}')\n",
    "\n",
    "arr1 = (cp.random.random([1,ne,ne])+1j*cp.random.random([1,ne,ne])).astype('complex64')\n",
    "arr2 = Lop(arr1)\n",
    "arr3 = LTop(arr2)\n",
    "\n",
    "\n",
    "print(f'{np.sum(arr1*np.conj(arr3))}==\\n{np.sum(arr2*np.conj(arr2))}')\n"
   ]
  },
  {
   "cell_type": "markdown",
   "id": "1fe0cb15",
   "metadata": {},
   "source": [
    "## Reconstruction with \n",
    "### $$F(\\psi) = \\||L(L_q(q)\\cdot(C^*(\\psi)+\\psi_{fr}))| -d\\|^2_2$$\n"
   ]
  },
  {
   "cell_type": "markdown",
   "id": "691261ac",
   "metadata": {},
   "source": [
    "## Gradients"
   ]
  },
  {
   "cell_type": "markdown",
   "id": "bd7163cd",
   "metadata": {},
   "source": [
    "#### $$\\nabla F_{\\psi_{0}^e}=2 C\\left(L^*\\left( L(\\psi_{0}^e)-\\tilde d\\right)\\right).$$\n",
    "#### where $$\\tilde d = d \\frac{L(\\psi_0)}{|L(\\psi_0)|}$$\n",
    "#### $$\\psi_0^e = C^*(\\psi_0)+\\psi_{fr}$$\n",
    "\n"
   ]
  },
  {
   "cell_type": "code",
   "execution_count": null,
   "id": "eba2083c",
   "metadata": {},
   "outputs": [],
   "source": [
    "def gradientF(vars,d):\n",
    "    (psi,psifr) = (vars['psi'],vars['psifr'])\n",
    "    psie = CTop(psi)+psifr\n",
    "    Lpsi = Lop(psie)\n",
    "    td = d*(Lpsi/np.abs(Lpsi))\n",
    "    res = 2*Cop(LTop(Lpsi - td))\n",
    "    return res"
   ]
  },
  {
   "cell_type": "markdown",
   "id": "3b092076",
   "metadata": {},
   "source": [
    "##### $$\\frac{1}{2}\\mathcal{H}|_{\\psi_0^e}(\\Delta\\psi^{(1)},\\Delta\\psi^{(2)})= \\left\\langle \\mathbf{1}-d_{0}, \\mathsf{Re}({L(C^*(\\Delta\\psi^{(1)}))}\\overline{L(C^*(\\Delta\\psi^{(2)}))})\\right\\rangle+\\left\\langle d_{0},(\\mathsf{Re} (\\overline{l_0}\\cdot L(C^*(\\Delta\\psi^{(1)}))))\\cdot (\\mathsf{Re} (\\overline{l_0}\\cdot L(C^*(\\Delta\\psi^{(2)})))) \\right\\rangle $$\n",
    "##### \n",
    "##### $$l_0=L(\\psi_0^e)/|L(\\psi_0^e)|$$\n",
    "##### $$d_0=d/|L(\\psi_0^e)|$$\n"
   ]
  },
  {
   "cell_type": "code",
   "execution_count": null,
   "id": "28d6df09",
   "metadata": {},
   "outputs": [],
   "source": [
    "def hessianF(psi,psifr,dpsi1,dpsi2,data):\n",
    "    psie = CTop(psi)+psifr\n",
    "    Lpsi = Lop(psie)\n",
    "    Lpsi1 = Lop(CTop(dpsi1))\n",
    "    Lpsi2 = Lop(CTop(dpsi2))    \n",
    "    l0 = Lpsi/np.abs(Lpsi)\n",
    "    d0 = data/np.abs(Lpsi)\n",
    "    v1 = np.sum((1-d0)*reprod(Lpsi1,Lpsi2))\n",
    "    v2 = np.sum(d0*reprod(l0,Lpsi1)*reprod(l0,Lpsi2))                \n",
    "    return 2*(v1+v2)"
   ]
  },
  {
   "cell_type": "code",
   "execution_count": null,
   "id": "a3990a45",
   "metadata": {},
   "outputs": [],
   "source": [
    "def calc_beta(vars,grads,etas,d):\n",
    "    psi = vars['psi']\n",
    "    psifr = vars['psifr']    \n",
    "    dpsi1 = grads['psi']\n",
    "    dpsi2 = etas['psi']    \n",
    "    top = hessianF(psi,psifr, dpsi1, dpsi2, d)    \n",
    "    bottom = hessianF(psi,psifr,dpsi2, dpsi2,d)\n",
    "    return top/bottom\n",
    "\n",
    "def calc_alpha(vars,grads,etas,d):    \n",
    "    psi = vars['psi']\n",
    "    psifr = vars['psifr']    \n",
    "    dpsi1 = grads['psi']\n",
    "    dpsi2 = etas['psi']    \n",
    "    top = -redot(dpsi1,dpsi2)    \n",
    "    bottom = hessianF(psi,psifr, dpsi2, dpsi2,d)\n",
    "    return top/bottom, top, bottom"
   ]
  },
  {
   "cell_type": "markdown",
   "id": "d0c60557",
   "metadata": {},
   "source": [
    "### Initial guess for reconstruction (Paganin)"
   ]
  },
  {
   "cell_type": "code",
   "execution_count": null,
   "id": "cb50e362",
   "metadata": {},
   "outputs": [],
   "source": [
    "def rec_init(rdata):\n",
    "    recMultiPaganin = cp.zeros([1,ndist,n,n],dtype='float32')\n",
    "    for j in range(0,ndist):\n",
    "        rdatar = cp.array(rdata[:,j:j+1])\n",
    "        r = multiPaganin(rdatar,\n",
    "                            distances[j:j+1], wavelength, voxelsize,  24.05, 1e-6)    \n",
    "        recMultiPaganin[:,j] = r\n",
    "        \n",
    "    recMultiPaganin = np.sum(recMultiPaganin,axis=1)/ndist    \n",
    "    recMultiPaganin = np.exp(1j*recMultiPaganin)\n",
    "\n",
    "    return recMultiPaganin\n",
    "\n",
    "rec_paganin = rec_init(rdata)\n",
    "rec_paganin = np.pad(rec_paganin,((0,0),(ne//2-n//2,ne//2-n//2),(ne//2-n//2,ne//2-n//2)),'constant',constant_values=1)\n",
    "mshow_polar(rec_paganin[0],show)\n",
    "mshow_polar(rec_paganin[0,ne//2-128:ne//2+128,ne//2-128:ne//2+128],show)"
   ]
  },
  {
   "cell_type": "markdown",
   "id": "d4006eb6",
   "metadata": {},
   "source": [
    "## debug functions"
   ]
  },
  {
   "cell_type": "code",
   "execution_count": null,
   "id": "b79db8a3",
   "metadata": {},
   "outputs": [],
   "source": [
    "def plot_debug2(vars,etas,top,bottom,alpha,data):\n",
    "    if show==False:\n",
    "        return\n",
    "    psi = vars['psi']\n",
    "    psifr = vars['psifr']    \n",
    "    dpsi2 = etas['psi']    \n",
    "    npp = 17\n",
    "    errt = cp.zeros(npp*2)\n",
    "    errt2 = cp.zeros(npp*2)\n",
    "    for k in range(0,npp*2):\n",
    "        psit = psi+(alpha*k/(npp-1))*dpsi2\n",
    "        fpsit = np.abs(Lop(CTop(psit)+psifr))-data\n",
    "        errt[k] = np.linalg.norm(fpsit)**2\n",
    "        \n",
    "    t = alpha*(cp.arange(2*npp))/(npp-1)\n",
    "    tmp = np.abs(Lop(CTop(psi)+psifr))-(data)\n",
    "    errt2 = np.linalg.norm(tmp)**2-top*t+0.5*bottom*t**2\n",
    "    \n",
    "    plt.plot(alpha.get()*cp.arange(2*npp).get()/(npp-1),errt.get(),'.')\n",
    "    plt.plot(alpha.get()*cp.arange(2*npp).get()/(npp-1),errt2.get(),'.')\n",
    "    plt.show()\n",
    "\n",
    "\n",
    "def vis_debug(vars,data,i):\n",
    "    psie = CTop(vars['psi'])+vars['psifr']\n",
    "    mshow_polar(psie[0],show)    \n",
    "    mshow_polar(psie[0,ne//2-n//4:ne//2+n//4,ne//2+n//4:ne//2+n//2+n//4],show)    \n",
    "    \n",
    "def err_debug(vars, grads, data):    \n",
    "    psi = vars['psi']\n",
    "    psifr = vars['psifr']\n",
    "    tmp = np.abs(Lop(CTop(psi)+psifr))-data\n",
    "    err = np.linalg.norm(tmp)**2\n",
    "    return err"
   ]
  },
  {
   "cell_type": "markdown",
   "id": "9b6e3f71",
   "metadata": {},
   "source": [
    "# Main CG loop (fifth rule)"
   ]
  },
  {
   "cell_type": "code",
   "execution_count": null,
   "id": "901f10e1",
   "metadata": {},
   "outputs": [],
   "source": [
    "def cg_holo(data, vars, pars):\n",
    "\n",
    "    data = np.sqrt(data)    \n",
    "    erra = cp.zeros(pars['niter'])\n",
    "    alphaa = cp.zeros(pars['niter'])    \n",
    "    grads ={}\n",
    "    for i in range(pars['niter']):          \n",
    "        if i % pars['vis_step'] == 0 and pars['vis_step'] != -1:\n",
    "            vis_debug(vars, data, i) \n",
    "        grads['psi'] = gradientF(vars,data)        \n",
    "        if i==0:\n",
    "            etas = {}\n",
    "            etas['psi'] = -grads['psi']\n",
    "        else:      \n",
    "            beta = calc_beta(vars, grads, etas, data)\n",
    "            etas['psi'] = -grads['psi'] + beta*etas['psi']\n",
    "        alpha,top,bottom = calc_alpha(vars, grads, etas, data) \n",
    "        if i % pars['vis_step'] == 0 and pars['err_step'] != -1:\n",
    "            plot_debug2(vars,etas,top,bottom,alpha,data)\n",
    "\n",
    "        vars['psi'] += alpha*etas['psi']\n",
    "        \n",
    "        if i % pars['err_step'] == 0 and pars['err_step'] != -1:\n",
    "            err = err_debug(vars, grads, data)    \n",
    "            print(f'{i}) {alpha=:.5f}, {err=:1.5e}',flush=True)\n",
    "            erra[i] = err\n",
    "            alphaa[i] = alpha\n",
    "                \n",
    "    return vars,erra,alphaa\n",
    "\n",
    "vars = {}\n",
    "vars['psi'] = cp.array(rec_paganin)[:,(ne-n)//2:(ne+n)//2,(ne-n)//2:(ne+n)//2]\n",
    "vars['psifr'] = cp.ones([1,ne,ne],dtype='complex64')\n",
    "vars['psifr'][:,(ne-n)//2:(ne+n)//2,(ne-n)//2:(ne+n)//2] = 0\n",
    "data_rec = cp.array(data)\n",
    "\n",
    "pars = {'niter': 1025, 'err_step':8, 'vis_step': 32}\n",
    "vars,erra,alphaa = cg_holo(data_rec, vars, pars)    "
   ]
  },
  {
   "cell_type": "code",
   "execution_count": null,
   "id": "1327f986",
   "metadata": {},
   "outputs": [],
   "source": [
    "mshow(data[0,-1],show)\n",
    "psie = CTop(vars['psi'])+vars['psifr']\n",
    "mshow_polar(psie[0,ne//2-n//8:ne//2+n//8,ne//2+n//4:ne//2+n//2+n//4-n//4],show,vmax=0.2,vmin=-1.2)    "
   ]
  }
 ],
 "metadata": {
  "kernelspec": {
   "display_name": "holotomocupy",
   "language": "python",
   "name": "python3"
  },
  "language_info": {
   "codemirror_mode": {
    "name": "ipython",
    "version": 3
   },
   "file_extension": ".py",
   "mimetype": "text/x-python",
   "name": "python",
   "nbconvert_exporter": "python",
   "pygments_lexer": "ipython3",
   "version": "3.12.4"
  }
 },
 "nbformat": 4,
 "nbformat_minor": 5
}
