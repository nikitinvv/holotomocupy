{
 "cells": [
  {
   "cell_type": "code",
   "execution_count": null,
   "metadata": {},
   "outputs": [],
   "source": [
    "import numpy as np\n",
    "import cupy as cp\n",
    "import cv2\n",
    "import xraylib\n",
    "import matplotlib.pyplot as plt\n",
    "from utils import write_tiff, read_tiff\n",
    "from utils import mshow, mshow_polar, mshow_complex\n"
   ]
  },
  {
   "cell_type": "code",
   "execution_count": null,
   "metadata": {},
   "outputs": [],
   "source": [
    "n = 1024  # data size in each dimension\n",
    "nobj = n+n//4 # object size in each dimension\n",
    "pad = 0#n//16 # pad for the reconstructed probe\n",
    "nprb = n+2*pad # probe size\n",
    "extra = 8 # extra padding for shifts\n",
    "npatch = nprb+2*extra # patch size for shifts\n",
    "\n",
    "npos = 16 # total number of positions\n",
    "z1 = 4.267e-3 # [m] position of the sample\n",
    "detector_pixelsize = 3.0e-6\n",
    "energy = 33.35  # [keV] xray energy\n",
    "wavelength = 1.24e-09/energy  # [m] wave length\n",
    "focusToDetectorDistance = 1.28  # [m]\n",
    "# adjustments for the cone beam\n",
    "z2 = focusToDetectorDistance-z1\n",
    "distance = (z1*z2)/focusToDetectorDistance\n",
    "magnification = focusToDetectorDistance/z1\n",
    "voxelsize = cp.abs(detector_pixelsize/magnification)\n",
    "\n",
    "show = True # do visualization or not at all\n",
    "\n",
    "path = f'/data/vnikitin/paper/near_field' # input data path "
   ]
  },
  {
   "cell_type": "markdown",
   "metadata": {},
   "source": [
    "# Fresnel kernel"
   ]
  },
  {
   "cell_type": "code",
   "execution_count": null,
   "metadata": {},
   "outputs": [],
   "source": [
    "fx = cp.fft.fftfreq(nprb, d=voxelsize).astype('float32')\n",
    "[fx, fy] = cp.meshgrid(fx, fx)\n",
    "fker = cp.exp(-1j*cp.pi*wavelength*distance*(fx**2+fy**2))\n",
    "\n",
    "mshow_complex(cp.fft.fftshift(fker),mshow)"
   ]
  },
  {
   "cell_type": "code",
   "execution_count": null,
   "metadata": {},
   "outputs": [],
   "source": [
    "\n",
    "def Lop(psi):   \n",
    "    \"\"\"Forward propagator\"\"\" \n",
    "\n",
    "    # convolution\n",
    "    # ff = cp.pad(psi,((0,0),(nprb//2,nprb//2),(nprb//2,nprb//2)))\n",
    "    ff = psi\n",
    "    ff = cp.fft.ifft2(cp.fft.fft2(ff)*fker)    \n",
    "    # ff = ff[:,nprb//2:-nprb//2,nprb//2:-nprb//2]\n",
    "    \n",
    "    # crop to detector size\n",
    "    ff = ff[:,pad:nprb-pad,pad:nprb-pad]\n",
    "    return ff\n",
    "\n",
    "def LTop(psi):\n",
    "    \"\"\"Adjoint propagator\"\"\" \n",
    "\n",
    "    # pad to the probe size\n",
    "    ff = cp.pad(psi,((0,0),(pad,pad),(pad,pad)))    \n",
    "    \n",
    "    # convolution\n",
    "    # ff = cp.pad(ff,((0,0),(nprb//2,nprb//2),(nprb//2,nprb//2)))    \n",
    "    ff = cp.fft.ifft2(cp.fft.fft2(ff)/fker)\n",
    "    # ff = ff[:,nprb//2:-nprb//2,nprb//2:-nprb//2]\n",
    "    return ff\n",
    "\n",
    "def Ex(psi,ix):\n",
    "    \"\"\"Extract patches\"\"\"\n",
    "\n",
    "    res = cp.empty([ix.shape[0],npatch,npatch],dtype='complex64')\n",
    "    stx = nobj//2-ix[:,1]-npatch//2\n",
    "    endx = stx+npatch\n",
    "    sty = nobj//2-ix[:,0]-npatch//2\n",
    "    endy = sty+npatch\n",
    "    for k in range(len(stx)):\n",
    "        res[k] = psi[sty[k]:endy[k],stx[k]:endx[k]]     \n",
    "    return res\n",
    "\n",
    "def ExT(psi,psir,ix):\n",
    "    \"\"\"Adjoint extract patches\"\"\"\n",
    "\n",
    "    stx = nobj//2-ix[:,1]-npatch//2\n",
    "    endx = stx+npatch\n",
    "    sty = nobj//2-ix[:,0]-npatch//2\n",
    "    endy = sty+npatch\n",
    "    for k in range(len(stx)):\n",
    "        psi[sty[k]:endy[k],stx[k]:endx[k]] += psir[k]\n",
    "    return psi\n",
    "\n",
    "def S(psi,p):\n",
    "    \"\"\"Subpixel shift\"\"\"\n",
    "\n",
    "    x = cp.fft.fftfreq(npatch).astype('float32')\n",
    "    [y, x] = cp.meshgrid(x, x)\n",
    "    pp = cp.exp(-2*cp.pi*1j * (y*p[:, 1, None, None]+x*p[:, 0, None, None])).astype('complex64')\n",
    "    res = cp.fft.ifft2(pp*cp.fft.fft2(psi))\n",
    "    return res\n",
    "\n",
    "def Sop(psi,ix,x,ex):\n",
    "    \"\"\"Extract patches with subpixel shift\"\"\"\n",
    "    data = cp.zeros([x.shape[1], nprb, nprb], dtype='complex64')\n",
    "    psir = Ex(psi,ix)     \n",
    "    psir = S(psir,x)\n",
    "    data = psir[:, ex:npatch-ex, ex:npatch-ex]\n",
    "    return data\n",
    "\n",
    "def STop(d,ix,x,ex):\n",
    "    \"\"\"Adjont extract patches with subpixel shift\"\"\"\n",
    "    psi = cp.zeros([nobj, nobj], dtype='complex64')\n",
    "    dr = cp.pad(d, ((0, 0), (ex, ex), (ex, ex)))\n",
    "    dr = S(dr,-x)        \n",
    "    ExT(psi,dr,ix)\n",
    "    return psi\n",
    "\n",
    "# adjoint tests\n",
    "shifts_test = 30*(cp.random.random([npos,2])-0.5).astype('float32')\n",
    "ishifts = shifts_test.astype('int32')\n",
    "fshifts = shifts_test-ishifts\n",
    "\n",
    "arr1 = (cp.random.random([nobj,nobj])+1j*cp.random.random([nobj,nobj])).astype('complex64')\n",
    "arr2 = Ex(arr1,ishifts)\n",
    "arr3 = arr1*0\n",
    "ExT(arr3,arr2,ishifts)\n",
    "print(f'{cp.sum(arr1*cp.conj(arr3))}==\\n{cp.sum(arr2*cp.conj(arr2))}')\n",
    "\n",
    "arr1 = (cp.random.random([nobj,nobj])+1j*cp.random.random([nobj,nobj])).astype('complex64')\n",
    "arr2 = Sop(arr1,ishifts,fshifts,extra)\n",
    "arr3 = STop(arr2,ishifts,fshifts,extra)\n",
    "print(f'{cp.sum(arr1*cp.conj(arr3))}==\\n{cp.sum(arr2*cp.conj(arr2))}')\n",
    "\n",
    "arr1 = (cp.random.random([npos,nprb,nprb])+1j*cp.random.random([npos,nprb,nprb])).astype('complex64')\n",
    "arr2 = Lop(arr1)\n",
    "arr3 = LTop(arr2)\n",
    "print(f'{cp.sum(arr1*cp.conj(arr3))}==\\n{cp.sum(arr2*cp.conj(arr2))}')"
   ]
  },
  {
   "cell_type": "markdown",
   "metadata": {},
   "source": [
    "# Generate object"
   ]
  },
  {
   "cell_type": "code",
   "execution_count": null,
   "metadata": {},
   "outputs": [],
   "source": [
    "img = np.zeros((nobj, nobj, 3), np.uint8)\n",
    "triangle = np.array([(nobj//16, nobj//2-nobj//32), (nobj//16, nobj//2+nobj//32), (nobj//2-nobj//64, nobj//2)], np.float32)\n",
    "star = img[:,:,0]*0\n",
    "for i in range(0, 360, 15):\n",
    "    img = np.zeros((nobj, nobj, 3), np.uint8)\n",
    "    degree = i\n",
    "    theta = degree * np.pi / 180\n",
    "    rot_mat = np.array([[np.cos(theta), -np.sin(theta)],\n",
    "                        [np.sin(theta), np.cos(theta)]], np.float32)    \n",
    "    rotated = cv2.gemm(triangle-nobj//2, rot_mat, 1, None, 1, flags=cv2.GEMM_2_T)+nobj//2\n",
    "    cv2.fillPoly(img, [np.int32(rotated)], (255, 0, 0))\n",
    "    star+=img[:,:,0]\n",
    "\n",
    "star = cp.array(star)\n",
    "\n",
    "[x,y] = cp.meshgrid(cp.arange(-nobj//2,nobj//2),cp.arange(-nobj//2,nobj//2))\n",
    "x = x/nobj*2\n",
    "y = y/nobj*2\n",
    "# add holes in triangles\n",
    "circ = (x**2+y**2>0.145)+(x**2+y**2<0.135)\n",
    "circ *= (x**2+y**2>0.053)+(x**2+y**2<0.05)\n",
    "circ *= (x**2+y**2>0.0085)+(x**2+y**2<0.008)\n",
    "circ *= (x**2+y**2>0.32)+(x**2+y**2<0.3)\n",
    "\n",
    "circ *= (x**2+y**2<0.65**2)\n",
    "bg =cp.random.random(star.shape)-0.5\n",
    "v = cp.arange(-nobj//2,nobj//2)/nobj\n",
    "[vx,vy] = cp.meshgrid(v,v)\n",
    "v = cp.exp(-4000*(vx**2+vy**2))\n",
    "bg = cp.fft.fftshift(np.fft.fftn(np.fft.fftshift(bg)))\n",
    "bg = cp.fft.fftshift(np.fft.ifftn(np.fft.fftshift(bg*v))).real\n",
    "\n",
    "\n",
    "star = star/255\n",
    "star*=circ\n",
    "\n",
    "# add rectangles randomly\n",
    "nrect = 400\n",
    "max_size = 16\n",
    "min_size = 3\n",
    "import random\n",
    "irect=0\n",
    "for _ in range(10000):\n",
    "    x = random.randint(0, nobj)\n",
    "    y = random.randint(0, nobj)\n",
    "    width = random.randint(min_size, max_size)\n",
    "    height = random.randint(min_size, max_size)\n",
    "\n",
    "    # Ensure the rectangle stays within bounds\n",
    "    if x + width > nobj:\n",
    "        width = nobj-x\n",
    "    if y + height > nobj:\n",
    "        height = nobj-y\n",
    "    \n",
    "    if cp.sum(star[y:y+height,x:x+width]>0)==height*width:\n",
    "        star[y:y+height,x:x+width]=0.5\n",
    "        irect+=1\n",
    "        # print(irect)\n",
    "    if irect==nrect:\n",
    "        break\n",
    "bg-=cp.min(bg)\n",
    "star += bg*30\n",
    "# star[star<0]=0\n",
    "# smooth\n",
    "v = cp.arange(-nobj//2,nobj//2)/nobj\n",
    "[vx,vy] = np.meshgrid(v,v)\n",
    "v = cp.exp(-10*(vx**2+vy**2))\n",
    "fu = cp.fft.fftshift(cp.fft.fftn(cp.fft.fftshift(star)))\n",
    "star = cp.fft.fftshift(cp.fft.ifftn(cp.fft.fftshift(fu*v))).real\n",
    "\n",
    "delta = 1-xraylib.Refractive_Index_Re('Au',energy,19.3)\n",
    "beta = xraylib.Refractive_Index_Im('Au',energy,19.3)\n",
    "\n",
    "thickness = 1e-6/voxelsize # siemens star thickness in pixels\n",
    "# form Transmittance function\n",
    "u = star*(-delta+1j*beta) # note -delta\n",
    "Ru = u*thickness \n",
    "psi = np.exp(1j * Ru * voxelsize * 2 * np.pi / wavelength).astype('complex64')\n",
    "psi=cp.array(psi)\n",
    "\n",
    "mshow_polar(psi,show)"
   ]
  },
  {
   "cell_type": "markdown",
   "metadata": {},
   "source": [
    "# Read probe and taper it"
   ]
  },
  {
   "cell_type": "code",
   "execution_count": null,
   "metadata": {},
   "outputs": [],
   "source": [
    "!wget -nc https://g-110014.fd635.8443.data.globus.org/holotomocupy/examples_synthetic/data/prb_id16a/prb_abs_2048.tiff -P ../data/prb_id16a\n",
    "!wget -nc https://g-110014.fd635.8443.data.globus.org/holotomocupy/examples_synthetic/data/prb_id16a/prb_phase_2048.tiff -P ../data/prb_id16a\n",
    "\n",
    "prb_abs = read_tiff(f'../data/prb_id16a/prb_abs_2048.tiff')[0]\n",
    "prb_phase = read_tiff(f'../data/prb_id16a/prb_phase_2048.tiff')[0]\n",
    "prb = prb_abs*np.exp(1j*prb_phase).astype('complex64')\n",
    "\n",
    "prb = prb[1024-nprb//2:1024+nprb//2,1024-nprb//2:1024+nprb//2]\n",
    "prb /= np.mean(np.abs(prb))\n",
    "\n",
    "v = np.ones(nprb)\n",
    "ppad = n//16\n",
    "vv = np.sin(np.linspace(0.0,np.pi/2,ppad))\n",
    "v[:ppad] = vv\n",
    "v[nprb-ppad:] = vv[::-1]\n",
    "v = np.outer(v,v)\n",
    "# prb *= v\n",
    "prb = cp.array(prb)\n",
    "\n",
    "mshow_polar(prb,mshow)"
   ]
  },
  {
   "cell_type": "markdown",
   "metadata": {},
   "source": [
    "# Read probe shifts"
   ]
  },
  {
   "cell_type": "code",
   "execution_count": null,
   "metadata": {},
   "outputs": [],
   "source": [
    "import h5py\n",
    "with h5py.File(f'/data/vnikitin/ESRF/ID16A/20240924/SiemensLH/SiemensLH_010nm_nfp_01/SiemensLH_010nm_nfp_010000.h5','r') as fid:\n",
    "    spz = cp.array(str(np.array(str(np.array(fid['/entry_0000/instrument/PCIe/header/spz']))[1:]))[1:-1].split(' '),dtype='float32')*1e-6/voxelsize\n",
    "    spy = cp.array(str(np.array(str(np.array(fid['/entry_0000/instrument/PCIe/header/spy']))[1:]))[1:-1].split(' '),dtype='float32')*1e-6/voxelsize\n",
    "\n",
    "shifts = cp.zeros([npos,2],dtype='float32')\n",
    "shifts[:,1] = spy[:npos]\n",
    "shifts[:,0] = -spz[:npos]\n",
    "shifts/=4\n",
    "shifts[4]+=1\n",
    "shifts[3]-=1\n",
    "\n",
    "print(shifts)\n",
    "plt.plot(shifts[:,0].get(),shifts[:,1].get(),'.')\n",
    "plt.axis('square')\n",
    "plt.grid()\n",
    "plt.show()\n"
   ]
  },
  {
   "cell_type": "markdown",
   "metadata": {},
   "source": [
    "# generate data"
   ]
  },
  {
   "cell_type": "code",
   "execution_count": null,
   "metadata": {},
   "outputs": [],
   "source": [
    "\n",
    "ishifts = cp.floor(shifts).astype('int32')\n",
    "fshifts = (shifts-ishifts).astype('float32')\n",
    "psi = cp.array(psi)\n",
    "prb = cp.array(prb)\n",
    "data = np.abs(Lop(prb*Sop(psi,ishifts,fshifts,extra)))**2\n",
    "ref = np.abs(Lop(prb*(1+0*Sop(psi*0+1,ishifts,fshifts,extra))))**2\n",
    "ref = ref[0]\n",
    "\n",
    "rdata = data/(ref+1e-11)\n",
    "mshow(data[0],mshow)\n",
    "mshow(ref,mshow)"
   ]
  },
  {
   "cell_type": "markdown",
   "metadata": {},
   "source": [
    "# save data"
   ]
  },
  {
   "cell_type": "code",
   "execution_count": null,
   "metadata": {},
   "outputs": [],
   "source": [
    "np.save(f'{path}/data/data',data.get())\n",
    "np.save(f'{path}/data/ref',ref.get())\n",
    "np.save(f'{path}/data/gen_prb',prb.get())\n",
    "np.save(f'{path}/data/gen_shifts',shifts.get())\n",
    "np.save(f'{path}/data/psi',psi.get())\n"
   ]
  },
  {
   "cell_type": "markdown",
   "metadata": {},
   "source": [
    "# add very-very low noise to avoid numerical precision errors"
   ]
  },
  {
   "cell_type": "code",
   "execution_count": null,
   "metadata": {},
   "outputs": [],
   "source": [
    "std_dev = 0.00001  # Standard deviation of the noise\n",
    "\n",
    "# Generate Gaussian noise\n",
    "noise = cp.random.normal(0, std_dev, size=data.shape).astype('float32')\n",
    "ndata = data+noise\n",
    "ndata[ndata<np.amin(data)] = np.amin(data)\n",
    "np.save(f'{path}/data/data',ndata.get())\n",
    "mshow(data[0]-ndata[0],show)\n"
   ]
  },
  {
   "cell_type": "markdown",
   "metadata": {},
   "source": [
    "# Add Gaussian noise"
   ]
  },
  {
   "cell_type": "code",
   "execution_count": null,
   "metadata": {},
   "outputs": [],
   "source": [
    "std_dev = 0.08  # Standard deviation of the noise\n",
    "\n",
    "# Generate Gaussian noise\n",
    "noise = cp.random.normal(0, std_dev, size=data.shape).astype('float32')\n",
    "ndata = data+noise\n",
    "ndata[ndata<np.amin(data)]=np.amin(data)\n",
    "np.save(f'{path}/data/ndata',ndata.get())\n",
    "mshow(ndata[0],show)\n",
    "mshow(data[0]-ndata[0],show)"
   ]
  },
  {
   "cell_type": "markdown",
   "metadata": {},
   "source": [
    "# Generate shifts error"
   ]
  },
  {
   "cell_type": "code",
   "execution_count": null,
   "metadata": {},
   "outputs": [],
   "source": [
    "shifts_random = shifts.get()+4*(np.random.random([npos,2])-0.5)\n",
    "shifts_random = shifts_random.astype('float32')\n",
    "np.save(f'{path}/data/gen_shifts_random',shifts_random)"
   ]
  }
 ],
 "metadata": {
  "kernelspec": {
   "display_name": "holotomocupy",
   "language": "python",
   "name": "python3"
  },
  "language_info": {
   "codemirror_mode": {
    "name": "ipython",
    "version": 3
   },
   "file_extension": ".py",
   "mimetype": "text/x-python",
   "name": "python",
   "nbconvert_exporter": "python",
   "pygments_lexer": "ipython3",
   "version": "3.12.8"
  }
 },
 "nbformat": 4,
 "nbformat_minor": 2
}
