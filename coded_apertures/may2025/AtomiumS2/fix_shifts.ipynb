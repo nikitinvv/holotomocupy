{
 "cells": [
  {
   "cell_type": "code",
   "execution_count": null,
   "id": "fad77fab-e206-47c1-9655-088d14fe30cb",
   "metadata": {},
   "outputs": [],
   "source": [
    "import numpy as np\n",
    "import cupy as cp\n",
    "import sys\n",
    "import pandas as pd\n",
    "import time\n",
    "import matplotlib.pyplot as plt\n",
    "import h5py\n",
    "from types import SimpleNamespace\n",
    "import warnings\n",
    "warnings.filterwarnings(\"ignore\", message=f\".*peer.*\")\n",
    "\n",
    "\n",
    "sys.path.insert(0, '..')\n",
    "from utils import *\n",
    "from rec import Rec"
   ]
  },
  {
   "cell_type": "markdown",
   "id": "3c0fdd65-1cff-451e-865e-56cd8b7882a6",
   "metadata": {},
   "source": [
    "# Init data sizes and parametes of the PXM of ID16A"
   ]
  },
  {
   "cell_type": "code",
   "execution_count": null,
   "id": "ab45f3eb",
   "metadata": {},
   "outputs": [],
   "source": [
    "with h5py.File(f'/data/vnikitin/ESRF/ID16A/20240924_h5/AtomiumS2/AtomiumS2_codedht_random_007nm/data.h5') as fid:\n",
    "    sx0 = fid['/exchange/sx0'][0]    \n",
    "    detector_pixelsize = fid['/exchange/detector_pixelsize'][0]    \n",
    "    focusToDetectorDistance = fid['/exchange/focusdetectordistance'][0]    \n",
    "    z10 = fid['/exchange/z1'][0]    \n",
    "    theta = fid['/exchange/theta'][:]\n",
    "    shifts = fid['/exchange/shifts'][:]\n",
    "    attrs = fid['/exchange/attrs'][:]\n",
    "    pos_shifts = fid['/exchange/pos_shifts'][:]*1e-6\n",
    "    pos_shifts-=pos_shifts[0]"
   ]
  },
  {
   "cell_type": "code",
   "execution_count": null,
   "id": "59fa16f2-1f9c-4b3a-a330-e10942f12234",
   "metadata": {},
   "outputs": [],
   "source": [
    "z1c = -17.75e-3\n",
    "energy = 33.35  # [keV] xray energy\n",
    "wavelength = 1.2398419840550367e-09/energy  # [m] wave length\n",
    "z1 = z10 - sx0\n",
    "z2 = focusToDetectorDistance-z1\n",
    "distance = (z1*z2)/focusToDetectorDistance\n",
    "magnifications = focusToDetectorDistance/z1\n",
    "voxelsize = np.abs(detector_pixelsize/magnifications)\n",
    "magnifications2 = z1/z1c\n",
    "distancec = (z1-z1c)/(z1c/z1)#magnifications2\n",
    "\n",
    "show = True\n",
    "print(distance,distancec)"
   ]
  },
  {
   "cell_type": "code",
   "execution_count": null,
   "id": "a29c8752",
   "metadata": {},
   "outputs": [],
   "source": [
    "pos_shifts/=voxelsize\n",
    "pos_shifts[:,1]*=-1"
   ]
  },
  {
   "cell_type": "code",
   "execution_count": null,
   "id": "333d09c7",
   "metadata": {},
   "outputs": [],
   "source": [
    "theta_step = 1\n",
    "theta = theta[::theta_step]\n",
    "attrs = attrs[::theta_step]\n",
    "shifts = shifts[::theta_step]\n",
    "pos_shifts = pos_shifts[::theta_step]\n",
    "ntheta = len(theta)"
   ]
  },
  {
   "cell_type": "markdown",
   "id": "49eb1696-bb30-496e-8c3d-565f2791112c",
   "metadata": {},
   "source": [
    "## Read data"
   ]
  },
  {
   "cell_type": "code",
   "execution_count": null,
   "id": "c23a78d2",
   "metadata": {},
   "outputs": [],
   "source": [
    "\n",
    "with h5py.File(f'/data/vnikitin/ESRF/ID16A/20240924_h5/AtomiumS2/AtomiumS2_codedht_random_007nm/data.h5') as fid:\n",
    "    data = fid['/exchange/data'][::theta_step].astype('float32')\n",
    "    ref0 = fid['/exchange/data_white0'][:].astype('float32')\n",
    "    ref1 = fid['/exchange/data_white1'][:].astype('float32')\n",
    "    dark = fid['/exchange/data_dark'][:].astype('float32')\n"
   ]
  },
  {
   "cell_type": "code",
   "execution_count": null,
   "id": "33a9dfe8",
   "metadata": {},
   "outputs": [],
   "source": [
    "mm = np.mean(data,axis=(1,2))\n",
    "\n",
    "\n",
    "plt.plot(mm/mm[0],label='average')\n",
    "plt.plot(attrs[:,0]/attrs[0,0],label='1')\n",
    "plt.plot(attrs[:,1]/attrs[0,1],label='2')\n",
    "plt.plot(attrs[:,2]/attrs[0,2],label='3')\n",
    "plt.legend()\n"
   ]
  },
  {
   "cell_type": "markdown",
   "id": "f7398276",
   "metadata": {},
   "source": [
    "# Pre-processing"
   ]
  },
  {
   "cell_type": "code",
   "execution_count": null,
   "id": "e1d4e4eb",
   "metadata": {},
   "outputs": [],
   "source": [
    "import cupyx.scipy.ndimage as ndimage\n",
    "def remove_outliers(data, dezinger, dezinger_threshold):    \n",
    "    res = data.copy()\n",
    "    w = [dezinger,dezinger]\n",
    "    for k in range(data.shape[0]):\n",
    "        data0 = cp.array(data[k])\n",
    "        fdata = ndimage.median_filter(data0, w)\n",
    "        print(np.sum(np.abs(data0-fdata)>fdata*dezinger_threshold))\n",
    "        res[k] = np.where(np.abs(data0-fdata)>fdata*dezinger_threshold, fdata, data0).get()\n",
    "    return res\n",
    "\n",
    "dark = np.mean(dark,axis=0)\n",
    "data -= dark\n",
    "ref0-=dark\n",
    "ref1-=dark\n",
    "\n",
    "data[data<0]=0\n",
    "ref0[ref0<0] = 0\n",
    "ref1[ref1<0] = 0\n",
    "data[:,1320//3:1320//3+25//3,890//3:890//3+25//3] = data[:,1280//3:1280//3+25//3,890//3:890//3+25//3]\n",
    "ref0[:,1320//3:1320//3+25//3,890//3:890//3+25//3] = ref0[:,1280//3:1280//3+25//3,890//3:890//3+25//3]\n",
    "ref1[:,1320//3:1320//3+25//3,890//3:890//3+25//3] = ref1[:,1280//3:1280//3+25//3,890//3:890//3+25//3]\n",
    "\n",
    "data = remove_outliers(data, 3, 0.8)    \n",
    "ref0 = remove_outliers(ref0, 3, 0.8)    \n",
    "ref1 = remove_outliers(ref1, 3, 0.8)    \n",
    "\n",
    "mshow(data[0],mshow)"
   ]
  },
  {
   "cell_type": "code",
   "execution_count": null,
   "id": "258782c2",
   "metadata": {},
   "outputs": [],
   "source": [
    "ref0=np.mean(ref0,axis=0)\n",
    "cnorm = np.mean(ref0)\n",
    "data=data/cnorm/(attrs[:,1]/attrs[0,1])[:,np.newaxis,np.newaxis]\n",
    "ref0/=cnorm\n"
   ]
  },
  {
   "cell_type": "code",
   "execution_count": null,
   "id": "a6e2ef74",
   "metadata": {},
   "outputs": [],
   "source": [
    "iter=8192\n",
    "path_code = '/data/vnikitin/ESRF/ID16A/20240924_rec0224/SiemensLH/code2um_nfp18x18_01/bets_final_256_0.05_2/'\n",
    "code_angle = read_tiff(f'{path_code}/rec_psi_angle/{iter:04}.tiff')\n",
    "code_abs = read_tiff(f'{path_code}/rec_psi_abs/{iter:04}.tiff')\n",
    "code = code_abs*np.exp(1j*code_angle)\n",
    "mshow_polar(code,show)\n",
    "\n",
    "q_angle = read_tiff(f'{path_code}/rec_prb_angle/{iter:04}.tiff')\n",
    "q_abs = read_tiff(f'{path_code}/rec_prb_abs/{iter:04}.tiff')\n",
    "q = q_abs*np.exp(1j*q_angle)\n",
    "mshow_polar(q,show)"
   ]
  },
  {
   "cell_type": "code",
   "execution_count": null,
   "id": "6473a6ba",
   "metadata": {},
   "outputs": [],
   "source": [
    "args = SimpleNamespace()\n",
    "\n",
    "args.ngpus = 1#int(sys.args[1])\n",
    "args.n = 8704\n",
    "args.ncode = 8704\n",
    "args.npsi = 8704\n",
    "args.pad = 0\n",
    "args.nq = 8704\n",
    "args.ex = 0\n",
    "args.npatch = 8704\n",
    "args.npos = 1\n",
    "args.nchunk = 1\n",
    "args.ntheta=1\n",
    "args.theta=np.array([0])\n",
    "args.rotation_axis=0\n",
    "\n",
    "args.voxelsize = voxelsize\n",
    "args.wavelength = wavelength\n",
    "args.distance = distance\n",
    "args.distancec = distancec\n",
    "\n",
    "# doesnt matter\n",
    "args.lam = 0\n",
    "args.eps = 1e-8\n",
    "args.rho = [1, 0.01, 0.1]\n",
    "args.crop = 0\n",
    "args.path_out = \"\"\n",
    "args.niter = 2049\n",
    "args.err_step = 1\n",
    "args.vis_step = 8\n",
    "args.method = \"BH-CG\"\n",
    "\n",
    "args.show = True\n",
    "\n",
    "# create class\n",
    "cl_rec = Rec(args)"
   ]
  },
  {
   "cell_type": "code",
   "execution_count": null,
   "id": "126b51ff",
   "metadata": {},
   "outputs": [],
   "source": [
    "code =cp.array(code)\n",
    "cdata = np.abs(cl_rec.D(cl_rec.Dc(code[np.newaxis]))[0])**2\n",
    "mshow(cdata,show)\n",
    "mshow(cdata[2000:4048,2000:4048],show)"
   ]
  },
  {
   "cell_type": "code",
   "execution_count": null,
   "id": "609a3b4d",
   "metadata": {},
   "outputs": [],
   "source": [
    "args.ngpus = 4\n",
    "args.n = 2048\n",
    "args.pad = args.n // 8\n",
    "args.npsi = args.n + 2 * args.pad\n",
    "args.nq = args.n + 2 * args.pad\n",
    "args.ex = 8\n",
    "args.npatch = args.nq + 2 * args.ex\n",
    "args.nchunk = 4\n",
    "args.ntheta = len(theta)\n",
    "args.theta = theta\n",
    "cl_rec = Rec(args)"
   ]
  },
  {
   "cell_type": "code",
   "execution_count": null,
   "id": "2e43a2fd",
   "metadata": {},
   "outputs": [],
   "source": [
    "ref = np.abs(cl_rec.D(cl_rec.Dc(q[np.newaxis]))[0])**2\n",
    "rdata = data/(ref+1e-6)\n",
    "rref0 = ref0/(ref+1e-6)\n",
    "mshow(ref,show,vmax=3)\n",
    "mshow(rdata[0],show,vmax=3)\n",
    "mshow(rref0,show,vmax=3)"
   ]
  },
  {
   "cell_type": "code",
   "execution_count": null,
   "id": "17cfe42d",
   "metadata": {},
   "outputs": [],
   "source": [
    "def my_phase_corr(d1, d2):\n",
    "    image_product = np.fft.fft2(d1) * np.fft.fft2(d2).conj()\n",
    "    cc_image = np.fft.fftshift(np.fft.ifft2(image_product))\n",
    "    ind = np.unravel_index(np.argmax(cc_image.real, axis=None), cc_image.real.shape)\n",
    "    shifts = cp.zeros(2,'float32')\n",
    "    shifts[0] = ind[0]\n",
    "    shifts[1] = ind[1]\n",
    "    shifts -= d1.shape[-1]//2\n",
    "    return shifts.get()\n",
    "\n",
    "shifts_code_ref = np.zeros([args.ntheta,2],dtype='float32')\n",
    "a = cp.array(cdata)\n",
    "nn = cdata.shape[-1]\n",
    "rrref0=rref0.copy()\n",
    "b = cp.pad(cp.array(rref0),((nn//2-args.n//2,nn//2-args.n//2),(nn//2-args.n//2,nn//2-args.n//2)),'constant',constant_values=1)\n",
    "shifts_code_ref = -my_phase_corr(a,b)\n",
    "aa = a[nn//2-shifts_code_ref[0]-args.n//2:nn//2-shifts_code_ref[0]+args.n//2,\n",
    "        nn//2-shifts_code_ref[1]-args.n//2:nn//2-shifts_code_ref[1]+args.n//2]\n",
    "bb = cp.array(rref0)\n",
    "rrref0 = (bb/aa).get()\n",
    "mshow_complex(bb+1j*aa,show,vmax=2)\n",
    "mshow_complex(bb[512:1024,512:1024]+1j*aa[512:1024,512:1024],show,vmax=2)\n",
    "mshow(rrref0[512:1024,512:1024],show,vmin=0.5,vmax=1.5)\n",
    "print(shifts_code_ref)\n",
    "np.save('shifts_code_ref',shifts_code_ref)"
   ]
  },
  {
   "cell_type": "markdown",
   "id": "233b06b6",
   "metadata": {},
   "source": [
    "# find shift with 1 pixel accuracy"
   ]
  },
  {
   "cell_type": "code",
   "execution_count": null,
   "id": "69cc96b5",
   "metadata": {},
   "outputs": [],
   "source": [
    "def my_phase_corr(d1, d2):\n",
    "    image_product = np.fft.fft2(d1) * np.fft.fft2(d2).conj()\n",
    "    cc_image = np.fft.fftshift(np.fft.ifft2(image_product))\n",
    "    ind = np.unravel_index(np.argmax(cc_image.real, axis=None), cc_image.real.shape)\n",
    "    shifts = cp.zeros(2,'float32')\n",
    "    shifts[0] = ind[0]\n",
    "    shifts[1] = ind[1]\n",
    "    shifts -= d1.shape[-1]//2\n",
    "    return shifts.get()\n",
    "\n",
    "shifts_code = np.zeros([args.ntheta,2],dtype='float32')\n",
    "a = cp.array(cdata)\n",
    "nn = cdata.shape[-1]\n",
    "rrdata=rdata.copy()\n",
    "for k in range(rdata.shape[0]):        \n",
    "    b = cp.pad(cp.array(rdata[k]),((nn//2-args.n//2,nn//2-args.n//2),(nn//2-args.n//2,nn//2-args.n//2)),'constant',constant_values=1)\n",
    "    shift = -my_phase_corr(a,b)\n",
    "    # mshow_complex(a+1j*b,show,vmax=2)\n",
    "    shifts_code[k] = shift\n",
    "    print(shift)\n",
    "    aa = a[nn//2-shift[0]-args.n//2:nn//2-shift[0]+args.n//2,\n",
    "           nn//2-shift[1]-args.n//2:nn//2-shift[1]+args.n//2]\n",
    "    bb = cp.array(rdata[k])\n",
    "    rrdata[k] = (bb/aa).get()\n",
    "mshow_complex(bb+1j*aa,show,vmax=2)\n",
    "mshow(rrdata[-1],show,vmin=0.5,vmax=1.5)\n",
    "print(shifts_code)\n",
    "np.save('shifts_code',shifts_code)"
   ]
  },
  {
   "cell_type": "markdown",
   "id": "2d3e1339",
   "metadata": {},
   "source": []
  },
  {
   "cell_type": "code",
   "execution_count": null,
   "id": "d03be768",
   "metadata": {},
   "outputs": [],
   "source": [
    "import dxchange\n",
    "dxchange.write_tiff_stack(rrdata,'/data/tmp/rdata/r',overwrite=True)"
   ]
  },
  {
   "cell_type": "code",
   "execution_count": null,
   "id": "4ec157aa",
   "metadata": {},
   "outputs": [],
   "source": [
    "shifts[:5]\n",
    "shifts_cor = shifts[:,::-1].copy()\n",
    "v=np.arange(-ntheta//2,ntheta//2)/(ntheta//2)\n",
    "cc = 4*v**2\n",
    "cc[3*ntheta//4:]+=8*(v[3*ntheta//4:]-v[3*ntheta//4])\n",
    "cc[7*ntheta//8:]+=8*(v[7*ntheta//8:]-v[7*ntheta//8])\n",
    "shifts_cor[:,0]+=cc\n",
    "plt.plot(cc)\n",
    "plt.show()"
   ]
  },
  {
   "cell_type": "code",
   "execution_count": null,
   "id": "40081427",
   "metadata": {},
   "outputs": [],
   "source": [
    "def S(psi, p):\n",
    "    \"\"\"Apply shift for all projections.\"\"\"\n",
    "    res=psi.copy()\n",
    "    for k in range(p.shape[0]):\n",
    "        psi0 = cp.array(psi[k:k+1])\n",
    "        p0 = cp.array(p[k:k+1])\n",
    "        tmp = cp.pad(psi0,((0,0),(args.n//2,args.n//2),(args.n//2,args.n//2)), 'symmetric')\n",
    "        [x, y] = cp.meshgrid(cp.fft.rfftfreq(2*args.n),\n",
    "                            cp.fft.fftfreq(2*args.n))\n",
    "        shift = cp.exp(-2*cp.pi*1j *\n",
    "                    (x*p0[:, 1, None, None]+y*p0[:, 0, None, None]))\n",
    "        res0 = cp.fft.irfft2(shift*cp.fft.rfft2(tmp))\n",
    "        res[k] = res0[:, args.n//2:3*args.n//2, args.n//2:3*args.n//2].get()\n",
    "    return res\n",
    "\n",
    "srrdata = S(rrdata,-shifts_cor)\n",
    "dxchange.write_tiff_stack(srrdata,'/data/tmp/s2rdata/r',overwrite=True)"
   ]
  },
  {
   "cell_type": "code",
   "execution_count": null,
   "id": "e66116d4",
   "metadata": {},
   "outputs": [],
   "source": [
    "np.save('shifts_cor',shifts_cor)"
   ]
  },
  {
   "cell_type": "code",
   "execution_count": null,
   "id": "cdb53e0a",
   "metadata": {},
   "outputs": [],
   "source": [
    "ri = np.round(shifts_code).astype('int32')\n",
    "r = shifts_code-ri\n",
    "\n",
    "cdata2 = np.abs(cl_rec.D(cl_rec.Dc(cl_rec.S(ri,r,code)*q)))**2"
   ]
  },
  {
   "cell_type": "code",
   "execution_count": null,
   "id": "226a6902",
   "metadata": {},
   "outputs": [],
   "source": [
    "print(voxelsize)\n",
    "mshow(data[0],show)\n",
    "mshow(cdata2[0],show)"
   ]
  },
  {
   "cell_type": "code",
   "execution_count": null,
   "id": "78d86592",
   "metadata": {},
   "outputs": [],
   "source": [
    "mshow(data[2]/cdata2[2],show,vmax=1.5,vmin=0.6)"
   ]
  },
  {
   "cell_type": "code",
   "execution_count": null,
   "id": "e7b9e629",
   "metadata": {},
   "outputs": [],
   "source": [
    "cdata=cdata.get()"
   ]
  },
  {
   "cell_type": "code",
   "execution_count": null,
   "id": "c2596832",
   "metadata": {},
   "outputs": [],
   "source": [
    "code=code.get()"
   ]
  },
  {
   "cell_type": "code",
   "execution_count": null,
   "id": "3ec781b1",
   "metadata": {},
   "outputs": [],
   "source": [
    "\n",
    "path_out = '/data/vnikitin/ESRF/ID16A/20240924_h5/AtomiumS2/AtomiumS2_codedht_random_007nm/'\n",
    "\n",
    "with  h5py.File(f'{path_out}/data_corrected.h5','w') as fid:\n",
    "    fid.create_dataset('/exchange/cdata2',data=cdata2)\n",
    "    fid.create_dataset('/exchange/cdata',data=cdata)\n",
    "    fid.create_dataset('/exchange/ref',data=ref)\n",
    "    fid.create_dataset('/exchange/prb',data=q)\n",
    "    fid.create_dataset('/exchange/code',data=code)\n",
    "    fid.create_dataset('/exchange/shifts_cor',data=shifts_cor)\n",
    "    fid.create_dataset('/exchange/shifts_code',data=shifts_code)\n",
    "    dvoxelsize = fid.create_dataset('/exchange/voxelsize',shape=(1,),dtype='float32')\n",
    "    dvoxelsize[0]=voxelsize\n",
    "    dsx0 = fid.create_dataset('/exchange/sx0',shape=(1,),dtype='float32')\n",
    "    dsx0[0] = sx0\n",
    "    dz1 = fid.create_dataset('/exchange/z1',shape=(1,),dtype='float32')\n",
    "    dz1[0]=z10\n",
    "    ddetector_pixelsize = fid.create_dataset('/exchange/detector_pixelsize',shape=(1,),dtype='float32')\n",
    "    ddetector_pixelsize[0]=detector_pixelsize\n",
    "    dfocusdetectordistance = fid.create_dataset('/exchange/focusdetectordistance',shape=(1,),dtype='float32')\n",
    "    dfocusdetectordistance[0]=focusToDetectorDistance\n",
    "    fid.create_dataset('/exchange/data',data=data)\n",
    "    fid.create_dataset('/exchange/ref0',data=ref0)\n",
    "    fid.create_dataset('/exchange/ref1',data=ref1)\n",
    "    fid.create_dataset('/exchange/theta',data=theta)\n",
    "\n",
    "\n"
   ]
  }
 ],
 "metadata": {
  "kernelspec": {
   "display_name": "holotomocupy",
   "language": "python",
   "name": "python3"
  },
  "language_info": {
   "codemirror_mode": {
    "name": "ipython",
    "version": 3
   },
   "file_extension": ".py",
   "mimetype": "text/x-python",
   "name": "python",
   "nbconvert_exporter": "python",
   "pygments_lexer": "ipython3",
   "version": "3.12.8"
  }
 },
 "nbformat": 4,
 "nbformat_minor": 5
}
