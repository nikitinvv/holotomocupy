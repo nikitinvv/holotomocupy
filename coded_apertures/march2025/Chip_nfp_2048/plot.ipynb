{
 "cells": [
  {
   "cell_type": "code",
   "execution_count": null,
   "metadata": {},
   "outputs": [],
   "source": [
    "import matplotlib.pyplot as plt\n",
    "import csv\n",
    "import numpy as np\n",
    "import matplotlib.patches as patches\n",
    "import matplotlib\n",
    "import tifffile\n",
    "import os\n",
    "%matplotlib inline"
   ]
  },
  {
   "cell_type": "code",
   "execution_count": null,
   "metadata": {},
   "outputs": [],
   "source": [
    "print(os.listdir('/data/vnikitin/ESRF/ID16A/20240924_rec0224/Chip_nfp10nm/'))"
   ]
  },
  {
   "cell_type": "code",
   "execution_count": null,
   "metadata": {},
   "outputs": [],
   "source": [
    "iter = 1024*2\n",
    "path = '/data/vnikitin/ESRF/ID16A/20240924_rec0224/Chip_nfp10nm/'\n",
    "names = ['nan_pad0_crop0_lam0.0_lamq0.0',\n",
    "         'none_pad0_crop0_lam0.0_lamq0.0',\n",
    "         'symmetric_pad0_crop0_lam0.0_lamq0.0',\n",
    "         'symmetric_pad384_crop512_lam0.0_lamq0.0',\n",
    "         'symmetric_pad384_crop512_lam0.002_lamq0.0',\n",
    "         'symmetric_pad384_crop512_lam0.0_lamq0.001',\n",
    "         'symmetric_pad384_crop512_lam0.002_lamq0.001',\n",
    "         ]\n",
    "for name in names:#os.listdir(path):\n",
    "    print(name)\n",
    "    try:\n",
    "        psi = tifffile.imread(f'{path}/{name}/rec_psi_abs/{iter:04}.tiff')*np.exp(1j*tifffile.imread(f'{path}/{name}/rec_psi_angle/{iter:04}.tiff'))\n",
    "        prb = tifffile.imread(f'{path}/{name}/rec_prb_abs/{iter:04}.tiff')*np.exp(1j*tifffile.imread(f'{path}/{name}/rec_prb_angle/{iter:04}.tiff'))\n",
    "\n",
    "        fig, ax = plt.subplots(2,2,figsize=(16,16))\n",
    "        im = ax[0,1].imshow(np.angle(psi),cmap='gray',vmin=-0.4,vmax=0.2)\n",
    "        rect = patches.Rectangle((psi.shape[-1]//2-1024, psi.shape[-1]//2-1024), 2048, 2048, linewidth=1, edgecolor='r', facecolor='none')\n",
    "        ax[0,1].add_patch(rect)\n",
    "\n",
    "        # fig.colorbar(im, fraction=0.046, pad=0.02)\n",
    "\n",
    "        im = ax[0,0].imshow(np.abs(psi),cmap='gray',vmin=0.8,vmax=1.1)\n",
    "        rect = patches.Rectangle((psi.shape[-1]//2-1024, psi.shape[-1]//2-1024), 2048, 2048, linewidth=1, edgecolor='r', facecolor='none')\n",
    "        ax[0,0].add_patch(rect)\n",
    "        # fig.colorbar(im, fraction=0.046, pad=0.02)\n",
    "\n",
    "        im = ax[1,1].imshow(np.angle(prb),cmap='gray',vmin=-1.8,vmax=1.8)\n",
    "        rect = patches.Rectangle((prb.shape[-1]//2-1024, prb.shape[-1]//2-1024), 2048, 2048, linewidth=1, edgecolor='r', facecolor='none')\n",
    "        ax[1,1].add_patch(rect)\n",
    "        # fig.colorbar(im, fraction=0.046, pad=0.02)\n",
    "\n",
    "        im = ax[1,0].imshow(np.abs(prb),cmap='gray',vmin=0.4,vmax=1.9)\n",
    "        rect = patches.Rectangle((prb.shape[-1]//2-1024, prb.shape[-1]//2-1024), 2048, 2048, linewidth=1, edgecolor='r', facecolor='none')\n",
    "        ax[1,0].add_patch(rect)\n",
    "        # fig.colorbar(im, fraction=0.046, pad=0.02)\n",
    "        plt.suptitle(name)\n",
    "        plt.savefig(f'{name}.png',dpi=300,bbox_inches='tight')\n",
    "\n",
    "        ax[0,0].set_xlim([psi.shape[-1]//2+512+256,psi.shape[-1]])\n",
    "        ax[0,0].set_ylim([psi.shape[-1]//2-384,psi.shape[-1]//2+128])\n",
    "        ax[0,1].set_xlim([psi.shape[-1]//2+512+256,psi.shape[-1]])\n",
    "        ax[0,1].set_ylim([psi.shape[-1]//2-384,psi.shape[-1]//2+128])\n",
    "        ax[1,0].set_xlim([prb.shape[-1]//2+512+256,prb.shape[-1]])\n",
    "        ax[1,0].set_ylim([prb.shape[-1]//2-384,prb.shape[-1]//2+128])\n",
    "        ax[1,1].set_xlim([prb.shape[-1]//2+512+256,prb.shape[-1]])\n",
    "        ax[1,1].set_ylim([prb.shape[-1]//2-384,prb.shape[-1]//2+128])\n",
    "\n",
    "        plt.savefig(f'{name}zoom.png',dpi=300,bbox_inches='tight')\n",
    "        plt.show()\n",
    "    except:\n",
    "        pass\n",
    "\n"
   ]
  },
  {
   "cell_type": "code",
   "execution_count": null,
   "metadata": {},
   "outputs": [],
   "source": []
  }
 ],
 "metadata": {
  "kernelspec": {
   "display_name": "holotomocupy",
   "language": "python",
   "name": "python3"
  },
  "language_info": {
   "codemirror_mode": {
    "name": "ipython",
    "version": 3
   },
   "file_extension": ".py",
   "mimetype": "text/x-python",
   "name": "python",
   "nbconvert_exporter": "python",
   "pygments_lexer": "ipython3",
   "version": "3.12.8"
  }
 },
 "nbformat": 4,
 "nbformat_minor": 2
}
