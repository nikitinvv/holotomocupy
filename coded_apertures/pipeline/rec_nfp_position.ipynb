{
 "cells": [
  {
   "cell_type": "code",
   "execution_count": 15,
   "id": "fad77fab-e206-47c1-9655-088d14fe30cb",
   "metadata": {},
   "outputs": [],
   "source": [
    "import numpy as np\n",
    "import cupy as cp\n",
    "from holotomocupy.holo import G, GT\n",
    "from holotomocupy.shift import S, ST\n",
    "from holotomocupy.chunking import gpu_batch\n",
    "from holotomocupy.recon_methods import CTFPurePhase, multiPaganin\n",
    "from holotomocupy.proc import dai_yuan, linear\n",
    "import holotomocupy.chunking as chunking\n",
    "from holotomocupy.utils import *\n",
    "\n"
   ]
  },
  {
   "cell_type": "markdown",
   "id": "3c0fdd65-1cff-451e-865e-56cd8b7882a6",
   "metadata": {},
   "source": [
    "# Init data sizes and parametes of the PXM of ID16A"
   ]
  },
  {
   "cell_type": "code",
   "execution_count": 16,
   "id": "59fa16f2-1f9c-4b3a-a330-e10942f12234",
   "metadata": {},
   "outputs": [],
   "source": [
    "n = 512  # object size in each dimension\n",
    "\n",
    "noise = 0\n",
    "z1c = -19.5e-3\n",
    "# thickness of the coded aperture\n",
    "code_thickness = 1.8e-6 #in m\n",
    "# feature size\n",
    "ill_feature_size = 2e-6 #in m\n",
    "\n",
    "# ntheta = int(sys.argv[1])  # number of angles (rotations)\n",
    "# noise = int(sys.argv[2])#sys.argv[2]=='True'\n",
    "# z1c = float(sys.argv[3])  # positions of the code and the probe for reconstruction\n",
    "\n",
    "center = n/2 # rotation axis\n",
    "npos = 49  # number of code positions\n",
    "detector_pixelsize = 3e-6\n",
    "energy = 33.35  # [keV] xray energy\n",
    "wavelength = 1.2398419840550367e-09/energy  # [m] wave length\n",
    "focusToDetectorDistance = 1.28  # [m]\n",
    "sx0 = 3.7e-4\n",
    "z1 = z1c\n",
    "z1 = np.tile(z1, [npos])\n",
    "z2 = focusToDetectorDistance-z1\n",
    "distances = (z1*z2)/focusToDetectorDistance\n",
    "magnifications = focusToDetectorDistance/z1\n",
    "voxelsize = np.abs(detector_pixelsize/magnifications[0]*2048/n)  # object voxel size\n",
    "# allow padding if there are shifts of the probe\n",
    "pad = n//8\n",
    "# sample size after demagnification\n",
    "ne = 1200+2*pad\n",
    "\n",
    "show = True\n",
    "\n",
    "flg = f'{n}_{1}_{npos}_{z1c}_{noise}_code'\n",
    "path = f'/data2/vnikitin/nfp_codes'"
   ]
  },
  {
   "cell_type": "markdown",
   "id": "49eb1696-bb30-496e-8c3d-565f2791112c",
   "metadata": {},
   "source": [
    "## Read data"
   ]
  },
  {
   "cell_type": "code",
   "execution_count": 17,
   "id": "a7b82c4e",
   "metadata": {},
   "outputs": [
    {
     "name": "stdout",
     "output_type": "stream",
     "text": [
      "/data2/vnikitin/nfp_codes/data/data_0_512_1_49_-0.0195_0_code.tiff\n"
     ]
    }
   ],
   "source": [
    "data00 = np.zeros([1, npos, n, n], dtype='float32')\n",
    "ref0 = np.zeros([1, npos, n, n], dtype='float32')\n",
    "print(f'{path}/data/data_{0}_{flg}.tiff')\n",
    "for k in range(npos):\n",
    "    data00[:, k] = read_tiff(f'{path}/data/data_{k}_{flg}.tiff')[:1]\n",
    "for k in range(npos):\n",
    "    ref0[:, k] = read_tiff(f'{path}/data/ref_{k}_{flg}.tiff')[:]\n",
    "code = np.load(f'{path}/data/code_{flg}.npy')\n",
    "shifts = np.load(f'{path}/data/shifts_code_{flg}.npy')[:, :npos]\n",
    "\n"
   ]
  },
  {
   "cell_type": "markdown",
   "id": "daee2463",
   "metadata": {},
   "source": [
    "# Construct operators\n"
   ]
  },
  {
   "cell_type": "code",
   "execution_count": 18,
   "id": "adf88f3b",
   "metadata": {},
   "outputs": [
    {
     "name": "stdout",
     "output_type": "stream",
     "text": [
      "(23553720+1.443875789642334j)==\n",
      "(23553720-1.5848499596016197e-11j)\n",
      "(15706361-0.1342606544494629j)==\n",
      "(15706361+4.0612278098706156e-05j)\n"
     ]
    }
   ],
   "source": [
    "def Lop(psi):\n",
    "    psi = cp.array(psi)\n",
    "\n",
    "    data = cp.zeros([psi.shape[0], npos, n, n], dtype='complex64')\n",
    "    for i in range(npos):\n",
    "        psir = psi[:,i].copy()       \n",
    "        psir = G(psir, wavelength, voxelsize, distances[i])\n",
    "        data[:, i] = psir[:, pad:n+pad, pad:n+pad]\n",
    "    return data\n",
    "\n",
    "def LTop(data):\n",
    "    psi = cp.zeros([data.shape[0],npos, n+2*pad, n+2*pad], dtype='complex64')\n",
    "\n",
    "    for j in range(npos):\n",
    "        psir = cp.pad(data[:, j], ((0, 0), (pad, pad), (pad, pad))).astype('complex64')\n",
    "        psir = GT(psir, wavelength, voxelsize, distances[j])        \n",
    "        psi[:,j] = psir#cp.pad(psir,((0,0),(ne//2-n//2-pad,ne//2-n//2-pad),(ne//2-n//2-pad,ne//2-n//2-pad)))                \n",
    "    return psi\n",
    "\n",
    "def Sop(psi,shifts):\n",
    "    psi = cp.array(psi)\n",
    "\n",
    "    data = cp.zeros([psi.shape[0], npos, n+2*pad, n+2*pad], dtype='complex64')\n",
    "    for i in range(npos):\n",
    "        psir = psi.copy()\n",
    "    \n",
    "        # shift and crop the code \n",
    "        psir = S(psir, shifts[:, i])\n",
    "        nee = psir.shape[1]        \n",
    "        data[:,i] = psir[:, nee//2-n//2-pad:nee//2+n//2+pad, nee//2-n//2-pad:nee//2+n//2+pad]\n",
    "    return data\n",
    "\n",
    "def STop(data,shifts):\n",
    "    psi = cp.zeros([data.shape[0], ne, ne], dtype='complex64')\n",
    "\n",
    "    for j in range(npos):\n",
    "        psir = cp.pad(data[:,j],((0,0),(ne//2-n//2-pad,ne//2-n//2-pad),(ne//2-n//2-pad,ne//2-n//2-pad)))        \n",
    "        psi += ST(psir,shifts[:,j])\n",
    "    return psi\n",
    "\n",
    "\n",
    "data = cp.array(data00)\n",
    "arr1 = cp.pad(data[:,0],((0,0),(ne//2-n//2,ne//2-n//2),(ne//2-n//2,ne//2-n//2)),'symmetric')     \n",
    "prb1 = cp.ones([1,n+2*pad,n+2*pad],dtype='complex64')\n",
    "shifts = cp.array(shifts)\n",
    "arr2 = Sop(arr1,shifts)\n",
    "arr3 = STop(arr2,shifts)\n",
    "\n",
    "arr4 = Lop(arr2)\n",
    "arr5 = LTop(arr4)\n",
    "\n",
    "\n",
    "print(f'{cp.sum(arr1*cp.conj(arr3))}==\\n{cp.sum(arr2*cp.conj(arr2))}')\n",
    "print(f'{cp.sum(arr2*cp.conj(arr5))}==\\n{cp.sum(arr4*cp.conj(arr4))}')\n",
    "\n"
   ]
  },
  {
   "cell_type": "markdown",
   "id": "1fe0cb15",
   "metadata": {},
   "source": [
    "#### Reconstruction with the CG (Carlsson) with Hessians"
   ]
  },
  {
   "cell_type": "markdown",
   "id": "4fe7a916",
   "metadata": {},
   "source": [
    "#### $$\\nabla F=2 \\left(L^*\\left( L(M(q_0,\\psi_0,\\boldsymbol{x}_0))-\\tilde D\\right)\\right).$$\n",
    "#### where $$\\tilde D = D \\frac{L(M(q_0,\\psi_0,\\boldsymbol{x}_0))}{|L(M(q_0,\\psi_0,\\boldsymbol{x}_0))|}$$\n",
    "\n"
   ]
  },
  {
   "cell_type": "code",
   "execution_count": 19,
   "id": "f95197e6",
   "metadata": {},
   "outputs": [],
   "source": [
    "def gradientF(psi,q,x,d):\n",
    "    Lpsi = Lop(Sop(psi,x)*q)\n",
    "    td = d*(Lpsi/cp.abs(Lpsi))\n",
    "    res = 2*LTop(Lpsi - td)\n",
    "    return res"
   ]
  },
  {
   "cell_type": "markdown",
   "id": "5775c155",
   "metadata": {},
   "source": [
    "#### $$\\frac{1}{2}\\mathcal{H}|_{x_0}(y,z)= \\left\\langle \\mathbf{1}-d_{0}, \\mathsf{Re}({L(y)}\\overline{L(z)})\\right\\rangle+\\left\\langle d_{0},(\\mathsf{Re} (\\overline{l_0}\\cdot L(y)))\\cdot (\\mathsf{Re} (\\overline{l_0}\\cdot L(z)))\\right\\rangle.$$\n",
    "#### $$l_0=L(x_0)/|L(x_0)|$$\n",
    "#### $$d_0=d/|L(x_0)|$$\n"
   ]
  },
  {
   "cell_type": "code",
   "execution_count": 20,
   "id": "5c1410c4",
   "metadata": {},
   "outputs": [],
   "source": [
    "def hessianF(hpsi,hpsi1,hpsi2,data):\n",
    "    Lpsi = Lop(hpsi)        \n",
    "    Lpsi1 = Lop(hpsi1)\n",
    "    Lpsi2 = Lop(hpsi2)    \n",
    "    l0 = Lpsi/cp.abs(Lpsi)\n",
    "    d0 = data/cp.abs(Lpsi)\n",
    "    v1 = cp.sum((1-d0)*cp.conj(cp.real(Lpsi1*cp.conj(Lpsi2))))\n",
    "    v2 = cp.sum(d0*cp.conj(\n",
    "        cp.real(cp.conj(l0)*Lpsi1)*\n",
    "        cp.real(cp.conj(l0)*Lpsi2)))\n",
    "    return 2*(v1+v2)"
   ]
  },
  {
   "cell_type": "markdown",
   "id": "16e5f33f",
   "metadata": {},
   "source": [
    "##### $$\\nabla_{\\psi} G|_{(q_0,\\psi_0,\\boldsymbol{x}_0)}=S_{\\boldsymbol{x}_{0}}^*\\left(\\overline{J(q_0)}\\cdot \\nabla F\\right).$$\n",
    "##### $$\\nabla_{q} G|_{(q_0,\\psi_0,\\boldsymbol{x}_0)}=J^*\\left( \\overline{S_{\\boldsymbol{x}_{0}}(\\psi_0)}\\cdot \\nabla F\\right).$$\n",
    "##### $$\\nabla_{\\boldsymbol{x}_0} G|_{(q_0,\\psi_0,\\boldsymbol{x}_0)}=\\textsf{Re}\\Big(\\big( \\Big\\langle \\overline{q_0}\\cdot \\nabla F,   C(\\mathcal{F}^{-1}(\\xi_1 e^{ \\boldsymbol{x}_{0,k}\\cdot \\boldsymbol{\\xi}}\\hat{\\psi_0}))\\Big\\rangle,\\Big\\langle \\overline{q_0}\\cdot \\nabla F,C(\\mathcal{F}^{-1}(\\xi_2 e^{ \\boldsymbol{x}_{0,k}\\cdot \\boldsymbol{\\xi}}\\hat{\\psi_0})) \\Big\\rangle\\big)\\Big)_{k=1}^K. $$\n",
    "\n",
    "### Adjustments\n",
    "#### $$ \\xi = -2\\pi i \\tilde{\\xi}$$\n",
    "#### new operator $$T_{\\psi,w}(x) = C(\\mathcal{F}^{-1}(w e^{ \\boldsymbol{x}_{0}\\cdot \\boldsymbol{\\xi}}\\hat{\\psi_0}))$$\n",
    "\n",
    "\n"
   ]
  },
  {
   "cell_type": "code",
   "execution_count": 21,
   "id": "d316207d",
   "metadata": {},
   "outputs": [],
   "source": [
    "def _Tw0(psi, x, w, ptype='constant'):\n",
    "    res = psi.copy()\n",
    "    n = res.shape[-1]        \n",
    "    p = cp.pad(x, (0, res.shape[0]-x.shape[0]))    \n",
    "    res = cp.pad(res, ((0, 0), (n//2, n//2), (n//2, n//2)), ptype)\n",
    "    \n",
    "    xi = cp.fft.fftfreq(2*n).astype('float32')\n",
    "    [xi2, xi1] = cp.meshgrid(xi, xi)\n",
    "\n",
    "    pp = cp.exp(-2*cp.pi*1j * (xi1*p[:, 0, None, None]+xi2*p[:, 1, None, None]))\n",
    "    \n",
    "    pp = pp*w\n",
    "    res = cp.fft.ifft2(pp*cp.fft.fft2(res))    \n",
    "    res = res[:, n//2:-n//2, n//2:-n//2]\n",
    "    return res\n",
    "\n",
    "def Twop(psi,x,w):\n",
    "    data = cp.zeros([psi.shape[0], npos, n+2*pad, n+2*pad], dtype='complex64')\n",
    "    for i in range(npos):\n",
    "        psir = psi.copy()            \n",
    "        psir = _Tw0(psir, x[:, i],w)\n",
    "        nee = psir.shape[1]        \n",
    "        data[:,i] = psir[:, nee//2-n//2-pad:nee//2+n//2+pad, nee//2-n//2-pad:nee//2+n//2+pad]        \n",
    "    return data\n",
    "\n",
    "def gradients(psi,q,x,d):\n",
    "    gradF = gradientF(psi,q,x,d)\n",
    "\n",
    "    gradpsi = STop(cp.conj(q)*gradF,x)\n",
    "    gradq = cp.sum(cp.conj(Sop(psi,x))*gradF,axis=1)\n",
    "    \n",
    "    n = psi.shape[-1]\n",
    "    xi1 = cp.fft.fftfreq(2*n).astype('float32')    \n",
    "    xi1 = xi1*(-2*cp.pi*1j)##!!!\n",
    "\n",
    "    [xi2, xi1] = cp.meshgrid(xi1, xi1)\n",
    "    tksi1 = Twop(psi,x,xi1)\n",
    "    tksi2 = Twop(psi,x,xi2)\n",
    "        \n",
    "    gradx = cp.zeros([1,npos,2],dtype='float32')\n",
    "    gradx[:,:,0] = cp.real(cp.sum(cp.conj(q)*gradF*cp.conj(tksi1),axis=(2,3)))\n",
    "    gradx[:,:,1] = cp.real(cp.sum(cp.conj(q)*gradF*cp.conj(tksi2),axis=(2,3)))\n",
    "    return gradpsi,gradq,gradx\n",
    "\n",
    "    "
   ]
  },
  {
   "cell_type": "markdown",
   "id": "dd89a378",
   "metadata": {},
   "source": [
    "#### $$ D T_\\psi|_{{\\boldsymbol{z}_0}}(\\Delta \\boldsymbol{z})=C(\\mathcal{F}^{-1}(\\xi_1 e^{ \\boldsymbol{z}_0\\cdot \\boldsymbol{\\xi}}\\hat{\\psi}))\\Delta {z}_{1}+C(\\mathcal{F}^{-1}(\\xi_2 e^{ \\boldsymbol{z}_0\\cdot \\boldsymbol{\\xi}}\\hat{\\psi}))\\Delta {z}_2$$"
   ]
  },
  {
   "cell_type": "code",
   "execution_count": 22,
   "id": "967395b7",
   "metadata": {},
   "outputs": [],
   "source": [
    "def DT(psi,x,dx):\n",
    "    xi1 = cp.fft.fftfreq(2*psi.shape[-1]).astype('float32')\n",
    "    xi1=xi1*(-2*cp.pi*1j)##!!!\n",
    "    [xi2, xi1] = cp.meshgrid(xi1, xi1)\n",
    "    tksi1 = Twop(psi,x,xi1)\n",
    "    tksi2 = Twop(psi,x,xi2)\n",
    "    res = tksi1*dx[:,:,0,None,None]+tksi2*dx[:,:,1,None,None]\n",
    "    return res"
   ]
  },
  {
   "cell_type": "code",
   "execution_count": null,
   "id": "793c1c26",
   "metadata": {},
   "outputs": [],
   "source": []
  },
  {
   "cell_type": "markdown",
   "id": "034d9dec",
   "metadata": {},
   "source": [
    "#### $$D^2{T_\\psi}|_{{\\boldsymbol{z}_0}}(\\Delta\\boldsymbol{z},\\Delta\\boldsymbol{w})=$$\n",
    "#### $$\\Delta {z}_{1}\\Delta {w}_{1} C(\\mathcal{F}^{-1}(\\xi_1^2 e^{ \\boldsymbol{z}_0\\cdot \\boldsymbol{\\xi}}\\hat{\\psi})) +(\\Delta {z}_{1}\\Delta {w}_{2} +$$\n",
    "#### $$ \\Delta {w}_{1}\\Delta {z}_{2})C(\\mathcal{F}^{-1}(\\xi_1\\xi_2 e^{ \\boldsymbol{z}_0\\cdot \\boldsymbol{\\xi}}\\hat{\\psi}))+\\Delta {z}_{2}\\Delta {w}_{2} C(\\mathcal{F}^{-1}(\\xi_2^2 e^{ \\boldsymbol{z}_0\\cdot \\boldsymbol{\\xi}}\\hat{\\psi}))$$"
   ]
  },
  {
   "cell_type": "code",
   "execution_count": 23,
   "id": "9839ffda",
   "metadata": {},
   "outputs": [],
   "source": [
    "def D2T(psi,x,dx1,dx2):\n",
    "    xi1 = cp.fft.fftfreq(2*psi.shape[-1]).astype('float32')\n",
    "    xi1=xi1*(-2*cp.pi*1j)##!!!\n",
    "    [xi2,xi1] = cp.meshgrid(xi1, xi1)\n",
    "\n",
    "    dx11 = dx1[:,:,:,None,None] \n",
    "    dx22 = dx2[:,:,:,None,None] \n",
    "    res = dx11[:,:,0]*dx22[:,:,0]*Twop(psi,x,xi1**2)+ \\\n",
    "         (dx11[:,:,0]*dx22[:,:,1]+dx11[:,:,1]*dx22[:,:,0])*Twop(psi,x,xi1*xi2)+ \\\n",
    "          dx11[:,:,1]*dx22[:,:,1]*Twop(psi,x,xi2**2)\n",
    "    return res"
   ]
  },
  {
   "cell_type": "markdown",
   "id": "bc9b25f8",
   "metadata": {},
   "source": [
    "#### $$ DM|_{(q_0,\\psi_0,\\boldsymbol{x})}(\\Delta q, \\Delta \\psi,\\Delta\\boldsymbol{x})=$$\n",
    "#### $$ \\Big(\\Delta q\\cdot T_{\\psi_0}({\\boldsymbol{x}_{0,k}})+ q_0\\cdot \\big(T_{\\Delta \\psi}({\\boldsymbol{x}_{0,k}})+  DT_{\\psi_0}|_{{\\boldsymbol{x}_{0,k}}}( \\Delta \\boldsymbol{x}_k)\\big) \\Big)_{k=1}^K=$$\n",
    "#### $$ J(\\Delta q)\\cdot S_{\\boldsymbol{x}_{0,k}}(\\psi_0)+ J(q_0)\\cdot S_{\\boldsymbol{x}_{0}}{(\\Delta \\psi)}+  \\Big(q_0\\cdot DT_{\\psi_0}|_{{\\boldsymbol{x}_{0,k}}}( \\Delta \\boldsymbol{x}_k) \\Big)_{k=1}^K$$\n"
   ]
  },
  {
   "cell_type": "code",
   "execution_count": 24,
   "id": "6e75db07",
   "metadata": {},
   "outputs": [],
   "source": [
    "def DM(psi,q,x,dpsi,dq,dx):\n",
    "    res= dq*Sop(psi,x)+q*(Sop(dpsi,x)+DT(psi,x,dx))   \n",
    "    return res"
   ]
  },
  {
   "cell_type": "markdown",
   "id": "a6526ae8",
   "metadata": {},
   "source": [
    "##### $$ D^2M|_{(q_0,\\psi_0,\\boldsymbol{x})}\\big((\\Delta q^{(1)}, \\Delta \\psi^{(1)},\\Delta\\boldsymbol{x}^{(1)}),(\\Delta q^{(2)}, \\Delta \\psi^{(2)},\\Delta\\boldsymbol{x}^{(2)})\\big)= $$\n",
    "##### $$\\Big( q_0\\cdot DT_{\\Delta\\psi^{(1)}}|_{{\\boldsymbol{x}_{0,k}}}( \\Delta \\boldsymbol{x}^{(2)})+q_0\\cdot DT_{\\Delta\\psi^{(2)}}|_{{\\boldsymbol{x}_{0,k}}}( \\Delta \\boldsymbol{x}^{(1)})+ q_0\\cdot D^2{T_\\psi}|_{{\\boldsymbol{x}_0}}(\\Delta\\boldsymbol{x}^{(1)},\\Delta\\boldsymbol{x}^{(2)})+$$\n",
    "##### $$\\Delta q^{(1)}\\cdot T_{\\Delta \\psi^{(2)}}({\\boldsymbol{x}_{0,k}})+\\Delta q^{(2)}\\cdot T_{\\Delta \\psi^{(1)}}({\\boldsymbol{x}_{0,k}})+ $$\n",
    "##### $$\\Delta q^{(1)}\\cdot DT_{\\psi_0}|_{{\\boldsymbol{x}_{0,k}}}( \\Delta \\boldsymbol{x}^{(2)})+\\Delta q^{(2)}\\cdot DT_{\\psi_0}|_{{\\boldsymbol{x}_{0,k}}}( \\Delta \\boldsymbol{x}^{(1)})\\Big)_{k=1}^K.$$\n"
   ]
  },
  {
   "cell_type": "code",
   "execution_count": 25,
   "id": "5a186ab6",
   "metadata": {},
   "outputs": [],
   "source": [
    "def D2M(psi,q,x,dpsi1,dq1,dx1,dpsi2,dq2,dx2):    \n",
    "    res =  q*DT(dpsi1,x,dx2) + q*DT(dpsi2,x,dx1) + q*D2T(psi,x,dx1,dx2)  \n",
    "    res += dq1*Sop(dpsi2,x) + dq2*Sop(dpsi1,x) \n",
    "    res += dq1*DT(psi,x,dx2) + dq2*DT(psi,x,dx1)\n",
    "    return res"
   ]
  },
  {
   "cell_type": "markdown",
   "id": "0ed7cdab",
   "metadata": {},
   "source": [
    "##### $$\\mathcal{H}^G|_{ (q_0,\\psi_0,\\boldsymbol{x}_0)}\\Big((\\Delta q^{(1)},\\Delta \\psi^{(1)},\\Delta \\boldsymbol{x}^{(1)}),(\\Delta q^{(2)},\\Delta \\psi^{(2)},\\Delta \\boldsymbol{x}^{(2)})\\Big)=$$\n",
    "##### $$\\Big\\langle \\nabla F|_{M(q_0,\\psi_0,\\boldsymbol{x}_0)}, D^2M|_{(q_0,\\psi_0,\\boldsymbol{x}_0)}\\Big((\\Delta q^{(1)},\\Delta \\psi^{(1)},\\Delta \\boldsymbol{x}^{(1)}),(\\Delta q^{(2)},\\Delta \\psi^{(2)},\\Delta \\boldsymbol{x}^{(2)})\\Big)\\Big\\rangle +$$\n",
    "##### $$\\mathcal{H}^F|_{M(q_0,\\psi_0,\\boldsymbol{x}_0)}\\Big(DM|_{(q_0,\\psi_0,\\boldsymbol{x}_0)}(\\Delta q^{(1)},\\Delta \\psi^{(1)},\\Delta \\boldsymbol{x}^{(1)}),DM|_{(q_0,\\psi_0,\\boldsymbol{x}_0)}(\\Delta q^{(2)},\\Delta \\psi^{(2)},\\Delta \\boldsymbol{x}^{(2)})\\Big).$$"
   ]
  },
  {
   "cell_type": "markdown",
   "id": "f7a5ee1e",
   "metadata": {},
   "source": []
  },
  {
   "cell_type": "code",
   "execution_count": 26,
   "id": "cffad99d",
   "metadata": {},
   "outputs": [],
   "source": [
    "def hessian2(psi,q,x,dpsi1,dq1,dx1,dpsi2,dq2,dx2,data):\n",
    "    gradF = gradientF(psi,q,x,data)\n",
    "\n",
    "    res = cp.real(cp.sum(gradF*cp.conj(D2M(psi,q,x,dpsi1,dq1,dx1,dpsi2,dq2,dx2))))\n",
    "    res += hessianF(Sop(psi,x)*q, DM(psi,q,x,dpsi1,dq1,dx1),DM(psi,q,x,dpsi2,dq2,dx2),data) \n",
    "        \n",
    "    return res"
   ]
  },
  {
   "cell_type": "markdown",
   "id": "62854fbe",
   "metadata": {},
   "source": []
  },
  {
   "cell_type": "code",
   "execution_count": 27,
   "id": "91e7991a",
   "metadata": {},
   "outputs": [],
   "source": [
    "def rec_init(ref0,data00,shifts):\n",
    "    ref0 = cp.array(ref0)\n",
    "    data00 = cp.array(data00)\n",
    "\n",
    "    rdata = data00/ref0\n",
    "    # mshow((rdata)[0,0],show,vmax=2)\n",
    "    recMultiPaganin = cp.zeros([1,npos,ne,ne],dtype='float32')\n",
    "    recMultiPaganinr = cp.zeros([1,npos,ne,ne],dtype='float32')# to compensate for overlap\n",
    "    for j in range(0,npos):\n",
    "        r = multiPaganin(rdata[:,j:j+1],\n",
    "                            distances[j:j+1], wavelength, voxelsize,  24.05, 5e-2)    \n",
    "        rr = r*0+1 # to compensate for overlap\n",
    "        r = cp.pad(r,((0,0), (ne//2-n//2,ne//2-n//2), (ne//2-n//2,ne//2-n//2)),'constant')   \n",
    "        rr = cp.pad(rr,((0,0), (ne//2-n//2,ne//2-n//2), (ne//2-n//2,ne//2-n//2)),'constant')   \n",
    "        recMultiPaganin[:,j] = ST(r,shifts[:,j])\n",
    "        recMultiPaganinr[:,j] = ST(rr,shifts[:,j])\n",
    "        \n",
    "    recMultiPaganin = cp.sum(recMultiPaganin,axis=1)\n",
    "    recMultiPaganinr = cp.sum(recMultiPaganinr,axis=1)\n",
    "\n",
    "    # avoid division by 0\n",
    "    recMultiPaganinr[np.abs(recMultiPaganinr)<5e-2] = 1\n",
    "\n",
    "    # compensate for overlap\n",
    "    recMultiPaganin /= recMultiPaganinr\n",
    "    recMultiPaganin = cp.exp(1j*recMultiPaganin)\n",
    "\n",
    "    # mshow_polar(recMultiPaganin[0],show)\n",
    "    # mshow_polar(recMultiPaganin[0,pad:-pad,pad:-pad],show)\n",
    "    return recMultiPaganin\n"
   ]
  },
  {
   "cell_type": "code",
   "execution_count": 128,
   "id": "3e22132b",
   "metadata": {},
   "outputs": [
    {
     "name": "stderr",
     "output_type": "stream",
     "text": [
      "/tmp/ipykernel_980242/3191795650.py:15: ComplexWarning: Casting complex values to real discards the imaginary part\n",
      "  recMultiPaganin[:,j] = ST(r,shifts[:,j])\n",
      "/tmp/ipykernel_980242/3191795650.py:16: ComplexWarning: Casting complex values to real discards the imaginary part\n",
      "  recMultiPaganinr[:,j] = ST(rr,shifts[:,j])\n"
     ]
    },
    {
     "name": "stdout",
     "output_type": "stream",
     "text": [
      "0.399\n",
      "2656.0\n",
      "2656\n"
     ]
    },
    {
     "data": {
      "image/png": "[encoded data removed]",
      "text/plain": [
       "<Figure size 900x300 with 4 Axes>"
      ]
     },
     "metadata": {},
     "output_type": "display_data"
    },
    {
     "data": {
      "image/png": "[encoded data removed]",
      "text/plain": [
       "<Figure size 900x300 with 4 Axes>"
      ]
     },
     "metadata": {},
     "output_type": "display_data"
    },
    {
     "data": {
      "image/png": "[encoded data removed]",
      "text/plain": [
       "<Figure size 900x300 with 4 Axes>"
      ]
     },
     "metadata": {},
     "output_type": "display_data"
    },
    {
     "ename": "NameError",
     "evalue": "name 'ss' is not defined",
     "output_type": "error",
     "traceback": [
      "\u001b[0;31m---------------------------------------------------------------------------\u001b[0m",
      "\u001b[0;31mNameError\u001b[0m                                 Traceback (most recent call last)",
      "Cell \u001b[0;32mIn[128], line 154\u001b[0m\n\u001b[1;32m    148\u001b[0m pars \u001b[38;5;241m=\u001b[39m {\u001b[38;5;124m'\u001b[39m\u001b[38;5;124mniter\u001b[39m\u001b[38;5;124m'\u001b[39m: \u001b[38;5;241m2\u001b[39m, \u001b[38;5;124m'\u001b[39m\u001b[38;5;124merr_step\u001b[39m\u001b[38;5;124m'\u001b[39m: \u001b[38;5;241m1\u001b[39m, \u001b[38;5;124m'\u001b[39m\u001b[38;5;124mvis_step\u001b[39m\u001b[38;5;124m'\u001b[39m: \u001b[38;5;241m0\u001b[39m}\n\u001b[1;32m    150\u001b[0m \u001b[38;5;66;03m# rec_prb = cp.array(np.load(f'{path}/data/prb_{flg}.npy'))\u001b[39;00m\n\u001b[1;32m    151\u001b[0m \u001b[38;5;66;03m# rec_psi = cp.array(np.load(f'{path}/data/psi_{flg}.npy'))\u001b[39;00m\n\u001b[1;32m    152\u001b[0m \u001b[38;5;66;03m# rec_psi = rec_psi[:,rec_psi.shape[1]//2-ne//2:rec_psi.shape[1]//2+ne//2,rec_psi.shape[2]//2-ne//2:rec_psi.shape[2]//2+ne//2]\u001b[39;00m\n\u001b[1;32m    153\u001b[0m \u001b[38;5;66;03m# np.save(f'{path}/data/psi_{flg}', psi)\u001b[39;00m\n\u001b[0;32m--> 154\u001b[0m rec_psi,rec_prb,conv,gammaha \u001b[38;5;241m=\u001b[39m \u001b[43mcg_holo\u001b[49m\u001b[43m(\u001b[49m\u001b[43mdata\u001b[49m\u001b[43m,\u001b[49m\u001b[43mref\u001b[49m\u001b[43m,\u001b[49m\u001b[43mrec_psi\u001b[49m\u001b[43m,\u001b[49m\u001b[43mrec_prb\u001b[49m\u001b[43m,\u001b[49m\u001b[43mrec_shifts\u001b[49m\u001b[43m,\u001b[49m\u001b[43m \u001b[49m\u001b[43mpars\u001b[49m\u001b[43m)\u001b[49m\n\u001b[1;32m    156\u001b[0m \u001b[38;5;66;03m# k = f'cghessians'\u001b[39;00m\n\u001b[1;32m    157\u001b[0m \u001b[38;5;66;03m# np.save(f'data/rec_psi_{k}_{pars['niter']}',rec_psi.get())\u001b[39;00m\n\u001b[1;32m    158\u001b[0m \u001b[38;5;66;03m# np.save(f'data/rec_prb_{k}_{pars['niter']}',rec_prb.get())\u001b[39;00m\n\u001b[1;32m    159\u001b[0m \u001b[38;5;66;03m# np.save(f'data/conv_{k}_{pars['niter']}',conv)\u001b[39;00m\n",
      "Cell \u001b[0;32mIn[128], line 47\u001b[0m, in \u001b[0;36mcg_holo\u001b[0;34m(data, ref, init_psi, init_prb, init_shifts, pars)\u001b[0m\n\u001b[1;32m     43\u001b[0m mshow_complex(bb[\u001b[38;5;241m0\u001b[39m,\u001b[38;5;241m0\u001b[39m,crop:\u001b[38;5;241m-\u001b[39mcrop,crop:\u001b[38;5;241m-\u001b[39mcrop],show)\n\u001b[1;32m     44\u001b[0m mshow_complex(bb[\u001b[38;5;241m0\u001b[39m,\u001b[38;5;241m0\u001b[39m,crop:\u001b[38;5;241m-\u001b[39mcrop,crop:\u001b[38;5;241m-\u001b[39mcrop]\u001b[38;5;241m-\u001b[39maa[\u001b[38;5;241m0\u001b[39m,\u001b[38;5;241m0\u001b[39m,crop:\u001b[38;5;241m-\u001b[39mcrop,crop:\u001b[38;5;241m-\u001b[39mcrop],show)\n\u001b[0;32m---> 47\u001b[0m \u001b[43mss\u001b[49m\n\u001b[1;32m     49\u001b[0m \u001b[38;5;66;03m# dz[:,:,0]=dz[:,:,1]\u001b[39;00m\n\u001b[1;32m     50\u001b[0m a0 \u001b[38;5;241m=\u001b[39m Sop(psi,z) \n",
      "\u001b[0;31mNameError\u001b[0m: name 'ss' is not defined"
     ]
    }
   ],
   "source": [
    "def cg_holo(data,ref, init_psi,init_prb,init_shifts, pars):\n",
    "    \"\"\"Conjugate gradients method for holography\"\"\"\n",
    "    # minimization functional\n",
    "    def minf(fpsi):\n",
    "        f = np.linalg.norm(np.abs(fpsi)-data)**2\n",
    "        return f\n",
    "\n",
    "    data = np.sqrt(data)\n",
    "    ref = np.sqrt(ref)\n",
    "    psi = init_psi.copy()\n",
    "    prb = init_prb.copy()\n",
    "    shifts = init_shifts.copy()\n",
    "\n",
    "    conv = np.zeros(pars['niter'])\n",
    "    gammaha = np.zeros(pars['niter'])\n",
    "    gammah=0\n",
    "    \n",
    "   \n",
    "        \n",
    "    for i in range(pars['niter']):                                                \n",
    "        gradpsi,gradprb,gradshift = gradients(psi,prb,shifts,data)\n",
    "\n",
    "        # psi[:] = cp.abs(psi)\n",
    "    \n",
    "        z = shifts.copy()\n",
    "        dz = shifts.copy()/1000\n",
    "        print(np.max(dz))\n",
    "        xi1 = cp.fft.fftfreq(2*psi.shape[-1]).astype('float32')\n",
    "        xi1 = xi1*(-2*cp.pi*1j)##!!!/100\n",
    "        print(1/xi1[1])\n",
    "        print(2*psi.shape[-1])\n",
    "        [xi2,xi1] = cp.meshgrid(xi1, xi1)\n",
    "        zz =z[:,:,:,None,None]\n",
    "        # print(np.max(zz),xi1[1,0]*np.max(zz))\n",
    "        dzz = dz[:,:,:,None,None]\n",
    "        # print(((zz[:,:,0]+dzz[:,:,0])*xi1+(zz[:,:,1]+dzz[:,:,1])*xi2))\n",
    "        aa = cp.exp(((dzz[:,:,0])*xi1+(dzz[:,:,1])*xi2))\n",
    "        tt = (dzz[:,:,0]*xi1+dzz[:,:,1]*xi2)\n",
    "        bb = (1+tt+0.5*tt**2)\n",
    "        # print(cp.linalg.norm(aa[0,0]))\n",
    "        crop = 1024\n",
    "        mshow_complex(aa[0,0,crop:-crop,crop:-crop],show)\n",
    "        mshow_complex(bb[0,0,crop:-crop,crop:-crop],show)\n",
    "        mshow_complex(bb[0,0,crop:-crop,crop:-crop]-aa[0,0,crop:-crop,crop:-crop],show)\n",
    "\n",
    "        \n",
    "        ss\n",
    "\n",
    "        # dz[:,:,0]=dz[:,:,1]\n",
    "        a0 = Sop(psi,z) \n",
    "        a = Sop(psi,z+dz)\n",
    "        b = Sop(psi,z)+DT(psi,z,dz)+D2T(psi,z,dz,dz)\n",
    "        \n",
    "        crop = 100\n",
    "        mshow_polar(a0[0,0,crop:-crop,crop:-crop],show)\n",
    "        mshow_polar(a[0,0,crop:-crop,crop:-crop],show)\n",
    "        mshow_polar(a0[0,0,crop:-crop,crop:-crop]-a[0,0,crop:-crop,crop:-crop],show)                \n",
    "        mshow_polar(b[0,0,crop:-crop,crop:-crop],show)\n",
    "        mshow_polar(a[0,0,crop:-crop,crop:-crop]-b[0,0,crop:-crop,crop:-crop],show)\n",
    "        \n",
    "        \n",
    "        if i==0:\n",
    "            etapsi = -gradpsi\n",
    "            etaprb = -gradprb\n",
    "            etashift = -gradshift\n",
    "        else:\n",
    "        \n",
    "            beta = hessian2(psi,prb,shifts,gradpsi,gradprb,gradshift,etapsi,etaprb,etashift,data)/\\\n",
    "                   hessian2(psi,prb,shifts, etapsi, etaprb, etashift,etapsi,etaprb,etashift,data)\n",
    "                        \n",
    "            etapsi = -gradpsi + beta*etapsi\n",
    "            etaprb = -gradprb + beta*etaprb\n",
    "            etashift = -gradshift + beta*etashift            \n",
    "\n",
    "        #top\n",
    "        top = -(cp.sum(cp.real(gradpsi*cp.conj(etapsi)))+\n",
    "                cp.sum(cp.real(gradprb*cp.conj(etaprb)))+\n",
    "                cp.sum(cp.real(gradshift*cp.conj(etashift))))\n",
    "        \n",
    "        bottom = hessian2(psi,prb,shifts,etapsi,etaprb,etashift,\n",
    "                                         etapsi,etaprb,etashift,data)\n",
    "        gammah = top/bottom\n",
    "\n",
    "        # npp = 17\n",
    "        # errt = np.zeros(npp)\n",
    "        # errt2 = np.zeros(npp)\n",
    "        # if i>-1:\n",
    "        #     for k in range(0,npp):\n",
    "        #         psit = psi+(gammah*k/(npp-1))*etapsi\n",
    "        #         prbt = prb+(gammah*k/(npp-1))*etaprb\n",
    "        #         shiftst = shifts+(gammah*k/(npp-1))*etashift\n",
    "        #         fpsit = Lop(Sop(psit,shiftst)*prbt)\n",
    "        #         errt[k] = minf(fpsit)    \n",
    "        #     t = gammah*(cp.arange(npp))/(npp-1)\n",
    "        #     errt2 = minf(Lop(Sop(psi,shifts)*prb))-top*t+0.5*bottom*t**2\n",
    "        #     plt.plot(gammah.get()*np.arange(npp)/(npp-1),errt,'.')\n",
    "        #     plt.plot(gammah.get()*np.arange(npp)/(npp-1),errt2.get(),'.')\n",
    "        #     plt.show()\n",
    "        #     plt.plot(gammah.get()*np.arange(npp)/(npp-1),errt-errt2.get(),'.')\n",
    "        #     plt.show()\n",
    "        #     # a = cp.abs(Lop(Sop(psi,shifts)*prb))-data\n",
    "        #     # mshow(a[0,0],show)\n",
    "        #     # mshow(a[0,1],show)\n",
    "        #     # plt.plot(gammah.get()*np.arange(17)/16,errt2.get(),'.')\n",
    "        #     # plt.plot(gammah.get()*np.arange(npp*2)/(npp-1),errt-errt2.get(),'.')\n",
    "        #     # plt.show()\n",
    "        \n",
    "        \n",
    "        \n",
    "\n",
    "        psi += gammah*etapsi\n",
    "        prb += gammah*etaprb\n",
    "        shifts += gammah*etashift\n",
    "        \n",
    "        # plt.plot(shifts[0,:,0].get()-shifts_init[0,:,0].get(),'.')\n",
    "        # plt.plot(shifts[0,:,1].get()-shifts_init[0,:,1].get(),'.')        \n",
    "        # plt.show()        \n",
    "        \n",
    "        if i % pars['err_step'] == 0:\n",
    "            fpsi = Lop(Sop(psi,shifts)*prb)\n",
    "            err = minf(fpsi)\n",
    "            conv[i] = err\n",
    "            gammaha[i] = gammah\n",
    "            print(f'{i}) {gammah=}, {err=:1.5e}')\n",
    "\n",
    "        if i % pars['vis_step'] == -1:\n",
    "            mshow_polar(psi[0],show)\n",
    "            mshow_polar(psi[0,pad:-pad,pad:-pad],show)\n",
    "            mshow_polar(prb[0],show)\n",
    "            plt.plot((shifts_init[0,:,0]).get()-(shifts[0,:,0]).get(),'r.')\n",
    "            plt.plot((shifts_init[0,:,1]).get()-(shifts[0,:,1]).get(),'b.')\n",
    "            plt.show()\n",
    "\n",
    "    return psi,prb,conv,gammaha\n",
    "\n",
    "# fully on gpu\n",
    "rec_psi = cp.ones([1,ne,ne],dtype='complex64')\n",
    "data = cp.array(data00.copy())\n",
    "ref = cp.array(ref0.copy())\n",
    "rec_shifts = cp.array(shifts)\n",
    "shifts_init = cp.array(shifts)\n",
    "\n",
    "rec_shifts[:,0,0]-=1\n",
    "# rec_shifts[:,0,1]\n",
    "\n",
    "rec_psi = rec_init(ref0,data00,rec_shifts)\n",
    "rec_prb = cp.ones([1,n+2*pad,n+2*pad],dtype='complex64')\n",
    "pars = {'niter': 2, 'err_step': 1, 'vis_step': 0}\n",
    "\n",
    "# rec_prb = cp.array(np.load(f'{path}/data/prb_{flg}.npy'))\n",
    "# rec_psi = cp.array(np.load(f'{path}/data/psi_{flg}.npy'))\n",
    "# rec_psi = rec_psi[:,rec_psi.shape[1]//2-ne//2:rec_psi.shape[1]//2+ne//2,rec_psi.shape[2]//2-ne//2:rec_psi.shape[2]//2+ne//2]\n",
    "# np.save(f'{path}/data/psi_{flg}', psi)\n",
    "rec_psi,rec_prb,conv,gammaha = cg_holo(data,ref,rec_psi,rec_prb,rec_shifts, pars)\n",
    "\n",
    "# k = f'cghessians'\n",
    "# np.save(f'data/rec_psi_{k}_{pars['niter']}',rec_psi.get())\n",
    "# np.save(f'data/rec_prb_{k}_{pars['niter']}',rec_prb.get())\n",
    "# np.save(f'data/conv_{k}_{pars['niter']}',conv)\n"
   ]
  },
  {
   "cell_type": "code",
   "execution_count": null,
   "id": "b97de435",
   "metadata": {},
   "outputs": [],
   "source": [
    "# np.save(f'data/gammaha_{k}_{pars['niter']}',gammaha)\n",
    "\n"
   ]
  }
 ],
 "metadata": {
  "kernelspec": {
   "display_name": "Python 3 (ipykernel)",
   "language": "python",
   "name": "python3"
  },
  "language_info": {
   "codemirror_mode": {
    "name": "ipython",
    "version": 3
   },
   "file_extension": ".py",
   "mimetype": "text/x-python",
   "name": "python",
   "nbconvert_exporter": "python",
   "pygments_lexer": "ipython3",
   "version": "3.12.4"
  }
 },
 "nbformat": 4,
 "nbformat_minor": 5
}
