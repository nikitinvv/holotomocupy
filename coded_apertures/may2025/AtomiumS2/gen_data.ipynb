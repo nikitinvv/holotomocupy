{
 "cells": [
  {
   "cell_type": "code",
   "execution_count": null,
   "id": "fad77fab-e206-47c1-9655-088d14fe30cb",
   "metadata": {},
   "outputs": [],
   "source": [
    "import numpy as np\n",
    "import cupy as cp\n",
    "import sys\n",
    "import pandas as pd\n",
    "import time\n",
    "import matplotlib.pyplot as plt\n",
    "import h5py\n",
    "from types import SimpleNamespace\n",
    "import warnings\n",
    "warnings.filterwarnings(\"ignore\", message=f\".*peer.*\")\n",
    "\n",
    "\n",
    "sys.path.insert(0, '..')\n",
    "from utils import *\n",
    "from rec import Rec"
   ]
  },
  {
   "cell_type": "markdown",
   "id": "233b06b6",
   "metadata": {},
   "source": [
    "# find shift with 1 pixel accuracy"
   ]
  },
  {
   "cell_type": "code",
   "execution_count": null,
   "id": "8d8bd60d",
   "metadata": {},
   "outputs": [],
   "source": [
    "with h5py.File(f'/data/vnikitin/ESRF/ID16A/20240924_h5/AtomiumS2/AtomiumS2_codedht_random_007nm/data_corrected.h5') as fid:\n",
    "    sx0 = fid['/exchange/sx0'][0]    \n",
    "    detector_pixelsize = fid['/exchange/detector_pixelsize'][0]    \n",
    "    focusToDetectorDistance = fid['/exchange/focusdetectordistance'][0]    \n",
    "    z10 = fid['/exchange/z1'][0]    \n",
    "    theta = fid['/exchange/theta'][:]\n",
    "    shifts_cor = fid['/exchange/shifts_cor'][:]\n",
    "    shifts_code = fid['/exchange/shifts_code'][:]    "
   ]
  },
  {
   "cell_type": "code",
   "execution_count": null,
   "id": "15d52a4e",
   "metadata": {},
   "outputs": [],
   "source": [
    "z1c = -17.75e-3\n",
    "energy = 33.35  # [keV] xray energy\n",
    "wavelength = 1.2398419840550367e-09/energy  # [m] wave length\n",
    "z1 = z10 - sx0\n",
    "z2 = focusToDetectorDistance-z1\n",
    "distance = (z1*z2)/focusToDetectorDistance\n",
    "magnifications = focusToDetectorDistance/z1\n",
    "voxelsize = np.abs(detector_pixelsize/magnifications)\n",
    "magnifications2 = z1/z1c\n",
    "distancec = (z1-z1c)/(z1c/z1)#magnifications2\n",
    "\n",
    "show = True"
   ]
  },
  {
   "cell_type": "code",
   "execution_count": null,
   "id": "14f44d56",
   "metadata": {},
   "outputs": [],
   "source": [
    "args = SimpleNamespace()\n",
    "args.npos = 1\n",
    "args.ngpus = 4\n",
    "args.lam = 0.1\n",
    "\n",
    "args.n = 2048\n",
    "voxelsize *= 2048/args.n\n",
    "args.ntheta = 7200\n",
    "args.theta = theta[::len(theta)//args.ntheta]/180*np.pi\n",
    "args.ncode = 8704*args.n//2048\n",
    "args.pad = args.n // 8\n",
    "args.npsi = args.n + 2 * args.pad\n",
    "args.nq = args.n + 2 * args.pad\n",
    "args.ex = 8\n",
    "args.npatch = args.nq + 2 * args.ex\n",
    "args.nchunk = 4\n",
    "\n",
    "args.voxelsize = voxelsize\n",
    "args.wavelength = wavelength\n",
    "args.distance = distance\n",
    "args.distancec = distancec\n",
    "args.eps = 1e-12\n",
    "args.rho = [1, 0.5, 0.1]\n",
    "args.crop = 0#2 * args.pad\n",
    "args.path_out = f\"/data/vnikitin/ESRF/ID16A/20240924_rec0224//AtomiumS2/AtomiumS2_codedht_random_007nm//{args.lam}_{args.rho[1]}_{args.rho[2]}\"\n",
    "\n",
    "\n",
    "args.niter = 1\n",
    "args.err_step = 1\n",
    "args.vis_step = 1\n",
    "args.method = \"BH-CG\"\n",
    "args.show = True\n",
    "args.rotation_axis = 157*args.n/256#args.npsi/2\n",
    "# create class\n",
    "cl_rec = Rec(args)\n"
   ]
  },
  {
   "cell_type": "markdown",
   "id": "2d3e1339",
   "metadata": {},
   "source": []
  },
  {
   "cell_type": "code",
   "execution_count": null,
   "id": "e1d45c0c",
   "metadata": {},
   "outputs": [],
   "source": [
    "ri = np.round(shifts_code).astype('int32')\n",
    "r = (shifts_code-ri).astype('float32')"
   ]
  },
  {
   "cell_type": "code",
   "execution_count": null,
   "id": "c17d769f",
   "metadata": {},
   "outputs": [],
   "source": [
    "u0= np.load(f'/data/vnikitin/syn_3d_ald/u{args.n}.npy').astype('complex64')/4\n",
    "mshow_complex(u0[u0.shape[0]//2],show)"
   ]
  },
  {
   "cell_type": "code",
   "execution_count": null,
   "id": "7ef19aae",
   "metadata": {},
   "outputs": [],
   "source": [
    "# import scipy.ndimage as ndimage\n",
    "# print(args.pad)\n",
    "\n",
    "# u = ndimage.zoom(u0,1.5,order=1)\n",
    "# u = u[u.shape[0]//2-args.npsi//2:u.shape[0]//2+args.npsi//2,\n",
    "#       u.shape[0]//2-args.npsi//2:u.shape[0]//2+args.npsi//2,\n",
    "#       u.shape[0]//2-args.npsi//2:u.shape[0]//2+args.npsi//2]\n",
    "# # u = np.zeros([args.n,args.n,args.n],dtype='complex64')"
   ]
  },
  {
   "cell_type": "code",
   "execution_count": null,
   "id": "cb9a2d9c",
   "metadata": {},
   "outputs": [],
   "source": [
    "ppad = args.npsi//2-args.n//2\n",
    "u = np.pad(u0,((ppad,ppad),(ppad,ppad),(ppad,ppad)),'edge')"
   ]
  },
  {
   "cell_type": "code",
   "execution_count": null,
   "id": "353a8dac",
   "metadata": {},
   "outputs": [],
   "source": [
    "path_out = '/data/vnikitin/ESRF/ID16A/20240924_h5/AtomiumS2/AtomiumS2_codedht_random_007nm/'\n",
    "with  h5py.File(f'{path_out}/data_corrected.h5','r') as fid:    \n",
    "    q = fid['/exchange/prb'][:]\n",
    "    code = fid['/exchange/code'][:]   \n",
    "    cdata = fid['/exchange/cdata'][:]\n",
    "    cdata2 = fid['/exchange/cdata2'][::7200//args.ntheta] \n",
    "    ref = fid['/exchange/ref'][:]\n",
    "    shifts_cor = fid['/exchange/shifts_cor'][::7200//args.ntheta]\n",
    "    shifts_code = fid['/exchange/shifts_code'][::7200//args.ntheta]\n",
    "    data = fid['/exchange/data'][::7200//args.ntheta]\n",
    "    \n",
    "rpsi = shifts_cor\n",
    "c =  args.voxelsize * 2*cp.pi / args.wavelength#*np.sqrt(args.npsi*args.ntheta)\n",
    "u_new = (u*c).astype('complex64')\n",
    "data = np.abs(cl_rec.fwd(ri,r,rpsi,code,u_new,q))**2\n",
    "\n",
    "mshow(data[-1],True)"
   ]
  },
  {
   "cell_type": "code",
   "execution_count": null,
   "id": "dfad6d80",
   "metadata": {},
   "outputs": [],
   "source": [
    "\n",
    "path_out = '/data/vnikitin/ESRF/ID16A/20240924_h5_syn/AtomiumS2/AtomiumS2_codedht_random_007nm/'\n",
    "\n",
    "with  h5py.File(f'{path_out}/data_corrected.h5','w') as fid:\n",
    "    fid.create_dataset('/exchange/cdata2',data=cdata2)\n",
    "    fid.create_dataset('/exchange/cdata',data=cdata)\n",
    "    fid.create_dataset('/exchange/ref',data=ref)\n",
    "    fid.create_dataset('/exchange/prb',data=q)\n",
    "    fid.create_dataset('/exchange/code',data=code)\n",
    "    fid.create_dataset('/exchange/shifts_cor',data=shifts_cor)\n",
    "    fid.create_dataset('/exchange/shifts_code',data=shifts_code)\n",
    "    dvoxelsize = fid.create_dataset('/exchange/voxelsize',shape=(1,),dtype='float32')\n",
    "    dvoxelsize[0]=voxelsize\n",
    "    dsx0 = fid.create_dataset('/exchange/sx0',shape=(1,),dtype='float32')\n",
    "    dsx0[0] = sx0\n",
    "    dz1 = fid.create_dataset('/exchange/z1',shape=(1,),dtype='float32')\n",
    "    dz1[0]=z10\n",
    "    ddetector_pixelsize = fid.create_dataset('/exchange/detector_pixelsize',shape=(1,),dtype='float32')\n",
    "    ddetector_pixelsize[0]=detector_pixelsize\n",
    "    dfocusdetectordistance = fid.create_dataset('/exchange/focusdetectordistance',shape=(1,),dtype='float32')\n",
    "    dfocusdetectordistance[0]=focusToDetectorDistance\n",
    "    fid.create_dataset('/exchange/data',data=data)    \n",
    "    fid.create_dataset('/exchange/theta',data=theta)\n",
    "\n",
    "\n"
   ]
  }
 ],
 "metadata": {
  "kernelspec": {
   "display_name": "holotomocupy",
   "language": "python",
   "name": "python3"
  },
  "language_info": {
   "codemirror_mode": {
    "name": "ipython",
    "version": 3
   },
   "file_extension": ".py",
   "mimetype": "text/x-python",
   "name": "python",
   "nbconvert_exporter": "python",
   "pygments_lexer": "ipython3",
   "version": "3.12.8"
  }
 },
 "nbformat": 4,
 "nbformat_minor": 5
}
