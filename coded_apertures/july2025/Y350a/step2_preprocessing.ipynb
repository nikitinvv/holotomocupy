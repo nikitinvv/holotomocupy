{
 "cells": [
  {
   "cell_type": "code",
   "execution_count": null,
   "id": "fad77fab-e206-47c1-9655-088d14fe30cb",
   "metadata": {},
   "outputs": [],
   "source": [
    "import numpy as np\n",
    "import cupy as cp\n",
    "import h5py\n",
    "import matplotlib.pyplot as plt\n"
   ]
  },
  {
   "cell_type": "markdown",
   "id": "3c0fdd65-1cff-451e-865e-56cd8b7882a6",
   "metadata": {},
   "source": [
    "# Init data sizes and parametes of the PXM of ID16A"
   ]
  },
  {
   "cell_type": "code",
   "execution_count": null,
   "id": "e2b6781d",
   "metadata": {},
   "outputs": [],
   "source": [
    "step = 300"
   ]
  },
  {
   "cell_type": "code",
   "execution_count": null,
   "id": "ad77f0fc",
   "metadata": {},
   "outputs": [],
   "source": [
    "path = f'/data/vnikitin/ESRF/ID16A/brain/20250604/Y350a/'\n",
    "pfile = f'Y350a_HT_nobin_020nm'\n",
    "path_out = f'/data/vnikitin/ESRF/ID16A/brain_rec/20250604/Y350a/'\n",
    "\n",
    "with h5py.File(f'{path_out}/{pfile}.h5') as fid:\n",
    "    detector_pixelsize = fid['/exchange/detector_pixelsize'][0]    \n",
    "    focusToDetectorDistance = fid['/exchange/focusdetectordistance'][0]    \n",
    "    z1 = fid['/exchange/z1'][:]        \n",
    "    theta = fid['/exchange/theta'][::step]\n",
    "    shifts = fid['/exchange/shifts'][::step]\n",
    "    attrs = fid['/exchange/attrs'][::step]\n",
    "    pos_shifts = fid['/exchange/pos_shifts'][::step]*1e-6\n",
    "    shape = fid['/exchange/data0'][::step].shape\n",
    "    shape_ref = fid['/exchange/data_white_start0'].shape\n",
    "    shape_dark = fid['/exchange/data_dark0'].shape\n",
    "    #pos_shifts-=pos_shifts[0]\n"
   ]
  },
  {
   "cell_type": "code",
   "execution_count": null,
   "id": "da169abc",
   "metadata": {},
   "outputs": [],
   "source": [
    "ndist=4\n",
    "ntheta,n = shape[:2]\n",
    "ndark = shape_dark[0]\n",
    "nref = shape_ref[0]"
   ]
  },
  {
   "cell_type": "code",
   "execution_count": null,
   "id": "185647a0",
   "metadata": {},
   "outputs": [],
   "source": [
    "print(ndist,ntheta,n)\n",
    "print(nref,ndark)"
   ]
  },
  {
   "cell_type": "code",
   "execution_count": null,
   "id": "59fa16f2-1f9c-4b3a-a330-e10942f12234",
   "metadata": {},
   "outputs": [],
   "source": [
    "energy = 33.35  # [keV] xray energy\n",
    "wavelength = 1.2398419840550367e-09/energy  # [m] wave length\n",
    "z2 = focusToDetectorDistance-z1\n",
    "distances = (z1*z2)/focusToDetectorDistance\n",
    "magnifications = focusToDetectorDistance/z1\n",
    "norm_magnifications = magnifications/magnifications[0]\n",
    "show = True\n"
   ]
  },
  {
   "cell_type": "code",
   "execution_count": null,
   "id": "d2b1c290",
   "metadata": {},
   "outputs": [],
   "source": [
    "\n",
    "data00 = np.zeros([ntheta,ndist,n,n],dtype='float32')\n",
    "ref00 = np.zeros([nref,ndist,n,n],dtype='float32')\n",
    "ref01 = np.zeros([nref,ndist,n,n],dtype='float32')\n",
    "dark00 = np.zeros([ndark,ndist,n,n],dtype='float32')"
   ]
  },
  {
   "cell_type": "code",
   "execution_count": null,
   "id": "19ec19d3",
   "metadata": {},
   "outputs": [],
   "source": [
    "with h5py.File(f'{path_out}/{pfile}.h5') as fid:\n",
    "    for k in range(4):\n",
    "        data00[:,k] = fid[f'/exchange/data{k}'][::step]\n",
    "        ref00[:,k] = fid[f'/exchange/data_white_start{k}'][:]\n",
    "        ref01[:,k] = fid[f'/exchange/data_white_end{k}'][:]\n",
    "        dark00[:,k] = fid[f'/exchange/data_dark{k}'][:]\n",
    "        "
   ]
  },
  {
   "cell_type": "markdown",
   "id": "49eb1696-bb30-496e-8c3d-565f2791112c",
   "metadata": {},
   "source": [
    "## Read data"
   ]
  },
  {
   "cell_type": "code",
   "execution_count": null,
   "id": "d03cfe5c",
   "metadata": {},
   "outputs": [],
   "source": [
    "import cupyx.scipy.ndimage as ndimage\n",
    "def remove_outliers(data, dezinger, dezinger_threshold):    \n",
    "    res = data.copy()\n",
    "    w = [dezinger,dezinger]\n",
    "    for k in range(data.shape[0]):\n",
    "        data0 = cp.array(data[k])\n",
    "        fdata = ndimage.median_filter(data0, w)\n",
    "        print(np.sum(np.abs(data0-fdata)>fdata*dezinger_threshold))\n",
    "        res[k] = np.where(np.abs(data0-fdata)>fdata*dezinger_threshold, fdata, data0).get()\n",
    "    return res\n"
   ]
  },
  {
   "cell_type": "code",
   "execution_count": null,
   "id": "9b53b6ff",
   "metadata": {},
   "outputs": [],
   "source": [
    "data = data00.copy()\n",
    "ref = ref00.copy()\n",
    "dark = dark00.copy()\n",
    "dark = np.mean(dark,axis=0)\n",
    "ref = np.mean(ref,axis=0)\n",
    "data-=dark\n",
    "ref-=dark\n",
    "\n",
    "data[data<0]=0\n",
    "ref[ref<0]=0\n",
    "\n",
    "# data[:,:,1320//3:1320//3+25//3,890//3:890//3+25//3] = data[:,:,1280//3:1280//3+25//3,890//3:890//3+25//3]\n",
    "# ref[:,1320//3:1320//3+25//3,890//3:890//3+25//3] = ref[:,1280//3:1280//3+25//3,890//3:890//3+25//3]\n",
    "# data[:,:,470-4:470+4,285-4:285+4] = data[:,:,470-4-10:470+4-10,285-4:285+4]\n",
    "# ref[:,470-4:470+4,285-4:285+4] = ref[:,470-4-10:470+4-10,285-4:285+4]\n",
    "radius = 3\n",
    "threshold = 0.9\n",
    "ref[:] = remove_outliers(ref[:], radius, threshold)     \n",
    "for k in range(ndist):    \n",
    "    data[:,k] = remove_outliers(data[:,k], radius, threshold)\n",
    "\n"
   ]
  },
  {
   "cell_type": "code",
   "execution_count": null,
   "id": "79002e6d",
   "metadata": {},
   "outputs": [],
   "source": [
    "mm = np.mean(data,axis=(2,3))\n",
    "\n",
    "plt.plot(mm.swapaxes(0,1).flatten()/mm[0,0],label='average')\n",
    "plt.plot(attrs[...,0].swapaxes(0,1).flatten()/attrs[0,0,0],label='1')\n",
    "plt.plot(attrs[...,1].swapaxes(0,1).flatten()/attrs[0,0,1],label='2')\n",
    "plt.plot(attrs[...,2].swapaxes(0,1).flatten()/attrs[0,0,2],label='3')\n",
    "plt.legend()"
   ]
  },
  {
   "cell_type": "code",
   "execution_count": null,
   "id": "907f6d79",
   "metadata": {},
   "outputs": [],
   "source": [
    "data/=np.mean(ref[0])\n",
    "ref/=np.mean(ref[0])"
   ]
  },
  {
   "cell_type": "code",
   "execution_count": null,
   "id": "bf9f2d81",
   "metadata": {},
   "outputs": [],
   "source": [
    "c = attrs[...,1]/attrs[0,0,1]\n",
    "for k in range(ndist):\n",
    "    data[:,k]/=c[:,k,np.newaxis,np.newaxis]\n",
    "    ref[k]/=c[0,k]    "
   ]
  },
  {
   "cell_type": "code",
   "execution_count": null,
   "id": "d9933cec",
   "metadata": {},
   "outputs": [],
   "source": [
    "with h5py.File(f'{path_out}/{pfile}_corr.h5','w') as fid:\n",
    "    fid.create_dataset(f'/exchange/ref',data = ref)\n",
    "    for k in range(4):\n",
    "        fid.create_dataset(f'/exchange/data{k}',data = data[:,k])    \n",
    " "
   ]
  },
  {
   "cell_type": "code",
   "execution_count": null,
   "id": "3bde55de",
   "metadata": {},
   "outputs": [],
   "source": []
  }
 ],
 "metadata": {
  "kernelspec": {
   "display_name": "holotomocupy",
   "language": "python",
   "name": "python3"
  },
  "language_info": {
   "codemirror_mode": {
    "name": "ipython",
    "version": 3
   },
   "file_extension": ".py",
   "mimetype": "text/x-python",
   "name": "python",
   "nbconvert_exporter": "python",
   "pygments_lexer": "ipython3",
   "version": "3.12.8"
  }
 },
 "nbformat": 4,
 "nbformat_minor": 5
}
