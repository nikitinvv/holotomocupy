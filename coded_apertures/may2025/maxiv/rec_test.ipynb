{
 "cells": [
  {
   "cell_type": "code",
   "execution_count": null,
   "metadata": {},
   "outputs": [],
   "source": [
    "import numpy as np\n",
    "import cupy as cp\n",
    "import sys\n",
    "import scipy.ndimage as ndimage\n",
    "import matplotlib.pyplot as plt\n",
    "from types import SimpleNamespace\n",
    "import h5py\n",
    "from matplotlib_scalebar.scalebar import ScaleBar\n",
    "\n",
    "import warnings\n",
    "warnings.filterwarnings(\"ignore\", message=f\".*peer.*\")\n",
    "\n",
    "sys.path.insert(0, '..')\n",
    "from utils import *\n",
    "from rec import Rec\n",
    "%matplotlib inline"
   ]
  },
  {
   "cell_type": "code",
   "execution_count": null,
   "metadata": {},
   "outputs": [],
   "source": [
    "energy = 19.55\n",
    "wavelength = 1.24e-09 / energy\n",
    "\n",
    "detector_pixelsize = 0.55e-6#0.68e-6\n",
    "focusToDetectorDistance = 2.9#7.060-0.07321\n",
    "\n",
    "z1 = 0.47\n",
    "z1c = 0.47\n",
    "z2 = focusToDetectorDistance-z1\n",
    "distance = (z1*z2)/focusToDetectorDistance\n",
    "magnifications = focusToDetectorDistance/z1\n",
    "voxelsize = np.abs(detector_pixelsize/magnifications)\n",
    "magnifications2 = z1/z1c\n",
    "voxelsize_code = np.abs(voxelsize/magnifications2)\n",
    "distancec = (z1-z1c)/(z1c/z1)\n",
    "\n",
    "n = 2048\n",
    "ncode = 2048*3//2#2048*3//2\n",
    "show = True\n",
    "print(voxelsize,voxelsize_code,magnifications)\n"
   ]
  },
  {
   "cell_type": "code",
   "execution_count": null,
   "metadata": {},
   "outputs": [],
   "source": [
    "args = SimpleNamespace()\n",
    "args.ngpus = 1\n",
    "args.lam = 50\n",
    "\n",
    "args.n = n\n",
    "args.ntheta = 1\n",
    "args.ncode = ncode\n",
    "args.pad = 0\n",
    "args.npsi = args.n + 2 * args.pad\n",
    "args.nq = args.n + 2 * args.pad\n",
    "args.ex = 32\n",
    "args.npatch = args.nq + 2 * args.ex\n",
    "args.nchunk = 1\n",
    "\n",
    "args.voxelsize = voxelsize\n",
    "args.wavelength = wavelength\n",
    "args.distance = distance\n",
    "args.distancec = distancec\n",
    "args.eps = 1e-8\n",
    "args.rho = [1, 2, 0.1]\n",
    "args.path_out = f\"/data/vnikitin/MAXIV/test\"\n",
    "args.show = show\n",
    "\n",
    "args.niter=4097\n",
    "args.vis_step=4\n",
    "args.err_step=4\n",
    "args.rotation_axis=args.npsi/2\n",
    "\n",
    "args.theta = np.linspace(0,np.pi,args.ntheta).astype('float32')\n",
    "# create class\n",
    "cl_rec = Rec(args)\n"
   ]
  },
  {
   "cell_type": "code",
   "execution_count": null,
   "metadata": {},
   "outputs": [],
   "source": [
    "import random\n",
    "import xraylib\n",
    "import cupyx.scipy.ndimage as ndimage\n",
    "\n",
    "ill_feature_size = 12e-6\n",
    "code_thickness = 0.25e-6# 0.55, 1.5, 0.1, 0.25, 2.33,1.08\n",
    "\n",
    "random.seed(10)\n",
    "nill = 2*args.ncode\n",
    "ill_global = cp.zeros([nill,nill],dtype='bool')\n",
    "ill0 = cp.zeros([nill*nill],dtype='bool')\n",
    "ill_ids = random.sample(range(0, nill*nill), int(nill*nill*0.55))\n",
    "ill0[ill_ids] = 1\n",
    "ill_global = ill0.reshape(nill,nill)\n",
    "\n",
    "# form codes for simulations\n",
    "nill = int(args.ncode*voxelsize/np.abs(magnifications2)//(ill_feature_size*2))*2\n",
    "ill = cp.zeros([nill,nill],dtype='bool')\n",
    "ill0 = ill_global\n",
    "ill = ill0[ill0.shape[0]//2-nill//2:ill0.shape[0]//2+(nill)//2,\n",
    "                ill0.shape[1]//2-nill//2:ill0.shape[1]//2+(nill)//2]#.reshape(nill,nill)\n",
    "\n",
    "ill = ndimage.zoom(ill,args.ncode/nill,order=0,grid_mode=True,mode='grid-wrap')\n",
    "\n",
    "delta = 1-xraylib.Refractive_Index_Re('Au',energy,19.3)\n",
    "beta = xraylib.Refractive_Index_Im('Au',energy,19.3)\n",
    "\n",
    "print(beta,delta,delta/beta)\n",
    "thickness = code_thickness/voxelsize # thickness in pixels\n",
    "\n",
    "\n",
    "# form Transmittance function\n",
    "Rill = ill*(-delta+1j*beta)*thickness \n",
    "Rill=ndimage.rotate(Rill, 45, axes=(2, 1), reshape=False, order=3, mode='reflect',\n",
    "                   prefilter=True)\n",
    "\n",
    "# v = cp.arange(-args.ncode//2,args.ncode//2)/2/args.ncode\n",
    "# [vx,vy] = cp.meshgrid(v,v)\n",
    "# v = cp.exp(-10*(vx**2+vy**2))\n",
    "# fill = cp.fft.fftshift(cp.fft.fftn(cp.fft.fftshift(Rill)))\n",
    "# Rill = cp.fft.fftshift(cp.fft.ifftn(cp.fft.fftshift(fill*v)))\n",
    "# Rill = Rill.astype('complex64')\n",
    "\n",
    "code = cp.exp(1j * Rill * voxelsize * 2 * np.pi / wavelength).astype('complex64')\n",
    "\n",
    "print(f'{voxelsize=}')\n",
    "print(f'{voxelsize_code=}')\n",
    "# mshow_polar(code[0],show)\n",
    "\n"
   ]
  },
  {
   "cell_type": "code",
   "execution_count": null,
   "metadata": {},
   "outputs": [],
   "source": [
    "mshow_polar(code,show)"
   ]
  },
  {
   "cell_type": "code",
   "execution_count": null,
   "metadata": {},
   "outputs": [],
   "source": [
    "# shifts of codes\n",
    "shifts_code = np.round((np.random.random([args.ntheta, 2]).astype('float32')-0.5)*args.n/4)"
   ]
  },
  {
   "cell_type": "code",
   "execution_count": null,
   "metadata": {},
   "outputs": [],
   "source": [
    "ri = shifts_code.astype('int32')\n",
    "r = shifts_code-ri"
   ]
  },
  {
   "cell_type": "code",
   "execution_count": null,
   "metadata": {},
   "outputs": [],
   "source": [
    "cdata = np.abs(cl_rec.D(cl_rec.Dc(cl_rec.S(ri,r,code))))**2\n",
    "mshow(cdata[0],args.show)"
   ]
  }
 ],
 "metadata": {
  "kernelspec": {
   "display_name": "holotomocupy",
   "language": "python",
   "name": "python3"
  },
  "language_info": {
   "codemirror_mode": {
    "name": "ipython",
    "version": 3
   },
   "file_extension": ".py",
   "mimetype": "text/x-python",
   "name": "python",
   "nbconvert_exporter": "python",
   "pygments_lexer": "ipython3",
   "version": "3.12.8"
  }
 },
 "nbformat": 4,
 "nbformat_minor": 2
}
