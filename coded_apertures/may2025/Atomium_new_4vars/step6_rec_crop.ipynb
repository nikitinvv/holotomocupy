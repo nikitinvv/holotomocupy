{
 "cells": [
  {
   "cell_type": "code",
   "execution_count": null,
   "id": "fad77fab-e206-47c1-9655-088d14fe30cb",
   "metadata": {},
   "outputs": [],
   "source": [
    "import numpy as np\n",
    "import cupy as cp\n",
    "import sys\n",
    "import scipy.ndimage as ndimage\n",
    "import matplotlib.pyplot as plt\n",
    "from types import SimpleNamespace\n",
    "import h5py\n",
    "import dxchange\n",
    "import warnings\n",
    "import pandas as pd\n",
    "warnings.filterwarnings(\"ignore\", message=f\".*peer.*\")\n",
    "\n",
    "sys.path.insert(0, '..')\n",
    "from utils import *\n",
    "from rec import Rec"
   ]
  },
  {
   "cell_type": "code",
   "execution_count": null,
   "id": "59fa16f2-1f9c-4b3a-a330-e10942f12234",
   "metadata": {},
   "outputs": [],
   "source": [
    "cf = 2\n",
    "ntheta = 720\n",
    "path = f'/data/vnikitin/ESRF/ID16A/20240924_rec_ca/data/'\n",
    "iter = 4096\n",
    "with  h5py.File(f'{path}/data_atomium.h5','r') as fid:\n",
    "    code = fid[f'/exchange/code{iter}'][:].astype('complex64')\n",
    "    q = fid[f'/exchange/prb{iter}'][:].astype('complex64')    \n",
    "    shifts_cor = fid[f'/exchange/shifts_cor{iter}'][::7200//ntheta].astype('float32')\n",
    "    shifts_code = fid[f'/exchange/shifts_code{iter}'][::7200//ntheta].astype('float32')    \n",
    "    z1 = fid['/exchange/z1'][0]\n",
    "    detector_pixelsize = fid['/exchange/detector_pixelsize'][0]\n",
    "    focusdetectordistance = fid['/exchange/focusdetectordistance'][0]\n",
    "    energy = fid['/exchange/energy'][0]\n",
    "\n",
    "with  h5py.File(f'{path}/data_ca.h5','r') as fid:\n",
    "    z1c = fid['/exchange/z1'][0] \n",
    "\n",
    "q = q[q.shape[0]//2-q.shape[0]//2**cf//2:q.shape[0]//2+q.shape[0]//2**cf//2,\n",
    "        q.shape[1]//2-q.shape[1]//2**cf//2:q.shape[1]//2+q.shape[1]//2**cf//2]\n",
    "code = code[code.shape[0]//2-code.shape[0]//2**cf//2:code.shape[0]//2+code.shape[0]//2**cf//2,\n",
    "        code.shape[1]//2-code.shape[1]//2**cf//2:code.shape[1]//2+code.shape[1]//2**cf//2]\n",
    "    \n",
    "shifts_cor/=2**cf\n",
    "shifts_code/=2**cf"
   ]
  },
  {
   "cell_type": "code",
   "execution_count": null,
   "id": "2123d6e1",
   "metadata": {},
   "outputs": [],
   "source": [
    "wavelength = 1.24e-09/energy  # [m] wave length\n",
    "focusToDetectorDistance = 1.28  # [m]\n",
    "z2 = focusToDetectorDistance-z1\n",
    "distance = (z1*z2)/focusToDetectorDistance\n",
    "magnification = focusToDetectorDistance/z1\n",
    "voxelsize = np.abs(detector_pixelsize/magnification) # object voxel size\n",
    "magnifications2 = z1/z1c\n",
    "distancec = (z1-z1c)/(z1c/z1)\n",
    "show = True"
   ]
  },
  {
   "cell_type": "code",
   "execution_count": null,
   "id": "dc0c4bcb",
   "metadata": {},
   "outputs": [],
   "source": [
    "args = SimpleNamespace()\n",
    "args.ngpus = 4\n",
    "\n",
    "args.n = 2048//2**cf\n",
    "args.ntheta = ntheta\n",
    "args.ncode = 8192*args.n//2048\n",
    "args.pad = 32\n",
    "args.npsi = args.n + 2 * args.pad\n",
    "args.nq = args.n + 2 * args.pad\n",
    "args.ex = 8\n",
    "args.npatch = args.nq + 2 * args.ex\n",
    "args.nchunk = 32\n",
    "\n",
    "args.voxelsize = voxelsize\n",
    "args.wavelength = wavelength\n",
    "args.distance = distance\n",
    "args.distancec = distancec\n",
    "args.rotation_axis=756*args.n/1024-args.n//4+args.pad\n",
    "args.show = True\n",
    "args.theta = np.linspace(0,np.pi,ntheta).astype('float32')\n",
    "# create class\n",
    "cl_rec = Rec(args)\n",
    "print(voxelsize,distance,distancec)"
   ]
  },
  {
   "cell_type": "markdown",
   "id": "0935ab04",
   "metadata": {},
   "source": []
  },
  {
   "cell_type": "code",
   "execution_count": null,
   "id": "11670db5",
   "metadata": {},
   "outputs": [],
   "source": [
    "q = np.pad(q,((args.pad,args.pad),(args.pad,args.pad)),'symmetric')"
   ]
  },
  {
   "cell_type": "markdown",
   "id": "781fd8c7",
   "metadata": {},
   "source": [
    "# introdcue some floating part in shifts code:"
   ]
  },
  {
   "cell_type": "code",
   "execution_count": null,
   "id": "a3aba95b",
   "metadata": {},
   "outputs": [],
   "source": [
    "np.random.seed(10)\n",
    "shifts_code+=2*(np.random.random([ntheta,2])-0.5).astype('float32')"
   ]
  },
  {
   "cell_type": "code",
   "execution_count": null,
   "id": "2d5a83af",
   "metadata": {},
   "outputs": [],
   "source": [
    "mshow_polar(code,show)"
   ]
  },
  {
   "cell_type": "code",
   "execution_count": null,
   "id": "920504e6",
   "metadata": {},
   "outputs": [],
   "source": [
    "# code = np.exp(np.log(np.abs(code))/8+1j*np.angle(code)/8)\n",
    "# code = code.real+1j*code.imag/2\n",
    "code=code\n",
    "mshow_polar(code,show)"
   ]
  },
  {
   "cell_type": "code",
   "execution_count": null,
   "id": "72836e93",
   "metadata": {},
   "outputs": [],
   "source": [
    "u = 4e3*np.load(f'/data/vnikitin/syn_3d_ald/u{args.n//2}.npy').astype('complex64')\n",
    "u = u.real/7+1j*u.imag*5\n",
    "\n",
    "pp = (args.n-u.shape[-1])//2+args.pad\n",
    "u = np.pad(u,((pp,pp),(pp,pp),(pp,pp)),'edge')\n",
    "# mshow_complex(u[args.npsi//2],True)\n",
    "shifts_code = np.array(shifts_code) #\n",
    "shifts_cor = np.array(shifts_cor)\n",
    "code = np.array(code)\n",
    "q = np.array(q)\n",
    "\n",
    "ri = shifts_code.astype('int32')\n",
    "r = shifts_code-shifts_code.astype('int32')\n",
    "rpsi = shifts_cor\n",
    "mshow_polar(q,show)"
   ]
  },
  {
   "cell_type": "code",
   "execution_count": null,
   "id": "ccf61272",
   "metadata": {},
   "outputs": [],
   "source": [
    "psi = cl_rec.expR(cl_rec.Spsi(cl_rec.R(u),rpsi))\n",
    "\n",
    "mshow_polar(psi[0],True)"
   ]
  },
  {
   "cell_type": "code",
   "execution_count": null,
   "id": "41def5b6",
   "metadata": {},
   "outputs": [],
   "source": [
    "data = np.abs(cl_rec.D(cl_rec.Dc(q*cl_rec.S(ri,r,code))*cl_rec.expR(cl_rec.Spsi(cl_rec.R(u),rpsi))))\n",
    "mshow_complex(data[0]+1j*data[ntheta//2],show)"
   ]
  },
  {
   "cell_type": "code",
   "execution_count": null,
   "id": "27b4f880",
   "metadata": {},
   "outputs": [],
   "source": [
    "\n",
    "# mshow_polar(code[:args.n//4,:args.n//4],show)\n",
    "# v = np.arange(-code.shape[-1]//2,code.shape[-1]//2)/q.shape[-1]\n",
    "# [vx,vy] = np.meshgrid(v,v)\n",
    "# v=np.exp(-2*(vx**2+vy**2))\n",
    "# code = np.fft.fftshift(np.fft.fftn(np.fft.fftshift(code)))\n",
    "# code = np.fft.fftshift(np.fft.ifftn(np.fft.fftshift(code*v)))\n",
    "# code = code.astype('complex64')\n",
    "# mshow_polar(code[:args.n//4,:args.n//4],show)\n"
   ]
  },
  {
   "cell_type": "code",
   "execution_count": null,
   "id": "9b095a52",
   "metadata": {},
   "outputs": [],
   "source": [
    "# use prb and code from earlier iter"
   ]
  },
  {
   "cell_type": "code",
   "execution_count": null,
   "id": "ce3c8eb4",
   "metadata": {},
   "outputs": [],
   "source": [
    "# iter = 4096 # 2048\n",
    "# with  h5py.File(f'{path}/data_atomium.h5','r') as fid:\n",
    "#     code = fid[f'/exchange/code{iter}'][:].astype('complex64')\n",
    "#     q = fid[f'/exchange/prb{iter}'][:].astype('complex64')    \n",
    "#     shifts_cor = fid[f'/exchange/shifts_cor{iter}'][::7200//ntheta].astype('float32')\n",
    "#     shifts_code = fid[f'/exchange/shifts_code{iter}'][::7200//ntheta].astype('float32')    \n",
    "# q = q[q.shape[0]//2-q.shape[0]//2**cf//2:q.shape[0]//2+q.shape[0]//2**cf//2,\n",
    "#         q.shape[1]//2-q.shape[1]//2**cf//2:q.shape[1]//2+q.shape[1]//2**cf//2]\n",
    "# code = code[code.shape[0]//2-code.shape[0]//2**cf//2:code.shape[0]//2+code.shape[0]//2**cf//2,\n",
    "#         code.shape[1]//2-code.shape[1]//2**cf//2:code.shape[1]//2+code.shape[1]//2**cf//2]\n",
    "\n",
    "# q = np.pad(q,((args.pad,args.pad),(args.pad,args.pad)),'symmetric')    \n",
    "# shifts_cor/=2**cf\n",
    "# shifts_code/=2**cf\n",
    "# print(q.shape,code.shape)\n",
    "# mshow_polar(q,show)"
   ]
  },
  {
   "cell_type": "code",
   "execution_count": null,
   "id": "d8b82be0",
   "metadata": {},
   "outputs": [],
   "source": [
    "ref = np.abs(cl_rec.D(cl_rec.Dc(q[np.newaxis])))\n",
    "\n",
    "# data = np.abs(cl_rec.D(cl_rec.Dc(q*cl_rec.S(ri,r,code))*cl_rec.expR(cl_rec.Spsi(cl_rec.R(u),rpsi))))\n",
    "# mshow_complex(data[0]+1j*data[ntheta//2],show)\n",
    "\n",
    "cpad = args.pad*3//2\n",
    "q_init = cl_rec.DcT(cl_rec.DT(ref))[0,cpad:-cpad,cpad:-cpad]\n",
    "q_init = np.pad(q_init,((cpad,cpad),(cpad,cpad)),'symmetric')\n",
    "mshow(ref[0],args.show)"
   ]
  },
  {
   "cell_type": "code",
   "execution_count": null,
   "id": "ce0a480e",
   "metadata": {},
   "outputs": [],
   "source": [
    "# iter = 128\n",
    "# with  h5py.File(f'{path}/data_atomium.h5','r') as fid:\n",
    "#     q_init = fid[f'/exchange/prb{iter}'][:].astype('complex64')    \n",
    "    \n",
    "# q_init = q_init[q_init.shape[0]//2-q_init.shape[0]//2**cf//2:q_init.shape[0]//2+q_init.shape[0]//2**cf//2,\n",
    "#         q_init.shape[1]//2-q_init.shape[1]//2**cf//2:q_init.shape[1]//2+q_init.shape[1]//2**cf//2]\n",
    "# q_init = np.pad(q_init,((args.pad,args.pad),(args.pad,args.pad)),'symmetric')\n"
   ]
  },
  {
   "cell_type": "code",
   "execution_count": null,
   "id": "4aae7746",
   "metadata": {},
   "outputs": [],
   "source": [
    "vars = {}\n",
    "vars[\"u_init\"] = u\n",
    "vars[\"code\"] = code\n",
    "vars[\"u\"] = np.zeros([args.npsi,args.npsi,args.npsi],dtype='complex64')\n",
    "vars[\"q\"] = cp.array(q_init)\n",
    "vars[\"ri\"] = shifts_code.astype(\"int32\")\n",
    "vars[\"r_init\"] = shifts_code - vars[\"ri\"].astype(\"int32\")\n",
    "vars[\"r\"] = vars[\"r_init\"]#+2*(2*np.random.random([ntheta,2])-1).astype('float32')\n",
    "vars[\"rpsi_init\"] = shifts_cor.astype(\"float32\")\n",
    "vars[\"rpsi\"] = vars[\"rpsi_init\"]#+(2*np.random.random([ntheta,2])-1).astype('float32')\n",
    "vars[\"Ru\"] = cl_rec.Spsi(cl_rec.R(vars['u']),vars[\"rpsi\"])\n",
    "vars[\"psi\"] = cl_rec.expR(vars['Ru'])\n",
    "vars[\"table\"] = pd.DataFrame(columns=[\"iter\", \"err\", \"time\"])\n",
    "\n",
    "cl_rec.rho = [1,30,0,0]\n",
    "cl_rec.lam = 0 \n",
    "cl_rec.gamma = 5000\n",
    "cl_rec.vis_step=16\n",
    "cl_rec.err_step=16\n",
    "cl_rec.niter = 2048\n",
    "cl_rec.eps = 0\n",
    "cl_rec.path_out = f\"/data/vnikitin/ESRF/ID16A/20240924_rec_ca/rec_atomium_syn/r_{cl_rec.lam}_{cl_rec.pad}\"\n",
    "cl_rec.show = show\n",
    "dref = cp.array(ref)\n",
    "# data=np.sqrt((np.random.poisson(data**2*5000)/5000).astype('float32'))\n",
    "vars = cl_rec.BH(data, dref, vars)\n",
    "\n",
    "err = vars[\"table\"][\"err\"]\n",
    "# %load_ext line_profiler\n",
    "# %lprun -f cl_rec.BH cl_rec.BH(data, vars)\n",
    "# plt.plot(err,label=rr)\n",
    "\n",
    "\n"
   ]
  },
  {
   "cell_type": "code",
   "execution_count": null,
   "id": "791826cc",
   "metadata": {},
   "outputs": [],
   "source": [
    "# npp = 30\n",
    "# t = np.linspace(0,1,npp).astype('float32')\n",
    "# errt = np.zeros(npp)\n",
    "# (q_rec, code, u_rec, ri, r,rpsi) = (vars[\"q\"], vars[\"code\"], vars[\"u\"], vars[\"ri\"], vars[\"r\"], vars[\"rpsi\"])                \n",
    "# # tmp = cl_rec.fwd(ri,r,rpsi,code,t[-1]*u,q_rec)\n",
    "# # err = cl_rec.minF(tmp, data)\n",
    "# # print(err)\n",
    "# for k in range(20,21):\n",
    "#     ut = (1-t[k])*u_rec + t[k]*u\n",
    "#     qt = (1-t[k])*q_rec + t[k]*cp.array(q)\n",
    "#     tmp = cl_rec.fwd(ri,r,rpsi,code,ut,qt)\n",
    "#     errt[k] = cl_rec.minF(tmp, data)\n",
    "#     print(errt[k])\n",
    "#     mshow_complex(ut[args.npsi//2],show)\n",
    "#     mshow_polar(qt,show)\n",
    "#     vars = {}\n",
    "#     vars[\"u_init\"] = u\n",
    "#     vars[\"code\"] = code\n",
    "#     vars[\"u\"] = ut#np.zeros([args.npsi,args.npsi,args.npsi],dtype='complex64')\n",
    "#     vars[\"q\"] = cp.array(qt)\n",
    "#     vars[\"ri\"] = shifts_code.astype(\"int32\")\n",
    "#     vars[\"r_init\"] = shifts_code - vars[\"ri\"].astype(\"int32\")\n",
    "#     vars[\"r\"] = vars[\"r_init\"]#+2*(2*np.random.random([ntheta,2])-1).astype('float32')\n",
    "#     vars[\"rpsi_init\"] = shifts_cor.astype(\"float32\")\n",
    "#     vars[\"rpsi\"] = vars[\"rpsi_init\"]#+(2*np.random.random([ntheta,2])-1).astype('float32')\n",
    "#     vars[\"Ru\"] = cl_rec.Spsi(cl_rec.R(vars['u']),vars[\"rpsi\"])\n",
    "#     vars[\"psi\"] = cl_rec.expR(vars['Ru'])\n",
    "#     vars[\"table\"] = pd.DataFrame(columns=[\"iter\", \"err\", \"time\"])\n",
    "\n",
    "#     cl_rec.rho = [1,30,0,0]\n",
    "#     cl_rec.lam = 0 \n",
    "#     cl_rec.vis_step=16\n",
    "#     cl_rec.err_step=4\n",
    "#     cl_rec.niter = 6400\n",
    "#     cl_rec.eps = 0\n",
    "#     cl_rec.path_out = f\"/data/vnikitin/ESRF/ID16A/20240924_rec_ca/rec_atomium_syn/r_{cl_rec.lam}_{cl_rec.pad}\"\n",
    "#     cl_rec.show = show\n",
    "#     # data=np.sqrt((np.random.poisson(data**2*5000)/5000).astype('float32'))\n",
    "#     vars = cl_rec.BH(data, vars)\n",
    "\n",
    "#     err = vars[\"table\"][\"err\"]\n",
    "                    \n",
    "   "
   ]
  },
  {
   "cell_type": "markdown",
   "id": "23be6c3e",
   "metadata": {},
   "source": []
  },
  {
   "cell_type": "code",
   "execution_count": null,
   "id": "4cded333",
   "metadata": {},
   "outputs": [],
   "source": []
  },
  {
   "cell_type": "code",
   "execution_count": null,
   "id": "727c1651",
   "metadata": {},
   "outputs": [],
   "source": []
  }
 ],
 "metadata": {
  "kernelspec": {
   "display_name": "holotomocupy",
   "language": "python",
   "name": "python3"
  },
  "language_info": {
   "codemirror_mode": {
    "name": "ipython",
    "version": 3
   },
   "file_extension": ".py",
   "mimetype": "text/x-python",
   "name": "python",
   "nbconvert_exporter": "python",
   "pygments_lexer": "ipython3",
   "version": "3.12.8"
  }
 },
 "nbformat": 4,
 "nbformat_minor": 5
}
