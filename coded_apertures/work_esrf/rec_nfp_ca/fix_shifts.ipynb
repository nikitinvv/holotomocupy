{
 "cells": [
  {
   "cell_type": "code",
   "execution_count": null,
   "id": "fad77fab-e206-47c1-9655-088d14fe30cb",
   "metadata": {},
   "outputs": [],
   "source": [
    "import numpy as np\n",
    "import cupy as cp\n",
    "from holotomocupy.holo import G, GT\n",
    "from holotomocupy.shift import S, ST\n",
    "from holotomocupy.recon_methods import CTFPurePhase, multiPaganin\n",
    "from holotomocupy.utils import *\n",
    "from holotomocupy.proc import remove_outliers\n",
    "import h5py"
   ]
  },
  {
   "cell_type": "markdown",
   "id": "3c0fdd65-1cff-451e-865e-56cd8b7882a6",
   "metadata": {},
   "source": [
    "# Init data sizes and parametes of the PXM of ID16A"
   ]
  },
  {
   "cell_type": "code",
   "execution_count": null,
   "id": "59fa16f2-1f9c-4b3a-a330-e10942f12234",
   "metadata": {},
   "outputs": [],
   "source": [
    "n = 2048  # object size in each dimension\n",
    "pad = n//8\n",
    "pos_step = 1\n",
    "npos = 18*18 # total number of positions\n",
    "z1c = -17.75e-3 # [m] position of the CA\n",
    "detector_pixelsize = 3.03751e-6\n",
    "energy = 33.35  # [keV] xray energy\n",
    "wavelength = 1.2398419840550367e-09/energy  # [m] wave length\n",
    "focusToDetectorDistance = 1.28  # [m]\n",
    "z1 = np.tile(z1c, [npos])\n",
    "z2 = focusToDetectorDistance-z1\n",
    "distances = (z1*z2)/focusToDetectorDistance\n",
    "magnifications = focusToDetectorDistance/z1\n",
    "voxelsize = np.abs(detector_pixelsize/magnifications[0]*2048/n)  # object voxel size\n",
    "\n",
    "# sample size after demagnification\n",
    "ne = (4096+2048+1024+128)//(2048//n)+2*pad\n",
    "ne = 3096+2*pad\n",
    "show = True\n",
    "\n",
    "path = f'/data/vnikitin/ESRF/ID16A/20240924/SiemensLH/code2um_nfp18x18_01'\n",
    "path_out = f'/data/vnikitin/ESRF/ID16A/20240924_rec/SiemensLH/code2um_nfp18x18_01'"
   ]
  },
  {
   "cell_type": "markdown",
   "id": "49eb1696-bb30-496e-8c3d-565f2791112c",
   "metadata": {},
   "source": [
    "## Read data"
   ]
  },
  {
   "cell_type": "code",
   "execution_count": null,
   "id": "c23a78d2",
   "metadata": {},
   "outputs": [],
   "source": [
    "with h5py.File(f'{path}/code2um_nfp18x18_010000.h5') as fid:\n",
    "    data0 = fid['/entry_0000/measurement/data'][:npos].astype('float32')\n",
    "    \n",
    "with h5py.File(f'{path}/ref_0000.h5') as fid:\n",
    "    ref0 = fid['/entry_0000/measurement/data'][:].astype('float32')\n",
    "with h5py.File(f'{path}/dark_0000.h5') as fid:\n",
    "    dark0 = fid['/entry_0000/measurement/data'][:].astype('float32')\n",
    "\n",
    "data0 = data0[np.newaxis]\n",
    "shifts_code0 = np.loadtxt(f'/data/vnikitin/ESRF/ID16A/20240924/positions/shifts_code_nfp18x18ordered.txt')[np.newaxis,:,::-1]\n",
    "shifts_code0 = shifts_code0/voxelsize*1e-6\n",
    "shifts_code0[:,:,0]*=-1\n",
    "\n",
    "mshow(data0[0,0],show)\n",
    "mshow(ref0[0],show)\n",
    "mshow(dark0[0],show)"
   ]
  },
  {
   "cell_type": "markdown",
   "id": "f7398276",
   "metadata": {},
   "source": [
    "# Pre-processing"
   ]
  },
  {
   "cell_type": "code",
   "execution_count": null,
   "id": "e1d4e4eb",
   "metadata": {},
   "outputs": [],
   "source": [
    "data = data0.copy()\n",
    "ref = ref0.copy()\n",
    "dark = dark0.copy()\n",
    "\n",
    "dark = np.mean(dark,axis=0)[np.newaxis]\n",
    "ref = np.mean(ref,axis=0)[np.newaxis]\n",
    "\n",
    "data-=dark\n",
    "ref-=dark\n",
    "\n",
    "data[data<0]=0\n",
    "ref[ref<0]=0\n",
    "\n",
    "# broken detector pixels\n",
    "data[:,:,1320//3:1320//3+25//3,890//3:890//3+25//3] = data[:,:,1280//3:1280//3+25//3,890//3:890//3+25//3]\n",
    "ref[:,1320//3:1320//3+25//3,890//3:890//3+25//3] = ref[:,1280//3:1280//3+25//3,890//3:890//3+25//3]\n",
    "for k in range(npos):\n",
    "    radius = 3\n",
    "    threshold = 0.8\n",
    "    data[:,k] = remove_outliers(data[:,k], radius, threshold)\n",
    "ref[:] = remove_outliers(ref[:], radius, threshold)     \n",
    "\n",
    "# normalization\n",
    "data/=np.mean(ref)\n",
    "dark/=np.mean(ref)\n",
    "ref/=np.mean(ref)\n",
    "\n",
    "data[np.isnan(data)] = 1\n",
    "ref[np.isnan(ref)] = 1\n",
    "\n",
    "# binning\n",
    "for k in range(int(np.log2(2048//n))):\n",
    "    data = (data[:,:,::2]+data[:,:,1::2])*0.5\n",
    "    data = (data[:,:,:,::2]+data[:,:,:,1::2])*0.5\n",
    "    ref = (ref[:,::2]+ref[:,1::2])*0.5\n",
    "    ref = (ref[:,:,::2]+ref[:,:,1::2])*0.5    \n",
    "    dark = (dark[:,::2]+dark[:,1::2])*0.5\n",
    "    dark = (dark[:,:,::2]+dark[:,:,1::2])*0.5  \n",
    "\n",
    "rdata = data/(ref+1e-11)\n",
    "\n",
    "mshow_complex(data[0,0]+1j*rdata[0,0],show)\n",
    "mshow_complex(ref[0]+1j*dark[0],show)"
   ]
  },
  {
   "cell_type": "markdown",
   "id": "233b06b6",
   "metadata": {},
   "source": [
    "# find shift with 1 pixel accuracy"
   ]
  },
  {
   "cell_type": "code",
   "execution_count": null,
   "id": "69cc96b5",
   "metadata": {},
   "outputs": [],
   "source": [
    "from skimage.registration import phase_cross_correlation\n",
    "import scipy.ndimage as ndimage\n",
    "\n",
    "shifts_relative = shifts_code0.copy()*0\n",
    "\n",
    "def my_phase_corr(d1, d2):\n",
    "    image_product = np.fft.fft2(d1) * np.fft.fft2(d2).conj()\n",
    "    cc_image = np.fft.fftshift(np.fft.ifft2(image_product))\n",
    "    ind = np.unravel_index(np.argmax(cc_image.real, axis=None), cc_image.real.shape)\n",
    "    shifts = np.subtract(ind,d1.shape[-1]//2)\n",
    "    return shifts\n",
    "\n",
    "rdatat = rdata.copy()    \n",
    "for k in range(0,npos-1):         \n",
    "    shifts_relative[0,k] = my_phase_corr(rdata[0,k],rdata[0,k+1])\n",
    "    print(k,shifts_relative[0,k])\n",
    "    rdatat[:,k] = ST(rdata[:,k].astype('complex64'),shifts_relative[:,k]).real\n",
    "    if k%10==0:\n",
    "        mshow(rdatat[0,k]-rdatat[0,k+1],show,vmax=1,vmin=-1)\n",
    "np.save('shifts_relative',shifts_relative)    \n"
   ]
  },
  {
   "cell_type": "markdown",
   "id": "2d3e1339",
   "metadata": {},
   "source": []
  },
  {
   "cell_type": "code",
   "execution_count": null,
   "id": "41f9eaaa",
   "metadata": {},
   "outputs": [],
   "source": [
    "ipos = npos//2+9 # align wrt the middle\n",
    "shifts_relative = np.load('shifts_relative.npy')\n",
    "shifts_code_new = shifts_code0*0\n",
    "for k in range(ipos):\n",
    "    shifts_code_new[:,k] = np.sum(shifts_relative[:,k:ipos],axis=1) \n",
    "shifts_code_new[:,ipos] = shifts_code0[:,ipos]\n",
    "for k in range(ipos,npos):\n",
    "    shifts_code_new[:,k] = np.sum(-shifts_relative[:,ipos:k],axis=1)\n",
    "\n",
    "# back to original shape\n",
    "# original shape is bad, adjust it\n",
    "shifts_code0 = np.loadtxt(f'/data/vnikitin/ESRF/ID16A/20240924/positions/shifts_code_nfp18x18ordered.txt')[np.newaxis,:,::-1]\n",
    "shifts_code0[:,:,1]*=-1\n",
    "shifts_code0 = shifts_code0/voxelsize*1e-6\n",
    "\n",
    "print(shifts_code0[:,-10:])\n",
    "print(shifts_code_new[:,-10:])\n",
    "plt.plot(shifts_code0[0,:,1],shifts_code0[0,:,0],'.')\n",
    "plt.plot(shifts_code_new[0,:,1],shifts_code_new[0,:,0],'.')\n",
    "plt.show()\n",
    "\n",
    "np.save('shifts_code_new.npy',shifts_code_new)\n"
   ]
  },
  {
   "cell_type": "code",
   "execution_count": null,
   "id": "d03be768",
   "metadata": {},
   "outputs": [],
   "source": []
  }
 ],
 "metadata": {
  "kernelspec": {
   "display_name": "holotomocupy",
   "language": "python",
   "name": "python3"
  },
  "language_info": {
   "codemirror_mode": {
    "name": "ipython",
    "version": 3
   },
   "file_extension": ".py",
   "mimetype": "text/x-python",
   "name": "python",
   "nbconvert_exporter": "python",
   "pygments_lexer": "ipython3",
   "version": "3.12.4"
  }
 },
 "nbformat": 4,
 "nbformat_minor": 5
}
