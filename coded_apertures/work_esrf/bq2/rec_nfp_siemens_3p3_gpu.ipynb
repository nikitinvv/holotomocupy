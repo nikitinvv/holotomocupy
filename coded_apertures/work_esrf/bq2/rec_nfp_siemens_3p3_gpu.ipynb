{
 "cells": [
  {
   "cell_type": "code",
   "execution_count": null,
   "id": "fad77fab-e206-47c1-9655-088d14fe30cb",
   "metadata": {},
   "outputs": [],
   "source": [
    "import numpy as np\n",
    "import cupy as cp\n",
    "import h5py\n",
    "from holotomocupy.holo import G, GT\n",
    "from holotomocupy.shift import S, ST\n",
    "from holotomocupy.recon_methods import multiPaganin\n",
    "from holotomocupy.utils import *\n",
    "from holotomocupy.proc import remove_outliers\n",
    "import sys\n",
    "# Use managed memory\n",
    "# cp.cuda.set_allocator(cp.cuda.MemoryPool(cp.cuda.malloc_managed).malloc)"
   ]
  },
  {
   "cell_type": "markdown",
   "id": "3c0fdd65-1cff-451e-865e-56cd8b7882a6",
   "metadata": {},
   "source": [
    "# Init data sizes and parametes of the PXM of ID16A"
   ]
  },
  {
   "cell_type": "code",
   "execution_count": null,
   "id": "59fa16f2-1f9c-4b3a-a330-e10942f12234",
   "metadata": {},
   "outputs": [],
   "source": [
    "n = 2048  # object size in each dimension\n",
    "pad = n//4\n",
    "npos= 16\n",
    "\n",
    "detector_pixelsize = 3.03751e-6\n",
    "energy = 33.35  # [keV] xray energy\n",
    "wavelength = 1.2398419840550367e-09/energy  # [m] wave length\n",
    "focusToDetectorDistance = 1.28  # [m]\n",
    "sx0 = 1.286e-3\n",
    "z1 = np.tile(5.5e-3-sx0, [npos])\n",
    "z2 = focusToDetectorDistance-z1\n",
    "distances = (z1*z2)/focusToDetectorDistance\n",
    "magnifications = focusToDetectorDistance/z1\n",
    "voxelsize = np.abs(detector_pixelsize/magnifications[0]*2048/n)  # object voxel size\n",
    "\n",
    "# sample size after demagnification\n",
    "ne = int(2048/(2048/n)+2*pad)\n",
    "show = True\n",
    "\n",
    "rho = float(sys.argv[1])#0.5\n",
    "flg = f'{n}_{rho}'\n",
    "path = f'/data/vnikitin/ESRF/ID16A/20240924/SiemensLH/SiemensLH_003p3nm_1000ms_01/'\n",
    "path_ref = f'/data/vnikitin/ESRF/ID16A/20240924/SiemensLH/SiemensLH_003p3nm_1000ms_01/'\n",
    "path_out = f'/data/vnikitin/ESRF/ID16A/20240924_rec/SiemensLH/SiemensLH_003p3nm_1000ms_01/'\n",
    "\n",
    "\n",
    "print(f'{voxelsize=}')"
   ]
  },
  {
   "cell_type": "markdown",
   "id": "49eb1696-bb30-496e-8c3d-565f2791112c",
   "metadata": {},
   "source": [
    "## Read data"
   ]
  },
  {
   "cell_type": "code",
   "execution_count": null,
   "id": "c23a78d2",
   "metadata": {},
   "outputs": [],
   "source": [
    "with h5py.File(f'{path}SiemensLH_003p3nm_1000ms_010000.h5') as fid:\n",
    "    data0 = fid['/entry_0000/measurement/data'][:npos].astype('float32')\n",
    "    \n",
    "with h5py.File(f'{path_ref}ref_0000.h5') as fid:\n",
    "    ref0 = fid['/entry_0000/measurement/data'][:].astype('float32')\n",
    "with h5py.File(f'{path}/dark_0000.h5') as fid:\n",
    "    dark0 = fid['/entry_0000/measurement/data'][:].astype('float32')\n",
    "with h5py.File(f'{path}SiemensLH_003p3nm_1000ms_010000.h5','r') as fid:\n",
    "    spz = np.array(str(np.array(str(np.array(fid['/entry_0000/instrument/PCIe/header/spz']))[1:]))[1:-1].split(' '),dtype='float32')*1e-6/voxelsize\n",
    "    spy = np.array(str(np.array(str(np.array(fid['/entry_0000/instrument/PCIe/header/spy']))[1:]))[1:-1].split(' '),dtype='float32')*1e-6/voxelsize\n",
    "\n",
    "data0 = data0[np.newaxis]\n",
    "# plt.plot(spy,spz,'.')\n",
    "# plt.axis('square')\n",
    "# plt.show()\n",
    "shifts_code0 = np.zeros([1,npos,2],dtype='float32')\n",
    "shifts_code0[:,:,1] = spy\n",
    "shifts_code0[:,:,0] = -spz\n",
    "\n",
    "\n",
    "# for k in range(int(np.log2(2048//n))):\n",
    "#     data0 = (data0[:,:,::2]+data0[:,:,1::2])*0.5\n",
    "#     data0 = (data0[:,:,:,::2]+data0[:,:,:,1::2])*0.5\n",
    "#     ref0 = (ref0[:,::2]+ref0[:,1::2])*0.5\n",
    "#     ref0 = (ref0[:,:,::2]+ref0[:,:,1::2])*0.5    \n",
    "#     dark0 = (dark0[:,::2]+dark0[:,1::2])*0.5\n",
    "#     dark0 = (dark0[:,:,::2]+dark0[:,:,1::2])*0.5    \n",
    "\n"
   ]
  },
  {
   "cell_type": "code",
   "execution_count": null,
   "id": "1ab8bc8a",
   "metadata": {},
   "outputs": [],
   "source": [
    "import scipy.ndimage as ndimage\n",
    "def remove_outliers(data, dezinger, dezinger_threshold):    \n",
    "    res = data.copy()\n",
    "    if (int(dezinger) > 0):\n",
    "        w = int(dezinger)\n",
    "        # print(data.shape)\n",
    "        fdata = ndimage.median_filter(data, [1,w, w])\n",
    "        print(np.sum(np.abs(data-fdata)>fdata*dezinger_threshold))\n",
    "        res[:] = np.where(np.abs(data-fdata)>fdata*dezinger_threshold, fdata, data)\n",
    "    return res"
   ]
  },
  {
   "cell_type": "code",
   "execution_count": null,
   "id": "e1d4e4eb",
   "metadata": {},
   "outputs": [],
   "source": [
    "data = data0.copy()\n",
    "ref = ref0.copy()\n",
    "dark = dark0.copy()\n",
    "dark = np.mean(dark,axis=0)[np.newaxis]\n",
    "ref = np.mean(ref,axis=0)[np.newaxis]\n",
    "data-=dark\n",
    "ref-=dark\n",
    "\n",
    "data[data<0]=0\n",
    "ref[ref<0]=0\n",
    "# for k in range(data.shape[1]):\n",
    "#     data[0,k,data[0,k]>ref[0]] = ref[0,data[0,k]>ref[0]]\n",
    "\n",
    "data[:,:,1320:1320+25,890:890+25] = data[:,:,1280:1280+25,890:890+25]\n",
    "ref[:,1320:1320+25,890:890+25] = ref[:,1280:1280+25,890:890+25]\n",
    "\n",
    "for k in [1379]:\n",
    "    data[:,:,0::2,k] = (data[:,:,0::2,k-1]+data[:,:,0::2,k+1])*0.5\n",
    "    ref[:,0::2,k]=(ref[:,0::2,k-1]+ref[:,0::2,k+1])*0.5\n",
    "\n",
    "for k in [2086,3876]:\n",
    "    data[:,:,1::2,k] = (data[:,:,1::2,k-1]+data[:,:,1::2,k+1])*0.5\n",
    "    ref[:,1::2,k]=(ref[:,1::2,k-1]+ref[:,1::2,k+1])*0.5\n",
    "\n",
    "for k in [356]:    \n",
    "    data[:,:,k,:] = (data[:,:,k-1,:]+data[:,:,k+1,:])*0.5\n",
    "    ref[:,k,:] = (ref[:,k-1,:]+ref[:,k+1,:])*0.5\n",
    "for k in range(npos):\n",
    "    radius = 7\n",
    "    threshold = 0.75\n",
    "    # dxchange.write_tiff(data[:,k],'/data2/tmp/t1',overwrite=True)\n",
    "    data[:,k] = remove_outliers(data[:,k], radius, threshold)\n",
    "    # dxchange.write_tiff(data[:,k],'/data2/tmp/t2',overwrite=True)\n",
    "    \n",
    "ref[:] = remove_outliers(ref[:], radius, threshold)     \n",
    "\n",
    "data/=np.mean(ref)\n",
    "dark/=np.mean(ref)\n",
    "ref/=np.mean(ref)\n",
    "\n",
    "rdata = data/ref\n",
    "mshow_complex(data[0,0]+1j*rdata[0,0],show)\n",
    "mshow_complex(ref[0]+1j*dark[0],show)\n"
   ]
  },
  {
   "cell_type": "code",
   "execution_count": null,
   "id": "51544d90",
   "metadata": {},
   "outputs": [],
   "source": [
    "data = (data[:,:,::3]+data[:,:,1::3]+data[:,:,2::3])/3\n",
    "data = (data[:,:,:,::3]+data[:,:,:,1::3]+data[:,:,:,2::3])/3\n",
    "ref = (ref[:,::3]+ref[:,1::3]+ref[:,2::3])/3\n",
    "ref = (ref[:,:,::3]+ref[:,:,1::3]+ref[:,:,2::3])/3\n",
    "dark = (dark[:,::3]+dark[:,1::3]+dark[:,2::3])/3\n",
    "dark = (dark[:,:,::3]+dark[:,:,1::3]+dark[:,:,2::3])/3"
   ]
  },
  {
   "cell_type": "code",
   "execution_count": null,
   "id": "42574ccd",
   "metadata": {},
   "outputs": [],
   "source": [
    "rdata = data/ref\n",
    "dxchange.write_tiff(rdata[0,0],f'/data2/tmp/t4',overwrite=True)"
   ]
  },
  {
   "cell_type": "markdown",
   "id": "daee2463",
   "metadata": {},
   "source": [
    "# Construct operators\n"
   ]
  },
  {
   "cell_type": "code",
   "execution_count": null,
   "id": "adf88f3b",
   "metadata": {},
   "outputs": [],
   "source": [
    "def Lop(psi):\n",
    "    data = cp.zeros([psi.shape[0], npos, n, n], dtype='complex64')\n",
    "    for i in range(npos):\n",
    "        psir = cp.array(psi[:,i])       \n",
    "        psir = G(psir, wavelength, voxelsize, distances[i],'symmetric')\n",
    "        data[:, i] = psir[:, pad:n+pad, pad:n+pad]\n",
    "    return data\n",
    "\n",
    "def LTop(data):\n",
    "    psi = cp.zeros([data.shape[0],npos, n+2*pad, n+2*pad], dtype='complex64')\n",
    "    for j in range(npos):\n",
    "        datar = cp.array(data[:, j])\n",
    "        psir = cp.pad(datar, ((0, 0), (pad, pad), (pad, pad))).astype('complex64')\n",
    "        psir = GT(psir, wavelength, voxelsize, distances[j],'symmetric')        \n",
    "        psi[:,j] = psir\n",
    "    return psi\n",
    "\n",
    "def Sop(psi,shifts):\n",
    "    data = cp.zeros([psi.shape[0], npos, n+2*pad, n+2*pad], dtype='complex64')\n",
    "    psi = cp.array(psi)\n",
    "    for i in range(npos):\n",
    "        psir = psi.copy()\n",
    "        shiftsr = cp.array(shifts[:, i])\n",
    "        psir = S(psir, shiftsr,'symmetric')\n",
    "        nee = psir.shape[1]        \n",
    "        data[:,i] = psir[:, nee//2-n//2-pad:nee//2+n//2+pad, nee//2-n//2-pad:nee//2+n//2+pad]\n",
    "    return data\n",
    "\n",
    "def STop(data,shifts):\n",
    "    psi = cp.zeros([data.shape[0], ne, ne], dtype='complex64')\n",
    "\n",
    "    for j in range(npos):\n",
    "        datar = cp.array(data[:,j])\n",
    "        shiftsr = cp.array(shifts[:, j])        \n",
    "        psir = cp.pad(datar,((0,0),(ne//2-n//2-pad,ne//2-n//2-pad),(ne//2-n//2-pad,ne//2-n//2-pad)))        \n",
    "        psi += ST(psir,shiftsr,'symmetric')\n",
    "    return psi\n",
    "\n",
    "# adjoint tests\n",
    "tmp = cp.array(data).copy()\n",
    "arr1 = cp.pad(tmp[:,0],((0,0),(ne//2-n//2,ne//2-n//2),(ne//2-n//2,ne//2-n//2)),'symmetric')     \n",
    "prb1 = cp.ones([1,n+2*pad,n+2*pad],dtype='complex64')\n",
    "shifts = cp.array(shifts_code0)\n",
    "arr2 = Sop(arr1,shifts*rho)\n",
    "arr3 = STop(arr2,shifts*rho)\n",
    "\n",
    "arr4 = Lop(arr2)\n",
    "arr5 = LTop(arr4)\n",
    "\n",
    "print(f'{np.sum(arr1*np.conj(arr3))}==\\n{np.sum(arr2*np.conj(arr2))}')\n",
    "print(f'{np.sum(arr2*np.conj(arr5))}==\\n{np.sum(arr4*np.conj(arr4))}')"
   ]
  },
  {
   "cell_type": "markdown",
   "id": "1fe0cb15",
   "metadata": {},
   "source": [
    "## Reconstruction with the CG (Carlsson) with Hessians"
   ]
  },
  {
   "cell_type": "markdown",
   "id": "8217811d",
   "metadata": {},
   "source": [
    "### Define real-valued summation and dot product"
   ]
  },
  {
   "cell_type": "code",
   "execution_count": null,
   "id": "6d3e4bb2",
   "metadata": {},
   "outputs": [],
   "source": [
    "def reprod(a,b):\n",
    "    return a.real*b.real+a.imag*b.imag\n",
    "\n",
    "def redot(a,b,axis=None):    \n",
    "    res = np.sum(reprod(a,b),axis=axis)        \n",
    "    return res"
   ]
  },
  {
   "cell_type": "markdown",
   "id": "691261ac",
   "metadata": {},
   "source": [
    "## Gradients"
   ]
  },
  {
   "cell_type": "markdown",
   "id": "bd7163cd",
   "metadata": {},
   "source": [
    "#### $$\\nabla F=2 \\left(L^*\\left( L(M(q_0,\\psi_0,\\boldsymbol{x}_0))-\\tilde D\\right)\\right).$$\n",
    "#### where $$\\tilde D = D \\frac{L(M(q_0,\\psi_0,\\boldsymbol{x}_0))}{|L(M(q_0,\\psi_0,\\boldsymbol{x}_0))|}$$\n",
    "\n"
   ]
  },
  {
   "cell_type": "code",
   "execution_count": null,
   "id": "eba2083c",
   "metadata": {},
   "outputs": [],
   "source": [
    "def gradientF(vars,d):\n",
    "    (psi,q,x) = (vars['psi'], vars['prb'], vars['shift'])\n",
    "    Lpsi = Lop(Sop(psi,x)*q)\n",
    "    td = d*(Lpsi/np.abs(Lpsi))\n",
    "    res = 2*LTop(Lpsi - td)\n",
    "    return res"
   ]
  },
  {
   "cell_type": "markdown",
   "id": "d6e8178a",
   "metadata": {},
   "source": [
    "##### $$\\nabla_{\\psi} G|_{(q_0,\\psi_0,\\boldsymbol{x}_0)}=S_{\\boldsymbol{x}_{0}}^*\\left(\\overline{J(q_0)}\\cdot \\nabla F\\right).$$\n",
    "##### $$\\nabla_{q} G|_{(q_0,\\psi_0,\\boldsymbol{x}_0)}=J^*\\left( \\overline{S_{\\boldsymbol{x}_{0}}(\\psi_0)}\\cdot \\nabla F\\right).$$\n",
    "##### $$\\nabla_{\\boldsymbol{x}_0} G|_{(q_0,\\psi_0,\\boldsymbol{x}_0)}=\\textsf{Re}\\Big(\\big( \\Big\\langle \\overline{q_0}\\cdot \\nabla F,   C(\\mathcal{F}^{-1}(-2\\pi i \\xi_1 e^{ -2\\pi i \\boldsymbol{x}_{0,k}\\cdot \\boldsymbol{\\xi}}\\hat{\\psi_0}))\\Big\\rangle,\\Big\\langle \\overline{q_0}\\cdot \\nabla F,C(\\mathcal{F}^{-1}(-2\\pi i \\xi_2 e^{ -2\\pi i \\boldsymbol{x}_{0,k}\\cdot \\boldsymbol{\\xi}}\\hat{\\psi_0})) \\Big\\rangle\\big)\\Big)_{k=1}^K. $$\n",
    "\n",
    "#### new operator $$T_{\\psi,w}(x) = C(\\mathcal{F}^{-1}(w e^{-2\\pi i \\boldsymbol{x}_{0}\\cdot \\boldsymbol{\\xi}}\\hat{\\psi_0}))$$\n",
    "\n",
    "\n"
   ]
  },
  {
   "cell_type": "code",
   "execution_count": null,
   "id": "3e22132b",
   "metadata": {},
   "outputs": [],
   "source": [
    "def gradientpsi(q,x,gradF):\n",
    "    return STop(np.conj(q)*gradF,x)\n",
    "\n",
    "def gradientq(psi,x,gradF):\n",
    "    return np.sum(np.conj(Sop(psi,x))*gradF,axis=1)\n",
    "\n",
    "def Twop_(psi,x,w):\n",
    "    data = cp.zeros([psi.shape[0], npos, n+2*pad, n+2*pad], dtype='complex64')\n",
    "    psi = cp.array(psi)\n",
    "    xi1 = cp.fft.fftfreq(2*ne).astype('float32')\n",
    "    [xi2, xi1] = cp.meshgrid(xi1, xi1)\n",
    "    for i in range(npos):\n",
    "        psir = psi.copy()            \n",
    "        p = cp.array(x[:,i])\n",
    "        psir = cp.pad(psir, ((0, 0), (ne//2, ne//2), (ne//2, ne//2)), 'symmetric')\n",
    "        pp = w*cp.exp(-2*cp.pi*1j*(xi1*p[:, 0, None, None]+xi2*p[:, 1, None, None]))    \n",
    "        psir = cp.fft.ifft2(pp*cp.fft.fft2(psir))   \n",
    "        data[:,i] = psir[:, ne-n//2-pad:ne+n//2+pad, ne-n//2-pad:ne+n//2+pad]        \n",
    "    return data\n",
    "\n",
    "def gradientx(psi,q,x,gradF):\n",
    "    xi1 = cp.fft.fftfreq(2*psi.shape[-1]).astype('float32')    \n",
    "    [xi2, xi1] = cp.meshgrid(xi1, xi1)  \n",
    "    tksi1 = Twop_(psi,x,-2*cp.pi*1j*xi1)\n",
    "    tksi2 = Twop_(psi,x,-2*cp.pi*1j*xi2)    \n",
    "    gradx = cp.zeros([1,npos,2],dtype='float32')\n",
    "    tmp = np.conj(q)*gradF\n",
    "    gradx[:,:,0] = redot(tmp,tksi1,axis=(2,3))\n",
    "    gradx[:,:,1] = redot(tmp,tksi2,axis=(2,3))\n",
    "    return gradx\n",
    "\n",
    "def gradients(vars,d,gradF):\n",
    "    (psi,q,x) = (vars['psi'], vars['prb'], vars['shift'])\n",
    "    grads = {}\n",
    "    grads['psi'] = gradientpsi(q,x,gradF)\n",
    "    grads['prb'] = gradientq(psi,x,gradF)\n",
    "    grads['shift'] = rho*gradientx(psi,q,x,gradF)\n",
    "    return grads"
   ]
  },
  {
   "cell_type": "markdown",
   "id": "3b092076",
   "metadata": {},
   "source": [
    "##### $$\\frac{1}{2}\\mathcal{H}|_{x_0}(y,z)= \\left\\langle \\mathbf{1}-d_{0}, \\mathsf{Re}({L(y)}\\overline{L(z)})\\right\\rangle+\\left\\langle d_{0},(\\mathsf{Re} (\\overline{l_0}\\cdot L(y)))\\cdot (\\mathsf{Re} (\\overline{l_0}\\cdot L(z)))\\right\\rangle.$$\n",
    "##### $$l_0=L(x_0)/|L(x_0)|$$\n",
    "##### $$d_0=d/|L(x_0)|$$\n"
   ]
  },
  {
   "cell_type": "code",
   "execution_count": null,
   "id": "28d6df09",
   "metadata": {},
   "outputs": [],
   "source": [
    "def hessianF(hpsi,hpsi1,hpsi2,data):\n",
    "    Lpsi = Lop(hpsi)        \n",
    "    Lpsi1 = Lop(hpsi1)\n",
    "    Lpsi2 = Lop(hpsi2)    \n",
    "    l0 = Lpsi/np.abs(Lpsi)\n",
    "    d0 = data/np.abs(Lpsi)\n",
    "    v1 = np.sum((1-d0)*reprod(Lpsi1,Lpsi2))\n",
    "    v2 = np.sum(d0*reprod(l0,Lpsi1)*reprod(l0,Lpsi2))    \n",
    "    return 2*(v1+v2)"
   ]
  },
  {
   "cell_type": "markdown",
   "id": "9eecc3fb",
   "metadata": {},
   "source": [
    "#### $$ D T_\\psi|_{{\\boldsymbol{z}_0}}(\\Delta \\boldsymbol{z})=C(\\mathcal{F}^{-1}(-2\\pi i\\xi_1 e^{ -2\\pi i\\boldsymbol{z}_0\\cdot \\boldsymbol{\\xi}}\\hat{\\psi}))\\Delta {z}_{1}+C(\\mathcal{F}^{-1}(-2\\pi i\\xi_2 e^{-2\\pi i \\boldsymbol{z}_0\\cdot \\boldsymbol{\\xi}}\\hat{\\psi}))\\Delta {z}_2$$"
   ]
  },
  {
   "cell_type": "code",
   "execution_count": null,
   "id": "821b4626",
   "metadata": {},
   "outputs": [],
   "source": [
    "\n",
    "def DT(psi,x,dx):\n",
    "    xi1 = cp.fft.fftfreq(2*psi.shape[-1]).astype('float32')\n",
    "    [xi2, xi1] = cp.meshgrid(xi1, xi1)\n",
    "    tksi1 = Twop_(psi,x,-2*cp.pi*1j*xi1)\n",
    "    tksi2 = Twop_(psi,x,-2*cp.pi*1j*xi2)\n",
    "    res = tksi1*dx[:,:,0,None,None]+tksi2*dx[:,:,1,None,None]\n",
    "    return res"
   ]
  },
  {
   "cell_type": "markdown",
   "id": "a9a5c09a",
   "metadata": {},
   "source": [
    "#### $$D^2{T_\\psi}|_{{\\boldsymbol{z}_0}}(\\Delta\\boldsymbol{z},\\Delta\\boldsymbol{w})=$$\n",
    "#### $$\\Delta {z}_{1}\\Delta {w}_{1} C(\\mathcal{F}^{-1}(-4\\pi^2 \\xi_1^2 e^{ -2\\pi i\\boldsymbol{z}_0\\cdot \\boldsymbol{\\xi}}\\hat{\\psi})) +(\\Delta {z}_{1}\\Delta {w}_{2} +$$\n",
    "#### $$ \\Delta {w}_{1}\\Delta {z}_{2})C(\\mathcal{F}^{-1}(-4\\pi^2 \\xi_1\\xi_2 e^{ -2\\pi i\\boldsymbol{z}_0\\cdot \\boldsymbol{\\xi}}\\hat{\\psi}))+\\Delta {z}_{2}\\Delta {w}_{2} C(\\mathcal{F}^{-1}(-4\\pi^2\\xi_2^2 e^{ -2\\pi i\\boldsymbol{z}_0\\cdot \\boldsymbol{\\xi}}\\hat{\\psi}))$$"
   ]
  },
  {
   "cell_type": "code",
   "execution_count": null,
   "id": "1f184a71",
   "metadata": {},
   "outputs": [],
   "source": [
    "def D2T(psi,x,dx1,dx2):\n",
    "    xi1 = cp.fft.fftfreq(2*psi.shape[-1]).astype('float32')\n",
    "    [xi2,xi1] = cp.meshgrid(xi1, xi1)\n",
    "    dx11 = dx1[:,:,:,None,None] \n",
    "    dx22 = dx2[:,:,:,None,None] \n",
    "    res = dx11[:,:,0]*dx22[:,:,0]*Twop_(psi,x,-4*cp.pi**2*xi1**2)+ \\\n",
    "         (dx11[:,:,0]*dx22[:,:,1]+dx11[:,:,1]*dx22[:,:,0])*Twop_(psi,x,-4*cp.pi**2*xi1*xi2)+ \\\n",
    "          dx11[:,:,1]*dx22[:,:,1]*Twop_(psi,x,-4*cp.pi**2*xi2**2)\n",
    "    return res"
   ]
  },
  {
   "cell_type": "markdown",
   "id": "731f8313",
   "metadata": {},
   "source": [
    "#### $$ DM|_{(q_0,\\psi_0,\\boldsymbol{x})}(\\Delta q, \\Delta \\psi,\\Delta\\boldsymbol{x})=$$\n",
    "#### $$ \\Big(\\Delta q\\cdot T_{\\psi_0}({\\boldsymbol{x}_{0,k}})+ q_0\\cdot \\big(T_{\\Delta \\psi}({\\boldsymbol{x}_{0,k}})+  DT_{\\psi_0}|_{{\\boldsymbol{x}_{0,k}}}( \\Delta \\boldsymbol{x}_k)\\big) \\Big)_{k=1}^K=$$\n",
    "#### $$ J(\\Delta q)\\cdot S_{\\boldsymbol{x}_{0,k}}(\\psi_0)+ J(q_0)\\cdot S_{\\boldsymbol{x}_{0}}{(\\Delta \\psi)}+  \\Big(q_0\\cdot DT_{\\psi_0}|_{{\\boldsymbol{x}_{0,k}}}( \\Delta \\boldsymbol{x}_k) \\Big)_{k=1}^K$$\n"
   ]
  },
  {
   "cell_type": "code",
   "execution_count": null,
   "id": "a4ca2c75",
   "metadata": {},
   "outputs": [],
   "source": [
    "def DM(psi,q,x,dpsi,dq,dx):\n",
    "    res = dq*Sop(psi,x)+q*(Sop(dpsi,x)+rho*DT(psi,x,dx))   \n",
    "    return res"
   ]
  },
  {
   "cell_type": "markdown",
   "id": "06a620b3",
   "metadata": {},
   "source": [
    "##### $$ D^2M|_{(q_0,\\psi_0,\\boldsymbol{x})}\\big((\\Delta q^{(1)}, \\Delta \\psi^{(1)},\\Delta\\boldsymbol{x}^{(1)}),(\\Delta q^{(2)}, \\Delta \\psi^{(2)},\\Delta\\boldsymbol{x}^{(2)})\\big)= $$\n",
    "##### $$\\Big( q_0\\cdot DT_{\\Delta\\psi^{(1)}}|_{{\\boldsymbol{x}_{0,k}}}( \\Delta \\boldsymbol{x}^{(2)})+q_0\\cdot DT_{\\Delta\\psi^{(2)}}|_{{\\boldsymbol{x}_{0,k}}}( \\Delta \\boldsymbol{x}^{(1)})+ q_0\\cdot D^2{T_\\psi}|_{{\\boldsymbol{x}_0}}(\\Delta\\boldsymbol{x}^{(1)},\\Delta\\boldsymbol{x}^{(2)})+$$\n",
    "##### $$\\Delta q^{(1)}\\cdot T_{\\Delta \\psi^{(2)}}({\\boldsymbol{x}_{0,k}})+\\Delta q^{(2)}\\cdot T_{\\Delta \\psi^{(1)}}({\\boldsymbol{x}_{0,k}})+ $$\n",
    "##### $$\\Delta q^{(1)}\\cdot DT_{\\psi_0}|_{{\\boldsymbol{x}_{0,k}}}( \\Delta \\boldsymbol{x}^{(2)})+\\Delta q^{(2)}\\cdot DT_{\\psi_0}|_{{\\boldsymbol{x}_{0,k}}}( \\Delta \\boldsymbol{x}^{(1)})\\Big)_{k=1}^K.$$\n"
   ]
  },
  {
   "cell_type": "code",
   "execution_count": null,
   "id": "30042540",
   "metadata": {},
   "outputs": [],
   "source": [
    "def D2M(psi,q,x,dpsi1,dq1,dx1,dpsi2,dq2,dx2):    \n",
    "    res =  q*rho*DT(dpsi1,x,dx2) + q*rho*DT(dpsi2,x,dx1) + q*rho**2*D2T(psi,x,dx1,dx2)  \n",
    "    res += dq1*Sop(dpsi2,x) + dq2*Sop(dpsi1,x) \n",
    "    res += dq1*rho*DT(psi,x,dx2) + dq2*rho*DT(psi,x,dx1)\n",
    "    return res"
   ]
  },
  {
   "cell_type": "markdown",
   "id": "aab33f2e",
   "metadata": {},
   "source": [
    "##### $$\\mathcal{H}^G|_{ (q_0,\\psi_0,\\boldsymbol{x}_0)}\\Big((\\Delta q^{(1)},\\Delta \\psi^{(1)},\\Delta \\boldsymbol{x}^{(1)}),(\\Delta q^{(2)},\\Delta \\psi^{(2)},\\Delta \\boldsymbol{x}^{(2)})\\Big)=$$\n",
    "##### $$\\Big\\langle \\nabla F|_{M(q_0,\\psi_0,\\boldsymbol{x}_0)}, D^2M|_{(q_0,\\psi_0,\\boldsymbol{x}_0)}\\Big((\\Delta q^{(1)},\\Delta \\psi^{(1)},\\Delta \\boldsymbol{x}^{(1)}),(\\Delta q^{(2)},\\Delta \\psi^{(2)},\\Delta \\boldsymbol{x}^{(2)})\\Big)\\Big\\rangle +$$\n",
    "##### $$\\mathcal{H}^F|_{M(q_0,\\psi_0,\\boldsymbol{x}_0)}\\Big(DM|_{(q_0,\\psi_0,\\boldsymbol{x}_0)}(\\Delta q^{(1)},\\Delta \\psi^{(1)},\\Delta \\boldsymbol{x}^{(1)}),DM|_{(q_0,\\psi_0,\\boldsymbol{x}_0)}(\\Delta q^{(2)},\\Delta \\psi^{(2)},\\Delta \\boldsymbol{x}^{(2)})\\Big).$$"
   ]
  },
  {
   "cell_type": "code",
   "execution_count": null,
   "id": "73461e33",
   "metadata": {},
   "outputs": [],
   "source": [
    "def hessian2(psi,q,x,dpsi1,dq1,dx1,dpsi2,dq2,dx2,d,gradF):\n",
    "    d2m = D2M(psi,q,x,dpsi1,dq1,dx1,dpsi2,dq2,dx2)\n",
    "    dm1 = DM(psi,q,x,dpsi1,dq1,dx1)\n",
    "    dm2 = DM(psi,q,x,dpsi2,dq2,dx2)\n",
    "    sq = Sop(psi,x)*q    \n",
    "        \n",
    "    return redot(gradF,d2m)+hessianF(sq, dm1,dm2,d)         "
   ]
  },
  {
   "cell_type": "code",
   "execution_count": null,
   "id": "a3990a45",
   "metadata": {},
   "outputs": [],
   "source": [
    "def calc_beta(vars,grads,etas,d,gradF):\n",
    "    (psi,q,x) = (vars['psi'], vars['prb'], vars['shift'])\n",
    "    (dpsi1,dq1,dx1) = (grads['psi'], grads['prb'], grads['shift'])\n",
    "    (dpsi2,dq2,dx2) = (etas['psi'], etas['prb'], etas['shift'])\n",
    "    \n",
    "    dm1 = DM(psi,q,x,dpsi1,dq1,dx1)\n",
    "    dm2 = DM(psi,q,x,dpsi2,dq2,dx2)\n",
    "    d2m1 = D2M(psi,q,x,dpsi1,dq1,dx1,dpsi2,dq2,dx2)\n",
    "    d2m2 = D2M(psi,q,x,dpsi2,dq2,dx2,dpsi2,dq2,dx2)\n",
    "    sq = Sop(psi,x)*q\n",
    "\n",
    "    top = redot(gradF,d2m1)    \n",
    "    top += hessianF(sq, dm1, dm2, d)  \n",
    "\n",
    "    bottom = redot(gradF,d2m2)    \n",
    "    bottom += hessianF(sq, dm2, dm2, d)  \n",
    "\n",
    "    return top/bottom\n",
    "\n",
    "def calc_alpha(vars,grads,etas,d,gradF):    \n",
    "    (psi,q,x) = (vars['psi'], vars['prb'], vars['shift'])\n",
    "    (dpsi1,dq1,dx1) = (grads['psi'], grads['prb'], grads['shift'])\n",
    "    (dpsi2,dq2,dx2) = (etas['psi'], etas['prb'], etas['shift'])\n",
    "    \n",
    "    dm2 = DM(psi,q,x,dpsi2,dq2,dx2)\n",
    "    d2m2 = D2M(psi,q,x,dpsi2,dq2,dx2,dpsi2,dq2,dx2)\n",
    "    sq = Sop(psi,x)*q\n",
    "    \n",
    "    top = -redot(dpsi1,dpsi2)-redot(dq1,dq2)-redot(dx1,dx2)\n",
    "    bottom = redot(gradF,d2m2)+hessianF(sq, dm2, dm2, d)  \n",
    "    \n",
    "    return top/bottom, top, bottom"
   ]
  },
  {
   "cell_type": "markdown",
   "id": "d0c60557",
   "metadata": {},
   "source": [
    "### Initial guess for reconstruction (Paganin)"
   ]
  },
  {
   "cell_type": "code",
   "execution_count": null,
   "id": "cb50e362",
   "metadata": {},
   "outputs": [],
   "source": [
    "def rec_init(rdata,shifts):\n",
    "    recMultiPaganin = cp.zeros([1,npos,ne,ne],dtype='float32')\n",
    "    recMultiPaganinr = cp.zeros([1,npos,ne,ne],dtype='float32')# to compensate for overlap\n",
    "    for j in range(0,npos):\n",
    "        rdatar = cp.array(rdata[:,j:j+1])\n",
    "        r = multiPaganin(rdatar,\n",
    "                            distances[j:j+1], wavelength, voxelsize,  24.05, 1e-2)    \n",
    "        rr = r*0+1 # to compensate for overlap\n",
    "        r = cp.pad(r,((0,0), (ne//2-n//2,ne//2-n//2), (ne//2-n//2,ne//2-n//2)),'symmetric')   \n",
    "        rr = cp.pad(rr,((0,0), (ne//2-n//2,ne//2-n//2), (ne//2-n//2,ne//2-n//2)),'symmetric')   \n",
    "        shiftsr = cp.array(shifts[:,j])\n",
    "        recMultiPaganin[:,j] = ST(r,shiftsr).real\n",
    "        recMultiPaganinr[:,j] = ST(rr,shiftsr).real\n",
    "        \n",
    "    recMultiPaganin = np.sum(recMultiPaganin,axis=1)\n",
    "    recMultiPaganinr = np.sum(recMultiPaganinr,axis=1)\n",
    "\n",
    "    # avoid division by 0\n",
    "    recMultiPaganinr[np.abs(recMultiPaganinr)<5e-2] = 1\n",
    "\n",
    "    # compensate for overlap\n",
    "    recMultiPaganin /= recMultiPaganinr\n",
    "    v = cp.ones(ne,dtype='float32')\n",
    "    v[:pad] = np.sin(cp.linspace(0,1,pad)*np.pi/2)\n",
    "    v[-pad:] = np.cos(cp.linspace(0,1,pad)*np.pi/2)\n",
    "    v = np.outer(v,v)\n",
    "    recMultiPaganin*=v\n",
    "    recMultiPaganin = np.exp(1j*recMultiPaganin)\n",
    "\n",
    "    return recMultiPaganin\n",
    "\n",
    "rec_paganin = rec_init(rdata,shifts)\n",
    "mshow_polar(rec_paganin[0],show,vmax=0)\n",
    "mshow_polar(rec_paganin[0,ne//2-128:ne//2+128,ne//2-128:ne//2+128],show)"
   ]
  },
  {
   "cell_type": "markdown",
   "id": "d4006eb6",
   "metadata": {},
   "source": [
    "## debug functions"
   ]
  },
  {
   "cell_type": "code",
   "execution_count": null,
   "id": "b79db8a3",
   "metadata": {},
   "outputs": [],
   "source": [
    "def minf(fpsi,data):\n",
    "    f = np.linalg.norm(np.abs(fpsi)-data)**2\n",
    "    return f\n",
    "\n",
    "# def plot_debug2(psi,prb,shifts,etapsi,etaprb,etashift,top,bottom,gammah,data):\n",
    "#     npp = 17\n",
    "#     errt = np.zeros(npp*2)\n",
    "#     errt2 = np.zeros(npp*2)\n",
    "#     for k in range(0,npp*2):\n",
    "#         psit = psi+(gammah*k/(npp-1))*etapsi\n",
    "#         prbt = prb+(gammah*k/(npp-1))*etaprb\n",
    "#         shiftst = shifts+(gammah*k/(npp-1))*etashift\n",
    "#         fpsit = Lop(Sop(psit,shiftst)*prbt)\n",
    "#         errt[k] = minf(fpsit,data)    \n",
    "\n",
    "#     t = gammah*(cp.arange(2*npp))/(npp-1)\n",
    "#     errt2 = minf(Lop(Sop(psi,shifts)*prb),data)-top*t+0.5*bottom*t**2\n",
    "    \n",
    "#     plt.plot(gammah*np.arange(2*npp)/(npp-1),errt,'.')\n",
    "#     plt.plot(gammah*np.arange(2*npp)/(npp-1),errt2,'.')\n",
    "#     plt.show()\n",
    "\n",
    "def plot_debug2(vars,etas,top,bottom,alpha,data):\n",
    "    (psi,q,x) = (vars['psi'], vars['prb'], vars['shift'])\n",
    "    (dpsi2,dq2,dx2) = (etas['psi'],etas['prb'],etas['shift'])\n",
    "    npp = 17\n",
    "    errt = cp.zeros(npp*2)\n",
    "    errt2 = cp.zeros(npp*2)\n",
    "    for k in range(0,npp*2):\n",
    "        psit = psi+(alpha*k/(npp-1))*dpsi2\n",
    "        qt = q+(alpha*k/(npp-1))*dq2\n",
    "        xt = x+(alpha*k/(npp-1))*dx2*rho\n",
    "        fpsit = Lop(Sop(psit,xt)*qt)\n",
    "        errt[k] = minf(fpsit,data)    \n",
    "\n",
    "    t = alpha*(cp.arange(2*npp))/(npp-1)\n",
    "    errt2 = minf(Lop(Sop(psi,x)*q),data)-top*t+0.5*bottom*t**2\n",
    "    \n",
    "    plt.plot(alpha.get()*cp.arange(2*npp).get()/(npp-1),errt.get(),'.')\n",
    "    plt.plot(alpha.get()*cp.arange(2*npp).get()/(npp-1),errt2.get(),'.')\n",
    "    plt.show()\n",
    "\n",
    "def plot_debug3(shifts,shifts_init):\n",
    "    plt.plot(shifts_init[0,:,0].get()-(shifts[0,:,0].get()),'r.')\n",
    "    plt.plot(shifts_init[0,:,1].get()-(shifts[0,:,1].get()),'b.')\n",
    "    plt.show()\n",
    "\n",
    "def vis_debug(vars,i):\n",
    "    mshow_polar(vars['psi'][0],show)\n",
    "    mshow_polar(vars['psi'][0,ne//2-128:ne//2+128,ne//2-128:ne//2+128],show)\n",
    "    mshow_polar(vars['prb'][0],show)\n",
    "    dxchange.write_tiff(np.angle(vars['psi'][0]).get(),f'{path_out}/crec_code_angle{flg}/{i:03}',overwrite=True)\n",
    "    dxchange.write_tiff(np.angle(vars['prb'][0]).get(),f'{path_out}/crec_prb_angle{flg}/{i:03}',overwrite=True)\n",
    "    dxchange.write_tiff(np.abs(vars['psi'][0]).get(),f'{path_out}/crec_code_abs{flg}/{i:03}',overwrite=True)\n",
    "    dxchange.write_tiff(np.abs(vars['prb'][0]).get(),f'{path_out}/crec_prb_abs{flg}/{i:03}',overwrite=True)\n",
    "    np.save(f'{path_out}/crec_shift{flg}_{i:03}',vars['shift'])\n",
    "\n",
    "    \n",
    "def err_debug(vars, grads, data):    \n",
    "    err = minf(Lop(Sop(vars['psi'],vars['shift'])*vars['prb']),data)    \n",
    "    print(f'gradient norms (psi, prb, shift): {np.linalg.norm(grads['psi']):.2f}, {np.linalg.norm(grads['prb']):.2f}, {np.linalg.norm(grads['shift']):.2f}')                        \n",
    "    return err"
   ]
  },
  {
   "cell_type": "markdown",
   "id": "9b6e3f71",
   "metadata": {},
   "source": [
    "# Main CG loop (fifth rule)"
   ]
  },
  {
   "cell_type": "code",
   "execution_count": null,
   "id": "901f10e1",
   "metadata": {},
   "outputs": [],
   "source": [
    "def cg_holo(data, vars, pars):\n",
    "\n",
    "    data = np.sqrt(data)    \n",
    "    \n",
    "    erra = cp.zeros(pars['niter'])\n",
    "    alphaa = cp.zeros(pars['niter'])    \n",
    "    shifts_init = vars['shift'].copy()\n",
    "    for i in range(pars['niter']):              \n",
    "        gradF = gradientF(vars,data)\n",
    "        grads = gradients(vars,data,gradF)\n",
    "        if i<64:\n",
    "            grads['shift'][:]=0\n",
    "        \n",
    "        if i==0:\n",
    "            etas = {}\n",
    "            etas['psi'] = -grads['psi']\n",
    "            etas['prb'] = -grads['prb']\n",
    "            etas['shift'] = -grads['shift']\n",
    "        else:      \n",
    "            beta = calc_beta(vars, grads, etas, data, gradF)\n",
    "            etas['psi'] = -grads['psi'] + beta*etas['psi']\n",
    "            etas['prb'] = -grads['prb'] + beta*etas['prb']\n",
    "            etas['shift'] = -grads['shift'] + beta*etas['shift']\n",
    "\n",
    "        alpha,top,bottom = calc_alpha(vars, grads, etas, data, gradF) \n",
    "        if i % pars['vis_step'] == 0:\n",
    "            plot_debug2(vars,etas,top,bottom,alpha,data)\n",
    "\n",
    "        vars['psi'] += alpha*etas['psi']\n",
    "        vars['prb'] += alpha*etas['prb']\n",
    "        vars['shift'] += alpha*rho*etas['shift']\n",
    "        \n",
    "        if i % pars['err_step'] == 0:\n",
    "            err = err_debug(vars, grads, data)    \n",
    "            print(f'{i}) {alpha=:.5f}, {err=:1.5e}',flush=True)\n",
    "            erra[i] = err\n",
    "            alphaa[i] = alpha\n",
    "\n",
    "        if i % pars['vis_step'] == 0:\n",
    "            vis_debug(vars, i)\n",
    "            plot_debug3(vars['shift'],shifts_init)            \n",
    "            \n",
    "    return vars,erra,alphaa\n",
    "\n",
    "vars = {}\n",
    "vars['psi'] = cp.array(rec_paganin).copy()\n",
    "vars['prb'] = cp.ones([1,n+2*pad,n+2*pad],dtype='complex64')\n",
    "vars['shift'] = cp.array(shifts)\n",
    "data = cp.array(data)\n",
    "pars = {'niter': 2049, 'err_step': 4, 'vis_step': 16}\n",
    "vars,erra,alphaa = cg_holo(data, vars, pars)   "
   ]
  }
 ],
 "metadata": {
  "kernelspec": {
   "display_name": "Python 3 (ipykernel)",
   "language": "python",
   "name": "python3"
  },
  "language_info": {
   "codemirror_mode": {
    "name": "ipython",
    "version": 3
   },
   "file_extension": ".py",
   "mimetype": "text/x-python",
   "name": "python",
   "nbconvert_exporter": "python",
   "pygments_lexer": "ipython3",
   "version": "3.12.4"
  }
 },
 "nbformat": 4,
 "nbformat_minor": 5
}
