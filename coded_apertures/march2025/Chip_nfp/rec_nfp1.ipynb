{
 "cells": [
  {
   "cell_type": "code",
   "execution_count": null,
   "metadata": {},
   "outputs": [],
   "source": [
    "import cupy as cp\n",
    "import matplotlib.pyplot as plt\n",
    "import pandas as pd\n",
    "import sys\n",
    "from types import SimpleNamespace\n",
    "import warnings\n",
    "warnings.filterwarnings(\"ignore\", message=f\".*peer.*\")\n",
    "\n",
    "\n",
    "sys.path.insert(0, '..')\n",
    "from utils import *\n",
    "from rec import Rec\n",
    "\n",
    "%matplotlib inline"
   ]
  },
  {
   "cell_type": "code",
   "execution_count": null,
   "metadata": {},
   "outputs": [],
   "source": [
    "# a = np.load(f'/data/vnikitin/ESRF/ID16A/20240924_rec0224/Chip_nfp/s2/r{1024:04}.npy')[:16]\n",
    "# plt.plot(a[:,1],a[:,0],'.')\n",
    "# plt.grid()"
   ]
  },
  {
   "cell_type": "markdown",
   "metadata": {},
   "source": [
    "## Sizes and propagation settings"
   ]
  },
  {
   "cell_type": "code",
   "execution_count": null,
   "metadata": {},
   "outputs": [],
   "source": [
    "energy = 33.5\n",
    "wavelength = 1.24e-09 / energy\n",
    "z1 = 3.393*1e-3-1.286*1e-3  # [m] position of the sample\n",
    "detector_pixelsize = 3.03751e-6/3\n",
    "focusToDetectorDistance = 1.28  # [m]\n",
    "# adjustments for the cone beam\n",
    "z2 = focusToDetectorDistance - z1\n",
    "distance = (z1 * z2) / focusToDetectorDistance\n",
    "magnification = focusToDetectorDistance / z1\n",
    "voxelsize = float(cp.abs(detector_pixelsize / magnification))\n",
    "path = f\"/data/vnikitin/ESRF/ID16A/20240924/Chip/Chip_005nm_155deg_binning1_nfpPSEUDO_RANDOM/\"\n",
    "path2 = f\"/data/vnikitin/ESRF/ID16A/20240924/Chip/Chip_005nm_155deg_binning1_nfpPSEUDO_RANDOM_repeat/\"\n",
    "voxelsize"
   ]
  },
  {
   "cell_type": "code",
   "execution_count": null,
   "metadata": {},
   "outputs": [],
   "source": [
    "args = SimpleNamespace()\n",
    "\n",
    "args.ngpus = 4#int(sys.args[1])\n",
    "args.lam = 0.0#float(sys.args[2])\n",
    "\n",
    "args.n = 6144\n",
    "args.pad = 0\n",
    "args.npsi = args.n+2*args.pad + args.n // 8\n",
    "args.nq = args.n + 2 * args.pad\n",
    "args.ex = 8\n",
    "args.npatch = args.nq + 2 * args.ex\n",
    "args.npos = 16\n",
    "args.nchunk = 1\n",
    "\n",
    "args.voxelsize = voxelsize\n",
    "args.wavelength = wavelength\n",
    "args.distance = distance\n",
    "args.eps = 1e-12\n",
    "args.rho = [1, 2, 0.1]\n",
    "args.crop = 2 * args.pad\n",
    "args.path_out = f\"/data/vnikitin/ESRF/ID16A/20240924_rec0224/Chip_nfp/s2nan/\"\n",
    "\n",
    "args.niter = 10000\n",
    "args.err_step = 64\n",
    "args.vis_step = 64\n",
    "args.method = \"BH-CG\"\n",
    "args.show = True\n",
    "\n",
    "# create class\n",
    "cl_rec = Rec(args)"
   ]
  },
  {
   "cell_type": "code",
   "execution_count": null,
   "metadata": {},
   "outputs": [],
   "source": []
  },
  {
   "cell_type": "markdown",
   "metadata": {},
   "source": [
    "## read data"
   ]
  },
  {
   "cell_type": "code",
   "execution_count": null,
   "metadata": {},
   "outputs": [],
   "source": [
    "import h5py\n",
    "\n",
    "with h5py.File(f\"{path}/Chip_005nm_155deg_binning1_nfpPSEUDO_RANDOM0000.h5\") as fid:\n",
    "    data = fid[\"/entry_0000/measurement/data\"][: args.npos].astype(\"float32\")\n",
    "\n",
    "with h5py.File(f\"{path}/Chip_005nm_155deg_binning1_nfpPSEUDO_RANDOM0000.h5\") as fid:\n",
    "    ref = fid[\"/entry_0000/measurement/data\"][:].astype(\"float32\")\n",
    "with h5py.File(f\"{path}/dark_0000.h5\") as fid:\n",
    "    dark = fid[\"/entry_0000/measurement/data\"][:].astype(\"float32\")\n",
    "\n",
    "with h5py.File(f'{path}Chip_005nm_155deg_binning1_nfpPSEUDO_RANDOM0000.h5','r') as fid:\n",
    "    spz = np.array(str(np.array(str(np.array(fid['/entry_0000/instrument/PCIe/header/spz']))[1:]))[1:-1].split(' '),dtype='float32')*1e-6/voxelsize\n",
    "    spy = np.array(str(np.array(str(np.array(fid['/entry_0000/instrument/PCIe/header/spy']))[1:]))[1:-1].split(' '),dtype='float32')*1e-6/voxelsize\n",
    "                    \n",
    "\n",
    "pos_init = np.zeros([args.npos,2],dtype='float32')\n",
    "pos_init[:,1] = spy\n",
    "pos_init[:,0] = -spz"
   ]
  },
  {
   "cell_type": "code",
   "execution_count": null,
   "metadata": {},
   "outputs": [],
   "source": [
    "print(pos_init.shape)\n",
    "plt.plot(pos_init[:,1],pos_init[:,0],'.')"
   ]
  },
  {
   "cell_type": "markdown",
   "metadata": {},
   "source": [
    "# remove outliers from data"
   ]
  },
  {
   "cell_type": "code",
   "execution_count": null,
   "metadata": {},
   "outputs": [],
   "source": [
    "import cupyx.scipy.ndimage as ndimage\n",
    "\n",
    "\n",
    "def remove_outliers(data, dezinger, dezinger_threshold):\n",
    "    res = data.copy()\n",
    "    w = [dezinger, dezinger]\n",
    "    for k in range(data.shape[0]):\n",
    "        data0 = cp.array(data[k])\n",
    "        fdata = ndimage.median_filter(data0, w)\n",
    "        print(np.sum(np.abs(data0 - fdata) > fdata * dezinger_threshold))\n",
    "        res[k] = np.where(\n",
    "            np.abs(data0 - fdata) > fdata * dezinger_threshold, fdata, data0\n",
    "        ).get()\n",
    "    return res\n",
    "\n",
    "\n",
    "dark = np.mean(dark, axis=0)\n",
    "ref = np.mean(ref, axis=0)\n",
    "data -= dark\n",
    "ref -= dark\n",
    "\n",
    "data[data < 0] = 0\n",
    "ref[ref < 0] = 0\n",
    "data[:, 1320 : 1320 + 25 , 890 : 890 + 25 ] = data[\n",
    "    :, 1280 : 1280 + 25 , 890 : 890 + 25 \n",
    "]\n",
    "ref[1320 : 1320 + 25 , 890 : 890 + 25 ] = ref[\n",
    "    1280 : 1280 + 25 , 890 : 890 + 25 \n",
    "]\n",
    "\n",
    "data = remove_outliers(data, 5, 0.995)\n",
    "ref = remove_outliers(ref[None], 5, 0.995)[0]\n",
    "\n",
    "data /= np.mean(ref)\n",
    "ref /= np.mean(ref)\n",
    "\n",
    "data[np.isnan(data)] = 1\n",
    "ref[np.isnan(ref)] = 1\n",
    "\n",
    "mshow(data[0],args.show)\n",
    "mshow(ref,args.show)"
   ]
  },
  {
   "cell_type": "markdown",
   "metadata": {},
   "source": [
    "# initial guess for the object"
   ]
  },
  {
   "cell_type": "code",
   "execution_count": null,
   "metadata": {},
   "outputs": [],
   "source": [
    "def Paganin(data, wavelength, voxelsize, delta_beta, alpha):\n",
    "    fx = cp.fft.fftfreq(data.shape[-1], d=voxelsize).astype(\"float32\")\n",
    "    [fx, fy] = cp.meshgrid(fx, fx)\n",
    "    rad_freq = cp.fft.fft2(data)\n",
    "    taylorExp = 1 + wavelength * distance * cp.pi * (delta_beta) * (fx**2 + fy**2)\n",
    "    numerator = taylorExp * (rad_freq)\n",
    "    denominator = taylorExp**2 + alpha\n",
    "    phase = cp.log(cp.real(cp.fft.ifft2(numerator / denominator)))\n",
    "    phase = delta_beta * 0.5 * phase\n",
    "    return phase\n",
    "\n",
    "\n",
    "def rec_init(rdata, ipos_init):\n",
    "    recMultiPaganin = cp.zeros([args.npsi, args.npsi], dtype=\"float32\")\n",
    "    recMultiPaganinr = cp.zeros(\n",
    "        [args.npsi, args.npsi], dtype=\"float32\"\n",
    "    )  # to compensate for overlap\n",
    "    for j in range(0, args.npos):\n",
    "        r = cp.array(rdata[j])\n",
    "        r = Paganin(r, wavelength, voxelsize, 24.05, 1e-2)\n",
    "        rr = r * 0 + 1  # to compensate for overlap\n",
    "        rpsi = cp.zeros([args.npsi, args.npsi], dtype=\"float32\")\n",
    "        rrpsi = cp.zeros([args.npsi, args.npsi], dtype=\"float32\")\n",
    "        stx = args.npsi // 2 - ipos_init[j, 1] - args.n // 2\n",
    "        endx = stx + args.n\n",
    "        sty = args.npsi // 2 - ipos_init[j, 0] - args.n // 2\n",
    "        endy = sty + args.n\n",
    "        rpsi[sty:endy, stx:endx] = r\n",
    "        rrpsi[sty:endy, stx:endx] = rr\n",
    "\n",
    "        recMultiPaganin += rpsi\n",
    "        recMultiPaganinr += rrpsi\n",
    "\n",
    "    recMultiPaganinr[np.abs(recMultiPaganinr) < 5e-2] = 1\n",
    "    recMultiPaganin /= recMultiPaganinr\n",
    "    recMultiPaganin = np.exp(1j * recMultiPaganin)\n",
    "    return recMultiPaganin\n",
    "\n",
    "\n",
    "ipos_init = np.round(np.array(pos_init)).astype(\"int32\")\n",
    "rdata = np.array(data / (ref + 1e-5))\n",
    "psi_init = rec_init(rdata, ipos_init)\n",
    "mshow_polar(psi_init,args.show)\n",
    "mshow_polar(psi_init[:1000, :1000],args.show)\n",
    "\n",
    "# smooth borders\n",
    "v = cp.arange(-args.npsi // 2,args.npsi // 2) / args.npsi\n",
    "[vx, vy] = cp.meshgrid(v, v)\n",
    "v = cp.exp(-1000 * (vx**2 + vy**2)).astype(\"float32\")\n",
    "\n",
    "psi_init = cp.fft.fftshift(cp.fft.fftn(cp.fft.fftshift(psi_init)))\n",
    "psi_init = cp.fft.fftshift(cp.fft.ifftn(cp.fft.fftshift(psi_init * v))).astype(\n",
    "    \"complex64\"\n",
    ")\n",
    "v=[]\n",
    "mshow_polar(psi_init,args.show)\n",
    "mshow_polar(psi_init[:1000, :1000],args.show)\n",
    "\n",
    "rdata = v = []"
   ]
  },
  {
   "cell_type": "markdown",
   "metadata": {},
   "source": [
    "#### Initial guess for the probe calculated by backpropagating the square root of the reference image\n",
    "#### Smooth the probe borders for stability"
   ]
  },
  {
   "cell_type": "code",
   "execution_count": null,
   "metadata": {},
   "outputs": [],
   "source": [
    "b = cl_rec.S(pos_init.astype('int32')*0,0*pos_init.astype('float32'),cp.array(psi_init))\n",
    "a = cl_rec.D(b)\n",
    "c = cl_rec.DT(a)\n",
    "mshow_polar(b[0],True)\n",
    "mshow_polar(a[0],True)\n",
    "mshow_polar(c[0],True)\n",
    "print(np.sum(b*c.conj()))\n",
    "print(np.sum(a*a.conj()))"
   ]
  },
  {
   "cell_type": "code",
   "execution_count": null,
   "metadata": {},
   "outputs": [],
   "source": [
    "q_init = cp.array(cl_rec.DT(np.sqrt(ref[np.newaxis]))[0])\n",
    "mshow_polar(q_init,args.show)"
   ]
  },
  {
   "cell_type": "code",
   "execution_count": null,
   "metadata": {},
   "outputs": [],
   "source": [
    "# variables\n",
    "\n",
    "vars = {}\n",
    "vars[\"psi\"] = cp.array(psi_init)\n",
    "vars[\"q\"] = cp.array(q_init)\n",
    "vars[\"ri\"] = np.round(pos_init).astype(\"int32\")\n",
    "vars[\"r\"] = np.array(pos_init - vars[\"ri\"]).astype(\"float32\")\n",
    "print(vars['r'])\n",
    "iter = 1024\n",
    "a = np.load(f'/home/beams/TOMO/vnikitin/holotomocupy/coded_apertures/march2025/Chip_nfp/r.npy')#[:16]\n",
    "plt.plot(a[:,1],a[:,0],'.')\n",
    "plt.grid()\n",
    "\n",
    "vars[\"r\"][:]=a\n",
    "print(vars['r'])\n",
    "\n",
    "vars[\"r_init\"] = np.array(pos_init - vars[\"ri\"]).astype(\"float32\")\n",
    "vars[\"table\"] = pd.DataFrame(columns=[\"iter\", \"err\", \"time\"])\n",
    "\n",
    "# reconstruction\n",
    "# vars = cl_rec.BH(data, vars)\n"
   ]
  }
 ],
 "metadata": {
  "kernelspec": {
   "display_name": "holotomocupy",
   "language": "python",
   "name": "python3"
  },
  "language_info": {
   "codemirror_mode": {
    "name": "ipython",
    "version": 3
   },
   "file_extension": ".py",
   "mimetype": "text/x-python",
   "name": "python",
   "nbconvert_exporter": "python",
   "pygments_lexer": "ipython3",
   "version": "3.12.8"
  }
 },
 "nbformat": 4,
 "nbformat_minor": 2
}
