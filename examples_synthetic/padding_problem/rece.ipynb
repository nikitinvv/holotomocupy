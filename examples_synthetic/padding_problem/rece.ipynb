{
 "cells": [
  {
   "cell_type": "code",
   "execution_count": null,
   "id": "fad77fab-e206-47c1-9655-088d14fe30cb",
   "metadata": {},
   "outputs": [],
   "source": [
    "import numpy as np\n",
    "import cupy as cp\n",
    "from holotomocupy.holo import G, GT\n",
    "from holotomocupy.recon_methods import multiPaganin\n",
    "from holotomocupy.utils import *"
   ]
  },
  {
   "cell_type": "markdown",
   "id": "3c0fdd65-1cff-451e-865e-56cd8b7882a6",
   "metadata": {},
   "source": [
    "# Init data sizes and parametes of the PXM of ID16A"
   ]
  },
  {
   "cell_type": "code",
   "execution_count": null,
   "id": "59fa16f2-1f9c-4b3a-a330-e10942f12234",
   "metadata": {},
   "outputs": [],
   "source": [
    "n = 512  # object size in each dimension\n",
    "energy = 33.35  # [keV] xray energy\n",
    "wavelength = 1.2398419840550367e-09/energy  # [m] wave length\n",
    "focusToDetectorDistance = 1.28  # [m]\n",
    "ndist = 4\n",
    "distances = np.array([0.0029432,0.00306911,0.00357247,0.00461673])[:ndist] # [m]\n",
    "magnification = 400\n",
    "detector_pixelsize = 3.03751e-6\n",
    "voxelsize = detector_pixelsize/magnification*2048/n  # object voxel size\n",
    "\n",
    "ne = n+n//4\n",
    "pad = n//8\n",
    "show = True\n",
    "\n",
    "path = f'/data/vnikitin/modeling/siemens{n}'\n"
   ]
  },
  {
   "cell_type": "markdown",
   "id": "49eb1696-bb30-496e-8c3d-565f2791112c",
   "metadata": {},
   "source": [
    "## Read data"
   ]
  },
  {
   "cell_type": "code",
   "execution_count": null,
   "id": "c23a78d2",
   "metadata": {},
   "outputs": [],
   "source": [
    "data = np.load(f'{path}/data.npy')\n",
    "psi = np.load(f'{path}/psi.npy')\n",
    "rdata = data.copy()"
   ]
  },
  {
   "cell_type": "markdown",
   "id": "daee2463",
   "metadata": {},
   "source": [
    "# Construct operators\n"
   ]
  },
  {
   "cell_type": "code",
   "execution_count": null,
   "id": "adf88f3b",
   "metadata": {},
   "outputs": [],
   "source": [
    "def Lop(psi):\n",
    "    data = cp.zeros([1,ndist, ne, ne], dtype='complex64')\n",
    "    for i in range(ndist):\n",
    "        psir = psi.copy()                               \n",
    "        psir = G(psir, wavelength, voxelsize, distances[i],'symmetric')        \n",
    "        data[:, i] = psir\n",
    "    return data\n",
    "\n",
    "def LTop(data):\n",
    "    psi = cp.zeros([1, ne, ne], dtype='complex64')\n",
    "    for j in range(ndist):\n",
    "        datar = data[:, j].copy()\n",
    "        datar = GT(datar, wavelength, voxelsize, distances[j],'symmetric')        \n",
    "        psi += datar\n",
    "    return psi\n",
    "\n",
    "def Cfop(e):\n",
    "    res = e.copy()\n",
    "    res[:,:,pad:ne-pad,pad:ne-pad] = 0\n",
    "    return res\n",
    "\n",
    "def CfTop(e):\n",
    "    res = e.copy()\n",
    "    res[:,:,pad:ne-pad,pad:ne-pad] = 0\n",
    "    return res\n",
    "\n",
    "def Cdop(psi):\n",
    "    return psi[:,:,pad:-pad,pad:-pad]\n",
    "\n",
    "def CdTop(psi):\n",
    "    return cp.pad(psi,((0,0),(0,0),(pad,pad),(pad,pad)))\n",
    "\n",
    "\n",
    "# adjoint tests\n",
    "tmp = cp.array(data).copy().astype('complex64')\n",
    "arr1 = cp.pad(tmp[:,0],((0,0),(ne//2-n//2,ne//2-n//2),(ne//2-n//2,ne//2-n//2)),'symmetric')     \n",
    "\n",
    "arr2 = Lop(arr1)\n",
    "arr3 = LTop(arr2)\n",
    "\n",
    "\n",
    "print(f'{np.sum(arr1*np.conj(arr3))}==\\n{np.sum(arr2*np.conj(arr2))}')\n"
   ]
  },
  {
   "cell_type": "markdown",
   "id": "1fe0cb15",
   "metadata": {},
   "source": [
    "## Reconstruction with the CG (Carlsson) with Hessians"
   ]
  },
  {
   "cell_type": "markdown",
   "id": "691261ac",
   "metadata": {},
   "source": [
    "## Gradients"
   ]
  },
  {
   "cell_type": "markdown",
   "id": "bd7163cd",
   "metadata": {},
   "source": [
    "#### $$\\nabla F=2 \\left(L^*(C_d^*\\left( C_d(L(\\psi)-\\tilde D\\right)-C_f^*((C_f(L(\\psi))-e)))\\right).$$\n",
    "#### where $$\\tilde D = D \\frac{C_dL(\\psi)}{|C_dL(\\psi))|}$$\n",
    "#### $$\\nabla_e F=-2C_f(L(\\psi)-e).$$\n",
    "\n"
   ]
  },
  {
   "cell_type": "code",
   "execution_count": null,
   "id": "eba2083c",
   "metadata": {},
   "outputs": [],
   "source": [
    "def gradientF(vars,d):\n",
    "    (psi,e) = (vars['psi'],vars['e'])\n",
    "    Lpsi = Lop(psi)\n",
    "    td = d*(Cdop(Lpsi)/np.abs(Cdop(Lpsi)))\n",
    "    res = 2*LTop(CdTop(Cdop(Lpsi) - td) + CfTop(Cfop(Lpsi)-e))\n",
    "    return res\n",
    "\n",
    "def gradiente(vars):\n",
    "    (psi,e) = (vars['psi'],vars['e'])\n",
    "    Lpsi = Lop(psi)\n",
    "    res = -2*(Cfop(Lpsi)-e)\n",
    "    return res    \n",
    "\n"
   ]
  },
  {
   "cell_type": "markdown",
   "id": "3b092076",
   "metadata": {},
   "source": [
    "##### $$\\frac{1}{2}\\mathcal{H}|_{\\psi_0}(\\Delta{\\psi_1},\\Delta{\\psi_2})= \\left\\langle \\mathbf{1}-d_{0}, \\mathsf{Re}({L(\\Delta{\\psi_1})}\\overline{L(\\Delta{\\psi_2})})\\right\\rangle+\\left\\langle d_{0},(\\mathsf{Re} (\\overline{l_0}\\cdot L(\\Delta{\\psi_1})))\\cdot (\\mathsf{Re} (\\overline{l_0}\\cdot L(\\Delta{\\psi_2}))) \\right\\rangle$$\n",
    "##### $$+\\mathsf{Re}\\langle \\Delta{e_1},\\Delta{e_2}\\rangle+\\mathsf{Re}\\langle C_f(L(\\Delta{\\psi_1})),C_f(L(\\Delta{\\psi_2})) \\rangle-\\mathsf{Re}\\langle C_f(L(\\Delta{\\psi_2})),\\Delta{e_1} \\rangle-\\mathsf{Re}\\langle C_f(L(\\Delta{\\psi_1})),\\Delta{e_2} \\rangle$$\n",
    "##### $$l_0=C_d(L(\\psi_0))/C_d(|L(\\psi_0)|)$$\n",
    "##### $$d_0=d/C_d(|L(\\psi_0)|)$$\n"
   ]
  },
  {
   "cell_type": "code",
   "execution_count": null,
   "id": "28d6df09",
   "metadata": {},
   "outputs": [],
   "source": [
    "def hessianF(hpsi,hpsi1,hpsi2,e,de1,de2,data):\n",
    "    Lpsi = Lop(hpsi)        \n",
    "    Lpsi1 = Lop(hpsi1)\n",
    "    Lpsi2 = Lop(hpsi2)   \n",
    "    l0 = Cdop(Lpsi)/np.abs(Cdop(Lpsi))# no conjugate for l0 here because reprod function takes care of it (reprod(a,b)=a.real*b.real+a.imag*b.imag)\n",
    "    d0 = data/np.abs(Cdop(Lpsi))\n",
    "    v1 = np.sum((1-d0)*reprod(Cdop(Lpsi1),Cdop(Lpsi2)))\n",
    "    v2 = np.sum(d0*reprod(l0,Cdop(Lpsi1))*reprod(l0,Cdop(Lpsi2)))        \n",
    "    v3 = redot(Cfop(Lpsi1)-de1,Cfop(Lpsi2)-de2)        \n",
    "    return 2*(v1+v2+v3)"
   ]
  },
  {
   "cell_type": "code",
   "execution_count": null,
   "id": "a3990a45",
   "metadata": {},
   "outputs": [],
   "source": [
    "def calc_beta(vars,grads,etas,d):\n",
    "    (psi,e,rho) = (vars['psi'],vars['e'],vars['rho'])\n",
    "    (dpsi1,de1) = (grads['psi']*rho[0],grads['e']*rho[1])\n",
    "    (dpsi2,de2) = (etas['psi']*rho[0],etas['e']*rho[1])    \n",
    "    top = hessianF(psi, dpsi1, dpsi2,e,de1,de2, d)    \n",
    "    bottom = hessianF(psi, dpsi2, dpsi2,e,de2,de2,d)\n",
    "    return top/bottom\n",
    "\n",
    "def calc_alpha(vars,grads,etas,d):    \n",
    "    (psi,e,rho) = (vars['psi'],vars['e'],vars['rho'])\n",
    "    (dpsi1,de1) = (grads['psi'],grads['e'])\n",
    "    (dpsi2,de2) = (etas['psi'],etas['e'])    \n",
    "    top = -redot(dpsi1,dpsi2)-redot(de1,de2)  \n",
    "\n",
    "    (dpsi2,de2) = (etas['psi']*rho[0],etas['e']*rho[1])    \n",
    "    bottom = hessianF(psi, dpsi2, dpsi2,e,de2,de2,d)\n",
    "    return top/bottom, top, bottom"
   ]
  },
  {
   "cell_type": "markdown",
   "id": "d0c60557",
   "metadata": {},
   "source": [
    "### Initial guess for reconstruction (Paganin)"
   ]
  },
  {
   "cell_type": "code",
   "execution_count": null,
   "id": "cb50e362",
   "metadata": {},
   "outputs": [],
   "source": [
    "def rec_init(rdata):\n",
    "    recMultiPaganin = cp.zeros([1,ndist,n,n],dtype='float32')\n",
    "    for j in range(0,ndist):\n",
    "        rdatar = cp.array(rdata[:,j:j+1])\n",
    "        r = multiPaganin(rdatar,\n",
    "                            distances[j:j+1], wavelength, voxelsize,  24.05, 1e-3)    \n",
    "        recMultiPaganin[:,j] = r\n",
    "        \n",
    "    recMultiPaganin = np.sum(recMultiPaganin,axis=1)/ndist    \n",
    "    recMultiPaganin = np.exp(1j*recMultiPaganin)\n",
    "    return recMultiPaganin\n",
    "\n",
    "rec_paganin = rec_init(rdata)\n",
    "rec_paganin = np.pad(rec_paganin,((0,0),(ne//2-n//2,ne//2-n//2),(ne//2-n//2,ne//2-n//2)),'constant',constant_values=1)\n",
    "mshow_polar(rec_paganin[0],show)\n",
    "mshow_polar(rec_paganin[0,ne//2-128:ne//2+128,ne//2-128:ne//2+128],show)"
   ]
  },
  {
   "cell_type": "markdown",
   "id": "d2390d81",
   "metadata": {},
   "source": []
  },
  {
   "cell_type": "markdown",
   "id": "d4006eb6",
   "metadata": {},
   "source": [
    "## debug functions"
   ]
  },
  {
   "cell_type": "code",
   "execution_count": null,
   "id": "b79db8a3",
   "metadata": {},
   "outputs": [],
   "source": [
    "def plot_debug2(vars,etas,top,bottom,alpha,data):\n",
    "    if show==False:\n",
    "        return\n",
    "    (psi,e,rho) = (vars['psi'],vars['e'],vars['rho'])\n",
    "    (dpsi2,de2) = (etas['psi'],etas['e'])    \n",
    "    npp = 5\n",
    "    errt = cp.zeros(npp*2)\n",
    "    errt2 = cp.zeros(npp*2)\n",
    "    for k in range(0,npp*2):\n",
    "        psit = psi+(alpha*k/(npp-1))*rho[0]*dpsi2\n",
    "        et = e+(alpha*k/(npp-1))*rho[1]*de2\n",
    "        Lpsi = Lop(psit)\n",
    "        fpsit = np.abs(Cdop(Lpsi))-data\n",
    "        fet = Cfop(Lpsi)-et\n",
    "        errt[k] = np.linalg.norm(fpsit)**2+np.linalg.norm(fet)**2\n",
    "        \n",
    "        \n",
    "    t = alpha*(cp.arange(2*npp))/(npp-1)\n",
    "    Lpsi = Lop(psi)\n",
    "    fpsi = np.abs(Cdop(Lpsi))-data\n",
    "    fe = Cfop(Lpsi)-e\n",
    "\n",
    "    errt2 = np.linalg.norm(fpsi)**2+np.linalg.norm(fe)**2-top*t+0.5*bottom*t**2\n",
    "    \n",
    "    plt.plot(alpha.get()*cp.arange(2*npp).get()/(npp-1),errt.get(),'.')\n",
    "    plt.plot(alpha.get()*cp.arange(2*npp).get()/(npp-1),errt2.get(),'.')\n",
    "    plt.show()\n",
    "\n",
    "\n",
    "def vis_debug(vars,data,i):\n",
    "    mshow_polar(vars['psi'][0],show)    \n",
    "    mshow_polar(vars['psi'][0,ne//2-n//4:ne//2+n//4,ne//2+n//4:ne//2+n//2+n//4],show)    \n",
    "    \n",
    "def err_debug(vars, grads, data):    \n",
    "    (psi,e) = (vars['psi'], vars['e'])\n",
    "    Lpsi = Lop(psi)\n",
    "    fpsi = np.abs(Cdop(Lpsi))-data\n",
    "    fe = Cfop(Lpsi)-e\n",
    "\n",
    "    err = np.linalg.norm(fpsi)**2+np.linalg.norm(fe)**2\n",
    "    \n",
    "    return err"
   ]
  },
  {
   "cell_type": "code",
   "execution_count": null,
   "id": "901f10e1",
   "metadata": {},
   "outputs": [],
   "source": [
    "def cg_holo(data, vars, pars):\n",
    "\n",
    "    data = np.sqrt(data)    \n",
    "    erra = cp.zeros(pars['niter'])\n",
    "    alphaa = cp.zeros(pars['niter'])    \n",
    "    grads ={}\n",
    "    for i in range(pars['niter']):          \n",
    "        if i % pars['vis_step'] == 0 and pars['vis_step'] != -1:\n",
    "            vis_debug(vars, data, i) \n",
    "        grads['psi'] = vars['rho'][0]*gradientF(vars,data)        \n",
    "        grads['e'] = vars['rho'][1]*gradiente(vars)        \n",
    "        if i==0:\n",
    "            etas = {}\n",
    "            etas['psi'] = -grads['psi']\n",
    "            etas['e'] = -grads['e']\n",
    "        else:      \n",
    "            beta = calc_beta(vars, grads, etas, data)\n",
    "            etas['psi'] = -grads['psi'] + beta*etas['psi']\n",
    "            etas['e'] = -grads['e'] + beta*etas['e']\n",
    "        alpha,top,bottom = calc_alpha(vars, grads, etas, data) \n",
    "        if i % pars['vis_step'] == 0:\n",
    "            plot_debug2(vars,etas,top,bottom,alpha,data)\n",
    "\n",
    "        vars['psi'] += vars['rho'][0]*alpha*etas['psi']\n",
    "        vars['e'] += vars['rho'][1]*alpha*etas['e']\n",
    "        \n",
    "        if i % pars['err_step'] == 0:\n",
    "            err = err_debug(vars, grads, data)    \n",
    "            print(f'{i}) {alpha=:.5f},{vars['rho']} {err=:1.5e}',flush=True)\n",
    "            erra[i] = err\n",
    "            alphaa[i] = alpha                \n",
    "    return vars,erra,alphaa\n",
    "\n",
    "vars = {}\n",
    "vars['psi'] = cp.array(rec_paganin).copy()\n",
    "vars['e'] = 1+0*Lop(rec_paganin)\n",
    "vars['e'][:,:,pad:ne-pad,pad:ne-pad]=0\n",
    "vars['rho'] = [1,2]# weights for gradients\n",
    "pars = {'niter': 1025, 'err_step':32, 'vis_step': 128}\n",
    "\n",
    "data_rec = cp.array(data)\n",
    "vars,erra,alphaa = cg_holo(data_rec, vars, pars)    "
   ]
  }
 ],
 "metadata": {
  "kernelspec": {
   "display_name": "holotomocupy",
   "language": "python",
   "name": "python3"
  },
  "language_info": {
   "codemirror_mode": {
    "name": "ipython",
    "version": 3
   },
   "file_extension": ".py",
   "mimetype": "text/x-python",
   "name": "python",
   "nbconvert_exporter": "python",
   "pygments_lexer": "ipython3",
   "version": "3.12.4"
  }
 },
 "nbformat": 4,
 "nbformat_minor": 5
}
