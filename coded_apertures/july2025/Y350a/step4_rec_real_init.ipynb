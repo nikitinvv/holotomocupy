{
 "cells": [
  {
   "cell_type": "code",
   "execution_count": null,
   "id": "fad77fab-e206-47c1-9655-088d14fe30cb",
   "metadata": {},
   "outputs": [],
   "source": [
    "import numpy as np\n",
    "import cupy as cp\n",
    "import h5py\n",
    "import matplotlib.pyplot as plt\n",
    "import cupyx.scipy.ndimage as ndimage\n",
    "from types import SimpleNamespace\n",
    "\n",
    "# Use managed memory\n",
    "import h5py\n",
    "import sys\n",
    "import warnings\n",
    "warnings.filterwarnings(\"ignore\", message=f\".*peer.*\")\n",
    "\n",
    "sys.path.insert(0, '..')\n",
    "from utils import *\n",
    "from rec import Rec"
   ]
  },
  {
   "cell_type": "markdown",
   "id": "9c2dafdf",
   "metadata": {},
   "source": []
  },
  {
   "cell_type": "markdown",
   "id": "3c0fdd65-1cff-451e-865e-56cd8b7882a6",
   "metadata": {},
   "source": [
    "# Init data sizes and parametes of the PXM of ID16A"
   ]
  },
  {
   "cell_type": "code",
   "execution_count": null,
   "id": "e2b6781d",
   "metadata": {},
   "outputs": [],
   "source": [
    "step =8\n",
    "bin = 4\n",
    "ndist=4\n",
    "paganin=120\n",
    "\n"
   ]
  },
  {
   "cell_type": "code",
   "execution_count": null,
   "id": "ad77f0fc",
   "metadata": {},
   "outputs": [],
   "source": [
    "pfile = f'Y350a_HT_nobin_020nm'\n",
    "path_out = f'/data/vnikitin/ESRF/ID16A/brain_rec/20250604/Y350a'\n",
    "with h5py.File(f'{path_out}/{pfile}.h5') as fid:\n",
    "    detector_pixelsize = fid['/exchange/detector_pixelsize'][0]    \n",
    "    focusToDetectorDistance = fid['/exchange/focusdetectordistance'][0]    \n",
    "    z1 = fid['/exchange/z1'][:ndist]        \n",
    "    theta = fid['/exchange/theta'][::step,0]\n",
    "    shifts = fid['/exchange/shifts'][::step,:ndist]\n",
    "    attrs = fid['/exchange/attrs'][::step,:ndist]\n",
    "    pos_shifts = fid['/exchange/pos_shifts'][::step,:ndist]*1e-6\n",
    "    shape = fid['/exchange/data0'][::step].shape\n",
    "    shape_ref = fid['/exchange/data_white_start0'].shape\n",
    "    shape_dark = fid['/exchange/data_dark0'].shape\n",
    "    #pos_shifts-=pos_shifts[0]\n"
   ]
  },
  {
   "cell_type": "code",
   "execution_count": null,
   "id": "26f17e61",
   "metadata": {},
   "outputs": [],
   "source": [
    "theta = theta/180*np.pi"
   ]
  },
  {
   "cell_type": "code",
   "execution_count": null,
   "id": "da169abc",
   "metadata": {},
   "outputs": [],
   "source": [
    "\n",
    "ntheta,n = shape[:2]\n",
    "ndark = shape_dark[0]\n",
    "nref = shape_ref[0]\n",
    "\n",
    "n//=2**bin"
   ]
  },
  {
   "cell_type": "code",
   "execution_count": null,
   "id": "185647a0",
   "metadata": {},
   "outputs": [],
   "source": [
    "print(ndist,ntheta,n)\n",
    "print(nref,ndark)"
   ]
  },
  {
   "cell_type": "code",
   "execution_count": null,
   "id": "59fa16f2-1f9c-4b3a-a330-e10942f12234",
   "metadata": {},
   "outputs": [],
   "source": [
    "energy = 33.35  # [keV] xray energy\n",
    "wavelength = 1.2398419840550367e-09/energy  # [m] wave length\n",
    "z2 = focusToDetectorDistance-z1\n",
    "magnifications = focusToDetectorDistance/z1\n",
    "norm_magnifications = magnifications/magnifications[0]\n",
    "distances = (z1*z2)/focusToDetectorDistance*norm_magnifications**2\n",
    "voxelsize = detector_pixelsize/magnifications[0]*4096/n  # object voxel size\n",
    "show = True\n"
   ]
  },
  {
   "cell_type": "code",
   "execution_count": null,
   "id": "6a2d1c00",
   "metadata": {},
   "outputs": [],
   "source": [
    "pad = 0\n",
    "npsi = int(np.ceil((4096+2*pad)/norm_magnifications[-1]/32))*32  # make multiple of 8\n",
    "# npsi+=64\n",
    "rotation_axis=npsi//2-11.791#(879-(1616-npsi//2)//2+2.5)*n/1024#n/2#(796.25+2)*n/1024#397.5*2#499.75*n//1024+npsi//2-n//2\n",
    "\n",
    "print(rotation_axis)\n",
    "npsi//=(4096//n)\n",
    "rotation_axis/=(4096//n)"
   ]
  },
  {
   "cell_type": "code",
   "execution_count": null,
   "id": "21e717d2",
   "metadata": {},
   "outputs": [],
   "source": [
    "args = SimpleNamespace()\n",
    "args.ngpus = 4\n",
    "\n",
    "args.n = n\n",
    "args.ndist = ndist\n",
    "args.ntheta = ntheta\n",
    "args.pad = pad\n",
    "args.npsi = npsi\n",
    "args.nq = n + 2 * pad\n",
    "args.nchunk = 8\n",
    "args.lam = 0\n",
    "\n",
    "args.voxelsize = voxelsize\n",
    "args.wavelength = wavelength\n",
    "args.distance = distances\n",
    "args.path_out = f\"{path_out}/s1\"\n",
    "args.show = True\n",
    "\n",
    "args.rotation_axis =rotation_axis\n",
    "args.theta = theta\n",
    "args.norm_magnifications = norm_magnifications\n",
    "# create class\n",
    "cl_rec = Rec(args)\n",
    "\n",
    "# sss"
   ]
  },
  {
   "cell_type": "code",
   "execution_count": null,
   "id": "19ec19d3",
   "metadata": {},
   "outputs": [],
   "source": [
    "data = np.zeros([ntheta,ndist,n,n],dtype='float32')\n",
    "with h5py.File(f'{path_out}/{pfile}_corr.h5') as fid:\n",
    "    for k in range(ndist):\n",
    "        tmp = fid[f'/exchange/data{k}'][::step].copy()\n",
    "        \n",
    "        for j in range(bin):\n",
    "            tmp = 0.5*(tmp[:,:,::2]+tmp[:,:,1::2])\n",
    "            tmp = 0.5*(tmp[:,::2,:]+tmp[:,1::2,:])        \n",
    "        data[:,k]=tmp.copy()\n",
    "    tmp = fid[f'/exchange/ref'][:ndist]\n",
    "    for j in range(bin):\n",
    "        tmp = 0.5*(tmp[...,::2]+tmp[...,1::2])\n",
    "        tmp = 0.5*(tmp[...,::2,:]+tmp[...,1::2,:])\n",
    "    ref=tmp\n",
    "    r = fid[f'/exchange/cshifts_final'][::step,:ndist]*n/4096#/norm_magnifications[:,np.newaxis]# in init coordinates! not scaled"
   ]
  },
  {
   "cell_type": "code",
   "execution_count": null,
   "id": "8e019668",
   "metadata": {},
   "outputs": [],
   "source": [
    "rdata = data/ref\n",
    "srdata = np.zeros([ntheta,ndist,args.npsi,args.npsi],dtype='float32')\n",
    "distances_pag = (distances/norm_magnifications**2)\n",
    "npad=n//16\n",
    "for j in np.arange(ndist)[::-1]:\n",
    "    print(j)\n",
    "    tmp = cl_rec.STa(r[:,j]*norm_magnifications[j],rdata[:,j].astype('complex64'),\n",
    "                     'edge')    \n",
    "    mshow_complex(tmp[0],True)\n",
    "    # tmp=cp.array(tmp)\n",
    "    tmp = (cl_rec.MT(tmp,j)/norm_magnifications[j]**2).real    \n",
    "    mshow(tmp[0],True)\n",
    "    # ss\n",
    "    st = np.where(tmp[0]>1e-1)[0][0]+4\n",
    "    \n",
    "    if j==ndist-1:\n",
    "         tmp = np.pad(tmp[:,st:-st,st:-st],((0,0),(st,st),(st,st)),'symmetric')\n",
    "    if j<ndist-1:\n",
    "        w = np.ones([args.npsi],dtype='float32')  \n",
    "        v = np.linspace(0, 1, npad, endpoint=False)\n",
    "        v = v**5*(126-420*v+540*v**2-315*v**3+70*v**4)             \n",
    "        w[:st]=0\n",
    "        w[st:st+npad] = v\n",
    "        w[-st-npad:-st] = 1-v\n",
    "        w[-st:]=0\n",
    "        w=np.outer(w,w)\n",
    "        #mshow(w,True)\n",
    "        tmp=tmp*(w)+srdata[:,j+1]*(1-w)       \n",
    "    srdata[:,j]=tmp\n",
    "    mshow(srdata[0,j],True)\n",
    "    \n"
   ]
  },
  {
   "cell_type": "code",
   "execution_count": null,
   "id": "2ebfd488",
   "metadata": {},
   "outputs": [],
   "source": [
    "\n",
    "mshow(srdata[0,0],args.show)\n",
    "mshow(srdata[0,ndist-1],args.show)\n",
    "mshow(srdata[0,0]-srdata[0,2],args.show,vmax=0.2,vmin=-0.2)\n"
   ]
  },
  {
   "cell_type": "code",
   "execution_count": null,
   "id": "3c577aab",
   "metadata": {},
   "outputs": [],
   "source": [
    "def multiPaganin(data, distances, wavelength, voxelsize, delta_beta,  alpha):    \n",
    "    \n",
    "    fx = cp.fft.fftfreq(data.shape[-1], d=voxelsize).astype('float32')\n",
    "    [fx, fy] = cp.meshgrid(fx, fx)\n",
    "    numerator = 0\n",
    "    denominator = 0\n",
    "    for j in range(data.shape[0]):        \n",
    "        rad_freq = cp.fft.fft2(data[j])\n",
    "        taylorExp = 1 + wavelength * distances[j] * cp.pi * (delta_beta) * (fx**2+fy**2)\n",
    "        numerator = numerator + taylorExp * (rad_freq)\n",
    "        denominator = denominator + taylorExp**2\n",
    "\n",
    "    numerator = numerator / len(distances)\n",
    "    denominator = (denominator / len(distances)) + alpha\n",
    "\n",
    "    phase = cp.log(cp.real(cp.fft.ifft2(numerator / denominator)))\n",
    "    phase = (delta_beta) * 0.5 * phase\n",
    "\n",
    "    return phase\n",
    "\n",
    "def CTFPurePhase(data, distances, wavelength, voxelsize, alpha):   \n",
    "\n",
    "    fx = cp.fft.fftfreq(data.shape[-1], d=voxelsize).astype('float32')\n",
    "    [fx, fy] = cp.meshgrid(fx, fx)\n",
    "    numerator = 0\n",
    "    denominator = 0\n",
    "    for j in range(data.shape[0]):\n",
    "        rad_freq = cp.fft.fft2(data[j])\n",
    "        taylorExp = cp.sin(cp.pi*wavelength*distances[j]*(fx**2+fy**2))\n",
    "        numerator = numerator + taylorExp * (rad_freq)\n",
    "        denominator = denominator + 2*taylorExp**2\n",
    "    numerator = numerator / len(distances)\n",
    "    denominator = (denominator / len(distances)) + alpha\n",
    "    phase = cp.real(cp.fft.ifft2(numerator / denominator))\n",
    "    phase = 0.5 * phase\n",
    "    return phase\n",
    "\n",
    "def rec_init(rdata):\n",
    "    recMultiPaganin = np.zeros([args.ntheta,args.npsi, args.npsi], dtype=\"float32\")\n",
    "    for j in range(0, args.ntheta):\n",
    "        r = cp.array(rdata[j])\n",
    "        distances_pag = (distances/norm_magnifications**2)\n",
    "        # print(distances_pag,wavelength,voxelsize)\n",
    "        r = multiPaganin(r, distances_pag,wavelength, voxelsize,60, 1e-3)            \n",
    "        # r = CTFPurePhase(r, distances_pag,wavelength, voxelsize, 1e-3)             \n",
    "        # r[r>0]=0\n",
    "        recMultiPaganin[j] = r.get()           \n",
    "    \n",
    "    # print(recMultiPaganin.shape)\n",
    "    recMultiPaganin-=np.mean(recMultiPaganin[:,:,:50])\n",
    "    # recMultiPaganin[recMultiPaganin>0]=0\n",
    "    recMultiPaganin = np.exp(1j * recMultiPaganin)\n",
    "    return recMultiPaganin\n",
    "psi_init = rec_init(srdata)\n",
    "print(np.mean(np.angle(psi_init[:,:,:50])))\n",
    "mshow_polar(psi_init[0],args.show)\n",
    "mshow_polar(psi_init[-1],args.show)\n",
    "write_tiff(np.angle(psi_init),'/data/tmp/tmp5')\n",
    "# done"
   ]
  },
  {
   "cell_type": "code",
   "execution_count": null,
   "id": "d64a85dc",
   "metadata": {},
   "outputs": [],
   "source": [
    "psi_data = np.log(psi_init)/1j"
   ]
  },
  {
   "cell_type": "code",
   "execution_count": null,
   "id": "9958d4be",
   "metadata": {},
   "outputs": [],
   "source": [
    "cl_rec = Rec(args)\n",
    "cl_rec.theta = np.ascontiguousarray(theta)\n",
    "psi_data = np.ascontiguousarray(psi_data)\n",
    "\n",
    "u_init = cl_rec.rec_tomo(psi_data,32)\n",
    "# np.save(f'{args.path_out}/s1/u_init.npy',u_init)\n",
    "mshow_complex(u_init[u_init.shape[0]//2],True)\n",
    "# write_tiff(u_init.real,f'/data/tmp/full/t{args.rotation_axis}',overwrite=True)"
   ]
  },
  {
   "cell_type": "code",
   "execution_count": null,
   "id": "c8a9e01b",
   "metadata": {},
   "outputs": [],
   "source": [
    "with h5py.File(f'{path_out}/{pfile}_corr.h5','a') as fid:\n",
    "    try:\n",
    "        del fid[f'/exchange/u_init_re{paganin}']\n",
    "        del fid[f'/exchange/u_init_imag{paganin}']        \n",
    "    except:\n",
    "        pass\n",
    "    fid.create_dataset(f'/exchange/u_init_re{paganin}',data = u_init.real)\n",
    "    fid.create_dataset(f'/exchange/u_init_imag{paganin}',data = u_init.imag)    "
   ]
  },
  {
   "cell_type": "code",
   "execution_count": null,
   "id": "bb03f265",
   "metadata": {},
   "outputs": [],
   "source": []
  },
  {
   "cell_type": "code",
   "execution_count": null,
   "id": "cde8b6ac",
   "metadata": {},
   "outputs": [],
   "source": []
  },
  {
   "cell_type": "code",
   "execution_count": null,
   "id": "b2ba8587",
   "metadata": {},
   "outputs": [],
   "source": []
  }
 ],
 "metadata": {
  "kernelspec": {
   "display_name": "holotomocupy",
   "language": "python",
   "name": "python3"
  },
  "language_info": {
   "codemirror_mode": {
    "name": "ipython",
    "version": 3
   },
   "file_extension": ".py",
   "mimetype": "text/x-python",
   "name": "python",
   "nbconvert_exporter": "python",
   "pygments_lexer": "ipython3",
   "version": "3.12.8"
  }
 },
 "nbformat": 4,
 "nbformat_minor": 5
}
