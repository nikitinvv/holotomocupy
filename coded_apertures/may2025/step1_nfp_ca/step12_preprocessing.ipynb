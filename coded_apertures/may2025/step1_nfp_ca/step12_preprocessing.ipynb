{
 "cells": [
  {
   "cell_type": "code",
   "execution_count": null,
   "id": "fad77fab-e206-47c1-9655-088d14fe30cb",
   "metadata": {},
   "outputs": [],
   "source": [
    "import numpy as np\n",
    "import cupy as cp\n",
    "import sys\n",
    "import pandas as pd\n",
    "import time\n",
    "import scipy.ndimage as ndimage\n",
    "import matplotlib.pyplot as plt\n",
    "import h5py\n",
    "sys.path.insert(0, '..')\n",
    "from utils import *"
   ]
  },
  {
   "cell_type": "markdown",
   "id": "3c0fdd65-1cff-451e-865e-56cd8b7882a6",
   "metadata": {},
   "source": [
    "# Init data sizes and parametes of the PXM of ID16A"
   ]
  },
  {
   "cell_type": "code",
   "execution_count": null,
   "id": "59fa16f2-1f9c-4b3a-a330-e10942f12234",
   "metadata": {},
   "outputs": [],
   "source": [
    "path = f'/data/vnikitin/ESRF/ID16A/20240924_rec_ca/data/'\n",
    "with  h5py.File(f'{path}/data_ca.h5','r') as fid:\n",
    "    data = fid[f'/exchange/data'][:].astype('float32')\n",
    "    ref = fid[f'/exchange/data_white'][:].astype('float32')\n",
    "    dark = fid[f'/exchange/data_dark'][:].astype('float32')\n",
    "\n",
    "    z1 = fid['/exchange/z1'][0]\n",
    "    detector_pixelsize = fid['/exchange/detector_pixelsize'][0]\n",
    "    focusdetectordistance = fid['/exchange/focusdetectordistance'][0]\n",
    "    energy = fid['/exchange/energy'][0]\n"
   ]
  },
  {
   "cell_type": "code",
   "execution_count": null,
   "id": "2123d6e1",
   "metadata": {},
   "outputs": [],
   "source": [
    "wavelength = 1.24e-09/energy  # [m] wave length\n",
    "focusToDetectorDistance = 1.28  # [m]\n",
    "z2 = focusToDetectorDistance-z1\n",
    "distances = (z1*z2)/focusToDetectorDistance\n",
    "magnification = focusToDetectorDistance/z1\n",
    "voxelsize = np.abs(detector_pixelsize/magnification)  # object voxel size\n"
   ]
  },
  {
   "cell_type": "markdown",
   "id": "f7398276",
   "metadata": {},
   "source": [
    "# Pre-processing"
   ]
  },
  {
   "cell_type": "code",
   "execution_count": null,
   "id": "e1d4e4eb",
   "metadata": {},
   "outputs": [],
   "source": [
    "import cupyx.scipy.ndimage as ndimage\n",
    "def remove_outliers(data, dezinger, dezinger_threshold):    \n",
    "    res = data.copy()\n",
    "    w = [dezinger,dezinger]\n",
    "    for k in range(data.shape[0]):\n",
    "        data0 = cp.array(data[k])\n",
    "        fdata = ndimage.median_filter(data0, w)\n",
    "        print(np.sum(np.abs(data0-fdata)>fdata*dezinger_threshold))\n",
    "        res[k] = np.where(np.abs(data0-fdata)>fdata*dezinger_threshold, fdata, data0).get()\n",
    "    return res\n",
    "\n",
    "dark = np.mean(dark,axis=0)\n",
    "ref = np.mean(ref,axis=0)\n",
    "data -= dark\n",
    "ref -= dark\n",
    "\n",
    "data[data<0]=0\n",
    "ref[ref<0]=0\n",
    "data[:,1320//3:1320//3+25//3,890//3:890//3+25//3] = data[:,1280//3:1280//3+25//3,890//3:890//3+25//3]\n",
    "ref[1320//3:1320//3+25//3,890//3:890//3+25//3] = ref[1280//3:1280//3+25//3,890//3:890//3+25//3]\n",
    "\n",
    "data = remove_outliers(data, 3, 0.8)    \n",
    "ref = remove_outliers(ref[None], 3, 0.8)[0]     \n",
    "\n",
    "data /= np.mean(ref)\n",
    "ref /= np.mean(ref)\n",
    "\n",
    "data[np.isnan(data)] = 1\n",
    "ref[np.isnan(ref)] = 1\n",
    "\n",
    "mshow(data[0],mshow)\n",
    "mshow(ref,mshow)"
   ]
  },
  {
   "cell_type": "markdown",
   "id": "233b06b6",
   "metadata": {},
   "source": [
    "# find shift with 1 pixel accuracy"
   ]
  },
  {
   "cell_type": "code",
   "execution_count": null,
   "id": "79b8fd05",
   "metadata": {},
   "outputs": [],
   "source": [
    "# back to original shape\n",
    "# original shape is bad, adjust it\n",
    "# scan goes from top left!\n",
    "shifts = np.loadtxt(f'/data/vnikitin/ESRF/ID16A/20240924/positions/shifts_code_nfp18x18ordered.txt')[:,::-1]\n",
    "shifts[:,1]*=-1\n",
    "shifts = shifts/voxelsize*1e-6\n",
    "print(shifts[:4])"
   ]
  },
  {
   "cell_type": "code",
   "execution_count": null,
   "id": "69cc96b5",
   "metadata": {},
   "outputs": [],
   "source": [
    "\n",
    "[npos,n] = data.shape[:2]\n",
    "shifts_relative = shifts*0\n",
    "\n",
    "def my_phase_corr(d1, d2):\n",
    "    image_product = np.fft.fft2(d1) * np.fft.fft2(d2).conj()\n",
    "    cc_image = np.fft.fftshift(np.fft.ifft2(image_product))\n",
    "    ind = np.unravel_index(np.argmax(cc_image.real, axis=None), cc_image.real.shape)\n",
    "    shifts = np.subtract(ind,d1.shape[-1]//2)\n",
    "    return shifts\n",
    "\n",
    "def S(psi,p):\n",
    "    \"\"\"Subpixel shift\"\"\"\n",
    "    psi=cp.array(psi)\n",
    "    p=cp.array(p)\n",
    "    n = psi.shape[-1]\n",
    "    x =cp.fft.fftfreq(2*n).astype('float32')\n",
    "    [y, x] = cp.meshgrid(x, x)\n",
    "    psi = cp.pad(psi,((0,0),(n//2,n//2),(n//2,n//2)))\n",
    "    pp = np.exp(-2*np.pi*1j * (y*p[:, 1, None, None]+x*p[:, 0, None, None])).astype('complex64')\n",
    "    res = np.fft.ifft2(pp*np.fft.fft2(psi))\n",
    "\n",
    "    res = res[:,n//2:-n//2,n//2:-n//2]\n",
    "    return res.get()\n",
    "\n",
    "rdata = data/(ref+1e-6)\n",
    "rdatat = rdata.copy()    \n",
    "for k in range(0,npos-1):         \n",
    "    shifts_relative[k] = my_phase_corr(rdata[k],rdata[k+1])\n",
    "    rdatat[k:k+1] = S(rdata[k:k+1].astype('complex64'),-shifts_relative[k:k+1]).real\n",
    "    dif = rdatat[k]-rdatat[k+1]\n",
    "    nn = np.linalg.norm(dif[n//2-n//16:n//2+n//16,n//2-n//16:n//2+n//16])\n",
    "    if nn>80:\n",
    "        print('WARNING')\n",
    "        mshow(dif,True,vmax=1,vmin=-1)\n",
    "    print(k,shifts_relative[k],nn)    \n"
   ]
  },
  {
   "cell_type": "markdown",
   "id": "2d3e1339",
   "metadata": {},
   "source": []
  },
  {
   "cell_type": "code",
   "execution_count": null,
   "id": "41f9eaaa",
   "metadata": {},
   "outputs": [],
   "source": [
    "ipos = npos//2+9 # align wrt the middle\n",
    "shifts_new = shifts*0\n",
    "for k in range(ipos):\n",
    "    shifts_new[k] = np.sum(shifts_relative[k:ipos],axis=0) \n",
    "shifts_new[ipos] = shifts[ipos]\n",
    "for k in range(ipos,npos):\n",
    "    shifts_new[k] = np.sum(-shifts_relative[ipos:k],axis=0)\n",
    "\n",
    "\n",
    "print(shifts[-10:])\n",
    "print(shifts_new[-10:])\n",
    "plt.plot(shifts[:,1],shifts[:,0],'.')\n",
    "plt.plot(shifts_new[:,1],shifts_new[:,0],'.')\n",
    "plt.plot(shifts_new[ipos,1],shifts_new[ipos,0],'rx')\n",
    "plt.show()\n",
    "\n",
    "np.save('shifts_new.npy',shifts_new)\n"
   ]
  },
  {
   "cell_type": "code",
   "execution_count": null,
   "id": "d03be768",
   "metadata": {},
   "outputs": [],
   "source": [
    "path_out = f'/data/vnikitin/ESRF/ID16A/20240924_rec_ca/data/'\n",
    "with  h5py.File(f'{path_out}/data_ca.h5','a') as fid:\n",
    "    try:\n",
    "        del fid[f'/exchange/shifts']\n",
    "        del fid[f'/exchange/pdata']\n",
    "        del fid[f'/exchange/pref']\n",
    "    except:\n",
    "        pass\n",
    "    fid.create_dataset(f'/exchange/shifts',data=shifts_new)     \n",
    "    fid.create_dataset(f'/exchange/pdata',data=data)     \n",
    "    fid.create_dataset(f'/exchange/pref',data=ref)     "
   ]
  }
 ],
 "metadata": {
  "kernelspec": {
   "display_name": "holotomocupy",
   "language": "python",
   "name": "python3"
  },
  "language_info": {
   "codemirror_mode": {
    "name": "ipython",
    "version": 3
   },
   "file_extension": ".py",
   "mimetype": "text/x-python",
   "name": "python",
   "nbconvert_exporter": "python",
   "pygments_lexer": "ipython3",
   "version": "3.12.8"
  }
 },
 "nbformat": 4,
 "nbformat_minor": 5
}
