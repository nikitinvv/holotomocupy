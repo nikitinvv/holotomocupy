{
 "cells": [
  {
   "cell_type": "code",
   "execution_count": null,
   "id": "fad77fab-e206-47c1-9655-088d14fe30cb",
   "metadata": {},
   "outputs": [],
   "source": [
    "import numpy as np\n",
    "import cupy as cp\n",
    "import matplotlib.pyplot as plt\n",
    "\n",
    "from holotomocupy.tomo import R,RT\n",
    "from holotomocupy.holo import G,GT\n",
    "from holotomocupy.magnification import M,MT\n",
    "from holotomocupy.shift import S,ST\n",
    "from holotomocupy.utils import *\n",
    "# cp.cuda.set_allocator(cp.cuda.MemoryPool(cp.cuda.malloc_managed).malloc)\n",
    "%matplotlib inline\n",
    "\n",
    "np.random.seed(10)"
   ]
  },
  {
   "cell_type": "markdown",
   "id": "3c0fdd65-1cff-451e-865e-56cd8b7882a6",
   "metadata": {},
   "source": [
    "# Init data sizes and parametes of the PXM of ID16A"
   ]
  },
  {
   "cell_type": "code",
   "execution_count": null,
   "id": "59fa16f2-1f9c-4b3a-a330-e10942f12234",
   "metadata": {},
   "outputs": [],
   "source": [
    "n = 512  # object size in each dimension\n",
    "ntheta = 360  # number of angles (rotations)\n",
    "\n",
    "\n",
    "theta = np.linspace(0, np.pi, ntheta).astype('float32')  # projection angles\n",
    "\n",
    "# ID16a setup\n",
    "ndist = 4\n",
    "\n",
    "detector_pixelsize = 3e-6/1.5\n",
    "energy = 17.05  # [keV] xray energy\n",
    "wavelength = 1.2398419840550367e-09/energy  # [m] wave length\n",
    "\n",
    "focusToDetectorDistance = 1.208  # [m]\n",
    "sx0 = -2.493e-3\n",
    "z1 = np.array([1.5335e-3, 1.7065e-3, 2.3975e-3, 3.8320e-3])[:ndist]-sx0\n",
    "z2 = focusToDetectorDistance-z1\n",
    "distances = (z1*z2)/focusToDetectorDistance\n",
    "magnifications = focusToDetectorDistance/z1\n",
    "voxelsize = detector_pixelsize/magnifications[0]*2048/n  # object voxel size\n",
    "\n",
    "norm_magnifications = magnifications/magnifications[0]\n",
    "# scaled propagation distances due to magnified probes\n",
    "distances = distances*norm_magnifications**2\n",
    "\n",
    "z1p = z1[0]  # positions of the probe for reconstruction\n",
    "z2p = z1-np.tile(z1p, len(z1))\n",
    "# magnification when propagating from the probe plane to the detector\n",
    "magnifications2 = (z1p+z2p)/z1p\n",
    "# propagation distances after switching from the point source wave to plane wave,\n",
    "distances2 = (z1p*z2p)/(z1p+z2p)\n",
    "norm_magnifications2 = magnifications2/(z1p/z1[0])  # normalized magnifications\n",
    "# scaled propagation distances due to magnified probes\n",
    "distances2 = distances2*norm_magnifications2**2\n",
    "distances2 = distances2*(z1p/z1)**2\n",
    "\n",
    "# allow padding if there are shifts of the probe\n",
    "pad = n//8\n",
    "show=True\n",
    "# sample size after demagnification\n",
    "ne = int(np.ceil((n+2*pad)/norm_magnifications[-1]/8))*8  # make multiple of 8\n",
    "center = ne/2  # rotation axis"
   ]
  },
  {
   "cell_type": "markdown",
   "id": "49eb1696-bb30-496e-8c3d-565f2791112c",
   "metadata": {},
   "source": [
    "## Read real and imaginary parts of the refractive index u = delta+i beta"
   ]
  },
  {
   "cell_type": "code",
   "execution_count": null,
   "id": "8a579ce4-0cd2-4769-a03d-7614aa96b0a8",
   "metadata": {},
   "outputs": [],
   "source": [
    "u = np.array(np.load(f'/data/vnikitin/phantoms/u{n}.npy')).astype('complex64')* voxelsize * 2*np.pi / wavelength*np.sqrt(ne*ntheta) # if already exists\n",
    "u/=1.5\n",
    "mshow_complex(u[ne//2],show)"
   ]
  },
  {
   "cell_type": "code",
   "execution_count": null,
   "id": "2911e4a1",
   "metadata": {},
   "outputs": [],
   "source": [
    "def L2op(psi):\n",
    "    data = cp.zeros([ntheta, ndist, n, n], dtype='complex64')\n",
    "    for i in range(ndist):\n",
    "        psir = cp.array(psi[:,i])       \n",
    "        psir = G(psir, wavelength, voxelsize, distances[i],'symmetric')\n",
    "        data[:, i] = psir[:, pad:n+pad, pad:n+pad]\n",
    "    return data\n",
    "\n",
    "def LT2op(data):\n",
    "    psi = cp.zeros([ntheta,ndist, n+2*pad, n+2*pad], dtype='complex64')\n",
    "    for j in range(ndist):\n",
    "        datar = cp.array(data[:, j])\n",
    "        psir = cp.pad(datar, ((0, 0), (pad, pad), (pad, pad))).astype('complex64')\n",
    "        psir = GT(psir, wavelength, voxelsize, distances[j],'symmetric')        \n",
    "        psi[:,j] = psir\n",
    "    return psi\n",
    "\n",
    "def L1op(psi):\n",
    "    data = cp.zeros([1, ndist, n+2*pad, n+2*pad], dtype='complex64')\n",
    "    for i in range(ndist):\n",
    "        psir = cp.array(psi)       \n",
    "        psir = G(psir, wavelength, voxelsize, distances2[i],'symmetric')\n",
    "        data[:, i] = psir\n",
    "    return data#further broadcasting to ntheta\n",
    "\n",
    "def LT1op(data):\n",
    "    psi = cp.zeros([data.shape[0], n+2*pad, n+2*pad], dtype='complex64')\n",
    "    for j in range(ndist):\n",
    "        datar = cp.array(data[:, j])\n",
    "        psir = datar\n",
    "        psir = GT(psir, wavelength, voxelsize, distances2[j],'symmetric')        \n",
    "        psi += psir\n",
    "    return psi\n",
    "\n",
    "\n",
    "def S2op(psi,shifts):\n",
    "    data = cp.zeros([ntheta, ndist, ne, ne], dtype='complex64')\n",
    "    psi = cp.array(psi)\n",
    "    for j in range(ndist):\n",
    "        psir = psi.copy()\n",
    "        shiftsr = cp.array(shifts[:, j])#/norm_magnifications[j])\n",
    "        psir = S(psir, shiftsr,'symmetric')\n",
    "        data[:,j] = psir\n",
    "    return data\n",
    "\n",
    "def ST2op(data,shifts):\n",
    "    psi = cp.zeros([ntheta, ne, ne], dtype='complex64')\n",
    "\n",
    "    for j in range(ndist):\n",
    "        datar = cp.array(data[:,j])\n",
    "        shiftsr = cp.array(shifts[:, j])#/norm_magnifications[j])                \n",
    "        psi += ST(datar,shiftsr,'symmetric')\n",
    "    return psi\n",
    "\n",
    "def S1op(psi):\n",
    "    data = cp.zeros([1, ndist, n+2*pad, n+2*pad], dtype='complex64')\n",
    "    psi = cp.array(psi)\n",
    "    for i in range(ndist):\n",
    "        psir = psi.copy()\n",
    "        shiftsr = cp.array(shifts_ref[:, i])\n",
    "        psir = S(psir, shiftsr,'symmetric')        \n",
    "        data[:,i] = psir\n",
    "    return data\n",
    "\n",
    "def ST1op(data):\n",
    "    psi = cp.zeros([1, n+2*pad, n+2*pad], dtype='complex64')\n",
    "\n",
    "    for j in range(ndist):\n",
    "        datar = cp.array(data[:,j])\n",
    "        shiftsr = cp.array(shifts_ref[:, j])        \n",
    "        psi += ST(datar,shiftsr,'symmetric')\n",
    "    return psi\n",
    "\n",
    "def Mop(psi):\n",
    "    res = cp.zeros([ntheta, ndist, n+2*pad, n+2*pad], dtype='complex64')\n",
    "    for i in range(ndist):\n",
    "        res[:,i] = M(psi[:,i], norm_magnifications[i]*ne/(n+2*pad), n+2*pad)                        \n",
    "    return res\n",
    "\n",
    "def MTop(psi):\n",
    "    res = cp.zeros([ntheta, ndist, ne, ne], dtype='complex64')\n",
    "    for i in range(ndist):        \n",
    "        res[:,i] = MT(psi[:,i], norm_magnifications[i]*ne/(n+2*pad), ne)        \n",
    "    return res\n",
    "\n",
    "def Rop(u):\n",
    "    res = R(u,theta,center)\n",
    "    return res.swapaxes(0,1)    \n",
    "\n",
    "def RTop(data):\n",
    "    res = RT(data.swapaxes(0,1),theta,center)\n",
    "    return res    \n",
    "\n",
    "# adjoint tests\n",
    "arr1 = cp.random.random([1,n+2*pad,n+2*pad]).astype('complex64')\n",
    "shifts_ref = cp.random.random([1,ndist,2]).astype('float32')\n",
    "arr2 = S1op(arr1)\n",
    "arr3 = ST1op(arr2)\n",
    "print(f'{np.sum(arr1*np.conj(arr3))}==\\n{np.sum(arr2*np.conj(arr2))}')\n",
    "\n",
    "arr1 = cp.random.random([1,n+2*pad,n+2*pad]).astype('complex64')\n",
    "arr2 = L1op(arr1)\n",
    "arr3 = LT1op(arr2)\n",
    "print(f'{np.sum(arr1*np.conj(arr3))}==\\n{np.sum(arr2*np.conj(arr2))}')\n",
    "\n",
    "arr1 = cp.random.random([ntheta,ne,ne]).astype('complex64')\n",
    "shifts = cp.random.random([ntheta,ndist,2]).astype('float32')\n",
    "arr2 = S2op(arr1,shifts)# note magnification needed\n",
    "arr3 = ST2op(arr2,shifts)\n",
    "print(f'{np.sum(arr1*np.conj(arr3))}==\\n{np.sum(arr2*np.conj(arr2))}')\n",
    "\n",
    "arr1 = cp.random.random([ntheta,ndist,ne,ne]).astype('complex64')\n",
    "arr2 = Mop(arr1)\n",
    "arr3 = MTop(arr2)\n",
    "print(f'{np.sum(arr1*np.conj(arr3))}==\\n{np.sum(arr2*np.conj(arr2))}')\n",
    "\n",
    "arr1 = cp.random.random([ntheta,ndist,n+2*pad,n+2*pad]).astype('complex64')\n",
    "arr2 = L2op(arr1)\n",
    "arr3 = LT2op(arr2)\n",
    "print(f'{np.sum(arr1*np.conj(arr3))}==\\n{np.sum(arr2*np.conj(arr2))}')\n",
    "\n",
    "arr1 = cp.random.random([ne,ne,ne]).astype('complex64')\n",
    "arr2 = Rop(arr1)\n",
    "arr3 = RTop(arr2)\n",
    "print(f'{np.sum(arr1*np.conj(arr3))}==\\n{np.sum(arr2*np.conj(arr2))}')"
   ]
  },
  {
   "cell_type": "markdown",
   "id": "2f80b96c-d4b8-4c0e-8999-b8198bbc486a",
   "metadata": {},
   "source": [
    "## Compute tomographic projection data via the Fourier based method, $\\mathcal{R}u$:"
   ]
  },
  {
   "cell_type": "code",
   "execution_count": null,
   "id": "87c2a585-910b-4c13-85fc-7f9e640f8293",
   "metadata": {},
   "outputs": [],
   "source": [
    "Ru = Rop(u)\n",
    "mshow_complex(Ru[0],show)"
   ]
  },
  {
   "cell_type": "markdown",
   "id": "8ad80230-2c85-4338-ab29-ce4421451d0d",
   "metadata": {},
   "source": [
    "## Convert it to the transmittance function $e^{\\frac{2\\pi j}{\\lambda} \\mathcal{R} u }$"
   ]
  },
  {
   "cell_type": "code",
   "execution_count": null,
   "id": "9741128b-b019-44f4-abc1-ed2da6a86f07",
   "metadata": {},
   "outputs": [],
   "source": [
    "psi = np.exp(1j*Ru)\n",
    "mshow_polar(psi[0],show)"
   ]
  },
  {
   "cell_type": "markdown",
   "id": "bc0f342c-c899-4a73-9871-9717e2bc96c6",
   "metadata": {},
   "source": [
    "## Read a reference image previously recovered by the NFP (Near-field ptychogarphy) method at ID16A. "
   ]
  },
  {
   "cell_type": "code",
   "execution_count": null,
   "id": "6ae30f8e-2518-42aa-bbbc-9a2664e74e2d",
   "metadata": {},
   "outputs": [],
   "source": [
    "!wget -nc https://g-110014.fd635.8443.data.globus.org/holotomocupy/examples_synthetic/data/prb_id16a/prb_abs_2048.tiff -P ../data/prb_id16a\n",
    "!wget -nc https://g-110014.fd635.8443.data.globus.org/holotomocupy/examples_synthetic/data/prb_id16a/prb_phase_2048.tiff -P ../data/prb_id16a\n",
    "\n",
    "prb_abs = read_tiff(f'../data/prb_id16a/prb_abs_2048.tiff')[0:1]\n",
    "prb_phase = read_tiff(f'../data/prb_id16a/prb_phase_2048.tiff')[0:1]\n",
    "prb = prb_abs*np.exp(1j*prb_phase).astype('complex64')\n",
    "\n",
    "\n",
    "for k in range(2):\n",
    "    prb = prb[:, ::2]+prb[:, 1::2]\n",
    "    prb = prb[:, :, ::2]+prb[:, :, 1::2]/4\n",
    "\n",
    "prb = prb[:, 128-pad:-128+pad, 128-pad:-128+pad]\n",
    "prb /= np.mean(np.abs(prb))\n",
    "\n",
    "mshow_polar(prb[0],show)"
   ]
  },
  {
   "cell_type": "markdown",
   "id": "c2a0705b",
   "metadata": {},
   "source": [
    "# Smooth the probe, the loaded one is too noisy"
   ]
  },
  {
   "cell_type": "code",
   "execution_count": null,
   "id": "93cf1c7b",
   "metadata": {},
   "outputs": [],
   "source": [
    "v = np.arange(-(n+2*pad)//2,(n+2*pad)//2)/(n+2*pad)\n",
    "[vx,vy] = np.meshgrid(v,v)\n",
    "v=np.exp(-5*(vx**2+vy**2))\n",
    "prb = np.fft.fftshift(np.fft.fftn(np.fft.fftshift(prb)))\n",
    "prb = np.fft.fftshift(np.fft.ifftn(np.fft.fftshift(prb*v)))\n",
    "prb = prb.astype('complex64')\n",
    "\n",
    "mshow_polar(prb[0],show)"
   ]
  },
  {
   "cell_type": "markdown",
   "id": "d1d02f36",
   "metadata": {},
   "source": [
    "# Shifts/drifts"
   ]
  },
  {
   "cell_type": "code",
   "execution_count": null,
   "id": "e79c03a1",
   "metadata": {},
   "outputs": [],
   "source": [
    "# random sample shifts for each projection (note:before magnification)\n",
    "shifts = (np.random.random([ntheta, ndist, 2]).astype('float32')-0.5)*n/32\n",
    "# drift of the probe between different distances\n",
    "shifts_ref = (np.random.random([1, ndist, 2]).astype('float32')-0.5)*n/128*0\n",
    "# use the first ref image as the global reference for illumination\n",
    "shifts_ref[0, 0, :] = 0\n",
    "\n",
    "# use the first plane as the global reference for illumination\n",
    "if ndist>1:\n",
    "    shifts[:, 1] += np.array([0.6, 0.3])*3\n",
    "    shifts[:, 2] += np.array([-1.3, 1.5])*3\n",
    "    shifts[:, 3] += np.array([2.3, -3.5])*3"
   ]
  },
  {
   "cell_type": "markdown",
   "id": "34abfd9e-9dde-4241-8055-96cec24c18fb",
   "metadata": {},
   "source": [
    "### Compute holographic projections for all angles and all distances\n",
    "#### $$d_{j,k}=|L_{2,j}(L_{1,j}(q)\\cdot M_j(S_{{x}_{j,k}}(c_k)))|^2$$"
   ]
  },
  {
   "cell_type": "markdown",
   "id": "18e9c352-2b2c-49d7-adc0-301a05da964c",
   "metadata": {},
   "source": [
    "### Take squared absolute value to simulate data on the detector and a reference image"
   ]
  },
  {
   "cell_type": "code",
   "execution_count": null,
   "id": "f4f94fd7-b14c-4dc3-832c-2f00d1674039",
   "metadata": {},
   "outputs": [],
   "source": [
    "eRu = np.exp(1j*Rop(u))\n",
    "L2psi = L2op(L1op(prb)*Mop(S2op(eRu,shifts)))\n",
    "data = np.abs(L2psi)**2\n",
    "\n",
    "\n",
    "eRu = np.exp(1j*Rop(u*0))\n",
    "L2psi = L2op(L1op(prb)*Mop(S2op(eRu,shifts)))\n",
    "ref = np.abs(L2op(L1op(prb)*(1+0*Mop(S2op(psi,shifts)))))**2\n",
    "ref = ref[0]\n"
   ]
  },
  {
   "cell_type": "markdown",
   "id": "6bbcb6f5",
   "metadata": {},
   "source": [
    "### Visualize data"
   ]
  },
  {
   "cell_type": "code",
   "execution_count": null,
   "id": "974c84ca",
   "metadata": {},
   "outputs": [],
   "source": [
    "for k in range(ndist):\n",
    "    mshow_complex(data[0,k]+1j*data[ntheta//2,k],show)\n",
    "for k in range(ndist):\n",
    "    mshow(ref[k],show)    \n"
   ]
  },
  {
   "cell_type": "markdown",
   "id": "364c6acc",
   "metadata": {},
   "source": []
  },
  {
   "cell_type": "markdown",
   "id": "80625cf6-2687-43fa-8d0a-dd3396f91aa7",
   "metadata": {},
   "source": [
    "### Save data, reference images"
   ]
  },
  {
   "cell_type": "code",
   "execution_count": null,
   "id": "1edf3f41-30cb-4092-b90c-ca2f1f829ac7",
   "metadata": {},
   "outputs": [],
   "source": [
    "np.save(f'/data/vnikitin/data{n}',data)\n",
    "np.save(f'/data/vnikitin/ref{n}',ref)\n",
    "np.save(f'/data/vnikitin/shifts{n}', shifts)\n",
    "np.save(f'/data/vnikitin/shifts_ref{n}', shifts_ref)\n",
    "\n",
    "err=(np.random.random([ntheta,ndist,2])-0.5)*4\n",
    "np.save(f'/data/vnikitin/shifts_err{n}', err)\n"
   ]
  }
 ],
 "metadata": {
  "kernelspec": {
   "display_name": "holotomocupy",
   "language": "python",
   "name": "python3"
  },
  "language_info": {
   "codemirror_mode": {
    "name": "ipython",
    "version": 3
   },
   "file_extension": ".py",
   "mimetype": "text/x-python",
   "name": "python",
   "nbconvert_exporter": "python",
   "pygments_lexer": "ipython3",
   "version": "3.12.4"
  }
 },
 "nbformat": 4,
 "nbformat_minor": 5
}
