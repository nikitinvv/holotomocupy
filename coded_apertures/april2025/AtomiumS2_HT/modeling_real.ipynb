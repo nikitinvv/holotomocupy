{
 "cells": [
  {
   "cell_type": "code",
   "execution_count": null,
   "id": "fad77fab-e206-47c1-9655-088d14fe30cb",
   "metadata": {},
   "outputs": [],
   "source": [
    "import numpy as np\n",
    "import cupy as cp\n",
    "import sys\n",
    "import pandas as pd\n",
    "import time\n",
    "import matplotlib.pyplot as plt\n",
    "import h5py\n",
    "from types import SimpleNamespace\n",
    "import warnings\n",
    "warnings.filterwarnings(\"ignore\", message=f\".*peer.*\")\n",
    "\n",
    "sys.path.insert(0, '..')\n",
    "from utils import *\n",
    "from rec import Rec"
   ]
  },
  {
   "cell_type": "markdown",
   "id": "3c0fdd65-1cff-451e-865e-56cd8b7882a6",
   "metadata": {},
   "source": [
    "# Init data sizes and parametes of the PXM of ID16A"
   ]
  },
  {
   "cell_type": "code",
   "execution_count": null,
   "id": "d92d1fe9",
   "metadata": {},
   "outputs": [],
   "source": [
    "step = 36\n",
    "bin = 1"
   ]
  },
  {
   "cell_type": "code",
   "execution_count": null,
   "id": "59fa16f2-1f9c-4b3a-a330-e10942f12234",
   "metadata": {},
   "outputs": [],
   "source": [
    "with h5py.File(f'/data/vnikitin/ESRF/ID16A/20240924_rec/AtomiumS2/AtomiumS2_HT_007nm.h5') as fid:\n",
    "    detector_pixelsize = fid['/exchange/detector_pixelsize'][0]    \n",
    "    focusToDetectorDistance = fid['/exchange/focusdetectordistance'][0]    \n",
    "    z1 = fid['/exchange/z1'][:]        \n",
    "    theta = fid['/exchange/theta'][::step,0]\n",
    "    shifts = fid['/exchange/shifts'][::step]\n",
    "    shape = fid['/exchange/data0'][::step].shape    "
   ]
  },
  {
   "cell_type": "code",
   "execution_count": null,
   "id": "27257fa0",
   "metadata": {},
   "outputs": [],
   "source": [
    "theta = theta/180*np.pi"
   ]
  },
  {
   "cell_type": "code",
   "execution_count": null,
   "id": "6c221e55",
   "metadata": {},
   "outputs": [],
   "source": [
    "ndist=4\n",
    "ntheta,n = shape[:2]\n",
    "n//=2**bin\n",
    "shifts/=2**bin\n",
    "error = 5*(np.random.random(shifts.shape).astype(\"float32\")-0.5)\n",
    "shifts_error=shifts+error"
   ]
  },
  {
   "cell_type": "code",
   "execution_count": null,
   "id": "dc312e54",
   "metadata": {},
   "outputs": [],
   "source": [
    "energy = 33.35  # [keV] xray energy\n",
    "wavelength = 1.2398419840550367e-09/energy  # [m] wave length\n",
    "z2 = focusToDetectorDistance-z1\n",
    "distances = (z1*z2)/focusToDetectorDistance\n",
    "magnifications = focusToDetectorDistance/z1\n",
    "norm_magnifications = magnifications/magnifications[0]\n",
    "voxelsize = detector_pixelsize/magnifications[0]*2048/n  # object voxel size\n",
    "show = True\n"
   ]
  },
  {
   "cell_type": "code",
   "execution_count": null,
   "id": "c7b136c3",
   "metadata": {},
   "outputs": [],
   "source": [
    "pad = 0\n",
    "npsi = int(np.ceil((2048+2*pad)/norm_magnifications[-1]/16))*16  # make multiple of 8\n",
    "npsi//=(2048//n)"
   ]
  },
  {
   "cell_type": "code",
   "execution_count": null,
   "id": "cfa67fb9",
   "metadata": {},
   "outputs": [],
   "source": [
    "args = SimpleNamespace()\n",
    "args.ngpus = 4\n",
    "\n",
    "args.n = n\n",
    "args.ndist = ndist\n",
    "args.ntheta = ntheta\n",
    "args.pad = pad\n",
    "\n",
    "args.nq = n + 2 * pad\n",
    "args.nchunk = 2\n",
    "\n",
    "args.voxelsize = voxelsize\n",
    "args.wavelength = wavelength\n",
    "args.distance = distances\n",
    "args.eps = 1e-12\n",
    "args.rho = [1, 5, 3]\n",
    "args.lam = 0\n",
    "args.path_out = f\"/data/vnikitin/ESRF/ID16A/20240924_rec/AtomiumS2/AtomiumS2_HT_007nm/syn\"\n",
    "args.show = True\n",
    "\n",
    "args.niter=1\n",
    "args.vis_step=1\n",
    "args.err_step=1\n",
    "args.method = \"BH-CG\"\n",
    "\n",
    "\n",
    "ppad = 0#(npsi//2-n//2)\n",
    "\n",
    "args.rotation_axis=796.25*n/1024-ppad#397.5*2#499.75*n//1024+npsi//2-n//2\n",
    "npsi-=2*ppad\n",
    "args.npsi = npsi\n",
    "print(ppad,npsi,n,args.rotation_axis)\n",
    "args.theta = theta\n",
    "args.norm_magnifications = norm_magnifications\n",
    "# create class\n",
    "cl_rec = Rec(args)"
   ]
  },
  {
   "cell_type": "markdown",
   "id": "49eb1696-bb30-496e-8c3d-565f2791112c",
   "metadata": {},
   "source": [
    "## Read real and imaginary parts of the refractive index u = delta+i beta"
   ]
  },
  {
   "cell_type": "code",
   "execution_count": null,
   "id": "8a579ce4-0cd2-4769-a03d-7614aa96b0a8",
   "metadata": {},
   "outputs": [],
   "source": [
    "u = np.load(f'/data/vnikitin/syn_3d_ald/u{n}.npy').astype('complex64') # if already exists\n",
    "u*=1000#*2.5\n",
    "ppad = npsi//2-n//2\n",
    "u = np.pad(u,((ppad,ppad),(ppad,ppad),(ppad,ppad)))\n",
    "mshow_complex(u[args.npsi//2],show)\n",
    "print(u.shape,npsi,u.dtype)\n"
   ]
  },
  {
   "cell_type": "markdown",
   "id": "2f80b96c-d4b8-4c0e-8999-b8198bbc486a",
   "metadata": {},
   "source": [
    "## Compute tomographic projection data via the Fourier based method, $\\mathcal{R}u$:"
   ]
  },
  {
   "cell_type": "code",
   "execution_count": null,
   "id": "87c2a585-910b-4c13-85fc-7f9e640f8293",
   "metadata": {},
   "outputs": [],
   "source": [
    "\n",
    "psi = cl_rec.expR(cl_rec.R(u))\n",
    "mshow_polar(psi[0],show)"
   ]
  },
  {
   "cell_type": "markdown",
   "id": "bc0f342c-c899-4a73-9871-9717e2bc96c6",
   "metadata": {},
   "source": [
    "## Read a reference image previously recovered by the NFP (Near-field ptychogarphy) method at ID16A. "
   ]
  },
  {
   "cell_type": "code",
   "execution_count": null,
   "id": "6ae30f8e-2518-42aa-bbbc-9a2664e74e2d",
   "metadata": {},
   "outputs": [],
   "source": [
    "!wget -nc https://g-110014.fd635.8443.data.globus.org/holotomocupy/examples_synthetic/data/prb_id16a/prb_abs_2048.tiff -P ../data/prb_id16a\n",
    "!wget -nc https://g-110014.fd635.8443.data.globus.org/holotomocupy/examples_synthetic/data/prb_id16a/prb_phase_2048.tiff -P ../data/prb_id16a\n",
    "\n",
    "q_abs = read_tiff(f'../data/prb_id16a/prb_abs_2048.tiff')[0:ndist]\n",
    "q_phase = read_tiff(f'../data/prb_id16a/prb_phase_2048.tiff')[0:ndist]\n",
    "q = q_abs*np.exp(1j*q_phase).astype('complex64')\n",
    "\n",
    "\n",
    "for k in range(int(np.log2(2048//n))):\n",
    "    q = q[:, ::2]+q[:, 1::2]\n",
    "    q = q[:, :, ::2]+q[:, :, 1::2]/4\n",
    "q /= np.mean(np.abs(q))\n",
    "q[:]=1\n",
    "\n",
    "mshow_polar(q[0],show)\n",
    "mshow_polar(q[-1],show)"
   ]
  },
  {
   "cell_type": "markdown",
   "id": "c2a0705b",
   "metadata": {},
   "source": [
    "# Smooth the probe, the loaded one is too noisy"
   ]
  },
  {
   "cell_type": "code",
   "execution_count": null,
   "id": "93cf1c7b",
   "metadata": {},
   "outputs": [],
   "source": [
    "# v = np.arange(-(n+2*pad)//2,(n+2*pad)//2)/(n+2*pad)\n",
    "# [vx,vy] = np.meshgrid(v,v)\n",
    "# v=np.exp(-5*(vx**2+vy**2))\n",
    "# q = np.fft.fftshift(np.fft.fftn(np.fft.fftshift(q)))\n",
    "# q = np.fft.fftshift(np.fft.ifftn(np.fft.fftshift(q*v)))\n",
    "# q = q.astype('complex64')\n",
    "\n",
    "# mshow_polar(q[0],show)"
   ]
  },
  {
   "cell_type": "markdown",
   "id": "d1d02f36",
   "metadata": {},
   "source": [
    "# Shifts/drifts"
   ]
  },
  {
   "cell_type": "code",
   "execution_count": null,
   "id": "0472ad04",
   "metadata": {},
   "outputs": [],
   "source": [
    "r = shifts\n",
    "data = cl_rec.fwd(r,u,q)\n",
    "ref = cl_rec.fwd(r,u*0,q)\n",
    "\n",
    "mshow_polar(data[0,2],show)\n",
    "mshow_polar(ref[0,2],show)"
   ]
  },
  {
   "cell_type": "code",
   "execution_count": null,
   "id": "a011dbaf",
   "metadata": {},
   "outputs": [],
   "source": [
    "# with h5py.File(f'/data/vnikitin/ESRF/ID16A/20240924_rec/AtomiumS2/AtomiumS2_HT_007nm_corr.h5') as fid:\n",
    "#     u_init = fid['/exchange/u_init_re'][:]+1j*fid['/exchange/u_init_imag'][:]    \n",
    "r = np.zeros([ntheta,ndist,2],dtype='float32')\n",
    "q = np.ones([ndist,args.nq,args.nq],dtype='complex64')\n",
    "dd = cl_rec.DT(data[:,3],3)\n",
    "mshow_polar(dd[0],True)\n",
    "# d = np.abs(cl_rec.fwd(r,u_init,q))**2"
   ]
  },
  {
   "cell_type": "code",
   "execution_count": null,
   "id": "2c126fa4",
   "metadata": {},
   "outputs": [],
   "source": [
    "mshow(np.abs(data[0,2]),show)"
   ]
  },
  {
   "cell_type": "code",
   "execution_count": null,
   "id": "7eecae4a",
   "metadata": {},
   "outputs": [],
   "source": [
    "mshow(np.abs(data[0,0]),show)"
   ]
  },
  {
   "cell_type": "markdown",
   "id": "18e9c352-2b2c-49d7-adc0-301a05da964c",
   "metadata": {},
   "source": [
    "### Take squared absolute value to simulate data on the detector and a reference image"
   ]
  },
  {
   "cell_type": "code",
   "execution_count": null,
   "id": "18604114",
   "metadata": {},
   "outputs": [],
   "source": [
    "# psi = cl_rec.D(cl_rec.M(cl_rec.expR(cl_rec.R(u)),3),0)"
   ]
  },
  {
   "cell_type": "code",
   "execution_count": null,
   "id": "3c4ac2bf",
   "metadata": {},
   "outputs": [],
   "source": [
    "# mshow_polar(psi[0],True)"
   ]
  },
  {
   "cell_type": "code",
   "execution_count": null,
   "id": "006ef4f5",
   "metadata": {},
   "outputs": [],
   "source": [
    "# mshow_polar(psi[-1],True)"
   ]
  },
  {
   "cell_type": "code",
   "execution_count": null,
   "id": "f4f94fd7-b14c-4dc3-832c-2f00d1674039",
   "metadata": {},
   "outputs": [],
   "source": [
    "data = np.abs(data)**2\n",
    "ref = np.abs(ref)**2"
   ]
  },
  {
   "cell_type": "markdown",
   "id": "6bbcb6f5",
   "metadata": {},
   "source": [
    "### Visualize data"
   ]
  },
  {
   "cell_type": "code",
   "execution_count": null,
   "id": "974c84ca",
   "metadata": {},
   "outputs": [],
   "source": [
    "for k in range(ndist):\n",
    "    mshow(data[0,k]/ref[0,k],show)\n"
   ]
  },
  {
   "cell_type": "markdown",
   "id": "8673922a",
   "metadata": {},
   "source": [
    "### Visualize reference images"
   ]
  },
  {
   "cell_type": "code",
   "execution_count": null,
   "id": "cf086c4e",
   "metadata": {},
   "outputs": [],
   "source": [
    "for k in range(ndist):\n",
    "    mshow(ref[0,k],show)"
   ]
  },
  {
   "cell_type": "markdown",
   "id": "80625cf6-2687-43fa-8d0a-dd3396f91aa7",
   "metadata": {},
   "source": [
    "### Save data, reference images"
   ]
  },
  {
   "cell_type": "code",
   "execution_count": null,
   "id": "da5dcbfc",
   "metadata": {},
   "outputs": [],
   "source": [
    "r"
   ]
  },
  {
   "cell_type": "code",
   "execution_count": null,
   "id": "b6b429ef",
   "metadata": {},
   "outputs": [],
   "source": [
    "with  h5py.File(f'{args.path_out}/data.h5','w') as fid:\n",
    "    fid.create_dataset(f'/exchange/u_real',data=u.real)\n",
    "    fid.create_dataset(f'/exchange/u_imag',data=u.imag)\n",
    "    \n",
    "    fid.create_dataset('/exchange/theta',data=theta/np.pi*180)\n",
    "    fid.create_dataset('/exchange/cshifts_final',data=r*2048/n)   \n",
    "    fid.create_dataset('/exchange/shifts_error',data=shifts_error*2048/n)   \n",
    "    fid.create_dataset('/exchange/voxelsize',data=np.array([voxelsize]))\n",
    "    fid.create_dataset('/exchange/z1',data=z1)\n",
    "    fid.create_dataset('/exchange/detector_pixelsize',data=np.array([detector_pixelsize]))\n",
    "    fid.create_dataset('/exchange/focusdetectordistance',data=np.array([focusToDetectorDistance]))    \n",
    "    \n",
    "    fid.create_dataset(f'/exchange/ref',data=ref[0])\n",
    "    for k in range(4):\n",
    "        fid.create_dataset(f'/exchange/data{k}',data=data[:,k])        \n",
    "        fid.create_dataset(f'/exchange/q_abs{k}',data=np.abs(q[k]))\n",
    "        fid.create_dataset(f'/exchange/q_angle{k}',data=np.angle(q[k]))\n",
    "    \n",
    "    "
   ]
  },
  {
   "cell_type": "code",
   "execution_count": null,
   "id": "01f9aa85",
   "metadata": {},
   "outputs": [],
   "source": [
    "q_init=q.copy()\n",
    "with h5py.File(f'{args.path_out}/data.h5') as fid:\n",
    "    u_init = fid[f'/exchange/u_real'][:]+1j*fid[f'/exchange/u_imag'][:]    "
   ]
  },
  {
   "cell_type": "code",
   "execution_count": null,
   "id": "dbb49790",
   "metadata": {},
   "outputs": [],
   "source": [
    "print(np.linalg.norm(r),np.linalg.norm(u),np.linalg.norm(q),np.linalg.norm(q_init),z1,voxelsize)"
   ]
  }
 ],
 "metadata": {
  "kernelspec": {
   "display_name": "holotomocupy",
   "language": "python",
   "name": "python3"
  },
  "language_info": {
   "codemirror_mode": {
    "name": "ipython",
    "version": 3
   },
   "file_extension": ".py",
   "mimetype": "text/x-python",
   "name": "python",
   "nbconvert_exporter": "python",
   "pygments_lexer": "ipython3",
   "version": "3.12.8"
  }
 },
 "nbformat": 4,
 "nbformat_minor": 5
}
