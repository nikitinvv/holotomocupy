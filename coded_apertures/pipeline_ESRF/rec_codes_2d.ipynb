{
 "cells": [
  {
   "cell_type": "code",
   "execution_count": null,
   "id": "fad77fab-e206-47c1-9655-088d14fe30cb",
   "metadata": {},
   "outputs": [],
   "source": [
    "import numpy as np\n",
    "import cupy as cp\n",
    "from holotomocupy.utils import *\n",
    "from holotomocupy.holo import G,GT\n",
    "from holotomocupy.shift import S\n",
    "from holotomocupy.recon_methods import CTFPurePhase, multiPaganin\n",
    "\n",
    "%matplotlib inline\n",
    "\n",
    "np.random.seed(1) # fix randomness"
   ]
  },
  {
   "cell_type": "markdown",
   "id": "3c0fdd65-1cff-451e-865e-56cd8b7882a6",
   "metadata": {},
   "source": [
    "# Init data sizes and parametes of the PXM of ID16A"
   ]
  },
  {
   "cell_type": "code",
   "execution_count": null,
   "id": "59fa16f2-1f9c-4b3a-a330-e10942f12234",
   "metadata": {},
   "outputs": [],
   "source": [
    "n = 2048  # object size in each dimension\n",
    "\n",
    "z1c = -19.5e-3\n",
    "npos = 4  # number of code positions\n",
    "detector_pixelsize = 3e-6\n",
    "energy = 33.35  # [keV] xray energy\n",
    "wavelength = 1.2398419840550367e-09/energy  # [m] wave length\n",
    "focusToDetectorDistance = 1.28  # [m]\n",
    "sx0 = 3.7e-4\n",
    "z1 = 4.584e-3-sx0\n",
    "z1 = np.tile(z1, [npos])\n",
    "\n",
    "z2 = focusToDetectorDistance-z1\n",
    "distances = (z1*z2)/focusToDetectorDistance\n",
    "magnifications = focusToDetectorDistance/z1\n",
    "voxelsize = detector_pixelsize/magnifications[0]*2048/n  # object voxel size\n",
    "\n",
    "# magnification when propagating from the probe plane to the detector\n",
    "magnifications2 = z1/z1c\n",
    "distances2 = (z1-z1c)/(z1c/z1)#magnifications2\n",
    "# allow padding if there are shifts of the probe\n",
    "pad = n//8\n",
    "# sample size after demagnification\n",
    "ne = n+2*pad\n",
    "\n",
    "show = True\n",
    "flg = f'{n}_{z1c}'\n",
    "path = f'/data2/vnikitin/nfp_codes'\n",
    "\n"
   ]
  },
  {
   "cell_type": "markdown",
   "id": "bc0f342c-c899-4a73-9871-9717e2bc96c6",
   "metadata": {},
   "source": [
    "## Read the probe. "
   ]
  },
  {
   "cell_type": "code",
   "execution_count": null,
   "id": "6ae30f8e-2518-42aa-bbbc-9a2664e74e2d",
   "metadata": {},
   "outputs": [],
   "source": [
    "#prb = np.load(f'{path}/prb_{flg}.npy') # original\n",
    "prb = np.load(f'{path}/rec_prb_{flg}.npy') # reconstructed\n",
    "prb = cp.array(prb)\n",
    "mshow_polar(prb[0],show)"
   ]
  },
  {
   "cell_type": "markdown",
   "id": "fab6f53c",
   "metadata": {},
   "source": [
    "### Read reconstructed coded aperture"
   ]
  },
  {
   "cell_type": "code",
   "execution_count": null,
   "id": "1b148894",
   "metadata": {},
   "outputs": [],
   "source": [
    "#code = cp.array(np.load(f'{path}/code_{flg}.npy')) #originial\n",
    "code = cp.array(np.load(f'{path}/rec_code_{flg}.npy')) # reconstructed\n",
    "mshow_polar(code[0],show)"
   ]
  },
  {
   "cell_type": "markdown",
   "id": "d1d02f36",
   "metadata": {},
   "source": [
    "### Read shifts"
   ]
  },
  {
   "cell_type": "code",
   "execution_count": null,
   "id": "e79c03a1",
   "metadata": {},
   "outputs": [],
   "source": [
    "shifts_code = np.load(f'{path}/shifts_code_{flg}.npy')\n",
    "shifts_code = cp.array(shifts_code)"
   ]
  },
  {
   "cell_type": "markdown",
   "id": "89cda8ee",
   "metadata": {},
   "source": [
    "### Read data"
   ]
  },
  {
   "cell_type": "code",
   "execution_count": null,
   "id": "17cbdaa7",
   "metadata": {},
   "outputs": [],
   "source": [
    "data = cp.empty([1,npos,n,n],dtype='float32')\n",
    "ref = cp.empty([1,npos,n,n],dtype='float32')\n",
    "for k in range(npos):\n",
    "    data[:,k] = cp.array(read_tiff(f'{path}/data_{k}_{flg}.tiff'))\n",
    "    ref[:,k] = cp.array(read_tiff(f'{path}/ref_{k}_{flg}.tiff'))\n",
    "    \n",
    "mshow(data[0,0],show)"
   ]
  },
  {
   "cell_type": "markdown",
   "id": "34abfd9e-9dde-4241-8055-96cec24c18fb",
   "metadata": {},
   "source": [
    "#### Forward operator"
   ]
  },
  {
   "cell_type": "code",
   "execution_count": null,
   "id": "0472ad04",
   "metadata": {},
   "outputs": [],
   "source": [
    "def Lop(psi):\n",
    "    data = cp.zeros([psi.shape[0], npos, n, n], dtype='complex64')\n",
    "    for i in range(npos):\n",
    "        psir = psi[:,i].copy()       \n",
    "        psir = G(psir, wavelength, voxelsize, distances[i])\n",
    "        data[:, i] = psir[:, pad:n+pad, pad:n+pad]\n",
    "    return data\n",
    "\n",
    "def LTop(data):\n",
    "    psi = cp.zeros([data.shape[0],npos, n+2*pad, n+2*pad], dtype='complex64')\n",
    "    for j in range(npos):\n",
    "        psir = cp.pad(data[:, j], ((0, 0), (pad, pad), (pad, pad))).astype('complex64')\n",
    "        psir = GT(psir, wavelength, voxelsize, distances[j])        \n",
    "        psi[:,j] = psir\n",
    "    return psi\n",
    "\n",
    "def Lwop(psi):\n",
    "    data = cp.zeros([psi.shape[0], npos, n+2*pad, n+2*pad], dtype='complex64')\n",
    "    for i in range(npos):\n",
    "        psir = psi[:,i].copy()       \n",
    "        psir = G(psir, wavelength, voxelsize, distances2[i])\n",
    "        data[:, i] = psir\n",
    "    return data\n",
    "\n",
    "def LTwop(data):\n",
    "    psi = cp.zeros([data.shape[0],npos, n+2*pad, n+2*pad], dtype='complex64')\n",
    "    for j in range(npos):\n",
    "        psir = data[:, j].astype('complex64')\n",
    "        psir = GT(psir, wavelength, voxelsize, distances2[j])        \n",
    "        psi[:,j] = psir\n",
    "    return psi\n",
    "\n",
    "def Sop(psi):\n",
    "    data = cp.zeros([psi.shape[0], npos, n+2*pad, n+2*pad], dtype='complex64')\n",
    "    for i in range(npos):\n",
    "        psir = psi.copy()\n",
    "        psir = S(psir, shifts_code[:, i])\n",
    "        nee = psir.shape[1]        \n",
    "        data[:,i] = psir[:, nee//2-ne//2:nee//2+ne//2, nee//2-ne//2:nee//2+ne//2]\n",
    "    return data\n",
    "\n",
    "arr1 = Sop(code)*prb\n",
    "arr2 = Lwop(arr1)\n",
    "arr3 = LTwop(arr2)\n",
    "print(f'{cp.sum(arr1*cp.conj(arr3))}==\\n{cp.sum(arr2*cp.conj(arr2))}')\n",
    "\n",
    "prb1 = prb.copy()\n",
    "psi1 = cp.pad(data[:,0],((0,0),(pad,pad),(pad,pad)),'symmetric').astype('complex64')     \n",
    "arr3 = Lop(arr2)\n",
    "arr4 = LTop(arr3)\n",
    "print(f'{cp.sum(arr2*cp.conj(arr4))}==\\n{cp.sum(arr3*cp.conj(arr3))}')"
   ]
  },
  {
   "cell_type": "markdown",
   "id": "e2bb7db9",
   "metadata": {},
   "source": [
    "## reconstruction with Paganin"
   ]
  },
  {
   "cell_type": "code",
   "execution_count": null,
   "id": "74ef5bb3",
   "metadata": {},
   "outputs": [],
   "source": [
    "d = cp.abs(Lop(Lwop(Sop(code))))**2\n",
    "mshow(d[0,0],show)\n",
    "\n",
    "rdata = data/d/ref\n",
    "mshow((rdata)[0,0],show,vmax=2)"
   ]
  },
  {
   "cell_type": "code",
   "execution_count": null,
   "id": "c8614049",
   "metadata": {},
   "outputs": [],
   "source": [
    "r = multiPaganin(rdata[:,:], distances[:], wavelength, voxelsize,  24.05, 2e-2)\n",
    "r = cp.pad(r, ((0,0),(pad,pad),(pad,pad)))\n",
    "recMultiPaganin = np.exp(1j*r)\n"
   ]
  },
  {
   "cell_type": "code",
   "execution_count": null,
   "id": "a9ef589b",
   "metadata": {},
   "outputs": [],
   "source": [
    "def redot(a,b):\n",
    "    return cp.sum(a.real*b.real+a.imag*b.imag)"
   ]
  },
  {
   "cell_type": "markdown",
   "id": "b9b1991b",
   "metadata": {},
   "source": [
    "#### $$\\nabla F=2 \\left(L^*\\left( L(\\psi)-\\tilde D\\right)\\right).$$\n",
    "#### where $$\\tilde D = D \\frac{L(\\psi)}{|L(\\psi)|}$$\n",
    "\n"
   ]
  },
  {
   "cell_type": "code",
   "execution_count": null,
   "id": "fe7e85c6",
   "metadata": {},
   "outputs": [],
   "source": [
    "def gradientF(psi,d):\n",
    "    Lpsi = Lop(psi)\n",
    "    td = d*(Lpsi/cp.abs(Lpsi))\n",
    "    res = 2*LTop(Lpsi - td)\n",
    "    return res"
   ]
  },
  {
   "cell_type": "markdown",
   "id": "c8d496d9",
   "metadata": {},
   "source": [
    "#### $$\\frac{1}{2}\\mathcal{H}^F|_{x_0}(y,z)= \\left\\langle \\mathbf{1}-d_{0}, \\mathsf{Re}({L(y)}\\overline{L(z)})\\right\\rangle+\\left\\langle d_{0},(\\mathsf{Re} (\\overline{l_0}\\cdot L(y)))\\cdot (\\mathsf{Re} (\\overline{l_0}\\cdot L(z)))\\right\\rangle.$$\n",
    "#### $$l_0=L(x_0)/|L(x_0)|$$\n",
    "#### $$d_0=d/|L(x_0)|$$\n"
   ]
  },
  {
   "cell_type": "code",
   "execution_count": null,
   "id": "dca8ac88",
   "metadata": {},
   "outputs": [],
   "source": [
    "def hessianF(psi,psi1,psi2,d):\n",
    "    Lpsi = Lop(psi)\n",
    "    Lpsi1 = Lop(psi1)\n",
    "    Lpsi2 = Lop(psi2)    \n",
    "    l0 = Lpsi/cp.abs(Lpsi)\n",
    "    d0 = d/cp.abs(Lpsi)\n",
    "    v1 = redot(1-d0,cp.real(Lpsi1*cp.conj(Lpsi2)))\n",
    "    v2 = redot(d0,cp.real(cp.conj(l0)*Lpsi1)*cp.real(cp.conj(l0)*Lpsi2))\n",
    "    return 2*(v1+v2)\n"
   ]
  },
  {
   "cell_type": "markdown",
   "id": "7e044cc2",
   "metadata": {},
   "source": [
    "#### $$\\nabla G|_q = \\overline{S(c)} L_\\omega^*\\left(\\overline{\\psi}\\nabla F|_{\\psi(L_\\omega(S(c) q)}\\right)$$\n",
    "#### $$\\nabla G|_\\psi = \\overline{(L_\\omega(S(c) q))}\\nabla F|_{\\psi(L_\\omega(S(c) q)}$$"
   ]
  },
  {
   "cell_type": "code",
   "execution_count": null,
   "id": "330bca05",
   "metadata": {},
   "outputs": [],
   "source": [
    "def gradients(psi,q,c,d):\n",
    "    Lwcq = Lwop(Sop(c)*q)\n",
    "    gradF = gradientF(psi*Lwcq,d)        \n",
    "    gradq = cp.sum(cp.conj(Sop(c))*LTwop(cp.conj(psi)*gradF),axis=1)    \n",
    "    gradpsi = cp.sum(cp.conj(Lwcq)*gradF,axis=1)\n",
    "    return gradpsi,gradq"
   ]
  },
  {
   "cell_type": "markdown",
   "id": "a3219822",
   "metadata": {},
   "source": [
    "#### $$H^G(\\Delta\\psi_1,\\Delta\\psi_2,\\Delta q_1,\\Delta q_2) =$$\n",
    "#### $$H^F_{\\psi(L_\\omega(S(c) q)}$$\n",
    "#### $$\\Big(\\Delta\\psi_1(L_\\omega(S(c) q)) +\\psi(L_\\omega(S(c) \\Delta q_1))+\\Delta\\psi_1(L_\\omega(S(c) \\Delta q_1))), $$\n",
    "#### $$\\Delta\\psi_2(L_\\omega(S(c) q)) +\\psi(L_\\omega(S(c) \\Delta q_2))+\\Delta\\psi_2(L_\\omega(S(c) \\Delta q_2)))\\Big)+$$\n",
    "#### $$\\Big\\langle \\nabla F|_{\\psi(L_\\omega(S(c) q)}, \\Delta\\psi_1(L_\\omega(S(c) \\Delta q_2))+\\Delta\\psi_2(L_\\omega(S(c) \\Delta q_1))\\Big\\rangle$$"
   ]
  },
  {
   "cell_type": "code",
   "execution_count": null,
   "id": "7d5a699b",
   "metadata": {},
   "outputs": [],
   "source": [
    "def hessian2(psi,q,c,dpsi1,dq1,dpsi2,dq2,d):\n",
    "    Lwcq = Lwop(Sop(c)*q)\n",
    "    Lwcdq1 = Lwop(Sop(c)*dq1)\n",
    "    Lwcdq2 = Lwop(Sop(c)*dq2)\n",
    "    h1 = dpsi1*Lwcq+psi*Lwcdq1+dpsi1*Lwcdq1\n",
    "    h2 = dpsi2*Lwcq+psi*Lwcdq2+dpsi2*Lwcdq2\n",
    "    v1 = hessianF(psi*Lwcq,h1,h2,d)\n",
    "\n",
    "    gradF = gradientF(psi*Lwcq,d)\n",
    "    v2 = redot(gradF,dpsi1*Lwcdq2+dpsi2*Lwcdq1)  \n",
    "    return v1+v2"
   ]
  },
  {
   "cell_type": "markdown",
   "id": "18e9c352-2b2c-49d7-adc0-301a05da964c",
   "metadata": {},
   "source": [
    "#### Reconstruction with the CG (Carlsson) with Hessians"
   ]
  },
  {
   "cell_type": "code",
   "execution_count": null,
   "id": "f4f94fd7-b14c-4dc3-832c-2f00d1674039",
   "metadata": {},
   "outputs": [],
   "source": [
    "\n",
    "def minf(fpsi,data):\n",
    "    f = np.linalg.norm(np.abs(fpsi)-data)**2\n",
    "    return f\n",
    "\n",
    "def cg_holo(data, init_psi,init_prb,  pars):\n",
    "    \n",
    "    data = np.sqrt(data)\n",
    "    \n",
    "    psi = init_psi.copy()\n",
    "    prb = init_prb.copy()\n",
    "\n",
    "    erra = np.zeros(pars['niter'])\n",
    "    alphaa = np.zeros(pars['niter'])\n",
    "    \n",
    "    for i in range(pars['niter']):                                        \n",
    "        \n",
    "        gradpsi,gradprb = gradients(psi,prb,code,data)        \n",
    "        # if i<4:\n",
    "        #     gradprb[:]=0\n",
    "        if i==0:\n",
    "            etapsi = -gradpsi\n",
    "            etaprb = -gradprb\n",
    "        else:\n",
    "            top = hessian2(psi,prb,code,gradpsi,gradprb,etapsi,etaprb,data)\n",
    "            bottom = hessian2(psi,prb,code,etapsi,etaprb,etapsi,etaprb,data)\n",
    "            beta = top/bottom\n",
    "            \n",
    "            etapsi = -gradpsi + beta*etapsi\n",
    "            etaprb = -gradprb + beta*etaprb\n",
    "\n",
    "        #top\n",
    "        top = -redot(gradpsi,etapsi)-redot(gradprb,etaprb)\n",
    "        # bottom\n",
    "        bottom = hessian2(psi,prb,code,etapsi,etaprb,etapsi,etaprb,data)        \n",
    "        alpha = top/bottom\n",
    "\n",
    "        psi += alpha*etapsi\n",
    "        prb += alpha*etaprb\n",
    "\n",
    "        if i % pars['err_step'] == 0:\n",
    "            fpsi = Lop(psi*Lwop(Sop(code)*prb))\n",
    "            err = minf(fpsi,data)\n",
    "            erra[i] = err\n",
    "            alphaa[i] = alpha\n",
    "            print(f'{i}) {alpha=:.5f}, {err=:1.5e}')\n",
    "\n",
    "        if i % pars['vis_step'] == 0 and pars['vis_step']>0 :\n",
    "            mshow_polar(psi[0],show)\n",
    "            mshow_polar(psi[0,ne//2-256:ne//2+256,ne//2-256:ne//2+256],show)\n",
    "            mshow_polar(prb[0],show)\n",
    "\n",
    "    return psi,prb,erra,alphaa\n",
    "\n",
    "print(shifts_code)\n",
    "# fully on gpu\n",
    "rec_psi = cp.ones([1,ne,ne],dtype='complex64')\n",
    "rec_prb = prb.copy()\n",
    "pars = {'niter':512, 'err_step': 1, 'vis_step': 32}\n",
    "rec_psi,rec_prb,erra,alphaa = cg_holo(data,rec_psi,rec_prb, pars)"
   ]
  }
 ],
 "metadata": {
  "kernelspec": {
   "display_name": "Python 3 (ipykernel)",
   "language": "python",
   "name": "python3"
  },
  "language_info": {
   "codemirror_mode": {
    "name": "ipython",
    "version": 3
   },
   "file_extension": ".py",
   "mimetype": "text/x-python",
   "name": "python",
   "nbconvert_exporter": "python",
   "pygments_lexer": "ipython3",
   "version": "3.12.4"
  }
 },
 "nbformat": 4,
 "nbformat_minor": 5
}
