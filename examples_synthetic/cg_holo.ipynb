{
 "cells": [
  {
   "cell_type": "code",
   "execution_count": null,
   "metadata": {
    "id": "-uOJMD8Clu8n"
   },
   "outputs": [],
   "source": [
    "import numpy as np\n",
    "import matplotlib.pyplot as plt\n",
    "from scipy import ndimage\n",
    "import random\n",
    "random.seed(10)# fix randomness\n",
    "import cupy as cp"
   ]
  },
  {
   "cell_type": "markdown",
   "metadata": {
    "id": "6qPDcvFqq5Nd"
   },
   "source": [
    "Parameters for modeling"
   ]
  },
  {
   "cell_type": "code",
   "execution_count": null,
   "metadata": {
    "id": "w_twpvQ7o8o3"
   },
   "outputs": [],
   "source": [
    "n = 512 # object size (nxn), detector size (nxn)\n",
    "z = np.array([4.5e-3, 4.7e-3, 5e-3]) # positions of the sample wrt the focal spot [m]\n",
    "voxelsize = 1e-8*2048/n # voxel size for computing propagation, 10nm corresponds to the detector 2048x2048 [m]\n",
    "wavelength = 1.24e-09/33.35  # wave length for 33.35 keV energy [m]\n",
    "\n",
    "npad = n//8 # padding of the object\n",
    "ne = n+2*npad # size after padding"
   ]
  },
  {
   "cell_type": "code",
   "execution_count": null,
   "metadata": {
    "colab": {
     "base_uri": "https://localhost:8080/",
     "height": 314
    },
    "id": "69f7xoCPm1Fy",
    "outputId": "cb64fc1e-43d0-407c-d4ac-fc02cf434009"
   },
   "outputs": [],
   "source": [
    "# generate 64x64 binary matrix\n",
    "nill = 16\n",
    "ill = np.zeros([nill*nill],dtype='bool')\n",
    "ill_ids = random.sample(range(0, nill*nill), int(nill*nill*0.55))\n",
    "ill[ill_ids] = 1\n",
    "ill = ill.reshape(nill,nill)\n",
    "# scale to the size nxn\n",
    "ill = ndimage.zoom(ill,[n/nill,n/nill],order=0,grid_mode=True,mode='grid-wrap').astype('float64')\n",
    "\n",
    "# ill+=(ill[::-1]+ill[:,::-1])/2\n",
    "\n",
    "# make the transmittance function\n",
    "beta = 1.1906916589949026e-07 # for gold\n",
    "delta = 2.863698115973534e-06 # for gold\n",
    "thickness = 2e-6/voxelsize # thickness of the object in pixels\n",
    "Rill = ill*(-delta+1j*beta)*thickness\n",
    "\n",
    "# make sure we have 0 on borders,\n",
    "# work with padded version\n",
    "Rill = np.pad(Rill[n//8:-n//8,n//8:-n//8],((npad+n//8,npad+n//8),(npad+n//8,npad+n//8)))\n",
    "\n",
    "x = np.exp(1j * Rill * voxelsize * 2 * np.pi / wavelength).astype('complex128')\n",
    "\n",
    "\n",
    "# slightly smooth borders to avoid high frequency problems\n",
    "v = np.arange(-ne//2,ne//2)/2/ne\n",
    "[vx,vy] = np.meshgrid(v,v)\n",
    "v = np.exp(-0.2*(vx**2+vy**2))\n",
    "x = np.fft.fftshift(np.fft.fftn(np.fft.fftshift(x)))\n",
    "x = np.fft.fftshift(np.fft.ifftn(np.fft.fftshift(x*v))).astype('complex128')\n",
    "\n",
    "\n",
    "# plot\n",
    "fig, axs = plt.subplots(1, 2, figsize=(9, 3))\n",
    "im = axs[0].imshow(np.abs(x), cmap='gray')\n",
    "axs[0].set_title('abs')\n",
    "fig.colorbar(im, fraction=0.046, pad=0.04)\n",
    "im = axs[1].imshow(np.angle(x), cmap='gray')\n",
    "axs[1].set_title('phase')\n",
    "fig.colorbar(im, fraction=0.046, pad=0.04)\n",
    "plt.show()"
   ]
  },
  {
   "cell_type": "markdown",
   "metadata": {
    "id": "0LI8uoDKrK86"
   },
   "source": [
    "Define the Fresnel transform operator and its adjoint"
   ]
  },
  {
   "cell_type": "code",
   "execution_count": null,
   "metadata": {
    "id": "fSr11QjmlyH6"
   },
   "outputs": [],
   "source": [
    "def P(f, wavelength, voxelsize, z):\n",
    "    \"\"\"Fresnel transform\n",
    "\n",
    "    Parameters\n",
    "    ----------\n",
    "    f : ndarray\n",
    "        Input array to perform the Fresnel transform\n",
    "    voxelsize : float\n",
    "        Voxel size in m\n",
    "    z : float\n",
    "        Propagation distance in m\n",
    "\n",
    "    Returns\n",
    "    -------\n",
    "    ff : ndarray\n",
    "        Propagated function\n",
    "    \"\"\"\n",
    "\n",
    "    fx = cp.fft.fftfreq(2*ne, d=voxelsize).astype('float64')\n",
    "    [fx, fy] = np.meshgrid(fx, fx)\n",
    "\n",
    "    fP = np.exp(-1j*np.pi*wavelength*z*(fx**2+fy**2))\n",
    "\n",
    "    ff = np.pad(f,((ne//2,ne//2),(ne//2,ne//2)))\n",
    "    ff = np.fft.ifft2(np.fft.fft2(ff)*fP)\n",
    "\n",
    "    ff = ff[ne//2:-ne//2,ne//2:-ne//2]\n",
    "\n",
    "    return ff\n",
    "\n",
    "\n",
    "def PT(f, wavelength, voxelsize, z):\n",
    "    return P(f, wavelength, voxelsize, -z)\n"
   ]
  },
  {
   "cell_type": "markdown",
   "metadata": {
    "id": "1m3udC72y2Kg"
   },
   "source": [
    "Make the joint operator L"
   ]
  },
  {
   "cell_type": "code",
   "execution_count": null,
   "metadata": {
    "id": "H5sp8az7yaaE"
   },
   "outputs": [],
   "source": [
    "def L(f):\n",
    "  res = cp.zeros([len(z),n,n],dtype='complex128')\n",
    "  for k in range(len(z)):\n",
    "    res[k] = P(f,wavelength,voxelsize,z[k])[npad:-npad,npad:-npad]\n",
    "\n",
    "  return res\n",
    "\n",
    "def LT(d):\n",
    "  res = cp.zeros([ne,ne],dtype='complex128')\n",
    "  for k in range(len(z)):\n",
    "\n",
    "    res += PT(np.pad(d[k],((npad,npad),(npad,npad))),wavelength,voxelsize,z[k])\n",
    "  return res"
   ]
  },
  {
   "cell_type": "markdown",
   "metadata": {
    "id": "PvMDR39QvhPk"
   },
   "source": [
    "Generate data on the detector for $$d = \\|L(x)\\|^2$$"
   ]
  },
  {
   "cell_type": "code",
   "execution_count": null,
   "metadata": {
    "colab": {
     "base_uri": "https://localhost:8080/",
     "height": 314
    },
    "id": "PTnX028Vt0uW",
    "outputId": "cac0023d-4fe1-4cec-d19d-fd0c1225e827"
   },
   "outputs": [],
   "source": [
    "x = cp.array(x)\n",
    "data = np.abs(L(x))**2\n",
    "\n",
    "# plot\n",
    "fig, axs = plt.subplots(1, 2, figsize=(9, 3))\n",
    "im = axs[0].imshow(data[0].get(), cmap='gray')\n",
    "axs[0].set_title('data for the first distance')\n",
    "fig.colorbar(im, fraction=0.046, pad=0.04)\n",
    "im = axs[1].imshow(data[-1].get(), cmap='gray')\n",
    "axs[1].set_title('data for the last distance')\n",
    "fig.colorbar(im, fraction=0.046, pad=0.04)\n",
    "plt.show()\n"
   ]
  },
  {
   "cell_type": "markdown",
   "metadata": {
    "id": "f6bDwRfH7X_J"
   },
   "source": [
    "A method to find the initial guess"
   ]
  },
  {
   "cell_type": "code",
   "execution_count": null,
   "metadata": {
    "colab": {
     "base_uri": "https://localhost:8080/",
     "height": 314
    },
    "id": "fWc2nkwn7Vfv",
    "outputId": "c8ff32af-262b-4d5d-b106-78af9af4a65e"
   },
   "outputs": [],
   "source": [
    "def multiPaganin(data, distances, wavelength, voxelsize, delta_beta,  alpha):\n",
    "    \"\"\" Phase retrieval based on the MultiPaganin method\n",
    "\n",
    "    Parameters\n",
    "    ----------\n",
    "    data : ndarray, float32\n",
    "        Input data for several distances, shape (ntheta,ndist,n,n)\n",
    "    distance : ndarray\n",
    "        Distances in m, shape (ndist)\n",
    "    wavelength:\n",
    "        Wave length in m\n",
    "    voxelsize:\n",
    "        Voxel size in m\n",
    "    delta_beta:\n",
    "        Ratio between the real and imag components of the refractive index (u=delta+ibeta)\n",
    "    alpha:\n",
    "        Constant to avoid division by zero\n",
    "\n",
    "    Returns\n",
    "    -------\n",
    "    phase : ndarray\n",
    "        Recovered phase of the object, shape [ntheta,n,n]\n",
    "    \"\"\"\n",
    "    fx = cp.fft.fftfreq(data.shape[-1], d=voxelsize).astype('float64')\n",
    "    [fx, fy] = np.meshgrid(fx, fx)\n",
    "\n",
    "    numerator = 0\n",
    "    denominator = 0\n",
    "    for j in range(0, data.shape[0]):\n",
    "        rad_freq = np.fft.fft2(data[j])\n",
    "        taylorExp = 1 + wavelength * distances[j] * np.pi * (delta_beta) * (fx**2+fy**2)\n",
    "        numerator = numerator + taylorExp * (rad_freq)\n",
    "        denominator = denominator + taylorExp**2\n",
    "\n",
    "    numerator = numerator / len(distances)\n",
    "    denominator = (denominator / len(distances)) + alpha\n",
    "\n",
    "    phase = np.log(np.real(np.fft.ifft2(numerator / denominator)))\n",
    "    phase = (delta_beta) * 0.5 * phase\n",
    "\n",
    "    return np.exp(1j*np.pad(phase,((npad,npad),(npad,npad))))\n",
    "\n",
    "x_init = cp.array(multiPaganin(data, z, wavelength, voxelsize, delta/beta,  1e-7))\n",
    "# plot\n",
    "fig, axs = plt.subplots(1, 2, figsize=(9, 3))\n",
    "im = axs[0].imshow(np.abs(x_init).get(), cmap='gray')\n",
    "axs[0].set_title('abs')\n",
    "fig.colorbar(im, fraction=0.046, pad=0.04)\n",
    "im = axs[1].imshow(np.angle(x_init).get(), cmap='gray')\n",
    "axs[1].set_title('phase')\n",
    "fig.colorbar(im, fraction=0.046, pad=0.04)\n",
    "plt.show()\n"
   ]
  },
  {
   "cell_type": "code",
   "execution_count": null,
   "metadata": {
    "id": "ydu1hWLSSLxD"
   },
   "outputs": [],
   "source": []
  },
  {
   "cell_type": "code",
   "execution_count": null,
   "metadata": {
    "id": "5H6doZEVSWZz"
   },
   "outputs": [],
   "source": [
    "niter = 1024"
   ]
  },
  {
   "cell_type": "markdown",
   "metadata": {
    "id": "80LQYRSKvWSm"
   },
   "source": [
    "Make the conjugate gradient solver to solve $$\\text{argmin}_x \\||L(x)|-\\sqrt{d}\\|_2^2$$"
   ]
  },
  {
   "cell_type": "code",
   "execution_count": null,
   "metadata": {
    "colab": {
     "base_uri": "https://localhost:8080/"
    },
    "id": "baVgy1EnubxL",
    "outputId": "02a709c9-fc7f-4a36-dcbe-b966bd8d63bb"
   },
   "outputs": [],
   "source": [
    "def hessian2(Lx,Lgrad,Leta,data):\n",
    "    v1 = np.abs(Lx)-data\n",
    "    v2 = np.real(np.conj(Lgrad)*Leta)/np.abs(Lx)\n",
    "    v3 = np.real(np.conj(Lx)*Lgrad) * np.real(np.conj(Lx)*Leta) / np.abs(Lx)**3\n",
    "    return 2*(np.sum(v1 * np.conj(v2)) + np.sum(data*np.conj(v3)))\n",
    "\n",
    "def cg_holo(data, x, niter):\n",
    "    \"\"\"Conjugate gradients method for holography\"\"\"\n",
    "\n",
    "    # minimization functional\n",
    "    def minf(fx):\n",
    "        f = np.linalg.norm(np.abs(fx)-data)**2\n",
    "        return f\n",
    "\n",
    "    data = np.sqrt(data) # work with square root of data\n",
    "\n",
    "    err = np.zeros(niter) # error array\n",
    "    alpha = np.zeros(niter) # step array\n",
    "\n",
    "    Lx = L(x)\n",
    "    for i in range(niter):\n",
    "        # gradient\n",
    "        grad = 2*LT(Lx-data*np.exp(1j*np.angle(Lx)))\n",
    "        Lgrad = L(grad)\n",
    "\n",
    "        # cg direction\n",
    "        if i==0:\n",
    "            eta = -grad\n",
    "            Leta = -Lgrad\n",
    "        else:\n",
    "            beta = hessian2(Lx,Lgrad,Leta,data)/hessian2(Lx,Leta,Leta,data)\n",
    "            eta = -grad + beta*eta\n",
    "            Leta = -Lgrad + beta*Leta\n",
    "\n",
    "\n",
    "        # step length\n",
    "        alpha[i] =  -np.sum(np.real(grad*np.conj(eta)))/hessian2(Lx,Leta,Leta,data)\n",
    "        x += alpha[i]*eta\n",
    "        Lx += alpha[i]*Leta\n",
    "\n",
    "        # compute error\n",
    "        err[i] = minf(Lx)\n",
    "\n",
    "        print(f'{i}) {alpha[i]=:1.3e}, {err[i]=:1.3e}')\n",
    "\n",
    "    return x,err,alpha\n",
    "\n",
    "#x_rec = np.ones([ne,ne],dtype='complex64')\n",
    "x_rec = cp.array(x_init.copy())\n",
    "noise = (cp.random.random(x_init.shape)+1j*cp.random.random(x_init.shape))*0\n",
    "x_rec+=noise\n",
    "x_rec,err,alpha = cg_holo(data,x_rec,niter)"
   ]
  },
  {
   "cell_type": "markdown",
   "metadata": {
    "id": "mXY2fWl03nLK"
   },
   "source": [
    "Results"
   ]
  },
  {
   "cell_type": "code",
   "execution_count": null,
   "metadata": {
    "colab": {
     "base_uri": "https://localhost:8080/",
     "height": 630
    },
    "id": "ED1Jahxiz_58",
    "outputId": "b6dc5226-528b-4cb2-fe29-f21e8f19bc24"
   },
   "outputs": [],
   "source": [
    "# plot\n",
    "fig, axs = plt.subplots(1, 2, figsize=(9, 3))\n",
    "im = axs[0].imshow(np.abs(x_rec).get(), cmap='gray')\n",
    "axs[0].set_title('abs')\n",
    "fig.colorbar(im, fraction=0.046, pad=0.04)\n",
    "im = axs[1].imshow(np.angle(x_rec).get(), cmap='gray')\n",
    "axs[1].set_title('phase')\n",
    "fig.colorbar(im, fraction=0.046, pad=0.04)\n",
    "plt.show()\n",
    "\n",
    "fig, axs = plt.subplots(1, 2, figsize=(9, 3))\n",
    "im = axs[0].plot(err)\n",
    "axs[0].set_title('error')\n",
    "axs[0].set_xlabel('iter')\n",
    "axs[0].set_yscale('log')\n",
    "im = axs[1].plot(alpha)\n",
    "axs[1].set_title('alpha')\n",
    "axs[1].set_xlabel('iter')\n",
    "im = axs[1].plot(alpha)\n",
    "plt.show()\n",
    "\n"
   ]
  },
  {
   "cell_type": "code",
   "execution_count": null,
   "metadata": {
    "colab": {
     "base_uri": "https://localhost:8080/"
    },
    "id": "k7TQeyI9-mMq",
    "outputId": "cb586f2c-de12-4a5a-8010-b02ba0194d92"
   },
   "outputs": [],
   "source": [
    "def cg_holo(data, x, niter):\n",
    "    \"\"\"Conjugate gradients method for holography\"\"\"\n",
    "\n",
    "    # minimization functional\n",
    "    def minf(fx):\n",
    "        f = np.linalg.norm(np.abs(fx)-data)**2\n",
    "        return f\n",
    "\n",
    "    data = np.sqrt(data) # work with square root of data\n",
    "\n",
    "    err = np.zeros(niter) # error array\n",
    "    alpha = np.zeros(niter) # step array\n",
    "\n",
    "    Lx = L(x)\n",
    "    for i in range(niter):\n",
    "        # gradient\n",
    "        grad = 2*LT(Lx-data*np.exp(1j*np.angle(Lx)))\n",
    "        Lgrad = L(grad)\n",
    "\n",
    "        # cg direction\n",
    "        if i==0:\n",
    "            eta = -grad\n",
    "            Leta = -Lgrad\n",
    "        else:\n",
    "            beta = np.linalg.norm(grad)**2 / \\\n",
    "                    np.sum(np.real((np.conj(eta)*(grad-grad0))))\n",
    "            eta = -grad + beta*eta\n",
    "            Leta = -Lgrad + beta*Leta\n",
    "        grad0 = grad\n",
    "\n",
    "\n",
    "        # step length\n",
    "        alpha[i] =  -np.sum(np.real(grad*np.conj(eta)))/hessian2(Lx,Leta,Leta,data)\n",
    "        x += alpha[i]*eta\n",
    "        Lx += alpha[i]*Leta\n",
    "\n",
    "        # compute error\n",
    "        err[i] = minf(Lx)\n",
    "\n",
    "        print(f'{i}) {alpha[i]=:1.3e}, {err[i]=:1.3e}')\n",
    "\n",
    "    return x,err,alpha\n",
    "\n",
    "#x_rec = np.ones([ne,ne],dtype='complex64')\n",
    "x_rec = cp.array(x_init.copy())\n",
    "x_rec+=noise\n",
    "x_rec1,err1,alpha1 = cg_holo(data,x_rec,niter)"
   ]
  },
  {
   "cell_type": "code",
   "execution_count": null,
   "metadata": {
    "colab": {
     "base_uri": "https://localhost:8080/",
     "height": 630
    },
    "id": "cLl9U8vsTSmY",
    "outputId": "7d4026c3-6a69-4192-d8c8-9ef64519073e"
   },
   "outputs": [],
   "source": [
    "# plot\n",
    "NN = niter\n",
    "fig, axs = plt.subplots(1, 2, figsize=(9, 3))\n",
    "im = axs[0].imshow(np.abs(x_rec1).get(), cmap='gray')\n",
    "axs[0].set_title('abs')\n",
    "fig.colorbar(im, fraction=0.046, pad=0.04)\n",
    "im = axs[1].imshow(np.angle(x_rec1).get(), cmap='gray')\n",
    "axs[1].set_title('phase')\n",
    "fig.colorbar(im, fraction=0.046, pad=0.04)\n",
    "plt.show()\n",
    "\n",
    "fig, axs = plt.subplots(1, 2, figsize=(9, 3))\n",
    "im = axs[0].plot(err[:NN],label='5th')\n",
    "im = axs[0].plot(err1[:NN],label='Dai')\n",
    "axs[0].grid('on')\n",
    "axs[0].legend()\n",
    "axs[0].set_title('error')\n",
    "axs[0].set_xlabel('iter')\n",
    "axs[0].set_yscale('log')\n",
    "im = axs[1].plot(alpha[:NN],label='5th')\n",
    "im = axs[1].plot(alpha1[:NN],label='Dai')\n",
    "axs[1].grid('on')\n",
    "axs[1].legend()\n",
    "axs[1].set_title('alpha')\n",
    "axs[1].set_xlabel('iter')\n",
    "\n",
    "plt.show()\n",
    "\n"
   ]
  },
  {
   "cell_type": "code",
   "execution_count": null,
   "metadata": {
    "id": "PEw4t3Rxzybu"
   },
   "outputs": [],
   "source": []
  }
 ],
 "metadata": {
  "accelerator": "GPU",
  "colab": {
   "gpuType": "T4",
   "provenance": []
  },
  "kernelspec": {
   "display_name": "Python 3",
   "name": "python3"
  },
  "language_info": {
   "name": "python"
  }
 },
 "nbformat": 4,
 "nbformat_minor": 0
}
