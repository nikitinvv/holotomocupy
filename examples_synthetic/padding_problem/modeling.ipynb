{
 "cells": [
  {
   "cell_type": "code",
   "execution_count": null,
   "id": "fad77fab-e206-47c1-9655-088d14fe30cb",
   "metadata": {},
   "outputs": [],
   "source": [
    "import numpy as np\n",
    "import cupy as cp\n",
    "import h5py\n",
    "from holotomocupy.holo import G, GT\n",
    "from holotomocupy.shift import S, ST\n",
    "from holotomocupy.recon_methods import multiPaganin\n",
    "from holotomocupy.utils import *\n",
    "from holotomocupy.proc import remove_outliers\n",
    "import cv2\n",
    "import xraylib\n",
    "##!jupyter nbconvert --to script config_template.ipynb"
   ]
  },
  {
   "cell_type": "markdown",
   "id": "3c0fdd65-1cff-451e-865e-56cd8b7882a6",
   "metadata": {},
   "source": [
    "# Init data sizes and parametes of the PXM of ID16A"
   ]
  },
  {
   "cell_type": "code",
   "execution_count": null,
   "id": "59fa16f2-1f9c-4b3a-a330-e10942f12234",
   "metadata": {},
   "outputs": [],
   "source": [
    "n = 512  # object size in each dimension\n",
    "energy = 33.35  # [keV] xray energy\n",
    "wavelength = 1.2398419840550367e-09/energy  # [m] wave length\n",
    "focusToDetectorDistance = 1.28  # [m]\n",
    "ndist = 4\n",
    "distances = np.array([0.0029432,0.00306911,0.00357247,0.00461673])[:ndist] # [m]\n",
    "magnification = 400\n",
    "detector_pixelsize = 3.03751e-6\n",
    "voxelsize = detector_pixelsize/magnification*2048/n  # object voxel size\n",
    "\n",
    "ne = n+n//4\n",
    "pad=n//8\n",
    "show = True\n",
    "\n",
    "path = f'/data/vnikitin/modeling/siemens{n}'\n"
   ]
  },
  {
   "cell_type": "markdown",
   "id": "49eb1696-bb30-496e-8c3d-565f2791112c",
   "metadata": {},
   "source": [
    "## Modeling data"
   ]
  },
  {
   "cell_type": "code",
   "execution_count": null,
   "id": "c23a78d2",
   "metadata": {},
   "outputs": [],
   "source": [
    "img = np.zeros((ne, ne, 3), np.uint8)\n",
    "c=0.5\n",
    "triangle = np.array([(ne//16/c, ne//2-ne//32), (ne//16/c, ne//2+ne//32), (ne//2-ne//128, ne//2)], np.float32)\n",
    "star = img[:,:,0]*0\n",
    "for i in range(0, 360, 15):\n",
    "    img = np.zeros((ne, ne, 3), np.uint8)\n",
    "    degree = i\n",
    "    theta = degree * np.pi / 180\n",
    "    rot_mat = np.array([[np.cos(theta), -np.sin(theta)],\n",
    "                        [np.sin(theta), np.cos(theta)]], np.float32)    \n",
    "    rotated = cv2.gemm(triangle-ne//2, rot_mat, 1, None, 1, flags=cv2.GEMM_2_T)+ne//2\n",
    "    cv2.fillPoly(img, [np.int32(rotated)], (255, 0, 0))\n",
    "    star+=img[:,:,0]\n",
    "[x,y] = np.meshgrid(np.arange(-ne//2,ne//2),np.arange(-ne//2,ne//2))\n",
    "x = x/ne*2\n",
    "y = y/ne*2\n",
    "# add holes in triangles\n",
    "circ = (x**2+y**2>0.145)+(x**2+y**2<0.135)\n",
    "circ *= (x**2+y**2>0.053)+(x**2+y**2<0.05)\n",
    "circ *= (x**2+y**2>0.0085)+(x**2+y**2<0.008)\n",
    "circ *= (x**2+y**2>0.52)+(x**2+y**2<0.5)\n",
    "\n",
    "star = star*circ/255\n",
    "\n",
    "# star[ne//2-n//2:ne//2+n//2,ne//2-n//2:ne//2+n//2]=0\n",
    "\n",
    "v = np.arange(-ne//2,ne//2)/ne\n",
    "[vx,vy] = np.meshgrid(v,v)\n",
    "v = np.exp(-5*(vx**2+vy**2))\n",
    "fu = np.fft.fftshift(np.fft.fftn(np.fft.fftshift(star)))\n",
    "star = np.fft.fftshift(np.fft.ifftn(np.fft.fftshift(fu*v))).real\n",
    "\n",
    "delta = 1-xraylib.Refractive_Index_Re('Au',energy,19.3)\n",
    "beta = xraylib.Refractive_Index_Im('Au',energy,19.3)\n",
    "\n",
    "thickness = 2e-6/voxelsize # siemens star thickness in pixels\n",
    "# form Transmittance function\n",
    "u = star*(-delta+1j*beta) # note -delta\n",
    "Ru = u*thickness \n",
    "psi = np.exp(1j * Ru * voxelsize * 2 * np.pi / wavelength)[np.newaxis].astype('complex64')\n",
    "fig, axs = plt.subplots(1, 2, figsize=(9, 4))\n",
    "im=axs[0].imshow(np.abs(psi[0]),cmap='gray')\n",
    "axs[0].set_title('amplitude')\n",
    "fig.colorbar(im)\n",
    "im=axs[1].imshow(np.angle(psi[0]),cmap='gray')\n",
    "axs[1].set_title('phase')\n",
    "fig.colorbar(im)\n",
    "\n",
    "mshow_polar(psi[0,ne//2-n//2:ne//2+n//2,ne//2-n//2:ne//2+n//2],show)\n",
    "\n",
    "from scipy.io import savemat\n",
    "savemat('data.mat',{'psi': psi[0,ne//2-n//2:ne//2+n//2,ne//2-n//2:ne//2+n//2]})"
   ]
  },
  {
   "cell_type": "code",
   "execution_count": null,
   "id": "a5c7299c",
   "metadata": {},
   "outputs": [],
   "source": [
    "psi=cp.array(psi)\n",
    "v = cp.ones(ne,dtype='float32')\n",
    "fs = n//16\n",
    "\n",
    "v[:fs] = cp.sin(cp.linspace(0,1,fs)*cp.pi/2)\n",
    "v[-fs:] = cp.cos(cp.linspace(0,1,fs)*cp.pi/2)\n",
    "v = cp.outer(v,v)\n",
    "mshow(v,show)\n",
    "mshow_polar(v*psi[0],show)\n"
   ]
  },
  {
   "cell_type": "markdown",
   "id": "daee2463",
   "metadata": {},
   "source": [
    "# Construct operators\n"
   ]
  },
  {
   "cell_type": "code",
   "execution_count": null,
   "id": "adf88f3b",
   "metadata": {},
   "outputs": [],
   "source": [
    "def Lop(psi):\n",
    "    data = cp.zeros([1,ndist, ne, ne], dtype='complex64')\n",
    "    for i in range(ndist):\n",
    "        psir = cp.array(psi).copy()            \n",
    "           \n",
    "        # v = cp.ones(ne,dtype='float32')\n",
    "        # v[:fs] = cp.sin(cp.linspace(0,1,fs)*cp.pi/2)\n",
    "        # v[-fs:] = cp.cos(cp.linspace(0,1,fs)*cp.pi/2)\n",
    "        # v = cp.outer(v,v)\n",
    "        # psir *= v\n",
    "\n",
    "        psir = G(psir, wavelength, voxelsize, distances[i],'symmetric')        \n",
    "\n",
    "        data[:, i] = psir\n",
    "    return data\n",
    "\n",
    "def LTop(data):\n",
    "    psi = cp.zeros([1, ne, ne], dtype='complex64')\n",
    "    for j in range(ndist):\n",
    "        datar = data[:, j].copy()\n",
    "        datar = GT(datar, wavelength, voxelsize, distances[j],'symmetric')        \n",
    "\n",
    "        # v = cp.ones(ne,dtype='float32')\n",
    "        # v[:fs] = cp.sin(cp.linspace(0,1,fs)*cp.pi/2)\n",
    "        # v[-fs:] = cp.cos(cp.linspace(0,1,fs)*cp.pi/2)\n",
    "        # v = cp.outer(v,v)\n",
    "        # datar *= v\n",
    "        psi += datar\n",
    "    return psi\n",
    "\n",
    "\n",
    "\n",
    "def Cfop(e):\n",
    "    res = e.copy()\n",
    "    res[:,:,pad:ne-pad,pad:ne-pad] = 0\n",
    "    return res\n",
    "\n",
    "def CfTop(e):\n",
    "    res = e.copy()\n",
    "    res[:,:,pad:ne-pad,pad:ne-pad] = 0\n",
    "    return res\n",
    "\n",
    "def Cdop(psi):\n",
    "    return psi[:,:,pad:-pad,pad:-pad]\n",
    "\n",
    "def CdTop(psi):\n",
    "    return cp.pad(psi,((0,0),(0,0),(pad,pad),(pad,pad)))\n",
    "\n",
    "\n"
   ]
  },
  {
   "cell_type": "code",
   "execution_count": null,
   "id": "96ea3e1d",
   "metadata": {},
   "outputs": [],
   "source": [
    "psi = cp.array(psi)\n",
    "data = np.abs(Cdop(Lop(psi)))**2\n",
    "ref = np.abs(Lop((psi*0+1)))**2\n",
    "\n",
    "for k in range(ndist):\n",
    "    mshow_complex(data[0,k]+1j*(data[0,k]-data[0,0]),show)\n",
    "\n"
   ]
  },
  {
   "cell_type": "code",
   "execution_count": null,
   "id": "adff7b92",
   "metadata": {},
   "outputs": [],
   "source": [
    "import os \n",
    "os.system(f\"mkdir -p {path}\")\n",
    "# np.save(f'{path}/data',data.get())\n",
    "# np.save(f'{path}/psi',psi.get())\n"
   ]
  }
 ],
 "metadata": {
  "kernelspec": {
   "display_name": "holotomocupy",
   "language": "python",
   "name": "python3"
  },
  "language_info": {
   "codemirror_mode": {
    "name": "ipython",
    "version": 3
   },
   "file_extension": ".py",
   "mimetype": "text/x-python",
   "name": "python",
   "nbconvert_exporter": "python",
   "pygments_lexer": "ipython3",
   "version": "3.12.4"
  }
 },
 "nbformat": 4,
 "nbformat_minor": 5
}
