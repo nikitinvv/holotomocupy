{
 "cells": [
  {
   "cell_type": "code",
   "execution_count": null,
   "id": "fad77fab-e206-47c1-9655-088d14fe30cb",
   "metadata": {},
   "outputs": [],
   "source": [
    "import numpy as np\n",
    "import cupy as cp\n",
    "import h5py\n",
    "from holotomocupy.holo import G, GT\n",
    "from holotomocupy.shift import S, ST\n",
    "from holotomocupy.recon_methods import multiPaganin\n",
    "from holotomocupy.utils import *\n",
    "from holotomocupy.proc import remove_outliers\n",
    "##!jupyter nbconvert --to script config_template.ipynb"
   ]
  },
  {
   "cell_type": "markdown",
   "id": "3c0fdd65-1cff-451e-865e-56cd8b7882a6",
   "metadata": {},
   "source": [
    "# Init data sizes and parametes of the PXM of ID16A"
   ]
  },
  {
   "cell_type": "code",
   "execution_count": null,
   "id": "59fa16f2-1f9c-4b3a-a330-e10942f12234",
   "metadata": {},
   "outputs": [],
   "source": [
    "n = 512  # detector size\n",
    "ne = n+n//4\n",
    "energy = 33.35  # [keV] xray energy\n",
    "wavelength = 1.2398419840550367e-09/energy  # [m] wave length\n",
    "focusToDetectorDistance = 1.28  # [m]\n",
    "ndist = 16\n",
    "#distances = np.array([0.0029432,0.00306911,0.00357247,0.00461673])[:ndist] # [m]\n",
    "distances = np.linspace(3e-3,5e-3,ndist)\n",
    "\n",
    "\n",
    "magnification = 400\n",
    "detector_pixelsize = 3.03751e-6\n",
    "voxelsize = detector_pixelsize/magnification*2048/n  # object voxel size\n",
    "\n",
    "distances2 = distances[-1]-distances\n",
    "path = f'/data/vnikitin/modeling/siemens{n}'\n",
    "show=True\n",
    "print(distances+distances2)"
   ]
  },
  {
   "cell_type": "markdown",
   "id": "49eb1696-bb30-496e-8c3d-565f2791112c",
   "metadata": {},
   "source": [
    "## Read data"
   ]
  },
  {
   "cell_type": "code",
   "execution_count": null,
   "id": "c23a78d2",
   "metadata": {},
   "outputs": [],
   "source": [
    "data = cp.load(f'{path}/data.npy')\n",
    "ref = cp.load(f'{path}/ref.npy')\n",
    "psi = cp.load(f'{path}/psi.npy')\n",
    "prb = cp.load(f'{path}/prb.npy')\n",
    "rdata = data/(ref+1e-3)\n",
    "mshow(rdata[0,0],show,vmax=3)"
   ]
  },
  {
   "cell_type": "markdown",
   "id": "daee2463",
   "metadata": {},
   "source": [
    "# Construct operators\n"
   ]
  },
  {
   "cell_type": "code",
   "execution_count": null,
   "id": "adf88f3b",
   "metadata": {},
   "outputs": [],
   "source": [
    "def L1op(psi):\n",
    "    data = cp.zeros([1,ndist, ne, ne], dtype='complex64')\n",
    "    for i in range(ndist):\n",
    "        psir = cp.array(psi)           \n",
    "        psir = G(psir, wavelength, voxelsize, distances2[i],'symmetric')        \n",
    "        data[:, i] = psir#[:,ne//2-n//2:ne//2+n//2,ne//2-n//2:ne//2+n//2]\n",
    "    return data\n",
    "\n",
    "def L1Top(data):\n",
    "    psi = cp.zeros([1, ne, ne], dtype='complex64')\n",
    "    for j in range(ndist):\n",
    "        datar = cp.array(data[:, j])\n",
    "        datar = GT(datar, wavelength, voxelsize, distances2[j],'symmetric')        \n",
    "        psi += datar\n",
    "    return psi\n",
    "\n",
    "def Lop(psi):\n",
    "    data = cp.zeros([1,ndist, n, n], dtype='complex64')\n",
    "    for i in range(ndist):\n",
    "        psir = psi[:,i].copy()\n",
    "        v = cp.ones(ne,dtype='float32')\n",
    "        v[:(ne-n)//2] = cp.sin(cp.linspace(0,1,(ne-n)//2)*cp.pi/2)\n",
    "        v[-(ne-n)//2:] = cp.cos(cp.linspace(0,1,(ne-n)//2)*cp.pi/2)\n",
    "        v = cp.outer(v,v)\n",
    "        psir*=v\n",
    "        psir = G(psir, wavelength, voxelsize, distances[i],'constant')        \n",
    "        data[:, i] = psir[:,ne//2-n//2:ne//2+n//2,ne//2-n//2:ne//2+n//2]\n",
    "    return data\n",
    "\n",
    "def LTop(data):\n",
    "    psi = cp.zeros([1, ndist, ne, ne], dtype='complex64')\n",
    "    for j in range(ndist):\n",
    "        datar = cp.array(cp.pad(data[:, j],((0,0),(ne//2-n//2,ne//2-n//2),(ne//2-n//2,ne//2-n//2)))).astype('complex64')        \n",
    "        datar = GT(datar, wavelength, voxelsize, distances[j],'constant')        \n",
    "\n",
    "        v = cp.ones(ne,dtype='float32')\n",
    "        v[:(ne-n)//2] = cp.sin(cp.linspace(0,1,(ne-n)//2)*cp.pi/2)\n",
    "        v[-(ne-n)//2:] = cp.cos(cp.linspace(0,1,(ne-n)//2)*cp.pi/2)\n",
    "        v = cp.outer(v,v)        \n",
    "        datar *= v\n",
    "\n",
    "        psi[:,j] += datar\n",
    "    \n",
    "    return psi\n",
    "\n",
    "def Cop(psi):\n",
    "    return psi[:,ne//2-n//2:ne//2+n//2,ne//2-n//2:ne//2+n//2]\n",
    "\n",
    "def CTop(psi):\n",
    "    return cp.pad(psi,((0,0),(ne//2-n//2,ne//2-n//2),(ne//2-n//2,ne//2-n//2)))\n",
    "\n",
    "# adjoint tests\n",
    "arr1 = (cp.random.random([1,ne,ne])+1j*cp.random.random([1,ne,ne])).astype('complex64')\n",
    "arr2 = L1op(arr1)\n",
    "arr3 = L1Top(arr2)\n",
    "print(f'{np.sum(arr1*np.conj(arr3))}==\\n{np.sum(arr2*np.conj(arr2))}')\n",
    "\n",
    "arr1 = (cp.random.random([1,ndist,ne,ne])+1j*cp.random.random([1,ndist,ne,ne])).astype('complex64')\n",
    "arr2 = Lop(arr1)\n",
    "arr3 = LTop(arr2)\n",
    "\n",
    "\n",
    "print(f'{np.sum(arr1*np.conj(arr3))}==\\n{np.sum(arr2*np.conj(arr2))}')\n"
   ]
  },
  {
   "cell_type": "markdown",
   "id": "1fe0cb15",
   "metadata": {},
   "source": [
    "## Reconstruction with \n",
    "### $$F(\\psi) = \\||L((C^*(\\psi)+\\psi_{fr}))| -d\\|^2_2$$\n"
   ]
  },
  {
   "cell_type": "markdown",
   "id": "691261ac",
   "metadata": {},
   "source": [
    "## Gradients"
   ]
  },
  {
   "cell_type": "markdown",
   "id": "bd7163cd",
   "metadata": {},
   "source": [
    "#### $$\\nabla F=2 \\left(L^*\\left( L(\\psi)-\\tilde d\\right)\\right).$$\n",
    "#### where $$\\tilde d = d \\frac{L(\\psi_0)}{|L(\\psi_0)|}$$\n",
    "\n",
    "#### $$\\nabla G_{\\psi} = C(\\overline{L_1(q)}\\nabla F|_M(\\psi_0,q_0)) $$\n",
    "#### $$\\nabla G_{q} = L_1^T(\\overline{(C^T(\\psi)+\\psi_{fr})}\\nabla F|_M(\\psi_0,q_0))) $$\n"
   ]
  },
  {
   "cell_type": "code",
   "execution_count": null,
   "id": "eba2083c",
   "metadata": {},
   "outputs": [],
   "source": [
    "def gradientF(vars,d):\n",
    "    (psi,psifr,q) = (vars['psi'],vars['psifr'],vars['prb'])\n",
    "    Lq = L1op(q)\n",
    "    psie = CTop(psi)+psifr\n",
    "    Lpsi = Lop(Lq*psie)\n",
    "    td = d*(Lpsi/np.abs(Lpsi))\n",
    "    res = 2*LTop(Lpsi - td)\n",
    "    return res\n",
    "\n",
    "def gradientq(psi,psifr,gradF):\n",
    "    psie = CTop(psi)+psifr\n",
    "    t1 = np.conj(psie)*gradF\n",
    "    return np.sum(L1Top(t1),axis=0)[np.newaxis]\n",
    "\n",
    "def gradientpsi(q,gradF):\n",
    "    Lq = L1op(q)    \n",
    "    t1 = Cop(np.sum(np.conj(Lq)*gradF,axis=1))\n",
    "    return t1\n",
    "\n",
    "def gradients(vars,gradF):    \n",
    "    (psi,psifr,q,rho) = (vars['psi'],vars['psifr'],vars['prb'],vars['rho'])\n",
    "    grads = {}\n",
    "    grads['psi'] = rho[0]*gradientpsi(q,gradF)    \n",
    "    grads['prb'] = rho[1]*gradientq(psi,psifr,gradF)\n",
    "    \n",
    "    return grads"
   ]
  },
  {
   "cell_type": "markdown",
   "id": "3b092076",
   "metadata": {},
   "source": [
    "##### $$\\frac{1}{2}\\mathcal{H}|_{\\psi_0}(\\Delta\\psi^{(1)},\\Delta\\psi^{(2)})= \\left\\langle \\mathbf{1}-d_{0}, \\mathsf{Re}({L(\\Delta\\psi^{(1)})}\\overline{L(\\Delta\\psi^{(2)})})\\right\\rangle+\\left\\langle d_{0},(\\mathsf{Re} (\\overline{l_0}\\cdot L(\\Delta\\psi^{(1)})))\\cdot (\\mathsf{Re} (\\overline{l_0}\\cdot L(\\Delta\\psi^{(2)}))) \\right\\rangle $$\n",
    "##### \n",
    "##### $$l_0=L(\\psi_0)/|L(\\psi_0)|$$\n",
    "##### $$d_0=d/|L(\\psi_0)|$$\n"
   ]
  },
  {
   "cell_type": "markdown",
   "id": "a3a0834b",
   "metadata": {},
   "source": [
    "##### $$DM|_{\\psi_0,q_0}(\\Delta\\psi,\\Delta q) = L_1(q_0)\\cdot C^T(\\Delta\\psi)+L_1(\\Delta q)\\cdot (C^T(\\psi_0)+\\psi_{fr})$$\n",
    "\n",
    "##### $$D^2M|_{\\psi_0,q_0}(\\Delta\\psi^{(1)},\\Delta q^{(1)},\\Delta\\psi^{(2)},\\Delta q^{(2)}) = L_1(\\Delta q^{(1)})\\cdot C^T(\\Delta \\psi^{(2)})+L_1(\\Delta q^{(2)})\\cdot C^T(\\Delta \\psi^{(1)})$$"
   ]
  },
  {
   "cell_type": "markdown",
   "id": "91ce7a43",
   "metadata": {},
   "source": [
    "\\begin{equation}\\begin{aligned}\n",
    "H^G|_{\\psi_0,q_0}(\\Delta  \\psi^{(1)},\\Delta q^{(1)},\\Delta \\psi^{(2)},\\Delta q^{(2)})=&\\Big\\langle \\nabla F|_{M({\\psi_0,q_0})}, D^2M|_{{\\psi_0,q_0}}(\\Delta\\psi^{(1)},\\Delta q^{(1)},\\Delta\\psi^{(2)},\\Delta q^{(2)})\\Big\\rangle +\\\\&H^F|_{M({\\psi_0,q_0})}\\Big(DM|_{x_0}(\\Delta \\psi^{(1)},\\Delta q^{(1)}),DM|_{\\psi_0,q_0}(\\Delta \\psi^{(2)},\\Delta q^{(2)})\\Big).\n",
    "\\end{aligned}\n",
    "\\end{equation}"
   ]
  },
  {
   "cell_type": "code",
   "execution_count": null,
   "id": "28d6df09",
   "metadata": {},
   "outputs": [],
   "source": [
    "def hessianF(psi,dpsi1,dpsi2,data):\n",
    "    Lpsi = Lop(psi)\n",
    "    Lpsi1 = Lop(dpsi1)\n",
    "    Lpsi2 = Lop(dpsi2)\n",
    "    l0 = Lpsi/np.abs(Lpsi)\n",
    "    d0 = data/np.abs(Lpsi)\n",
    "    v1 = np.sum((1-d0)*reprod(Lpsi1,Lpsi2))\n",
    "    v2 = np.sum(d0*reprod(l0,Lpsi1)*reprod(l0,Lpsi2))                \n",
    "    return 2*(v1+v2)\n",
    "\n",
    "def DM(psi,q,psifr,dpsi,dq):\n",
    "    Lq = L1op(q)\n",
    "    Ldq = L1op(dq)\n",
    "    return Lq*CTop(dpsi)+Ldq*(CTop(psi)+psifr)\n",
    "\n",
    "def D2M(dpsi1,dpsi2,dq1,dq2):\n",
    "    Ldq1 = L1op(dq1)\n",
    "    Ldq2 = L1op(dq2)\n",
    "    return Ldq1*CTop(dpsi2)+Ldq2*CTop(dpsi1)"
   ]
  },
  {
   "cell_type": "code",
   "execution_count": null,
   "id": "a3990a45",
   "metadata": {},
   "outputs": [],
   "source": [
    "def calc_beta(vars,grads,etas,d,gradF):\n",
    "    (psi,psifr,q,rho) = (vars['psi'],vars['psifr'],vars['prb'],vars['rho'])\n",
    "    (dpsi1,dq1) = (rho[0]*grads['psi'],rho[1]*grads['prb']) \n",
    "    (dpsi2,dq2) = (rho[0]*etas['psi'],rho[1]*etas['prb'])   \n",
    "    \n",
    "    dm1 = DM(psi,q,psifr,dpsi1,dq1)\n",
    "    dm2 = DM(psi,q,psifr,dpsi2,dq2)\n",
    "\n",
    "    d2m1 = D2M(dpsi1,dpsi2,dq1,dq2)\n",
    "    d2m2 = D2M(dpsi2,dpsi2,dq2,dq2)\n",
    "\n",
    "    Lpsi = L1op(q)*(CTop(psi)+psifr)\n",
    "    \n",
    "    top = redot(gradF,d2m1)+hessianF(Lpsi, dm1, dm2, d)    \n",
    "    bottom = redot(gradF,d2m2)+hessianF(Lpsi, dm2, dm2, d)    \n",
    "    \n",
    "    return top/bottom\n",
    "\n",
    "def calc_alpha(vars,grads,etas,d,gradF):    \n",
    "    (psi,psifr,q, rho) = (vars['psi'],vars['psifr'],vars['prb'],vars['rho'])\n",
    "    (dpsi1,dq1) = (grads['psi'],grads['prb']) \n",
    "    (dpsi2,dq2) = (etas['psi'],etas['prb'])       \n",
    "    top = -redot(dpsi1,dpsi2)-redot(dq1,dq2)    \n",
    "    \n",
    "    (dpsi2,dq2) = (rho[0]*etas['psi'],rho[1]*etas['prb'])       \n",
    "    dm2 = DM(psi,q,psifr,dpsi2,dq2)\n",
    "    Lpsi = L1op(q)*(CTop(psi)+psifr)\n",
    "    d2m2 = D2M(dpsi2,dpsi2,dq2,dq2)\n",
    "    \n",
    "    bottom = redot(gradF,d2m2)+hessianF(Lpsi, dm2, dm2, d)    \n",
    "    return top/bottom, top, bottom"
   ]
  },
  {
   "cell_type": "markdown",
   "id": "d0c60557",
   "metadata": {},
   "source": [
    "### Initial guess for reconstruction (Paganin)"
   ]
  },
  {
   "cell_type": "code",
   "execution_count": null,
   "id": "cb50e362",
   "metadata": {},
   "outputs": [],
   "source": [
    "def rec_init(rdata):\n",
    "    recMultiPaganin = cp.zeros([1,ndist,n,n],dtype='float32')\n",
    "    for j in range(0,ndist):\n",
    "        rdatar = cp.array(rdata[:,j:j+1])\n",
    "        r = multiPaganin(rdatar,\n",
    "                            distances[j:j+1], wavelength, voxelsize,  24.05, 1e-6)    \n",
    "        recMultiPaganin[:,j] = r\n",
    "        \n",
    "    recMultiPaganin = np.sum(recMultiPaganin,axis=1)/ndist    \n",
    "    recMultiPaganin = np.exp(1j*recMultiPaganin)\n",
    "\n",
    "    return recMultiPaganin\n",
    "\n",
    "rec_paganin = rec_init(rdata)\n",
    "rec_paganin = np.pad(rec_paganin,((0,0),(ne//2-n//2,ne//2-n//2),(ne//2-n//2,ne//2-n//2)),'constant',constant_values=1)\n",
    "mshow_polar(rec_paganin[0],show)\n",
    "mshow_polar(rec_paganin[0,ne//2-128:ne//2+128,ne//2-128:ne//2+128],show)"
   ]
  },
  {
   "cell_type": "markdown",
   "id": "d4006eb6",
   "metadata": {},
   "source": [
    "## debug functions"
   ]
  },
  {
   "cell_type": "code",
   "execution_count": null,
   "id": "b79db8a3",
   "metadata": {},
   "outputs": [],
   "source": [
    "def plot_debug2(vars,etas,top,bottom,alpha,data):\n",
    "    if show==False:\n",
    "        return\n",
    "    (psi,psifr,q,rho) = (vars['psi'],vars['psifr'],vars['prb'],vars['rho'])\n",
    "    (dpsi2,dq2) = (etas['psi'],etas['prb'])   \n",
    "    npp = 7\n",
    "    errt = cp.zeros(npp*2)\n",
    "    errt2 = cp.zeros(npp*2)\n",
    "    for k in range(0,npp*2):\n",
    "        psit = psi+(alpha*k/(npp-1))*rho[0]*dpsi2\n",
    "        qt = q+(alpha*k/(npp-1))*rho[1]*dq2        \n",
    "        fpsit = np.abs(Lop(L1op(qt)*(CTop(psit)+psifr)))-data\n",
    "        errt[k] = np.linalg.norm(fpsit)**2\n",
    "        \n",
    "    t = alpha*(cp.arange(2*npp))/(npp-1)\n",
    "    tmp = np.abs(Lop(L1op(q)*(CTop(psi)+psifr)))-(data)\n",
    "    errt2 = np.linalg.norm(tmp)**2-top*t+0.5*bottom*t**2\n",
    "    \n",
    "    plt.plot(alpha.get()*cp.arange(2*npp).get()/(npp-1),errt.get(),'.')\n",
    "    plt.plot(alpha.get()*cp.arange(2*npp).get()/(npp-1),errt2.get(),'.')\n",
    "    plt.show()\n",
    "\n",
    "\n",
    "def vis_debug(vars,data,i):\n",
    "    psie = CTop(vars['psi'])+vars['psifr']\n",
    "    q = vars['prb']\n",
    "    mshow_polar(psie[0],show)    \n",
    "    mshow_polar(q[0],show)    \n",
    "    mshow_polar(psie[0,ne//2-n//4:ne//2+n//4,ne//2+n//4:ne//2+n//2+n//4],show)    \n",
    "    \n",
    "def err_debug(vars, grads, data):    \n",
    "    (psi,psifr,q) = (vars['psi'],vars['psifr'],vars['prb'])\n",
    "    tmp = np.abs(Lop(L1op(q)*(CTop(psi)+psifr)))-(data)\n",
    "    err = np.linalg.norm(tmp)**2\n",
    "    return err"
   ]
  },
  {
   "cell_type": "markdown",
   "id": "9b6e3f71",
   "metadata": {},
   "source": [
    "# Main CG loop (fifth rule)"
   ]
  },
  {
   "cell_type": "code",
   "execution_count": null,
   "id": "901f10e1",
   "metadata": {},
   "outputs": [],
   "source": [
    "def cg_holo(data, vars, pars):\n",
    "\n",
    "    data = np.sqrt(data)    \n",
    "    erra = cp.zeros(pars['niter'])\n",
    "    alphaa = cp.zeros(pars['niter'])    \n",
    "    grads ={}\n",
    "    for i in range(pars['niter']):          \n",
    "        if i % pars['vis_step'] == 0 and pars['vis_step'] != -1:\n",
    "            vis_debug(vars, data, i) \n",
    "        gradF = gradientF(vars,data)     \n",
    "        grads = gradients(vars,gradF)\n",
    "        if i==0:\n",
    "            etas = {}\n",
    "            etas['psi'] = -grads['psi']\n",
    "            etas['prb'] = -grads['prb']            \n",
    "        else:      \n",
    "            beta = calc_beta(vars, grads, etas, data, gradF)\n",
    "            etas['psi'] = -grads['psi'] + beta*etas['psi']\n",
    "            etas['prb'] = -grads['prb'] + beta*etas['prb']\n",
    "        alpha,top,bottom = calc_alpha(vars, grads, etas, data, gradF) \n",
    "\n",
    "        if i % pars['vis_step'] == 0 and pars['err_step'] != -1:\n",
    "            plot_debug2(vars,etas,top,bottom,alpha,data)\n",
    "\n",
    "        vars['psi'] += alpha*vars['rho'][0]*etas['psi']\n",
    "        vars['prb'] += alpha*vars['rho'][1]*etas['prb']\n",
    "        \n",
    "        if i % pars['err_step'] == 0 and pars['err_step'] != -1:\n",
    "            err = err_debug(vars, grads, data)    \n",
    "            print(f'{i}) {alpha=:.5f}, {vars['rho']=}, {err=:1.5e}',flush=True)\n",
    "            erra[i] = err\n",
    "            alphaa[i] = alpha\n",
    "        t={}\n",
    "        t[0]=np.linalg.norm(grads['psi'])\n",
    "        t[1]=np.linalg.norm(grads['prb'])\n",
    "        #print(t)\n",
    "        for k in range(1,2):\n",
    "            if t[k]>2*t[0]:\n",
    "                vars['rho'][k]/=2\n",
    "            elif t[k]<t[0]/2:\n",
    "                vars['rho'][k]*=2                \n",
    "    return vars,erra,alphaa\n",
    "\n",
    "vars = {}\n",
    "vars['psi'] = cp.array(rec_paganin)[:,(ne-n)//2:(ne+n)//2,(ne-n)//2:(ne+n)//2]\n",
    "vars['prb'] = cp.ones([1,ne,ne],dtype='complex64')\n",
    "vars['psifr'] = cp.ones([1,ne,ne],dtype='complex64')\n",
    "vars['psifr'][:,(ne-n)//2:(ne+n)//2,(ne-n)//2:(ne+n)//2] = 0\n",
    "vars['rho'] = [1,1]\n",
    "data_rec = cp.array(data)\n",
    "\n",
    "\n",
    "pars = {'niter': 4097, 'err_step':128, 'vis_step': 128}\n",
    "vars,erra,alphaa = cg_holo(data_rec, vars, pars)    "
   ]
  },
  {
   "cell_type": "code",
   "execution_count": null,
   "id": "1327f986",
   "metadata": {},
   "outputs": [],
   "source": [
    "psie = CTop(vars['psi'])+vars['psifr']\n",
    "q = vars['prb']\n",
    "mshow_polar(psie[0],show)    \n",
    "mshow_polar(q[0],show)    \n",
    "mshow_polar(psie[0,ne//2-n//4:ne//2+n//4,ne//2+n//4:ne//2+n//2+n//4],show,vmax=1,vmin=-1)    \n",
    "    "
   ]
  }
 ],
 "metadata": {
  "kernelspec": {
   "display_name": "holotomocupy",
   "language": "python",
   "name": "python3"
  },
  "language_info": {
   "codemirror_mode": {
    "name": "ipython",
    "version": 3
   },
   "file_extension": ".py",
   "mimetype": "text/x-python",
   "name": "python",
   "nbconvert_exporter": "python",
   "pygments_lexer": "ipython3",
   "version": "3.12.4"
  }
 },
 "nbformat": 4,
 "nbformat_minor": 5
}
