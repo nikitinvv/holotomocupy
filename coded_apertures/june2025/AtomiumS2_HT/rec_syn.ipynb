{
 "cells": [
  {
   "cell_type": "code",
   "execution_count": null,
   "id": "fad77fab-e206-47c1-9655-088d14fe30cb",
   "metadata": {},
   "outputs": [],
   "source": [
    "import numpy as np\n",
    "import cupy as cp\n",
    "import sys\n",
    "import pandas as pd\n",
    "import time\n",
    "import matplotlib.pyplot as plt\n",
    "import h5py\n",
    "from types import SimpleNamespace\n",
    "import warnings\n",
    "warnings.filterwarnings(\"ignore\", message=f\".*peer.*\")\n",
    "\n",
    "sys.path.insert(0, '..')\n",
    "from utils import *\n",
    "from rec import Rec"
   ]
  },
  {
   "cell_type": "markdown",
   "id": "3c0fdd65-1cff-451e-865e-56cd8b7882a6",
   "metadata": {},
   "source": [
    "# Init data sizes and parametes of the PXM of ID16A"
   ]
  },
  {
   "cell_type": "code",
   "execution_count": null,
   "id": "d92d1fe9",
   "metadata": {},
   "outputs": [],
   "source": []
  },
  {
   "cell_type": "code",
   "execution_count": null,
   "id": "59fa16f2-1f9c-4b3a-a330-e10942f12234",
   "metadata": {},
   "outputs": [],
   "source": [
    "n = 256  # object size in each dimension\n",
    "ntheta = 180  # number of angles (rotations)\n",
    "\n",
    "theta = np.linspace(0, np.pi, ntheta).astype('float32')  # projection angles\n",
    "\n",
    "# ID16a setup\n",
    "ndist = 4\n",
    "\n",
    "detector_pixelsize = 3e-6\n",
    "energy = 17.35  # [keV] xray energy\n",
    "wavelength = 1.2398419840550367e-09/energy  # [m] wave length\n",
    "\n",
    "focusToDetectorDistance = 1.208  # [m]\n",
    "sx0 = -2.493e-3\n",
    "z1 = np.array([1.5335e-3, 1.7065e-3, 2.3975e-3, 3.8320e-3])[:ndist]-sx0\n",
    "z2 = focusToDetectorDistance-z1\n",
    "distances = (z1*z2)/focusToDetectorDistance\n",
    "magnifications = focusToDetectorDistance/z1\n",
    "voxelsize = detector_pixelsize/magnifications[0]*2048/n  # object voxel size\n",
    "\n",
    "norm_magnifications = magnifications/magnifications[0]\n",
    "# scaled propagation distances due to magnified probes\n",
    "distances = distances*norm_magnifications**2\n",
    "\n",
    "# z1p = z1[0]  # positions of the probe for reconstruction\n",
    "# z2p = z1-np.tile(z1p, len(z1))\n",
    "# # magnification when propagating from the probe plane to the detector\n",
    "# magnifications2 = (z1p+z2p)/z1p\n",
    "# # propagation distances after switching from the point source wave to plane wave,\n",
    "# distances2 = (z1p*z2p)/(z1p+z2p)\n",
    "# norm_magnifications2 = magnifications2/(z1p/z1[0])  # normalized magnifications\n",
    "# # scaled propagation distances due to magnified probes\n",
    "# distances2 = distances2*norm_magnifications2**2\n",
    "# distances2 = distances2*(z1p/z1)**2\n",
    "\n",
    "# allow padding if there are shifts of the probe\n",
    "pad = 0\n",
    "show=True\n",
    "# sample size after demagnification\n",
    "npsi = int(np.ceil((n+2*pad)/norm_magnifications[-1]/8))*8  # make multiple of 8\n",
    "print(distances)"
   ]
  },
  {
   "cell_type": "code",
   "execution_count": null,
   "id": "cfa67fb9",
   "metadata": {},
   "outputs": [],
   "source": [
    "args = SimpleNamespace()\n",
    "args.npos = 1\n",
    "args.ngpus = 2\n",
    "\n",
    "args.n = n\n",
    "args.ndist = ndist\n",
    "args.ntheta = ntheta\n",
    "args.pad = 0\n",
    "args.npsi = npsi\n",
    "args.nq = args.n + 2 * args.pad\n",
    "args.nchunk = 32\n",
    "\n",
    "args.voxelsize = voxelsize\n",
    "args.wavelength = wavelength\n",
    "args.distance = distances\n",
    "args.eps = 1e-12\n",
    "args.rho = [1, 20, 10]\n",
    "args.path_out = f\"/data/vnikitin/ESRF/ID16A/20240924_rec0224//AtomiumS2/HT/s1\"\n",
    "args.show = True\n",
    "\n",
    "args.niter=10000\n",
    "args.vis_step=1\n",
    "args.err_step=1\n",
    "args.method = \"BH-CG\"\n",
    "args.rotation_axis=args.npsi/2\n",
    "\n",
    "args.theta = theta\n",
    "args.norm_magnifications = norm_magnifications\n",
    "# create class\n",
    "cl_rec = Rec(args)\n"
   ]
  },
  {
   "cell_type": "markdown",
   "id": "49eb1696-bb30-496e-8c3d-565f2791112c",
   "metadata": {},
   "source": [
    "## Read real and imaginary parts of the refractive index u = delta+i beta"
   ]
  },
  {
   "cell_type": "code",
   "execution_count": null,
   "id": "8a579ce4-0cd2-4769-a03d-7614aa96b0a8",
   "metadata": {},
   "outputs": [],
   "source": [
    "data = np.zeros([ntheta,ndist,n,n],dtype='float32')\n",
    "ref = np.zeros([ndist,n,n],dtype='float32')\n",
    "for k in range(len(distances)):\n",
    "    data[:,k] = read_tiff(f'/data/vnikitin/syn/data/data_{k}.tiff')\n",
    "for k in range(len(distances)):\n",
    "    ref[k] = read_tiff(f'/data/vnikitin/syn/ref_{k}.tiff')\n",
    "r = np.load(f'/data/vnikitin/syn/r.npy')\n",
    "\n",
    "for k in range(ndist):\n",
    "    mshow(data[0,k]/ref[k],show)"
   ]
  },
  {
   "cell_type": "code",
   "execution_count": null,
   "id": "6ae30f8e-2518-42aa-bbbc-9a2664e74e2d",
   "metadata": {},
   "outputs": [],
   "source": [
    "def multiPaganin(data, distances, wavelength, voxelsize, delta_beta,  alpha):    \n",
    "    \n",
    "    fx = cp.fft.fftfreq(data.shape[-1], d=voxelsize).astype('float32')\n",
    "    [fx, fy] = cp.meshgrid(fx, fx)\n",
    "    numerator = 0\n",
    "    denominator = 0\n",
    "    for j in range(data.shape[0]):\n",
    "        \n",
    "        rad_freq = cp.fft.fft2(data[j])\n",
    "        taylorExp = 1 + wavelength * distances[j] * cp.pi * (delta_beta) * (fx**2+fy**2)\n",
    "        numerator = numerator + taylorExp * (rad_freq)\n",
    "        denominator = denominator + taylorExp**2\n",
    "\n",
    "    numerator = numerator / len(distances)\n",
    "    denominator = (denominator / len(distances)) + alpha\n",
    "\n",
    "    phase = cp.log(cp.real(cp.fft.ifft2(numerator / denominator)))\n",
    "    phase = (delta_beta) * 0.5 * phase\n",
    "\n",
    "    return phase\n",
    "\n",
    "\n",
    "def rec_init(rdata):\n",
    "    recMultiPaganin = np.zeros([args.ntheta,args.nq, args.nq], dtype=\"float32\")\n",
    "    for j in range(0, args.ntheta):\n",
    "        r = cp.array(rdata[j])\n",
    "        distances_pag = (distances/norm_magnifications**2)\n",
    "        r = multiPaganin(r, distances_pag,wavelength, voxelsize, 15, 1e-4)             \n",
    "        recMultiPaganin[j] = r.get()           \n",
    "        recMultiPaganin[j]-=np.mean(recMultiPaganin[j,:32,:32])\n",
    "    recMultiPaganin = np.exp(1j * recMultiPaganin)\n",
    "    return recMultiPaganin\n",
    "\n",
    "rdata = data/ref\n",
    "srdata = np.zeros([ntheta,ndist,args.nq,args.nq],dtype='complex64')\n",
    "for j in range(ndist):\n",
    "    tmp=cl_rec.ST(r[:,j]*norm_magnifications[j],rdata[:,j].astype('complex64'))\n",
    "    tmp = cl_rec.MT(tmp,j)    \n",
    "    tmp = tmp[:,args.npsi//2-args.nq//2:args.npsi//2+args.nq//2,args.npsi//2-args.nq//2:args.npsi//2+args.nq//2]\n",
    "    srdata[:,j]=tmp#np.pad(tmp,((0,0),(mpad,mpad),(mpad,mpad)),'edge')\n",
    "    \n",
    "srdata=srdata.real\n",
    "\n",
    "\n",
    "psi_init = rec_init(srdata)\n",
    "mpad = args.npsi//2-args.nq//2\n",
    "psi_init = np.pad(psi_init,((0,0),(mpad,mpad),(mpad,mpad)),'edge')\n",
    "# mshow(srdata[0,0],args.show)\n",
    "# mshow(srdata[0,2],args.show)\n",
    "mshow_polar(psi_init[0],args.show)\n",
    "# mshow_polar(psi_init[45],args.show)\n",
    "# mshow_polar(psi_init[90],args.show)\n",
    "# mshow_polar(psi_init[120],args.show)"
   ]
  },
  {
   "cell_type": "code",
   "execution_count": null,
   "id": "0c279638",
   "metadata": {},
   "outputs": [],
   "source": [
    "# psi_data = np.log(psi_init)/1j\n",
    "# u_init = cl_rec.rec_tomo(psi_data,32)\n"
   ]
  },
  {
   "cell_type": "code",
   "execution_count": null,
   "id": "53032285",
   "metadata": {},
   "outputs": [],
   "source": [
    "# mshow_complex(u_init[u_init.shape[0]//2],True)\n",
    "# np.save('/local/tmp/u',u_init)\n",
    "u_init = np.load('/local/tmp/u.npy')"
   ]
  },
  {
   "cell_type": "code",
   "execution_count": null,
   "id": "eb9a6762",
   "metadata": {},
   "outputs": [],
   "source": [
    "q_init = np.ones([4,args.nq,args.nq],dtype='complex64')\n",
    "for j in range(ndist):\n",
    "    q_init[j] = cl_rec.DT(np.sqrt(ref[j:j+1]),j)[0]\n",
    "\n",
    "mshow_polar(q_init[0],show)\n",
    "mshow_polar(q_init[-2],show)\n",
    "\n",
    "q_init0 = np.ones([4,args.nq,args.nq],dtype='complex64')\n",
    "for k in range(len(distances)):\n",
    "    q_abs = read_tiff(f'/data/vnikitin/syn/q_abs_{k}.tiff')\n",
    "    q_angle = read_tiff(f'/data/vnikitin/syn/q_angle_{k}.tiff')\n",
    "    q_init0[k] = q_abs*np.exp(1j*q_angle)\n",
    "mshow_polar(q_init0[0],show)\n",
    "mshow_polar(q_init0[-2],show)"
   ]
  },
  {
   "cell_type": "code",
   "execution_count": null,
   "id": "01b6f4c1",
   "metadata": {},
   "outputs": [],
   "source": [
    "a = np.random.random([ntheta,npsi,npsi]).astype('float32')+1j*np.random.random([ntheta,npsi,npsi]).astype('float32')\n",
    "b = cl_rec.M(a,2)\n",
    "c = cl_rec.MT(b,2)\n",
    "print(np.sum(a*np.conj(c)))\n",
    "print(np.sum(b*np.conj(b)))\n",
    "\n",
    "b = cl_rec.S(r[:,2],a)\n",
    "c = cl_rec.ST(r[:,2],b)\n",
    "print(np.sum(a*np.conj(c)))\n",
    "print(np.sum(b*np.conj(b)))\n",
    "\n",
    "a = np.random.random([ntheta,args.nq,args.nq]).astype('float32')+1j*np.random.random([ntheta,args.nq,args.nq]).astype('float32')\n",
    "b = cl_rec.D(a,j)\n",
    "c = cl_rec.DT(b,j)\n",
    "print(np.sum(a*np.conj(c)))\n",
    "print(np.sum(b*np.conj(b)))\n",
    "\n",
    "a = np.random.random([npsi,npsi,npsi]).astype('float32')+1j*np.random.random([npsi,npsi,npsi]).astype('float32')\n",
    "b = cl_rec.R(a)\n",
    "c = cl_rec.RT(b)\n",
    "print(np.sum(a*np.conj(c)))\n",
    "print(np.sum(b*np.conj(b)))\n",
    "\n",
    "\n"
   ]
  },
  {
   "cell_type": "code",
   "execution_count": null,
   "id": "3597f705",
   "metadata": {},
   "outputs": [],
   "source": [
    "print(cl_rec.theta)\n",
    "mshow_complex(b[:,npsi//2],True)"
   ]
  },
  {
   "cell_type": "code",
   "execution_count": null,
   "id": "727766f5",
   "metadata": {},
   "outputs": [],
   "source": [
    "u_init0 = np.load('data/u.npy') \n",
    "u_init0*=5000"
   ]
  },
  {
   "cell_type": "code",
   "execution_count": null,
   "id": "c41a3453",
   "metadata": {},
   "outputs": [],
   "source": [
    "np.random.seed(10)\n",
    "t = np.linspace(-1,1,ntheta).astype('float32')\n",
    "t = t**2*3\n",
    "\n",
    "rerr = (np.random.random(r.shape).astype('float32')-0.5)\n",
    "rerr[:,:,0] += t[:,np.newaxis] * norm_magnifications[np.newaxis]\n",
    "print(norm_magnifications) \n",
    "\n",
    "plt.plot(rerr[:,:,0],'.')\n",
    "plt.plot(rerr[:,:,1],'x')\n",
    "# cp.random.seed(10)"
   ]
  },
  {
   "cell_type": "code",
   "execution_count": null,
   "id": "cd0118ab",
   "metadata": {},
   "outputs": [],
   "source": [
    "\n",
    "# args.rho = [1,2,2]\n",
    "# args.vis_step=16\n",
    "# args.err_step=8\n",
    "# args.niter=1280\n",
    "# args.ngpus=4\n",
    "# args.nchunk=32 \n",
    "# cl_rec = Rec(args)\n",
    "# vars = {}\n",
    "# vars[\"u\"] = cp.array(u_init.copy())\n",
    "# vars[\"Ru\"] = cl_rec.R(vars['u'])\n",
    "# vars[\"psi\"] = cl_rec.expR(vars['Ru'])\n",
    "\n",
    "# vars[\"q\"] = cp.array(q_init.copy())\n",
    "# vars[\"r\"] = cp.array(r.copy()+rerr)\n",
    "# vars[\"r_init\"] = cp.array(r.copy())\n",
    "# vars[\"table\"] = pd.DataFrame(columns=[\"iter\", \"err\", \"time\"])\n",
    "# data=cp.array(data)\n",
    "# vars = cl_rec.BH(data, vars)"
   ]
  },
  {
   "cell_type": "code",
   "execution_count": null,
   "id": "2cc35b71",
   "metadata": {},
   "outputs": [],
   "source": [
    "args.rho = [1,2,2]\n",
    "args.vis_step=16\n",
    "args.err_step=8\n",
    "args.niter=4096\n",
    "args.ngpus=4\n",
    "args.nchunk=32\n",
    "cl_rec = Rec(args)\n",
    "vars = {}\n",
    "vars[\"u\"] = u_init.copy()\n",
    "vars[\"Ru\"] = cl_rec.R(vars['u'])\n",
    "vars[\"psi\"] = cl_rec.expR(vars['Ru'])\n",
    "\n",
    "vars[\"q\"] = cp.array(q_init.copy())\n",
    "vars[\"r\"] = r.copy() + rerr\n",
    "vars[\"r_init\"] = r.copy()\n",
    "vars[\"table\"] = pd.DataFrame(columns=[\"iter\", \"err\", \"time\"])\n",
    "vars = cl_rec.BH(data, vars)"
   ]
  },
  {
   "cell_type": "markdown",
   "id": "37d1563b",
   "metadata": {},
   "source": [
    "\\begin{align*}\n",
    " & D^2V|_{(q_0,u_0,{x}_0)}\\big((\\Delta q^{(1)}, \\Delta u^{(1)},\\Delta{x^{(1)}}),(\\Delta q^{(2)}, \\Delta u^{(2)},\\Delta{x}{(2)})\\big)=\\\\&L_1(q_0)\\cdot M_j(2T_{e^{i R (u_0)}\\cdot(-\\frac{1}{2}(R({\\Delta u^{(1)}})R({\\Delta u^{(2)}})))}({{z}_0})+DT_{e^{i R (u_0)}\\cdot\\big(iR({\\Delta u^{(1)}})\\big)}|_{{{z}_0}}( \\Delta {z}^{(2)})+DT_{e^{i R (u_0)}\\cdot\\big(iR({\\Delta u^{(2)}})\\big)}|_{{{z}_0}}( \\Delta {z}^{(1)})+\\left(D^2{T_{e^{iR(u_0)}}}(\\Delta z^{(1)},\\Delta z^{(2)})\\right))+\\\\&L_1(\\Delta q^{(1)})\\cdot M_j(T_{e^{i R (u_0)}\\cdot(iR({\\Delta u^{(2)}}))}+ DT_{{e^{iR(u_0)}}}|_{{{z}_0}}( \\Delta {z}^{(2)}))+L_1(\\Delta q^{(2)})\\cdot M_j(T_{e^{i R (u_0)}\\cdot(iR({\\Delta u^{(1)}}))}+ DT_{{e^{iR(u_0)}}}|_{{{z}_0}}( \\Delta {z}^{(1)}))\n",
    "\\end{align*}"
   ]
  },
  {
   "cell_type": "markdown",
   "id": "6b12c8c3",
   "metadata": {},
   "source": [
    "\\begin{align*}\n",
    " & DV|_{(q_0,u_0,{x}_0)}(\\Delta q, \\Delta u,\\Delta{x})=L_1(q_0)\\cdot M_j(T_{e^{i R (u_0)}\\cdot(iR({\\Delta u}))}(z_0)+ DT_{{e^{iR(u_0)}}}|_{{{z}_0}}( \\Delta {z}))+L_1(\\Delta q)\\cdot M_j(T_{{e^{iR(u_0)}}}({{z}_0}))\n",
    "\\end{align*}"
   ]
  }
 ],
 "metadata": {
  "kernelspec": {
   "display_name": "holotomocupy",
   "language": "python",
   "name": "python3"
  },
  "language_info": {
   "codemirror_mode": {
    "name": "ipython",
    "version": 3
   },
   "file_extension": ".py",
   "mimetype": "text/x-python",
   "name": "python",
   "nbconvert_exporter": "python",
   "pygments_lexer": "ipython3",
   "version": "3.12.8"
  }
 },
 "nbformat": 4,
 "nbformat_minor": 5
}
