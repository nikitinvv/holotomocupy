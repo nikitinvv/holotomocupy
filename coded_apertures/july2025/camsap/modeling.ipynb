{
 "cells": [
  {
   "cell_type": "code",
   "execution_count": null,
   "id": "fad77fab-e206-47c1-9655-088d14fe30cb",
   "metadata": {},
   "outputs": [],
   "source": [
    "import numpy as np\n",
    "import cupy as cp\n",
    "import sys\n",
    "import pandas as pd\n",
    "import time\n",
    "import matplotlib.pyplot as plt\n",
    "import h5py\n",
    "from types import SimpleNamespace\n",
    "import warnings\n",
    "warnings.filterwarnings(\"ignore\", message=f\".*peer.*\")\n",
    "\n",
    "sys.path.insert(0, '..')\n",
    "from utils import *\n",
    "from rec import Rec"
   ]
  },
  {
   "cell_type": "markdown",
   "id": "3c0fdd65-1cff-451e-865e-56cd8b7882a6",
   "metadata": {},
   "source": [
    "# Init data sizes and parametes of the PXM of ID16A"
   ]
  },
  {
   "cell_type": "code",
   "execution_count": null,
   "id": "59fa16f2-1f9c-4b3a-a330-e10942f12234",
   "metadata": {},
   "outputs": [],
   "source": [
    "n = 256  # object size in each dimension\n",
    "ntheta = 128  # number of angles (rotations)\n",
    "theta = np.linspace(0, np.pi, ntheta).astype('float32')  # projection angles\n",
    "\n",
    "ndist = 4\n",
    "detector_pixelsize = 3e-6\n",
    "energy = 33.35  # [keV] xray energy\n",
    "wavelength = 1.2398419840550367e-09/energy  # [m] wave length\n",
    "\n",
    "focusToDetectorDistance = 1.208  # [m]\n",
    "sx0 = -2.493e-3\n",
    "z1 = np.array([1.5335e-3, 1.7065e-3, 2.3975e-3, 3.8320e-3])[:ndist]-sx0\n",
    "z2 = focusToDetectorDistance-z1\n",
    "distances = (z1*z2)/focusToDetectorDistance\n",
    "magnifications = focusToDetectorDistance/z1\n",
    "voxelsize = detector_pixelsize/magnifications[0]*2048/n/2  # object voxel size\n",
    "\n",
    "norm_magnifications = magnifications/magnifications[0]\n",
    "distances = distances*norm_magnifications**2\n",
    "npsi = int(np.ceil(n/norm_magnifications[-1]/8))*8  # make multiple of 8"
   ]
  },
  {
   "cell_type": "code",
   "execution_count": null,
   "id": "cfa67fb9",
   "metadata": {},
   "outputs": [],
   "source": [
    "args = SimpleNamespace()\n",
    "args.ngpus = 1\n",
    "args.n = n\n",
    "args.ndist = ndist\n",
    "args.ntheta = ntheta\n",
    "args.pad = 0\n",
    "args.npsi = npsi\n",
    "args.nq = args.n + 2 * args.pad\n",
    "args.nchunk = 32\n",
    "\n",
    "args.voxelsize = voxelsize\n",
    "args.wavelength = wavelength\n",
    "args.distance = distances\n",
    "args.rotation_axis=args.npsi/2\n",
    "\n",
    "args.theta = theta\n",
    "args.norm_magnifications = norm_magnifications\n",
    "# create class\n",
    "cl_rec = Rec(args)\n"
   ]
  },
  {
   "cell_type": "markdown",
   "id": "49eb1696-bb30-496e-8c3d-565f2791112c",
   "metadata": {},
   "source": [
    "## Read real and imaginary parts of the refractive index u = delta+i beta"
   ]
  },
  {
   "cell_type": "code",
   "execution_count": null,
   "id": "8a579ce4-0cd2-4769-a03d-7614aa96b0a8",
   "metadata": {},
   "outputs": [],
   "source": [
    "u = np.load('data/u.npy')\n",
    "u = u[u.shape[0]//2-args.npsi//2:u.shape[0]//2+args.npsi//2,\n",
    "      u.shape[0]//2-args.npsi//2:u.shape[0]//2+args.npsi//2,\n",
    "      u.shape[0]//2-args.npsi//2:u.shape[0]//2+args.npsi//2] # if already exists\n",
    "u*=5000\n",
    "mshow_complex(u[args.npsi//2],True)\n"
   ]
  },
  {
   "cell_type": "markdown",
   "id": "2f80b96c-d4b8-4c0e-8999-b8198bbc486a",
   "metadata": {},
   "source": [
    "## Compute tomographic projection data via the Fourier based method, $\\mathcal{R}u$:"
   ]
  },
  {
   "cell_type": "code",
   "execution_count": null,
   "id": "87c2a585-910b-4c13-85fc-7f9e640f8293",
   "metadata": {},
   "outputs": [],
   "source": [
    "\n",
    "psi = cl_rec.expR(cl_rec.R(u))\n",
    "mshow_polar(psi[0],True)"
   ]
  },
  {
   "cell_type": "markdown",
   "id": "bc0f342c-c899-4a73-9871-9717e2bc96c6",
   "metadata": {},
   "source": [
    "## Read a reference image previously recovered by the NFP (Near-field ptychogarphy) method at ID16A. "
   ]
  },
  {
   "cell_type": "code",
   "execution_count": null,
   "id": "6ae30f8e-2518-42aa-bbbc-9a2664e74e2d",
   "metadata": {},
   "outputs": [],
   "source": [
    "!wget -nc https://g-110014.fd635.8443.data.globus.org/holotomocupy/examples_synthetic/data/prb_id16a/prb_abs_2048.tiff -P ../data/prb_id16a\n",
    "!wget -nc https://g-110014.fd635.8443.data.globus.org/holotomocupy/examples_synthetic/data/prb_id16a/prb_phase_2048.tiff -P ../data/prb_id16a\n",
    "\n",
    "q_abs = read_tiff(f'../data/prb_id16a/prb_abs_2048.tiff')[0:ndist]\n",
    "q_phase = read_tiff(f'../data/prb_id16a/prb_phase_2048.tiff')[0:ndist]\n",
    "q = q_abs*np.exp(1j*q_phase).astype('complex64')\n",
    "\n",
    "\n",
    "for k in range(3):\n",
    "    q = q[:, ::2]+q[:, 1::2]\n",
    "    q = q[:, :, ::2]+q[:, :, 1::2]/4\n",
    "\n",
    "# q = q[:, 128-pad:-128+pad, 128-pad:-128+pad]\n",
    "q /= np.mean(np.abs(q))\n",
    "\n",
    "mshow_polar(q[0],True)\n",
    "mshow_polar(q[-1],True)"
   ]
  },
  {
   "cell_type": "markdown",
   "id": "c2a0705b",
   "metadata": {},
   "source": [
    "# Smooth the probe, the loaded one is too noisy"
   ]
  },
  {
   "cell_type": "code",
   "execution_count": null,
   "id": "93cf1c7b",
   "metadata": {},
   "outputs": [],
   "source": [
    "v = np.arange(-n//2,n//2)/n\n",
    "[vx,vy] = np.meshgrid(v,v)\n",
    "v=np.exp(-5*(vx**2+vy**2))\n",
    "q = np.fft.fftshift(np.fft.fftn(np.fft.fftshift(q)))\n",
    "q = np.fft.fftshift(np.fft.ifftn(np.fft.fftshift(q*v)))\n",
    "q = q.astype('complex64')\n",
    "\n",
    "mshow_polar(q[0],True)"
   ]
  },
  {
   "cell_type": "markdown",
   "id": "d1d02f36",
   "metadata": {},
   "source": [
    "# Shifts/drifts"
   ]
  },
  {
   "cell_type": "code",
   "execution_count": null,
   "id": "e79c03a1",
   "metadata": {},
   "outputs": [],
   "source": [
    "# random sample shifts for each projection (note:before magnification)\n",
    "shifts = (np.random.random([ntheta, ndist, 2]).astype('float32')-0.5)*n/32\n",
    "\n",
    "# use the first plane as the global reference for illumination\n",
    "if ndist>1:\n",
    "    shifts[:, 1] += np.array([0.6, 0.3])\n",
    "    shifts[:, 2] += np.array([-1.3, 1.5])\n",
    "    shifts[:, 3] += np.array([2.3, -3.5])\n",
    "\n",
    "np.save('data/shifts', shifts)"
   ]
  },
  {
   "cell_type": "code",
   "execution_count": null,
   "id": "e463e132",
   "metadata": {},
   "outputs": [],
   "source": [
    "a=psi\n",
    "b = cl_rec.M(a,2)\n",
    "c = cl_rec.MT(b,2)\n",
    "print(np.sum(a*c.conj()))\n",
    "print(np.sum(b*b.conj()))\n",
    "mshow_polar(a[0],True)\n",
    "mshow_polar(b[0],True)\n",
    "mshow_polar(c[0],True)"
   ]
  },
  {
   "cell_type": "code",
   "execution_count": null,
   "id": "0472ad04",
   "metadata": {},
   "outputs": [],
   "source": [
    "r = shifts\n",
    "data = cl_rec.fwd(cp.array(r),cp.array(u),cp.array(q))\n",
    "ref = cl_rec.fwd(cp.array(r),cp.array(u*0),cp.array(q))\n",
    "mshow_polar(data[0,2],True)\n",
    "mshow_polar(ref[0,2],True)"
   ]
  },
  {
   "cell_type": "markdown",
   "id": "18e9c352-2b2c-49d7-adc0-301a05da964c",
   "metadata": {},
   "source": [
    "### Take squared absolute value to simulate data on the detector and a reference image"
   ]
  },
  {
   "cell_type": "code",
   "execution_count": null,
   "id": "f4f94fd7-b14c-4dc3-832c-2f00d1674039",
   "metadata": {},
   "outputs": [],
   "source": [
    "data = np.abs(data)**2\n",
    "ref = np.abs(ref)**2"
   ]
  },
  {
   "cell_type": "markdown",
   "id": "6bbcb6f5",
   "metadata": {},
   "source": [
    "### Visualize data"
   ]
  },
  {
   "cell_type": "code",
   "execution_count": null,
   "id": "974c84ca",
   "metadata": {},
   "outputs": [],
   "source": [
    "for k in range(ndist):\n",
    "    mshow(data[0,k],show)\n"
   ]
  },
  {
   "cell_type": "markdown",
   "id": "8673922a",
   "metadata": {},
   "source": [
    "### Visualize reference images"
   ]
  },
  {
   "cell_type": "code",
   "execution_count": null,
   "id": "cf086c4e",
   "metadata": {},
   "outputs": [],
   "source": [
    "for k in range(ndist):\n",
    "    mshow(ref[0,k],True)"
   ]
  },
  {
   "cell_type": "markdown",
   "id": "80625cf6-2687-43fa-8d0a-dd3396f91aa7",
   "metadata": {},
   "source": [
    "### Save data, reference images"
   ]
  },
  {
   "cell_type": "code",
   "execution_count": null,
   "id": "1edf3f41-30cb-4092-b90c-ca2f1f829ac7",
   "metadata": {},
   "outputs": [],
   "source": [
    "for k in range(len(distances)):\n",
    "    write_tiff(data[:,k],f'/data/vnikitin/syn/data/data_{k}')\n",
    "for k in range(len(distances)):\n",
    "    write_tiff(ref[0,k],f'/data/vnikitin/syn/ref_{k}')\n",
    "for k in range(len(distances)):\n",
    "    write_tiff(np.abs(q[k]),f'/data/vnikitin/syn/q_abs_{k}')\n",
    "    write_tiff(np.angle(q[k]),f'/data/vnikitin/syn/q_angle_{k}')\n",
    "\n",
    "np.save(f'/data/vnikitin/syn/r',r)"
   ]
  }
 ],
 "metadata": {
  "kernelspec": {
   "display_name": "holotomocupy",
   "language": "python",
   "name": "python3"
  },
  "language_info": {
   "codemirror_mode": {
    "name": "ipython",
    "version": 3
   },
   "file_extension": ".py",
   "mimetype": "text/x-python",
   "name": "python",
   "nbconvert_exporter": "python",
   "pygments_lexer": "ipython3",
   "version": "3.12.8"
  }
 },
 "nbformat": 4,
 "nbformat_minor": 5
}
