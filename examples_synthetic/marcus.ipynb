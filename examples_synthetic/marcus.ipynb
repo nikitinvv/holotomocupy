{
 "cells": [
  {
   "cell_type": "code",
   "execution_count": null,
   "id": "fad77fab-e206-47c1-9655-088d14fe30cb",
   "metadata": {},
   "outputs": [],
   "source": [
    "import numpy as np\n",
    "import cupy as cp\n",
    "from holotomocupy.holo import G, GT\n",
    "from holotomocupy.shift import S, ST\n",
    "from holotomocupy.recon_methods import multiPaganin\n",
    "from holotomocupy.utils import *"
   ]
  },
  {
   "cell_type": "markdown",
   "id": "3c0fdd65-1cff-451e-865e-56cd8b7882a6",
   "metadata": {},
   "source": [
    "# Init data sizes and parametes of the PXM of ID16A"
   ]
  },
  {
   "cell_type": "code",
   "execution_count": null,
   "id": "59fa16f2-1f9c-4b3a-a330-e10942f12234",
   "metadata": {},
   "outputs": [],
   "source": [
    "n = 1024  # object size in each dimension\n",
    "pad = 512\n",
    "npos= 16\n",
    "\n",
    "detector_pixelsize = 3.03751e-6\n",
    "energy = 33.35  # [keV] xray energy\n",
    "wavelength = 1.2398419840550367e-09/energy  # [m] wave length\n",
    "focusToDetectorDistance = 1.28  # [m]\n",
    "sx0 = 1.286e-3\n",
    "z1 = np.tile(5.5e-3-sx0, [npos])\n",
    "z2 = focusToDetectorDistance-z1\n",
    "distances = (z1*z2)/focusToDetectorDistance\n",
    "magnifications = focusToDetectorDistance/z1\n",
    "voxelsize = np.abs(detector_pixelsize/magnifications[0])  # object voxel size\n",
    "\n",
    "# sample size after demagnification\n",
    "ne = n+2*pad\n",
    "show = True\n",
    "path = f'/data/vnikitin/modeling/siemens{n}'\n",
    "path_out = f'/data/vnikitin/modeling/siemens_recn_v1{n}_{pad}'\n"
   ]
  },
  {
   "cell_type": "markdown",
   "id": "daee2463",
   "metadata": {},
   "source": [
    "# Construct operators\n"
   ]
  },
  {
   "cell_type": "code",
   "execution_count": null,
   "id": "adf88f3b",
   "metadata": {},
   "outputs": [],
   "source": [
    "def Lop(psi):\n",
    "    data = cp.zeros([*psi.shape[:2], n, n], dtype='complex64')\n",
    "    for i in range(psi.shape[1]):\n",
    "        psir = cp.array(psi[:,i])               \n",
    "        psir = G(psir, wavelength, voxelsize, distances[i],'constant')\n",
    "        data[:, i] = psir[:,ne//2-n//2:ne//2+n//2,ne//2-n//2:ne//2+n//2]\n",
    "    return data\n",
    "\n",
    "def LTop(data):\n",
    "    psi = cp.zeros([*data.shape[:2], ne, ne], dtype='complex64')\n",
    "    for j in range(data.shape[1]):\n",
    "        datar = cp.array(cp.pad(data[:, j],((0,0),(ne//2-n//2,ne//2-n//2),(ne//2-n//2,ne//2-n//2)))).astype('complex64')               \n",
    "        datar = GT(datar, wavelength, voxelsize, distances[j],'constant')        \n",
    "        psi[:,j] = datar\n",
    "    return psi\n",
    "\n",
    "def Sop(psi,shifts):\n",
    "    data = cp.zeros([1, npos, ne, ne], dtype='complex64')\n",
    "    psi = cp.array(psi)\n",
    "    for j in range(npos):\n",
    "        psir = psi.copy()\n",
    "        shiftsr = cp.array(shifts[:, j])\n",
    "        psir = S(psir, shiftsr,mode='constant')\n",
    "        data[:,j] = psir\n",
    "    return data\n",
    "\n",
    "def STop(data,shifts):\n",
    "    psi = cp.zeros([1, ne, ne], dtype='complex64')\n",
    "\n",
    "    for j in range(npos):\n",
    "        datar = cp.array(data[:,j])\n",
    "        shiftsr = cp.array(shifts[:, j])\n",
    "        psi += ST(datar,shiftsr,mode='constant')\n",
    "    return psi\n",
    "\n",
    "# adjoint tests\n",
    "arr1 = cp.random.random([1,ne,ne]).astype('float32')+1j*cp.random.random([1,ne,ne]).astype('float32')\n",
    "prb1 = cp.ones([1,n+2*pad,n+2*pad],dtype='complex64')\n",
    "shifts = cp.random.random([1,npos,2]).astype('float32')\n",
    "arr2 = Sop(arr1,shifts)\n",
    "arr3 = STop(arr2,shifts)\n",
    "\n",
    "arr4 = Lop(arr2)\n",
    "arr5 = LTop(arr4)\n",
    "\n",
    "\n",
    "print(f'{np.sum(arr1*np.conj(arr3))}==\\n{np.sum(arr2*np.conj(arr2))}')\n",
    "print(f'{np.sum(arr2*np.conj(arr5))}==\\n{np.sum(arr4*np.conj(arr4))}')"
   ]
  },
  {
   "cell_type": "code",
   "execution_count": null,
   "id": "32e1be26",
   "metadata": {},
   "outputs": [],
   "source": [
    "import cv2\n",
    "import xraylib\n",
    "ne*=2\n",
    "img = np.zeros((ne, ne, 3), np.uint8)\n",
    "triangle = np.array([(ne//16, ne//2-ne//64), (ne//16, ne//2+ne//64), (ne//2-ne//64, ne//2)], np.float32)\n",
    "star = img[:,:,0]*0\n",
    "for i in range(0, 360, 8):\n",
    "    img = np.zeros((ne, ne, 3), np.uint8)\n",
    "    degree = i\n",
    "    theta = degree * np.pi / 180\n",
    "    rot_mat = np.array([[np.cos(theta), -np.sin(theta)],\n",
    "                        [np.sin(theta), np.cos(theta)]], np.float32)    \n",
    "    rotated = cv2.gemm(triangle-ne//2, rot_mat, 1, None, 1, flags=cv2.GEMM_2_T)+ne//2\n",
    "    cv2.fillPoly(img, [np.int32(rotated)], (255, 0, 0))\n",
    "    star+=img[:,:,0]\n",
    "[x,y] = np.meshgrid(np.arange(-ne//2,ne//2),np.arange(-ne//2,ne//2))\n",
    "x = x/ne*2\n",
    "y = y/ne*2\n",
    "# add holes in triangles\n",
    "circ = (x**2+y**2>0.145)+(x**2+y**2<0.14)\n",
    "circ *= (x**2+y**2>0.053)+(x**2+y**2<0.051)\n",
    "circ *= (x**2+y**2>0.0085)+(x**2+y**2<0.008)\n",
    "circ *= (x**2+y**2>0.3)+(x**2+y**2<0.295)\n",
    "# circ *= (x**2+y**2>0.62)+(x**2+y**2<0.6)\n",
    "circ *= (x**2+y**2<0.8**2)\n",
    "star = star*circ/255\n",
    "star = star[ne//4:-ne//4,ne//4:-ne//4]\n",
    "ne//=2\n",
    "\n",
    "\n",
    "# star[ne//2-n//2:ne//2+n//2,ne//2-n//2:ne//2+n//2]=0\n",
    "\n",
    "v = np.arange(-ne//2,ne//2)/ne\n",
    "[vx,vy] = np.meshgrid(v,v)\n",
    "v = np.exp(-5*(vx**2+vy**2))\n",
    "fu = np.fft.fftshift(np.fft.fftn(np.fft.fftshift(star)))\n",
    "star = np.fft.fftshift(np.fft.ifftn(np.fft.fftshift(fu*v))).real\n",
    "\n",
    "delta = 1-xraylib.Refractive_Index_Re('Au',energy,19.3)\n",
    "beta = xraylib.Refractive_Index_Im('Au',energy,19.3)\n",
    "\n",
    "print(delta/beta)\n",
    "thickness = 2e-6/voxelsize/10 # siemens star thickness in pixels\n",
    "# form Transmittance function\n",
    "u = star*(-delta+1j*beta) # note -delta\n",
    "Ru = u*thickness \n",
    "psi = np.exp(1j * Ru * voxelsize * 2 * np.pi / wavelength)[np.newaxis].astype('complex64')\n",
    "mshow_polar(psi[0],show)\n",
    "\n",
    "psi_abs = dxchange.read_tiff(f'/data/vnikitin/ESRF/ID16A/20240924_rec/SiemensLH/SiemensLH_010nm_nfp_reg_new_pos0_crop768_1.0e-01_0.0e+00_2048_768/crec_code_abs2048/1024.tiff')\n",
    "psi_angle = dxchange.read_tiff(f'/data/vnikitin/ESRF/ID16A/20240924_rec/SiemensLH/SiemensLH_010nm_nfp_reg_new_pos0_crop768_1.0e-01_0.0e+00_2048_768/crec_code_angle2048/1024.tiff')\n",
    "\n",
    "psi = (1+psi_angle/24)*np.exp(1j*(psi_angle-0.07)/2)#/np.mean(psi_abs)#-np.amax(psi_angle)\n",
    "psi = psi[np.newaxis,psi.shape[1]//2-1024:psi.shape[1]//2+1024,psi.shape[1]//2-1024:psi.shape[1]//2+1024]\n",
    "mshow_polar(psi[0],show)"
   ]
  },
  {
   "cell_type": "code",
   "execution_count": null,
   "id": "0e0d9497",
   "metadata": {},
   "outputs": [],
   "source": [
    "!wget -nc https://g-110014.fd635.8443.data.globus.org/holotomocupy/examples_synthetic/data/prb_id16a/prb_abs_2048.tiff -P ../data/prb_id16a\n",
    "!wget -nc https://g-110014.fd635.8443.data.globus.org/holotomocupy/examples_synthetic/data/prb_id16a/prb_phase_2048.tiff -P ../data/prb_id16a\n",
    "\n",
    "import scipy.ndimage as ndimage\n",
    "prb_abs = dxchange.read_tiff(f'../data/prb_id16a/prb_abs_2048.tiff')[0:1]\n",
    "prb_phase = dxchange.read_tiff(f'../data/prb_id16a/prb_phase_2048.tiff')[0:1]\n",
    "prb = prb_abs*np.exp(1j*prb_phase).astype('complex64')\n",
    "\n",
    "prb = ndimage.zoom(prb,(1,2*n/2048,2*n/2048))\n",
    "prb = prb[:,n-n//2-pad:n+n//2+pad,n-n//2-pad:n+n//2+pad]\n",
    "\n",
    "\n",
    "prb /= np.mean(np.abs(prb))\n",
    "# prb[:]=1\n",
    "\n",
    "fig, axs = plt.subplots(1, 2, figsize=(9, 4))\n",
    "im=axs[0].imshow(np.abs(prb[0]),cmap='gray')\n",
    "axs[0].set_title('abs prb')\n",
    "fig.colorbar(im)\n",
    "im=axs[1].imshow(np.angle(prb[0]),cmap='gray')\n",
    "axs[1].set_title('angle prb')\n",
    "fig.colorbar(im)"
   ]
  },
  {
   "cell_type": "code",
   "execution_count": null,
   "id": "755afc3e",
   "metadata": {},
   "outputs": [],
   "source": [
    "import h5py\n",
    "with h5py.File(f'/data/vnikitin/ESRF/ID16A/20240924/SiemensLH/SiemensLH_010nm_nfp_01/SiemensLH_010nm_nfp_010000.h5','r') as fid:\n",
    "    spz = np.array(str(np.array(str(np.array(fid['/entry_0000/instrument/PCIe/header/spz']))[1:]))[1:-1].split(' '),dtype='float32')*1e-6/voxelsize\n",
    "    spy = np.array(str(np.array(str(np.array(fid['/entry_0000/instrument/PCIe/header/spy']))[1:]))[1:-1].split(' '),dtype='float32')*1e-6/voxelsize\n",
    "\n",
    "shifts_code0 = np.zeros([1,npos,2],dtype='float32')\n",
    "shifts_code0[:,:,1] = spy[:npos]\n",
    "shifts_code0[:,:,0] = -spz[:npos]\n",
    "shifts=cp.array(shifts_code0)\n",
    "#shifts = (cp.random.random(shifts.shape).astype('float32')-0.5)*200\n",
    "psi = cp.array(psi)\n",
    "prb = cp.array(prb)\n",
    "data = np.abs(Lop(prb*Sop(psi,shifts)))**2\n",
    "ref = np.abs(Lop(prb*Sop(psi*0+1,shifts)))**2\n",
    "ref = ref[0]\n",
    "\n",
    "rdata = data/(ref+1e-11)#/0.76**2\n",
    "\n",
    "mshow_complex(data[0,0]+1j*rdata[0,0],show)#,show,vmax=1.3,vmin=0.8)\n",
    "mshow(ref[0],show)"
   ]
  },
  {
   "cell_type": "markdown",
   "id": "1fe0cb15",
   "metadata": {},
   "source": [
    "## Reconstruction with the CG (Carlsson) with Hessians"
   ]
  },
  {
   "cell_type": "markdown",
   "id": "691261ac",
   "metadata": {},
   "source": [
    "## Gradients"
   ]
  },
  {
   "cell_type": "markdown",
   "id": "bd7163cd",
   "metadata": {},
   "source": [
    "#### $$\\nabla F=2 \\left(L^*\\left( L(M(q_0,\\psi_0,\\boldsymbol{x}_0))-\\tilde D\\right)\\right).$$\n",
    "#### where $$\\tilde D = D \\frac{L(M(q_0,\\psi_0,\\boldsymbol{x}_0))}{|L(M(q_0,\\psi_0,\\boldsymbol{x}_0))|}$$\n",
    "\n"
   ]
  },
  {
   "cell_type": "code",
   "execution_count": null,
   "id": "eba2083c",
   "metadata": {},
   "outputs": [],
   "source": [
    "def gradientF(vars,d):\n",
    "    (psi,q,x) = (vars['psi'], vars['prb'], vars['shift'])\n",
    "    Lpsi = Lop(Sop(psi,x)*q)\n",
    "    td = d*(Lpsi/np.abs(Lpsi))\n",
    "    res = 2*LTop(Lpsi - td)\n",
    "    return res\n",
    "\n"
   ]
  },
  {
   "cell_type": "markdown",
   "id": "d6e8178a",
   "metadata": {},
   "source": [
    "##### $$\\nabla_{\\psi} G|_{(q_0,\\psi_0,\\boldsymbol{x}_0)}=S_{\\boldsymbol{x}_{0}}^*\\left(\\overline{J(q_0)}\\cdot \\nabla F\\right).$$\n",
    "##### $$\\nabla_{q} G|_{(q_0,\\psi_0,\\boldsymbol{x}_0)}=J^*\\left( \\overline{S_{\\boldsymbol{x}_{0}}(\\psi_0)}\\cdot \\nabla F\\right).$$\n",
    "\n"
   ]
  },
  {
   "cell_type": "code",
   "execution_count": null,
   "id": "3e22132b",
   "metadata": {},
   "outputs": [],
   "source": [
    "def gradientpsi(q,x,gradF):\n",
    "    return STop(np.conj(q)*gradF,x)\n",
    "\n",
    "def gradientq(psi,x,gradF):\n",
    "    return np.sum(np.conj(Sop(psi,x))*gradF,axis=1)\n",
    "\n",
    "def gradients(vars,d,gradF):\n",
    "    (psi,q,x) = (vars['psi'], vars['prb'], vars['shift'])\n",
    "    grads = {}\n",
    "    grads['psi'] = gradientpsi(q,x,gradF)\n",
    "    grads['prb'] = gradientq(psi,x,gradF)\n",
    "    return grads\n",
    "\n"
   ]
  },
  {
   "cell_type": "markdown",
   "id": "3b092076",
   "metadata": {},
   "source": [
    "##### $$\\frac{1}{2}\\mathcal{H}|_{x_0}(y,z)= \\left\\langle \\mathbf{1}-d_{0}, \\mathsf{Re}({L(y)}\\overline{L(z)})\\right\\rangle+\\left\\langle d_{0},(\\mathsf{Re} (\\overline{l_0}\\cdot L(y)))\\cdot (\\mathsf{Re} (\\overline{l_0}\\cdot L(z))) \\right\\rangle$$\n",
    "##### $$l_0=L(x_0)/|L(x_0)|$$\n",
    "##### $$d_0=d/|L(x_0)|$$\n"
   ]
  },
  {
   "cell_type": "code",
   "execution_count": null,
   "id": "28d6df09",
   "metadata": {},
   "outputs": [],
   "source": [
    "def hessianF(hpsi,hpsi1,hpsi2,data):\n",
    "    Lpsi = Lop(hpsi)        \n",
    "    Lpsi1 = Lop(hpsi1)\n",
    "    Lpsi2 = Lop(hpsi2)    \n",
    "    l0 = Lpsi/np.abs(Lpsi)\n",
    "    d0 = data/np.abs(Lpsi)\n",
    "    v1 = np.sum((1-d0)*reprod(Lpsi1,Lpsi2))\n",
    "    v2 = np.sum(d0*reprod(l0,Lpsi1)*reprod(l0,Lpsi2))            \n",
    "    return 2*(v1+v2)"
   ]
  },
  {
   "cell_type": "markdown",
   "id": "731f8313",
   "metadata": {},
   "source": [
    "#### $$ DM|_{(q_0,\\psi_0,\\boldsymbol{x})}(\\Delta q, \\Delta \\psi,\\Delta\\boldsymbol{x})=$$\n",
    "#### $$ \\Big(\\Delta q\\cdot T_{\\psi_0}({\\boldsymbol{x}_{0,k}})+ q_0\\cdot T_{\\Delta \\psi}({\\boldsymbol{x}_{0,k}}) \\Big)_{k=1}^K=$$\n",
    "#### $$ \\Big(J(\\Delta q)\\cdot S_{\\boldsymbol{x}_{0,k}}(\\psi_0)+ J(q_0)\\cdot S_{\\boldsymbol{x}_{0}}{(\\Delta \\psi)}\\Big)_{k=1}^K$$\n"
   ]
  },
  {
   "cell_type": "code",
   "execution_count": null,
   "id": "a4ca2c75",
   "metadata": {},
   "outputs": [],
   "source": [
    "def DM(psi,q,x,dpsi,dq):\n",
    "    res = dq*Sop(psi,x)+q*Sop(dpsi,x) \n",
    "    return res"
   ]
  },
  {
   "cell_type": "markdown",
   "id": "06a620b3",
   "metadata": {},
   "source": [
    "##### $$ D^2M|_{(q_0,\\psi_0,\\boldsymbol{x})}\\big((\\Delta q^{(1)}, \\Delta \\psi^{(1)}),(\\Delta q^{(2)}, \\Delta \\psi^{(2)})\\big)= $$\n",
    "##### $$\\Delta q^{(1)}\\cdot T_{\\Delta \\psi^{(2)}}({\\boldsymbol{x}_{0,k}})+\\Delta q^{(2)}\\cdot T_{\\Delta \\psi^{(1)}}({\\boldsymbol{x}_{0,k}}) $$\n",
    "\n"
   ]
  },
  {
   "cell_type": "code",
   "execution_count": null,
   "id": "30042540",
   "metadata": {},
   "outputs": [],
   "source": [
    "def D2M(psi,q,x,dpsi1,dq1,dpsi2,dq2):    \n",
    "    res = dq1*Sop(dpsi2,x) + dq2*Sop(dpsi1,x) \n",
    "    return res"
   ]
  },
  {
   "cell_type": "markdown",
   "id": "27528dbe",
   "metadata": {},
   "source": [
    "##### $$\\mathcal{H}^G|_{ (q_0,\\psi_0,\\boldsymbol{x}_0)}\\Big((\\Delta q^{(1)},\\Delta \\psi^{(1)}),(\\Delta q^{(2)},\\Delta \\psi^{(2)})\\Big)=$$\n",
    "##### $$\\Big\\langle \\nabla F|_{M(q_0,\\psi_0,\\boldsymbol{x}_0)}, D^2M|_{(q_0,\\psi_0,\\boldsymbol{x}_0)}\\Big((\\Delta q^{(1)},\\Delta \\psi^{(1)},\\Delta \\boldsymbol{x}^{(1)}),(\\Delta q^{(2)},\\Delta \\psi^{(2)},\\Delta \\boldsymbol{x}^{(2)})\\Big)\\Big\\rangle +$$\n",
    "##### $$\\mathcal{H}^F|_{M(q_0,\\psi_0,\\boldsymbol{x}_0)}\\Big(DM|_{(q_0,\\psi_0,\\boldsymbol{x}_0)}(\\Delta q^{(1)},\\Delta \\psi^{(1)},\\Delta \\boldsymbol{x}^{(1)}),DM|_{(q_0,\\psi_0,\\boldsymbol{x}_0)}(\\Delta q^{(2)},\\Delta \\psi^{(2)},\\Delta \\boldsymbol{x}^{(2)})\\Big).$$"
   ]
  },
  {
   "cell_type": "code",
   "execution_count": null,
   "id": "a3990a45",
   "metadata": {},
   "outputs": [],
   "source": [
    "def calc_beta(vars,grads,etas,d,gradF):\n",
    "    (psi,q,x) = (vars['psi'], vars['prb'], vars['shift'])\n",
    "    (dpsi1,dq1) = (grads['psi'], grads['prb'])\n",
    "    (dpsi2,dq2) = (etas['psi'], etas['prb'])\n",
    "    \n",
    "    dm1 = DM(psi,q,x,dpsi1,dq1)\n",
    "    dm2 = DM(psi,q,x,dpsi2,dq2)\n",
    "    d2m1 = D2M(psi,q,x,dpsi1,dq1,dpsi2,dq2)\n",
    "    d2m2 = D2M(psi,q,x,dpsi2,dq2,dpsi2,dq2)\n",
    "    sq = Sop(psi,x)*q\n",
    "\n",
    "    top = redot(gradF,d2m1)        \n",
    "    top += hessianF(sq, dm1, dm2,d)    \n",
    "    bottom = redot(gradF,d2m2)    \n",
    "    bottom += hessianF(sq, dm2, dm2,d)\n",
    "    return top/bottom\n",
    "\n",
    "def calc_alpha(vars,grads,etas,d,gradF):    \n",
    "    (psi,q,x) = (vars['psi'], vars['prb'], vars['shift'])\n",
    "    (dpsi1,dq1) = (grads['psi'], grads['prb'])\n",
    "    (dpsi2,dq2) = (etas['psi'], etas['prb']) \n",
    "    top = -redot(dpsi1,dpsi2)-redot(dq1,dq2)\n",
    "    \n",
    "    dm2 = DM(psi,q,x,dpsi2,dq2)\n",
    "    d2m2 = D2M(psi,q,x,dpsi2,dq2,dpsi2,dq2)\n",
    "    sq = Sop(psi,x)*q\n",
    "    bottom = redot(gradF,d2m2)+hessianF(sq, dm2, dm2, d)\n",
    "    return top/bottom, top, bottom"
   ]
  },
  {
   "cell_type": "markdown",
   "id": "d0c60557",
   "metadata": {},
   "source": [
    "### Initial guess for reconstruction (Paganin)"
   ]
  },
  {
   "cell_type": "code",
   "execution_count": null,
   "id": "cb50e362",
   "metadata": {},
   "outputs": [],
   "source": [
    "def rec_init(rdata,shifts):\n",
    "    recMultiPaganin = cp.zeros([1,npos,ne,ne],dtype='float32')\n",
    "    recMultiPaganinr = cp.zeros([1,npos,ne,ne],dtype='float32')# to compensate for overlap\n",
    "    for j in range(0,1):\n",
    "        rdatar = cp.array(rdata[:,j:j+1])\n",
    "        r = multiPaganin(rdatar,\n",
    "                            distances[j:j+1], wavelength, voxelsize,  24.05, 1e-8)    \n",
    "        rr = r*0+1 # to compensate for overlap\n",
    "        shiftsr = cp.array(shifts[:,j])\n",
    "        recMultiPaganin[:,j] = ST(r,shiftsr).real\n",
    "        recMultiPaganinr[:,j] = ST(rr,shiftsr).real\n",
    "        \n",
    "    recMultiPaganin = np.sum(recMultiPaganin,axis=1)\n",
    "    recMultiPaganinr = np.sum(recMultiPaganinr,axis=1)\n",
    "\n",
    "    # avoid division by 0\n",
    "    recMultiPaganinr[np.abs(recMultiPaganinr)<5e-2] = 1\n",
    "\n",
    "    # compensate for overlap\n",
    "    recMultiPaganin /= recMultiPaganinr\n",
    "    v = cp.ones(ne,dtype='float32')\n",
    "    v[:pad] = np.sin(cp.linspace(0,1,pad)*np.pi/2)\n",
    "    v[ne-pad:] = np.cos(cp.linspace(0,1,pad)*np.pi/2)\n",
    "    v = np.outer(v,v)\n",
    "    recMultiPaganin*=v\n",
    "    recMultiPaganin = np.exp(1j*recMultiPaganin)\n",
    "\n",
    "    return recMultiPaganin\n",
    "\n",
    "rdata = data/ref\n",
    "rdatap = rdata.copy()\n",
    "rdatap = np.pad(rdatap,((0,0),(0,0),(ne//2-n//2,ne//2-n//2),(ne//2-n//2,ne//2-n//2)),'constant',constant_values=1)\n",
    "mshow(rdata[0,0],show,vmax=1.2,vmin=0.8)\n",
    "rec_paganin = rec_init(rdatap,shifts)\n",
    "mshow_polar(rec_paganin[0],show,vmax=0.25)\n",
    "mshow_polar(rec_paganin[0,ne//2-128:ne//2+128,ne//2-128:ne//2+128],show)"
   ]
  },
  {
   "cell_type": "markdown",
   "id": "d4006eb6",
   "metadata": {},
   "source": [
    "## debug functions"
   ]
  },
  {
   "cell_type": "code",
   "execution_count": null,
   "id": "b79db8a3",
   "metadata": {},
   "outputs": [],
   "source": [
    "import matplotlib.patches as patches\n",
    "\n",
    "def plot_debug2(vars,etas,top,bottom,alpha,data):\n",
    "    if show==False:\n",
    "        return\n",
    "    (psi,q,x) = (vars['psi'], vars['prb'], vars['shift'])\n",
    "    (dpsi2,dq2) = (etas['psi'], etas['prb'])\n",
    "    npp = 17\n",
    "    errt = cp.zeros(npp*2)\n",
    "    errt2 = cp.zeros(npp*2)\n",
    "    for k in range(0,npp*2):\n",
    "        psit = psi+(alpha*k/(npp-1))*dpsi2\n",
    "        qt = q+(alpha*k/(npp-1))*dq2\n",
    "        fpsit = np.abs(Lop(Sop(psit,x)*qt))-data\n",
    "        errt[k] = np.linalg.norm(fpsit)**2\n",
    "        \n",
    "    t = alpha*(cp.arange(2*npp))/(npp-1)\n",
    "    tmp = np.abs(Lop(Sop(psi,x)*q))-data\n",
    "    errt2 = np.linalg.norm(tmp)**2-top*t+0.5*bottom*t**2\n",
    "    \n",
    "    plt.plot(alpha.get()*cp.arange(2*npp).get()/(npp-1),errt.get(),'.')\n",
    "    plt.plot(alpha.get()*cp.arange(2*npp).get()/(npp-1),errt2.get(),'.')\n",
    "    plt.show()\n",
    "\n",
    "def vis_debug(vars,data,i):\n",
    "    mshow_polar(vars['psi'][0],show)    \n",
    "    mshow_polar(vars['psi'][0,ne//2-n//8:ne//2+n//8,ne//2+n//4:ne//2+n//2],show)\n",
    "    mshow_polar(vars['prb'][0],show)\n",
    "    dxchange.write_tiff(np.angle(vars['psi'][0]).get(),f'{path_out}/crec_code_angle/{i:03}',overwrite=True)\n",
    "    dxchange.write_tiff(np.angle(vars['prb'][0]).get(),f'{path_out}/crec_prb_angle/{i:03}',overwrite=True)\n",
    "    dxchange.write_tiff(np.abs(vars['psi'][0]).get(),f'{path_out}/crec_code_abs/{i:03}',overwrite=True)\n",
    "    dxchange.write_tiff(np.abs(vars['prb'][0]).get(),f'{path_out}/crec_prb_abs/{i:03}',overwrite=True)\n",
    "    np.save(f'{path_out}/crec_shift_{i:03}',vars['shift'])\n",
    "\n",
    "    \n",
    "def err_debug(vars, grads, data):    \n",
    "    (psi,q,x) = (vars['psi'], vars['prb'], vars['shift'])\n",
    "    tmp = np.abs(Lop(Sop(psi,x)*q))-data\n",
    "    err = np.linalg.norm(tmp)**2\n",
    "    print(f'gradient norms (psi, prb): {np.linalg.norm(grads['psi']):.2f}, {np.linalg.norm(grads['prb']):.2f}')                        \n",
    "    return err"
   ]
  },
  {
   "cell_type": "markdown",
   "id": "9b6e3f71",
   "metadata": {},
   "source": [
    "# Main CG loop (fifth rule)"
   ]
  },
  {
   "cell_type": "code",
   "execution_count": null,
   "id": "901f10e1",
   "metadata": {},
   "outputs": [],
   "source": [
    "def cg_holo(data, vars, pars):\n",
    "\n",
    "    data = np.sqrt(data)    \n",
    "    erra = cp.zeros(pars['niter'])\n",
    "    alphaa = cp.zeros(pars['niter'])    \n",
    "    for i in range(pars['niter']):           \n",
    "        if i % pars['vis_step'] == 0 and pars['vis_step'] != -1:\n",
    "            vis_debug(vars, data, i)       \n",
    "        gradF = gradientF(vars,data)        \n",
    "        grads = gradients(vars,data,gradF)\n",
    "        if i==0:\n",
    "            etas = {}\n",
    "            etas['psi'] = -grads['psi']\n",
    "            etas['prb'] = -grads['prb']\n",
    "        else:      \n",
    "            beta = calc_beta(vars, grads, etas, data, gradF)\n",
    "            etas['psi'] = -grads['psi'] + beta*etas['psi']\n",
    "            etas['prb'] = -grads['prb'] + beta*etas['prb']\n",
    "\n",
    "        alpha,top,bottom = calc_alpha(vars, grads, etas, data, gradF) \n",
    "        if i % pars['vis_step'] == 0:\n",
    "            plot_debug2(vars,etas,top,bottom,alpha,data)\n",
    "\n",
    "        vars['psi'] += alpha*etas['psi']\n",
    "        vars['prb'] += alpha*etas['prb']\n",
    "        \n",
    "        if i % pars['err_step'] == 0:\n",
    "            err = err_debug(vars, grads, data)    \n",
    "            print(f'{i}) {alpha=:.5f}, {err=:1.5e}',flush=True)\n",
    "            erra[i] = err\n",
    "            alphaa[i] = alpha\n",
    "\n",
    "             \n",
    "        \n",
    "    return vars,erra,alphaa\n",
    "\n",
    "vars = {}\n",
    "vars['psi'] = 1+0*cp.array(rec_paganin).copy()\n",
    "vars['prb'] = cp.ones([1,n+2*pad,n+2*pad],dtype='complex64')\n",
    "vars['shift'] = cp.array(shifts)\n",
    "data_rec = cp.array(data)\n",
    "\n",
    "pars = {'niter': 10000, 'err_step': 128, 'vis_step': 256}\n",
    "vars,erra,alphaa = cg_holo(data_rec, vars, pars)    "
   ]
  },
  {
   "cell_type": "code",
   "execution_count": null,
   "id": "b140459e",
   "metadata": {},
   "outputs": [],
   "source": []
  }
 ],
 "metadata": {
  "kernelspec": {
   "display_name": "holotomocupy",
   "language": "python",
   "name": "python3"
  },
  "language_info": {
   "codemirror_mode": {
    "name": "ipython",
    "version": 3
   },
   "file_extension": ".py",
   "mimetype": "text/x-python",
   "name": "python",
   "nbconvert_exporter": "python",
   "pygments_lexer": "ipython3",
   "version": "3.12.4"
  }
 },
 "nbformat": 4,
 "nbformat_minor": 5
}
