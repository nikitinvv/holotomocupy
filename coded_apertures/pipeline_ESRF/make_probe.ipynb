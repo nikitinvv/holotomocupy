{
 "cells": [
  {
   "cell_type": "code",
   "execution_count": null,
   "metadata": {},
   "outputs": [],
   "source": [
    "import numpy as np\n",
    "import cupy as cp\n",
    "import matplotlib.pyplot as plt\n",
    "\n",
    "from holotomocupy.holo import G\n",
    "from holotomocupy.utils import *\n",
    "\n",
    "%matplotlib inline\n",
    "\n",
    "np.random.seed(10)"
   ]
  },
  {
   "cell_type": "code",
   "execution_count": null,
   "metadata": {},
   "outputs": [],
   "source": [
    "n = 2048  # object size in each dimension\n",
    "\n",
    "noise = 0\n",
    "z1c = -19.5e-3\n",
    "# thickness of the coded aperture\n",
    "code_thickness = 1.8e-6 #in m\n",
    "# feature size\n",
    "ill_feature_size = 2e-6 #in m\n",
    "\n",
    "detector_pixelsize = 3e-6\n",
    "energy = 33.35  # [keV] xray energy\n",
    "wavelength = 1.2398419840550367e-09/energy  # [m] wave length\n",
    "focusToDetectorDistance = 1.28  # [m]\n",
    "sx0 = 3.7e-4\n",
    "z1 = np.array([4.584e-3-sx0])\n",
    "z2 = focusToDetectorDistance-z1\n",
    "distances = (z1*z2)/focusToDetectorDistance\n",
    "magnifications = focusToDetectorDistance/z1\n",
    "voxelsize = detector_pixelsize/magnifications[0]*2048/n  # object voxel size\n",
    "# magnification when propagating from the probe plane to the detector\n",
    "magnifications2 = z1/z1c\n",
    "distances2 = (z1-z1c)/(z1c/z1)#magnifications2\n",
    "# allow padding if there are shifts of the probe\n",
    "pad = n//8\n",
    "# sample size after demagnification\n",
    "ne = n+2*pad\n",
    "\n",
    "show = True\n",
    "\n",
    "flg = f'{n}_{z1c}'\n",
    "path = f'/data2/vnikitin/nfp_codes'"
   ]
  },
  {
   "cell_type": "markdown",
   "metadata": {},
   "source": [
    "## Make probe at the coded aperture position"
   ]
  },
  {
   "cell_type": "code",
   "execution_count": null,
   "metadata": {},
   "outputs": [],
   "source": [
    "!wget -nc https://g-110014.fd635.8443.data.globus.org/holotomocupy/examples_synthetic/data/prb_id16a/prb_abs_2048.tiff -P data/prb_id16a\n",
    "!wget -nc https://g-110014.fd635.8443.data.globus.org/holotomocupy/examples_synthetic/data/prb_id16a/prb_phase_2048.tiff -P data/prb_id16a\n",
    "\n",
    "prb_abs = read_tiff(f'data/prb_id16a/prb_abs_2048.tiff')[0:1]\n",
    "prb_phase = read_tiff(f'data/prb_id16a/prb_phase_2048.tiff')[0:1]\n",
    "prb = prb_abs*np.exp(1j*prb_phase).astype('complex64')\n",
    "\n",
    "\n",
    "prb = np.pad(prb[:,pad:-pad,pad:-pad],((0,0),(2*pad,2*pad),(2*pad,2*pad)),'symmetric')#prb[:, 128-pad:-128+pad, 128-pad:-128+pad]\n",
    "prb /= np.mean(np.abs(prb))\n",
    "\n",
    "v = np.arange(-(n+2*pad)//2,(n+2*pad)//2)/(n+2*pad)\n",
    "[vx,vy] = np.meshgrid(v,v)\n",
    "v=np.exp(-10*(vx**2+vy**2))\n",
    "prb = np.fft.fftshift(np.fft.fftn(np.fft.fftshift(prb)))\n",
    "prb = np.fft.fftshift(np.fft.ifftn(np.fft.fftshift(prb*v)))\n",
    "prb = prb.astype('complex64')\n",
    "\n",
    "# initial probe\n",
    "mshow_polar(prb[0],show)\n",
    "# probe at the code place\n",
    "prb = G(cp.array(prb),wavelength,voxelsize,-distances2[0])\n",
    "mshow_polar(prb[0],show)\n",
    "\n",
    "write_tiff(np.abs(prb),f'{path}/prb_abs_2048_code.tiff')\n",
    "write_tiff(np.angle(prb),f'{path}/prb_phase_2048_code.tiff')"
   ]
  }
 ],
 "metadata": {
  "kernelspec": {
   "display_name": "holotomocupy",
   "language": "python",
   "name": "python3"
  },
  "language_info": {
   "codemirror_mode": {
    "name": "ipython",
    "version": 3
   },
   "file_extension": ".py",
   "mimetype": "text/x-python",
   "name": "python",
   "nbconvert_exporter": "python",
   "pygments_lexer": "ipython3",
   "version": "3.12.4"
  }
 },
 "nbformat": 4,
 "nbformat_minor": 2
}
