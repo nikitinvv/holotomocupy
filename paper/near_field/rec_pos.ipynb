{
 "cells": [
  {
   "cell_type": "code",
   "execution_count": null,
   "metadata": {},
   "outputs": [],
   "source": [
    "import numpy as np\n",
    "import cupy as cp\n",
    "import matplotlib.pyplot as plt\n",
    "%matplotlib inline"
   ]
  },
  {
   "cell_type": "markdown",
   "metadata": {},
   "source": [
    "# extra functons"
   ]
  },
  {
   "cell_type": "code",
   "execution_count": null,
   "metadata": {},
   "outputs": [],
   "source": [
    "def reprod(a,b):\n",
    "    return a.real*b.real+a.imag*b.imag\n",
    "\n",
    "def redot(a,b,axis=None):    \n",
    "    res = np.sum(reprod(a,b),axis=axis)        \n",
    "    return res\n",
    "\n",
    "def improd(a,b):\n",
    "    return -a.real*b.imag+a.imag*b.real\n",
    "\n",
    "def imdot(a,b,axis=None):    \n",
    "    res = np.sum(improd(a,b),axis=axis)        \n",
    "    return res"
   ]
  },
  {
   "cell_type": "markdown",
   "metadata": {},
   "source": []
  },
  {
   "cell_type": "markdown",
   "metadata": {},
   "source": [
    "# create some 2d object"
   ]
  },
  {
   "cell_type": "code",
   "execution_count": null,
   "metadata": {},
   "outputs": [],
   "source": [
    "n = 128\n",
    "psi = np.zeros([n,n],dtype='complex64')\n",
    "psi[n//4:-n//4,n//4:-n//4] = 2+1j\n",
    "plt.imshow(psi.real)\n",
    "plt.colorbar()"
   ]
  },
  {
   "cell_type": "markdown",
   "metadata": {},
   "source": [
    "# generate shifts "
   ]
  },
  {
   "cell_type": "code",
   "execution_count": null,
   "metadata": {},
   "outputs": [],
   "source": [
    "npos = 16\n",
    "shifts = 64*(np.random.random([npos,2])-0.5).astype('float32')\n",
    "print(shifts)\n"
   ]
  },
  {
   "cell_type": "markdown",
   "metadata": {},
   "source": [
    "# forward and adjoint shift operators"
   ]
  },
  {
   "cell_type": "code",
   "execution_count": null,
   "metadata": {},
   "outputs": [],
   "source": [
    "def S(psi,p):\n",
    "    x = np.fft.fftfreq(n).astype('float32')\n",
    "    [y, x] = np.meshgrid(x, x)\n",
    "    pp = np.exp(-2*np.pi*1j * (y*p[:, 1, None, None]+x*p[:, 0, None, None])).astype('complex64')\n",
    "    res = np.fft.ifft2(pp*np.fft.fft2(psi))\n",
    "    return res\n",
    "\n",
    "def ST(psi,p):    \n",
    "    return S(psi,-p)"
   ]
  },
  {
   "cell_type": "markdown",
   "metadata": {},
   "source": [
    "# generate data"
   ]
  },
  {
   "cell_type": "code",
   "execution_count": null,
   "metadata": {},
   "outputs": [],
   "source": [
    "data = S(psi,shifts)\n",
    "plt.imshow(data[0].real)\n",
    "plt.colorbar()\n",
    "plt.show()\n",
    "plt.imshow(data[npos-1].real)\n",
    "plt.colorbar()\n",
    "plt.show()"
   ]
  },
  {
   "cell_type": "markdown",
   "metadata": {},
   "source": [
    "# We try to solve \n",
    "# $$ \\argmin_x F(x)=\\argmin_x\\|S_x\\psi-d\\|_2^2$$"
   ]
  },
  {
   "cell_type": "markdown",
   "metadata": {},
   "source": [
    "# Gradients"
   ]
  },
  {
   "cell_type": "code",
   "execution_count": null,
   "metadata": {},
   "outputs": [],
   "source": [
    "def gradientF(psi, x, data):       \n",
    "    res = 2*(S(psi,x)-data)\n",
    "    return res\n",
    "    \n",
    "def gradientx(psi, x, gradF):    \n",
    "    # frequencies\n",
    "    xi1 = np.fft.fftfreq(n).astype('float32')\n",
    "    xi2, xi1 = np.meshgrid(xi1, xi1)\n",
    "\n",
    "    # multipliers in frequencies\n",
    "    w = np.exp(-2 * np.pi * 1j * (xi1 * x[:, 0, None, None]+xi2 * x[:, 1, None, None]))\n",
    "        \n",
    "    tmp = np.fft.fft2(psi) \n",
    "    dt1 = np.fft.ifft2(w*xi1*tmp)\n",
    "    dt2 = np.fft.ifft2(w*xi2*tmp)\n",
    "    \n",
    "    # inner product with gradF\n",
    "    gradx = np.zeros([npos, 2], dtype='float32')\n",
    "    gradx[:, 0] = -2 * np.pi * imdot(gradF, dt1, axis=(1, 2))\n",
    "    gradx[:, 1] = -2 * np.pi * imdot(gradF, dt2, axis=(1, 2))\n",
    "\n",
    "    return gradx"
   ]
  },
  {
   "cell_type": "markdown",
   "metadata": {},
   "source": [
    "# Hessians"
   ]
  },
  {
   "cell_type": "code",
   "execution_count": null,
   "metadata": {},
   "outputs": [],
   "source": [
    "\n",
    "def hessianF(psi,x,dt1,dt2,data):   \n",
    "    res = 2*redot(dt1,dt2)\n",
    "    return res\n",
    "    \n",
    "def hessian(psi,x,dx1,dx2,data,gradF):    \n",
    "    # frequencies\n",
    "    xi1 = np.fft.fftfreq(n).astype('float32')\n",
    "    [xi2, xi1] = np.meshgrid(xi1, xi1)    \n",
    "\n",
    "    # multipliers in frequencies\n",
    "    dx1 = dx1[:,:,np.newaxis,np.newaxis]\n",
    "    dx2 = dx2[:,:,np.newaxis,np.newaxis]\n",
    "    w = np.exp(-2*np.pi*1j * (xi2*x[:, 1, None, None]+xi1*x[:, 0, None, None]))\n",
    "    w1 = xi1*dx1[:,0]+xi2*dx1[:,1]\n",
    "    w2 = xi1*dx2[:,0]+xi2*dx2[:,1]\n",
    "    w12 = xi1**2*dx1[:,0]*dx2[:,0]+ \\\n",
    "                xi1*xi2*(dx1[:,0]*dx2[:,1]+dx1[:,1]*dx2[:,0])+ \\\n",
    "                xi2**2*dx1[:,1]*dx2[:,1]    \n",
    "    \n",
    "    tmp = np.fft.fft2(psi)        \n",
    "    dt1 = -2*np.pi*1j*np.fft.ifft2(w*w1*tmp)\n",
    "    dt2 = -2*np.pi*1j*np.fft.ifft2(w*w2*tmp)\n",
    "    d2t1 = -4*np.pi**2*np.fft.ifft2(w*w12*tmp)\n",
    "                \n",
    "    res = redot(gradF,d2t1)+hessianF(psi, x, dt1, dt2, data)             \n",
    "    return res\n"
   ]
  },
  {
   "cell_type": "markdown",
   "metadata": {},
   "source": [
    "# Alpha, beta"
   ]
  },
  {
   "cell_type": "code",
   "execution_count": null,
   "metadata": {},
   "outputs": [],
   "source": [
    "def calc_alpha(psi,x,dx1,dx2,gradF,d):    \n",
    "    top = -redot(dx1,dx2)    # note gradientx is with '-'\n",
    "    bottom = hessian(psi,x,dx2,dx2,d,gradF)     \n",
    "    return top/bottom, top, bottom\n",
    "\n",
    "def calc_beta(psi,x,dx1,dx2,gradF,d):    \n",
    "    top = hessian(psi,x,dx1,dx2,d,gradF)        \n",
    "    bottom = hessian(psi,x,dx2,dx2,d,gradF)        \n",
    "    return top/bottom\n"
   ]
  },
  {
   "cell_type": "markdown",
   "metadata": {},
   "source": [
    "# BH"
   ]
  },
  {
   "cell_type": "code",
   "execution_count": null,
   "metadata": {},
   "outputs": [],
   "source": [
    "def minf(psi,x,data):\n",
    "    Spsi = S(psi,x)\n",
    "    f = np.linalg.norm(Spsi-data)**2\n",
    "    return f\n",
    "\n",
    "def plot_debug(psi, x, eta, top, bottom, alpha, data):\n",
    "    npp = 17\n",
    "    errt = np.zeros(npp*2)\n",
    "    errt2 = np.zeros(npp*2)\n",
    "    for k in range(0,npp*2):\n",
    "        xt = x+(alpha*k/(npp-1))*eta\n",
    "        errt[k] = minf(psi,xt,data)\n",
    "                \n",
    "    t = alpha*(np.arange(2*npp))/(npp-1)    \n",
    "    errt2 = minf(psi,x,data) -top*t+0.5*bottom*t**2\n",
    "    plt.plot(alpha*np.arange(2*npp)/(npp-1),errt,'.')\n",
    "    plt.plot(alpha*np.arange(2*npp)/(npp-1),errt2,'.')\n",
    "    plt.show()\n",
    "\n",
    "def BH(data, psi, x, niter):\n",
    "    \n",
    "    for i in range(niter):\n",
    "        gradF = gradientF(psi,x,data)\n",
    "        grad = gradientx(psi,x,gradF)    \n",
    "        \n",
    "        if i==0:\n",
    "            eta = -grad        \n",
    "        else:      \n",
    "            beta = calc_beta(psi,x,grad,eta,gradF,data)\n",
    "            eta  = -grad+beta*eta            \n",
    "         \n",
    "        alpha,top,bottom = calc_alpha(psi,x,grad,eta,gradF,data)\n",
    "\n",
    "        plot_debug(psi,x,eta,top,bottom,alpha,data)                \n",
    "\n",
    "        x += alpha*eta        \n",
    "\n",
    "        print('error', minf(psi,x,data))\n",
    "    return x\n",
    "\n",
    "# make some error in shifts and run reconstruction\n",
    "# if we increase c then we get divergence\n",
    "c = 1\n",
    "x = shifts+c*(np.random.random(shifts.shape)-0.5).astype('float32')\n",
    "\n",
    "BH(data, psi, x, 10)"
   ]
  }
 ],
 "metadata": {
  "kernelspec": {
   "display_name": "holotomocupy",
   "language": "python",
   "name": "python3"
  },
  "language_info": {
   "codemirror_mode": {
    "name": "ipython",
    "version": 3
   },
   "file_extension": ".py",
   "mimetype": "text/x-python",
   "name": "python",
   "nbconvert_exporter": "python",
   "pygments_lexer": "ipython3",
   "version": "3.12.8"
  }
 },
 "nbformat": 4,
 "nbformat_minor": 2
}
