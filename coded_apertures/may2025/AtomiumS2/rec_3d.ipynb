{
 "cells": [
  {
   "cell_type": "code",
   "execution_count": null,
   "id": "fad77fab-e206-47c1-9655-088d14fe30cb",
   "metadata": {},
   "outputs": [],
   "source": [
    "import numpy as np\n",
    "import cupy as cp\n",
    "import sys\n",
    "import pandas as pd\n",
    "import matplotlib.pyplot as plt\n",
    "import h5py\n",
    "import dxchange\n",
    "from types import SimpleNamespace\n",
    "from scipy.interpolate import interp1d\n",
    "\n",
    "import warnings\n",
    "warnings.filterwarnings(\"ignore\", message=f\".*peer.*\")\n",
    "\n",
    "sys.path.insert(0, '..')\n",
    "from utils import *\n",
    "from rec import Rec\n",
    "\n"
   ]
  },
  {
   "cell_type": "markdown",
   "id": "aaaadd55",
   "metadata": {},
   "source": [
    "# error in pos from multidistance"
   ]
  },
  {
   "cell_type": "code",
   "execution_count": null,
   "id": "3fa77614",
   "metadata": {},
   "outputs": [],
   "source": [
    "with h5py.File(f'/data/vnikitin/ESRF/ID16A/20240924_rec/AtomiumS2/AtomiumS2_HT_007nm_corr.h5') as fid:\n",
    "    r = fid[f'/exchange/cshifts_final'][:,0]\n",
    "rec = np.load('/data/vnikitin/ESRF/ID16A/20240924_rec/AtomiumS2/AtomiumS2_HT_007nm/sfinal_1_4_1_30_30_795.5_0.0/r0512.npy')[:,0]*2\n",
    "\n",
    "t = np.zeros([r.shape[0],2],dtype='float32')\n",
    "t[:,0] = np.linspace(-1,1.25,len(r))\n",
    "t[:,1] = 0*np.linspace(-1,1.25,len(r))\n",
    "addition= t**2*12\n",
    "\n",
    "rr = rec-(r-addition)\n",
    "\n",
    "f = interp1d(np.arange(1800),rr[:,0],fill_value=\"extrapolate\")\n",
    "rrny = f(np.arange(7200)/4)\n",
    "f = interp1d(np.arange(1800),rr[:,1],fill_value=\"extrapolate\")\n",
    "rrnx = f(np.arange(7200)/4)\n",
    "\n",
    "rrn = np.zeros([rrnx.shape[0],2],dtype='float32')\n",
    "rrn[:,0] = rrny\n",
    "rrn[:,1] = rrnx\n",
    "\n",
    "# plt.plot(rrn)\n",
    "# plt.title('new error in pos')\n",
    "# plt.show()"
   ]
  },
  {
   "cell_type": "code",
   "execution_count": null,
   "id": "c4e686b1",
   "metadata": {},
   "outputs": [],
   "source": [
    "bin = 2\n",
    "ntheta = 1800"
   ]
  },
  {
   "cell_type": "code",
   "execution_count": null,
   "id": "e48e6acc",
   "metadata": {},
   "outputs": [],
   "source": [
    "with h5py.File(f'/data/vnikitin/ESRF/ID16A/20240924_h5/AtomiumS2/AtomiumS2_codedht_random_007nm/data_corrected.h5') as fid:\n",
    "    sx0 = fid['/exchange/sx0'][0]    \n",
    "    detector_pixelsize = fid['/exchange/detector_pixelsize'][0]    \n",
    "    focusToDetectorDistance = fid['/exchange/focusdetectordistance'][0]    \n",
    "    z10 = fid['/exchange/z1'][0]    \n",
    "    \n",
    "    theta = fid['/exchange/theta'][::7200//ntheta]/180*np.pi\n",
    "    shifts_cor = fid['/exchange/shifts_cor'][::7200//ntheta]\n",
    "    shifts_code = fid['/exchange/shifts_code'][::7200//ntheta]    \n",
    "    cdata2 = fid['/exchange/cdata2'][::7200//ntheta]\n",
    "    data = fid['/exchange/data'][::7200//ntheta]        \n",
    "\n",
    "    cdata = fid['/exchange/cdata'][:]    \n",
    "    ref = fid['/exchange/ref'][:]\n",
    "    q = fid['/exchange/prb'][:]\n",
    "    code = fid['/exchange/code'][:]    \n",
    "    \n",
    "\n",
    "for k in range(bin):\n",
    "    data = 0.5*(data[:,::2]+data[:,1::2])\n",
    "    data = 0.5*(data[:,:,::2]+data[:,:,1::2])\n",
    "    ref = 0.5*(ref[::2]+ref[1::2])\n",
    "    ref = 0.5*(ref[:,::2]+ref[:,1::2])\n",
    "    cdata = 0.5*(cdata[::2]+cdata[1::2])\n",
    "    cdata = 0.5*(cdata[:,::2]+cdata[:,1::2])\n",
    "    cdata2 = 0.5*(cdata2[:,::2]+cdata2[:,1::2])\n",
    "    cdata2 = 0.5*(cdata2[:,:,::2]+cdata2[:,:,1::2])\n",
    "    q = 0.5*(q[::2]+q[1::2])\n",
    "    q = 0.5*(q[:,::2]+q[:,1::2])\n",
    "    code = 0.5*(code[::2]+code[1::2])\n",
    "    code = 0.5*(code[:,::2]+code[:,1::2])\n",
    "shifts_cor/=2**bin\n",
    "shifts_code/=2**bin"
   ]
  },
  {
   "cell_type": "code",
   "execution_count": null,
   "id": "3d812b48",
   "metadata": {},
   "outputs": [],
   "source": [
    "z1c = -17.75e-3\n",
    "energy = 33.35  # [keV] xray energy\n",
    "wavelength = 1.2398419840550367e-09/energy  # [m] wave length\n",
    "z1 = z10 - sx0\n",
    "z2 = focusToDetectorDistance-z1\n",
    "distance = (z1*z2)/focusToDetectorDistance\n",
    "magnifications = focusToDetectorDistance/z1\n",
    "voxelsize = np.abs(detector_pixelsize/magnifications)\n",
    "magnifications2 = z1/z1c\n",
    "distancec = (z1-z1c)/(z1c/z1)\n",
    "show = False"
   ]
  },
  {
   "cell_type": "code",
   "execution_count": null,
   "id": "14f44d56",
   "metadata": {},
   "outputs": [],
   "source": [
    "args = SimpleNamespace()\n",
    "args.ngpus = 4\n",
    "args.lam = 50\n",
    "\n",
    "args.n = 2048//2**bin\n",
    "voxelsize *= 2048/args.n\n",
    "\n",
    "args.ntheta = ntheta\n",
    "args.ncode = 8704*args.n//2048\n",
    "args.pad = args.n // 8\n",
    "args.npsi = args.n + 2 * args.pad\n",
    "args.nq = args.n + 2 * args.pad\n",
    "args.ex = 8\n",
    "args.npatch = args.nq + 2 * args.ex\n",
    "args.nchunk = 32\n",
    "\n",
    "args.voxelsize = voxelsize\n",
    "args.wavelength = wavelength\n",
    "args.distance = distance\n",
    "args.distancec = distancec\n",
    "args.eps = 1e-12\n",
    "args.rho = [1, 20, 10]\n",
    "args.path_out = f\"/data/vnikitin/ESRF/ID16A/20240924_recMay//AtomiumS2/AtomiumS2_codedht_random_007nm/rmultidistance_{args.n}_{args.lam}_{args.rho[1]}_{args.rho[2]}\"\n",
    "args.show = show\n",
    "\n",
    "args.niter=4097\n",
    "args.vis_step=4\n",
    "args.err_step=4\n",
    "args.rotation_axis=756*args.n/1024-args.n//4+args.pad\n",
    "\n",
    "args.theta = theta\n",
    "# create class\n",
    "cl_rec = Rec(args)\n"
   ]
  },
  {
   "cell_type": "markdown",
   "id": "2d3e1339",
   "metadata": {},
   "source": []
  },
  {
   "cell_type": "code",
   "execution_count": null,
   "id": "8f3563fc",
   "metadata": {},
   "outputs": [],
   "source": [
    "rdata = data/cdata2\n",
    "mshow(rdata[-1],args.show,vmax=1.5,vmin=0.7)"
   ]
  },
  {
   "cell_type": "code",
   "execution_count": null,
   "id": "382b95aa",
   "metadata": {},
   "outputs": [],
   "source": [
    "def Paganin(data, wavelength, voxelsize, delta_beta, alpha):\n",
    "    n = data.shape[-1]\n",
    "    fx = cp.fft.fftfreq(2*n, d=voxelsize).astype(\"float32\")\n",
    "    [fx, fy] = cp.meshgrid(fx, fx)\n",
    "    data = np.pad(data,((n//2,n//2),(n//2,n//2)),'edge')\n",
    "    rad_freq = cp.fft.fft2(data)\n",
    "    taylorExp = 1 + wavelength * distance * cp.pi * (delta_beta) * (fx**2 + fy**2)\n",
    "    numerator = taylorExp * (rad_freq)\n",
    "    denominator = taylorExp**2 + alpha\n",
    "    phase = cp.log(cp.real(cp.fft.ifft2(numerator / denominator)))\n",
    "    phase = delta_beta * 0.5 * phase\n",
    "    phase = phase[n//2:-n//2,n//2:-n//2]\n",
    "    return phase\n",
    "\n",
    "def rec_init(rdata):\n",
    "    recMultiPaganin = np.zeros([args.ntheta,args.npsi, args.npsi], dtype=\"float32\")\n",
    "    for j in range(0, args.ntheta):\n",
    "        r = cp.array(rdata[j])\n",
    "        r = cp.pad(r,((args.pad,args.pad),(args.pad,args.pad)),'edge')\n",
    "        v = cp.zeros([args.npsi,args.npsi],dtype='complex64')\n",
    "        v = cp.linspace(0,1,args.pad)\n",
    "        v = v**5*(126-420*v+540*v**2-315*v**3+70*v**4)           \n",
    "\n",
    "        vv = cp.ones(args.npsi)\n",
    "        vv[args.pad:2*args.pad]=v\n",
    "        vv[:args.pad] = 0\n",
    "        vv[args.npsi-2*args.pad:args.npsi-args.pad]=1-v\n",
    "        vv[args.npsi-args.pad:] = 0\n",
    "        vv=cp.outer(vv,vv)\n",
    "        r = r*vv+(1-vv)*np.mean(r)\n",
    "        r = Paganin(r, wavelength, voxelsize, 1.05, 1e-12)     \n",
    "        r-=0.5*(np.mean(r[:args.n//32,:args.n//32])+np.mean(r[-args.n//32:,-args.n//32:]))\n",
    "        recMultiPaganin[j] = r.get()   \n",
    "\n",
    "    recMultiPaganin = np.exp(1j * recMultiPaganin)\n",
    "    return recMultiPaganin\n",
    "\n",
    "psi_init = rec_init(rdata)\n",
    "mshow_polar(psi_init[0],args.show)"
   ]
  },
  {
   "cell_type": "code",
   "execution_count": null,
   "id": "6bc4b547",
   "metadata": {},
   "outputs": [],
   "source": [
    "psi_data = np.log(psi_init)/1j\n",
    "rpsi = shifts_cor.copy()"
   ]
  },
  {
   "cell_type": "code",
   "execution_count": null,
   "id": "44014652",
   "metadata": {},
   "outputs": [],
   "source": [
    "# approx correction of shifts"
   ]
  },
  {
   "cell_type": "code",
   "execution_count": null,
   "id": "44895a21",
   "metadata": {},
   "outputs": [],
   "source": [
    "#adjustments\n",
    "v=np.arange(-ntheta//2,ntheta//2)/(ntheta//2)\n",
    "cc = 2*v**2\n",
    "rpsi[:,0]=shifts_cor[:,0]+cc*args.n/512\n",
    "mshow_polar(psi_data[0],args.show)\n",
    "dxchange.write_tiff_stack(np.real(cl_rec.STpsi(psi_data,rpsi)),'/data/tmp/psi_data/r',overwrite=True)"
   ]
  },
  {
   "cell_type": "code",
   "execution_count": null,
   "id": "b51ed0f9",
   "metadata": {},
   "outputs": [],
   "source": [
    "# correction of shifts based on multidistnace appraoch"
   ]
  },
  {
   "cell_type": "code",
   "execution_count": null,
   "id": "a3e7acca",
   "metadata": {},
   "outputs": [],
   "source": [
    "rpsi[:,:]=shifts_cor[:,:]+rrn[::7200//ntheta,:]*args.n/2048\n",
    "mshow_polar(psi_data[0],args.show)\n",
    "dxchange.write_tiff_stack(np.real(cl_rec.STpsi(psi_data,rpsi)),'/data/tmp/psi_data1/r',overwrite=True)"
   ]
  },
  {
   "cell_type": "code",
   "execution_count": null,
   "id": "181cc564",
   "metadata": {},
   "outputs": [],
   "source": [
    "u_init = cl_rec.rec_tomo(psi_data,rpsi,32)\n",
    "mshow_complex(u_init[u_init.shape[0]//2],args.show)"
   ]
  },
  {
   "cell_type": "code",
   "execution_count": null,
   "id": "c580e0b3",
   "metadata": {},
   "outputs": [],
   "source": [
    "vars = {}\n",
    "vars[\"code\"] = cp.array(code)\n",
    "vars[\"u\"] = np.array(u_init)\n",
    "vars[\"Ru\"] = cl_rec.R(vars['u'])\n",
    "vars[\"psi\"] = cl_rec.expR(vars['Ru'])\n",
    "vars[\"q\"] = cp.array(q)\n",
    "vars[\"ri\"] = np.round(shifts_code).astype(\"int32\")\n",
    "vars[\"r\"] = np.array(shifts_code - vars[\"ri\"]).astype(\"float32\")\n",
    "vars[\"rpsi\"] = np.array(rpsi).astype(\"float32\")\n",
    "vars[\"table\"] = pd.DataFrame(columns=[\"iter\", \"err\", \"time\"])\n",
    "vars = cl_rec.BH(data, vars)"
   ]
  }
 ],
 "metadata": {
  "kernelspec": {
   "display_name": "holotomocupy",
   "language": "python",
   "name": "python3"
  },
  "language_info": {
   "codemirror_mode": {
    "name": "ipython",
    "version": 3
   },
   "file_extension": ".py",
   "mimetype": "text/x-python",
   "name": "python",
   "nbconvert_exporter": "python",
   "pygments_lexer": "ipython3",
   "version": "3.12.8"
  }
 },
 "nbformat": 4,
 "nbformat_minor": 5
}
