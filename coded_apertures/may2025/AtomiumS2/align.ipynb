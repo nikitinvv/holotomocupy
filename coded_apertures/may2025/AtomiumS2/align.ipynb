{
 "cells": [
  {
   "cell_type": "code",
   "execution_count": null,
   "metadata": {},
   "outputs": [],
   "source": [
    "import cv2\n",
    "import numpy as np\n",
    "import glob\n",
    "\n",
    "def phase_correlation_alignment(img1, img2):\n",
    "    \"\"\"Align img2 to img1 using Phase Correlation (Fourier shift).\"\"\"\n",
    "    # Convert images to float32 for FFT\n",
    "    img1_f = np.float32(img1)\n",
    "    img2_f = np.float32(img2)\n",
    "\n",
    "    # Compute phase correlation\n",
    "    shift = cv2.phaseCorrelate(img1_f, img2_f)\n",
    "    \n",
    "    # Extract translation components\n",
    "    tx, ty = shift[0]\n",
    "    return tx,ty\n",
    "\n",
    "def process_stack(imgs):\n",
    "    \"\"\"Align a stack of images assuming sequential order.\"\"\"\n",
    "    aligned_images = []\n",
    "    # base_img = cv2.imread(image_paths[0], cv2.IMREAD_GRAYSCALE)\n",
    "    base_img = imgs[0]\n",
    "    aligned_images.append(base_img)\n",
    "\n",
    "    for i in range(1, len(imgs)):\n",
    "        img = imgs[i]\n",
    "        shiftx,shifty = phase_correlation_alignment(base_img, img)\n",
    "        print(f\"Image {i} aligned with translation: {shiftx,shifty}\")\n",
    "\n",
    "    return aligned_images\n",
    "\n",
    "# Example usage"
   ]
  },
  {
   "cell_type": "code",
   "execution_count": null,
   "metadata": {},
   "outputs": [],
   "source": [
    "import dxchange\n",
    "d = dxchange.read_tiff_stack('/data/tmp/psi_data/r_00000.tiff',ind=np.arange(1440))\n"
   ]
  },
  {
   "cell_type": "code",
   "execution_count": null,
   "metadata": {},
   "outputs": [],
   "source": [
    "aligned = process_stack(d)"
   ]
  }
 ],
 "metadata": {
  "kernelspec": {
   "display_name": "holotomocupy",
   "language": "python",
   "name": "python3"
  },
  "language_info": {
   "codemirror_mode": {
    "name": "ipython",
    "version": 3
   },
   "file_extension": ".py",
   "mimetype": "text/x-python",
   "name": "python",
   "nbconvert_exporter": "python",
   "pygments_lexer": "ipython3",
   "version": "3.12.8"
  }
 },
 "nbformat": 4,
 "nbformat_minor": 2
}
