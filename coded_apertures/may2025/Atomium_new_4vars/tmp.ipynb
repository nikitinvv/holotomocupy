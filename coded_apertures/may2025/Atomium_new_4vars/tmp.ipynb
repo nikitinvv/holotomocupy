{
 "cells": [
  {
   "cell_type": "code",
   "execution_count": null,
   "id": "fad77fab-e206-47c1-9655-088d14fe30cb",
   "metadata": {},
   "outputs": [],
   "source": [
    "import numpy as np\n",
    "import cupy as cp\n",
    "import sys\n",
    "import scipy.ndimage as ndimage\n",
    "import matplotlib.pyplot as plt\n",
    "from types import SimpleNamespace\n",
    "import h5py\n",
    "import dxchange\n",
    "import warnings\n",
    "import pandas as pd\n",
    "warnings.filterwarnings(\"ignore\", message=f\".*peer.*\")\n",
    "\n",
    "sys.path.insert(0, '..')\n",
    "from utils import *\n",
    "from rec import Rec"
   ]
  },
  {
   "cell_type": "code",
   "execution_count": null,
   "id": "59fa16f2-1f9c-4b3a-a330-e10942f12234",
   "metadata": {},
   "outputs": [],
   "source": [
    "cf = 0\n",
    "ntheta = 1\n",
    "path = f'/data/vnikitin/ESRF/ID16A/20240924_rec_ca/data/'\n",
    "iter = 2048\n",
    "with  h5py.File(f'{path}/data_atomium.h5','r') as fid:\n",
    "    code = fid[f'/exchange/code{iter}'][:].astype('complex64')\n",
    "    q = fid[f'/exchange/prb{iter}'][:].astype('complex64')    \n",
    "    shifts_cor = fid[f'/exchange/shifts_cor{iter}'][::7200//ntheta].astype('float32')\n",
    "    shifts_code = fid[f'/exchange/shifts_code{iter}'][::7200//ntheta].astype('float32')    \n",
    "    z1 = fid['/exchange/z1'][0]\n",
    "    detector_pixelsize = fid['/exchange/detector_pixelsize'][0]\n",
    "    focusdetectordistance = fid['/exchange/focusdetectordistance'][0]\n",
    "    energy = fid['/exchange/energy'][0]\n",
    "\n",
    "with  h5py.File(f'{path}/data_ca.h5','r') as fid:\n",
    "    z1c = fid['/exchange/z1'][0] \n",
    "\n",
    "q = q[q.shape[0]//2-q.shape[0]//2**cf//2:q.shape[0]//2+q.shape[0]//2**cf//2,\n",
    "        q.shape[1]//2-q.shape[1]//2**cf//2:q.shape[1]//2+q.shape[1]//2**cf//2]\n",
    "code = code[code.shape[0]//2-code.shape[0]//2**cf//2:code.shape[0]//2+code.shape[0]//2**cf//2,\n",
    "        code.shape[1]//2-code.shape[1]//2**cf//2:code.shape[1]//2+code.shape[1]//2**cf//2]\n",
    "    \n",
    "shifts_cor/=2**cf\n",
    "shifts_code/=2**cf"
   ]
  },
  {
   "cell_type": "code",
   "execution_count": null,
   "id": "2123d6e1",
   "metadata": {},
   "outputs": [],
   "source": [
    "wavelength = 1.24e-09/energy  # [m] wave length\n",
    "focusToDetectorDistance = 1.28  # [m]\n",
    "z2 = focusToDetectorDistance-z1\n",
    "distance = (z1*z2)/focusToDetectorDistance\n",
    "magnification = focusToDetectorDistance/z1\n",
    "voxelsize = np.abs(detector_pixelsize/magnification) # object voxel size\n",
    "magnifications2 = z1/z1c\n",
    "distancec = (z1-z1c)/(z1c/z1)\n",
    "show = True"
   ]
  },
  {
   "cell_type": "code",
   "execution_count": null,
   "id": "dc0c4bcb",
   "metadata": {},
   "outputs": [],
   "source": [
    "args = SimpleNamespace()\n",
    "args.ngpus = 4\n",
    "\n",
    "args.n = 2048//2**cf\n",
    "args.ntheta = ntheta\n",
    "args.ncode = 8192*args.n//2048\n",
    "args.pad = 32\n",
    "args.npsi = args.n + 2 * args.pad\n",
    "args.nq = args.n + 2 * args.pad\n",
    "args.ex = 8\n",
    "args.npatch = args.nq + 2 * args.ex\n",
    "args.nchunk = 32\n",
    "\n",
    "args.voxelsize = voxelsize\n",
    "args.wavelength = wavelength\n",
    "args.distance = distance\n",
    "args.distancec = distancec\n",
    "args.rotation_axis=756*args.n/1024-args.n//4+args.pad\n",
    "args.show = True\n",
    "args.theta = np.linspace(0,np.pi,ntheta).astype('float32')\n",
    "# create class\n",
    "# cl_rec = Rec(args)\n",
    "print(voxelsize,distance,distancec)"
   ]
  },
  {
   "cell_type": "markdown",
   "id": "0935ab04",
   "metadata": {},
   "source": []
  },
  {
   "cell_type": "code",
   "execution_count": null,
   "id": "11670db5",
   "metadata": {},
   "outputs": [],
   "source": [
    "q = np.pad(q,((args.pad,args.pad),(args.pad,args.pad)),'symmetric')"
   ]
  },
  {
   "cell_type": "markdown",
   "id": "781fd8c7",
   "metadata": {},
   "source": [
    "# introdcue some floating part in shifts code:"
   ]
  },
  {
   "cell_type": "code",
   "execution_count": null,
   "id": "a3aba95b",
   "metadata": {},
   "outputs": [],
   "source": [
    "np.random.seed(10)\n",
    "shifts_code+=2*(np.random.random([ntheta,2])-0.5).astype('float32')"
   ]
  },
  {
   "cell_type": "code",
   "execution_count": null,
   "id": "72836e93",
   "metadata": {},
   "outputs": [],
   "source": [
    "mshow_polar(q,show)"
   ]
  },
  {
   "cell_type": "code",
   "execution_count": null,
   "id": "8e624224",
   "metadata": {},
   "outputs": [],
   "source": [
    "mshow_complex(q,show)"
   ]
  }
 ],
 "metadata": {
  "kernelspec": {
   "display_name": "holotomocupy",
   "language": "python",
   "name": "python3"
  },
  "language_info": {
   "codemirror_mode": {
    "name": "ipython",
    "version": 3
   },
   "file_extension": ".py",
   "mimetype": "text/x-python",
   "name": "python",
   "nbconvert_exporter": "python",
   "pygments_lexer": "ipython3",
   "version": "3.12.8"
  }
 },
 "nbformat": 4,
 "nbformat_minor": 5
}
