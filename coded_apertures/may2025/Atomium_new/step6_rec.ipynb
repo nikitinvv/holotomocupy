{
 "cells": [
  {
   "cell_type": "code",
   "execution_count": null,
   "id": "fad77fab-e206-47c1-9655-088d14fe30cb",
   "metadata": {},
   "outputs": [],
   "source": [
    "import numpy as np\n",
    "import cupy as cp\n",
    "import sys\n",
    "import scipy.ndimage as ndimage\n",
    "import matplotlib.pyplot as plt\n",
    "from types import SimpleNamespace\n",
    "import h5py\n",
    "import dxchange\n",
    "import warnings\n",
    "import pandas as pd\n",
    "warnings.filterwarnings(\"ignore\", message=f\".*peer.*\")\n",
    "\n",
    "sys.path.insert(0, '..')\n",
    "from utils import *\n",
    "from rec import Rec"
   ]
  },
  {
   "cell_type": "code",
   "execution_count": null,
   "id": "59fa16f2-1f9c-4b3a-a330-e10942f12234",
   "metadata": {},
   "outputs": [],
   "source": [
    "bin = 3\n",
    "ntheta = 360\n",
    "path = f'/data/vnikitin/ESRF/ID16A/20240924_rec_ca/data/'\n",
    "with  h5py.File(f'{path}/data_atomium.h5','r') as fid:\n",
    "    code = fid[f'/exchange/code'][:].astype('complex64')\n",
    "    q = fid[f'/exchange/prb'][:].astype('complex64')    \n",
    "    shifts_cor = fid[f'/exchange/shifts_cor'][::7200//ntheta].astype('float32')\n",
    "    shifts_code = fid[f'/exchange/shifts_code'][::7200//ntheta].astype('float32')    \n",
    "    z1 = fid['/exchange/z1'][0]\n",
    "    detector_pixelsize = fid['/exchange/detector_pixelsize'][0]\n",
    "    focusdetectordistance = fid['/exchange/focusdetectordistance'][0]\n",
    "    energy = fid['/exchange/energy'][0]\n",
    "\n",
    "with  h5py.File(f'{path}/data_ca.h5','r') as fid:\n",
    "    z1c = fid['/exchange/z1'][0] \n",
    "\n",
    "for k in range(bin):\n",
    "    q = 0.5*(q[::2]+q[1::2])\n",
    "    q = 0.5*(q[:,::2]+q[:,1::2])\n",
    "    code = 0.5*(code[::2]+code[1::2])\n",
    "    code = 0.5*(code[:,::2]+code[:,1::2])\n",
    "shifts_cor/=2**bin\n",
    "shifts_code/=2**bin\n",
    "# v = np.arange(-q.shape[-1]//2,q.shape[-1]//2)/q.shape[-1]\n",
    "# [vx,vy] = np.meshgrid(v,v)\n",
    "# v=np.exp(-20*(vx**2+vy**2))\n",
    "# q = np.fft.fftshift(np.fft.fftn(np.fft.fftshift(q)))\n",
    "# q = np.fft.fftshift(np.fft.ifftn(np.fft.fftshift(q*v)))\n",
    "# q = q.astype('complex64')\n",
    "\n",
    "# v = np.arange(-code.shape[-1]//2,code.shape[-1]//2)/q.shape[-1]\n",
    "# [vx,vy] = np.meshgrid(v,v)\n",
    "# v=np.exp(-0.2*(vx**2+vy**2))\n",
    "# code = np.fft.fftshift(np.fft.fftn(np.fft.fftshift(code)))\n",
    "# code = np.fft.fftshift(np.fft.ifftn(np.fft.fftshift(code*v)))\n",
    "# code = code.astype('complex64')\n",
    "cp.save('shifts_code',shifts_code)\n",
    "cp.save('code',code)\n",
    "cp.save('q',q)\n",
    "print(energy)\n",
    "print(z1)\n",
    "print(detector_pixelsize)"
   ]
  },
  {
   "cell_type": "code",
   "execution_count": null,
   "id": "2123d6e1",
   "metadata": {},
   "outputs": [],
   "source": [
    "wavelength = 1.24e-09/energy  # [m] wave length\n",
    "focusToDetectorDistance = 1.28  # [m]\n",
    "z2 = focusToDetectorDistance-z1\n",
    "distance = (z1*z2)/focusToDetectorDistance\n",
    "magnification = focusToDetectorDistance/z1\n",
    "voxelsize = np.abs(detector_pixelsize/magnification)  # object voxel size\n",
    "magnifications2 = z1/z1c\n",
    "distancec = (z1-z1c)/(z1c/z1)\n",
    "show = True\n"
   ]
  },
  {
   "cell_type": "code",
   "execution_count": null,
   "id": "dc0c4bcb",
   "metadata": {},
   "outputs": [],
   "source": [
    "args = SimpleNamespace()\n",
    "args.ngpus = 1\n",
    "args.lam = 50\n",
    "\n",
    "args.n = 2048//2**bin\n",
    "voxelsize *= 2048/args.n\n",
    "\n",
    "args.ntheta = ntheta\n",
    "args.ncode = 8192*args.n//2048\n",
    "args.pad = 32\n",
    "args.npsi = args.n + 2 * args.pad\n",
    "args.nq = args.n + 2 * args.pad\n",
    "args.ex = 0\n",
    "args.npatch = args.nq + 2 * args.ex\n",
    "args.nchunk = 32\n",
    "\n",
    "args.voxelsize = voxelsize\n",
    "args.wavelength = wavelength\n",
    "args.distance = distance\n",
    "args.distancec = distancec\n",
    "args.eps = 1e-8\n",
    "args.rho = [1, 20, 10]\n",
    "args.path_out = f\"/data/vnikitin/ESRF/ID16A/20240924_rec_ca/rec_atomium_syn/r_{args.lam}_{args.pad}\"\n",
    "args.show = show\n",
    "\n",
    "args.niter=128\n",
    "args.vis_step=4\n",
    "args.err_step=4\n",
    "args.rotation_axis=args.npsi/2\n",
    "\n",
    "args.theta = cp.linspace(0,2*np.pi,ntheta).astype('float32')\n",
    "# create class\n",
    "cl_rec = Rec(args)\n",
    "print(voxelsize,distance,distancec)"
   ]
  },
  {
   "cell_type": "code",
   "execution_count": null,
   "id": "11670db5",
   "metadata": {},
   "outputs": [],
   "source": [
    "q = np.pad(q,((args.pad,args.pad),(args.pad,args.pad)),'symmetric')"
   ]
  },
  {
   "cell_type": "code",
   "execution_count": null,
   "id": "72836e93",
   "metadata": {},
   "outputs": [],
   "source": [
    "u = 4e3*cp.load(f'/data/vnikitin/syn_3d_ald/u{args.n}.npy').astype('complex64')\n",
    "u = np.pad(u,((args.pad,args.pad),(args.pad,args.pad),(args.pad,args.pad)),'edge')\n",
    "shifts_code = cp.array(shifts_code)\n",
    "shifts_cor = cp.array(shifts_cor)\n",
    "code = cp.array(code)\n",
    "q = cp.array(q)\n",
    "\n",
    "ri = shifts_code.astype('int32')\n",
    "r = shifts_code-shifts_code.astype('int32')\n",
    "rpsi = shifts_cor*0\n",
    "data = cp.abs(cl_rec.D(cl_rec.Dc(q*cl_rec.S(ri,r,code))*cl_rec.expR(cl_rec.Spsi(cl_rec.R(u),rpsi))))**2\n",
    "\n",
    "\n",
    "mshow(data[0],args.show)\n",
    "mshow_complex(cp.fft.fftshift(cl_rec.fker[0]),args.show)"
   ]
  },
  {
   "cell_type": "code",
   "execution_count": null,
   "id": "27b4f880",
   "metadata": {},
   "outputs": [],
   "source": [
    "data_ref = cp.abs(cl_rec.D(cl_rec.Dc(q*cl_rec.S(ri,r,code))*cl_rec.expR(cl_rec.Spsi(cl_rec.R(u*0),rpsi))))**2\n",
    "mshow(data_ref[0],args.show)"
   ]
  },
  {
   "cell_type": "code",
   "execution_count": null,
   "id": "00d1d498",
   "metadata": {},
   "outputs": [],
   "source": [
    "srrdata=data/data_ref\n",
    "mshow(srrdata[0],True)"
   ]
  },
  {
   "cell_type": "code",
   "execution_count": null,
   "id": "522c7f28",
   "metadata": {},
   "outputs": [],
   "source": [
    "def multiPaganin(data, distances, wavelength, voxelsize, delta_beta,  alpha):    \n",
    "    \n",
    "    fx = cp.fft.fftfreq(data.shape[-1], d=voxelsize).astype('float32')\n",
    "    [fx, fy] = cp.meshgrid(fx, fx)\n",
    "    numerator = 0\n",
    "    denominator = 0\n",
    "    rad_freq = cp.fft.fft2(data)\n",
    "    taylorExp = 1 + wavelength * distances * cp.pi * (delta_beta) * (fx**2+fy**2)\n",
    "    numerator = numerator + taylorExp * (rad_freq)\n",
    "    denominator = denominator + taylorExp**2\n",
    "\n",
    "    denominator = (denominator) + alpha\n",
    "\n",
    "    phase = cp.log(cp.real(cp.fft.ifft2(numerator / denominator)))\n",
    "    phase = (delta_beta) * 0.5 * phase\n",
    "\n",
    "    return phase\n",
    "\n",
    "def rec_init(rdata):\n",
    "    recMultiPaganin = np.zeros([args.ntheta,args.nq, args.nq], dtype=\"float32\")\n",
    "    for j in range(0, rdata.shape[0]):\n",
    "        r = cp.pad(cp.array(rdata[j]),((args.pad,args.pad),(args.pad,args.pad)),'edge')\n",
    "        distances_pag = (distance)\n",
    "        r = multiPaganin(r, distances_pag,wavelength, voxelsize,100,1e-8)             \n",
    "        recMultiPaganin[j] = r.get()           \n",
    "        # recMultiPaganin[j]-=np.mean(recMultiPaganin[j,:32,:32])\n",
    "    recMultiPaganin = np.exp(1j * recMultiPaganin)\n",
    "    return recMultiPaganin\n",
    "\n",
    "psi_init = rec_init(srrdata[:])\n",
    "# mpad = args.npsi//2-args.nq//2\n",
    "# psi_init = np.pad(psi_init,((0,0),(mpad,mpad),(mpad,mpad)),'edge')\n",
    "mshow_polar(psi_init[0],args.show)"
   ]
  },
  {
   "cell_type": "code",
   "execution_count": null,
   "id": "a0a7772c",
   "metadata": {},
   "outputs": [],
   "source": [
    "\n",
    "u_init = cl_rec.rec_tomo(cl_rec.logR(psi_init),rpsi,16)\n",
    "mshow_complex(u_init[args.npsi//2],args.show)"
   ]
  },
  {
   "cell_type": "code",
   "execution_count": null,
   "id": "7f8198b1",
   "metadata": {},
   "outputs": [],
   "source": [
    "t = cl_rec.S(ri,r,code)\n",
    "mshow_polar(t[3,:100,:100],True)"
   ]
  },
  {
   "cell_type": "code",
   "execution_count": null,
   "id": "d8b82be0",
   "metadata": {},
   "outputs": [],
   "source": [
    "ref = cp.abs(cl_rec.D(cl_rec.Dc(q*cl_rec.S(ri,r,code*0+1))*cl_rec.expR(cl_rec.Spsi(cl_rec.R(u*0),rpsi))))**2\n",
    "cpad = args.pad*3//2\n",
    "q_init = cl_rec.DcT(cl_rec.DT(cp.sqrt(ref)))[0,cpad:-cpad,cpad:-cpad]\n",
    "q_init = cp.pad(q_init,((cpad,cpad),(cpad,cpad)),'symmetric')\n",
    "mshow_polar(q_init,args.show)"
   ]
  },
  {
   "cell_type": "code",
   "execution_count": null,
   "id": "4aae7746",
   "metadata": {},
   "outputs": [],
   "source": [
    "\n",
    "vars = {}\n",
    "vars[\"code\"] = cp.array(code)\n",
    "vars[\"u\"] = cp.array(u_init)\n",
    "vars[\"q\"] = cp.array(q_init)\n",
    "vars[\"ri\"] = shifts_code.astype(\"int32\")\n",
    "vars[\"r_init\"] = shifts_code - vars[\"ri\"].astype(\"int32\")\n",
    "vars[\"r\"] = vars[\"r_init\"]/2\n",
    "vars[\"rpsi\"] = cp.array(shifts_cor).astype(\"float32\")\n",
    "vars[\"Ru\"] = cl_rec.Spsi(cl_rec.R(vars['u']),vars[\"rpsi\"])\n",
    "vars[\"psi\"] = cl_rec.expR(vars['Ru'])\n",
    "vars[\"table\"] = pd.DataFrame(columns=[\"iter\", \"err\", \"time\"])\n",
    "cl_rec.rho = [1, 10,10]\n",
    "cl_rec.lam = 0 \n",
    "cl_rec.vis_step=32\n",
    "cl_rec.err_step=32\n",
    "cl_rec.eps=0\n",
    "cl_rec.niter=8000\n",
    "vars = cl_rec.BH(data, vars)\n",
    "\n"
   ]
  },
  {
   "cell_type": "code",
   "execution_count": null,
   "id": "5d4bc33d",
   "metadata": {},
   "outputs": [],
   "source": [
    "print(vars['table'])"
   ]
  }
 ],
 "metadata": {
  "kernelspec": {
   "display_name": "holotomocupy",
   "language": "python",
   "name": "python3"
  },
  "language_info": {
   "codemirror_mode": {
    "name": "ipython",
    "version": 3
   },
   "file_extension": ".py",
   "mimetype": "text/x-python",
   "name": "python",
   "nbconvert_exporter": "python",
   "pygments_lexer": "ipython3",
   "version": "3.12.8"
  }
 },
 "nbformat": 4,
 "nbformat_minor": 5
}
