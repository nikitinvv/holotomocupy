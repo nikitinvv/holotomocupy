{
 "cells": [
  {
   "cell_type": "code",
   "execution_count": null,
   "metadata": {},
   "outputs": [],
   "source": [
    "sys.path.insert(0, '..')\n",
    "from utils import *\n",
    "import h5py\n",
    "import matplotlib.pyplot as plt"
   ]
  },
  {
   "cell_type": "markdown",
   "metadata": {},
   "source": [
    "# manual parameters"
   ]
  },
  {
   "cell_type": "code",
   "execution_count": null,
   "metadata": {},
   "outputs": [],
   "source": [
    "n = 2048  # object size in each dimension\n",
    "npos = 18*18 # total number of positions\n",
    "z1c = -17.75e-3 # [m] position of the CA\n",
    "detector_pixelsize = 3.03751e-6\n",
    "energy = 33.35  # [keV] xray energy\n",
    "wavelength = 1.24e-09/energy  # [m] wave length\n",
    "focusToDetectorDistance = 1.28  # [m]\n",
    "z1 = z1c#np.tile(z1c, [npos])\n",
    "z2 = focusToDetectorDistance-z1\n",
    "distances = (z1*z2)/focusToDetectorDistance\n",
    "magnification = focusToDetectorDistance/z1\n",
    "voxelsize = np.abs(detector_pixelsize/magnification)  # object voxel size\n"
   ]
  },
  {
   "cell_type": "markdown",
   "metadata": {},
   "source": [
    "# Data read"
   ]
  },
  {
   "cell_type": "code",
   "execution_count": null,
   "metadata": {},
   "outputs": [],
   "source": [
    "path = f'/data/vnikitin/ESRF/ID16A/20240924/SiemensLH/code2um_nfp18x18_01'\n",
    "with h5py.File(f'{path}/code2um_nfp18x18_010000.h5') as fid:\n",
    "    data = fid['/entry_0000/measurement/data'][:].astype('float32')\n",
    "    \n",
    "with h5py.File(f'{path}/ref_0000.h5') as fid:\n",
    "    ref = fid['/entry_0000/measurement/data'][:].astype('float32')\n",
    "with h5py.File(f'{path}/dark_0000.h5') as fid:\n",
    "    dark = fid['/entry_0000/measurement/data'][:].astype('float32')\n",
    "\n",
    "\n",
    "mshow(data[0],True)\n",
    "mshow(ref[0],True)\n",
    "mshow(dark[0],True)"
   ]
  },
  {
   "cell_type": "code",
   "execution_count": null,
   "metadata": {},
   "outputs": [],
   "source": [
    "path_out = f'/data/vnikitin/ESRF/ID16A/20240924_rec_ca/data/'\n",
    "with  h5py.File(f'{path_out}/data_ca.h5','w') as fid:\n",
    "    fid.create_dataset(f'/exchange/data',data=data) \n",
    "    fid.create_dataset(f'/exchange/data_white',data=ref) \n",
    "    fid.create_dataset(f'/exchange/data_dark',data=dark) \n",
    "\n",
    "    dz1 = fid.create_dataset('/exchange/z1',shape=(1,),dtype='float32')\n",
    "    ddetector_pixelsize = fid.create_dataset('/exchange/detector_pixelsize',shape=(1,),dtype='float32')\n",
    "    dfocusdetectordistance = fid.create_dataset('/exchange/focusdetectordistance',shape=(1,),dtype='float32')\n",
    "    denergy = fid.create_dataset('/exchange/energy',shape=(1,),dtype='float32')    \n",
    "\n",
    "    dz1[:]=z1\n",
    "    ddetector_pixelsize[0]=detector_pixelsize\n",
    "    dfocusdetectordistance[0]=focusToDetectorDistance\n",
    "    denergy[0]=energy\n"
   ]
  }
 ],
 "metadata": {
  "kernelspec": {
   "display_name": "holotomocupy",
   "language": "python",
   "name": "python3"
  },
  "language_info": {
   "codemirror_mode": {
    "name": "ipython",
    "version": 3
   },
   "file_extension": ".py",
   "mimetype": "text/x-python",
   "name": "python",
   "nbconvert_exporter": "python",
   "pygments_lexer": "ipython3",
   "version": "3.12.8"
  }
 },
 "nbformat": 4,
 "nbformat_minor": 2
}
