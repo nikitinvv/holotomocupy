{
 "cells": [
  {
   "cell_type": "code",
   "execution_count": null,
   "metadata": {},
   "outputs": [],
   "source": [
    "import numpy as np\n",
    "import cv2\n",
    "import xraylib\n",
    "import matplotlib.pyplot as plt\n",
    "from holotomocupy.utils import *\n",
    "from holotomocupy.holo import *"
   ]
  },
  {
   "cell_type": "code",
   "execution_count": null,
   "metadata": {},
   "outputs": [],
   "source": [
    "n = 512  # object size in each dimension\n",
    "energy = 33.35  # [keV] xray energy\n",
    "wavelength = 1.24e-09/energy  # [m] wave length\n",
    "focusToDetectorDistance = 1.28  # [m]\n",
    "ndist = 4\n",
    "distances = np.array([0.0029432,0.00306911,0.00357247,0.00461673])[:ndist] # [m]\n",
    "magnification = 400\n",
    "detector_pixelsize = 3.03751e-6\n",
    "voxelsize = detector_pixelsize/magnification*2048/n  # object voxel size\n",
    "\n",
    "ne = n+n//4\n",
    "show = True\n"
   ]
  },
  {
   "cell_type": "code",
   "execution_count": null,
   "metadata": {},
   "outputs": [],
   "source": [
    "img = np.zeros((ne, ne, 3), np.uint8)\n",
    "c=0.5\n",
    "triangle = np.array([(ne//16/c, ne//2-ne//32), (ne//16/c, ne//2+ne//32), (ne//2-ne//128, ne//2)], np.float32)\n",
    "star = img[:,:,0]*0\n",
    "for i in range(0, 360, 15):\n",
    "    img = np.zeros((ne, ne, 3), np.uint8)\n",
    "    degree = i\n",
    "    theta = degree * np.pi / 180\n",
    "    rot_mat = np.array([[np.cos(theta), -np.sin(theta)],\n",
    "                        [np.sin(theta), np.cos(theta)]], np.float32)    \n",
    "    rotated = cv2.gemm(triangle-ne//2, rot_mat, 1, None, 1, flags=cv2.GEMM_2_T)+ne//2\n",
    "    cv2.fillPoly(img, [np.int32(rotated)], (255, 0, 0))\n",
    "    star+=img[:,:,0]\n",
    "[x,y] = np.meshgrid(np.arange(-ne//2,ne//2),np.arange(-ne//2,ne//2))\n",
    "x = x/ne*2\n",
    "y = y/ne*2\n",
    "# add holes in triangles\n",
    "circ = (x**2+y**2>0.145)+(x**2+y**2<0.135)\n",
    "circ *= (x**2+y**2>0.053)+(x**2+y**2<0.05)\n",
    "circ *= (x**2+y**2>0.0085)+(x**2+y**2<0.008)\n",
    "circ *= (x**2+y**2>0.52)+(x**2+y**2<0.5)\n",
    "\n",
    "star = star*circ/255\n",
    "\n",
    "# star[ne//2-n//2:ne//2+n//2,ne//2-n//2:ne//2+n//2]=0\n",
    "\n",
    "v = np.arange(-ne//2,ne//2)/ne\n",
    "[vx,vy] = np.meshgrid(v,v)\n",
    "v = np.exp(-5*(vx**2+vy**2))\n",
    "fu = np.fft.fftshift(np.fft.fftn(np.fft.fftshift(star)))\n",
    "star = np.fft.fftshift(np.fft.ifftn(np.fft.fftshift(fu*v))).real\n",
    "\n",
    "delta = 1-xraylib.Refractive_Index_Re('Au',energy,19.3)\n",
    "beta = xraylib.Refractive_Index_Im('Au',energy,19.3)\n",
    "\n",
    "thickness = 2e-6/voxelsize # siemens star thickness in pixels\n",
    "# form Transmittance function\n",
    "u = star*(-delta+1j*beta) # note -delta\n",
    "Ru = u*thickness \n",
    "psi = np.exp(1j * Ru * voxelsize * 2 * np.pi / wavelength)[np.newaxis].astype('complex64')\n",
    "fig, axs = plt.subplots(1, 2, figsize=(9, 4))\n",
    "im=axs[0].imshow(np.abs(psi[0]),cmap='gray')\n",
    "axs[0].set_title('amplitude')\n",
    "fig.colorbar(im)\n",
    "im=axs[1].imshow(np.angle(psi[0]),cmap='gray')\n",
    "axs[1].set_title('phase')\n",
    "fig.colorbar(im)\n",
    "\n",
    "mshow_polar(psi[0,ne//2-n//2:ne//2+n//2,ne//2-n//2:ne//2+n//2],show)\n"
   ]
  },
  {
   "cell_type": "code",
   "execution_count": null,
   "metadata": {},
   "outputs": [],
   "source": [
    "!wget -nc https://g-110014.fd635.8443.data.globus.org/holotomocupy/examples_synthetic/data/prb_id16a/prb_abs_2048.tiff -P ../data/prb_id16a\n",
    "!wget -nc https://g-110014.fd635.8443.data.globus.org/holotomocupy/examples_synthetic/data/prb_id16a/prb_phase_2048.tiff -P ../data/prb_id16a\n",
    "\n",
    "import scipy.ndimage as ndimage\n",
    "prb_abs = dxchange.read_tiff(f'../data/prb_id16a/prb_abs_2048.tiff')[0:1]\n",
    "prb_phase = dxchange.read_tiff(f'../data/prb_id16a/prb_phase_2048.tiff')[0:1]\n",
    "prb = prb_abs*np.exp(1j*prb_phase).astype('complex64')\n",
    "\n",
    "prb = ndimage.zoom(prb,(1,2*n/2048,2*n/2048))\n",
    "\n",
    "prb /= np.mean(np.abs(prb))\n",
    "# prb[:]=1\n",
    "\n",
    "fig, axs = plt.subplots(1, 2, figsize=(9, 4))\n",
    "im=axs[0].imshow(np.abs(prb[0]),cmap='gray')\n",
    "axs[0].set_title('abs prb')\n",
    "fig.colorbar(im)\n",
    "im=axs[1].imshow(np.angle(prb[0]),cmap='gray')\n",
    "axs[1].set_title('angle prb')\n",
    "fig.colorbar(im)"
   ]
  },
  {
   "cell_type": "code",
   "execution_count": null,
   "metadata": {},
   "outputs": [],
   "source": [
    "from scipy.io import savemat,loadmat\n",
    "savemat('psi.mat',{'psi': psi[0]})"
   ]
  },
  {
   "cell_type": "code",
   "execution_count": null,
   "metadata": {},
   "outputs": [],
   "source": [
    "np.loadtxt('data2.mat')"
   ]
  },
  {
   "cell_type": "code",
   "execution_count": null,
   "metadata": {},
   "outputs": [],
   "source": [
    "def Lop(psi):\n",
    "    data = cp.zeros([1,ndist, n, n], dtype='complex64')\n",
    "    for i in range(ndist):\n",
    "        ff = cp.array(psi)            \n",
    "        fx = cp.fft.fftfreq(2*ne, d=voxelsize).astype('float32')\n",
    "        [fx, fy] = cp.meshgrid(fx, fx)\n",
    "        fP = cp.exp(-1j*cp.pi*wavelength*distances[i]*(fx**2+fy**2))\n",
    "        ff = cp.pad(ff,((0,0),(ne//2,ne//2),(ne//2,ne//2)))\n",
    "        ff = cp.fft.ifft2(cp.fft.fft2(ff)*fP)\n",
    "        data[:, i] = ff[:,ne-n//2:ne+n//2,ne-n//2:ne+n//2]\n",
    "    return data\n",
    "print(voxelsize)\n"
   ]
  },
  {
   "cell_type": "code",
   "execution_count": null,
   "metadata": {},
   "outputs": [],
   "source": [
    "psi = cp.array(psi)\n",
    "data = np.abs(Lop(psi))**2\n",
    "ref = np.abs(Lop((psi*0+1)))**2\n",
    "\n",
    "for k in range(ndist):\n",
    "    mshow(data[0,k],show)\n",
    "\n",
    "savemat('data.mat',{'data': data[0]})\n"
   ]
  }
 ],
 "metadata": {
  "kernelspec": {
   "display_name": "holotomocupy",
   "language": "python",
   "name": "python3"
  },
  "language_info": {
   "codemirror_mode": {
    "name": "ipython",
    "version": 3
   },
   "file_extension": ".py",
   "mimetype": "text/x-python",
   "name": "python",
   "nbconvert_exporter": "python",
   "pygments_lexer": "ipython3",
   "version": "3.12.4"
  }
 },
 "nbformat": 4,
 "nbformat_minor": 2
}
