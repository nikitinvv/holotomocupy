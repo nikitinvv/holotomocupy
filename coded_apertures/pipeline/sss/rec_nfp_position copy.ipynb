{
 "cells": [
  {
   "cell_type": "code",
   "execution_count": 1,
   "id": "fad77fab-e206-47c1-9655-088d14fe30cb",
   "metadata": {},
   "outputs": [
    {
     "name": "stderr",
     "output_type": "stream",
     "text": [
      "astropy module not found\n",
      "olefile module not found\n"
     ]
    }
   ],
   "source": [
    "import numpy as np\n",
    "import cupy as cp\n",
    "from holotomocupy.holo import G, GT\n",
    "from holotomocupy.shift import S, ST\n",
    "from holotomocupy.chunking import gpu_batch\n",
    "from holotomocupy.recon_methods import CTFPurePhase, multiPaganin\n",
    "from holotomocupy.proc import dai_yuan, linear\n",
    "import holotomocupy.chunking as chunking\n",
    "from holotomocupy.utils import *\n",
    "\n",
    "np.random.seed(1)"
   ]
  },
  {
   "cell_type": "markdown",
   "id": "3c0fdd65-1cff-451e-865e-56cd8b7882a6",
   "metadata": {},
   "source": [
    "# Init data sizes and parametes of the PXM of ID16A"
   ]
  },
  {
   "cell_type": "code",
   "execution_count": 2,
   "id": "59fa16f2-1f9c-4b3a-a330-e10942f12234",
   "metadata": {},
   "outputs": [],
   "source": [
    "n = 512  # object size in each dimension\n",
    "\n",
    "noise = 0\n",
    "z1c = -19.5e-3\n",
    "# thickness of the coded aperture\n",
    "code_thickness = 1.8e-6 #in m\n",
    "# feature size\n",
    "ill_feature_size = 2e-6 #in m\n",
    "\n",
    "# ntheta = int(sys.argv[1])  # number of angles (rotations)\n",
    "# noise = int(sys.argv[2])#sys.argv[2]=='True'\n",
    "# z1c = float(sys.argv[3])  # positions of the code and the probe for reconstruction\n",
    "\n",
    "center = n/2 # rotation axis\n",
    "npos = 49  # number of code positions\n",
    "detector_pixelsize = 3e-6\n",
    "energy = 33.35  # [keV] xray energy\n",
    "wavelength = 1.2398419840550367e-09/energy  # [m] wave length\n",
    "focusToDetectorDistance = 1.28  # [m]\n",
    "sx0 = 3.7e-4\n",
    "z1 = z1c\n",
    "z1 = np.tile(z1, [npos])\n",
    "z2 = focusToDetectorDistance-z1\n",
    "distances = (z1*z2)/focusToDetectorDistance\n",
    "magnifications = focusToDetectorDistance/z1\n",
    "voxelsize = np.abs(detector_pixelsize/magnifications[0]*2048/n)  # object voxel size\n",
    "# allow padding if there are shifts of the probe\n",
    "pad = n//8\n",
    "# sample size after demagnification\n",
    "ne = 1200+2*pad\n",
    "\n",
    "show = True\n",
    "\n",
    "flg = f'{n}_{1}_{npos}_{z1c}_{noise}_code'\n",
    "path = f'/data2/vnikitin/nfp_codes'\n",
    "rho=1"
   ]
  },
  {
   "cell_type": "markdown",
   "id": "49eb1696-bb30-496e-8c3d-565f2791112c",
   "metadata": {},
   "source": [
    "## Read data"
   ]
  },
  {
   "cell_type": "code",
   "execution_count": 3,
   "id": "a7b82c4e",
   "metadata": {},
   "outputs": [
    {
     "name": "stdout",
     "output_type": "stream",
     "text": [
      "/data2/vnikitin/nfp_codes/data/data_0_512_1_49_-0.0195_0_code.tiff\n"
     ]
    }
   ],
   "source": [
    "data00 = np.zeros([1, npos, n, n], dtype='float32')\n",
    "ref0 = np.zeros([1, npos, n, n], dtype='float32')\n",
    "print(f'{path}/data/data_{0}_{flg}.tiff')\n",
    "for k in range(npos):\n",
    "    data00[:, k] = read_tiff(f'{path}/data/data_{k}_{flg}.tiff')[:1]\n",
    "for k in range(npos):\n",
    "    ref0[:, k] = read_tiff(f'{path}/data/ref_{k}_{flg}.tiff')[:]\n",
    "code = np.load(f'{path}/data/code_{flg}.npy')\n",
    "shifts = np.load(f'{path}/data/shifts_code_{flg}.npy')[:, :npos]\n",
    "\n",
    "dxchange.write_tiff(np.abs(code),'code_abs.tiff')\n",
    "dxchange.write_tiff(np.angle(code),'code_angle.tiff')\n"
   ]
  },
  {
   "cell_type": "markdown",
   "id": "daee2463",
   "metadata": {},
   "source": [
    "# Construct operators\n"
   ]
  },
  {
   "cell_type": "code",
   "execution_count": 4,
   "id": "adf88f3b",
   "metadata": {},
   "outputs": [
    {
     "name": "stdout",
     "output_type": "stream",
     "text": [
      "(24916900+1.8835697174072266j)==\n",
      "(24916900+8.200871093322348e-09j)\n",
      "(15695109-0.16330289840698242j)==\n",
      "(15695109+1.0846337318071164e-05j)\n"
     ]
    }
   ],
   "source": [
    "def Lop(psi):\n",
    "    psi = cp.array(psi)\n",
    "\n",
    "    data = cp.zeros([psi.shape[0], npos, n, n], dtype='complex64')\n",
    "    for i in range(npos):\n",
    "        psir = psi[:,i].copy()       \n",
    "        psir = G(psir, wavelength, voxelsize, distances[i])\n",
    "        data[:, i] = psir[:, pad:n+pad, pad:n+pad]\n",
    "    return data\n",
    "\n",
    "def LTop(data):\n",
    "    psi = cp.zeros([data.shape[0],npos, n+2*pad, n+2*pad], dtype='complex64')\n",
    "\n",
    "    for j in range(npos):\n",
    "        psir = cp.pad(data[:, j], ((0, 0), (pad, pad), (pad, pad))).astype('complex64')\n",
    "        psir = GT(psir, wavelength, voxelsize, distances[j])        \n",
    "        psi[:,j] = psir#cp.pad(psir,((0,0),(ne//2-n//2-pad,ne//2-n//2-pad),(ne//2-n//2-pad,ne//2-n//2-pad)))                \n",
    "    return psi\n",
    "\n",
    "def Sop(psi,shifts):\n",
    "    psi = cp.array(psi)\n",
    "\n",
    "    data = cp.zeros([psi.shape[0], npos, n+2*pad, n+2*pad], dtype='complex64')\n",
    "    for i in range(npos):\n",
    "        psir = psi.copy()\n",
    "    \n",
    "        # shift and crop the code \n",
    "        psir = S(psir, shifts[:, i])\n",
    "        nee = psir.shape[1]        \n",
    "        data[:,i] = psir[:, nee//2-n//2-pad:nee//2+n//2+pad, nee//2-n//2-pad:nee//2+n//2+pad]\n",
    "    return data\n",
    "\n",
    "def STop(data,shifts):\n",
    "    psi = cp.zeros([data.shape[0], ne, ne], dtype='complex64')\n",
    "\n",
    "    for j in range(npos):\n",
    "        psir = cp.pad(data[:,j],((0,0),(ne//2-n//2-pad,ne//2-n//2-pad),(ne//2-n//2-pad,ne//2-n//2-pad)))        \n",
    "        psi += ST(psir,shifts[:,j])\n",
    "    return psi\n",
    "\n",
    "\n",
    "data = cp.array(data00)\n",
    "arr1 = cp.pad(data[:,0],((0,0),(ne//2-n//2,ne//2-n//2),(ne//2-n//2,ne//2-n//2)),'symmetric')     \n",
    "prb1 = cp.ones([1,n+2*pad,n+2*pad],dtype='complex64')\n",
    "shifts = cp.array(shifts)\n",
    "arr2 = Sop(arr1,shifts*rho)\n",
    "arr3 = STop(arr2,shifts*rho)\n",
    "\n",
    "arr4 = Lop(arr2)\n",
    "arr5 = LTop(arr4)\n",
    "\n",
    "\n",
    "print(f'{cp.sum(arr1*cp.conj(arr3))}==\\n{cp.sum(arr2*cp.conj(arr2))}')\n",
    "print(f'{cp.sum(arr2*cp.conj(arr5))}==\\n{cp.sum(arr4*cp.conj(arr4))}')\n",
    "\n"
   ]
  },
  {
   "cell_type": "markdown",
   "id": "1fe0cb15",
   "metadata": {},
   "source": [
    "#### Reconstruction with the CG (Carlsson) with Hessians"
   ]
  },
  {
   "cell_type": "markdown",
   "id": "4fe7a916",
   "metadata": {},
   "source": [
    "#### $$\\nabla F=2 \\left(L^*\\left( L(M(q_0,\\psi_0,\\boldsymbol{x}_0))-\\tilde D\\right)\\right).$$\n",
    "#### where $$\\tilde D = D \\frac{L(M(q_0,\\psi_0,\\boldsymbol{x}_0))}{|L(M(q_0,\\psi_0,\\boldsymbol{x}_0))|}$$\n",
    "\n"
   ]
  },
  {
   "cell_type": "code",
   "execution_count": 5,
   "id": "f95197e6",
   "metadata": {},
   "outputs": [],
   "source": [
    "def gradientF(psi,q,x,d):\n",
    "    Lpsi = Lop(Sop(psi,x*rho)*q)\n",
    "    td = d*(Lpsi/cp.abs(Lpsi))\n",
    "    res = 2*LTop(Lpsi - td)\n",
    "    return res"
   ]
  },
  {
   "cell_type": "markdown",
   "id": "5775c155",
   "metadata": {},
   "source": [
    "#### $$\\frac{1}{2}\\mathcal{H}|_{x_0}(y,z)= \\left\\langle \\mathbf{1}-d_{0}, \\mathsf{Re}({L(y)}\\overline{L(z)})\\right\\rangle+\\left\\langle d_{0},(\\mathsf{Re} (\\overline{l_0}\\cdot L(y)))\\cdot (\\mathsf{Re} (\\overline{l_0}\\cdot L(z)))\\right\\rangle.$$\n",
    "#### $$l_0=L(x_0)/|L(x_0)|$$\n",
    "#### $$d_0=d/|L(x_0)|$$\n"
   ]
  },
  {
   "cell_type": "code",
   "execution_count": 6,
   "id": "5c1410c4",
   "metadata": {},
   "outputs": [],
   "source": [
    "def hessianF(hpsi,hpsi1,hpsi2,data):\n",
    "    Lpsi = Lop(hpsi)        \n",
    "    Lpsi1 = Lop(hpsi1)\n",
    "    Lpsi2 = Lop(hpsi2)    \n",
    "    l0 = Lpsi/cp.abs(Lpsi)\n",
    "    d0 = data/cp.abs(Lpsi)\n",
    "    v1 = cp.sum((1-d0)*cp.conj(cp.real(Lpsi1*cp.conj(Lpsi2))))\n",
    "    v2 = cp.sum(d0*cp.conj(\n",
    "        cp.real(cp.conj(l0)*Lpsi1)*\n",
    "        cp.real(cp.conj(l0)*Lpsi2)))\n",
    "    return 2*(v1+v2)"
   ]
  },
  {
   "cell_type": "markdown",
   "id": "16e5f33f",
   "metadata": {},
   "source": [
    "##### $$\\nabla_{\\psi} G|_{(q_0,\\psi_0,\\boldsymbol{x}_0)}=S_{\\boldsymbol{x}_{0}}^*\\left(\\overline{J(q_0)}\\cdot \\nabla F\\right).$$\n",
    "##### $$\\nabla_{q} G|_{(q_0,\\psi_0,\\boldsymbol{x}_0)}=J^*\\left( \\overline{S_{\\boldsymbol{x}_{0}}(\\psi_0)}\\cdot \\nabla F\\right).$$\n",
    "##### $$\\nabla_{\\boldsymbol{x}_0} G|_{(q_0,\\psi_0,\\boldsymbol{x}_0)}=\\textsf{Re}\\Big(\\big( \\Big\\langle \\overline{q_0}\\cdot \\nabla F,   C(\\mathcal{F}^{-1}(\\xi_1 e^{ \\boldsymbol{x}_{0,k}\\cdot \\boldsymbol{\\xi}}\\hat{\\psi_0}))\\Big\\rangle,\\Big\\langle \\overline{q_0}\\cdot \\nabla F,C(\\mathcal{F}^{-1}(\\xi_2 e^{ \\boldsymbol{x}_{0,k}\\cdot \\boldsymbol{\\xi}}\\hat{\\psi_0})) \\Big\\rangle\\big)\\Big)_{k=1}^K. $$\n",
    "\n",
    "### Adjustments\n",
    "#### $$ \\xi = -2\\pi i \\tilde{\\xi}$$\n",
    "#### new operator $$T_{\\psi,w}(x) = C(\\mathcal{F}^{-1}(w e^{ \\boldsymbol{x}_{0}\\cdot \\boldsymbol{\\xi}}\\hat{\\psi_0}))$$\n",
    "\n",
    "\n"
   ]
  },
  {
   "cell_type": "code",
   "execution_count": 7,
   "id": "d316207d",
   "metadata": {},
   "outputs": [],
   "source": [
    "def _Tw0(psi, x, w, ptype='constant'):\n",
    "    res = psi.copy()\n",
    "    n = res.shape[-1]        \n",
    "    p = cp.pad(x, (0, res.shape[0]-x.shape[0]))    \n",
    "    res = cp.pad(res, ((0, 0), (n//2, n//2), (n//2, n//2)), ptype)\n",
    "    \n",
    "    xi = cp.fft.fftfreq(2*n).astype('float32')\n",
    "    xi = xi*(-2*cp.pi*1j)*rho#!!!!\n",
    "    [xi2, xi1] = cp.meshgrid(xi, xi)\n",
    "    pp = cp.exp(xi1*p[:, 0, None, None]+xi2*p[:, 1, None, None])\n",
    "    \n",
    "    pp = pp*w\n",
    "\n",
    "    res = cp.fft.ifft2(pp*cp.fft.fft2(res))   \n",
    "    res = res[:, n//2:-n//2, n//2:-n//2]\n",
    "    return res\n",
    "\n",
    "def Twop(psi,x,w):\n",
    "    data = cp.zeros([psi.shape[0], npos, n+2*pad, n+2*pad], dtype='complex64')\n",
    "    for i in range(npos):\n",
    "        psir = psi.copy()            \n",
    "        psir = _Tw0(psir, x[:, i],w)\n",
    "        nee = psir.shape[1]        \n",
    "        data[:,i] = psir[:, nee//2-n//2-pad:nee//2+n//2+pad, nee//2-n//2-pad:nee//2+n//2+pad]        \n",
    "    return data\n",
    "\n",
    "def gradients(psi,q,x,d):\n",
    "    gradF = gradientF(psi,q,x,d)\n",
    "\n",
    "    gradpsi = STop(cp.conj(q)*gradF,x*rho)\n",
    "    gradq = cp.sum(cp.conj(Sop(psi,x*rho))*gradF,axis=1)\n",
    "    \n",
    "    n = psi.shape[-1]\n",
    "    xi1 = cp.fft.fftfreq(2*n).astype('float32')    \n",
    "    xi1 = xi1*(-2*cp.pi*1j)*rho##!!!\n",
    "\n",
    "    [xi2, xi1] = cp.meshgrid(xi1, xi1)\n",
    "  \n",
    "    tksi1 = Twop(psi,x,xi1)\n",
    "    tksi2 = Twop(psi,x,xi2)\n",
    "    gradx = cp.zeros([1,npos,2],dtype='float32')\n",
    "    gradx[:,:,0] = cp.real(cp.sum(cp.conj(q)*gradF*cp.conj(tksi1),axis=(2,3)))\n",
    "    gradx[:,:,1] = cp.real(cp.sum(cp.conj(q)*gradF*cp.conj(tksi2),axis=(2,3)))\n",
    "    return gradpsi,gradq,gradx"
   ]
  },
  {
   "cell_type": "markdown",
   "id": "dd89a378",
   "metadata": {},
   "source": [
    "#### $$ D T_\\psi|_{{\\boldsymbol{z}_0}}(\\Delta \\boldsymbol{z})=C(\\mathcal{F}^{-1}(\\xi_1 e^{ \\boldsymbol{z}_0\\cdot \\boldsymbol{\\xi}}\\hat{\\psi}))\\Delta {z}_{1}+C(\\mathcal{F}^{-1}(\\xi_2 e^{ \\boldsymbol{z}_0\\cdot \\boldsymbol{\\xi}}\\hat{\\psi}))\\Delta {z}_2$$"
   ]
  },
  {
   "cell_type": "code",
   "execution_count": 8,
   "id": "967395b7",
   "metadata": {},
   "outputs": [],
   "source": [
    "def DT(psi,x,dx):\n",
    "    xi1 = cp.fft.fftfreq(2*psi.shape[-1]).astype('float32')\n",
    "    xi1=xi1*(-2*cp.pi*1j)*rho##!!!\n",
    "    [xi2, xi1] = cp.meshgrid(xi1, xi1)\n",
    "    tksi1 = Twop(psi,x,xi1)\n",
    "    tksi2 = Twop(psi,x,xi2)\n",
    "    res = tksi1*dx[:,:,0,None,None]+tksi2*dx[:,:,1,None,None]\n",
    "    return res"
   ]
  },
  {
   "cell_type": "code",
   "execution_count": null,
   "id": "793c1c26",
   "metadata": {},
   "outputs": [],
   "source": []
  },
  {
   "cell_type": "markdown",
   "id": "034d9dec",
   "metadata": {},
   "source": [
    "#### $$D^2{T_\\psi}|_{{\\boldsymbol{z}_0}}(\\Delta\\boldsymbol{z},\\Delta\\boldsymbol{w})=$$\n",
    "#### $$\\Delta {z}_{1}\\Delta {w}_{1} C(\\mathcal{F}^{-1}(\\xi_1^2 e^{ \\boldsymbol{z}_0\\cdot \\boldsymbol{\\xi}}\\hat{\\psi})) +(\\Delta {z}_{1}\\Delta {w}_{2} +$$\n",
    "#### $$ \\Delta {w}_{1}\\Delta {z}_{2})C(\\mathcal{F}^{-1}(\\xi_1\\xi_2 e^{ \\boldsymbol{z}_0\\cdot \\boldsymbol{\\xi}}\\hat{\\psi}))+\\Delta {z}_{2}\\Delta {w}_{2} C(\\mathcal{F}^{-1}(\\xi_2^2 e^{ \\boldsymbol{z}_0\\cdot \\boldsymbol{\\xi}}\\hat{\\psi}))$$"
   ]
  },
  {
   "cell_type": "code",
   "execution_count": 9,
   "id": "9839ffda",
   "metadata": {},
   "outputs": [],
   "source": [
    "def D2T(psi,x,dx1,dx2):\n",
    "    xi1 = cp.fft.fftfreq(2*psi.shape[-1]).astype('float32')\n",
    "    xi1=xi1*(-2*cp.pi*1j)*rho##!!!\n",
    "    [xi2,xi1] = cp.meshgrid(xi1, xi1)\n",
    "\n",
    "    dx11 = dx1[:,:,:,None,None] \n",
    "    dx22 = dx2[:,:,:,None,None] \n",
    "    res = dx11[:,:,0]*dx22[:,:,0]*Twop(psi,x,xi1**2)+ \\\n",
    "         (dx11[:,:,0]*dx22[:,:,1]+dx11[:,:,1]*dx22[:,:,0])*Twop(psi,x,xi1*xi2)+ \\\n",
    "          dx11[:,:,1]*dx22[:,:,1]*Twop(psi,x,xi2**2)\n",
    "    return res"
   ]
  },
  {
   "cell_type": "markdown",
   "id": "bc9b25f8",
   "metadata": {},
   "source": [
    "#### $$ DM|_{(q_0,\\psi_0,\\boldsymbol{x})}(\\Delta q, \\Delta \\psi,\\Delta\\boldsymbol{x})=$$\n",
    "#### $$ \\Big(\\Delta q\\cdot T_{\\psi_0}({\\boldsymbol{x}_{0,k}})+ q_0\\cdot \\big(T_{\\Delta \\psi}({\\boldsymbol{x}_{0,k}})+  DT_{\\psi_0}|_{{\\boldsymbol{x}_{0,k}}}( \\Delta \\boldsymbol{x}_k)\\big) \\Big)_{k=1}^K=$$\n",
    "#### $$ J(\\Delta q)\\cdot S_{\\boldsymbol{x}_{0,k}}(\\psi_0)+ J(q_0)\\cdot S_{\\boldsymbol{x}_{0}}{(\\Delta \\psi)}+  \\Big(q_0\\cdot DT_{\\psi_0}|_{{\\boldsymbol{x}_{0,k}}}( \\Delta \\boldsymbol{x}_k) \\Big)_{k=1}^K$$\n"
   ]
  },
  {
   "cell_type": "code",
   "execution_count": 10,
   "id": "6e75db07",
   "metadata": {},
   "outputs": [],
   "source": [
    "def DM(psi,q,x,dpsi,dq,dx):\n",
    "    res= dq*Sop(psi,x*rho)+q*(Sop(dpsi,x*rho)+DT(psi,x,dx))   \n",
    "    return res"
   ]
  },
  {
   "cell_type": "markdown",
   "id": "a6526ae8",
   "metadata": {},
   "source": [
    "##### $$ D^2M|_{(q_0,\\psi_0,\\boldsymbol{x})}\\big((\\Delta q^{(1)}, \\Delta \\psi^{(1)},\\Delta\\boldsymbol{x}^{(1)}),(\\Delta q^{(2)}, \\Delta \\psi^{(2)},\\Delta\\boldsymbol{x}^{(2)})\\big)= $$\n",
    "##### $$\\Big( q_0\\cdot DT_{\\Delta\\psi^{(1)}}|_{{\\boldsymbol{x}_{0,k}}}( \\Delta \\boldsymbol{x}^{(2)})+q_0\\cdot DT_{\\Delta\\psi^{(2)}}|_{{\\boldsymbol{x}_{0,k}}}( \\Delta \\boldsymbol{x}^{(1)})+ q_0\\cdot D^2{T_\\psi}|_{{\\boldsymbol{x}_0}}(\\Delta\\boldsymbol{x}^{(1)},\\Delta\\boldsymbol{x}^{(2)})+$$\n",
    "##### $$\\Delta q^{(1)}\\cdot T_{\\Delta \\psi^{(2)}}({\\boldsymbol{x}_{0,k}})+\\Delta q^{(2)}\\cdot T_{\\Delta \\psi^{(1)}}({\\boldsymbol{x}_{0,k}})+ $$\n",
    "##### $$\\Delta q^{(1)}\\cdot DT_{\\psi_0}|_{{\\boldsymbol{x}_{0,k}}}( \\Delta \\boldsymbol{x}^{(2)})+\\Delta q^{(2)}\\cdot DT_{\\psi_0}|_{{\\boldsymbol{x}_{0,k}}}( \\Delta \\boldsymbol{x}^{(1)})\\Big)_{k=1}^K.$$\n"
   ]
  },
  {
   "cell_type": "code",
   "execution_count": 11,
   "id": "5a186ab6",
   "metadata": {},
   "outputs": [],
   "source": [
    "def D2M(psi,q,x,dpsi1,dq1,dx1,dpsi2,dq2,dx2):    \n",
    "    res =  q*DT(dpsi1,x,dx2) + q*DT(dpsi2,x,dx1) + q*D2T(psi,x,dx1,dx2)  \n",
    "    res += dq1*Sop(dpsi2,x*rho) + dq2*Sop(dpsi1,x*rho) \n",
    "    res += dq1*DT(psi,x,dx2) + dq2*DT(psi,x,dx1)\n",
    "    return res"
   ]
  },
  {
   "cell_type": "markdown",
   "id": "0ed7cdab",
   "metadata": {},
   "source": [
    "##### $$\\mathcal{H}^G|_{ (q_0,\\psi_0,\\boldsymbol{x}_0)}\\Big((\\Delta q^{(1)},\\Delta \\psi^{(1)},\\Delta \\boldsymbol{x}^{(1)}),(\\Delta q^{(2)},\\Delta \\psi^{(2)},\\Delta \\boldsymbol{x}^{(2)})\\Big)=$$\n",
    "##### $$\\Big\\langle \\nabla F|_{M(q_0,\\psi_0,\\boldsymbol{x}_0)}, D^2M|_{(q_0,\\psi_0,\\boldsymbol{x}_0)}\\Big((\\Delta q^{(1)},\\Delta \\psi^{(1)},\\Delta \\boldsymbol{x}^{(1)}),(\\Delta q^{(2)},\\Delta \\psi^{(2)},\\Delta \\boldsymbol{x}^{(2)})\\Big)\\Big\\rangle +$$\n",
    "##### $$\\mathcal{H}^F|_{M(q_0,\\psi_0,\\boldsymbol{x}_0)}\\Big(DM|_{(q_0,\\psi_0,\\boldsymbol{x}_0)}(\\Delta q^{(1)},\\Delta \\psi^{(1)},\\Delta \\boldsymbol{x}^{(1)}),DM|_{(q_0,\\psi_0,\\boldsymbol{x}_0)}(\\Delta q^{(2)},\\Delta \\psi^{(2)},\\Delta \\boldsymbol{x}^{(2)})\\Big).$$"
   ]
  },
  {
   "cell_type": "markdown",
   "id": "f7a5ee1e",
   "metadata": {},
   "source": []
  },
  {
   "cell_type": "code",
   "execution_count": 12,
   "id": "cffad99d",
   "metadata": {},
   "outputs": [],
   "source": [
    "def hessian2(psi,q,x,dpsi1,dq1,dx1,dpsi2,dq2,dx2,data):\n",
    "    gradF = gradientF(psi,q,x,data)\n",
    "\n",
    "    res = cp.real(cp.sum(gradF*cp.conj(D2M(psi,q,x,dpsi1,dq1,dx1,dpsi2,dq2,dx2))))\n",
    "    res += hessianF(Sop(psi,x*rho)*q, DM(psi,q,x,dpsi1,dq1,dx1),DM(psi,q,x,dpsi2,dq2,dx2),data) \n",
    "        \n",
    "    return res"
   ]
  },
  {
   "cell_type": "markdown",
   "id": "62854fbe",
   "metadata": {},
   "source": []
  },
  {
   "cell_type": "code",
   "execution_count": 13,
   "id": "91e7991a",
   "metadata": {},
   "outputs": [],
   "source": [
    "def rec_init(ref0,data00,shifts):\n",
    "    ref0 = cp.array(ref0)\n",
    "    data00 = cp.array(data00)\n",
    "\n",
    "    rdata = data00/ref0\n",
    "    # mshow((rdata)[0,0],show,vmax=2)\n",
    "    recMultiPaganin = cp.zeros([1,npos,ne,ne],dtype='float32')\n",
    "    recMultiPaganinr = cp.zeros([1,npos,ne,ne],dtype='float32')# to compensate for overlap\n",
    "    for j in range(0,npos):\n",
    "        r = multiPaganin(rdata[:,j:j+1],\n",
    "                            distances[j:j+1], wavelength, voxelsize,  24.05, 5e-2)    \n",
    "        rr = r*0+1 # to compensate for overlap\n",
    "        r = cp.pad(r,((0,0), (ne//2-n//2,ne//2-n//2), (ne//2-n//2,ne//2-n//2)),'constant')   \n",
    "        rr = cp.pad(rr,((0,0), (ne//2-n//2,ne//2-n//2), (ne//2-n//2,ne//2-n//2)),'constant')   \n",
    "        recMultiPaganin[:,j] = ST(r,shifts[:,j])\n",
    "        recMultiPaganinr[:,j] = ST(rr,shifts[:,j])\n",
    "        \n",
    "    recMultiPaganin = cp.sum(recMultiPaganin,axis=1)\n",
    "    recMultiPaganinr = cp.sum(recMultiPaganinr,axis=1)\n",
    "\n",
    "    # avoid division by 0\n",
    "    recMultiPaganinr[np.abs(recMultiPaganinr)<5e-2] = 1\n",
    "\n",
    "    # compensate for overlap\n",
    "    recMultiPaganin /= recMultiPaganinr\n",
    "    recMultiPaganin = cp.exp(1j*recMultiPaganin)\n",
    "\n",
    "    # mshow_polar(recMultiPaganin[0],show)\n",
    "    # mshow_polar(recMultiPaganin[0,pad:-pad,pad:-pad],show)\n",
    "    return recMultiPaganin\n"
   ]
  },
  {
   "cell_type": "code",
   "execution_count": 14,
   "id": "3e22132b",
   "metadata": {},
   "outputs": [
    {
     "name": "stderr",
     "output_type": "stream",
     "text": [
      "/tmp/ipykernel_1439232/3191795650.py:15: ComplexWarning: Casting complex values to real discards the imaginary part\n",
      "  recMultiPaganin[:,j] = ST(r,shifts[:,j])\n",
      "/tmp/ipykernel_1439232/3191795650.py:16: ComplexWarning: Casting complex values to real discards the imaginary part\n",
      "  recMultiPaganinr[:,j] = ST(rr,shifts[:,j])\n"
     ]
    },
    {
     "name": "stdout",
     "output_type": "stream",
     "text": [
      "ITERATION 0\n",
      "cp.linalg.norm(gradpsi)=array(0., dtype=float32)\n",
      " cp.linalg.norm(gradprb)=array(0., dtype=float32)\n",
      " cp.linalg.norm(gradshift)=array(2359.2117, dtype=float32)\n"
     ]
    },
    {
     "data": {
      "image/png": "[encoded data removed]",
      "text/plain": [
       "<Figure size 640x480 with 1 Axes>"
      ]
     },
     "metadata": {},
     "output_type": "display_data"
    },
    {
     "data": {
      "image/png": "[encoded data removed]",
      "text/plain": [
       "<Figure size 640x480 with 1 Axes>"
      ]
     },
     "metadata": {},
     "output_type": "display_data"
    },
    {
     "data": {
      "image/png": "[encoded data removed]",
      "text/plain": [
       "<Figure size 640x480 with 1 Axes>"
      ]
     },
     "metadata": {},
     "output_type": "display_data"
    },
    {
     "name": "stdout",
     "output_type": "stream",
     "text": [
      "0) alpha=array(0.29609975, dtype=float32), err=4.90257e+05\n",
      "ITERATION 1\n",
      "cp.linalg.norm(gradpsi)=array(0., dtype=float32)\n",
      " cp.linalg.norm(gradprb)=array(0., dtype=float32)\n",
      " cp.linalg.norm(gradshift)=array(667.52344, dtype=float32)\n"
     ]
    },
    {
     "ename": "KeyboardInterrupt",
     "evalue": "",
     "output_type": "error",
     "traceback": [
      "\u001b[0;31m---------------------------------------------------------------------------\u001b[0m",
      "\u001b[0;31mKeyboardInterrupt\u001b[0m                         Traceback (most recent call last)",
      "Cell \u001b[0;32mIn[14], line 129\u001b[0m\n\u001b[1;32m    126\u001b[0m rec_psi \u001b[38;5;241m=\u001b[39m cp\u001b[38;5;241m.\u001b[39marray(np\u001b[38;5;241m.\u001b[39mload(\u001b[38;5;124mf\u001b[39m\u001b[38;5;124m'\u001b[39m\u001b[38;5;132;01m{\u001b[39;00mpath\u001b[38;5;132;01m}\u001b[39;00m\u001b[38;5;124m/data/psi_\u001b[39m\u001b[38;5;132;01m{\u001b[39;00mflg\u001b[38;5;132;01m}\u001b[39;00m\u001b[38;5;124m.npy\u001b[39m\u001b[38;5;124m'\u001b[39m))\n\u001b[1;32m    127\u001b[0m rec_psi \u001b[38;5;241m=\u001b[39m rec_psi[:,rec_psi\u001b[38;5;241m.\u001b[39mshape[\u001b[38;5;241m1\u001b[39m]\u001b[38;5;241m/\u001b[39m\u001b[38;5;241m/\u001b[39m\u001b[38;5;241m2\u001b[39m\u001b[38;5;241m-\u001b[39mne\u001b[38;5;241m/\u001b[39m\u001b[38;5;241m/\u001b[39m\u001b[38;5;241m2\u001b[39m:rec_psi\u001b[38;5;241m.\u001b[39mshape[\u001b[38;5;241m1\u001b[39m]\u001b[38;5;241m/\u001b[39m\u001b[38;5;241m/\u001b[39m\u001b[38;5;241m2\u001b[39m\u001b[38;5;241m+\u001b[39mne\u001b[38;5;241m/\u001b[39m\u001b[38;5;241m/\u001b[39m\u001b[38;5;241m2\u001b[39m,rec_psi\u001b[38;5;241m.\u001b[39mshape[\u001b[38;5;241m2\u001b[39m]\u001b[38;5;241m/\u001b[39m\u001b[38;5;241m/\u001b[39m\u001b[38;5;241m2\u001b[39m\u001b[38;5;241m-\u001b[39mne\u001b[38;5;241m/\u001b[39m\u001b[38;5;241m/\u001b[39m\u001b[38;5;241m2\u001b[39m:rec_psi\u001b[38;5;241m.\u001b[39mshape[\u001b[38;5;241m2\u001b[39m]\u001b[38;5;241m/\u001b[39m\u001b[38;5;241m/\u001b[39m\u001b[38;5;241m2\u001b[39m\u001b[38;5;241m+\u001b[39mne\u001b[38;5;241m/\u001b[39m\u001b[38;5;241m/\u001b[39m\u001b[38;5;241m2\u001b[39m]\n\u001b[0;32m--> 129\u001b[0m rec_psi,rec_prb,conv,alphaa \u001b[38;5;241m=\u001b[39m \u001b[43mcg_holo\u001b[49m\u001b[43m(\u001b[49m\u001b[43mdata\u001b[49m\u001b[43m,\u001b[49m\u001b[43mref\u001b[49m\u001b[43m,\u001b[49m\u001b[43mrec_psi\u001b[49m\u001b[43m,\u001b[49m\u001b[43mrec_prb\u001b[49m\u001b[43m,\u001b[49m\u001b[43mrec_shifts\u001b[49m\u001b[43m,\u001b[49m\u001b[43m \u001b[49m\u001b[43mpars\u001b[49m\u001b[43m)\u001b[49m\n",
      "Cell \u001b[0;32mIn[14], line 73\u001b[0m, in \u001b[0;36mcg_holo\u001b[0;34m(data, ref, init_psi, init_prb, init_shifts, pars)\u001b[0m\n\u001b[1;32m     70\u001b[0m \u001b[38;5;66;03m# gradshift[:]=0\u001b[39;00m\n\u001b[1;32m     71\u001b[0m \u001b[38;5;28mprint\u001b[39m(\u001b[38;5;124mf\u001b[39m\u001b[38;5;124m'\u001b[39m\u001b[38;5;132;01m{\u001b[39;00mcp\u001b[38;5;241m.\u001b[39mlinalg\u001b[38;5;241m.\u001b[39mnorm(gradpsi)\u001b[38;5;132;01m=}\u001b[39;00m\u001b[38;5;130;01m\\n\u001b[39;00m\u001b[38;5;124m \u001b[39m\u001b[38;5;132;01m{\u001b[39;00mcp\u001b[38;5;241m.\u001b[39mlinalg\u001b[38;5;241m.\u001b[39mnorm(gradprb)\u001b[38;5;132;01m=}\u001b[39;00m\u001b[38;5;130;01m\\n\u001b[39;00m\u001b[38;5;124m \u001b[39m\u001b[38;5;132;01m{\u001b[39;00mcp\u001b[38;5;241m.\u001b[39mlinalg\u001b[38;5;241m.\u001b[39mnorm(gradshift)\u001b[38;5;132;01m=}\u001b[39;00m\u001b[38;5;124m'\u001b[39m)        \n\u001b[0;32m---> 73\u001b[0m \u001b[43mplot_debug1\u001b[49m\u001b[43m(\u001b[49m\u001b[43mpsi\u001b[49m\u001b[43m,\u001b[49m\u001b[43mprb\u001b[49m\u001b[43m,\u001b[49m\u001b[43mshifts\u001b[49m\u001b[43m,\u001b[49m\u001b[43mgradshift\u001b[49m\u001b[43m,\u001b[49m\u001b[43mdata\u001b[49m\u001b[43m)\u001b[49m\n\u001b[1;32m     75\u001b[0m \u001b[38;5;28;01mif\u001b[39;00m i\u001b[38;5;241m==\u001b[39m\u001b[38;5;241m0\u001b[39m:\n\u001b[1;32m     76\u001b[0m     etapsi \u001b[38;5;241m=\u001b[39m \u001b[38;5;241m-\u001b[39mgradpsi\n",
      "Cell \u001b[0;32mIn[14], line 22\u001b[0m, in \u001b[0;36mplot_debug1\u001b[0;34m(psi, prb, shifts, gradshift, data)\u001b[0m\n\u001b[1;32m     20\u001b[0m     b \u001b[38;5;241m=\u001b[39m cp\u001b[38;5;241m.\u001b[39msum(cp\u001b[38;5;241m.\u001b[39mreal(gradshift\u001b[38;5;241m*\u001b[39mcp\u001b[38;5;241m.\u001b[39mconj(shifts_gt\u001b[38;5;241m-\u001b[39mshifts)))\n\u001b[1;32m     21\u001b[0m     a \u001b[38;5;241m=\u001b[39m minf(ft,data)\n\u001b[0;32m---> 22\u001b[0m     err1[it] \u001b[38;5;241m=\u001b[39m a\u001b[38;5;241m+\u001b[39m(tt[it])\u001b[38;5;241m*\u001b[39mb\u001b[38;5;241m+\u001b[39m\u001b[38;5;241m0.5\u001b[39m\u001b[38;5;241m*\u001b[39mtt[it]\u001b[38;5;241m*\u001b[39m\u001b[38;5;241m*\u001b[39m\u001b[38;5;241m2\u001b[39m\u001b[38;5;241m*\u001b[39m\u001b[43mhessian2\u001b[49m\u001b[43m(\u001b[49m\u001b[43mpsi\u001b[49m\u001b[43m,\u001b[49m\u001b[43mprb\u001b[49m\u001b[43m,\u001b[49m\u001b[43mshifts\u001b[49m\u001b[43m,\u001b[49m\n\u001b[1;32m     23\u001b[0m \u001b[43m                                                    \u001b[49m\u001b[43mpsi\u001b[49m\u001b[38;5;241;43m*\u001b[39;49m\u001b[38;5;241;43m0\u001b[39;49m\u001b[43m,\u001b[49m\u001b[43mprb\u001b[49m\u001b[38;5;241;43m*\u001b[39;49m\u001b[38;5;241;43m0\u001b[39;49m\u001b[43m,\u001b[49m\u001b[43mshifts_gt\u001b[49m\u001b[38;5;241;43m-\u001b[39;49m\u001b[43mshifts\u001b[49m\u001b[43m,\u001b[49m\n\u001b[1;32m     24\u001b[0m \u001b[43m                                                    \u001b[49m\u001b[43mpsi\u001b[49m\u001b[38;5;241;43m*\u001b[39;49m\u001b[38;5;241;43m0\u001b[39;49m\u001b[43m,\u001b[49m\u001b[43mprb\u001b[49m\u001b[38;5;241;43m*\u001b[39;49m\u001b[38;5;241;43m0\u001b[39;49m\u001b[43m,\u001b[49m\u001b[43mshifts_gt\u001b[49m\u001b[38;5;241;43m-\u001b[39;49m\u001b[43mshifts\u001b[49m\u001b[43m,\u001b[49m\u001b[43mdata\u001b[49m\u001b[43m)\u001b[49m\n\u001b[1;32m     25\u001b[0m plt\u001b[38;5;241m.\u001b[39mplot(err\u001b[38;5;241m.\u001b[39mget(),label\u001b[38;5;241m=\u001b[39m\u001b[38;5;124m'\u001b[39m\u001b[38;5;124mfunction values\u001b[39m\u001b[38;5;124m'\u001b[39m)\n\u001b[1;32m     26\u001b[0m plt\u001b[38;5;241m.\u001b[39mplot(err1\u001b[38;5;241m.\u001b[39mget(),label\u001b[38;5;241m=\u001b[39m\u001b[38;5;124m'\u001b[39m\u001b[38;5;124mTaylor approx\u001b[39m\u001b[38;5;124m'\u001b[39m)\n",
      "Cell \u001b[0;32mIn[12], line 4\u001b[0m, in \u001b[0;36mhessian2\u001b[0;34m(psi, q, x, dpsi1, dq1, dx1, dpsi2, dq2, dx2, data)\u001b[0m\n\u001b[1;32m      1\u001b[0m \u001b[38;5;28;01mdef\u001b[39;00m \u001b[38;5;21mhessian2\u001b[39m(psi,q,x,dpsi1,dq1,dx1,dpsi2,dq2,dx2,data):\n\u001b[1;32m      2\u001b[0m     gradF \u001b[38;5;241m=\u001b[39m gradientF(psi,q,x,data)\n\u001b[0;32m----> 4\u001b[0m     res \u001b[38;5;241m=\u001b[39m cp\u001b[38;5;241m.\u001b[39mreal(cp\u001b[38;5;241m.\u001b[39msum(gradF\u001b[38;5;241m*\u001b[39mcp\u001b[38;5;241m.\u001b[39mconj(\u001b[43mD2M\u001b[49m\u001b[43m(\u001b[49m\u001b[43mpsi\u001b[49m\u001b[43m,\u001b[49m\u001b[43mq\u001b[49m\u001b[43m,\u001b[49m\u001b[43mx\u001b[49m\u001b[43m,\u001b[49m\u001b[43mdpsi1\u001b[49m\u001b[43m,\u001b[49m\u001b[43mdq1\u001b[49m\u001b[43m,\u001b[49m\u001b[43mdx1\u001b[49m\u001b[43m,\u001b[49m\u001b[43mdpsi2\u001b[49m\u001b[43m,\u001b[49m\u001b[43mdq2\u001b[49m\u001b[43m,\u001b[49m\u001b[43mdx2\u001b[49m\u001b[43m)\u001b[49m)))\n\u001b[1;32m      5\u001b[0m     res \u001b[38;5;241m+\u001b[39m\u001b[38;5;241m=\u001b[39m hessianF(Sop(psi,x\u001b[38;5;241m*\u001b[39mrho)\u001b[38;5;241m*\u001b[39mq, DM(psi,q,x,dpsi1,dq1,dx1),DM(psi,q,x,dpsi2,dq2,dx2),data) \n\u001b[1;32m      7\u001b[0m     \u001b[38;5;28;01mreturn\u001b[39;00m res\n",
      "Cell \u001b[0;32mIn[11], line 3\u001b[0m, in \u001b[0;36mD2M\u001b[0;34m(psi, q, x, dpsi1, dq1, dx1, dpsi2, dq2, dx2)\u001b[0m\n\u001b[1;32m      1\u001b[0m \u001b[38;5;28;01mdef\u001b[39;00m \u001b[38;5;21mD2M\u001b[39m(psi,q,x,dpsi1,dq1,dx1,dpsi2,dq2,dx2):    \n\u001b[1;32m      2\u001b[0m     res \u001b[38;5;241m=\u001b[39m  q\u001b[38;5;241m*\u001b[39mDT(dpsi1,x,dx2) \u001b[38;5;241m+\u001b[39m q\u001b[38;5;241m*\u001b[39mDT(dpsi2,x,dx1) \u001b[38;5;241m+\u001b[39m q\u001b[38;5;241m*\u001b[39mD2T(psi,x,dx1,dx2)  \n\u001b[0;32m----> 3\u001b[0m     res \u001b[38;5;241m+\u001b[39m\u001b[38;5;241m=\u001b[39m dq1\u001b[38;5;241m*\u001b[39m\u001b[43mSop\u001b[49m\u001b[43m(\u001b[49m\u001b[43mdpsi2\u001b[49m\u001b[43m,\u001b[49m\u001b[43mx\u001b[49m\u001b[38;5;241;43m*\u001b[39;49m\u001b[43mrho\u001b[49m\u001b[43m)\u001b[49m \u001b[38;5;241m+\u001b[39m dq2\u001b[38;5;241m*\u001b[39mSop(dpsi1,x\u001b[38;5;241m*\u001b[39mrho) \n\u001b[1;32m      4\u001b[0m     res \u001b[38;5;241m+\u001b[39m\u001b[38;5;241m=\u001b[39m dq1\u001b[38;5;241m*\u001b[39mDT(psi,x,dx2) \u001b[38;5;241m+\u001b[39m dq2\u001b[38;5;241m*\u001b[39mDT(psi,x,dx1)\n\u001b[1;32m      5\u001b[0m     \u001b[38;5;28;01mreturn\u001b[39;00m res\n",
      "Cell \u001b[0;32mIn[4], line 28\u001b[0m, in \u001b[0;36mSop\u001b[0;34m(psi, shifts)\u001b[0m\n\u001b[1;32m     25\u001b[0m psir \u001b[38;5;241m=\u001b[39m psi\u001b[38;5;241m.\u001b[39mcopy()\n\u001b[1;32m     27\u001b[0m \u001b[38;5;66;03m# shift and crop the code \u001b[39;00m\n\u001b[0;32m---> 28\u001b[0m psir \u001b[38;5;241m=\u001b[39m \u001b[43mS\u001b[49m\u001b[43m(\u001b[49m\u001b[43mpsir\u001b[49m\u001b[43m,\u001b[49m\u001b[43m \u001b[49m\u001b[43mshifts\u001b[49m\u001b[43m[\u001b[49m\u001b[43m:\u001b[49m\u001b[43m,\u001b[49m\u001b[43m \u001b[49m\u001b[43mi\u001b[49m\u001b[43m]\u001b[49m\u001b[43m)\u001b[49m\n\u001b[1;32m     29\u001b[0m nee \u001b[38;5;241m=\u001b[39m psir\u001b[38;5;241m.\u001b[39mshape[\u001b[38;5;241m1\u001b[39m]        \n\u001b[1;32m     30\u001b[0m data[:,i] \u001b[38;5;241m=\u001b[39m psir[:, nee\u001b[38;5;241m/\u001b[39m\u001b[38;5;241m/\u001b[39m\u001b[38;5;241m2\u001b[39m\u001b[38;5;241m-\u001b[39mn\u001b[38;5;241m/\u001b[39m\u001b[38;5;241m/\u001b[39m\u001b[38;5;241m2\u001b[39m\u001b[38;5;241m-\u001b[39mpad:nee\u001b[38;5;241m/\u001b[39m\u001b[38;5;241m/\u001b[39m\u001b[38;5;241m2\u001b[39m\u001b[38;5;241m+\u001b[39mn\u001b[38;5;241m/\u001b[39m\u001b[38;5;241m/\u001b[39m\u001b[38;5;241m2\u001b[39m\u001b[38;5;241m+\u001b[39mpad, nee\u001b[38;5;241m/\u001b[39m\u001b[38;5;241m/\u001b[39m\u001b[38;5;241m2\u001b[39m\u001b[38;5;241m-\u001b[39mn\u001b[38;5;241m/\u001b[39m\u001b[38;5;241m/\u001b[39m\u001b[38;5;241m2\u001b[39m\u001b[38;5;241m-\u001b[39mpad:nee\u001b[38;5;241m/\u001b[39m\u001b[38;5;241m/\u001b[39m\u001b[38;5;241m2\u001b[39m\u001b[38;5;241m+\u001b[39mn\u001b[38;5;241m/\u001b[39m\u001b[38;5;241m/\u001b[39m\u001b[38;5;241m2\u001b[39m\u001b[38;5;241m+\u001b[39mpad]\n",
      "File \u001b[0;32m~/conda/miniforge3/envs/holotomocupy/lib/python3.12/site-packages/holotomocupy/chunking.py:38\u001b[0m, in \u001b[0;36mgpu_batch.<locals>.inner\u001b[0;34m(*args, **kwargs)\u001b[0m\n\u001b[1;32m     36\u001b[0m \u001b[38;5;66;03m# if array is on gpu then just run the function\u001b[39;00m\n\u001b[1;32m     37\u001b[0m \u001b[38;5;28;01mif\u001b[39;00m \u001b[38;5;28misinstance\u001b[39m(args[\u001b[38;5;241m0\u001b[39m], cp\u001b[38;5;241m.\u001b[39mndarray):\n\u001b[0;32m---> 38\u001b[0m     out \u001b[38;5;241m=\u001b[39m \u001b[43mfunc\u001b[49m\u001b[43m(\u001b[49m\u001b[38;5;241;43m*\u001b[39;49m\u001b[43margs\u001b[49m\u001b[43m,\u001b[49m\u001b[43m \u001b[49m\u001b[38;5;241;43m*\u001b[39;49m\u001b[38;5;241;43m*\u001b[39;49m\u001b[43mkwargs\u001b[49m\u001b[43m)\u001b[49m\n\u001b[1;32m     39\u001b[0m     \u001b[38;5;28;01mreturn\u001b[39;00m out\n\u001b[1;32m     41\u001b[0m \u001b[38;5;66;03m#else do processing by chunks\u001b[39;00m\n",
      "File \u001b[0;32m~/conda/miniforge3/envs/holotomocupy/lib/python3.12/site-packages/holotomocupy/shift.py:27\u001b[0m, in \u001b[0;36mS\u001b[0;34m(psi, shift, ptype)\u001b[0m\n\u001b[1;32m     25\u001b[0m \u001b[38;5;28;01mif\u001b[39;00m np\u001b[38;5;241m.\u001b[39mall(shift \u001b[38;5;241m==\u001b[39m \u001b[38;5;241m0\u001b[39m):\n\u001b[1;32m     26\u001b[0m     \u001b[38;5;28;01mreturn\u001b[39;00m res\n\u001b[0;32m---> 27\u001b[0m p \u001b[38;5;241m=\u001b[39m \u001b[43mcp\u001b[49m\u001b[38;5;241;43m.\u001b[39;49m\u001b[43mpad\u001b[49m\u001b[43m(\u001b[49m\u001b[43mshift\u001b[49m\u001b[43m,\u001b[49m\u001b[43m \u001b[49m\u001b[43m(\u001b[49m\u001b[38;5;241;43m0\u001b[39;49m\u001b[43m,\u001b[49m\u001b[43m \u001b[49m\u001b[43mres\u001b[49m\u001b[38;5;241;43m.\u001b[39;49m\u001b[43mshape\u001b[49m\u001b[43m[\u001b[49m\u001b[38;5;241;43m0\u001b[39;49m\u001b[43m]\u001b[49m\u001b[38;5;241;43m-\u001b[39;49m\u001b[43mshift\u001b[49m\u001b[38;5;241;43m.\u001b[39;49m\u001b[43mshape\u001b[49m\u001b[43m[\u001b[49m\u001b[38;5;241;43m0\u001b[39;49m\u001b[43m]\u001b[49m\u001b[43m)\u001b[49m\u001b[43m)\u001b[49m    \n\u001b[1;32m     28\u001b[0m \u001b[38;5;66;03m# res = ndimage.zoom(res,(1,2,2),order=0)    \u001b[39;00m\n\u001b[1;32m     29\u001b[0m n \u001b[38;5;241m=\u001b[39m res\u001b[38;5;241m.\u001b[39mshape[\u001b[38;5;241m-\u001b[39m\u001b[38;5;241m1\u001b[39m]    \n",
      "File \u001b[0;32m~/conda/miniforge3/envs/holotomocupy/lib/python3.12/site-packages/cupy/_padding/pad.py:418\u001b[0m, in \u001b[0;36mpad\u001b[0;34m(array, pad_width, mode, **kwargs)\u001b[0m\n\u001b[1;32m    407\u001b[0m     \u001b[38;5;28;01mreturn\u001b[39;00m x_view\u001b[38;5;241m.\u001b[39mtolist()\n\u001b[1;32m    409\u001b[0m \u001b[38;5;66;03m# def _pad_dispatcher(array, pad_width, mode=None, **kwargs):\u001b[39;00m\n\u001b[1;32m    410\u001b[0m \u001b[38;5;66;03m#    return (array,)\u001b[39;00m\n\u001b[1;32m    411\u001b[0m \n\u001b[0;32m   (...)\u001b[0m\n\u001b[1;32m    416\u001b[0m \n\u001b[1;32m    417\u001b[0m \u001b[38;5;66;03m# @array_function_dispatch(_pad_dispatcher, module='numpy')\u001b[39;00m\n\u001b[0;32m--> 418\u001b[0m \u001b[38;5;28;01mdef\u001b[39;00m \u001b[38;5;21mpad\u001b[39m(array, pad_width, mode\u001b[38;5;241m=\u001b[39m\u001b[38;5;124m'\u001b[39m\u001b[38;5;124mconstant\u001b[39m\u001b[38;5;124m'\u001b[39m, \u001b[38;5;241m*\u001b[39m\u001b[38;5;241m*\u001b[39mkwargs):\n\u001b[1;32m    419\u001b[0m \u001b[38;5;250m    \u001b[39m\u001b[38;5;124;03m\"\"\"Pads an array with specified widths and values.\u001b[39;00m\n\u001b[1;32m    420\u001b[0m \n\u001b[1;32m    421\u001b[0m \u001b[38;5;124;03m    Args:\u001b[39;00m\n\u001b[0;32m   (...)\u001b[0m\n\u001b[1;32m    592\u001b[0m \u001b[38;5;124;03m           [100, 100, 100, 100, 100, 100, 100]])\u001b[39;00m\n\u001b[1;32m    593\u001b[0m \u001b[38;5;124;03m    \"\"\"\u001b[39;00m\n\u001b[1;32m    594\u001b[0m     \u001b[38;5;28;01mif\u001b[39;00m \u001b[38;5;28misinstance\u001b[39m(pad_width, numbers\u001b[38;5;241m.\u001b[39mIntegral):\n",
      "\u001b[0;31mKeyboardInterrupt\u001b[0m: "
     ]
    }
   ],
   "source": [
    "def get_cmap(n, name='hsv'):\n",
    "    '''Returns a function that maps each index in 0, 1, ..., n-1 to a distinct \n",
    "    RGB color; the keyword argument name must be a standard mpl colormap name.'''\n",
    "    return plt.cm.get_cmap(name, n)\n",
    "\n",
    "# minimization functional\n",
    "def minf(fpsi,data):\n",
    "    f = np.linalg.norm(np.abs(fpsi)-data)**2\n",
    "    return f\n",
    "\n",
    "def plot_debug1(psi,prb,shifts,gradshift,data):\n",
    "    err = cp.zeros(16)\n",
    "    err1 = cp.zeros(16)\n",
    "    tt=cp.linspace(0,1,16)\n",
    "    \n",
    "    for it in range(16):\n",
    "        st = shifts+(shifts_gt-shifts)*tt[it]\n",
    "        ft = Lop(Sop(psi,st*rho)*prb)\n",
    "        err[it] = minf(ft,data)\n",
    "        b = cp.sum(cp.real(gradshift*cp.conj(shifts_gt-shifts)))\n",
    "        a = minf(ft,data)\n",
    "        err1[it] = a+(tt[it])*b+0.5*tt[it]**2*hessian2(psi,prb,shifts,\n",
    "                                                        psi*0,prb*0,shifts_gt-shifts,\n",
    "                                                        psi*0,prb*0,shifts_gt-shifts,data)\n",
    "    plt.plot(err.get(),label='function values')\n",
    "    plt.plot(err1.get(),label='Taylor approx')\n",
    "    plt.legend()\n",
    "    plt.show()\n",
    "\n",
    "def plot_debug2(psi,prb,shifts,etapsi,etaprb,etashift,top,bottom,alpha,data):\n",
    "    npp = 17\n",
    "    errt = np.zeros(npp*2)\n",
    "    errt2 = np.zeros(npp*2)\n",
    "    for k in range(0,npp*2):\n",
    "        psit = psi+(alpha*k/(npp-1))*etapsi\n",
    "        prbt = prb+(alpha*k/(npp-1))*etaprb\n",
    "        shiftst = shifts+(alpha*k/(npp-1))*etashift\n",
    "        fpsit = Lop(Sop(psit,shiftst*rho)*prbt)\n",
    "        errt[k] = minf(fpsit,data)    \n",
    "\n",
    "    t = alpha*(cp.arange(2*npp))/(npp-1)\n",
    "    errt2 = minf(Lop(Sop(psi,shifts*rho)*prb),data)-top*t+0.5*bottom*t**2\n",
    "    \n",
    "    plt.plot(alpha.get()*np.arange(2*npp)/(npp-1),errt,'.')\n",
    "    plt.plot(alpha.get()*np.arange(2*npp)/(npp-1),errt2.get(),'.')\n",
    "    plt.show()\n",
    "\n",
    "def plot_debug3(shifts):\n",
    "    plt.plot((shifts_gt[0,:,0]).get()-(shifts[0,:,0]).get(),'r.')\n",
    "    plt.plot((shifts_gt[0,:,1]).get()-(shifts[0,:,1]).get(),'b.')\n",
    "    plt.show()\n",
    "             \n",
    "def cg_holo(data,ref, init_psi,init_prb,init_shifts, pars):\n",
    "\n",
    "    data = np.sqrt(data)\n",
    "    ref = np.sqrt(ref)\n",
    "    psi = init_psi.copy()\n",
    "    prb = init_prb.copy()\n",
    "    shifts = init_shifts.copy()\n",
    "\n",
    "    conv = np.zeros(pars['niter'])\n",
    "    alphaa = np.zeros(pars['niter'])    \n",
    "    \n",
    "    for i in range(pars['niter']):                                                \n",
    "        print(f\"ITERATION {i}\")\n",
    "        \n",
    "        gradpsi,gradprb,gradshift = gradients(psi,prb,shifts,data)\n",
    "        gradpsi[:] = 0\n",
    "        gradprb[:] = 0\n",
    "        # gradshift[:]=0\n",
    "        print(f'{cp.linalg.norm(gradpsi)=}\\n {cp.linalg.norm(gradprb)=}\\n {cp.linalg.norm(gradshift)=}')        \n",
    "        \n",
    "        plot_debug1(psi,prb,shifts,gradshift,data)\n",
    "        \n",
    "        if i==0:\n",
    "            etapsi = -gradpsi\n",
    "            etaprb = -gradprb\n",
    "            etashift = -gradshift\n",
    "        else:        \n",
    "            beta = hessian2(psi,prb,shifts,gradpsi,gradprb,gradshift,etapsi,etaprb,etashift,data)/\\\n",
    "                   hessian2(psi,prb,shifts, etapsi, etaprb, etashift,etapsi,etaprb,etashift,data)                        \n",
    "            etapsi = -gradpsi + beta*etapsi\n",
    "            etaprb = -gradprb + beta*etaprb\n",
    "            etashift = -gradshift + beta*etashift            \n",
    "        #top\n",
    "        top = -(cp.sum(cp.real(gradpsi*cp.conj(etapsi)))+\n",
    "                cp.sum(cp.real(gradprb*cp.conj(etaprb)))+\n",
    "                cp.sum(cp.real(gradshift*cp.conj(etashift))))        \n",
    "        bottom = hessian2(psi,prb,shifts,etapsi,etaprb,etashift,\n",
    "                                         etapsi,etaprb,etashift,data)\n",
    "        alpha = top/bottom        \n",
    "        \n",
    "        plot_debug2(psi,prb,shifts,etapsi,etaprb,etashift,top,bottom,alpha,data)\n",
    "        \n",
    "        psi += alpha*etapsi\n",
    "        prb += alpha*etaprb\n",
    "        shifts += alpha*etashift\n",
    "        \n",
    "        plot_debug3(shifts)\n",
    "\n",
    "        if i % pars['err_step'] == 0:\n",
    "            fpsi = Lop(Sop(psi,shifts*rho)*prb)\n",
    "            err = minf(fpsi,data)\n",
    "            conv[i] = err\n",
    "            alphaa[i] = alpha\n",
    "            print(f'{i}) {alpha=}, {err=:1.5e}')\n",
    "        \n",
    "    return psi,prb,conv,alphaa\n",
    "\n",
    "rec_psi = cp.ones([1,ne,ne],dtype='complex64')\n",
    "data = cp.array(data00.copy())\n",
    "ref = cp.array(ref0.copy())\n",
    "rec_shifts = cp.array(shifts/rho)\n",
    "shifts_gt = cp.array(shifts/rho)\n",
    "\n",
    "rec_shifts[:,:,:] += 4*(cp.random.random(rec_shifts.shape)-0.5)/rho\n",
    "# rec_shifts[:,0,0]+=10/rho\n",
    "# rec_shifts=cp.array(np.load('rec_shifts.npy'))   \n",
    "\n",
    "rec_psi = rec_init(ref0,data00,rec_shifts*rho)\n",
    "rec_prb = cp.ones([1,n+2*pad,n+2*pad],dtype='complex64')\n",
    "pars = {'niter': 64, 'err_step': 1, 'vis_step': -1}\n",
    "\n",
    "rec_prb = cp.array(np.load(f'{path}/data/prb_{flg}.npy'))\n",
    "# print(rec_prb.shape)\n",
    "rec_psi = cp.array(np.load(f'{path}/data/psi_{flg}.npy'))\n",
    "rec_psi = rec_psi[:,rec_psi.shape[1]//2-ne//2:rec_psi.shape[1]//2+ne//2,rec_psi.shape[2]//2-ne//2:rec_psi.shape[2]//2+ne//2]\n",
    "\n",
    "rec_psi,rec_prb,conv,alphaa = cg_holo(data,ref,rec_psi,rec_prb,rec_shifts, pars)\n",
    "\n",
    "    "
   ]
  }
 ],
 "metadata": {
  "kernelspec": {
   "display_name": "Python 3 (ipykernel)",
   "language": "python",
   "name": "python3"
  },
  "language_info": {
   "codemirror_mode": {
    "name": "ipython",
    "version": 3
   },
   "file_extension": ".py",
   "mimetype": "text/x-python",
   "name": "python",
   "nbconvert_exporter": "python",
   "pygments_lexer": "ipython3",
   "version": "3.12.4"
  }
 },
 "nbformat": 4,
 "nbformat_minor": 5
}
