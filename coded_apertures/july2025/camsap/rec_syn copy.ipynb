{
 "cells": [
  {
   "cell_type": "code",
   "execution_count": 1,
   "id": "fad77fab-e206-47c1-9655-088d14fe30cb",
   "metadata": {},
   "outputs": [],
   "source": [
    "import numpy as np\n",
    "import cupy as cp\n",
    "import sys\n",
    "import pandas as pd\n",
    "import time\n",
    "import matplotlib.pyplot as plt\n",
    "import h5py\n",
    "from types import SimpleNamespace\n",
    "import warnings\n",
    "warnings.filterwarnings(\"ignore\", message=f\".*peer.*\")\n",
    "\n",
    "sys.path.insert(0, '..')\n",
    "from utils import *\n",
    "from rec import Rec"
   ]
  },
  {
   "cell_type": "markdown",
   "id": "3c0fdd65-1cff-451e-865e-56cd8b7882a6",
   "metadata": {},
   "source": [
    "# Init data sizes and parametes of the PXM of ID16A"
   ]
  },
  {
   "cell_type": "code",
   "execution_count": 2,
   "id": "59fa16f2-1f9c-4b3a-a330-e10942f12234",
   "metadata": {},
   "outputs": [],
   "source": [
    "n = 256  # object size in each dimension\n",
    "ntheta = 128  # number of angles (rotations)\n",
    "theta = np.linspace(0, np.pi, ntheta).astype('float32')  # projection angles\n",
    "\n",
    "ndist = 4\n",
    "detector_pixelsize = 3e-6\n",
    "energy = 33.35  # [keV] xray energy\n",
    "wavelength = 1.2398419840550367e-09/energy  # [m] wave length\n",
    "\n",
    "focusToDetectorDistance = 1.208  # [m]\n",
    "sx0 = -2.493e-3\n",
    "z1 = np.array([1.5335e-3, 1.7065e-3, 2.3975e-3, 3.8320e-3])[:ndist]-sx0\n",
    "z2 = focusToDetectorDistance-z1\n",
    "distances = (z1*z2)/focusToDetectorDistance\n",
    "magnifications = focusToDetectorDistance/z1\n",
    "voxelsize = detector_pixelsize/magnifications[0]*2048/n/2  # object voxel size\n",
    "\n",
    "norm_magnifications = magnifications/magnifications[0]\n",
    "distances = distances*norm_magnifications**2\n",
    "npsi = int(np.ceil(n/norm_magnifications[-1]/8))*8  # make multiple of 8"
   ]
  },
  {
   "cell_type": "code",
   "execution_count": 3,
   "id": "cfa67fb9",
   "metadata": {},
   "outputs": [],
   "source": [
    "args = SimpleNamespace()\n",
    "args.ngpus = 1\n",
    "args.n = n\n",
    "args.ndist = ndist\n",
    "args.ntheta = ntheta\n",
    "args.pad = 0\n",
    "args.npsi = npsi\n",
    "args.nq = args.n + 2 * args.pad\n",
    "args.nchunk = 32\n",
    "\n",
    "args.voxelsize = voxelsize\n",
    "args.wavelength = wavelength\n",
    "args.distance = distances\n",
    "args.rotation_axis=args.npsi/2\n",
    "\n",
    "args.theta = theta\n",
    "args.norm_magnifications = norm_magnifications\n",
    "# create class\n",
    "cl_rec = Rec(args)\n"
   ]
  },
  {
   "cell_type": "markdown",
   "id": "49eb1696-bb30-496e-8c3d-565f2791112c",
   "metadata": {},
   "source": [
    "## Read real and imaginary parts of the refractive index u = delta+i beta"
   ]
  },
  {
   "cell_type": "code",
   "execution_count": null,
   "id": "8a579ce4-0cd2-4769-a03d-7614aa96b0a8",
   "metadata": {},
   "outputs": [],
   "source": [
    "data = np.zeros([ntheta,ndist,n,n],dtype='float32')\n",
    "ref = np.zeros([ndist,n,n],dtype='float32')\n",
    "for k in range(len(distances)):\n",
    "    data[:,k] = read_tiff(f'/data/vnikitin/syn/data/data_{k}.tiff')\n",
    "for k in range(len(distances)):\n",
    "    ref[k] = read_tiff(f'/data/vnikitin/syn/ref_{k}.tiff')\n",
    "r = np.load(f'/data/vnikitin/syn/r.npy')\n",
    "\n",
    "for k in range(ndist):\n",
    "    mshow(data[0,k]/ref[k],True)"
   ]
  },
  {
   "cell_type": "code",
   "execution_count": null,
   "id": "aca9568a",
   "metadata": {},
   "outputs": [],
   "source": [
    "rdata = data/ref\n",
    "srdata = np.zeros([ntheta,ndist,args.npsi,args.npsi],dtype='float32')\n",
    "distances_pag = (distances/norm_magnifications**2)\n",
    "npad=n//16\n",
    "for j in np.arange(ndist)[::-1]:\n",
    "    print(j)\n",
    "    tmp = cl_rec.STa(r[:,j]*norm_magnifications[j],rdata[:,j].astype('complex64'),\n",
    "                     'edge')    \n",
    "    mshow_complex(tmp[0],True)\n",
    "    # tmp=cp.array(tmp)\n",
    "    tmp = (cl_rec.MT(tmp,j)/norm_magnifications[j]**2).real    \n",
    "    mshow(tmp[0],True)\n",
    "    # ss\n",
    "    st = np.where(tmp[0]>1e-1)[0][0]+4\n",
    "    \n",
    "    if j==ndist-1:\n",
    "         tmp = np.pad(tmp[:,st:-st,st:-st],((0,0),(st,st),(st,st)),'symmetric')\n",
    "    if j<ndist-1:\n",
    "        w = np.ones([args.npsi],dtype='float32')  \n",
    "        v = np.linspace(0, 1, npad, endpoint=False)\n",
    "        v = v**5*(126-420*v+540*v**2-315*v**3+70*v**4)             \n",
    "        w[:st]=0\n",
    "        w[st:st+npad] = v\n",
    "        w[-st-npad:-st] = 1-v\n",
    "        w[-st:]=0\n",
    "        w=np.outer(w,w)\n",
    "        tmp=tmp*(w)+srdata[:,j+1]*(1-w)       \n",
    "    srdata[:,j]=tmp\n",
    "    mshow(srdata[0,j],True)"
   ]
  },
  {
   "cell_type": "code",
   "execution_count": null,
   "id": "6ae30f8e-2518-42aa-bbbc-9a2664e74e2d",
   "metadata": {},
   "outputs": [],
   "source": [
    "def multiPaganin(data, distances, wavelength, voxelsize, delta_beta,  alpha):    \n",
    "    \n",
    "    fx = cp.fft.fftfreq(data.shape[-1], d=voxelsize).astype('float32')\n",
    "    [fx, fy] = cp.meshgrid(fx, fx)\n",
    "    numerator = 0\n",
    "    denominator = 0\n",
    "    for j in range(data.shape[0]):        \n",
    "        rad_freq = cp.fft.fft2(data[j])\n",
    "        taylorExp = 1 + wavelength * distances[j] * cp.pi * (delta_beta) * (fx**2+fy**2)\n",
    "        numerator = numerator + taylorExp * (rad_freq)\n",
    "        denominator = denominator + taylorExp**2\n",
    "\n",
    "    numerator = numerator / len(distances)\n",
    "    denominator = (denominator / len(distances)) + alpha\n",
    "\n",
    "    phase = cp.log(cp.real(cp.fft.ifft2(numerator / denominator)))\n",
    "    phase = (delta_beta) * 0.5 * phase\n",
    "\n",
    "    return phase\n",
    "\n",
    "\n",
    "def rec_init(rdata):\n",
    "    recMultiPaganin = np.zeros([args.ntheta,args.npsi, args.npsi], dtype=\"float32\")\n",
    "    for j in range(0, args.ntheta):\n",
    "        r = cp.array(rdata[j])\n",
    "        distances_pag = (distances/norm_magnifications**2)\n",
    "        r = multiPaganin(r, distances_pag,wavelength, voxelsize,120, 1e-3)            \n",
    "        recMultiPaganin[j] = r.get()           \n",
    "    \n",
    "    recMultiPaganin-=np.mean(recMultiPaganin[:,:,:50])\n",
    "    recMultiPaganin = np.exp(1j * recMultiPaganin)\n",
    "    return recMultiPaganin\n",
    "psi_init = rec_init(srdata)\n",
    "print(np.mean(np.angle(psi_init[:,:,:50])))\n",
    "mshow_polar(psi_init[0],True)\n",
    "mshow_polar(psi_init[-1],True)\n",
    "write_tiff(np.angle(psi_init),'/data/tmp/tmp5')\n",
    "# done"
   ]
  },
  {
   "cell_type": "code",
   "execution_count": null,
   "id": "0c279638",
   "metadata": {},
   "outputs": [],
   "source": [
    "# psi_data = np.log(psi_init)/1j\n",
    "# u_init = cl_rec.rec_tomo(psi_data,32)\n",
    "# np.save('/data/vnikitin/syn/u_init',u_init)\n",
    "u_init=np.load('/data/vnikitin/syn/u_init.npy')\n",
    "mshow_complex(u_init[u_init.shape[0]//2],True)"
   ]
  },
  {
   "cell_type": "code",
   "execution_count": null,
   "id": "eb9a6762",
   "metadata": {},
   "outputs": [],
   "source": [
    "q_init = np.ones([4,args.nq,args.nq],dtype='complex64')\n",
    "for j in range(ndist):\n",
    "    q_init[j] = cl_rec.DT(np.sqrt(ref[j:j+1]),j)[0]\n",
    "\n",
    "mshow_polar(q_init[0],True)\n",
    "mshow_polar(q_init[-1],True)\n"
   ]
  },
  {
   "cell_type": "code",
   "execution_count": null,
   "id": "01b6f4c1",
   "metadata": {},
   "outputs": [],
   "source": [
    "a = np.random.random([ntheta,npsi,npsi]).astype('float32')+1j*np.random.random([ntheta,npsi,npsi]).astype('float32')\n",
    "b = cl_rec.M(a,2)\n",
    "c = cl_rec.MT(b,2)\n",
    "print(np.sum(a*np.conj(c)))\n",
    "print(np.sum(b*np.conj(b)))\n",
    "\n",
    "b = cl_rec.S(r[:,2],a)\n",
    "c = cl_rec.ST(r[:,2],b)\n",
    "print(np.sum(a*np.conj(c)))\n",
    "print(np.sum(b*np.conj(b)))\n",
    "\n",
    "a = np.random.random([ntheta,args.nq,args.nq]).astype('float32')+1j*np.random.random([ntheta,args.nq,args.nq]).astype('float32')\n",
    "b = cl_rec.D(a,j)\n",
    "c = cl_rec.DT(b,j)\n",
    "print(np.sum(a*np.conj(c)))\n",
    "print(np.sum(b*np.conj(b)))\n",
    "\n",
    "a = np.random.random([npsi,npsi,npsi]).astype('float32')+1j*np.random.random([npsi,npsi,npsi]).astype('float32')\n",
    "b = cl_rec.R(a)\n",
    "c = cl_rec.RT(b)\n",
    "print(np.sum(a*np.conj(c)))\n",
    "print(np.sum(b*np.conj(b)))\n",
    "\n",
    "\n"
   ]
  },
  {
   "cell_type": "code",
   "execution_count": 10,
   "id": "95bbdbf2",
   "metadata": {},
   "outputs": [],
   "source": [
    "np.random.seed(10)\n",
    "rerr = r+(np.random.random(r.shape).astype('float32')-0.5)"
   ]
  },
  {
   "cell_type": "code",
   "execution_count": null,
   "id": "c41a3453",
   "metadata": {},
   "outputs": [],
   "source": [
    "args.niter=257\n",
    "args.vis_step=32\n",
    "args.err_step=4\n",
    "args.lam=0\n",
    "args.path_out='/data/vnikitin/syn'\n",
    "args.show=True\n",
    "args.rho=[1,25,15]\n",
    "cl_rec = Rec(args)\n",
    "vars={}\n",
    "vars[\"u\"] = cp.array(u_init.copy())\n",
    "vars[\"q\"] = cp.array(cp.array(q_init))\n",
    "vars[\"r\"] = cp.array(rerr)\n",
    "vars[\"r_init\"] = cp.array(r.copy())\n",
    "\n",
    "vars[\"psi\"] = cl_rec.R(vars['u'])        \n",
    "vars[\"psi\"][:] = cl_rec.expR(vars[\"psi\"])        \n",
    "vars[\"table\"] = pd.DataFrame(columns=[\"iter\", \"err\", \"time\"])    \n",
    "vars = cl_rec.BH(cp.array(np.sqrt(data)), vars)  "
   ]
  }
 ],
 "metadata": {
  "kernelspec": {
   "display_name": "holotomocupy",
   "language": "python",
   "name": "python3"
  },
  "language_info": {
   "codemirror_mode": {
    "name": "ipython",
    "version": 3
   },
   "file_extension": ".py",
   "mimetype": "text/x-python",
   "name": "python",
   "nbconvert_exporter": "python",
   "pygments_lexer": "ipython3",
   "version": "3.12.8"
  }
 },
 "nbformat": 4,
 "nbformat_minor": 5
}
