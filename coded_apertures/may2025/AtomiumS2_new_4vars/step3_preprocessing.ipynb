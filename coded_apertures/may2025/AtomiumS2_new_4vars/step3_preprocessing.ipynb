{
 "cells": [
  {
   "cell_type": "code",
   "execution_count": null,
   "id": "fad77fab-e206-47c1-9655-088d14fe30cb",
   "metadata": {},
   "outputs": [],
   "source": [
    "import numpy as np\n",
    "import cupy as cp\n",
    "import sys\n",
    "import scipy.ndimage as ndimage\n",
    "import matplotlib.pyplot as plt\n",
    "import h5py\n",
    "sys.path.insert(0, '..')\n",
    "from utils import *"
   ]
  },
  {
   "cell_type": "code",
   "execution_count": null,
   "id": "59fa16f2-1f9c-4b3a-a330-e10942f12234",
   "metadata": {},
   "outputs": [],
   "source": [
    "path = f'/data/vnikitin/ESRF/ID16A/20240924_rec_ca/data/'\n",
    "with  h5py.File(f'{path}/data_atomium.h5','r') as fid:\n",
    "    data = fid[f'/exchange/data'][:].astype('float32')\n",
    "    ref0 = fid[f'/exchange/data_white0'][:].astype('float32')\n",
    "    ref1 = fid[f'/exchange/data_white1'][:].astype('float32')\n",
    "    dark = fid[f'/exchange/data_dark'][:].astype('float32')\n",
    "    theta = fid[f'/exchange/theta'][:].astype('float32')\n",
    "    \n",
    "    shifts = fid[f'/exchange/shifts'][:].astype('float32')\n",
    "    attrs = fid[f'/exchange/attrs'][:].astype('float32')\n",
    "    \n",
    "    z1 = fid['/exchange/z1'][0]\n",
    "    detector_pixelsize = fid['/exchange/detector_pixelsize'][0]\n",
    "    focusdetectordistance = fid['/exchange/focusdetectordistance'][0]\n",
    "    energy = fid['/exchange/energy'][0]\n"
   ]
  },
  {
   "cell_type": "code",
   "execution_count": null,
   "id": "2123d6e1",
   "metadata": {},
   "outputs": [],
   "source": [
    "wavelength = 1.24e-09/energy  # [m] wave length\n",
    "focusToDetectorDistance = 1.28  # [m]\n",
    "z2 = focusToDetectorDistance-z1\n",
    "distances = (z1*z2)/focusToDetectorDistance\n",
    "magnification = focusToDetectorDistance/z1\n",
    "voxelsize = np.abs(detector_pixelsize/magnification)  # object voxel size\n"
   ]
  },
  {
   "cell_type": "markdown",
   "id": "f7398276",
   "metadata": {},
   "source": [
    "# Pre-processing"
   ]
  },
  {
   "cell_type": "code",
   "execution_count": null,
   "id": "e1d4e4eb",
   "metadata": {},
   "outputs": [],
   "source": [
    "import cupyx.scipy.ndimage as ndimage\n",
    "def remove_outliers(data, dezinger, dezinger_threshold):    \n",
    "    res = data.copy()\n",
    "    w = [dezinger,dezinger]\n",
    "    for k in range(data.shape[0]):\n",
    "        data0 = cp.array(data[k])\n",
    "        fdata = ndimage.median_filter(data0, w)\n",
    "        print(np.sum(np.abs(data0-fdata)>fdata*dezinger_threshold))\n",
    "        res[k] = np.where(np.abs(data0-fdata)>fdata*dezinger_threshold, fdata, data0).get()\n",
    "    return res\n",
    "\n",
    "dark = np.mean(dark,axis=0)\n",
    "data -= dark\n",
    "ref0-=dark\n",
    "ref1-=dark\n",
    "\n",
    "data[data<0]=0\n",
    "ref0[ref0<0] = 0\n",
    "ref1[ref1<0] = 0\n",
    "data[:,1320//3:1320//3+25//3,890//3:890//3+25//3] = data[:,1280//3:1280//3+25//3,890//3:890//3+25//3]\n",
    "ref0[:,1320//3:1320//3+25//3,890//3:890//3+25//3] = ref0[:,1280//3:1280//3+25//3,890//3:890//3+25//3]\n",
    "ref1[:,1320//3:1320//3+25//3,890//3:890//3+25//3] = ref1[:,1280//3:1280//3+25//3,890//3:890//3+25//3]\n",
    "\n",
    "data = remove_outliers(data, 3, 0.8)    \n",
    "ref0 = remove_outliers(ref0, 3, 0.8)    \n",
    "ref1 = remove_outliers(ref1, 3, 0.8)    \n",
    "\n",
    "mshow(data[0],mshow)"
   ]
  },
  {
   "cell_type": "code",
   "execution_count": null,
   "id": "d1638b51",
   "metadata": {},
   "outputs": [],
   "source": [
    "# adjust amps"
   ]
  },
  {
   "cell_type": "code",
   "execution_count": null,
   "id": "e897702c",
   "metadata": {},
   "outputs": [],
   "source": [
    "ref0=np.mean(ref0,axis=0)\n",
    "cnorm = np.mean(ref0)\n",
    "data=data/cnorm/(attrs[:,1]/attrs[0,1])[:,np.newaxis,np.newaxis]\n",
    "ref0/=cnorm\n",
    "ref1/=cnorm"
   ]
  },
  {
   "cell_type": "code",
   "execution_count": null,
   "id": "9f72456b",
   "metadata": {},
   "outputs": [],
   "source": [
    "path_out = f'/data/vnikitin/ESRF/ID16A/20240924_rec_ca/data/'\n",
    "with  h5py.File(f'{path_out}/data_atomium.h5','a') as fid:\n",
    "    try:\n",
    "        del fid[f'/exchange/pdata']\n",
    "        del fid[f'/exchange/pref0']\n",
    "        del fid[f'/exchange/pref1']\n",
    "    except:\n",
    "        pass\n",
    "    fid.create_dataset(f'/exchange/pdata',data=data)     \n",
    "    fid.create_dataset(f'/exchange/pref0',data=ref0)     \n",
    "    fid.create_dataset(f'/exchange/pref1',data=ref1)     "
   ]
  }
 ],
 "metadata": {
  "kernelspec": {
   "display_name": "holotomocupy",
   "language": "python",
   "name": "python3"
  },
  "language_info": {
   "codemirror_mode": {
    "name": "ipython",
    "version": 3
   },
   "file_extension": ".py",
   "mimetype": "text/x-python",
   "name": "python",
   "nbconvert_exporter": "python",
   "pygments_lexer": "ipython3",
   "version": "3.12.8"
  }
 },
 "nbformat": 4,
 "nbformat_minor": 5
}
