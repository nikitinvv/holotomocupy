{
 "cells": [
  {
   "cell_type": "code",
   "execution_count": null,
   "id": "fad77fab-e206-47c1-9655-088d14fe30cb",
   "metadata": {},
   "outputs": [],
   "source": [
    "import numpy as np\n",
    "import cupy as cp\n",
    "import h5py\n",
    "from holotomocupy.holo import G, GT\n",
    "from holotomocupy.shift import S, ST\n",
    "from holotomocupy.recon_methods import multiPaganin\n",
    "from holotomocupy.utils import *\n",
    "from holotomocupy.proc import remove_outliers\n",
    "##!jupyter nbconvert --to script config_template.ipynb\n",
    "import sys"
   ]
  },
  {
   "cell_type": "markdown",
   "id": "3c0fdd65-1cff-451e-865e-56cd8b7882a6",
   "metadata": {},
   "source": [
    "# Init data sizes and parametes of the PXM of ID16A"
   ]
  },
  {
   "cell_type": "code",
   "execution_count": null,
   "id": "59fa16f2-1f9c-4b3a-a330-e10942f12234",
   "metadata": {},
   "outputs": [],
   "source": [
    "\n",
    "path = f'/data/WB_slit_exp_4ms_125hz_1184x1200_000010.h5'\n",
    "path_out = f'/data/WB_slit_exp_4ms_125hz_1184x1200_000010_rec'\n",
    "show=True\n",
    "npos = 20\n",
    "n=1184"
   ]
  },
  {
   "cell_type": "markdown",
   "id": "49eb1696-bb30-496e-8c3d-565f2791112c",
   "metadata": {},
   "source": [
    "## Read data"
   ]
  },
  {
   "cell_type": "code",
   "execution_count": null,
   "id": "c23a78d2",
   "metadata": {},
   "outputs": [],
   "source": [
    "with h5py.File(f'{path}') as fid:\n",
    "    data0 = fid['/entry/data/data'][:npos,:1184,:1184].astype('float32')\n",
    "data0/=np.mean(data0)\n",
    "mshow(data0[0],show)\n",
    "data0 = data0[np.newaxis]"
   ]
  },
  {
   "cell_type": "code",
   "execution_count": null,
   "id": "62f2e92f",
   "metadata": {},
   "outputs": [],
   "source": [
    "import scipy.ndimage as ndimage\n",
    "def remove_outliers(data, dezinger, dezinger_threshold):    \n",
    "    res = data.copy()\n",
    "    if (int(dezinger) > 0):\n",
    "        w = int(dezinger)\n",
    "        # print(data.shape)\n",
    "        fdata = ndimage.median_filter(data, [1,w, w])\n",
    "        print(np.sum(np.abs(data-fdata)>fdata*dezinger_threshold))\n",
    "        res[:] = np.where(np.abs(data-fdata)>fdata*dezinger_threshold, fdata, data)\n",
    "    return res"
   ]
  },
  {
   "cell_type": "code",
   "execution_count": null,
   "id": "9660d89f",
   "metadata": {},
   "outputs": [],
   "source": [
    "data = data0.copy()\n",
    "data[0] = remove_outliers(data[0], 3, 0.8)\n",
    "mshow(data[0,0],show)\n"
   ]
  },
  {
   "cell_type": "markdown",
   "id": "daee2463",
   "metadata": {},
   "source": [
    "# Construct operators\n"
   ]
  },
  {
   "cell_type": "code",
   "execution_count": null,
   "id": "adf88f3b",
   "metadata": {},
   "outputs": [],
   "source": [
    "def Sop(psi,shifts):\n",
    "    data = cp.zeros([1, npos, n, n], dtype='complex64')\n",
    "    psi = cp.array(psi)\n",
    "    for j in range(npos):\n",
    "        psir = psi.copy()\n",
    "        shiftsr = cp.array(shifts[:, j])\n",
    "        psir = S(psir, shiftsr)\n",
    "        data[:,j] = psir\n",
    "    return data\n",
    "\n",
    "def STop(data,shifts):\n",
    "    psi = cp.zeros([1, n, n], dtype='complex64')\n",
    "\n",
    "    for j in range(npos):\n",
    "        datar = cp.array(data[:,j])\n",
    "        shiftsr = cp.array(shifts[:, j])\n",
    "        psi += ST(datar,shiftsr)\n",
    "    return psi\n",
    "\n",
    "arr1 = (cp.random.random([1,n,n])).astype('complex64')\n",
    "shifts0 = cp.random.random([1,npos,2]).astype('complex64')\n",
    "arr2 = Sop(arr1,shifts0)\n",
    "arr3 = STop(arr2,shifts0)\n",
    "print(f'{np.sum(arr1*np.conj(arr3))}==\\n{np.sum(arr2*np.conj(arr2))}')\n",
    "\n",
    "shifts = cp.random.random([1,npos,2]).astype('float32')*10*0\n",
    "shifts[:,-1]=0.1\n",
    "data = Sop(data[:,0],shifts)\n",
    "mshow_complex(data[0,0]-data[0,-1],show)"
   ]
  },
  {
   "cell_type": "markdown",
   "id": "1fe0cb15",
   "metadata": {},
   "source": [
    "## Reconstruction with the CG (Carlsson) with Hessians\n",
    "\n",
    "$$ H(q,\\psi,{{x}})=F(J(q)\\cdot S_{{x}}(\\psi))+\\lambda_o\\|\\nabla C(\\psi)\\|_2^2+\\lambda_p\\|\\nabla C(q)\\|_2^2=\\left\\||L(M(q,\\psi,x))|-d\\right\\|_2^2+\\lambda_o\\|\\nabla C(\\psi)\\|_2^2+\\lambda_p\\|\\nabla C(q)\\|_2^2+\\| |L_1(q)|-d_r\\|^2_2\n",
    "$$"
   ]
  },
  {
   "cell_type": "markdown",
   "id": "691261ac",
   "metadata": {},
   "source": [
    "## Gradients"
   ]
  },
  {
   "cell_type": "markdown",
   "id": "bd7163cd",
   "metadata": {},
   "source": [
    "#### $$\\nabla F=2 \\left(L^*\\left( L(M(q_0,\\psi_0,\\boldsymbol{x}_0))-\\tilde d\\right)\\right).$$\n",
    "#### where $$\\tilde d = d \\frac{L(M(q_0,\\psi_0,\\boldsymbol{x}_0))}{|L(M(q_0,\\psi_0,\\boldsymbol{x}_0))|}$$\n",
    "\n",
    "#### $$\\nabla F_q=2 \\left(L^*\\left( L_1(q_0)-\\tilde d_r\\right)\\right).$$\n",
    "#### where $$\\tilde d_r = d_r \\frac{L_1(q_0)}{|L_1(q_0))|}$$\n",
    "\n"
   ]
  },
  {
   "cell_type": "code",
   "execution_count": null,
   "id": "eba2083c",
   "metadata": {},
   "outputs": [],
   "source": [
    "def gradientF(vars,d):\n",
    "    (psi,q,x) = (vars['psi'], vars['prb'], vars['shift'])    \n",
    "    return 2*(q*Sop(psi,x)-d)\n"
   ]
  },
  {
   "cell_type": "markdown",
   "id": "d6e8178a",
   "metadata": {},
   "source": [
    "##### $$\\nabla_{\\psi} G|_{(q_0,\\psi_0,\\boldsymbol{x}_0)}=S_{\\boldsymbol{x}_{0}}^*\\left(\\overline{J(q_0)}\\cdot \\nabla F\\right)+ \\underline{2\\lambda C^T(\\nabla^T (\\nabla(C(\\psi))))}$$\n",
    "\n",
    "##### $$\\nabla_{q} G|_{(q_0,\\psi_0,\\boldsymbol{x}_0)}=J^*\\left( \\overline{S_{\\boldsymbol{x}_{0}}(\\psi_0)}\\cdot \\nabla F\\right).$$\n",
    "##### $$\\nabla_{\\boldsymbol{x}_0} G|_{(q_0,\\psi_0,\\boldsymbol{x}_0)}=\\textsf{Re}\\Big(\\big( \\Big\\langle \\overline{q_0}\\cdot \\nabla F,   C(\\mathcal{F}^{-1}(-2\\pi i \\xi_1 e^{ -2\\pi i \\boldsymbol{x}_{0,k}\\cdot \\boldsymbol{\\xi}}\\hat{\\psi_0}))\\Big\\rangle,\\Big\\langle \\overline{q_0}\\cdot \\nabla F,C(\\mathcal{F}^{-1}(-2\\pi i \\xi_2 e^{ -2\\pi i \\boldsymbol{x}_{0,k}\\cdot \\boldsymbol{\\xi}}\\hat{\\psi_0})) \\Big\\rangle\\big)\\Big)_{k=1}^K. $$\n",
    "\n",
    "\n"
   ]
  },
  {
   "cell_type": "code",
   "execution_count": null,
   "id": "3e22132b",
   "metadata": {},
   "outputs": [],
   "source": [
    "\n",
    "def gradientpsi(q,x,gradF):\n",
    "    return STop(np.conj(q)*gradF,x)\n",
    "\n",
    "def gradientq(psi,q,x,gradF):\n",
    "    return np.sum(np.conj(Sop(psi,x))*gradF,axis=1)    \n",
    "\n",
    "# def gradientx(psi,q,x,gradF):\n",
    "#     xi1 = cp.fft.fftfreq(2*psi.shape[-1]).astype('float32')    \n",
    "#     [xi2, xi1] = cp.meshgrid(xi1, xi1)  \n",
    "#     tksi1 = Twop_(psi,x,-2*cp.pi*1j*xi1)\n",
    "#     tksi2 = Twop_(psi,x,-2*cp.pi*1j*xi2)    \n",
    "#     gradx = cp.zeros([1,npos,2],dtype='float32')\n",
    "#     tmp = np.conj(q)*gradF\n",
    "#     gradx[:,:,0] = redot(tmp,tksi1,axis=(2,3))\n",
    "#     gradx[:,:,1] = redot(tmp,tksi2,axis=(2,3))\n",
    "#     return gradx\n",
    "def gradientx(psi,q,x,gradF):\n",
    "    gradx = cp.zeros([1,npos,2],dtype='float32')    \n",
    "    xi1 = cp.fft.fftfreq(n).astype('float32')\n",
    "    [xi2, xi1] = cp.meshgrid(xi1, xi1)\n",
    "    psir = psi.copy()#cp.pad(eRu, ((0, 0), (ne//2, ne//2), (ne//2, ne//2)))\n",
    "    for j in range(npos):        \n",
    "        xj = cp.array(x[:,j,:,np.newaxis,np.newaxis])\n",
    "        pp = cp.exp(-2*cp.pi*1j*(xi1*xj[:, 0]+xi2*xj[:, 1]))      \n",
    "        t = cp.fft.ifft2(pp*xi1*cp.fft.fft2(psir))\n",
    "        gradx[:,j,0] = -2*np.pi*imdot(gradF[:,j],q*t,axis=(1,2))    \n",
    "    \n",
    "    for j in range(npos):        \n",
    "        xj = cp.array(x[:,j,:,np.newaxis,np.newaxis])\n",
    "        pp = cp.exp(-2*cp.pi*1j*(xi1*xj[:, 0]+xi2*xj[:, 1]))                            \n",
    "        t = cp.fft.ifft2(pp*xi2*cp.fft.fft2(psir))\n",
    "        gradx[:,j,1] = -2*np.pi*imdot(gradF[:,j],q*t,axis=(1,2))    \n",
    "\n",
    "    return gradx\n",
    "\n",
    "    \n",
    "def gradients(vars,d,gradF):\n",
    "    (psi,q,x,rho) = (vars['psi'], vars['prb'], vars['shift'],vars['rho'])\n",
    "    grads = {}\n",
    "    grads['psi'] = rho[0]*gradientpsi(q,x,gradF)\n",
    "    grads['prb'] = rho[1]*gradientq(psi,q,x,gradF)\n",
    "    grads['shift'] = rho[2]*gradientx(psi,q,x,gradF)\n",
    "    return grads\n",
    "\n"
   ]
  },
  {
   "cell_type": "markdown",
   "id": "3b092076",
   "metadata": {},
   "source": [
    "##### $$\\frac{1}{2}\\mathcal{H}|_{x_0}(y,z)= \\left\\langle \\mathbf{1}-d_{0}, \\mathsf{Re}({L(y)}\\overline{L(z)})\\right\\rangle+\\left\\langle d_{0},(\\mathsf{Re} (\\overline{l_0}\\cdot L(y)))\\cdot (\\mathsf{Re} (\\overline{l_0}\\cdot L(z))) \\right\\rangle$$\n",
    "##### $$l_0=L(x_0)/|L(x_0)|$$\n",
    "##### $$d_0=d/|L(x_0)|$$\n"
   ]
  },
  {
   "cell_type": "code",
   "execution_count": null,
   "id": "28d6df09",
   "metadata": {},
   "outputs": [],
   "source": [
    "def hessianF(dpsi1,dpsi2):\n",
    "    return 2*redot(dpsi1,dpsi2)"
   ]
  },
  {
   "cell_type": "markdown",
   "id": "9eecc3fb",
   "metadata": {},
   "source": [
    "##### $D T_c|_{{{z}_0}}(\\Delta {z})=-2\\pi iC\\Big(\\mathcal{F}^{-1}\\big({\\Delta z \\cdot \\xi}) e^{-2\\pi i  {z}_0\\cdot {\\xi}}\\hat{c}({\\xi})\\big)\\Big)=-2\\pi i C\\Big(\\mathcal{F}^{-1}\\big((\\Delta z_1 {\\xi_1}+\\Delta z_2 {\\xi_2}) e^{-2\\pi i  {z}_0\\cdot {\\xi}}\\hat{c}({\\xi})\\big)\\Big)$\n",
    "##### $ D^2{T_c}|_{{{z}_0}}(\\Delta{z},\\Delta{w})=-4\\pi^2C(\\mathcal{F}^{-1}((\\Delta{z}\\cdot\\xi)(\\Delta{w}\\cdot\\xi)e^{-2\\pi i  {z}_0\\cdot {\\xi}}\\hat{c}))$\n",
    "##### $=-4\\pi^2C(\\mathcal{F}^{-1}((\\Delta{z_1}\\Delta{w_1}\\xi_1^2 + (\\Delta{z_1}\\Delta{w_2}+\\Delta{z_2}\\Delta{w_1})\\xi_1\\xi_2+\\Delta{z_2}\\Delta{w_2}\\xi_2^2)\\hat{c}))$"
   ]
  },
  {
   "cell_type": "code",
   "execution_count": null,
   "id": "821b4626",
   "metadata": {},
   "outputs": [],
   "source": [
    "def DT(psi,x,dx):\n",
    "    res = cp.zeros([1,npos,n,n],dtype='complex64')\n",
    "    xi1 = cp.fft.fftfreq(n).astype('float32')\n",
    "    [xi2, xi1] = cp.meshgrid(xi1, xi1)\n",
    "    for j in range(npos):\n",
    "        psir = psi.copy()#cp.pad(psi, ((0, 0), (ne//2, ne//2), (ne//2, ne//2)))\n",
    "        xj = cp.array(x[:,j,:,np.newaxis,np.newaxis])\n",
    "        dxj = cp.array(dx[:,j,:,np.newaxis,np.newaxis])\n",
    "\n",
    "        pp = cp.exp(-2*cp.pi*1j*(xi1*xj[:, 0]+xi2*xj[:, 1]))    \n",
    "        xiall = xi1*dxj[:,0]+xi2*dxj[:,1]\n",
    "\n",
    "        psir = cp.fft.ifft2(pp*xiall*cp.fft.fft2(psir))   \n",
    "\n",
    "        res[:,j] = -2*np.pi*1j*psir#[:, ne//2:-ne//2, ne//2:-ne//2]       \n",
    "    return res\n",
    "\n",
    "\n",
    "def D2T(psi,x,dx1,dx2):\n",
    "    res = cp.zeros([1,npos,n,n],dtype='complex64')\n",
    "    xi1 = cp.fft.fftfreq(n).astype('float32')\n",
    "    [xi2, xi1] = cp.meshgrid(xi1, xi1)\n",
    "    for j in range(npos):\n",
    "        psir = psi.copy()#cp.pad(psi, ((0, 0), (ne//2, ne//2), (ne//2, ne//2)))\n",
    "        xj = cp.array(x[:,j,:,np.newaxis,np.newaxis])\n",
    "        dx1j = cp.array(dx1[:,j,:,np.newaxis,np.newaxis])\n",
    "        dx2j = cp.array(dx2[:,j,:,np.newaxis,np.newaxis])\n",
    "\n",
    "        pp = cp.exp(-2*cp.pi*1j*(xi1*xj[:, 0]+xi2*xj[:, 1]))    \n",
    "        xiall = xi1**2*dx1j[:,0]*dx2j[:,0]+ \\\n",
    "                xi1*xi2*(dx1j[:,0]*dx2j[:,1]+dx1j[:,1]*dx2j[:,0])+ \\\n",
    "                xi2**2*dx1j[:,1]*dx2j[:,1]\n",
    "\n",
    "        psir = cp.fft.ifft2(pp*xiall*cp.fft.fft2(psir))   \n",
    "\n",
    "        res[:,j] = -4*np.pi**2*psir#[:,ne//2:-ne//2, ne//2:-ne//2]       \n",
    "    return res\n"
   ]
  },
  {
   "cell_type": "markdown",
   "id": "731f8313",
   "metadata": {},
   "source": [
    "#### $$ DM|_{(q_0,\\psi_0,\\boldsymbol{x})}(\\Delta q, \\Delta \\psi,\\Delta\\boldsymbol{x})=$$\n",
    "#### $$ \\Big(\\Delta q\\cdot T_{\\psi_0}({\\boldsymbol{x}_{0,k}})+ q_0\\cdot \\big(T_{\\Delta \\psi}({\\boldsymbol{x}_{0,k}})+  DT_{\\psi_0}|_{{\\boldsymbol{x}_{0,k}}}( \\Delta \\boldsymbol{x}_k)\\big) \\Big)_{k=1}^K=$$\n",
    "#### $$ J(\\Delta q)\\cdot S_{\\boldsymbol{x}_{0,k}}(\\psi_0)+ J(q_0)\\cdot S_{\\boldsymbol{x}_{0}}{(\\Delta \\psi)}+  \\Big(q_0\\cdot DT_{\\psi_0}|_{{\\boldsymbol{x}_{0,k}}}( \\Delta \\boldsymbol{x}_k) \\Big)_{k=1}^K$$\n"
   ]
  },
  {
   "cell_type": "code",
   "execution_count": null,
   "id": "a4ca2c75",
   "metadata": {},
   "outputs": [],
   "source": [
    "def DM(psi,q,x,dpsi,dq,dx):\n",
    "    res = dq*Sop(psi,x)+q*(Sop(dpsi,x)+DT(psi,x,dx))   \n",
    "    return res"
   ]
  },
  {
   "cell_type": "markdown",
   "id": "06a620b3",
   "metadata": {},
   "source": [
    "##### $$ D^2M|_{(q_0,\\psi_0,\\boldsymbol{x})}\\big((\\Delta q^{(1)}, \\Delta \\psi^{(1)},\\Delta\\boldsymbol{x}^{(1)}),(\\Delta q^{(2)}, \\Delta \\psi^{(2)},\\Delta\\boldsymbol{x}^{(2)})\\big)= $$\n",
    "##### $$\\Big( q_0\\cdot DT_{\\Delta\\psi^{(1)}}|_{{\\boldsymbol{x}_{0,k}}}( \\Delta \\boldsymbol{x}^{(2)})+q_0\\cdot DT_{\\Delta\\psi^{(2)}}|_{{\\boldsymbol{x}_{0,k}}}( \\Delta \\boldsymbol{x}^{(1)})+ q_0\\cdot D^2{T_\\psi}|_{{\\boldsymbol{x}_0}}(\\Delta\\boldsymbol{x}^{(1)},\\Delta\\boldsymbol{x}^{(2)})+$$\n",
    "##### $$\\Delta q^{(1)}\\cdot T_{\\Delta \\psi^{(2)}}({\\boldsymbol{x}_{0,k}})+\\Delta q^{(2)}\\cdot T_{\\Delta \\psi^{(1)}}({\\boldsymbol{x}_{0,k}})+ $$\n",
    "##### $$\\Delta q^{(1)}\\cdot DT_{\\psi_0}|_{{\\boldsymbol{x}_{0,k}}}( \\Delta \\boldsymbol{x}^{(2)})+\\Delta q^{(2)}\\cdot DT_{\\psi_0}|_{{\\boldsymbol{x}_{0,k}}}( \\Delta \\boldsymbol{x}^{(1)})\\Big)_{k=1}^K.$$\n"
   ]
  },
  {
   "cell_type": "code",
   "execution_count": null,
   "id": "30042540",
   "metadata": {},
   "outputs": [],
   "source": [
    "def D2M(psi,q,x,dpsi1,dq1,dx1,dpsi2,dq2,dx2):    \n",
    "    res =  q*DT(dpsi1,x,dx2) + q*DT(dpsi2,x,dx1) + q*D2T(psi,x,dx1,dx2)  \n",
    "    res += dq1*Sop(dpsi2,x) + dq2*Sop(dpsi1,x) \n",
    "    res += dq1*DT(psi,x,dx2) + dq2*DT(psi,x,dx1)\n",
    "    return res"
   ]
  },
  {
   "cell_type": "markdown",
   "id": "27528dbe",
   "metadata": {},
   "source": [
    "##### $$\\mathcal{H}^G|_{ (q_0,\\psi_0,\\boldsymbol{x}_0)}\\Big((\\Delta q^{(1)},\\Delta \\psi^{(1)},\\Delta \\boldsymbol{x}^{(1)}),(\\Delta q^{(2)},\\Delta \\psi^{(2)},\\Delta \\boldsymbol{x}^{(2)})\\Big)=$$\n",
    "##### $$\\Big\\langle \\nabla F|_{M(q_0,\\psi_0,\\boldsymbol{x}_0)}, D^2M|_{(q_0,\\psi_0,\\boldsymbol{x}_0)}\\Big((\\Delta q^{(1)},\\Delta \\psi^{(1)},\\Delta \\boldsymbol{x}^{(1)}),(\\Delta q^{(2)},\\Delta \\psi^{(2)},\\Delta \\boldsymbol{x}^{(2)})\\Big)\\Big\\rangle +$$\n",
    "##### $$\\mathcal{H}^F|_{M(q_0,\\psi_0,\\boldsymbol{x}_0)}\\Big(DM|_{(q_0,\\psi_0,\\boldsymbol{x}_0)}(\\Delta q^{(1)},\\Delta \\psi^{(1)},\\Delta \\boldsymbol{x}^{(1)}),DM|_{(q_0,\\psi_0,\\boldsymbol{x}_0)}(\\Delta q^{(2)},\\Delta \\psi^{(2)},\\Delta \\boldsymbol{x}^{(2)})\\Big)+$$\n",
    "##### $$+\\underline{2\\lambda \\textsf{Re}\\langle \\nabla (C (\\Delta \\psi^{(1)})),\\nabla (C( \\Delta \\psi^{(2)}))\\rangle}$$"
   ]
  },
  {
   "cell_type": "code",
   "execution_count": null,
   "id": "a3990a45",
   "metadata": {},
   "outputs": [],
   "source": [
    "def calc_beta(vars,grads,etas,d,gradF):\n",
    "    (psi,q,x,rho) = (vars['psi'], vars['prb'], vars['shift'],vars['rho'])\n",
    "    (dpsi1,dq1,dx1) = (grads['psi']*rho[0], grads['prb']*rho[1], grads['shift']*rho[2])\n",
    "    (dpsi2,dq2,dx2) = (etas['psi']*rho[0], etas['prb']*rho[1], etas['shift']*rho[2])\n",
    "    \n",
    "    dm1 = DM(psi,q,x,dpsi1,dq1,dx1)\n",
    "    dm2 = DM(psi,q,x,dpsi2,dq2,dx2)\n",
    "    d2m1 = D2M(psi,q,x,dpsi1,dq1,dx1,dpsi2,dq2,dx2)\n",
    "    d2m2 = D2M(psi,q,x,dpsi2,dq2,dx2,dpsi2,dq2,dx2)\n",
    "    # sq = Sop(psi,x)*q\n",
    "    \n",
    "    top = redot(gradF,d2m1)        \n",
    "    top += hessianF(dm1, dm2)    \n",
    "    \n",
    "    bottom = redot(gradF,d2m2)    \n",
    "    bottom += hessianF(dm2, dm2)\n",
    "    return top/bottom\n",
    "\n",
    "def calc_alpha(vars,grads,etas,d,gradF):    \n",
    "    (psi,q,x,rho) = (vars['psi'], vars['prb'], vars['shift'],vars['rho'])\n",
    "    (dpsi1,dq1,dx1) = (grads['psi'], grads['prb'], grads['shift'])\n",
    "    (dpsi2,dq2,dx2) = (etas['psi'], etas['prb'], etas['shift']) \n",
    "    top = -redot(dpsi1,dpsi2)-redot(dq1,dq2)-redot(dx1,dx2)\n",
    "    \n",
    "    (dpsi2,dq2,dx2) = (etas['psi']*rho[0], etas['prb']*rho[1], etas['shift']*rho[2])\n",
    "    dm2 = DM(psi,q,x,dpsi2,dq2,dx2)\n",
    "    d2m2 = D2M(psi,q,x,dpsi2,dq2,dx2,dpsi2,dq2,dx2)\n",
    "    # sq = Sop(psi,x)*q\n",
    "    \n",
    "    print(f'{top=}')\n",
    "    bottom = redot(gradF,d2m2)\n",
    "    print(bottom)\n",
    "    bottom += hessianF(dm2, dm2)\n",
    "    print(bottom)\n",
    "    return top/bottom, top, bottom"
   ]
  },
  {
   "cell_type": "markdown",
   "id": "d4006eb6",
   "metadata": {},
   "source": [
    "## debug functions"
   ]
  },
  {
   "cell_type": "code",
   "execution_count": null,
   "id": "b79db8a3",
   "metadata": {},
   "outputs": [],
   "source": [
    "def plot_debug2(vars,etas,top,bottom,alpha,data):\n",
    "    if show==False:\n",
    "        return\n",
    "    (psi,q,x,rho) = (vars['psi'], vars['prb'], vars['shift'], vars['rho'])\n",
    "    (dpsi2,dq2,dx2) = (etas['psi'],etas['prb'],etas['shift'])\n",
    "    npp = 7\n",
    "    errt = cp.zeros(npp*2)\n",
    "    errt2 = cp.zeros(npp*2)\n",
    "    for k in range(0,npp*2):\n",
    "        psit = psi+(alpha*k/(npp-1))*rho[0]*dpsi2\n",
    "        qt = q+(alpha*k/(npp-1))*rho[1]*dq2\n",
    "        xt = x+(alpha*k/(npp-1))*rho[2]*dx2\n",
    "\n",
    "        errt[k] = np.linalg.norm(qt*Sop(psit,xt)-data)**2\n",
    "                \n",
    "        \n",
    "    t = alpha*(cp.arange(2*npp))/(npp-1)\n",
    "    errt2 = np.linalg.norm(q*Sop(psi,x)-data)**2\n",
    "    errt2 = errt2 -top*t+0.5*bottom*t**2\n",
    "    \n",
    "    plt.plot(alpha.get()*cp.arange(2*npp).get()/(npp-1),errt.get(),'.')\n",
    "    plt.plot(alpha.get()*cp.arange(2*npp).get()/(npp-1),errt2.get(),'.')\n",
    "    plt.show()\n",
    "\n",
    "def plot_debug3(shifts):\n",
    "    if show==False:\n",
    "        return\n",
    "    plt.plot(shifts[0,:,0].get(),'r.')\n",
    "    plt.plot(shifts[0,:,1].get(),'b.')\n",
    "    plt.show()\n",
    "\n",
    "def vis_debug(vars,i):\n",
    "    mshow_complex(vars['psi'][0],show)\n",
    "    mshow_complex(vars['prb'][0],show)\n",
    "    # dxchange.write_tiff(np.angle(vars['psi'][0]).get(),f'{path_out}/crec_code_angle{flg}/{i:03}',overwrite=True)\n",
    "    # dxchange.write_tiff(np.angle(vars['prb'][0]).get(),f'{path_out}/crec_prb_angle{flg}/{i:03}',overwrite=True)\n",
    "    # dxchange.write_tiff(np.abs(vars['psi'][0]).get(),f'{path_out}/crec_code_abs{flg}/{i:03}',overwrite=True)\n",
    "    # dxchange.write_tiff(np.abs(vars['prb'][0]).get(),f'{path_out}/crec_prb_abs{flg}/{i:03}',overwrite=True)\n",
    "    # dxchange.write_tiff(np.abs(grads['rpsi'][0]).get(),f'{path_out}/crec_rpsi_abs{flg}/{i:03}',overwrite=True)\n",
    "    # dxchange.write_tiff(np.angle(grads['rpsi'][0]).get(),f'{path_out}/crec_rpsi_angle{flg}/{i:03}',overwrite=True)\n",
    "    # np.save(f'{path_out}/crec_shift{flg}_{i:03}',vars['shift'])\n",
    "\n",
    "    \n",
    "def err_debug(vars, data):    \n",
    "    (psi,q,x) = (vars['psi'], vars['prb'], vars['shift'])\n",
    "    err = np.linalg.norm(q*Sop(psi,x)-data)**2    \n",
    "   # print(f'gradient norms (psi, prb, shift): {np.linalg.norm(grads['psi']):.2f}, {np.linalg.norm(grads['prb']):.2f}, {np.linalg.norm(grads['shift']):.2f}')                        \n",
    "    return err"
   ]
  },
  {
   "cell_type": "markdown",
   "id": "9b6e3f71",
   "metadata": {},
   "source": [
    "# Main CG loop (fifth rule)"
   ]
  },
  {
   "cell_type": "code",
   "execution_count": null,
   "id": "901f10e1",
   "metadata": {},
   "outputs": [],
   "source": [
    "def cg_holo(data, vars, pars):\n",
    "\n",
    "    # data = np.sqrt(data)    \n",
    "    \n",
    "    erra = cp.zeros(pars['niter'])\n",
    "    alphaa = cp.zeros(pars['niter'])    \n",
    "    for i in range(pars['niter']):    \n",
    "        \n",
    "        gradF = gradientF(vars,data)        \n",
    "        grads = gradients(vars,data,gradF)\n",
    "        \n",
    "        # if i==0:\n",
    "        etas = {}\n",
    "        etas['psi'] = -grads['psi']\n",
    "        etas['prb'] = -grads['prb']\n",
    "        etas['shift'] = -grads['shift']\n",
    "        # else:      \n",
    "        #     beta = calc_beta(vars, grads, etas, data, gradF)\n",
    "        #     etas['psi'] = -grads['psi'] + beta*etas['psi']\n",
    "        #     etas['prb'] = -grads['prb'] + beta*etas['prb']\n",
    "        #     etas['shift'] = -grads['shift'] + beta*etas['shift']\n",
    "\n",
    "        alpha,top,bottom = calc_alpha(vars, grads, etas, data, gradF) \n",
    "        # if i % pars['vis_step'] == 0:\n",
    "        #     plot_debug2(vars,etas,top,bottom,alpha,data)\n",
    "        # print(alpha)\n",
    "        # alpha=1e-4\n",
    "\n",
    "        vars['psi'] += vars['rho'][0]*alpha*etas['psi']\n",
    "        vars['prb'] += vars['rho'][1]*alpha*etas['prb']\n",
    "        vars['shift'] += vars['rho'][2]*alpha*etas['shift']\n",
    "        \n",
    "        if i % pars['err_step'] == 0:\n",
    "            err = err_debug(vars, data)    \n",
    "            \n",
    "            print(f'{i}) {alpha=:.5f}, {vars['rho']} {err=:1.5e}',flush=True)\n",
    "            erra[i] = err\n",
    "            alphaa[i] = alpha\n",
    "\n",
    "        if i % pars['vis_step'] == 0 and pars['vis_step'] != -1:\n",
    "            vis_debug(vars, i)\n",
    "            plot_debug3(vars['shift'])\n",
    "            \n",
    "        # t={}\n",
    "        # t[0]=np.linalg.norm(grads['psi'])\n",
    "        # t[1]=np.linalg.norm(grads['prb'])\n",
    "        # t[2]=np.linalg.norm(grads['shift'])\n",
    "        # for k in range(1,3):\n",
    "        #     if t[k]>2*t[0]:\n",
    "        #         vars['rho'][k]/=2\n",
    "        #     elif t[k]<t[0]/2:\n",
    "        #         vars['rho'][k]*=2        \n",
    "            \n",
    "    return vars,erra,alphaa\n",
    "\n",
    "vars = {}\n",
    "vars['psi'] = cp.ones([1,n,n],dtype='complex64')\n",
    "vars['psi'][:] = data[0,0]\n",
    "vars['prb'] = cp.ones([1,n,n],dtype='complex64')\n",
    "vars['shift'] = cp.zeros([1,npos,2],dtype='float32')\n",
    "vars['shift'][:,-1]=-0.5\n",
    "vars['rho'] = [0,0,1]\n",
    "data_rec = cp.array(data)#p.pad(cp.array(data),((0,0),(0,0),(pad,pad),(pad,pad)))\n",
    "pars = {'niter': 32, 'err_step': 1, 'vis_step':-1}\n",
    "vars,erra,alphaa = cg_holo(data_rec, vars, pars)  "
   ]
  },
  {
   "cell_type": "code",
   "execution_count": null,
   "id": "b140459e",
   "metadata": {},
   "outputs": [],
   "source": []
  }
 ],
 "metadata": {
  "kernelspec": {
   "display_name": "holotomocupy",
   "language": "python",
   "name": "python3"
  },
  "language_info": {
   "codemirror_mode": {
    "name": "ipython",
    "version": 3
   },
   "file_extension": ".py",
   "mimetype": "text/x-python",
   "name": "python",
   "nbconvert_exporter": "python",
   "pygments_lexer": "ipython3",
   "version": "3.12.4"
  }
 },
 "nbformat": 4,
 "nbformat_minor": 5
}
