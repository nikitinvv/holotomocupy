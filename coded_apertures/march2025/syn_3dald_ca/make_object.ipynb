{
 "cells": [
  {
   "cell_type": "code",
   "execution_count": null,
   "id": "fad77fab-e206-47c1-9655-088d14fe30cb",
   "metadata": {},
   "outputs": [],
   "source": [
    "import numpy as np\n",
    "import cupy as cp\n",
    "import sys\n",
    "%matplotlib inline\n",
    "\n",
    "sys.path.insert(0, '..')\n",
    "from utils import *\n",
    "from rec import Rec\n",
    "np.random.seed(1) # fix randomness"
   ]
  },
  {
   "cell_type": "code",
   "execution_count": null,
   "id": "659d16c6",
   "metadata": {},
   "outputs": [],
   "source": [
    "# !jupyter nbconvert --to script modeling_codes.ipynb"
   ]
  },
  {
   "cell_type": "markdown",
   "id": "3c0fdd65-1cff-451e-865e-56cd8b7882a6",
   "metadata": {},
   "source": [
    "# Init data sizes and parametes of the PXM of ID16A"
   ]
  },
  {
   "cell_type": "code",
   "execution_count": null,
   "id": "59fa16f2-1f9c-4b3a-a330-e10942f12234",
   "metadata": {},
   "outputs": [],
   "source": [
    "n = 512  # object size in each dimension\n",
    "\n",
    "ntheta = 180  # number of angles (rotations)\n",
    "noise = 0\n",
    "z1c = -12e-3\n",
    "# thickness of the coded aperture\n",
    "code_thickness = 1.5e-6 #in m\n",
    "# feature size\n",
    "ill_feature_size = 1e-6 #in m\n",
    "\n",
    "# ntheta = int(sys.argv[1])  # number of angles (rotations)\n",
    "# noise = int(sys.argv[2])#sys.argv[2]=='True'\n",
    "# z1c = float(sys.argv[3])  # positions of the code and the probe for reconstruction\n",
    "\n",
    "center = n/2 # rotation axis\n",
    "theta = cp.linspace(0, np.pi, ntheta,endpoint=False).astype('float32')  # projection angles\n",
    "npos = 1  # number of code positions\n",
    "detector_pixelsize = 3e-6/2\n",
    "energy = 33.35  # [keV] xray energy\n",
    "wavelength = 1.2398419840550367e-09/energy  # [m] wave length\n",
    "focusToDetectorDistance = 1.28  # [m]\n",
    "sx0 = 3.7e-4\n",
    "z1 = 4.584e-3-sx0# np.array([4.584e-3, 4.765e-3, 5.488e-3, 6.9895e-3])[:npos]-sx0\n",
    "z1 = np.tile(z1, [npos])\n",
    "z2 = focusToDetectorDistance-z1\n",
    "distances = (z1*z2)/focusToDetectorDistance\n",
    "magnifications = focusToDetectorDistance/z1\n",
    "voxelsize = detector_pixelsize/magnifications[0]*2048/n  # object voxel size\n",
    "# magnification when propagating from the probe plane to the detector\n",
    "magnifications2 = z1/z1c\n",
    "distances2 = (z1-z1c)/(z1c/z1)#magnifications2\n",
    "# allow padding if there are shifts of the probe\n",
    "pad = n//8\n",
    "# sample size after demagnification\n",
    "ne = n+2*pad\n",
    "\n",
    "show = True\n",
    "\n",
    "flg = f'{n}_{ntheta}_{npos}_{z1c}_{noise}_code'\n"
   ]
  },
  {
   "cell_type": "markdown",
   "id": "49eb1696-bb30-496e-8c3d-565f2791112c",
   "metadata": {},
   "source": [
    "### Form the refractive index u = delta+i beta for a sample"
   ]
  },
  {
   "cell_type": "code",
   "execution_count": null,
   "id": "8a579ce4-0cd2-4769-a03d-7614aa96b0a8",
   "metadata": {},
   "outputs": [],
   "source": [
    "from scipy import ndimage\n",
    "\n",
    "cube_all = np.zeros([n, n, n], dtype='float32')\n",
    "rr = (np.ones(8)*n*0.25).astype(np.int32)\n",
    "amps = [3, -3, 1, 3, -4, 1, 4]  # , -2, -4, 5 ]\n",
    "dil = np.array([33, 28, 25, 21, 16, 10, 3])/256*n  # , 6, 3,1]\n",
    "for kk in range(len(amps)):\n",
    "    cube = np.zeros([n, n, n], dtype='bool')\n",
    "    r = rr[kk]\n",
    "    p1 = n//2-r//2\n",
    "    p2 = n//2+r//2\n",
    "    for k in range(3):\n",
    "        cube = cube.swapaxes(0, k)\n",
    "        cube[p1:p2, p1, p1] = True\n",
    "        cube[p1:p2, p1, p2] = True\n",
    "        cube[p1:p2, p2, p1] = True\n",
    "        cube[p1:p2, p2, p2] = True\n",
    "        # cube[p1:p2,p2,p2] = True\n",
    "\n",
    "    [x, y, z] = np.meshgrid(np.arange(-n//2, n//2),\n",
    "                            np.arange(-n//2, n//2), np.arange(-n//2, n//2))\n",
    "    circ = (x**2+y**2+z**2) < dil[kk]**2\n",
    "    # circ = (x**2<dil[kk]**2)*(y**2<dil[kk]**2)*(z**2<dil[kk]**2)\n",
    "\n",
    "    fcirc = np.fft.fftshift(np.fft.fftn(np.fft.fftshift(circ)))\n",
    "    fcube = np.fft.fftshift(np.fft.fftn(\n",
    "        np.fft.fftshift(cube.astype('float32'))))\n",
    "    cube = np.fft.fftshift(np.fft.ifftn(np.fft.fftshift(fcube*fcirc))).real\n",
    "    cube = cube > 1\n",
    "    cube_all += amps[kk]*cube\n",
    "\n",
    "# cube_all = ndimage.rotate(cube_all,52,axes=(1,2),reshape=False,order=1)\n",
    "cube_all = ndimage.rotate(cube_all, 28, axes=(0, 1), reshape=False, order=2)\n",
    "cube_all = ndimage.rotate(cube_all, 45, axes=(0, 2), reshape=False, order=2)\n",
    "cube_all[cube_all < 0] = 0\n",
    "\n",
    "\n",
    "u0 = cube_all  # (-1*cube_all*1e-6+1j*cube_all*1e-8)/3\n",
    "\n",
    "u0 = np.roll(u0, -15*n//256, axis=2)\n",
    "u0 = np.roll(u0, -10*n//256, axis=1)\n",
    "v = np.arange(-n//2, n//2)/n\n",
    "[vx, vy, vz] = np.meshgrid(v, v, v)\n",
    "v = np.exp(-10*(vx**2+vy**2+vz**2))\n",
    "fu = np.fft.fftshift(np.fft.fftn(np.fft.fftshift(u0)))\n",
    "u0 = np.fft.fftshift(np.fft.ifftn(np.fft.fftshift(fu*v))).real\n",
    "u0[u0 < 0] = 0\n",
    "u0 = u0*(-1*1e-6+1j*1e-8)/2\n",
    "u = u0.astype('complex64')  \n",
    "\n",
    "!mkdir -p /data/vnikitin/syn_3d_ald/\n",
    "np.save(f'/data/vnikitin/syn_3d_ald/u{n}', u0)\n",
    "\n",
    "# if exist then load and comment the above\n",
    "u = np.load(f'/data/vnikitin/syn_3d_ald/u{n}.npy').astype('complex64')\n",
    "u = np.pad(u,((pad,pad),(pad,pad),(pad,pad)))\n",
    "mshow_complex(u[:, u.shape[0]//2],show)\n",
    "mshow_complex(u[u.shape[0]//2],show)"
   ]
  }
 ],
 "metadata": {
  "kernelspec": {
   "display_name": "holotomocupy",
   "language": "python",
   "name": "python3"
  },
  "language_info": {
   "codemirror_mode": {
    "name": "ipython",
    "version": 3
   },
   "file_extension": ".py",
   "mimetype": "text/x-python",
   "name": "python",
   "nbconvert_exporter": "python",
   "pygments_lexer": "ipython3",
   "version": "3.12.8"
  }
 },
 "nbformat": 4,
 "nbformat_minor": 5
}
