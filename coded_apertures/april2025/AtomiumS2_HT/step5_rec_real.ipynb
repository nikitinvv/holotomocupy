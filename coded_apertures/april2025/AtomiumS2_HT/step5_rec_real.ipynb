{
 "cells": [
  {
   "cell_type": "code",
   "execution_count": null,
   "id": "fad77fab-e206-47c1-9655-088d14fe30cb",
   "metadata": {},
   "outputs": [],
   "source": [
    "import numpy as np\n",
    "import cupy as cp\n",
    "import h5py\n",
    "import matplotlib.pyplot as plt\n",
    "import cupyx.scipy.ndimage as ndimage\n",
    "from types import SimpleNamespace\n",
    "import pandas as pd\n",
    "\n",
    "# Use managed memory\n",
    "import h5py\n",
    "import sys\n",
    "import warnings\n",
    "warnings.filterwarnings(\"ignore\", message=f\".*peer.*\")\n",
    "\n",
    "sys.path.insert(0, '..')\n",
    "from utils import *\n",
    "from rec import Rec"
   ]
  },
  {
   "cell_type": "markdown",
   "id": "3c0fdd65-1cff-451e-865e-56cd8b7882a6",
   "metadata": {},
   "source": [
    "# Init data sizes and parametes of the PXM of ID16A"
   ]
  },
  {
   "cell_type": "code",
   "execution_count": null,
   "id": "e2b6781d",
   "metadata": {},
   "outputs": [],
   "source": [
    "step = 1\n",
    "bin = 1\n",
    "ndist = 4"
   ]
  },
  {
   "cell_type": "code",
   "execution_count": null,
   "id": "ad77f0fc",
   "metadata": {},
   "outputs": [],
   "source": [
    "with h5py.File(f'/data/vnikitin/ESRF/ID16A/20240924_rec/AtomiumS2/AtomiumS2_HT_007nm.h5') as fid:\n",
    "    detector_pixelsize = fid['/exchange/detector_pixelsize'][0]    \n",
    "    focusToDetectorDistance = fid['/exchange/focusdetectordistance'][0]    \n",
    "    z1 = fid['/exchange/z1'][:]        \n",
    "    theta = fid['/exchange/theta'][::step,0]\n",
    "    shape = fid['/exchange/data0'][::step].shape\n",
    "    "
   ]
  },
  {
   "cell_type": "code",
   "execution_count": null,
   "id": "26f17e61",
   "metadata": {},
   "outputs": [],
   "source": [
    "theta = theta/180*np.pi"
   ]
  },
  {
   "cell_type": "code",
   "execution_count": null,
   "id": "da169abc",
   "metadata": {},
   "outputs": [],
   "source": [
    "ntheta,n = shape[:2]\n",
    "n//=2**bin"
   ]
  },
  {
   "cell_type": "code",
   "execution_count": null,
   "id": "59fa16f2-1f9c-4b3a-a330-e10942f12234",
   "metadata": {},
   "outputs": [],
   "source": [
    "energy = 33.35  # [keV] xray energy\n",
    "wavelength = 1.2398419840550367e-09/energy  # [m] wave length\n",
    "z2 = focusToDetectorDistance-z1\n",
    "\n",
    "magnifications = focusToDetectorDistance/z1\n",
    "norm_magnifications = magnifications/magnifications[0]\n",
    "distances = (z1*z2)/focusToDetectorDistance*norm_magnifications**2#!!!!\n",
    "voxelsize = detector_pixelsize/magnifications[0]*2048/n  # object voxel size\n",
    "show = True\n"
   ]
  },
  {
   "cell_type": "code",
   "execution_count": null,
   "id": "f9d10c47",
   "metadata": {},
   "outputs": [],
   "source": [
    "print(f'{voxelsize=}')\n",
    "print(f'{distances/distances[0]=}')"
   ]
  },
  {
   "cell_type": "code",
   "execution_count": null,
   "id": "6a2d1c00",
   "metadata": {},
   "outputs": [],
   "source": [
    "ndist = 4\n",
    "pad = 0\n",
    "npsi = int(np.ceil((2048+2*pad)/norm_magnifications[-1]/16))*16  # make multiple of 8\n",
    "npsi//=(2048//n)"
   ]
  },
  {
   "cell_type": "code",
   "execution_count": null,
   "id": "0f28adad",
   "metadata": {},
   "outputs": [],
   "source": [
    "npsi//2-n//2+499.5\n"
   ]
  },
  {
   "cell_type": "code",
   "execution_count": null,
   "id": "21e717d2",
   "metadata": {},
   "outputs": [],
   "source": [
    "args = SimpleNamespace()\n",
    "args.ngpus = 4\n",
    "\n",
    "args.n = n\n",
    "args.ndist = ndist\n",
    "args.ntheta = ntheta\n",
    "args.pad = pad\n",
    "\n",
    "args.nq = n + 2 * pad\n",
    "args.nchunk = 4\n",
    "\n",
    "args.voxelsize = voxelsize\n",
    "args.wavelength = wavelength\n",
    "args.distance = distances\n",
    "args.eps = 1e-12\n",
    "args.rho = [1, 5, 3]\n",
    "args.lam = 0\n",
    "args.path_out = f\"/data/vnikitin/ESRF/ID16A/20240924_rec/AtomiumS2/AtomiumS2_HT_007nm/s4_newcenter_{ndist}_{args.lam}\"\n",
    "args.show = True\n",
    "\n",
    "args.niter=1\n",
    "args.vis_step=1\n",
    "args.err_step=1\n",
    "args.method = \"BH-CG\"\n",
    "\n",
    "\n",
    "args.rotation_axis=(795.5)*n/1024\n",
    "args.npsi = npsi\n",
    "args.theta = theta\n",
    "args.norm_magnifications = norm_magnifications"
   ]
  },
  {
   "cell_type": "code",
   "execution_count": null,
   "id": "19ec19d3",
   "metadata": {},
   "outputs": [],
   "source": [
    "data = np.zeros([ntheta,ndist,n,n],dtype='float32')\n",
    "with h5py.File(f'/data/vnikitin/ESRF/ID16A/20240924_rec/AtomiumS2/AtomiumS2_HT_007nm_corr.h5') as fid:\n",
    "    for k in range(ndist):\n",
    "        tmp = fid[f'/exchange/data{k}'][::step].copy()\n",
    "        \n",
    "        for j in range(bin):\n",
    "            tmp = 0.5*(tmp[:,:,::2]+tmp[:,:,1::2])\n",
    "            tmp = 0.5*(tmp[:,::2,:]+tmp[:,1::2,:])        \n",
    "        data[:,k]=tmp.copy()\n",
    "    tmp = fid[f'/exchange/ref'][:]\n",
    "    for j in range(bin):\n",
    "        tmp = 0.5*(tmp[...,::2]+tmp[...,1::2])\n",
    "        tmp = 0.5*(tmp[...,::2,:]+tmp[...,1::2,:])\n",
    "    ref=tmp\n",
    "    "
   ]
  },
  {
   "cell_type": "code",
   "execution_count": null,
   "id": "f77b63ee",
   "metadata": {},
   "outputs": [],
   "source": [
    "import scipy as sp\n",
    "\n",
    "def _downsample(data, binning):\n",
    "    res = data.copy()\n",
    "    for k in range(binning):\n",
    "        res = 0.5*(res[..., ::2,:]+res[..., 1::2,:])\n",
    "        res = 0.5*(res[..., :, ::2]+res[..., :, 1::2])\n",
    "    return res\n",
    "\n",
    "def _downsample3d(data, binning):\n",
    "    res = data.copy()\n",
    "    for k in range(binning):\n",
    "        res = 0.5*(res[..., ::2,:,:]+res[..., 1::2,:, :])\n",
    "        res = 0.5*(res[..., ::2,:]+res[..., 1::2,:])\n",
    "        res = 0.5*(res[..., :, ::2]+res[..., :, 1::2])\n",
    "    return res\n",
    "\n",
    "def _fftupsample(f, dims):\n",
    "    paddim = np.zeros([np.ndim(f), 2], dtype='int32')\n",
    "    dims = np.asarray(dims).astype('int32')\n",
    "    paddim[dims, 0] = np.asarray(f.shape)[dims]//2\n",
    "    paddim[dims, 1] = np.asarray(f.shape)[dims]//2\n",
    "    fsize = f.size\n",
    "    f = sp.fft.ifftshift(sp.fft.fftn(sp.fft.fftshift(\n",
    "        f, dims), axes=dims, workers=-1), dims)\n",
    "    f = np.pad(f, paddim)\n",
    "    f = sp.fft.fftshift(f, dims)\n",
    "    f = sp.fft.ifftn(f, axes=dims, workers=-1)\n",
    "    f = sp.fft.ifftshift(f, dims)\n",
    "    return f.astype('complex64')*(f.size/fsize)"
   ]
  },
  {
   "cell_type": "code",
   "execution_count": null,
   "id": "604231d4",
   "metadata": {},
   "outputs": [],
   "source": [
    "nlevels = 3\n",
    "# iters = np.array([1025,384,129*4])\n",
    "iters = np.array([129,33,9])\n",
    "vis_steps = [8,8,8]\n",
    "err_steps = [8,8,8]\n",
    "chunks = [64,32,8]\n",
    "\n",
    "for level in range(nlevels):    \n",
    "    print(f'{level=}')    \n",
    "\n",
    "    args.n = n//2**(nlevels-level-1)\n",
    "    args.npsi = npsi//2**(nlevels-level-1)\n",
    "    args.nq = (n + args.pad)//2**(nlevels-level-1)    \n",
    "    args.voxelsize = voxelsize*2**(nlevels-level-1)    \n",
    "\n",
    "    args.nchunk = chunks[level]\n",
    "    args.niter=iters[level]\n",
    "    args.vis_step=vis_steps[level]\n",
    "    args.err_step=err_steps[level]\n",
    "    args.rotation_axis=(795.5)*n/1024/2**(nlevels-level-1)\n",
    "    args.rho = [1,5,3]\n",
    "\n",
    "    if level==0:\n",
    "        vars = {}                \n",
    "        with h5py.File(f'/data/vnikitin/ESRF/ID16A/20240924_rec/AtomiumS2/AtomiumS2_HT_007nm_corr.h5') as fid:\n",
    "            u_init = fid['/exchange/u_init_re'][:]+1j*fid['/exchange/u_init_imag'][:]                \n",
    "            r_init = fid[f'/exchange/cshifts_final'][::step]*args.n/2048\n",
    "        cl_rec = Rec(args)    \n",
    "        q_init = np.ones([ndist,args.nq,args.nq],dtype='complex64')        \n",
    "        ref_bin = _downsample(ref,nlevels-1)    \n",
    "        for j in range(ndist):\n",
    "            q_init[j] = cl_rec.DT(np.sqrt(ref_bin[j:j+1]),j)[0]\n",
    "        q = q_init.copy()\n",
    "        u = u_init.copy()        \n",
    "        r = r_init.copy()\n",
    "    else:\n",
    "        u = _fftupsample(0.5*vars['u'],[0])\n",
    "        u = _fftupsample(u,[1])\n",
    "        u = _fftupsample(u,[2])        \n",
    "        q = _fftupsample(vars['q'].get(),[1])\n",
    "        q = _fftupsample(q,[2])        \n",
    "        r = vars['r']*2\n",
    "\n",
    "    data_bin = _downsample(data,nlevels-level-1)    \n",
    "    \n",
    "    cl_rec = Rec(args)    \n",
    "    vars[\"u\"] = u\n",
    "    print(q.shape,q.dtype)\n",
    "    vars[\"q\"] = cp.array(q)\n",
    "    vars[\"r\"] = r\n",
    "    with h5py.File(f'/data/vnikitin/ESRF/ID16A/20240924_rec/AtomiumS2/AtomiumS2_HT_007nm_corr.h5') as fid:\n",
    "        vars[\"r_init\"] = fid[f'/exchange/cshifts_final'][::step]*args.n/2048#/2**(nlevels-1)\n",
    "    vars[\"Ru\"] = cl_rec.R(vars['u'])\n",
    "    vars[\"psi\"] = cl_rec.expR(vars['Ru'])        \n",
    "    vars[\"table\"] = pd.DataFrame(columns=[\"iter\", \"err\", \"time\"])    \n",
    "    vars = cl_rec.BH(data_bin, vars)  \n",
    "    \n",
    "    "
   ]
  }
 ],
 "metadata": {
  "kernelspec": {
   "display_name": "holotomocupy",
   "language": "python",
   "name": "python3"
  },
  "language_info": {
   "codemirror_mode": {
    "name": "ipython",
    "version": 3
   },
   "file_extension": ".py",
   "mimetype": "text/x-python",
   "name": "python",
   "nbconvert_exporter": "python",
   "pygments_lexer": "ipython3",
   "version": "3.12.8"
  }
 },
 "nbformat": 4,
 "nbformat_minor": 5
}
