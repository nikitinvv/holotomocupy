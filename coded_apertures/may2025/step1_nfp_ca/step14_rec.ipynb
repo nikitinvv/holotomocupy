{
 "cells": [
  {
   "cell_type": "code",
   "execution_count": null,
   "metadata": {},
   "outputs": [],
   "source": [
    "import cupy as cp\n",
    "import matplotlib.pyplot as plt\n",
    "import pandas as pd\n",
    "import sys\n",
    "import h5py\n",
    "from types import SimpleNamespace\n",
    "import warnings\n",
    "warnings.filterwarnings(\"ignore\", message=f\".*peer.*\")\n",
    "\n",
    "sys.path.insert(0, '..')\n",
    "from utils import *\n",
    "from rec import Rec\n",
    "\n",
    "\n",
    "cp.cuda.set_pinned_memory_allocator(cp.cuda.PinnedMemoryPool().malloc)\n"
   ]
  },
  {
   "cell_type": "markdown",
   "metadata": {},
   "source": [
    "## Sizes and propagation settings"
   ]
  },
  {
   "cell_type": "code",
   "execution_count": null,
   "metadata": {},
   "outputs": [],
   "source": [
    "npos = 324"
   ]
  },
  {
   "cell_type": "code",
   "execution_count": null,
   "metadata": {},
   "outputs": [],
   "source": [
    "path = f'/data/vnikitin/ESRF/ID16A/20240924_rec_ca/data/'\n",
    "with  h5py.File(f'{path}/data_ca.h5','r') as fid:\n",
    "    data = fid[f'/exchange/pdata'][:npos].astype('float32')\n",
    "    ref = fid[f'/exchange/pref'][:].astype('float32')\n",
    "    shifts = fid[f'/exchange/shifts'][:npos].astype('float32')    \n",
    "    psi_init = fid[f'/exchange/psi_init'][:]\n",
    "    \n",
    "    z1 = fid['/exchange/z1'][0]\n",
    "    detector_pixelsize = fid['/exchange/detector_pixelsize'][0]\n",
    "    focusdetectordistance = fid['/exchange/focusdetectordistance'][0]\n",
    "    energy = fid['/exchange/energy'][0]\n"
   ]
  },
  {
   "cell_type": "code",
   "execution_count": null,
   "metadata": {},
   "outputs": [],
   "source": [
    "wavelength = 1.24e-09/energy  \n",
    "focusToDetectorDistance = 1.28  \n",
    "z2 = focusToDetectorDistance-z1\n",
    "distance = (z1*z2)/focusToDetectorDistance\n",
    "magnification = focusToDetectorDistance/z1\n",
    "voxelsize = np.abs(detector_pixelsize/magnification)  \n"
   ]
  },
  {
   "cell_type": "code",
   "execution_count": null,
   "metadata": {},
   "outputs": [],
   "source": [
    "args = SimpleNamespace()\n",
    "\n",
    "args.ngpus = 4\n",
    "args.lam = 0.0\n",
    "\n",
    "args.n = 2048\n",
    "args.npsi = 8192\n",
    "args.pad = 0\n",
    "args.nq = args.n + 2 * args.pad\n",
    "args.ex = 0\n",
    "args.npatch = args.nq + 2 * args.ex\n",
    "args.npos = npos\n",
    "args.nchunk = 8\n",
    "\n",
    "args.voxelsize = voxelsize\n",
    "args.wavelength = wavelength\n",
    "args.distance = distance\n",
    "args.eps = 1e-8\n",
    "args.rho = [1, 2, 0.1]\n",
    "args.path_out = f\"/data/vnikitin/ESRF/ID16A/20240924_rec_ca/rec_ca/r_{args.lam}_{args.pad}\"\n",
    "\n",
    "args.niter = 4096*2\n",
    "args.err_step = 32\n",
    "args.vis_step = 32\n",
    "args.show = False\n",
    "\n",
    "# create class\n",
    "cl_rec = Rec(args)"
   ]
  },
  {
   "cell_type": "markdown",
   "metadata": {},
   "source": [
    "# init probe"
   ]
  },
  {
   "cell_type": "code",
   "execution_count": null,
   "metadata": {},
   "outputs": [],
   "source": [
    "q_init = cp.array(cl_rec.DT(np.sqrt(ref[np.newaxis]))[0])\n",
    "\n",
    "ppad = 3 * args.pad // 2\n",
    "q_init = np.pad(\n",
    "    q_init[ppad : args.nq - ppad, ppad : args.nq - ppad],\n",
    "    ((ppad, ppad), (ppad, ppad)),\n",
    "    \"symmetric\",\n",
    ")\n",
    "v = cp.ones(args.nq, dtype=\"float32\")\n",
    "vv = cp.sin(cp.linspace(0, cp.pi / 2, ppad))\n",
    "v[:ppad] = vv\n",
    "v[args.nq - ppad :] = vv[::-1]\n",
    "v = cp.outer(v, v)\n",
    "q_init = cp.abs(q_init * v) * cp.exp(1j * cp.angle(q_init) * v)\n",
    "\n",
    "mshow_polar(q_init,args.show)"
   ]
  },
  {
   "cell_type": "code",
   "execution_count": null,
   "metadata": {},
   "outputs": [],
   "source": [
    "# variables\n",
    "vars = {}\n",
    "vars[\"psi\"] = cp.array(psi_init)\n",
    "vars[\"q\"] = cp.array(q_init)\n",
    "vars[\"ri\"] = np.floor(shifts).astype(\"int32\")\n",
    "vars[\"r\"] = np.array(shifts - vars[\"ri\"]).astype(\"float32\")\n",
    "vars[\"table\"] = pd.DataFrame(columns=[\"iter\", \"err\", \"time\"])\n",
    "# reconstruction\n",
    "vars = cl_rec.BH(data, ref, vars)"
   ]
  },
  {
   "cell_type": "code",
   "execution_count": null,
   "metadata": {},
   "outputs": [],
   "source": [
    "# results\n",
    "erra = vars[\"table\"][\"err\"].values\n",
    "plt.plot(erra)\n",
    "plt.yscale(\"log\")\n",
    "plt.grid()\n",
    "mshow_polar(vars[\"psi\"],args.show)\n",
    "mshow_polar(vars[\"q\"],args.show)\n",
    "pos_rec = vars[\"ri\"] + vars[\"r\"]\n",
    "if args.show:\n",
    "    plt.plot((shifts[:, 1] - pos_rec[:, 1]), \".\", label=\"x difference\")\n",
    "    plt.plot((shifts[:, 0] - pos_rec[:, 0]), \".\", label=\"y difference\")\n",
    "    plt.legend()\n",
    "    plt.grid()\n",
    "    plt.plot()"
   ]
  }
 ],
 "metadata": {
  "kernelspec": {
   "display_name": "holotomocupy",
   "language": "python",
   "name": "python3"
  },
  "language_info": {
   "codemirror_mode": {
    "name": "ipython",
    "version": 3
   },
   "file_extension": ".py",
   "mimetype": "text/x-python",
   "name": "python",
   "nbconvert_exporter": "python",
   "pygments_lexer": "ipython3",
   "version": "3.12.8"
  }
 },
 "nbformat": 4,
 "nbformat_minor": 2
}
