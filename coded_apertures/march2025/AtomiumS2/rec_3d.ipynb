{
 "cells": [
  {
   "cell_type": "code",
   "execution_count": 1,
   "id": "fad77fab-e206-47c1-9655-088d14fe30cb",
   "metadata": {},
   "outputs": [],
   "source": [
    "import numpy as np\n",
    "import cupy as cp\n",
    "import sys\n",
    "import pandas as pd\n",
    "import time\n",
    "import matplotlib.pyplot as plt\n",
    "import h5py\n",
    "from types import SimpleNamespace\n",
    "import warnings\n",
    "warnings.filterwarnings(\"ignore\", message=f\".*peer.*\")\n",
    "\n",
    "sys.path.insert(0, '..')\n",
    "from utils import *\n",
    "from rec import Rec"
   ]
  },
  {
   "cell_type": "code",
   "execution_count": 2,
   "id": "c4e686b1",
   "metadata": {},
   "outputs": [],
   "source": [
    "bin = 1\n",
    "ntheta = 3600"
   ]
  },
  {
   "cell_type": "code",
   "execution_count": 3,
   "id": "e48e6acc",
   "metadata": {},
   "outputs": [],
   "source": [
    "with h5py.File(f'/data/vnikitin/ESRF/ID16A/20240924_h5/AtomiumS2/AtomiumS2_codedht_random_007nm/data_corrected.h5') as fid:\n",
    "    sx0 = fid['/exchange/sx0'][0]    \n",
    "    detector_pixelsize = fid['/exchange/detector_pixelsize'][0]    \n",
    "    focusToDetectorDistance = fid['/exchange/focusdetectordistance'][0]    \n",
    "    z10 = fid['/exchange/z1'][0]    \n",
    "    \n",
    "    theta = fid['/exchange/theta'][::7200//ntheta]/180*np.pi\n",
    "    shifts_cor = fid['/exchange/shifts_cor'][::7200//ntheta]\n",
    "    shifts_code = fid['/exchange/shifts_code'][::7200//ntheta]    \n",
    "    cdata2 = fid['/exchange/cdata2'][::7200//ntheta]\n",
    "    data = fid['/exchange/data'][::7200//ntheta]        \n",
    "\n",
    "    cdata = fid['/exchange/cdata'][:]    \n",
    "    ref = fid['/exchange/ref'][:]\n",
    "    q = fid['/exchange/prb'][:]\n",
    "    code = fid['/exchange/code'][:]    \n",
    "    \n",
    "\n",
    "for k in range(bin):\n",
    "    data = 0.5*(data[:,::2]+data[:,1::2])\n",
    "    data = 0.5*(data[:,:,::2]+data[:,:,1::2])\n",
    "    ref = 0.5*(ref[::2]+ref[1::2])\n",
    "    ref = 0.5*(ref[:,::2]+ref[:,1::2])\n",
    "    cdata = 0.5*(cdata[::2]+cdata[1::2])\n",
    "    cdata = 0.5*(cdata[:,::2]+cdata[:,1::2])\n",
    "    cdata2 = 0.5*(cdata2[:,::2]+cdata2[:,1::2])\n",
    "    cdata2 = 0.5*(cdata2[:,:,::2]+cdata2[:,:,1::2])\n",
    "    q = 0.5*(q[::2]+q[1::2])\n",
    "    q = 0.5*(q[:,::2]+q[:,1::2])\n",
    "    code = 0.5*(code[::2]+code[1::2])\n",
    "    code = 0.5*(code[:,::2]+code[:,1::2])\n",
    "shifts_cor/=2**bin\n",
    "shifts_code/=2**bin"
   ]
  },
  {
   "cell_type": "code",
   "execution_count": 4,
   "id": "3d812b48",
   "metadata": {},
   "outputs": [],
   "source": [
    "z1c = -17.75e-3\n",
    "energy = 33.35  # [keV] xray energy\n",
    "wavelength = 1.2398419840550367e-09/energy  # [m] wave length\n",
    "z1 = z10 - sx0\n",
    "z2 = focusToDetectorDistance-z1\n",
    "distance = (z1*z2)/focusToDetectorDistance\n",
    "magnifications = focusToDetectorDistance/z1\n",
    "voxelsize = np.abs(detector_pixelsize/magnifications)\n",
    "magnifications2 = z1/z1c\n",
    "distancec = (z1-z1c)/(z1c/z1)#magnifications2\n",
    "show = True"
   ]
  },
  {
   "cell_type": "code",
   "execution_count": 5,
   "id": "14f44d56",
   "metadata": {},
   "outputs": [],
   "source": [
    "args = SimpleNamespace()\n",
    "args.npos = 1\n",
    "args.ngpus = 2\n",
    "args.lam = 50\n",
    "\n",
    "args.n = 2048//2**bin\n",
    "voxelsize *= 2048/args.n\n",
    "\n",
    "args.ntheta = ntheta\n",
    "args.ncode = 8704*args.n//2048\n",
    "args.pad = args.n // 8\n",
    "args.npsi = args.n + 2 * args.pad\n",
    "args.nq = args.n + 2 * args.pad\n",
    "args.ex = 8\n",
    "args.npatch = args.nq + 2 * args.ex\n",
    "args.nchunk = 32\n",
    "\n",
    "args.voxelsize = voxelsize\n",
    "args.wavelength = wavelength\n",
    "args.distance = distance\n",
    "args.distancec = distancec\n",
    "args.eps = 1e-12\n",
    "args.rho = [1, 20, 10]\n",
    "args.crop = 0#2 * args.pad\n",
    "args.path_out = f\"/data/vnikitin/ESRF/ID16A/20240924_rec0224//AtomiumS2/AtomiumS2_codedht_random_007nm/new_pad_{args.n}_{args.lam}_{args.rho[1]}_{args.rho[2]}\"\n",
    "args.show = False\n",
    "\n",
    "args.niter=10000\n",
    "args.vis_step=32\n",
    "args.err_step=32\n",
    "args.method = \"BH-CG\"\n",
    "args.rotation_axis=756*args.n/1024-args.n // 8\n",
    "\n",
    "args.theta = theta\n",
    "# create class\n",
    "cl_rec = Rec(args)\n"
   ]
  },
  {
   "cell_type": "code",
   "execution_count": 6,
   "id": "63fb9be3",
   "metadata": {},
   "outputs": [],
   "source": [
    "# q  = q[q.shape[0]//2-args.nq//2:q.shape[0]//2+args.nq//2,q.shape[0]//2-args.nq//2:q.shape[0]//2+args.nq//2]\n",
    "# q = np.pad(q,((args.pad//2,args.pad//2),(args.pad//2,args.pad//2)))"
   ]
  },
  {
   "cell_type": "markdown",
   "id": "2d3e1339",
   "metadata": {},
   "source": []
  },
  {
   "cell_type": "code",
   "execution_count": null,
   "id": "8f3563fc",
   "metadata": {},
   "outputs": [],
   "source": [
    "rdata=data/cdata2\n",
    "mshow(rdata[-1],show)"
   ]
  },
  {
   "cell_type": "code",
   "execution_count": null,
   "id": "382b95aa",
   "metadata": {},
   "outputs": [],
   "source": [
    "def Paganin(data, wavelength, voxelsize, delta_beta, alpha):\n",
    "    n = data.shape[-1]\n",
    "    fx = cp.fft.fftfreq(2*n, d=voxelsize).astype(\"float32\")\n",
    "    [fx, fy] = cp.meshgrid(fx, fx)\n",
    "    data = np.pad(data,((n//2,n//2),(n//2,n//2)),'edge')\n",
    "    rad_freq = cp.fft.fft2(data)\n",
    "    taylorExp = 1 + wavelength * distance * cp.pi * (delta_beta) * (fx**2 + fy**2)\n",
    "    numerator = taylorExp * (rad_freq)\n",
    "    denominator = taylorExp**2 + alpha\n",
    "    phase = cp.log(cp.real(cp.fft.ifft2(numerator / denominator)))\n",
    "    phase = delta_beta * 0.5 * phase\n",
    "    phase = phase[n//2:-n//2,n//2:-n//2]\n",
    "    return phase\n",
    "\n",
    "def rec_init(rdata):\n",
    "    recMultiPaganin = np.zeros([args.ntheta,args.npsi, args.npsi], dtype=\"float32\")\n",
    "    for j in range(0, args.ntheta):\n",
    "        r = cp.array(rdata[j])\n",
    "        r = cp.pad(r,((args.pad,args.pad),(args.pad,args.pad)),'edge')\n",
    "        v = cp.zeros([args.npsi,args.npsi],dtype='complex64')\n",
    "        v = cp.linspace(0,1,args.pad)\n",
    "        v = v**5*(126-420*v+540*v**2-315*v**3+70*v**4)           \n",
    "\n",
    "        vv = cp.ones(args.npsi)\n",
    "        vv[args.pad:2*args.pad]=v\n",
    "        vv[:args.pad] = 0\n",
    "        vv[args.npsi-2*args.pad:args.npsi-args.pad]=1-v\n",
    "        vv[args.npsi-args.pad:] = 0\n",
    "        vv=cp.outer(vv,vv)\n",
    "        r = r*vv+(1-vv)*np.mean(r)\n",
    "        r = Paganin(r, wavelength, voxelsize, 1.05, 1e-12)     \n",
    "        r-=0.5*(np.mean(r[:args.n//32,:args.n//32])+np.mean(r[-args.n//32:,-args.n//32:]))\n",
    "        recMultiPaganin[j] = r.get()   \n",
    "\n",
    "    recMultiPaganin = np.exp(1j * recMultiPaganin)\n",
    "    return recMultiPaganin\n",
    "\n",
    "psi_init = rec_init(rdata)\n",
    "mshow_polar(psi_init[0],args.show)"
   ]
  },
  {
   "cell_type": "code",
   "execution_count": 9,
   "id": "6bc4b547",
   "metadata": {},
   "outputs": [],
   "source": [
    "psi_data = np.log(psi_init)/1j\n",
    "rpsi = shifts_cor"
   ]
  },
  {
   "cell_type": "code",
   "execution_count": null,
   "id": "44895a21",
   "metadata": {},
   "outputs": [],
   "source": [
    "#adjustments\n",
    "v=np.arange(-ntheta//2,ntheta//2)/(ntheta//2)\n",
    "cc = 2*v**2\n",
    "cc[ntheta//2:]/=2\n",
    "rpsi[:,0]=shifts_cor[:,0]+cc*args.n/512\n",
    "plt.plot(cc)"
   ]
  },
  {
   "cell_type": "code",
   "execution_count": null,
   "id": "b51ed0f9",
   "metadata": {},
   "outputs": [],
   "source": [
    "mshow_polar(psi_data[0],args.show)\n",
    "import dxchange\n",
    "dxchange.write_tiff_stack(np.real(cl_rec.STpsi(psi_data,rpsi)),'/data/tmp/psi_data/r',overwrite=True)"
   ]
  },
  {
   "cell_type": "code",
   "execution_count": null,
   "id": "181cc564",
   "metadata": {},
   "outputs": [],
   "source": [
    "\n",
    "u_init = cl_rec.rec_tomo(psi_data,rpsi,32)\n",
    "mshow_complex(u_init[u_init.shape[0]//2],True)"
   ]
  },
  {
   "cell_type": "code",
   "execution_count": 13,
   "id": "c580e0b3",
   "metadata": {},
   "outputs": [
    {
     "ename": "KeyboardInterrupt",
     "evalue": "",
     "output_type": "error",
     "traceback": [
      "\u001b[0;31m---------------------------------------------------------------------------\u001b[0m",
      "\u001b[0;31mKeyboardInterrupt\u001b[0m                         Traceback (most recent call last)",
      "Cell \u001b[0;32mIn[13], line 11\u001b[0m\n\u001b[1;32m      9\u001b[0m \u001b[38;5;28mvars\u001b[39m[\u001b[38;5;124m\"\u001b[39m\u001b[38;5;124mrpsi\u001b[39m\u001b[38;5;124m\"\u001b[39m] \u001b[38;5;241m=\u001b[39m np\u001b[38;5;241m.\u001b[39marray(shifts_cor)\u001b[38;5;241m.\u001b[39mastype(\u001b[38;5;124m\"\u001b[39m\u001b[38;5;124mfloat32\u001b[39m\u001b[38;5;124m\"\u001b[39m)\n\u001b[1;32m     10\u001b[0m \u001b[38;5;28mvars\u001b[39m[\u001b[38;5;124m\"\u001b[39m\u001b[38;5;124mtable\u001b[39m\u001b[38;5;124m\"\u001b[39m] \u001b[38;5;241m=\u001b[39m pd\u001b[38;5;241m.\u001b[39mDataFrame(columns\u001b[38;5;241m=\u001b[39m[\u001b[38;5;124m\"\u001b[39m\u001b[38;5;124miter\u001b[39m\u001b[38;5;124m\"\u001b[39m, \u001b[38;5;124m\"\u001b[39m\u001b[38;5;124merr\u001b[39m\u001b[38;5;124m\"\u001b[39m, \u001b[38;5;124m\"\u001b[39m\u001b[38;5;124mtime\u001b[39m\u001b[38;5;124m\"\u001b[39m])\n\u001b[0;32m---> 11\u001b[0m \u001b[38;5;28mvars\u001b[39m \u001b[38;5;241m=\u001b[39m \u001b[43mcl_rec\u001b[49m\u001b[38;5;241;43m.\u001b[39;49m\u001b[43mBH\u001b[49m\u001b[43m(\u001b[49m\u001b[43mdata\u001b[49m\u001b[43m,\u001b[49m\u001b[43m \u001b[49m\u001b[38;5;28;43mvars\u001b[39;49m\u001b[43m)\u001b[49m\n",
      "File \u001b[0;32m/home/beams8/TOMO/vnikitin/holotomocupy/coded_apertures/march2025/AtomiumS2/rec.py:187\u001b[0m, in \u001b[0;36mRec.BH\u001b[0;34m(self, d, vars)\u001b[0m\n\u001b[1;32m    185\u001b[0m etas[\u001b[38;5;124m\"\u001b[39m\u001b[38;5;124mRu\u001b[39m\u001b[38;5;124m\"\u001b[39m] \u001b[38;5;241m=\u001b[39m \u001b[38;5;241m-\u001b[39mgrads[\u001b[38;5;124m\"\u001b[39m\u001b[38;5;124mRu\u001b[39m\u001b[38;5;124m\"\u001b[39m] \u001b[38;5;241m*\u001b[39m rho[\u001b[38;5;241m0\u001b[39m] \u001b[38;5;241m*\u001b[39m\u001b[38;5;241m*\u001b[39m \u001b[38;5;241m2\u001b[39m \u001b[38;5;241m+\u001b[39m beta \u001b[38;5;241m*\u001b[39m etas[\u001b[38;5;124m\"\u001b[39m\u001b[38;5;124mRu\u001b[39m\u001b[38;5;124m\"\u001b[39m]\n\u001b[1;32m    186\u001b[0m \u001b[38;5;66;03m#linear(etas['Ru'],grads['Ru'],etas['Ru'],-rho[0]**2,beta,self.pool_cpu)                                \u001b[39;00m\n\u001b[0;32m--> 187\u001b[0m etas[\u001b[38;5;124m\"\u001b[39m\u001b[38;5;124mq\u001b[39m\u001b[38;5;124m\"\u001b[39m] \u001b[38;5;241m=\u001b[39m \u001b[38;5;241;43m-\u001b[39;49m\u001b[43mgrads\u001b[49m\u001b[43m[\u001b[49m\u001b[38;5;124;43m\"\u001b[39;49m\u001b[38;5;124;43mq\u001b[39;49m\u001b[38;5;124;43m\"\u001b[39;49m\u001b[43m]\u001b[49m\u001b[43m \u001b[49m\u001b[38;5;241;43m*\u001b[39;49m\u001b[43m \u001b[49m\u001b[43mrho\u001b[49m\u001b[43m[\u001b[49m\u001b[38;5;241;43m1\u001b[39;49m\u001b[43m]\u001b[49m\u001b[43m \u001b[49m\u001b[38;5;241;43m*\u001b[39;49m\u001b[38;5;241;43m*\u001b[39;49m\u001b[43m \u001b[49m\u001b[38;5;241;43m2\u001b[39;49m \u001b[38;5;241m+\u001b[39m beta \u001b[38;5;241m*\u001b[39m etas[\u001b[38;5;124m\"\u001b[39m\u001b[38;5;124mq\u001b[39m\u001b[38;5;124m\"\u001b[39m]\n\u001b[1;32m    188\u001b[0m \u001b[38;5;66;03m#linear(etas['q'],grads['q'],etas['q'],-rho[1]**2,beta,self.pool_cpu)                                \u001b[39;00m\n\u001b[1;32m    189\u001b[0m etas[\u001b[38;5;124m\"\u001b[39m\u001b[38;5;124mr\u001b[39m\u001b[38;5;124m\"\u001b[39m] \u001b[38;5;241m=\u001b[39m \u001b[38;5;241m-\u001b[39mgrads[\u001b[38;5;124m\"\u001b[39m\u001b[38;5;124mr\u001b[39m\u001b[38;5;124m\"\u001b[39m] \u001b[38;5;241m*\u001b[39m rho[\u001b[38;5;241m2\u001b[39m] \u001b[38;5;241m*\u001b[39m\u001b[38;5;241m*\u001b[39m \u001b[38;5;241m2\u001b[39m \u001b[38;5;241m+\u001b[39m beta \u001b[38;5;241m*\u001b[39m etas[\u001b[38;5;124m\"\u001b[39m\u001b[38;5;124mr\u001b[39m\u001b[38;5;124m\"\u001b[39m]\n",
      "File \u001b[0;32mcupy/_core/core.pyx:1291\u001b[0m, in \u001b[0;36mcupy._core.core._ndarray_base.__mul__\u001b[0;34m()\u001b[0m\n",
      "File \u001b[0;32mcupy/_core/core.pyx:1699\u001b[0m, in \u001b[0;36mcupy._core.core._ndarray_base.__array_ufunc__\u001b[0;34m()\u001b[0m\n",
      "File \u001b[0;32mcupy/_core/_kernel.pyx:1334\u001b[0m, in \u001b[0;36mcupy._core._kernel.ufunc.__call__\u001b[0;34m()\u001b[0m\n",
      "File \u001b[0;32mcupy/_core/_kernel.pyx:1594\u001b[0m, in \u001b[0;36mcupy._core._kernel._Ops.guess_routine\u001b[0;34m()\u001b[0m\n",
      "File \u001b[0;32mcupy/_core/_kernel.pyx:1116\u001b[0m, in \u001b[0;36mcupy._core._kernel._min_scalar_type\u001b[0;34m()\u001b[0m\n",
      "File \u001b[0;32m~/conda/miniforge3/envs/holotomocupy/lib/python3.12/site-packages/numpy/_core/multiarray.py:642\u001b[0m, in \u001b[0;36mmin_scalar_type\u001b[0;34m(a)\u001b[0m\n\u001b[1;32m    582\u001b[0m \u001b[38;5;250m    \u001b[39m\u001b[38;5;124;03m\"\"\"\u001b[39;00m\n\u001b[1;32m    583\u001b[0m \u001b[38;5;124;03m    can_cast(from_, to, casting='safe')\u001b[39;00m\n\u001b[1;32m    584\u001b[0m \n\u001b[0;32m   (...)\u001b[0m\n\u001b[1;32m    637\u001b[0m \n\u001b[1;32m    638\u001b[0m \u001b[38;5;124;03m    \"\"\"\u001b[39;00m\n\u001b[1;32m    639\u001b[0m     \u001b[38;5;28;01mreturn\u001b[39;00m (from_,)\n\u001b[0;32m--> 642\u001b[0m \u001b[38;5;129m@array_function_from_c_func_and_dispatcher\u001b[39m(_multiarray_umath\u001b[38;5;241m.\u001b[39mmin_scalar_type)\n\u001b[1;32m    643\u001b[0m \u001b[38;5;28;01mdef\u001b[39;00m \u001b[38;5;21mmin_scalar_type\u001b[39m(a):\n\u001b[1;32m    644\u001b[0m \u001b[38;5;250m    \u001b[39m\u001b[38;5;124;03m\"\"\"\u001b[39;00m\n\u001b[1;32m    645\u001b[0m \u001b[38;5;124;03m    min_scalar_type(a, /)\u001b[39;00m\n\u001b[1;32m    646\u001b[0m \n\u001b[0;32m   (...)\u001b[0m\n\u001b[1;32m    685\u001b[0m \n\u001b[1;32m    686\u001b[0m \u001b[38;5;124;03m    \"\"\"\u001b[39;00m\n\u001b[1;32m    687\u001b[0m     \u001b[38;5;28;01mreturn\u001b[39;00m (a,)\n",
      "\u001b[0;31mKeyboardInterrupt\u001b[0m: "
     ]
    }
   ],
   "source": [
    "vars = {}\n",
    "vars[\"code\"] = cp.array(code)\n",
    "vars[\"u\"] = np.array(u_init)\n",
    "vars[\"Ru\"] = cl_rec.R(vars['u'])\n",
    "vars[\"psi\"] = cl_rec.expR(vars['Ru'])\n",
    "vars[\"q\"] = cp.array(q)\n",
    "vars[\"ri\"] = np.round(shifts_code).astype(\"int32\")\n",
    "vars[\"r\"] = np.array(shifts_code - vars[\"ri\"]).astype(\"float32\")\n",
    "vars[\"rpsi\"] = np.array(shifts_cor).astype(\"float32\")\n",
    "vars[\"table\"] = pd.DataFrame(columns=[\"iter\", \"err\", \"time\"])\n",
    "vars = cl_rec.BH(data, vars)"
   ]
  }
 ],
 "metadata": {
  "kernelspec": {
   "display_name": "holotomocupy",
   "language": "python",
   "name": "python3"
  },
  "language_info": {
   "codemirror_mode": {
    "name": "ipython",
    "version": 3
   },
   "file_extension": ".py",
   "mimetype": "text/x-python",
   "name": "python",
   "nbconvert_exporter": "python",
   "pygments_lexer": "ipython3",
   "version": "3.12.8"
  }
 },
 "nbformat": 4,
 "nbformat_minor": 5
}
