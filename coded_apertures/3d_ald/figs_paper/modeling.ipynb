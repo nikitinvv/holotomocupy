{
 "cells": [
  {
   "cell_type": "code",
   "execution_count": null,
   "id": "fad77fab-e206-47c1-9655-088d14fe30cb",
   "metadata": {},
   "outputs": [],
   "source": [
    "import numpy as np\n",
    "import cupy as cp\n",
    "import matplotlib.pyplot as plt\n",
    "\n",
    "from holotomocupy.tomo import R\n",
    "from holotomocupy.holo import G\n",
    "from holotomocupy.magnification import M\n",
    "from holotomocupy.shift import S\n",
    "from holotomocupy.utils import *\n",
    "import sys\n",
    "%matplotlib inline\n",
    "\n",
    "np.random.seed(10)\n",
    "!jupyter nbconvert --to script modeling.ipynb"
   ]
  },
  {
   "cell_type": "markdown",
   "id": "2fd15ee5",
   "metadata": {},
   "source": []
  },
  {
   "cell_type": "markdown",
   "id": "3c0fdd65-1cff-451e-865e-56cd8b7882a6",
   "metadata": {},
   "source": [
    "# Init data sizes and parametes of the PXM of ID16A"
   ]
  },
  {
   "cell_type": "code",
   "execution_count": null,
   "id": "59fa16f2-1f9c-4b3a-a330-e10942f12234",
   "metadata": {},
   "outputs": [],
   "source": [
    "n = 256  # object size in each dimension\n",
    "\n",
    "ntheta = 180  # number of angles (rotations)\n",
    "noise = 0\n",
    "npos = 3\n",
    "\n",
    "# npos = int(sys.argv[1])  # number of angles (rotations)\n",
    "# noise = int(sys.argv[2])#sys.argv[2]=='True'\n",
    "# z1p = float(sys.argv[3])  # positions of the code and the probe for reconstruction\n",
    "\n",
    "\n",
    "center = n/2 # rotation axis\n",
    "theta = cp.linspace(0, np.pi, ntheta,endpoint=False).astype('float32')  # projection angles\n",
    "\n",
    "detector_pixelsize = 3e-6/2\n",
    "energy = 33.35  # [keV] xray energy\n",
    "wavelength = 1.2398419840550367e-09/energy  # [m] wave length\n",
    "\n",
    "focusToDetectorDistance = 1.28  # [m]\n",
    "sx0 = 3.7e-4\n",
    "z1 = np.array([4.584e-3, 4.765e-3, 5.488e-3, 6.9895e-3])[:npos]-sx0\n",
    "z2 = focusToDetectorDistance-z1\n",
    "distances = (z1*z2)/focusToDetectorDistance\n",
    "magnifications = focusToDetectorDistance/z1\n",
    "voxelsize = detector_pixelsize/magnifications[0]*2048/n  # object voxel size\n",
    "# scaled propagation distances due to magnified probes\n",
    "# magnification when propagating from the probe plane to the detector\n",
    "magnifications2 = z1/z1[0]\n",
    "distances = distances/magnifications2**2\n",
    "# propagation distances after switching from the point source wave to plane wave,\n",
    "distances2 = (z1-z1[0])/magnifications2\n",
    "\n",
    "# allow padding if there are shifts of the probe\n",
    "pad = n//8\n",
    "# sample size after demagnification\n",
    "ne = n+2*pad\n",
    "show = False\n",
    "flg = f'{n}_{ntheta}_{npos}_{z1[0]:.2e}_{noise}_conv'\n",
    "# allow padding if there are shifts of the probe\n",
    "# sample size after demagnification\n",
    "ne = int(np.ceil((n+2*pad)*magnifications2[-1]/8))*8  # make multiple of 8\n",
    "print(distances+distances2)\n",
    "print(distances2)"
   ]
  },
  {
   "cell_type": "markdown",
   "id": "49eb1696-bb30-496e-8c3d-565f2791112c",
   "metadata": {},
   "source": [
    "## Read real and imaginary parts of the refractive index u = delta+i beta"
   ]
  },
  {
   "cell_type": "code",
   "execution_count": null,
   "id": "8a579ce4-0cd2-4769-a03d-7614aa96b0a8",
   "metadata": {},
   "outputs": [],
   "source": [
    "from scipy import ndimage\n",
    "\n",
    "# cube_all = np.zeros([n, n, n], dtype='float32')\n",
    "# rr = (np.ones(8)*n*0.25).astype(np.int32)\n",
    "# amps = [3, -3, 1, 3, -4, 1, 4]  # , -2, -4, 5 ]\n",
    "# dil = np.array([33, 28, 25, 21, 16, 10, 3])/256*n  # , 6, 3,1]\n",
    "# for kk in range(len(amps)):\n",
    "#     cube = np.zeros([n, n, n], dtype='bool')\n",
    "#     r = rr[kk]\n",
    "#     p1 = n//2-r//2\n",
    "#     p2 = n//2+r//2\n",
    "#     for k in range(3):\n",
    "#         cube = cube.swapaxes(0, k)\n",
    "#         cube[p1:p2, p1, p1] = True\n",
    "#         cube[p1:p2, p1, p2] = True\n",
    "#         cube[p1:p2, p2, p1] = True\n",
    "#         cube[p1:p2, p2, p2] = True\n",
    "#         # cube[p1:p2,p2,p2] = True\n",
    "\n",
    "#     [x, y, z] = np.meshgrid(np.arange(-n//2, n//2),\n",
    "#                             np.arange(-n//2, n//2), np.arange(-n//2, n//2))\n",
    "#     circ = (x**2+y**2+z**2) < dil[kk]**2\n",
    "#     # circ = (x**2<dil[kk]**2)*(y**2<dil[kk]**2)*(z**2<dil[kk]**2)\n",
    "\n",
    "#     fcirc = np.fft.fftshift(np.fft.fftn(np.fft.fftshift(circ)))\n",
    "#     fcube = np.fft.fftshift(np.fft.fftn(\n",
    "#         np.fft.fftshift(cube.astype('float32'))))\n",
    "#     cube = np.fft.fftshift(np.fft.ifftn(np.fft.fftshift(fcube*fcirc))).real\n",
    "#     cube = cube > 1\n",
    "#     cube_all += amps[kk]*cube\n",
    "\n",
    "# # cube_all = ndimage.rotate(cube_all,52,axes=(1,2),reshape=False,order=1)\n",
    "# cube_all = ndimage.rotate(cube_all, 28, axes=(0, 1), reshape=False, order=3)\n",
    "# cube_all = ndimage.rotate(cube_all, 45, axes=(0, 2), reshape=False, order=3)\n",
    "# cube_all[cube_all < 0] = 0\n",
    "\n",
    "\n",
    "# u0 = cube_all  # (-1*cube_all*1e-6+1j*cube_all*1e-8)/3\n",
    "\n",
    "# u0 = np.roll(u0, -15*n//256, axis=2)\n",
    "# u0 = np.roll(u0, -10*n//256, axis=1)\n",
    "# v = np.arange(-n//2, n//2)/n\n",
    "# [vx, vy, vz] = np.meshgrid(v, v, v)\n",
    "# v = np.exp(-10*(vx**2+vy**2+vz**2))\n",
    "# fu = np.fft.fftshift(np.fft.fftn(np.fft.fftshift(u0)))\n",
    "# u0 = np.fft.fftshift(np.fft.ifftn(np.fft.fftshift(fu*v))).real\n",
    "# u0[u0 < 0] = 0\n",
    "# u0 = u0*(-1*1e-6+1j*1e-8)/2\n",
    "# u0 = u0.astype('complex64')  \n",
    "# !mkdir -p data\n",
    "# np.save('data/uc', u0)\n",
    "\n",
    "\n",
    "u = np.load('data/uc.npy').astype('complex64')\n",
    "u = np.pad(u,((ne//2-n//2,ne//2-n//2),(ne//2-n//2,ne//2-n//2),(ne//2-n//2,ne//2-n//2)))\n",
    "\n",
    "mshow_complex(u[:, ne//2],show)\n",
    "mshow_complex(u[ne//2],show)\n"
   ]
  },
  {
   "cell_type": "markdown",
   "id": "2f80b96c-d4b8-4c0e-8999-b8198bbc486a",
   "metadata": {},
   "source": [
    "## Compute tomographic projection data via the Fourier based method, $\\mathcal{R}u$:"
   ]
  },
  {
   "cell_type": "code",
   "execution_count": null,
   "id": "87c2a585-910b-4c13-85fc-7f9e640f8293",
   "metadata": {},
   "outputs": [],
   "source": [
    "print(center,u.shape)\n",
    "Ru = R(u, theta, center*ne/n)\n",
    "Ru = Ru.swapaxes(0, 1)\n",
    "mshow_complex(Ru[0])"
   ]
  },
  {
   "cell_type": "markdown",
   "id": "8ad80230-2c85-4338-ab29-ce4421451d0d",
   "metadata": {},
   "source": [
    "## Convert it to the transmittance function $e^{\\frac{2\\pi j}{\\lambda} \\mathcal{R} u }$"
   ]
  },
  {
   "cell_type": "code",
   "execution_count": null,
   "id": "9741128b-b019-44f4-abc1-ed2da6a86f07",
   "metadata": {},
   "outputs": [],
   "source": [
    "psi = np.exp(2*np.pi*1j/wavelength*voxelsize*Ru)\n",
    "\n",
    "mshow_polar(psi[0])"
   ]
  },
  {
   "cell_type": "markdown",
   "id": "bc0f342c-c899-4a73-9871-9717e2bc96c6",
   "metadata": {},
   "source": [
    "## Read a reference image previously recovered by the NFP (Near-field ptychogarphy) method at ID16A. "
   ]
  },
  {
   "cell_type": "code",
   "execution_count": null,
   "id": "6ae30f8e-2518-42aa-bbbc-9a2664e74e2d",
   "metadata": {},
   "outputs": [],
   "source": [
    "# !wget -nc https://g-110014.fd635.8443.data.globus.org/holotomocupy/examples_synthetic/data/prb_id16a/prb_abs_2048.tiff -P ../data/prb_id16a\n",
    "# !wget -nc https://g-110014.fd635.8443.data.globus.org/holotomocupy/examples_synthetic/data/prb_id16a/prb_phase_2048.tiff -P ../data/prb_id16a\n",
    "\n",
    "prb_abs = read_tiff(f'../data/prb_id16a/prb_abs_2048.tiff')[0:1]\n",
    "prb_phase = read_tiff(f'../data/prb_id16a/prb_phase_2048.tiff')[0:1]\n",
    "prb = prb_abs*np.exp(1j*prb_phase).astype('complex64')\n",
    "\n",
    "\n",
    "for k in range(2):\n",
    "    prb = prb[:, ::2]+prb[:, 1::2]\n",
    "    prb = prb[:, :, ::2]+prb[:, :, 1::2]/4\n",
    "\n",
    "prb = prb[:, 128-pad:-128+pad, 128-pad:-128+pad]\n",
    "prb /= np.mean(np.abs(prb))\n",
    "# prb[:]=1\n",
    "\n",
    "mshow_polar(prb[0])"
   ]
  },
  {
   "cell_type": "markdown",
   "id": "c2a0705b",
   "metadata": {},
   "source": [
    "# Smooth the probe, the loaded one is too noisy"
   ]
  },
  {
   "cell_type": "code",
   "execution_count": null,
   "id": "93cf1c7b",
   "metadata": {},
   "outputs": [],
   "source": [
    "v = np.arange(-(n+2*pad)//2,(n+2*pad)//2)/(n+2*pad)\n",
    "[vx,vy] = np.meshgrid(v,v)\n",
    "v=np.exp(-20*(vx**2+vy**2))\n",
    "prb = np.fft.fftshift(np.fft.fftn(np.fft.fftshift(prb)))\n",
    "prb = np.fft.fftshift(np.fft.ifftn(np.fft.fftshift(prb*v)))\n",
    "prb = prb.astype('complex64')\n",
    "# prb[:]=1\n",
    "mshow_polar(prb[0])"
   ]
  },
  {
   "cell_type": "markdown",
   "id": "d1d02f36",
   "metadata": {},
   "source": [
    "# Shifts/drifts"
   ]
  },
  {
   "cell_type": "markdown",
   "id": "34abfd9e-9dde-4241-8055-96cec24c18fb",
   "metadata": {},
   "source": [
    "### Compute holographic projections for all angles and all distances\n",
    "#### $d=\\left|\\mathcal{G}_{z_j}((\\mathcal{G}_{z'_j}S_{s'_{kj}}q)(M_j S_{s_{kj}}\\psi_k))\\right|_2^2$, and reference data $d^r=\\left|\\mathcal{G}_{z'_j}S_{s^r_{j}}q\\right|$"
   ]
  },
  {
   "cell_type": "code",
   "execution_count": null,
   "id": "0472ad04",
   "metadata": {},
   "outputs": [],
   "source": [
    "from holotomocupy.chunking import gpu_batch\n",
    "\n",
    "@gpu_batch\n",
    "def fwd_holo(psi, prb):\n",
    "    # print(prb.shape)\n",
    "    prb = cp.array(prb)\n",
    "    \n",
    "    data = cp.zeros([psi.shape[0],npos,n,n],dtype='complex64')\n",
    "    for i in range(npos):        \n",
    "        # ill shift for each acquisition\n",
    "        prbr = cp.tile(prb,[psi.shape[0],1,1])\n",
    "        \n",
    "        # propagate illumination\n",
    "        prbr = G(prbr, wavelength, voxelsize, distances2[i])\n",
    "        # object shift for each acquisition\n",
    "        psir = psi.copy()\n",
    "        \n",
    "        # scale object        \n",
    "        if ne != n+2*pad:\n",
    "            psir = M(psir, 1/magnifications2[i]*ne/(n+2*pad), n+2*pad)                \n",
    "        \n",
    "        # multiply the ill and object\n",
    "        psir *= prbr\n",
    "\n",
    "        # propagate both\n",
    "        psir = G(psir, wavelength, voxelsize, distances[i])   \n",
    "        data[:,i] = psir[:,pad:n+pad,pad:n+pad]\n",
    "    return data\n",
    "\n",
    "@gpu_batch\n",
    "def _fwd_holo0(prb):    \n",
    "    data = cp.zeros([1,npos, n, n], dtype='complex64')\n",
    "    for j in range(npos):\n",
    "        # propagate illumination \n",
    "        data[:,j] = G(prb, wavelength, voxelsize, distances[0])[:,pad:n+pad,pad:n+pad]        \n",
    "    return data\n",
    "\n",
    "def fwd_holo0(prb): \n",
    "    return _fwd_holo0(prb)\n",
    "\n",
    "fpsi = fwd_holo(psi,prb)\n",
    "fref = fwd_holo0(prb)"
   ]
  },
  {
   "cell_type": "markdown",
   "id": "18e9c352-2b2c-49d7-adc0-301a05da964c",
   "metadata": {},
   "source": [
    "### Take squared absolute value to simulate data on the detector and a reference image"
   ]
  },
  {
   "cell_type": "code",
   "execution_count": null,
   "id": "f4f94fd7-b14c-4dc3-832c-2f00d1674039",
   "metadata": {},
   "outputs": [],
   "source": [
    "data = np.abs(fpsi)**2\n",
    "ref = np.abs(fref)**2\n"
   ]
  },
  {
   "cell_type": "code",
   "execution_count": null,
   "id": "24208f79",
   "metadata": {},
   "outputs": [],
   "source": [
    "mshow(data[0,0],show)\n",
    "\n",
    "if noise>0:\n",
    "    data_noise = np.random.poisson(data*noise).astype('float32')/noise\n",
    "    ref_noise = np.random.poisson(ref*noise).astype('float32')/noise\n",
    "    mshow(data_noise[0,0],show)\n",
    "    mshow(data_noise[0,0]-data[0,0],show)\n",
    "    data=data_noise\n",
    "    ref=ref_noise\n",
    "# mshow(ref[0,0])"
   ]
  },
  {
   "cell_type": "markdown",
   "id": "6bbcb6f5",
   "metadata": {},
   "source": [
    "### Visualize data"
   ]
  },
  {
   "cell_type": "code",
   "execution_count": null,
   "id": "974c84ca",
   "metadata": {},
   "outputs": [],
   "source": [
    "for k in range(npos):\n",
    "    mshow(data[0,k],show)\n"
   ]
  },
  {
   "cell_type": "markdown",
   "id": "8673922a",
   "metadata": {},
   "source": [
    "### Visualize reference images"
   ]
  },
  {
   "cell_type": "code",
   "execution_count": null,
   "id": "cf086c4e",
   "metadata": {},
   "outputs": [],
   "source": [
    "for k in range(npos):\n",
    "    mshow(ref[0,k],show,vmax=3)"
   ]
  },
  {
   "cell_type": "markdown",
   "id": "80625cf6-2687-43fa-8d0a-dd3396f91aa7",
   "metadata": {},
   "source": [
    "### Save data, reference images"
   ]
  },
  {
   "cell_type": "code",
   "execution_count": null,
   "id": "1edf3f41-30cb-4092-b90c-ca2f1f829ac7",
   "metadata": {},
   "outputs": [],
   "source": [
    "print(f'/data2/vnikitin/coded_apertures_new3/data/data_{k}_{flg}')\n",
    "for k in range(len(distances)):\n",
    "    write_tiff(data[:,k],f'/data2/vnikitin/coded_apertures_new3/data/data_{k}_{flg}')\n",
    "for k in range(len(distances)):\n",
    "    write_tiff(ref[:,k],f'/data2/vnikitin/coded_apertures_new3/data/ref_{k}_{flg}')\n",
    "np.save(f'/data2/vnikitin/coded_apertures_new3/data/prb_{flg}', prb)\n"
   ]
  },
  {
   "cell_type": "code",
   "execution_count": null,
   "id": "c4e56fbe",
   "metadata": {},
   "outputs": [],
   "source": [
    "# from matplotlib_scalebar.scalebar import ScaleBar\n",
    "# for k in range(npos):\n",
    "#     fig, ax = plt.subplots(figsize=(3,3))\n",
    "#     ax.imshow(data[ntheta//2,k],cmap='gray',vmin=0.2,vmax=2.8)\n",
    "#     scalebar = ScaleBar(voxelsize*magnifications[0], \"m\", length_fraction=0.25, font_properties={\n",
    "#             \"family\": \"serif\",\n",
    "#             \"size\": \"large\",\n",
    "#         },  # For more information, see the cell below\n",
    "#         location=\"lower right\")\n",
    "#     ax.add_artist(scalebar)\n",
    "#     ax.tick_params(axis='both', which='major', labelsize=11)\n",
    "#     # plt.show()\n",
    "#     plt.savefig(f'fig/nocoded90deg{k}dist_prb.png',bbox_inches='tight',dpi=300)\n",
    "\n",
    "#     from matplotlib_scalebar.scalebar import ScaleBar\n",
    "#     fig, ax = plt.subplots(figsize=(3,3))\n",
    "#     im = ax.imshow(data[0,k],cmap='gray',vmin=0.1,vmax=3)\n",
    "#     scalebar = ScaleBar(voxelsize*magnifications[0], \"m\", length_fraction=0.25, font_properties={\n",
    "#             \"family\": \"serif\",\n",
    "#             \"size\": \"large\",\n",
    "#         },  # For more information, see the cell below\n",
    "#         location=\"lower right\")\n",
    "#     ax.add_artist(scalebar)\n",
    "#     # ax.xticks(fontsize=14)\n",
    "#     # ax.yticks(fontsize=14)\n",
    "#     ax.tick_params(axis='both', which='major', labelsize=11)\n",
    "#     # fig.colorbar(im, ax=ax, orientation='vertical')\n",
    "\n",
    "#     # plt.show()\n",
    "#     plt.savefig(f'fig/nocoded0deg{k}dist_prb.png',bbox_inches='tight',dpi=300)\n",
    "\n",
    "# from matplotlib_scalebar.scalebar import ScaleBar\n",
    "# fig, ax = plt.subplots(figsize=(3,3))\n",
    "# im = ax.imshow(ref[0,k],cmap='gray',vmin=0.2,vmax=2.8)\n",
    "# # fig.colorbar(im, ax=ax)\n",
    "# scalebar = ScaleBar(voxelsize*magnifications[0], \"m\", length_fraction=0.25, font_properties={\n",
    "#         \"family\": \"serif\",\n",
    "#         \"size\": \"large\",\n",
    "#     },  # For more information, see the cell below\n",
    "#     location=\"lower right\")\n",
    "# ax.add_artist(scalebar)\n",
    "# # ax.xticks(fontsize=14)\n",
    "# # ax.yticks(fontsize=14)\n",
    "# ax.tick_params(axis='both', which='major', labelsize=11)\n",
    "# # fig.colorbar(im, ax=ax, orientation='vertical')\n",
    "\n",
    "# # plt.show()\n",
    "# plt.savefig(f'fig/nocoded_prb.png',bbox_inches='tight',dpi=300)\n",
    "\n",
    "\n",
    "\n",
    "\n"
   ]
  },
  {
   "cell_type": "code",
   "execution_count": null,
   "id": "cfe7de53",
   "metadata": {},
   "outputs": [],
   "source": [
    "# from matplotlib_scalebar.scalebar import ScaleBar\n",
    "# fig, ax = plt.subplots(figsize=(3,3))\n",
    "# im = ax.imshow(np.abs(prb[0]),cmap='gray',vmin=0.2,vmax=2.8)\n",
    "# # fig.colorbar(im, ax=ax)\n",
    "# scalebar = ScaleBar(voxelsize, \"m\", length_fraction=0.25, font_properties={\n",
    "#         \"family\": \"serif\",\n",
    "#         \"size\": \"large\",\n",
    "#     },  # For more information, see the cell below\n",
    "#     location=\"lower right\")\n",
    "# ax.add_artist(scalebar)\n",
    "# # ax.xticks(fontsize=14)\n",
    "# # ax.yticks(fontsize=14)\n",
    "# ax.tick_params(axis='both', which='major', labelsize=11)\n",
    "# cbar = fig.colorbar(im, ax=ax, orientation='vertical',fraction=0.046, pad=0.04)\n",
    "# cbar.ax.tick_params(labelsize=12) \n",
    "# # plt.show()\n",
    "# plt.savefig(f'fig/prb_abs.png',bbox_inches='tight',dpi=300)\n",
    "\n",
    "\n",
    "# from matplotlib_scalebar.scalebar import ScaleBar\n",
    "# fig, ax = plt.subplots(figsize=(3,3))\n",
    "# im = ax.imshow(np.angle(prb[0]),cmap='gray',vmin=-1.6,vmax=1.6)\n",
    "# # fig.colorbar(im, ax=ax)\n",
    "# scalebar = ScaleBar(voxelsize, \"m\", length_fraction=0.25, font_properties={\n",
    "#         \"family\": \"serif\",\n",
    "#         \"size\": \"large\",\n",
    "#     },  # For more information, see the cell below\n",
    "#     location=\"lower right\")\n",
    "# ax.add_artist(scalebar)\n",
    "# # ax.xticks(fontsize=14)\n",
    "# # ax.yticks(fontsize=14)\n",
    "# ax.tick_params(axis='both', which='major', labelsize=11)\n",
    "# cbar = fig.colorbar(im, ax=ax, orientation='vertical',fraction=0.046, pad=0.04)\n",
    "# cbar.ax.tick_params(labelsize=12) \n",
    "\n",
    "# # plt.show()\n",
    "# plt.savefig(f'fig/prb_angle.png',bbox_inches='tight',dpi=300)\n"
   ]
  },
  {
   "cell_type": "code",
   "execution_count": null,
   "id": "3b7b3c4c",
   "metadata": {},
   "outputs": [],
   "source": []
  },
  {
   "cell_type": "code",
   "execution_count": null,
   "id": "cb589e28",
   "metadata": {},
   "outputs": [],
   "source": [
    "# from matplotlib_scalebar.scalebar import ScaleBar\n",
    "# for k in range(npos):\n",
    "#     fig, ax = plt.subplots(figsize=(3,3))\n",
    "#     ax.imshow(data[ntheta//2,k],cmap='gray',vmax=2.8,vmin=0.2)\n",
    "#     scalebar = ScaleBar(voxelsize, \"m\", length_fraction=0.25, font_properties={\n",
    "#             \"family\": \"serif\",\n",
    "#             \"size\": \"large\",\n",
    "#         },  # For more information, see the cell below\n",
    "#         location=\"lower right\")\n",
    "#     ax.add_artist(scalebar)\n",
    "#     ax.tick_params(axis='both', which='major', labelsize=11)\n",
    "#     # plt.show()\n",
    "#     plt.savefig(f'fig/nocoded90deg{k}dist.png',bbox_inches='tight',dpi=300)\n",
    "\n",
    "#     from matplotlib_scalebar.scalebar import ScaleBar\n",
    "#     fig, ax = plt.subplots(figsize=(3,3))\n",
    "#     im = ax.imshow(data[0,k],cmap='gray',vmax=2.8,vmin=0.2)\n",
    "#     scalebar = ScaleBar(voxelsize, \"m\", length_fraction=0.25, font_properties={\n",
    "#             \"family\": \"serif\",\n",
    "#             \"size\": \"large\",\n",
    "#         },  # For more information, see the cell below\n",
    "#         location=\"lower right\")\n",
    "#     ax.add_artist(scalebar)\n",
    "#     # ax.xticks(fontsize=14)\n",
    "#     # ax.yticks(fontsize=14)\n",
    "#     ax.tick_params(axis='both', which='major', labelsize=11)\n",
    "#     # fig.colorbar(im, ax=ax, orientation='vertical')\n",
    "\n",
    "#     # plt.show()\n",
    "#     plt.savefig(f'fig/nocoded0deg{k}dist.png',bbox_inches='tight',dpi=300)\n",
    "\n"
   ]
  }
 ],
 "metadata": {
  "kernelspec": {
   "display_name": "Python 3 (ipykernel)",
   "language": "python",
   "name": "python3"
  },
  "language_info": {
   "codemirror_mode": {
    "name": "ipython",
    "version": 3
   },
   "file_extension": ".py",
   "mimetype": "text/x-python",
   "name": "python",
   "nbconvert_exporter": "python",
   "pygments_lexer": "ipython3",
   "version": "3.12.4"
  }
 },
 "nbformat": 4,
 "nbformat_minor": 5
}
