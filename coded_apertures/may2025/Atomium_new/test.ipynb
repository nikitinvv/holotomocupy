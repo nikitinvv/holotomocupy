{
 "cells": [
  {
   "cell_type": "code",
   "execution_count": null,
   "metadata": {},
   "outputs": [],
   "source": [
    "import numpy as np\n",
    "import cupy as cp\n",
    "import sys\n",
    "import pandas as pd\n",
    "import time\n",
    "import matplotlib.pyplot as plt"
   ]
  },
  {
   "cell_type": "code",
   "execution_count": null,
   "metadata": {},
   "outputs": [],
   "source": [
    "gpu = 0\n",
    "cp.cuda.Device(gpu).use()\n",
    "show = True\n",
    "domain='space'\n",
    "size_v = 48\n",
    "size_1 = 164# 144\n",
    "\n",
    "n = 800  # object size in each dimension\n",
    "npsi = n\n",
    "pad = 128#n//8 # pad for the reconstructed probe\n",
    "npos = 16 # total number of positions\n",
    "z1 = 12.75e-3 # [m] position of the CA\n",
    "detector_pixelsize = 3.03751e-6\n",
    "energy = 33.35  # [keV] xray energy\n",
    "wavelength = 1.24e-09/energy  # [m] wave length\n",
    "focusToDetectorDistance = 1.28  # [m]\n",
    "z2 = focusToDetectorDistance-z1\n",
    "distance = (z1*z2)/focusToDetectorDistance\n",
    "magnification = focusToDetectorDistance/z1\n",
    "voxelsize = np.abs(detector_pixelsize/magnification)  # object voxel size\n",
    "\n",
    "extra = 8\n",
    "nobj = 3072+512+2*pad\n",
    "nprb = n+2*pad\n",
    "npatch = nprb+2*extra\n",
    "\n",
    "flg = f'{domain}_{size_v}_{size_1}'\n",
    "\n",
    "path = f'/data/vnikitin/ESRF/ID16A/20240924/SiemensLH/code2um_nfp18x18_01'\n",
    "path_out = f'/data/vnikitin/ESRF/ID16A/20240924_rec2/SiemensLH/code2um_nfp18x18_01'"
   ]
  },
  {
   "cell_type": "code",
   "execution_count": null,
   "metadata": {},
   "outputs": [],
   "source": [
    "wavelength,voxelsize,distance"
   ]
  },
  {
   "cell_type": "code",
   "execution_count": null,
   "metadata": {},
   "outputs": [],
   "source": [
    "fx = cp.fft.fftfreq(2*npsi, d=voxelsize).astype(\"float32\")\n",
    "[fx, fy] = cp.meshgrid(fx, fx)\n",
    "unimod = np.exp(1j * 2*np.pi* distance /wavelength)\n",
    "fker = (cp.exp(-1j * cp.pi * wavelength * distance * (fx**2 + fy**2))).astype('complex64')\n",
    "ker = cp.fft.fftshift(cp.fft.ifft2(fker))#*n**2#/npsi/np.pi*2*npsi**2\n",
    "\n",
    "\n",
    "size_v = 64#*n//512\n",
    "size_1 = 150#*n//512# 144\n",
    "x = cp.arange(-npsi,npsi)*voxelsize\n",
    "[x, y] = cp.meshgrid(x, x)\n",
    "\n",
    "ker2=-1j*np.pi*2*distance/wavelength*np.exp(1j*np.pi*(x**2+y**2)/(wavelength*distance))/1024**4#/(2*n)**4/2\n",
    "# ker2=-1j/(distance*wavelength)*np.exp(1j*np.pi*(x**2+y**2)/(wavelength*distance))/n**3*2#/1024**4#/(2*n)**4/2\n",
    "# ker2*=16\n",
    "#*1/(wavelength*np.abs(distance))*\n",
    "# ker2/=16\n",
    "# ker2=ker2/(npsi)**4\n",
    "\n",
    "v = cp.ones(2*npsi)   \n",
    "vv=cp.linspace(0,1,size_v)\n",
    "vv = vv**5*(126-420*vv+540*vv**2-315*vv**3+70*vv**4)\n",
    "v[:npsi-size_v-size_1] = 0\n",
    "v[npsi-size_v-size_1:npsi-size_1] = vv#cp.sin(cp.linspace(0,1,size_v)*cp.pi/2)        \n",
    "v[-npsi:] = v[:npsi][::-1]\n",
    "v = cp.outer(v,v)\n",
    "\n",
    "ker2 *= v\n",
    "ker2 = ker2.astype('complex64')\n",
    "delta = cp.zeros([2*npsi,2*npsi],dtype='complex64')\n",
    "delta[npsi,npsi]=1\n",
    "\n",
    "fker = cp.fft.fftshift(cp.fft.fft2(cp.fft.fftshift(ker)))\n",
    "fker2 = cp.fft.fftshift(cp.fft.fft2(cp.fft.fftshift(ker2)))\n",
    "fdelta = cp.fft.fftshift(cp.fft.fft2(cp.fft.fftshift(delta)))\n",
    "fd1 = cp.fft.fftshift(cp.fft.ifft2(cp.fft.fftshift(fdelta*fker)))\n",
    "fd2 = cp.fft.fftshift(cp.fft.ifft2(cp.fft.fftshift(fdelta*fker2)))\n",
    "\n",
    "fig, axs = plt.subplots(2, 1, figsize=(15, 5))\n",
    "axs[0].set_title('abs')\n",
    "axs[0].plot(np.abs(fd1[npsi,npsi-512:npsi+512].get()),label='freq')\n",
    "axs[0].plot(np.abs(fd2[npsi,npsi-512:npsi+512].get()),label='space')\n",
    "    \n",
    "axs[1].plot(np.real(fd1[npsi,npsi-512:npsi+512].get()),label='freq')\n",
    "axs[1].plot(np.real(fd2[npsi,npsi-512:npsi+512].get()),label='space')\n",
    "\n",
    "a = cp.mean(cp.abs(fd1[npsi,npsi-512:npsi+512]))\n",
    "b = cp.mean(cp.abs(fd2[npsi,npsi-512:npsi+512]))\n",
    "print(a,b,a/b)\n",
    "\n",
    "# mshow_complex(fd1,True)\n",
    "# mshow_complex(fd2,True)\n",
    "\n"
   ]
  },
  {
   "cell_type": "code",
   "execution_count": null,
   "metadata": {},
   "outputs": [],
   "source": []
  }
 ],
 "metadata": {
  "kernelspec": {
   "display_name": "holotomocupy",
   "language": "python",
   "name": "python3"
  },
  "language_info": {
   "codemirror_mode": {
    "name": "ipython",
    "version": 3
   },
   "file_extension": ".py",
   "mimetype": "text/x-python",
   "name": "python",
   "nbconvert_exporter": "python",
   "pygments_lexer": "ipython3",
   "version": "3.12.8"
  }
 },
 "nbformat": 4,
 "nbformat_minor": 2
}
