{
 "cells": [
  {
   "cell_type": "code",
   "execution_count": null,
   "id": "fad77fab-e206-47c1-9655-088d14fe30cb",
   "metadata": {},
   "outputs": [],
   "source": [
    "import numpy as np\n",
    "import cupy as cp\n",
    "import h5py\n",
    "import matplotlib.pyplot as plt\n",
    "import cupyx.scipy.ndimage as ndimage\n",
    "from types import SimpleNamespace\n",
    "\n",
    "# Use managed memory\n",
    "import h5py\n",
    "import sys\n",
    "import warnings\n",
    "warnings.filterwarnings(\"ignore\", message=f\".*peer.*\")\n",
    "\n",
    "sys.path.insert(0, '..')\n",
    "from utils import *\n",
    "from rec import Rec"
   ]
  },
  {
   "cell_type": "markdown",
   "id": "9c2dafdf",
   "metadata": {},
   "source": []
  },
  {
   "cell_type": "markdown",
   "id": "3c0fdd65-1cff-451e-865e-56cd8b7882a6",
   "metadata": {},
   "source": [
    "# Init data sizes and parametes of the PXM of ID16A"
   ]
  },
  {
   "cell_type": "code",
   "execution_count": null,
   "id": "e2b6781d",
   "metadata": {},
   "outputs": [],
   "source": [
    "step = 1\n",
    "bin = 3\n"
   ]
  },
  {
   "cell_type": "code",
   "execution_count": null,
   "id": "ad77f0fc",
   "metadata": {},
   "outputs": [],
   "source": [
    "with h5py.File(f'/data/vnikitin/ESRF/ID16A/20240924_rec/AtomiumS2/AtomiumS2_HT_007nm.h5') as fid:\n",
    "    detector_pixelsize = fid['/exchange/detector_pixelsize'][0]    \n",
    "    focusToDetectorDistance = fid['/exchange/focusdetectordistance'][0]    \n",
    "    z1 = fid['/exchange/z1'][:]        \n",
    "    theta = fid['/exchange/theta'][::step,0]\n",
    "    shifts = fid['/exchange/shifts'][::step]\n",
    "    attrs = fid['/exchange/attrs'][::step]\n",
    "    pos_shifts = fid['/exchange/pos_shifts'][::step]*1e-6\n",
    "    shape = fid['/exchange/data0'][::step].shape\n",
    "    shape_ref = fid['/exchange/data_white_start0'].shape\n",
    "    shape_dark = fid['/exchange/data_dark0'].shape\n",
    "    #pos_shifts-=pos_shifts[0]\n"
   ]
  },
  {
   "cell_type": "code",
   "execution_count": null,
   "id": "26f17e61",
   "metadata": {},
   "outputs": [],
   "source": [
    "theta = theta/180*np.pi"
   ]
  },
  {
   "cell_type": "code",
   "execution_count": null,
   "id": "da169abc",
   "metadata": {},
   "outputs": [],
   "source": [
    "ndist=4\n",
    "ntheta,n = shape[:2]\n",
    "ndark = shape_dark[0]\n",
    "nref = shape_ref[0]\n",
    "\n",
    "n//=2**bin"
   ]
  },
  {
   "cell_type": "code",
   "execution_count": null,
   "id": "185647a0",
   "metadata": {},
   "outputs": [],
   "source": [
    "print(ndist,ntheta,n)\n",
    "print(nref,ndark)"
   ]
  },
  {
   "cell_type": "code",
   "execution_count": null,
   "id": "59fa16f2-1f9c-4b3a-a330-e10942f12234",
   "metadata": {},
   "outputs": [],
   "source": [
    "energy = 33.35  # [keV] xray energy\n",
    "wavelength = 1.2398419840550367e-09/energy  # [m] wave length\n",
    "z2 = focusToDetectorDistance-z1\n",
    "magnifications = focusToDetectorDistance/z1\n",
    "norm_magnifications = magnifications/magnifications[0]\n",
    "distances = (z1*z2)/focusToDetectorDistance*norm_magnifications**2\n",
    "voxelsize = detector_pixelsize/magnifications[0]*2048/n  # object voxel size\n",
    "show = True\n"
   ]
  },
  {
   "cell_type": "code",
   "execution_count": null,
   "id": "33020613",
   "metadata": {},
   "outputs": [],
   "source": [
    "voxelsize/2"
   ]
  },
  {
   "cell_type": "code",
   "execution_count": null,
   "id": "122cd4b5",
   "metadata": {},
   "outputs": [],
   "source": [
    "int(np.ceil((2048+2*0)/norm_magnifications[-1]/8))*8\n"
   ]
  },
  {
   "cell_type": "code",
   "execution_count": null,
   "id": "6a2d1c00",
   "metadata": {},
   "outputs": [],
   "source": [
    "pad = 0\n",
    "npsi = int(np.ceil((2048+2*pad)/norm_magnifications[-1]/16))*16  # make multiple of 8\n",
    "npsi//=(2048//n)"
   ]
  },
  {
   "cell_type": "code",
   "execution_count": null,
   "id": "21e717d2",
   "metadata": {},
   "outputs": [],
   "source": [
    "args = SimpleNamespace()\n",
    "args.ngpus = 4\n",
    "\n",
    "args.n = n\n",
    "args.ndist = ndist\n",
    "args.ntheta = ntheta\n",
    "args.pad = pad\n",
    "args.npsi = npsi\n",
    "args.nq = n + 2 * pad\n",
    "args.nchunk = 8\n",
    "args.lam = 0\n",
    "\n",
    "args.voxelsize = voxelsize\n",
    "args.wavelength = wavelength\n",
    "args.distance = distances\n",
    "args.eps = 1e-12\n",
    "args.rho = [1, 2, 1]\n",
    "args.path_out = f\"/data/vnikitin/ESRF/ID16A/20240924_rec/AtomiumS2/AtomiumS2_HT_007nm/s1\"\n",
    "args.show = True\n",
    "\n",
    "args.niter=10000\n",
    "args.vis_step=1\n",
    "args.err_step=1\n",
    "args.method = \"BH-CG\"\n",
    "args.rotation_axis=(796.25+2)*n/1024#397.5*2#499.75*n//1024+npsi//2-n//2\n",
    "\n",
    "args.theta = theta\n",
    "args.norm_magnifications = norm_magnifications\n",
    "# create class\n",
    "cl_rec = Rec(args)"
   ]
  },
  {
   "cell_type": "code",
   "execution_count": null,
   "id": "19ec19d3",
   "metadata": {},
   "outputs": [],
   "source": [
    "data = np.zeros([ntheta,ndist,n,n],dtype='float32')\n",
    "with h5py.File(f'/data/vnikitin/ESRF/ID16A/20240924_rec/AtomiumS2/AtomiumS2_HT_007nm_corr.h5') as fid:\n",
    "    for k in range(4):\n",
    "        tmp = fid[f'/exchange/data{k}'][::step].copy()\n",
    "        \n",
    "        for j in range(bin):\n",
    "            tmp = 0.5*(tmp[:,:,::2]+tmp[:,:,1::2])\n",
    "            tmp = 0.5*(tmp[:,::2,:]+tmp[:,1::2,:])        \n",
    "        data[:,k]=tmp.copy()\n",
    "    tmp = fid[f'/exchange/ref'][:]\n",
    "    for j in range(bin):\n",
    "        tmp = 0.5*(tmp[...,::2]+tmp[...,1::2])\n",
    "        tmp = 0.5*(tmp[...,::2,:]+tmp[...,1::2,:])\n",
    "    ref=tmp\n",
    "    r = fid[f'/exchange/cshifts_final'][::step]*n/2048#/norm_magnifications[:,np.newaxis]# in init coordinates! not scaled"
   ]
  },
  {
   "cell_type": "code",
   "execution_count": null,
   "id": "8e019668",
   "metadata": {},
   "outputs": [],
   "source": [
    "rdata = data/ref\n",
    "srdata = np.zeros([ntheta,ndist,args.nq,args.nq],dtype='complex64')\n",
    "for j in range(ndist):\n",
    "    tmp=cl_rec.ST(r[:,j]*norm_magnifications[j],rdata[:,j].astype('complex64'))\n",
    "    tmp = cl_rec.MT(tmp,j)/norm_magnifications[j]**2    \n",
    "    tmp = tmp[:,args.npsi//2-args.nq//2:args.npsi//2+args.nq//2,args.npsi//2-args.nq//2:args.npsi//2+args.nq//2]\n",
    "    srdata[:,j]=tmp#np.pad(tmp,((0,0),(mpad,mpad),(mpad,mpad)),'edge')\n",
    "    \n",
    "srdata=srdata.real\n",
    "\n",
    "mshow(srdata[0,0],args.show)\n",
    "mshow(srdata[0,3],args.show)\n",
    "mshow(srdata[0,0]-srdata[0,3],args.show)\n"
   ]
  },
  {
   "cell_type": "code",
   "execution_count": null,
   "id": "3c577aab",
   "metadata": {},
   "outputs": [],
   "source": [
    "def multiPaganin(data, distances, wavelength, voxelsize, delta_beta,  alpha):    \n",
    "    \n",
    "    fx = cp.fft.fftfreq(data.shape[-1], d=voxelsize).astype('float32')\n",
    "    [fx, fy] = cp.meshgrid(fx, fx)\n",
    "    numerator = 0\n",
    "    denominator = 0\n",
    "    for j in range(data.shape[0]):        \n",
    "        rad_freq = cp.fft.fft2(data[j])\n",
    "        taylorExp = 1 + wavelength * distances[j] * cp.pi * (delta_beta) * (fx**2+fy**2)\n",
    "        numerator = numerator + taylorExp * (rad_freq)\n",
    "        denominator = denominator + taylorExp**2\n",
    "\n",
    "    numerator = numerator / len(distances)\n",
    "    denominator = (denominator / len(distances)) + alpha\n",
    "\n",
    "    phase = cp.log(cp.real(cp.fft.ifft2(numerator / denominator)))\n",
    "    phase = (delta_beta) * 0.5 * phase\n",
    "\n",
    "    return phase\n",
    "\n",
    "def CTFPurePhase(data, distances, wavelength, voxelsize, alpha):   \n",
    "\n",
    "    fx = cp.fft.fftfreq(data.shape[-1], d=voxelsize).astype('float32')\n",
    "    [fx, fy] = cp.meshgrid(fx, fx)\n",
    "    numerator = 0\n",
    "    denominator = 0\n",
    "    for j in range(data.shape[0]):\n",
    "        rad_freq = cp.fft.fft2(data[j])\n",
    "        taylorExp = cp.sin(cp.pi*wavelength*distances[j]*(fx**2+fy**2))\n",
    "        numerator = numerator + taylorExp * (rad_freq)\n",
    "        denominator = denominator + 2*taylorExp**2\n",
    "    numerator = numerator / len(distances)\n",
    "    denominator = (denominator / len(distances)) + alpha\n",
    "    phase = cp.real(cp.fft.ifft2(numerator / denominator))\n",
    "    phase = 0.5 * phase\n",
    "    return phase\n",
    "\n",
    "def rec_init(rdata):\n",
    "    recMultiPaganin = np.zeros([args.ntheta,args.nq, args.nq], dtype=\"float32\")\n",
    "    for j in range(0, args.ntheta):\n",
    "        r = cp.array(rdata[j])\n",
    "        distances_pag = (distances/norm_magnifications**2)\n",
    "        r = multiPaganin(r, distances_pag,wavelength, voxelsize,100, 5e-3)             \n",
    "        recMultiPaganin[j] = r.get()           \n",
    "        recMultiPaganin[j]-=np.mean(recMultiPaganin[j,:32,:32])\n",
    "    recMultiPaganin = np.exp(1j * recMultiPaganin)\n",
    "    return recMultiPaganin\n",
    "\n",
    "psi_init = rec_init(srdata)\n",
    "mpad = args.npsi//2-args.nq//2\n",
    "psi_init = np.pad(psi_init,((0,0),(mpad,mpad),(mpad,mpad)),'edge')\n",
    "mshow_polar(psi_init[0],args.show)\n",
    "mshow_polar(psi_init[1],args.show)"
   ]
  },
  {
   "cell_type": "code",
   "execution_count": null,
   "id": "ce575cf8",
   "metadata": {},
   "outputs": [],
   "source": [
    "a = np.random.random([ntheta,npsi,npsi]).astype('float32')+1j*np.random.random([ntheta,npsi,npsi]).astype('float32')\n",
    "b = cl_rec.M(a,2)\n",
    "c = cl_rec.MT(b,2)\n",
    "print(np.sum(a*np.conj(c)))\n",
    "print(np.sum(b*np.conj(b)))"
   ]
  },
  {
   "cell_type": "code",
   "execution_count": null,
   "id": "b09b8ce1",
   "metadata": {},
   "outputs": [],
   "source": [
    "\n",
    "b = cl_rec.S(r[:,2],a)\n",
    "c = cl_rec.ST(r[:,2],b)\n",
    "print(np.sum(a*np.conj(c)))\n",
    "print(np.sum(b*np.conj(b)))\n"
   ]
  },
  {
   "cell_type": "code",
   "execution_count": null,
   "id": "1b2eff11",
   "metadata": {},
   "outputs": [],
   "source": [
    "\n",
    "a = np.random.random([ntheta,args.nq,args.nq]).astype('float32')+1j*np.random.random([ntheta,args.nq,args.nq]).astype('float32')\n",
    "b = cl_rec.D(a,j)\n",
    "c = cl_rec.DT(b,j)\n",
    "print(np.sum(a*np.conj(c)))\n",
    "print(np.sum(b*np.conj(b)))"
   ]
  },
  {
   "cell_type": "code",
   "execution_count": null,
   "id": "0c6afbd9",
   "metadata": {},
   "outputs": [],
   "source": [
    "# a = np.random.random([npsi,npsi,npsi]).astype('float32')+1j*np.random.random([npsi,npsi,npsi]).astype('float32')\n",
    "a = np.ones([4,npsi,npsi],dtype='float32')+1j*np.ones([4,npsi,npsi],dtype='float32')"
   ]
  },
  {
   "cell_type": "code",
   "execution_count": null,
   "id": "ed58afc0",
   "metadata": {},
   "outputs": [],
   "source": [
    "\n",
    "b = cl_rec.R(a)\n",
    "c = cl_rec.RT(b)\n",
    "print(np.sum(a*np.conj(c)))\n",
    "print(np.sum(b*np.conj(b)))\n",
    "# mshow_complex(c[2],True)\n"
   ]
  },
  {
   "cell_type": "code",
   "execution_count": null,
   "id": "d64a85dc",
   "metadata": {},
   "outputs": [],
   "source": [
    "psi_data = np.log(psi_init)/1j"
   ]
  },
  {
   "cell_type": "code",
   "execution_count": null,
   "id": "9958d4be",
   "metadata": {},
   "outputs": [],
   "source": [
    "\n",
    "#psi_data_cen=psi_data[:,npsi//2:npsi//2+2]\n",
    "cl_rec.theta = np.ascontiguousarray(theta)\n",
    "psi_data = np.ascontiguousarray(psi_data)\n",
    "u_init = cl_rec.rec_tomo(psi_data,32)\n",
    "# np.save(f'{args.path_out}/s1/u_init.npy',u_init)\n",
    "mshow_complex(u_init[u_init.shape[0]//2],True)"
   ]
  },
  {
   "cell_type": "code",
   "execution_count": null,
   "id": "c8a9e01b",
   "metadata": {},
   "outputs": [],
   "source": [
    "# with h5py.File(f'/data/vnikitin/ESRF/ID16A/20240924_rec/AtomiumS2/AtomiumS2_HT_007nm_corr.h5','a') as fid:\n",
    "#     fid['/exchange/u_init']=u_init\n",
    "#     fid['/exchange/psi_data']=psi_data\n",
    "with h5py.File(f'/data/vnikitin/ESRF/ID16A/20240924_rec/AtomiumS2/AtomiumS2_HT_007nm_corr.h5','a') as fid:\n",
    "    del fid['/exchange/u_init_re']\n",
    "    del fid['/exchange/u_init_imag']\n",
    "    del fid['/exchange/psi_data_abs']\n",
    "    del fid['/exchange/psi_data_angle']\n",
    "    fid.create_dataset(f'/exchange/u_init_re',data = u_init.real)\n",
    "    fid.create_dataset(f'/exchange/u_init_imag',data = u_init.imag)\n",
    "    fid.create_dataset(f'/exchange/psi_data_abs',data = np.abs(psi_data))\n",
    "    fid.create_dataset(f'/exchange/psi_data_angle',data = np.angle(psi_data))"
   ]
  },
  {
   "cell_type": "code",
   "execution_count": null,
   "id": "862efd51",
   "metadata": {},
   "outputs": [],
   "source": [
    "# psi_data_cen = psi_data[:,psi_data.shape[1]//2:psi_data.shape[1]//2+16]\n",
    "# center = args.rotation_axis\n",
    "\n",
    "# for k in np.arange(center-2,center+2.5,0.25):\n",
    "#     print(k)\n",
    "#     cl_rec.rotation_axis = k\n",
    "#     u = cl_rec.rec_tomo(psi_data_cen,64)\n",
    "#     mshow(u[u.shape[0]//2].real,show)\n",
    "#     write_tiff(u[u.shape[0]//2].real, f'{args.path_out}/test_center_new/r{k}', overwrite=True)"
   ]
  }
 ],
 "metadata": {
  "kernelspec": {
   "display_name": "holotomocupy",
   "language": "python",
   "name": "python3"
  },
  "language_info": {
   "codemirror_mode": {
    "name": "ipython",
    "version": 3
   },
   "file_extension": ".py",
   "mimetype": "text/x-python",
   "name": "python",
   "nbconvert_exporter": "python",
   "pygments_lexer": "ipython3",
   "version": "3.12.8"
  }
 },
 "nbformat": 4,
 "nbformat_minor": 5
}
