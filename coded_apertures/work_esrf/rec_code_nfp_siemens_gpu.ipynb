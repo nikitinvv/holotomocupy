{
 "cells": [
  {
   "cell_type": "code",
   "execution_count": null,
   "id": "fad77fab-e206-47c1-9655-088d14fe30cb",
   "metadata": {},
   "outputs": [],
   "source": [
    "import numpy as np\n",
    "import cupy as cp\n",
    "import h5py\n",
    "from holotomocupy.holo import G, GT\n",
    "from holotomocupy.shift import S, ST\n",
    "from holotomocupy.recon_methods import multiPaganin\n",
    "from holotomocupy.utils import *\n",
    "from holotomocupy.proc import remove_outliers\n",
    "# Use managed memory\n",
    "# cp.cuda.set_allocator(cp.cuda.MemoryPool(cp.cuda.malloc_managed).malloc)"
   ]
  },
  {
   "cell_type": "markdown",
   "id": "3c0fdd65-1cff-451e-865e-56cd8b7882a6",
   "metadata": {},
   "source": [
    "# Init data sizes and parametes of the PXM of ID16A"
   ]
  },
  {
   "cell_type": "code",
   "execution_count": null,
   "id": "59fa16f2-1f9c-4b3a-a330-e10942f12234",
   "metadata": {},
   "outputs": [],
   "source": [
    "n = 2048  # object size in each dimension\n",
    "pad = n//4\n",
    "npos= 4\n",
    "z1c = -17.75e-3\n",
    "\n",
    "detector_pixelsize = 3.03751e-6\n",
    "energy = 33.35  # [keV] xray energy\n",
    "wavelength = 1.2398419840550367e-09/energy  # [m] wave length\n",
    "focusToDetectorDistance = 1.28  # [m]\n",
    "sx0 = 1.286e-3\n",
    "z1 = np.tile(5.5e-3-sx0, [npos])\n",
    "z2 = focusToDetectorDistance-z1\n",
    "distances = (z1*z2)/focusToDetectorDistance\n",
    "magnifications = focusToDetectorDistance/z1\n",
    "voxelsize = np.abs(detector_pixelsize/magnifications[0]*2048/n)  # object voxel size\n",
    "\n",
    "# magnification when propagating from the probe plane to the detector\n",
    "magnifications2 = z1/z1c\n",
    "distances2 = (z1-z1c)/(z1c/z1)#magnifications2\n",
    "\n",
    "# sample size after demagnification\n",
    "ne = 2048//(2048//n)+2*pad\n",
    "show = True\n",
    "\n",
    "rho = 0.1\n",
    "flg = f'{n}_{z1c}_{rho}'\n",
    "path = f'/data2/vnikitin/nfp_codes_siemens_correct'\n",
    "print(f'{voxelsize=}')"
   ]
  },
  {
   "cell_type": "markdown",
   "id": "49eb1696-bb30-496e-8c3d-565f2791112c",
   "metadata": {},
   "source": [
    "## Read data"
   ]
  },
  {
   "cell_type": "code",
   "execution_count": null,
   "id": "c23a78d2",
   "metadata": {},
   "outputs": [],
   "source": [
    "idsx = np.arange(4-np.int32(np.sqrt(npos)/2),4+np.ceil(np.sqrt(npos)/2))\n",
    "idsy = np.arange(4-np.int32(np.sqrt(npos)/2),4+np.ceil(np.sqrt(npos)/2))\n",
    "[idsx,idsy] = np.meshgrid(idsx,idsy)\n",
    "ids = (idsy*9+idsx).flatten().astype('int32')\n",
    "print(ids)\n",
    "with h5py.File('/data/vnikitin/ESRF/ID16A/20240924/SiemensLH/SiemensLH_010nm_code2um_nfp9x9_01/SiemensLH_010nm_code2um_nfp9x9_010000.h5') as fid:\n",
    "    data0 = fid['/entry_0000/measurement/data'][ids].astype('float32')\n",
    "    \n",
    "with h5py.File('/data/vnikitin/ESRF/ID16A/20240924/SiemensLH/SiemensLH_010nm_nfp_02/ref_0000.h5') as fid:\n",
    "    ref0 = fid['/entry_0000/measurement/data'][:].astype('float32')\n",
    "with h5py.File('/data/vnikitin/ESRF/ID16A/20240924/SiemensLH/SiemensLH_010nm_code2um_nfp9x9_01/dark_0000.h5') as fid:\n",
    "    dark0 = fid['/entry_0000/measurement/data'][:].astype('float32')\n",
    "\n",
    "data0 = data0[np.newaxis]\n",
    "\n",
    "\n",
    "for k in range(int(np.log2(2048//n))):\n",
    "    data0 = (data0[:,:,::2]+data0[:,:,1::2])*0.5\n",
    "    data0 = (data0[:,:,:,::2]+data0[:,:,:,1::2])*0.5\n",
    "    ref0 = (ref0[:,::2]+ref0[:,1::2])*0.5\n",
    "    ref0 = (ref0[:,:,::2]+ref0[:,:,1::2])*0.5    \n",
    "    dark0 = (dark0[:,::2]+dark0[:,1::2])*0.5\n",
    "    dark0 = (dark0[:,:,::2]+dark0[:,:,1::2])*0.5    "
   ]
  },
  {
   "cell_type": "code",
   "execution_count": null,
   "id": "8aa529ae",
   "metadata": {},
   "outputs": [],
   "source": [
    "iter = 32\n",
    "code_angle = dxchange.read_tiff(f'/data2/vnikitin/nfp_codes_correct/crec_code_angle{n}_-0.01775full0.3//{iter:03}.tiff')\n",
    "code_abs = dxchange.read_tiff(f'/data2/vnikitin/nfp_codes_correct/crec_code_abs{n}_-0.01775full0.3//{iter:03}.tiff')\n",
    "code = code_abs*np.exp(1j*code_angle)[np.newaxis]\n",
    "mshow_polar(code[0],show)\n",
    "prb_angle = dxchange.read_tiff(f'/data2/vnikitin/nfp_codes_correct/crec_prb_angle{n}_-0.01775full0.3//{iter:03}.tiff')\n",
    "prb_abs = dxchange.read_tiff(f'/data2/vnikitin/nfp_codes_correct/crec_prb_abs{n}_-0.01775full0.3//{iter:03}.tiff')\n",
    "prb = prb_abs*np.exp(1j*prb_angle)[np.newaxis]\n",
    "prb = prb[:,prb.shape[1]//2-n//2-pad:prb.shape[1]//2+n//2+pad,prb.shape[2]//2-n//2-pad:prb.shape[2]//2+n//2+pad]\n",
    "mshow_polar(prb[0],show)\n",
    "\n",
    "z1_code = cp.array([z1c])\n",
    "z2_code = focusToDetectorDistance-z1_code\n",
    "distances_code = (z1_code*z2_code)/focusToDetectorDistance\n",
    "magnifications_code = focusToDetectorDistance/z1_code\n",
    "voxelsize_code = np.abs(detector_pixelsize/magnifications_code[0]*2048/n)  # object voxel size\n",
    "code_data = (np.abs(G(cp.array(code),wavelength,voxelsize_code,distances_code,'symmetric'))**2).get()\n",
    "code_data0 = code_data[0,code_data.shape[1]//2-n//2:code_data.shape[1]//2+n//2,code_data.shape[1]//2-n//2:code_data.shape[1]//2+n//2]\n",
    "# mshow_complex(code_data0+1j*rdata[0,0],show,vmax=1.8,vmin=0.6)\n",
    "# mshow_complex(code_data0[n//2-256:n//2+256,n//2-256:n//2+256]+1j*rdata[0,0,n//2-256:n//2+256,n//2-256:n//2+256],show,vmax=1.8,vmin=0.6)\n",
    "\n",
    "prb_data = (np.abs(G(cp.array(prb),wavelength,voxelsize_code,distances_code,'symmetric'))**2).get()\n",
    "prb_data0 = prb_data[:,prb_data.shape[1]//2-n//2:prb_data.shape[1]//2+n//2,prb_data.shape[1]//2-n//2:prb_data.shape[1]//2+n//2]"
   ]
  },
  {
   "cell_type": "code",
   "execution_count": null,
   "id": "fd177c38",
   "metadata": {},
   "outputs": [],
   "source": [
    "import scipy.ndimage as ndimage\n",
    "def remove_outliers(data, dezinger, dezinger_threshold):    \n",
    "    res = data.copy()\n",
    "    if (int(dezinger) > 0):\n",
    "        w = int(dezinger)\n",
    "        # print(data.shape)\n",
    "        fdata = ndimage.median_filter(data, [1,w, w])\n",
    "        print(np.sum(np.abs(data-fdata)>fdata*dezinger_threshold))\n",
    "        res[:] = np.where(np.abs(data-fdata)>fdata*dezinger_threshold, fdata, data)\n",
    "    return res"
   ]
  },
  {
   "cell_type": "code",
   "execution_count": null,
   "id": "e1d4e4eb",
   "metadata": {},
   "outputs": [],
   "source": [
    "data = data0.copy()\n",
    "ref = ref0.copy()\n",
    "dark = dark0.copy()\n",
    "dark = np.mean(dark,axis=0)[np.newaxis]\n",
    "ref = np.mean(ref,axis=0)[np.newaxis]\n",
    "data-=dark\n",
    "ref-=dark\n",
    "\n",
    "data[data<0]=0\n",
    "ref[ref<0]=0\n",
    "# for k in range(data.shape[1]):\n",
    "#     data[0,k,data[0,k]>ref[0]] = ref[0,data[0,k]>ref[0]]\n",
    "data[:,:,1320//3:1320//3+25//3,890//3:890//3+25//3] = data[:,:,1280//3:1280//3+25//3,890//3:890//3+25//3]\n",
    "ref[:,1320//3:1320//3+25//3,890//3:890//3+25//3] = ref[:,1280//3:1280//3+25//3,890//3:890//3+25//3]\n",
    "for k in range(npos):\n",
    "    radius = 3\n",
    "    threshold = 0.9\n",
    "    dxchange.write_tiff(data[:,k],'/data2/tmp/t1',overwrite=True)\n",
    "    data[:,k] = remove_outliers(data[:,k], radius, threshold)\n",
    "    dxchange.write_tiff(data[:,k],'/data2/tmp/t2',overwrite=True)    \n",
    "    # ss\n",
    "    \n",
    "ref[:] = remove_outliers(ref[:], radius, threshold)     \n",
    "dxchange.write_tiff(ref[:],'/data2/tmp/t3',overwrite=True)    \n",
    "data/=np.mean(ref)\n",
    "dark/=np.mean(ref)\n",
    "ref/=np.mean(ref)\n",
    "dxchange.write_tiff(data[0,0],'/data2/tmp/t4',overwrite=True)    \n",
    "rdata = data/ref\n",
    "dxchange.write_tiff(rdata[:,0],'/data2/tmp/t5',overwrite=True)    \n",
    "mshow_complex(data[0,0]+1j*rdata[0,0],show,vmin=0.05,vmax=2)\n",
    "# plt.imshow(data[0,0]/(ref[0]+1e-10),cmap='gray')\n",
    "# plt.show()\n",
    "# mshow_complex(ref[0]+1j*dark[0],show)\n"
   ]
  },
  {
   "cell_type": "markdown",
   "id": "6206ada2",
   "metadata": {},
   "source": [
    "### find position of an image in another image"
   ]
  },
  {
   "cell_type": "code",
   "execution_count": null,
   "id": "9dc188a3",
   "metadata": {},
   "outputs": [],
   "source": [
    "def my_phase_corr(d1, d2):\n",
    "    image_product = np.fft.fft2(d1) * np.fft.fft2(d2).conj()\n",
    "    cc_image = np.fft.fftshift(np.fft.ifft2(image_product))\n",
    "    ind = np.unravel_index(np.argmax(cc_image.real, axis=None), cc_image.real.shape)\n",
    "    shifts = cp.zeros(2,'float32')\n",
    "    shifts[0] = ind[0]\n",
    "    shifts[1] = ind[1]\n",
    "    shifts -= d1.shape[-1]//2\n",
    "    return shifts.get()\n",
    "\n",
    "shifts_code = np.zeros([1,npos,2],dtype='float32')\n",
    "a = cp.array(code_data[0])\n",
    "nn = code_data.shape[-1]\n",
    "rrdata=rdata.copy()\n",
    "for k in range(rdata.shape[1]):        \n",
    "    b = cp.pad(cp.array(rdata[0,k]),((nn//2-n//2,nn//2-n//2),(nn//2-n//2,nn//2-n//2)))\n",
    "    shift = -my_phase_corr(a,b)\n",
    "    shifts_code[0,k] = shift\n",
    "    aa = a[nn//2-shift[0]-n//2:nn//2-shift[0]+n//2,nn//2-shift[1]-n//2:nn//2-shift[1]+n//2]\n",
    "    bb = cp.array(rdata[0,k])\n",
    "    rrdata[0,k] = (bb/aa).get()\n",
    "mshow_complex(bb+1j*aa,show,vmax=2)\n",
    "mshow(rrdata[0,-1],show,vmin=0.5,vmax=1.5)\n",
    "print(shifts_code)"
   ]
  },
  {
   "cell_type": "code",
   "execution_count": null,
   "id": "13b16cfb",
   "metadata": {},
   "outputs": [],
   "source": [
    "print(voxelsize,distances)\n",
    "spos = 0\n",
    "def rec_init(rdata):\n",
    "    recMultiPaganin = cp.zeros([1,npos,ne,ne],dtype='float32')\n",
    "    recMultiPaganin = multiPaganin(cp.array(rdata),distances, wavelength, voxelsize,  24.05, 1e-2)\n",
    "    recMultiPaganin = cp.pad(recMultiPaganin,((0,0), (ne//2-n//2,ne//2-n//2), (ne//2-n//2,ne//2-n//2)),'symmetric')   \n",
    "    v = cp.ones(ne,dtype='float32')\n",
    "    v[:pad] = cp.sin(cp.linspace(0,1,pad)*cp.pi/2)\n",
    "    v[-pad:] = cp.cos(cp.linspace(0,1,pad)*cp.pi/2)\n",
    "    v = cp.outer(v,v)\n",
    "    recMultiPaganin*=v\n",
    "    recMultiPaganin = cp.exp(1j*recMultiPaganin)\n",
    "    return recMultiPaganin.get()\n",
    "\n",
    "# a = np.sum(rrdata[0],axis=1)\n",
    "# mshow(np.sum(rrdata,axis=1)[0],show,vmax=2,vmin=-1)\n",
    "rec_paganin = rec_init(rrdata)\n",
    "mshow_polar(rec_paganin[0],show)"
   ]
  },
  {
   "cell_type": "markdown",
   "id": "26d72d81",
   "metadata": {},
   "source": [
    "### $$I({{x}},\\Psi)=\\left\\||L_2\\Big(L_1\\big(J(q)\\cdot S_{{x}}(c)\\big)\\cdot \\Psi\\Big)|-d\\right\\|^2,$$ where $\\Psi$ is a datacube representing a collection of objects $(\\psi_1,\\ldots,\\psi_K)$. Typically, one has $\\Psi=J(\\psi)$ so that the object is the same for every shot"
   ]
  },
  {
   "cell_type": "markdown",
   "id": "daee2463",
   "metadata": {},
   "source": [
    "# Construct operators\n"
   ]
  },
  {
   "cell_type": "code",
   "execution_count": null,
   "id": "adf88f3b",
   "metadata": {},
   "outputs": [],
   "source": [
    "def L2op(psi):\n",
    "    data = cp.zeros([psi.shape[0], npos, n, n], dtype='complex64')\n",
    "    for i in range(npos):\n",
    "        psir = cp.array(psi[:,i])       \n",
    "        psir = G(psir, wavelength, voxelsize, distances[i],'symmetric')\n",
    "        data[:, i] = psir[:, pad:n+pad, pad:n+pad]\n",
    "    return data\n",
    "\n",
    "def LT2op(data):\n",
    "    psi = cp.zeros([data.shape[0],npos, n+2*pad, n+2*pad], dtype='complex64')\n",
    "    for j in range(npos):\n",
    "        datar = cp.array(data[:, j])\n",
    "        psir = cp.pad(datar, ((0, 0), (pad, pad), (pad, pad))).astype('complex64')\n",
    "        psir = GT(psir, wavelength, voxelsize, distances[j],'symmetric')        \n",
    "        psi[:,j] = psir\n",
    "    return psi\n",
    "\n",
    "def L1op(psi):\n",
    "    data = cp.zeros([psi.shape[0], npos, n+2*pad, n+2*pad], dtype='complex64')\n",
    "    for i in range(npos):\n",
    "        psir = cp.array(psi[:,i])       \n",
    "        psir = G(psir, wavelength, voxelsize, distances2[i],'symmetric')\n",
    "        data[:, i] = psir\n",
    "    return data\n",
    "\n",
    "def LT1op(data):\n",
    "    psi = cp.zeros([data.shape[0],npos, n+2*pad, n+2*pad], dtype='complex64')\n",
    "    for j in range(npos):\n",
    "        datar = cp.array(data[:, j])\n",
    "        psir = datar\n",
    "        psir = GT(psir, wavelength, voxelsize, distances2[j],'symmetric')        \n",
    "        psi[:,j] = psir\n",
    "    return psi\n",
    "\n",
    "\n",
    "def Sop(psi,shifts):\n",
    "    data = cp.zeros([psi.shape[0], npos, n+2*pad, n+2*pad], dtype='complex64')\n",
    "    psi = cp.array(psi)\n",
    "    for i in range(npos):\n",
    "        psir = psi.copy()\n",
    "        shiftsr = cp.array(shifts[:, i])\n",
    "        psir = S(psir, shiftsr)\n",
    "        nee = psir.shape[1]        \n",
    "        data[:,i] = psir[:, nee//2-n//2-pad:nee//2+n//2+pad, nee//2-n//2-pad:nee//2+n//2+pad]\n",
    "    return data\n",
    "\n",
    "def STop(data,shifts):\n",
    "    psi = cp.zeros([data.shape[0], ne, ne], dtype='complex64')\n",
    "\n",
    "    for j in range(npos):\n",
    "        datar = cp.array(data[:,j])\n",
    "        shiftsr = cp.array(shifts[:, j])        \n",
    "        psir = cp.pad(datar,((0,0),(ne//2-n//2-pad,ne//2-n//2-pad),(ne//2-n//2-pad,ne//2-n//2-pad)))        \n",
    "        psi += ST(psir,shiftsr)\n",
    "    return psi\n",
    "\n",
    "# adjoint tests\n",
    "tmp = cp.array(data.copy())\n",
    "arr1 = cp.pad(tmp[:,0],((0,0),(ne//2-n//2,ne//2-n//2),(ne//2-n//2,ne//2-n//2)),'symmetric')     \n",
    "prb1 = cp.ones([1,n+2*pad,n+2*pad],dtype='complex64')\n",
    "shifts = cp.array(shifts_code)\n",
    "arr2 = Sop(arr1,shifts*rho)\n",
    "arr3 = STop(arr2,shifts*rho)\n",
    "\n",
    "arr4 = L1op(arr2)\n",
    "arr5 = LT1op(arr4)\n",
    "\n",
    "print(f'{np.sum(arr1*np.conj(arr3))}==\\n{np.sum(arr2*np.conj(arr2))}')\n",
    "print(f'{np.sum(arr2*np.conj(arr5))}==\\n{np.sum(arr4*np.conj(arr4))}')\n",
    "\n",
    "arr4 = L2op(arr2)\n",
    "arr5 = LT2op(arr4)\n",
    "\n",
    "print(f'{np.sum(arr1*np.conj(arr3))}==\\n{np.sum(arr2*np.conj(arr2))}')\n",
    "print(f'{np.sum(arr2*np.conj(arr5))}==\\n{np.sum(arr4*np.conj(arr4))}')"
   ]
  },
  {
   "cell_type": "markdown",
   "id": "1fe0cb15",
   "metadata": {},
   "source": [
    "## Reconstruction with the CG (Carlsson) with Hessians"
   ]
  },
  {
   "cell_type": "markdown",
   "id": "8217811d",
   "metadata": {},
   "source": [
    "### Define real-valued summation and dot product"
   ]
  },
  {
   "cell_type": "code",
   "execution_count": null,
   "id": "6d3e4bb2",
   "metadata": {},
   "outputs": [],
   "source": [
    "def reprod(a,b):\n",
    "    return a.real*b.real+a.imag*b.imag\n",
    "\n",
    "def redot(a,b,axis=None):    \n",
    "    res = np.sum(reprod(a,b),axis=axis)        \n",
    "    return res"
   ]
  },
  {
   "cell_type": "markdown",
   "id": "6c6b4dfd",
   "metadata": {},
   "source": [
    "### Reusing the functional $F$ from previously (with $L:=L_2$), and $M$ from previously, we can write \n",
    "### $$I({{x}},\\Psi)=F(M(x)\\cdot \\Psi)$$ where we omit the variables $q$ and $c$ from the arguments of $M$, since we consider these symmetric. \n",
    "### Set $$N(x,\\Psi)=L_1\\big(M(x)\\big)\\cdot \\Psi.$$\n"
   ]
  },
  {
   "cell_type": "markdown",
   "id": "04916666",
   "metadata": {},
   "source": []
  },
  {
   "cell_type": "markdown",
   "id": "691261ac",
   "metadata": {},
   "source": [
    "## Gradients"
   ]
  },
  {
   "cell_type": "markdown",
   "id": "bd7163cd",
   "metadata": {},
   "source": [
    "#### $$\\nabla F=2 \\left(L^*_2\\left( (L_2(N))-\\tilde D\\right)\\right).$$\n",
    "#### where $$\\tilde D = D \\frac{(L_2(N))}{|L_2(N)|}$$\n",
    "\n"
   ]
  },
  {
   "cell_type": "code",
   "execution_count": null,
   "id": "eba2083c",
   "metadata": {},
   "outputs": [],
   "source": [
    "def gradientF(vars,d):\n",
    "    (psi,code,q,x) = (vars['psi'], vars['code'], vars['prb'], vars['shift'])\n",
    "    nxpsi = psi*L1op(q*Sop(code,x))\n",
    "    Lpsi = L2op(nxpsi)\n",
    "    td = d*(Lpsi/np.abs(Lpsi))\n",
    "    res = 2*LT2op(Lpsi - td)\n",
    "    return res"
   ]
  },
  {
   "cell_type": "markdown",
   "id": "6cfd779f",
   "metadata": {},
   "source": [
    "#### $\\nabla_{{\\Psi}} I|_{({x}_0,\\Psi_0)}=\\overline{L_1(J(q)\\cdot S_{x_0}(c))}\\cdot \\nabla F|_{N({x}_0,\\Psi_0)} $\n",
    "##### $\\nabla_{{x}} I|_{({x}_0,\\Psi_0)}=\\mathsf{Re} \\Big(\\big( \\Big\\langle (\\nabla F|_{N({x}_0,\\Psi_0)})_k, L_1\\Big(q\\cdot  C(\\mathcal{F}^{-1}(-2\\pi i\\xi_1 e^{ -2\\pi i{x}_{0,k}\\cdot {\\xi}}\\hat{c}))\\Big)\\cdot \\Psi_{0,k}\\Big\\rangle,\\Big\\langle (\\nabla F|_{N({x}_0,\\Psi_0)})_k,L_1\\Big(q\\cdot C(\\mathcal{F}^{-1}(-2\\pi i\\xi_2 e^{ -2\\pi i{x}_{0,k}\\cdot {\\xi}}\\hat{c}))\\Big) \\Psi_{0,k}\\Big\\rangle\\big)\\Big)_{k=1}^K$\n",
    "\n",
    "#### new operator $$T_{c,w}(x) = C(\\mathcal{F}^{-1}(w e^{-2\\pi i \\boldsymbol{x}_{0}\\cdot \\boldsymbol{\\xi}}\\hat{c_0}))$$"
   ]
  },
  {
   "cell_type": "code",
   "execution_count": null,
   "id": "3e22132b",
   "metadata": {},
   "outputs": [],
   "source": [
    "def gradientpsi(code,q,x,gradF):\n",
    "    return cp.sum(cp.conj(L1op(q*Sop(code,x)))*gradF,axis=1)\n",
    "\n",
    "def Twop_(code,x,w):\n",
    "    data = cp.zeros([code.shape[0], npos, n+2*pad, n+2*pad], dtype='complex64')\n",
    "    code = cp.array(code)\n",
    "    nn = code.shape[-1]\n",
    "    xi1 = cp.fft.fftfreq(2*nn).astype('float32')\n",
    "    [xi2, xi1] = cp.meshgrid(xi1, xi1)\n",
    "    for i in range(npos):\n",
    "        coder = code.copy()            \n",
    "        p = cp.array(x[:,i])\n",
    "        coder = cp.pad(coder, ((0, 0), (nn//2, nn//2), (nn//2, nn//2)), 'symmetric')\n",
    "        pp = w*cp.exp(-2*cp.pi*1j*(xi1*p[:, 0, None, None]+xi2*p[:, 1, None, None]))    \n",
    "        coder = cp.fft.ifft2(pp*cp.fft.fft2(coder))   \n",
    "        data[:,i] = coder[:, nn-n//2-pad:nn+n//2+pad, nn-n//2-pad:nn+n//2+pad]       \n",
    "    return data\n",
    "\n",
    "# def Twop_(code,x,w):\n",
    "#     data = np.zeros([code.shape[0], npos, n+2*pad, n+2*pad], dtype='complex64')\n",
    "#     code = cp.array(code)\n",
    "#     nn = code.shape[-1]\n",
    "#     xi1 = cp.fft.fftfreq(2*code.shape[-1]).astype('float32')\n",
    "#     [xi2, xi1] = cp.meshgrid(xi1, xi1)\n",
    "#     for i in range(npos):\n",
    "#         coder = code.copy()            \n",
    "#         p = cp.array(x[:,i])\n",
    "#         pint = p.astype('int32')\n",
    "#         pfloat = p-pint\n",
    "\n",
    "#         st = nn//2-pint[0,0]-ne//2-pad\n",
    "#         end = st+ne+2*pad \n",
    "#         coder = coder[:,st:end,st:end]\n",
    "#         pp = w*cp.exp(-2*cp.pi*1j*(xi1*pfloat[:, 0, None, None]+xi2*pfloat[:, 1, None, None]))    \n",
    "        \n",
    "#         coder = cp.fft.ifft2(pp*cp.fft.fft2(coder))           \n",
    "\n",
    "#         st = ne//2+pad-n//2-pad\n",
    "#         end = st+n+2*pad\n",
    "#         data[:,i] = coder[:, st:end, st:end].get()        \n",
    "#     return data\n",
    "\n",
    "def gradientx(psi,code,q,x,gradF):\n",
    "    xi1 = cp.fft.fftfreq(2*code.shape[-1]).astype('float32')    \n",
    "    [xi2, xi1] = cp.meshgrid(xi1, xi1)  \n",
    "    tksi1 = Twop_(code,x,-2*cp.pi*1j*xi1)\n",
    "    tksi2 = Twop_(code,x,-2*cp.pi*1j*xi2)    \n",
    "\n",
    "    tksi1 = psi*L1op(q*tksi1)\n",
    "    tksi2 = psi*L1op(q*tksi2)\n",
    "\n",
    "    gradx = cp.zeros([1,npos,2],dtype='float32')    \n",
    "    gradx[:,:,0] = redot(gradF,tksi1,axis=(2,3))\n",
    "    gradx[:,:,1] = redot(gradF,tksi2,axis=(2,3))\n",
    "    return gradx\n",
    "\n",
    "def gradients(vars,d,gradF):\n",
    "    (psi,code,q,x) = (vars['psi'], vars['code'], vars['prb'], vars['shift'])\n",
    "    grads = {}\n",
    "    grads['psi'] = gradientpsi(code, q,x,gradF)\n",
    "    grads['shift'] = rho*gradientx(psi,code,q,x,gradF)\n",
    "    return grads\n",
    "\n"
   ]
  },
  {
   "cell_type": "markdown",
   "id": "3b092076",
   "metadata": {},
   "source": [
    "##### $$\\frac{1}{2}\\mathcal{H}^F|_{x_0}(y,z)= \\left\\langle \\mathbf{1}-d_{0}, \\mathsf{Re}({L_2(y)}\\overline{L(z)})\\right\\rangle+\\left\\langle d_{0},(\\mathsf{Re} (\\overline{l_0}\\cdot L_2(y)))\\cdot (\\mathsf{Re} (\\overline{l_0}\\cdot L_2(z)))\\right\\rangle.$$\n",
    "##### $$l_0=L_2(x_0)/|L_2(x_0)|$$\n",
    "##### $$d_0=d/|L_2(x_0)|$$\n"
   ]
  },
  {
   "cell_type": "code",
   "execution_count": null,
   "id": "28d6df09",
   "metadata": {},
   "outputs": [],
   "source": [
    "def hessianF(hpsi,hpsi1,hpsi2,data):\n",
    "    Lpsi = L2op(hpsi)        \n",
    "    Lpsi1 = L2op(hpsi1)\n",
    "    Lpsi2 = L2op(hpsi2)    \n",
    "    l0 = Lpsi/np.abs(Lpsi)\n",
    "    d0 = data/np.abs(Lpsi)\n",
    "    v1 = np.sum((1-d0)*reprod(Lpsi1,Lpsi2))\n",
    "    v2 = np.sum(d0*reprod(l0,Lpsi1)*reprod(l0,Lpsi2))    \n",
    "    return 2*(v1+v2)"
   ]
  },
  {
   "cell_type": "markdown",
   "id": "9eecc3fb",
   "metadata": {},
   "source": [
    "#### $$ D T_c|_{{\\boldsymbol{z}_0}}(\\Delta \\boldsymbol{z})=C(\\mathcal{F}^{-1}(-2\\pi i\\xi_1 e^{ -2\\pi i\\boldsymbol{z}_0\\cdot \\boldsymbol{\\xi}}\\hat{c}))\\Delta {z}_{1}+C(\\mathcal{F}^{-1}(-2\\pi i\\xi_2 e^{-2\\pi i \\boldsymbol{z}_0\\cdot \\boldsymbol{\\xi}}\\hat{c}))\\Delta {z}_2$$"
   ]
  },
  {
   "cell_type": "code",
   "execution_count": null,
   "id": "821b4626",
   "metadata": {},
   "outputs": [],
   "source": [
    "\n",
    "def DT(code,x,dx):\n",
    "    xi1 = cp.fft.fftfreq(2*code.shape[-1]).astype('float32')\n",
    "    [xi2, xi1] = cp.meshgrid(xi1, xi1)\n",
    "    tksi1 = Twop_(code,x,-2*cp.pi*1j*xi1)\n",
    "    tksi2 = Twop_(code,x,-2*cp.pi*1j*xi2)\n",
    "    res = tksi1*dx[:,:,0,None,None]+tksi2*dx[:,:,1,None,None]\n",
    "    return res"
   ]
  },
  {
   "cell_type": "markdown",
   "id": "a9a5c09a",
   "metadata": {},
   "source": [
    "#### $$D^2{T_c}|_{{\\boldsymbol{z}_0}}(\\Delta\\boldsymbol{z},\\Delta\\boldsymbol{w})=$$\n",
    "#### $$\\Delta {z}_{1}\\Delta {w}_{1} C(\\mathcal{F}^{-1}(-4\\pi^2 \\xi_1^2 e^{ -2\\pi i\\boldsymbol{z}_0\\cdot \\boldsymbol{\\xi}}\\hat{c})) +(\\Delta {z}_{1}\\Delta {w}_{2} +\\Delta {w}_{1}\\Delta {z}_{2})C(\\mathcal{F}^{-1}(-4\\pi^2 \\xi_1\\xi_2 e^{ -2\\pi i\\boldsymbol{z}_0\\cdot \\boldsymbol{\\xi}}\\hat{c}))+\\Delta {z}_{2}\\Delta {w}_{2} C(\\mathcal{F}^{-1}(-4\\pi^2\\xi_2^2 e^{ -2\\pi i\\boldsymbol{z}_0\\cdot \\boldsymbol{\\xi}}\\hat{c}))$$"
   ]
  },
  {
   "cell_type": "code",
   "execution_count": null,
   "id": "1f184a71",
   "metadata": {},
   "outputs": [],
   "source": [
    "def D2T(code,x,dx1,dx2):\n",
    "    xi1 = cp.fft.fftfreq(2*code.shape[-1]).astype('float32')\n",
    "    [xi2,xi1] = cp.meshgrid(xi1, xi1)\n",
    "    dx11 = dx1[:,:,:,None,None] \n",
    "    dx22 = dx2[:,:,:,None,None] \n",
    "    res = dx11[:,:,0]*dx22[:,:,0]*Twop_(code,x,-4*cp.pi**2*xi1**2)+ \\\n",
    "         (dx11[:,:,0]*dx22[:,:,1]+dx11[:,:,1]*dx22[:,:,0])*Twop_(code,x,-4*cp.pi**2*xi1*xi2)+ \\\n",
    "          dx11[:,:,1]*dx22[:,:,1]*Twop_(code,x,-4*cp.pi**2*xi2**2)\n",
    "    return res"
   ]
  },
  {
   "cell_type": "markdown",
   "id": "731f8313",
   "metadata": {},
   "source": [
    "#### $$DM|_{{x}}(\\Delta{x})=  \\Big(q\\cdot DT_{c}|_{{{x}_{0,k}}}( \\Delta {x}_k) \\Big)_{k=1}^K$$\n",
    "                                                                                         \n"
   ]
  },
  {
   "cell_type": "code",
   "execution_count": null,
   "id": "a4ca2c75",
   "metadata": {},
   "outputs": [],
   "source": [
    "def DM(code,q,x,dx):\n",
    "    res = rho*q*DT(code,x,dx)   \n",
    "    return res"
   ]
  },
  {
   "cell_type": "markdown",
   "id": "06a620b3",
   "metadata": {},
   "source": [
    "#### $$D^2M|_{{x}}\\big(\\Delta{x}^{(1)},\\Delta{x}^{(2)}\\big)= q\\cdot D^2{T_c}|_{{{x}_0}}(\\Delta{x}_k^{(1)},\\Delta{x}_k^{(2)})    $$"
   ]
  },
  {
   "cell_type": "code",
   "execution_count": null,
   "id": "30042540",
   "metadata": {},
   "outputs": [],
   "source": [
    "def D2M(code,q,x,dx1,dx2):    \n",
    "    res =  rho**2*q*D2T(code,x,dx1,dx2)      \n",
    "    return res"
   ]
  },
  {
   "cell_type": "markdown",
   "id": "a7189513",
   "metadata": {},
   "source": [
    "### $$DN|_{(x_0,\\Psi_0)}(\\Delta x,\\Delta \\Psi)=L_1\\Big(DM|_{x_0}(\\Delta x)\\Big)\\cdot \\Psi_0+N(x_0,\\Delta \\Psi)$$"
   ]
  },
  {
   "cell_type": "code",
   "execution_count": null,
   "id": "40b18d2c",
   "metadata": {},
   "outputs": [],
   "source": [
    "def DN(psi,code,q,x,dpsi,dx):\n",
    "    nxpsi = dpsi*L1op(q*Sop(code,x))\n",
    "    res = psi*L1op(DM(code,q,x,dx))+nxpsi\n",
    "    return res"
   ]
  },
  {
   "cell_type": "markdown",
   "id": "ab00d158",
   "metadata": {},
   "source": [
    "\n",
    "### $$D^2N|_{(x_0,\\Psi_0)}\\left((\\Delta x^{(1)},\\Delta \\Psi^{(1)}),(\\Delta x^{(2)},\\Delta \\Psi^{(2)})\\right)= $$\n",
    "### $$L_1\\Big(D^2M|_{x_0}(\\Delta x^{(1)},\\Delta x^{(2)})\\Big)\\cdot\\Psi_0+L_1\\Big(DM|_{x_0}(\\Delta x^{(1)})\\Big)\\cdot\\Delta \\Psi^{(2)}+L_1\\Big(DM|_{x_0}(\\Delta x^{(2)})\\Big)\\cdot\\Delta \\Psi^{(1)} $$\n"
   ]
  },
  {
   "cell_type": "code",
   "execution_count": null,
   "id": "c7c2ed5b",
   "metadata": {},
   "outputs": [],
   "source": [
    "def D2N(psi,code,q,x,dpsi1,dpsi2,dx1,dx2):\n",
    "    res = psi*L1op(D2M(code,q,x,dx1,dx2)) + dpsi2*L1op(DM(code,q,x,dx1)) + dpsi1*L1op(DM(code,q,x,dx2))\n",
    "    return res"
   ]
  },
  {
   "cell_type": "markdown",
   "metadata": {},
   "source": [
    "### $$H^I|_{x_0,\\Psi_0}((\\Delta x^{(1)},\\Delta \\Psi^{(1)}),(\\Delta x^{(2)},\\Delta \\Psi^{(2)}))=$$\n",
    "### $$\\Big\\langle \\nabla F|_{N(x_0,\\Psi_0)}, D^2N|_{(x_0,\\Psi_0)}((\\Delta x^{(1)},\\Delta \\Psi^{(1)}),(\\Delta x^{(2)},\\Delta \\Psi^{(2)}))\\Big\\rangle$$\n",
    "### $$H^F|_{N(x_0,\\Psi_0)}\\Big(DN|_{(x_0,\\Psi_0)}(\\Delta x^{(1)},\\Delta \\Psi^{(1)}),DN|_{(x_0,\\Psi_0)}(\\Delta x^{(1)},\\Delta \\Psi^{(1)})\\Big)$$"
   ]
  },
  {
   "cell_type": "code",
   "execution_count": null,
   "id": "73461e33",
   "metadata": {},
   "outputs": [],
   "source": [
    "def hessian2(psi,q,x,dpsi1,dx1,dpsi2,dx2,d,gradF):\n",
    "    d2n = D2N(psi,code,q,x,dpsi1,dpsi2,dx1,dx2)\n",
    "    dn1 = DN(psi,code,q,x,dpsi1,dx1)\n",
    "    dn2 = DN(psi,code,q,x,dpsi2,dx2)\n",
    "    nxpsi = psi*L1op(q*Sop(code,x))  \n",
    "    return redot(gradF,d2n)+hessianF(nxpsi,dn1,dn2,d) "
   ]
  },
  {
   "cell_type": "code",
   "execution_count": null,
   "id": "a3990a45",
   "metadata": {},
   "outputs": [],
   "source": [
    "def calc_beta(vars,grads,etas,d,gradF):\n",
    "    (psi,q,x) = (vars['psi'], vars['prb'], vars['shift'])\n",
    "    (dpsi1,dx1) = (grads['psi'], grads['shift'])\n",
    "    (dpsi2,dx2) = (etas['psi'], etas['shift'])\n",
    "    \n",
    "    d2n = D2N(psi,code,q,x,dpsi1,dpsi2,dx1,dx2)\n",
    "    dn1 = DN(psi,code,q,x,dpsi1,dx1)\n",
    "    dn2 = DN(psi,code,q,x,dpsi2,dx2)\n",
    "    nxpsi = psi*L1op(q*Sop(code,x))  \n",
    "    top = redot(gradF,d2n)+hessianF(nxpsi,dn1,dn2,d) \n",
    "\n",
    "    bottom = redot(gradF,d2n)+hessianF(nxpsi,dn2,dn2,d) \n",
    "    return top/bottom\n",
    "\n",
    "def calc_alpha(vars,grads,etas,d,gradF):    \n",
    "    (psi,q,x) = (vars['psi'], vars['prb'], vars['shift'])\n",
    "    (dpsi1,dx1) = (grads['psi'], grads['shift'])\n",
    "    (dpsi2,dx2) = (etas['psi'], etas['shift'])\n",
    "    \n",
    "    d2n = D2N(psi,code,q,x,dpsi1,dpsi2,dx1,dx2)\n",
    "    dn2 = DN(psi,code,q,x,dpsi2,dx2)\n",
    "    nxpsi = psi*L1op(q*Sop(code,x))  \n",
    "    \n",
    "    top = -redot(dpsi1,dpsi2)-redot(dx1,dx2)\n",
    "    bottom = redot(gradF,d2n)+hessianF(nxpsi,dn2,dn2,d)     \n",
    "    return top/bottom, top, bottom"
   ]
  },
  {
   "cell_type": "markdown",
   "id": "d4006eb6",
   "metadata": {},
   "source": [
    "## debug functions"
   ]
  },
  {
   "cell_type": "code",
   "execution_count": null,
   "id": "b79db8a3",
   "metadata": {},
   "outputs": [],
   "source": [
    "def minf(fpsi,data):\n",
    "    f = np.linalg.norm(np.abs(fpsi)-data)**2\n",
    "    return f\n",
    "\n",
    "def plot_debug2(vars,etas,top,bottom,alpha,data):\n",
    "    (psi,code,q,x) = (vars['psi'],vars['code'], vars['prb'], vars['shift'])\n",
    "    (dpsi2,dx2) = (etas['psi'], etas['shift'])\n",
    "    npp = 17\n",
    "    errt = cp.zeros(npp*2)\n",
    "    errt2 = cp.zeros(npp*2)\n",
    "    for k in range(0,npp*2):\n",
    "        psit = psi+(alpha*k/(npp-1))*dpsi2\n",
    "        xt = x+(alpha*k/(npp-1))*dx2*rho\n",
    "        fpsit = L2op(psit*L1op(q*Sop(code,xt)))\n",
    "        errt[k] = minf(fpsit,data)    \n",
    "\n",
    "    t = alpha*(cp.arange(2*npp))/(npp-1)\n",
    "    errt2 = minf(L2op(psi*L1op(q*Sop(code,x))),data)-top*t+0.5*bottom*t**2\n",
    "    \n",
    "    plt.plot((alpha*cp.arange(2*npp)/(npp-1)).get(),errt.get(),'.')\n",
    "    plt.plot((alpha*cp.arange(2*npp)/(npp-1)).get(),errt2.get(),'.')\n",
    "    plt.show()\n",
    "\n",
    "def plot_debug3(shifts,shifts_init):\n",
    "    plt.plot(shifts_init[0,:,0]-(shifts[0,:,0]),'r.')\n",
    "    plt.plot(shifts_init[0,:,1]-(shifts[0,:,1]),'b.')\n",
    "    plt.show()\n",
    "\n",
    "def vis_debug(vars,i):\n",
    "    mshow_polar(vars['psi'][0],show)\n",
    "    mshow_polar(vars['psi'][0,ne//2-n//4:ne//2+n//4,ne//2-n//4:ne//2+n//4],show)\n",
    "    # mshow_polar(vars['prb'][0],show)\n",
    "    dxchange.write_tiff(np.angle(vars['psi'][0]).get(),f'{path}/crec_code_angle{flg}/{i:03}',overwrite=True)\n",
    "    dxchange.write_tiff(np.angle(vars['prb'][0]).get(),f'{path}/crec_prb_angle{flg}/{i:03}',overwrite=True)\n",
    "    dxchange.write_tiff(np.abs(vars['psi'][0]).get(),f'{path}/crec_code_abs{flg}/{i:03}',overwrite=True)\n",
    "    dxchange.write_tiff(np.abs(vars['prb'][0]).get(),f'{path}/crec_prb_abs{flg}/{i:03}',overwrite=True)\n",
    "    \n",
    "def err_debug(vars, grads, data):    \n",
    "    err = minf(L2op(vars['psi']*L1op(vars['prb']*Sop(vars['code'],vars['shift']))),data)    \n",
    "    \n",
    "    print(f'gradient norms (psi, shift): {np.linalg.norm(grads['psi']):.2f}, {np.linalg.norm(grads['shift']):.2f}')                        \n",
    "    return err"
   ]
  },
  {
   "cell_type": "markdown",
   "id": "9b6e3f71",
   "metadata": {},
   "source": [
    "# Main CG loop (fifth rule)"
   ]
  },
  {
   "cell_type": "code",
   "execution_count": null,
   "id": "901f10e1",
   "metadata": {},
   "outputs": [],
   "source": [
    "def cg_holo(data, vars, pars):\n",
    "\n",
    "    data = np.sqrt(data)    \n",
    "    shifts_init = vars['shift'].copy()\n",
    "    erra = np.zeros(pars['niter'])\n",
    "    alphaa = np.zeros(pars['niter'])    \n",
    "        \n",
    "    for i in range(pars['niter']):         \n",
    "        \n",
    "        gradF = gradientF(vars,data)\n",
    "        grads = gradients(vars,data,gradF)\n",
    "        if i<32:\n",
    "            grads['shift'][:]=0\n",
    "        # grads['psi'][:] = 0\n",
    "        # etas = {}\n",
    "        # etas['psi'] = -grads['psi']\n",
    "        # etas['shift'] = -grads['shift']\n",
    "        if i==0:\n",
    "            etas = {}\n",
    "            etas['psi'] = -grads['psi']\n",
    "            etas['shift'] = -grads['shift']\n",
    "        else:      \n",
    "            beta = calc_beta(vars, grads, etas, data, gradF)\n",
    "            etas['psi'] = -grads['psi'] + beta*etas['psi']\n",
    "            etas['shift'] = -grads['shift'] + beta*etas['shift']\n",
    "\n",
    "        alpha,top,bottom = calc_alpha(vars, grads, etas, data, gradF)              \n",
    "        if i % pars['vis_step'] == 0:\n",
    "            plot_debug2(vars,etas,top,bottom,alpha,data)\n",
    "        \n",
    "        vars['psi'] += alpha*etas['psi']\n",
    "        vars['shift'] += alpha*rho*etas['shift']\n",
    "        \n",
    "        if i % pars['err_step'] == 0:\n",
    "            err = err_debug(vars, grads, data)    \n",
    "            print(f'{i}) {alpha=:.5f}, {err=:1.5e}',flush=True)\n",
    "            erra[i] = err\n",
    "            alphaa[i] = alpha\n",
    "\n",
    "        if i % pars['vis_step'] == 0:\n",
    "            vis_debug(vars, i)\n",
    "            # plot_debug3(vars['shift'],shifts_init)     \n",
    "            d = np.abs(L2op(vars['psi']*L1op(vars['prb']*Sop(vars['code'],vars['shift']))))\n",
    "            mshow(d[0,0]-data[0,0],show)        \n",
    "    \n",
    "    return vars,erra,alphaa\n",
    "vars = {}\n",
    "vars['psi'] = cp.array(rec_paganin.copy())\n",
    "vars['prb'] = cp.array(prb.copy())\n",
    "vars['shift'] = cp.array(shifts.copy())\n",
    "vars['code'] = cp.array(code.copy())\n",
    "data = cp.array(data)\n",
    "pars = {'niter': 513, 'err_step': 4, 'vis_step': 16}\n",
    "vars,erra,alphaa = cg_holo(data, vars, pars)   "
   ]
  },
  {
   "cell_type": "code",
   "execution_count": null,
   "id": "59231c03",
   "metadata": {},
   "outputs": [],
   "source": []
  }
 ],
 "metadata": {
  "kernelspec": {
   "display_name": "Python 3 (ipykernel)",
   "language": "python",
   "name": "python3"
  },
  "language_info": {
   "codemirror_mode": {
    "name": "ipython",
    "version": 3
   },
   "file_extension": ".py",
   "mimetype": "text/x-python",
   "name": "python",
   "nbconvert_exporter": "python",
   "pygments_lexer": "ipython3",
   "version": "3.12.4"
  }
 },
 "nbformat": 4,
 "nbformat_minor": 5
}
