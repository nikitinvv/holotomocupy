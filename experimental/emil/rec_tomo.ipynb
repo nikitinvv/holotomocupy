{
 "cells": [
  {
   "cell_type": "code",
   "execution_count": null,
   "metadata": {},
   "outputs": [],
   "source": [
    "import numpy as np\n",
    "import cupy as cp\n",
    "import matplotlib.pyplot as plt\n",
    "from holotomocupy.proc import linear, dai_yuan\n",
    "from holotomocupy.tomo import R,RT\n",
    "from holotomocupy.chunking import gpu_batch\n",
    "from holotomocupy.utils import *"
   ]
  },
  {
   "cell_type": "code",
   "execution_count": null,
   "metadata": {},
   "outputs": [],
   "source": [
    "# st = int(sys.argv[1])\n",
    "st = 0\n",
    "n = 2048\n",
    "ntheta = 900\n",
    "show = True\n",
    "\n",
    "# ID16B setup\n",
    "ndist = 4\n",
    "energy = 29.63  # [keV] xray energy\n",
    "wavelength = 1.2398419840550367e-09/energy  # [m] wave length\n",
    "detector_pixelsize= 0.65e-6\n",
    "focusToDetectorDistance = 0.704433  # [m]\n",
    "sx0h = 0.8525605999567023e-3; #1.077165773192669 for 75nm.\n",
    "sx0v = 0.80170811624758109e-3; #1.110243284221266 for 75nm.\n",
    "sx0 = 0.5*(sx0h+sx0v)\n",
    "z1 = np.array([54.9598e-3, 55.96e-3, 59.1701e-3, 69.17e-3])[:ndist]-sx0\n",
    "z2 = focusToDetectorDistance-z1\n",
    "distances = (z1*z2)/focusToDetectorDistance\n",
    "magnifications = focusToDetectorDistance/z1\n",
    "voxelsize = detector_pixelsize/magnifications[0]*2048/n  # object voxel size\n",
    "print(f\"{voxelsize=}\")\n",
    "norm_magnifications = magnifications/magnifications[0]\n",
    "# scaled propagation distances due to magnified probes\n",
    "distances = distances*norm_magnifications**2\n",
    "\n",
    "z1p = z1[0]  # positions of the probe for reconstruction\n",
    "z2p = z1-np.tile(z1p, len(z1))\n",
    "# magnification when propagating from the probe plane to the detector\n",
    "magnifications2 = (z1p+z2p)/z1p\n",
    "# propagation distances after switching from the point source wave to plane wave,\n",
    "distances2 = (z1p*z2p)/(z1p+z2p)\n",
    "norm_magnifications2 = magnifications2/(z1p/z1[0])  # normalized magnifications\n",
    "# scaled propagation distances due to magnified probes\n",
    "distances2 = distances2*norm_magnifications2**2\n",
    "distances2 = distances2*(z1p/z1)**2\n",
    "\n",
    "# allow padding if there are shifts of the probe\n",
    "pad = n//32\n",
    "# sample size after demagnification\n",
    "ne = int(np.ceil((n+2*pad)/norm_magnifications[-1]/32))*32  # make multiple of 32"
   ]
  },
  {
   "cell_type": "code",
   "execution_count": null,
   "metadata": {},
   "outputs": [],
   "source": [
    "psi_angle = read_tiff(f'/data/vnikitin/ESRF/ID16B/009/033_009_50nm_rec/recmultiPaganin/r.tiff')[:]\n",
    "psi = np.exp(1j*psi_angle)\n"
   ]
  },
  {
   "cell_type": "code",
   "execution_count": null,
   "metadata": {},
   "outputs": [],
   "source": [
    "import h5py\n",
    "with h5py.File('/data/vnikitin/ESRF/ID16B/009/033_009_50nm_rec/recmultiPaganin/r.h5','w') as fid:\n",
    "    fid.create_dataset('/exchange/data',data = psi_angle)\n",
    "    fid.create_dataset('/exchange/data_white',data = np.ones([1,*psi_angle.shape[1:]],dtype='float32'))\n",
    "    fid.create_dataset('/exchange/data_dark',data = np.zeros([1,*psi_angle.shape[1:]],dtype='float32'))\n",
    "    fid.create_dataset('/exchange/theta',data = np.linspace(0,360,900).astype('float32'))\n",
    "\n",
    "\n"
   ]
  },
  {
   "cell_type": "code",
   "execution_count": null,
   "metadata": {},
   "outputs": [],
   "source": [
    "plt.imshow(np.angle(psi[-1]),cmap='gray')\n",
    "plt.colorbar()"
   ]
  },
  {
   "cell_type": "code",
   "execution_count": null,
   "metadata": {},
   "outputs": [],
   "source": [
    "data = -1j*wavelength/(2*np.pi)*np.log(psi)/voxelsize\n",
    "\n",
    "mshow_complex(data[0])\n"
   ]
  },
  {
   "cell_type": "code",
   "execution_count": null,
   "metadata": {},
   "outputs": [],
   "source": [
    "\n",
    "\n",
    "def line_search(minf, gamma, fu, fd):\n",
    "    \"\"\" Line search for the step sizes gamma\"\"\"\n",
    "    while (minf(fu)-minf(fu+gamma*fd) < 0 and gamma > 1e-12):\n",
    "        gamma *= 0.5\n",
    "    if (gamma <= 1e-12):  # direction not found\n",
    "        # print('no direction')\n",
    "        gamma = 0\n",
    "    return gamma\n",
    "\n",
    "def cg_tomo(data, init, pars):\n",
    "    \"\"\"Conjugate gradients method for tomogarphy\"\"\"\n",
    "    # minimization functional\n",
    "    @gpu_batch\n",
    "    def _minf(Ru,data):\n",
    "        res = cp.empty(data.shape[0],dtype='float32')\n",
    "        for k in range(data.shape[0]):\n",
    "            res[k] = np.linalg.norm(Ru[k]-data[k])**2\n",
    "        return res\n",
    "    \n",
    "    def minf(Ru):\n",
    "        res = np.sum(_minf(Ru,data))\n",
    "        return res\n",
    "    \n",
    "    u = init.copy()\n",
    "    conv = np.zeros(1+pars['niter']//pars['err_step'])\n",
    "    \n",
    "    for i in range(pars['niter']):\n",
    "        fu = R(u,theta,center*ne/n)\n",
    "        grad = RT(fu-data,theta,center*ne/n)/np.float32(ne*ntheta)\n",
    "        # Dai-Yuan direction\n",
    "        if i == 0:\n",
    "            d = -grad\n",
    "        else:\n",
    "            d = dai_yuan(d,grad,grad0)\n",
    "\n",
    "        grad0 = grad\n",
    "        fd = R(d, theta, center*ne/n)\n",
    "        gamma = line_search(minf, pars['gamma'], fu, fd)\n",
    "        u = linear(u,d,1,gamma)\n",
    "        if i % pars['err_step'] == 0:\n",
    "            fu = R(u, theta, center*ne/n)\n",
    "            err = minf(fu)\n",
    "            conv[i//pars['err_step']] = err\n",
    "            print(f'{i}) {gamma=}, {err=:1.5e}')\n",
    "\n",
    "        if i % pars['vis_step'] == 0:\n",
    "            mshow_complex(u[ne//2])\n",
    "            \n",
    "    return u, conv\n",
    "\n",
    "\n",
    "pars = {'niter': 65, 'err_step': 4, 'vis_step': 16, 'gamma': 1}\n",
    "\n",
    "# if by chunk on gpu\n",
    "# rec = np.zeros([ne,ne,ne],dtype='complex64')\n",
    "# data_rec = data.swapaxes(0,1)\n",
    "\n",
    "# if fully on gpu\n",
    "rec = cp.zeros([ne,ne,ne],dtype='complex64')\n",
    "data_rec = cp.array(data.swapaxes(0,1))\n",
    "rec, conv = cg_tomo(data_rec, rec, pars)"
   ]
  },
  {
   "cell_type": "code",
   "execution_count": null,
   "metadata": {},
   "outputs": [],
   "source": [
    "plt.imshow(rec[ne//2,ne//4:-ne//4,ne//4:-ne//4].real.get(),cmap='gray')\n",
    "plt.colorbar()"
   ]
  }
 ],
 "metadata": {
  "kernelspec": {
   "display_name": "holotomo",
   "language": "python",
   "name": "python3"
  },
  "language_info": {
   "codemirror_mode": {
    "name": "ipython",
    "version": 3
   },
   "file_extension": ".py",
   "mimetype": "text/x-python",
   "name": "python",
   "nbconvert_exporter": "python",
   "pygments_lexer": "ipython3",
   "version": "3.12.4"
  }
 },
 "nbformat": 4,
 "nbformat_minor": 2
}
