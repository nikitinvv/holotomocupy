{
 "cells": [
  {
   "cell_type": "code",
   "execution_count": null,
   "id": "fad77fab-e206-47c1-9655-088d14fe30cb",
   "metadata": {},
   "outputs": [],
   "source": [
    "import numpy as np\n",
    "import cupy as cp\n",
    "from types import SimpleNamespace\n",
    "from utils import *\n",
    "from rec import Rec"
   ]
  },
  {
   "cell_type": "markdown",
   "id": "3c0fdd65-1cff-451e-865e-56cd8b7882a6",
   "metadata": {},
   "source": [
    "# Init data sizes and parameters "
   ]
  },
  {
   "cell_type": "code",
   "execution_count": null,
   "id": "59fa16f2-1f9c-4b3a-a330-e10942f12234",
   "metadata": {},
   "outputs": [],
   "source": [
    "n = 128  # object size in each dimension\n",
    "ntheta = 128  # number of angles (rotations)\n",
    "theta = np.linspace(0, np.pi, ntheta).astype('float32')  # projection angles\n",
    "\n",
    "ndist = 4 # number of distances from the focal spot in holotomography\n",
    "detector_pixelsize = 3e-6 # detector pixel size\n",
    "energy = 33.35  # [keV] xray energy\n",
    "wavelength = 1.2398419840550367e-09/energy  # [m] wave length\n",
    "\n",
    "focusToDetectorDistance = 1.208  # focus to detector distance [m]\n",
    "sx0 = -2.493e-3\n",
    "z1 = np.array([1.5335e-3, 1.7065e-3, 2.3975e-3, 3.8320e-3])[:ndist]-sx0 # distances\n",
    "z2 = focusToDetectorDistance-z1\n",
    "distances = (z1*z2)/focusToDetectorDistance # adjusted distances\n",
    "magnifications = focusToDetectorDistance/z1 # magnifications\n",
    "voxelsize = detector_pixelsize/magnifications[0]*2048/n/2  # object voxel size\n",
    "\n",
    "norm_magnifications = magnifications/magnifications[0] # normalized magnifications\n",
    "distances = distances*norm_magnifications**2 # readjusted distances\n",
    "z1p = z1[0]  # positions of the probe for reconstruction\n",
    "\n",
    "z2p = z1-np.tile(z1p, len(z1))\n",
    "# magnification when propagating from the probe plane to the detector\n",
    "magnificationsp = (z1p+z2p)/z1p\n",
    "# propagation distances after switching from the point source wave to plane wave,\n",
    "distancesp = (z1p*z2p)/(z1p+z2p)\n",
    "norm_magnifications2 = magnificationsp/(z1p/z1[0])  # normalized magnifications\n",
    "# scaled propagation distances due to magnified probes\n",
    "distancesp = distancesp*norm_magnifications2**2\n",
    "distancesp = distancesp*(z1p/z1)**2\n",
    "\n",
    "npsi = int(np.ceil(n/norm_magnifications[-1]/8))*8  # reconstructed object size based on magnification and detector size\n"
   ]
  },
  {
   "cell_type": "markdown",
   "id": "81855d73",
   "metadata": {},
   "source": [
    "# Create solver class"
   ]
  },
  {
   "cell_type": "code",
   "execution_count": null,
   "id": "cfa67fb9",
   "metadata": {},
   "outputs": [],
   "source": [
    "args = SimpleNamespace()\n",
    "args.n = n\n",
    "args.ndist = ndist\n",
    "args.ntheta = ntheta\n",
    "args.npsi = npsi\n",
    "\n",
    "args.voxelsize = voxelsize\n",
    "args.wavelength = wavelength\n",
    "args.distance = distances\n",
    "args.distancep = distancesp\n",
    "args.rotation_axis = args.npsi/2\n",
    "\n",
    "args.theta = theta\n",
    "args.norm_magnifications = norm_magnifications\n",
    "\n",
    "# create class\n",
    "cl_rec = Rec(args)\n"
   ]
  },
  {
   "cell_type": "markdown",
   "id": "49eb1696-bb30-496e-8c3d-565f2791112c",
   "metadata": {},
   "source": [
    "## Read object and plot orthogonal views"
   ]
  },
  {
   "cell_type": "code",
   "execution_count": null,
   "id": "8a579ce4-0cd2-4769-a03d-7614aa96b0a8",
   "metadata": {},
   "outputs": [],
   "source": [
    "u=cp.load('u.npy')"
   ]
  },
  {
   "cell_type": "markdown",
   "id": "2f80b96c-d4b8-4c0e-8999-b8198bbc486a",
   "metadata": {},
   "source": [
    "## Compute tomographic projection data via the Fourier based method, $\\mathcal{R}u$:"
   ]
  },
  {
   "cell_type": "code",
   "execution_count": null,
   "id": "87c2a585-910b-4c13-85fc-7f9e640f8293",
   "metadata": {},
   "outputs": [],
   "source": [
    "psi = cl_rec.expR(cl_rec.R(u))\n",
    "mshow_polar(psi[0],True)"
   ]
  },
  {
   "cell_type": "markdown",
   "id": "c2a0705b",
   "metadata": {},
   "source": [
    "## Read probe"
   ]
  },
  {
   "cell_type": "code",
   "execution_count": null,
   "id": "93cf1c7b",
   "metadata": {},
   "outputs": [],
   "source": [
    "q=cp.load('q.npy')\n",
    "mshow_polar(q[0],True)"
   ]
  },
  {
   "cell_type": "markdown",
   "id": "d1d02f36",
   "metadata": {},
   "source": [
    "# Shifts/drifts"
   ]
  },
  {
   "cell_type": "code",
   "execution_count": null,
   "id": "e79c03a1",
   "metadata": {},
   "outputs": [],
   "source": [
    "r = cp.load('shifts.npy')\n",
    "rerr = cp.load('shifts_err.npy')"
   ]
  },
  {
   "cell_type": "markdown",
   "id": "09aa10f4",
   "metadata": {},
   "source": [
    "# Simulate data"
   ]
  },
  {
   "cell_type": "code",
   "execution_count": null,
   "id": "0472ad04",
   "metadata": {},
   "outputs": [],
   "source": [
    "data = cl_rec.fwd(r+rerr,u,q)\n",
    "ref = cl_rec.fwd(r*0,u*0,q)[0,0:1]\n"
   ]
  },
  {
   "cell_type": "code",
   "execution_count": null,
   "id": "a7151b1e",
   "metadata": {},
   "outputs": [],
   "source": []
  },
  {
   "cell_type": "markdown",
   "id": "18e9c352-2b2c-49d7-adc0-301a05da964c",
   "metadata": {},
   "source": [
    "### Take squared absolute value to simulate data on the detector and a reference image"
   ]
  },
  {
   "cell_type": "code",
   "execution_count": null,
   "id": "f4f94fd7-b14c-4dc3-832c-2f00d1674039",
   "metadata": {},
   "outputs": [],
   "source": [
    "data = np.abs(data)**2\n",
    "ref = np.abs(ref)**2"
   ]
  },
  {
   "cell_type": "markdown",
   "id": "6bbcb6f5",
   "metadata": {},
   "source": [
    "### Visualize data"
   ]
  },
  {
   "cell_type": "code",
   "execution_count": null,
   "id": "974c84ca",
   "metadata": {},
   "outputs": [],
   "source": [
    "for k in range(ndist):\n",
    "    mshow(data[0,k],True)\n"
   ]
  },
  {
   "cell_type": "code",
   "execution_count": null,
   "id": "cf086c4e",
   "metadata": {},
   "outputs": [],
   "source": [
    "mshow(ref[0],True)"
   ]
  },
  {
   "cell_type": "markdown",
   "id": "80625cf6-2687-43fa-8d0a-dd3396f91aa7",
   "metadata": {},
   "source": [
    "### Save data, reference images"
   ]
  },
  {
   "cell_type": "code",
   "execution_count": null,
   "id": "1edf3f41-30cb-4092-b90c-ca2f1f829ac7",
   "metadata": {},
   "outputs": [],
   "source": [
    "np.save('data',data)\n",
    "np.save('ref',ref)\n"
   ]
  }
 ],
 "metadata": {
  "kernelspec": {
   "display_name": "holotomocupy",
   "language": "python",
   "name": "python3"
  },
  "language_info": {
   "codemirror_mode": {
    "name": "ipython",
    "version": 3
   },
   "file_extension": ".py",
   "mimetype": "text/x-python",
   "name": "python",
   "nbconvert_exporter": "python",
   "pygments_lexer": "ipython3",
   "version": "3.12.8"
  }
 },
 "nbformat": 4,
 "nbformat_minor": 5
}
