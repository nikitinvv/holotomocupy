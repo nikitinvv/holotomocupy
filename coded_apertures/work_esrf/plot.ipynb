{
 "cells": [
  {
   "cell_type": "code",
   "execution_count": null,
   "metadata": {},
   "outputs": [],
   "source": [
    "import numpy as np\n",
    "import matplotlib.pyplot as plt\n",
    "import h5py"
   ]
  },
  {
   "cell_type": "code",
   "execution_count": null,
   "metadata": {},
   "outputs": [],
   "source": [
    "\n",
    "n = 2048  # object size in each dimension\n",
    "pad = n//4\n",
    "npos= 16\n",
    "\n",
    "detector_pixelsize = 3.03751e-6\n",
    "energy = 33.35  # [keV] xray energy\n",
    "wavelength = 1.2398419840550367e-09/energy  # [m] wave length\n",
    "focusToDetectorDistance = 1.28  # [m]\n",
    "sx0 = 1.286e-3\n",
    "z1 = np.tile(5.5*1e-3-sx0, [npos]) # 5.5\n",
    "z2 = focusToDetectorDistance-z1\n",
    "distances = (z1*z2)/focusToDetectorDistance\n",
    "magnifications = focusToDetectorDistance/z1\n",
    "voxelsize = np.abs(detector_pixelsize/magnifications[0]*2048/n)  # object voxel size\n"
   ]
  },
  {
   "cell_type": "code",
   "execution_count": null,
   "metadata": {},
   "outputs": [],
   "source": [
    "path = f'/data/vnikitin/ESRF/ID16A/20240924/SiemensLH/SiemensLH_003p3nm_1000ms_01/'\n",
    "with h5py.File(f'{path}SiemensLH_003p3nm_1000ms_010000.h5','r') as fid:\n",
    "    spz = np.array(str(np.array(str(np.array(fid['/entry_0000/instrument/PCIe/header/spz']))[1:]))[1:-1].split(' '),dtype='float32')*1e-6/voxelsize\n",
    "    spy = np.array(str(np.array(str(np.array(fid['/entry_0000/instrument/PCIe/header/spy']))[1:]))[1:-1].split(' '),dtype='float32')*1e-6/voxelsize\n",
    "\n",
    "shifts0 = np.zeros([1,16,2],dtype='float32')\n",
    "shifts0[:,:,1] = spy\n",
    "shifts0[:,:,0] = -spz"
   ]
  },
  {
   "cell_type": "code",
   "execution_count": null,
   "metadata": {},
   "outputs": [],
   "source": [
    "shifts={}\n",
    "iter=32*12\n",
    "for k in [0.0,0.1]:\n",
    "    shifts[f'{k}']= np.load(f'/data/vnikitin/ESRF/ID16A/20240924_rec/SiemensLH/SiemensLH_003p3nm_1000ms_01/crec_shift2048_{k}_5.5_{iter:03}.npy')\n",
    "    plt.plot(shifts[f'{k}'][0,:,0]-shifts0[0,:,0],'.',label=f'{k}')\n",
    "    # plt.plot(shifts[f'{k}'][0,:,1]-shifts0[0,:,1],'.')\n",
    "plt.show()\n",
    "plt.ylim([-0.7,0.4])\n",
    "plt.legend()\n",
    "shifts={}\n",
    "for k in [0.0,0.1]:\n",
    "    shifts[f'{k}']= np.load(f'/data/vnikitin/ESRF/ID16A/20240924_rec/SiemensLH/SiemensLH_003p3nm_1000ms_01/crec_shift2048_{k}_5.5_{iter:03}.npy')\n",
    "    plt.plot(shifts[f'{k}'][0,:,1]-shifts0[0,:,1],'.',label=f'{k}')\n",
    "    # plt.plot(shifts[f'{k}'][0,:,1]-shifts0[0,:,1],'.')\n",
    "    # plt.show()\n",
    "plt.ylim([-0.7,0.4])\n",
    "plt.legend()\n",
    "    "
   ]
  }
 ],
 "metadata": {
  "kernelspec": {
   "display_name": "holotomocupy",
   "language": "python",
   "name": "python3"
  },
  "language_info": {
   "codemirror_mode": {
    "name": "ipython",
    "version": 3
   },
   "file_extension": ".py",
   "mimetype": "text/x-python",
   "name": "python",
   "nbconvert_exporter": "python",
   "pygments_lexer": "ipython3",
   "version": "3.12.4"
  }
 },
 "nbformat": 4,
 "nbformat_minor": 2
}
