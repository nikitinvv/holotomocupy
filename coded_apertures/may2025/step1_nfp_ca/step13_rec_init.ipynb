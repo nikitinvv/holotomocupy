{
 "cells": [
  {
   "cell_type": "code",
   "execution_count": null,
   "id": "fad77fab-e206-47c1-9655-088d14fe30cb",
   "metadata": {},
   "outputs": [],
   "source": [
    "import numpy as np\n",
    "import cupy as cp\n",
    "import sys\n",
    "import pandas as pd\n",
    "import time\n",
    "import scipy.ndimage as ndimage\n",
    "import matplotlib.pyplot as plt\n",
    "import h5py\n",
    "sys.path.insert(0, '..')\n",
    "from utils import *"
   ]
  },
  {
   "cell_type": "markdown",
   "id": "3c0fdd65-1cff-451e-865e-56cd8b7882a6",
   "metadata": {},
   "source": [
    "# Init data sizes and parametes of the PXM of ID16A"
   ]
  },
  {
   "cell_type": "code",
   "execution_count": null,
   "id": "59fa16f2-1f9c-4b3a-a330-e10942f12234",
   "metadata": {},
   "outputs": [],
   "source": [
    "path = f'/data/vnikitin/ESRF/ID16A/20240924_rec_ca/data/'\n",
    "with  h5py.File(f'{path}/data_ca.h5','r') as fid:\n",
    "    data = fid[f'/exchange/pdata'][:].astype('float32')\n",
    "    ref = fid[f'/exchange/pref'][:].astype('float32')\n",
    "    shifts = fid[f'/exchange/shifts'][:].astype('float32')    \n",
    "    \n",
    "    z1 = fid['/exchange/z1'][0]\n",
    "    detector_pixelsize = fid['/exchange/detector_pixelsize'][0]\n",
    "    focusdetectordistance = fid['/exchange/focusdetectordistance'][0]\n",
    "    energy = fid['/exchange/energy'][0]\n"
   ]
  },
  {
   "cell_type": "code",
   "execution_count": null,
   "id": "2123d6e1",
   "metadata": {},
   "outputs": [],
   "source": [
    "wavelength = 1.24e-09/energy  # [m] wave length\n",
    "focusToDetectorDistance = 1.28  # [m]\n",
    "z2 = focusToDetectorDistance-z1\n",
    "distances = (z1*z2)/focusToDetectorDistance\n",
    "magnification = focusToDetectorDistance/z1\n",
    "voxelsize = np.abs(detector_pixelsize/magnification)  # object voxel size\n"
   ]
  },
  {
   "cell_type": "code",
   "execution_count": null,
   "id": "3dbb1551",
   "metadata": {},
   "outputs": [],
   "source": [
    "n = 2048\n",
    "npsi = 8192\n",
    "npos = 324"
   ]
  },
  {
   "cell_type": "code",
   "execution_count": null,
   "id": "839ba9e6",
   "metadata": {},
   "outputs": [],
   "source": [
    "def Paganin(data, wavelength, voxelsize, delta_beta, alpha):\n",
    "    fx = cp.fft.fftfreq(data.shape[-1], d=voxelsize).astype(\"float32\")\n",
    "    [fx, fy] = cp.meshgrid(fx, fx)\n",
    "    rad_freq = cp.fft.fft2(data)\n",
    "    taylorExp = 1 + wavelength * distances * cp.pi * (delta_beta) * (fx**2 + fy**2)\n",
    "    numerator = taylorExp * (rad_freq)\n",
    "    denominator = taylorExp**2 + alpha\n",
    "    phase = cp.log(cp.real(cp.fft.ifft2(numerator / denominator)))\n",
    "    phase = delta_beta * 0.5 * phase\n",
    "    return phase\n",
    "\n",
    "\n",
    "def rec_init(rdata, ishifts):\n",
    "    recMultiPaganin = cp.zeros([npsi, npsi], dtype=\"float32\")\n",
    "    recMultiPaganinr = cp.zeros(\n",
    "        [npsi, npsi], dtype=\"float32\"\n",
    "    )  # to compensate for overlap\n",
    "    for j in range(0, npos):\n",
    "        r = cp.array(rdata[j])\n",
    "        r = Paganin(r, wavelength, voxelsize, 24.05, 1e-1)\n",
    "        rr = r * 0 + 1  # to compensate for overlap\n",
    "        rpsi = cp.zeros([npsi, npsi], dtype=\"float32\")\n",
    "        rrpsi = cp.zeros([npsi, npsi], dtype=\"float32\")\n",
    "        stx = npsi // 2 - ishifts[j, 1] - n // 2\n",
    "        endx = stx + n\n",
    "        sty = npsi // 2 - ishifts[j, 0] - n // 2\n",
    "        endy = sty + n\n",
    "        rpsi[sty:endy, stx:endx] = r\n",
    "        rrpsi[sty:endy, stx:endx] = rr\n",
    "\n",
    "        recMultiPaganin += rpsi\n",
    "        recMultiPaganinr += rrpsi\n",
    "\n",
    "    recMultiPaganinr[np.abs(recMultiPaganinr) < 5e-2] = 1\n",
    "    recMultiPaganin /= recMultiPaganinr\n",
    "    recMultiPaganin = np.exp(1j * recMultiPaganin)\n",
    "    return recMultiPaganin\n",
    "\n",
    "\n",
    "ishifts = np.round(np.array(shifts)).astype(\"int32\")\n",
    "rdata = np.array(data / (ref + 1e-5))\n",
    "psi_init = rec_init(rdata, ishifts)\n",
    "mshow_polar(psi_init,True)\n",
    "mshow_polar(psi_init[:1000, :1000],True)\n",
    "\n",
    "# smooth borders\n",
    "v = cp.arange(-npsi // 2,npsi // 2) / npsi\n",
    "[vx, vy] = cp.meshgrid(v, v)\n",
    "v = cp.exp(-1000 * (vx**2 + vy**2)).astype(\"float32\")\n",
    "\n",
    "psi_init = cp.fft.fftshift(cp.fft.fftn(cp.fft.fftshift(psi_init)))\n",
    "psi_init = cp.fft.fftshift(cp.fft.ifftn(cp.fft.fftshift(psi_init * v))).astype(\n",
    "    \"complex64\"\n",
    ")\n",
    "mshow_polar(psi_init,True)\n",
    "mshow_polar(psi_init[:1000, :1000],True)\n"
   ]
  },
  {
   "cell_type": "markdown",
   "id": "2d3e1339",
   "metadata": {},
   "source": []
  },
  {
   "cell_type": "code",
   "execution_count": null,
   "id": "d03be768",
   "metadata": {},
   "outputs": [],
   "source": [
    "path_out = f'/data/vnikitin/ESRF/ID16A/20240924_rec_ca/data/'\n",
    "with  h5py.File(f'{path_out}/data_ca.h5','a') as fid:\n",
    "    try:\n",
    "        del fid[f'/exchange/psi_init']\n",
    "    except:\n",
    "        pass\n",
    "    fid.create_dataset(f'/exchange/psi_init',data=psi_init.get())     "
   ]
  }
 ],
 "metadata": {
  "kernelspec": {
   "display_name": "holotomocupy",
   "language": "python",
   "name": "python3"
  },
  "language_info": {
   "codemirror_mode": {
    "name": "ipython",
    "version": 3
   },
   "file_extension": ".py",
   "mimetype": "text/x-python",
   "name": "python",
   "nbconvert_exporter": "python",
   "pygments_lexer": "ipython3",
   "version": "3.12.8"
  }
 },
 "nbformat": 4,
 "nbformat_minor": 5
}
