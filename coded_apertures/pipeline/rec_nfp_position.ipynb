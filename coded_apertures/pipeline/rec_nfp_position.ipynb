{
 "cells": [
  {
   "cell_type": "code",
   "execution_count": null,
   "id": "fad77fab-e206-47c1-9655-088d14fe30cb",
   "metadata": {},
   "outputs": [],
   "source": [
    "import numpy as np\n",
    "import cupy as cp\n",
    "from holotomocupy.holo import G, GT\n",
    "from holotomocupy.shift import S, ST\n",
    "from holotomocupy.recon_methods import multiPaganin\n",
    "from holotomocupy.utils import *\n",
    "\n",
    "np.random.seed(1)\n",
    "\n",
    "def get_cmap(n, name='hsv'):\n",
    "    '''Returns a function that maps each index in 0, 1, ..., n-1 to a distinct \n",
    "    RGB color; the keyword argument name must be a standard mpl colormap name.'''\n",
    "    return plt.cm.get_cmap(name, n)\n"
   ]
  },
  {
   "cell_type": "markdown",
   "id": "3c0fdd65-1cff-451e-865e-56cd8b7882a6",
   "metadata": {},
   "source": [
    "# Init data sizes and parametes of the PXM of ID16A"
   ]
  },
  {
   "cell_type": "code",
   "execution_count": null,
   "id": "59fa16f2-1f9c-4b3a-a330-e10942f12234",
   "metadata": {},
   "outputs": [],
   "source": [
    "n = 512  # object size in each dimension\n",
    "z1c = -19.5e-3\n",
    "code_thickness = 1.8e-6 #in m\n",
    "ill_feature_size = 2e-6 #in m\n",
    "\n",
    "npos = 49  # number of code positions\n",
    "detector_pixelsize = 3e-6\n",
    "energy = 33.35  # [keV] xray energy\n",
    "wavelength = 1.2398419840550367e-09/energy  # [m] wave length\n",
    "focusToDetectorDistance = 1.28  # [m]\n",
    "z1 = np.tile(z1c, [npos])\n",
    "z2 = focusToDetectorDistance-z1\n",
    "distances = (z1*z2)/focusToDetectorDistance\n",
    "magnifications = focusToDetectorDistance/z1\n",
    "voxelsize = np.abs(detector_pixelsize/magnifications[0]*2048/n)  # object voxel size\n",
    "\n",
    "# allow padding if there are shifts of the probe\n",
    "pad = n//8\n",
    "# sample size after demagnification\n",
    "ne = 1200+2*pad\n",
    "show = True\n",
    "\n",
    "flg = f'{n}_{1}_{npos}_{z1c}_0_code'\n",
    "path = f'/data2/vnikitin/nfp_codes'\n",
    "rho = 0.1"
   ]
  },
  {
   "cell_type": "markdown",
   "id": "49eb1696-bb30-496e-8c3d-565f2791112c",
   "metadata": {},
   "source": [
    "## Read data"
   ]
  },
  {
   "cell_type": "code",
   "execution_count": null,
   "id": "a7b82c4e",
   "metadata": {},
   "outputs": [],
   "source": [
    "data00 = np.zeros([1, npos, n, n], dtype='float32')\n",
    "ref0 = np.zeros([1, npos, n, n], dtype='float32')\n",
    "for k in range(npos):\n",
    "    data00[:, k] = read_tiff(f'{path}/data/data_{k}_{flg}.tiff')[:1]\n",
    "for k in range(npos):\n",
    "    ref0[:, k] = read_tiff(f'{path}/data/ref_{k}_{flg}.tiff')[:]\n",
    "code = np.load(f'{path}/data/code_{flg}.npy')\n",
    "shifts = np.load(f'{path}/data/shifts_code_{flg}.npy')[:, :npos]"
   ]
  },
  {
   "cell_type": "markdown",
   "id": "daee2463",
   "metadata": {},
   "source": [
    "# Construct operators\n"
   ]
  },
  {
   "cell_type": "code",
   "execution_count": null,
   "id": "adf88f3b",
   "metadata": {},
   "outputs": [],
   "source": [
    "def Lop(psi):\n",
    "    psi = cp.array(psi)\n",
    "    data = cp.zeros([psi.shape[0], npos, n, n], dtype='complex64')\n",
    "    for i in range(npos):\n",
    "        psir = psi[:,i].copy()       \n",
    "        psir = G(psir, wavelength, voxelsize, distances[i])\n",
    "        data[:, i] = psir[:, pad:n+pad, pad:n+pad]\n",
    "    return data\n",
    "\n",
    "def LTop(data):\n",
    "    psi = cp.zeros([data.shape[0],npos, n+2*pad, n+2*pad], dtype='complex64')\n",
    "    for j in range(npos):\n",
    "        psir = cp.pad(data[:, j], ((0, 0), (pad, pad), (pad, pad))).astype('complex64')\n",
    "        psir = GT(psir, wavelength, voxelsize, distances[j])        \n",
    "        psi[:,j] = psir\n",
    "    return psi\n",
    "\n",
    "def Sop(psi,shifts):\n",
    "    psi = cp.array(psi)\n",
    "    data = cp.zeros([psi.shape[0], npos, n+2*pad, n+2*pad], dtype='complex64')\n",
    "    for i in range(npos):\n",
    "        psir = psi.copy()    \n",
    "        psir = S(psir, shifts[:, i])\n",
    "        nee = psir.shape[1]        \n",
    "        data[:,i] = psir[:, nee//2-n//2-pad:nee//2+n//2+pad, nee//2-n//2-pad:nee//2+n//2+pad]\n",
    "    return data\n",
    "\n",
    "def STop(data,shifts):\n",
    "    psi = cp.zeros([data.shape[0], ne, ne], dtype='complex64')\n",
    "\n",
    "    for j in range(npos):\n",
    "        psir = cp.pad(data[:,j],((0,0),(ne//2-n//2-pad,ne//2-n//2-pad),(ne//2-n//2-pad,ne//2-n//2-pad)))        \n",
    "        psi += ST(psir,shifts[:,j])\n",
    "    return psi\n",
    "\n",
    "data = cp.array(data00)\n",
    "arr1 = cp.pad(data[:,0],((0,0),(ne//2-n//2,ne//2-n//2),(ne//2-n//2,ne//2-n//2)),'symmetric')     \n",
    "prb1 = cp.ones([1,n+2*pad,n+2*pad],dtype='complex64')\n",
    "shifts = cp.array(shifts)\n",
    "arr2 = Sop(arr1,shifts*rho)\n",
    "arr3 = STop(arr2,shifts*rho)\n",
    "\n",
    "arr4 = Lop(arr2)\n",
    "arr5 = LTop(arr4)\n",
    "\n",
    "print(f'{cp.sum(arr1*cp.conj(arr3))}==\\n{cp.sum(arr2*cp.conj(arr2))}')\n",
    "print(f'{cp.sum(arr2*cp.conj(arr5))}==\\n{cp.sum(arr4*cp.conj(arr4))}')"
   ]
  },
  {
   "cell_type": "markdown",
   "id": "1fe0cb15",
   "metadata": {},
   "source": [
    "#### Reconstruction with the CG (Carlsson) with Hessians"
   ]
  },
  {
   "cell_type": "markdown",
   "id": "4fe7a916",
   "metadata": {},
   "source": [
    "#### $$\\nabla F=2 \\left(L^*\\left( L(M(q_0,\\psi_0,\\boldsymbol{x}_0))-\\tilde D\\right)\\right).$$\n",
    "#### where $$\\tilde D = D \\frac{L(M(q_0,\\psi_0,\\boldsymbol{x}_0))}{|L(M(q_0,\\psi_0,\\boldsymbol{x}_0))|}$$\n",
    "\n"
   ]
  },
  {
   "cell_type": "code",
   "execution_count": null,
   "id": "f95197e6",
   "metadata": {},
   "outputs": [],
   "source": [
    "def gradientF(psi,q,x,d):\n",
    "    Lpsi = Lop(Sop(psi,x)*q)\n",
    "    td = d*(Lpsi/cp.abs(Lpsi))\n",
    "    res = 2*LTop(Lpsi - td)\n",
    "    return res"
   ]
  },
  {
   "cell_type": "markdown",
   "id": "5775c155",
   "metadata": {},
   "source": [
    "#### $$\\frac{1}{2}\\mathcal{H}|_{x_0}(y,z)= \\left\\langle \\mathbf{1}-d_{0}, \\mathsf{Re}({L(y)}\\overline{L(z)})\\right\\rangle+\\left\\langle d_{0},(\\mathsf{Re} (\\overline{l_0}\\cdot L(y)))\\cdot (\\mathsf{Re} (\\overline{l_0}\\cdot L(z)))\\right\\rangle.$$\n",
    "#### $$l_0=L(x_0)/|L(x_0)|$$\n",
    "#### $$d_0=d/|L(x_0)|$$\n"
   ]
  },
  {
   "cell_type": "code",
   "execution_count": null,
   "id": "5c1410c4",
   "metadata": {},
   "outputs": [],
   "source": [
    "def hessianF(hpsi,hpsi1,hpsi2,data):\n",
    "    Lpsi = Lop(hpsi)        \n",
    "    Lpsi1 = Lop(hpsi1)\n",
    "    Lpsi2 = Lop(hpsi2)    \n",
    "    l0 = Lpsi/cp.abs(Lpsi)\n",
    "    d0 = data/cp.abs(Lpsi)\n",
    "    v1 = cp.sum((1-d0)*cp.real(Lpsi1*cp.conj(Lpsi2)))\n",
    "    v2 = cp.sum(d0*\n",
    "        cp.real(cp.conj(l0)*Lpsi1)*\n",
    "        cp.real(cp.conj(l0)*Lpsi2))\n",
    "    return 2*(v1+v2)"
   ]
  },
  {
   "cell_type": "markdown",
   "id": "16e5f33f",
   "metadata": {},
   "source": [
    "##### $$\\nabla_{\\psi} G|_{(q_0,\\psi_0,\\boldsymbol{x}_0)}=S_{\\boldsymbol{x}_{0}}^*\\left(\\overline{J(q_0)}\\cdot \\nabla F\\right).$$\n",
    "##### $$\\nabla_{q} G|_{(q_0,\\psi_0,\\boldsymbol{x}_0)}=J^*\\left( \\overline{S_{\\boldsymbol{x}_{0}}(\\psi_0)}\\cdot \\nabla F\\right).$$\n",
    "##### $$\\nabla_{\\boldsymbol{x}_0} G|_{(q_0,\\psi_0,\\boldsymbol{x}_0)}=\\textsf{Re}\\Big(\\big( \\Big\\langle \\overline{q_0}\\cdot \\nabla F,   C(\\mathcal{F}^{-1}(-2\\pi i \\xi_1 e^{ -2\\pi i \\boldsymbol{x}_{0,k}\\cdot \\boldsymbol{\\xi}}\\hat{\\psi_0}))\\Big\\rangle,\\Big\\langle \\overline{q_0}\\cdot \\nabla F,C(\\mathcal{F}^{-1}(-2\\pi i \\xi_2 e^{ -2\\pi i \\boldsymbol{x}_{0,k}\\cdot \\boldsymbol{\\xi}}\\hat{\\psi_0})) \\Big\\rangle\\big)\\Big)_{k=1}^K. $$\n",
    "\n",
    "#### new operator $$T_{\\psi,w}(x) = C(\\mathcal{F}^{-1}(w e^{-2\\pi i \\boldsymbol{x}_{0}\\cdot \\boldsymbol{\\xi}}\\hat{\\psi_0}))$$\n",
    "\n",
    "\n"
   ]
  },
  {
   "cell_type": "code",
   "execution_count": null,
   "id": "d316207d",
   "metadata": {},
   "outputs": [],
   "source": [
    "def Twop(psi,x,w):\n",
    "    data = cp.zeros([psi.shape[0], npos, n+2*pad, n+2*pad], dtype='complex64')\n",
    "    xi1 = cp.fft.fftfreq(2*ne).astype('float32')\n",
    "    [xi2, xi1] = cp.meshgrid(xi1, xi1)\n",
    "    for i in range(npos):\n",
    "        psir = psi.copy()            \n",
    "        p = x[:,i]\n",
    "        psir = cp.pad(psir, ((0, 0), (ne//2, ne//2), (ne//2, ne//2)), 'constant')\n",
    "        pp = w*cp.exp(-2*cp.pi*1j*(xi1*p[:, 0, None, None]+xi2*p[:, 1, None, None]))    \n",
    "        psir = cp.fft.ifft2(pp*cp.fft.fft2(psir))   \n",
    "        data[:,i] = psir[:, ne-n//2-pad:ne+n//2+pad, ne-n//2-pad:ne+n//2+pad]        \n",
    "    return data\n",
    "\n",
    "def gradientx(psi,q,x,gradF):\n",
    "    xi1 = cp.fft.fftfreq(2*psi.shape[-1]).astype('float32')    \n",
    "    [xi2, xi1] = cp.meshgrid(xi1, xi1)  \n",
    "    tksi1 = Twop(psi,x,-2*cp.pi*1j*xi1)\n",
    "    tksi2 = Twop(psi,x,-2*cp.pi*1j*xi2)\n",
    "    gradx = cp.zeros([1,npos,2],dtype='float32')\n",
    "    gradx[:,:,0] = cp.sum(cp.real(cp.conj(q)*gradF*cp.conj(tksi1)),axis=(2,3))\n",
    "    gradx[:,:,1] = cp.sum(cp.real(cp.conj(q)*gradF*cp.conj(tksi2)),axis=(2,3))\n",
    "    return gradx\n",
    "\n",
    "def gradients(psi,q,x,d):\n",
    "    gradF = gradientF(psi,q,x,d)\n",
    "    gradpsi = STop(cp.conj(q)*gradF,x)\n",
    "    gradq = cp.sum(cp.conj(Sop(psi,x))*gradF,axis=1)\n",
    "    gradx = rho*gradientx(psi,q,x,gradF)\n",
    "    return gradpsi,gradq,gradx"
   ]
  },
  {
   "cell_type": "markdown",
   "id": "dd89a378",
   "metadata": {},
   "source": [
    "#### $$ D T_\\psi|_{{\\boldsymbol{z}_0}}(\\Delta \\boldsymbol{z})=C(\\mathcal{F}^{-1}(-2\\pi i\\xi_1 e^{ -2\\pi i\\boldsymbol{z}_0\\cdot \\boldsymbol{\\xi}}\\hat{\\psi}))\\Delta {z}_{1}+C(\\mathcal{F}^{-1}(-2\\pi i\\xi_2 e^{-2\\pi i \\boldsymbol{z}_0\\cdot \\boldsymbol{\\xi}}\\hat{\\psi}))\\Delta {z}_2$$"
   ]
  },
  {
   "cell_type": "code",
   "execution_count": null,
   "id": "967395b7",
   "metadata": {},
   "outputs": [],
   "source": [
    "def DT(psi,x,dx):\n",
    "    xi1 = cp.fft.fftfreq(2*psi.shape[-1]).astype('float32')\n",
    "    [xi2, xi1] = cp.meshgrid(xi1, xi1)\n",
    "    tksi1 = Twop(psi,x,-2*cp.pi*1j*xi1)\n",
    "    tksi2 = Twop(psi,x,-2*cp.pi*1j*xi2)\n",
    "    res = tksi1*dx[:,:,0,None,None]+tksi2*dx[:,:,1,None,None]\n",
    "    return res"
   ]
  },
  {
   "cell_type": "markdown",
   "id": "034d9dec",
   "metadata": {},
   "source": [
    "#### $$D^2{T_\\psi}|_{{\\boldsymbol{z}_0}}(\\Delta\\boldsymbol{z},\\Delta\\boldsymbol{w})=$$\n",
    "#### $$\\Delta {z}_{1}\\Delta {w}_{1} C(\\mathcal{F}^{-1}(-4\\pi^2 \\xi_1^2 e^{ -2\\pi i\\boldsymbol{z}_0\\cdot \\boldsymbol{\\xi}}\\hat{\\psi})) +(\\Delta {z}_{1}\\Delta {w}_{2} +$$\n",
    "#### $$ \\Delta {w}_{1}\\Delta {z}_{2})C(\\mathcal{F}^{-1}(-4\\pi^2 \\xi_1\\xi_2 e^{ -2\\pi i\\boldsymbol{z}_0\\cdot \\boldsymbol{\\xi}}\\hat{\\psi}))+\\Delta {z}_{2}\\Delta {w}_{2} C(\\mathcal{F}^{-1}(-4\\pi^2\\xi_2^2 e^{ -2\\pi i\\boldsymbol{z}_0\\cdot \\boldsymbol{\\xi}}\\hat{\\psi}))$$"
   ]
  },
  {
   "cell_type": "code",
   "execution_count": null,
   "id": "9839ffda",
   "metadata": {},
   "outputs": [],
   "source": [
    "def D2T(psi,x,dx1,dx2):\n",
    "    xi1 = cp.fft.fftfreq(2*psi.shape[-1]).astype('float32')\n",
    "    [xi2,xi1] = cp.meshgrid(xi1, xi1)\n",
    "    dx11 = dx1[:,:,:,None,None] \n",
    "    dx22 = dx2[:,:,:,None,None] \n",
    "    res = dx11[:,:,0]*dx22[:,:,0]*Twop(psi,x,-4*cp.pi**2*xi1**2)+ \\\n",
    "         (dx11[:,:,0]*dx22[:,:,1]+dx11[:,:,1]*dx22[:,:,0])*Twop(psi,x,-4*cp.pi**2*xi1*xi2)+ \\\n",
    "          dx11[:,:,1]*dx22[:,:,1]*Twop(psi,x,-4*cp.pi**2*xi2**2)\n",
    "    return res"
   ]
  },
  {
   "cell_type": "markdown",
   "id": "bc9b25f8",
   "metadata": {},
   "source": [
    "#### $$ DM|_{(q_0,\\psi_0,\\boldsymbol{x})}(\\Delta q, \\Delta \\psi,\\Delta\\boldsymbol{x})=$$\n",
    "#### $$ \\Big(\\Delta q\\cdot T_{\\psi_0}({\\boldsymbol{x}_{0,k}})+ q_0\\cdot \\big(T_{\\Delta \\psi}({\\boldsymbol{x}_{0,k}})+  DT_{\\psi_0}|_{{\\boldsymbol{x}_{0,k}}}( \\Delta \\boldsymbol{x}_k)\\big) \\Big)_{k=1}^K=$$\n",
    "#### $$ J(\\Delta q)\\cdot S_{\\boldsymbol{x}_{0,k}}(\\psi_0)+ J(q_0)\\cdot S_{\\boldsymbol{x}_{0}}{(\\Delta \\psi)}+  \\Big(q_0\\cdot DT_{\\psi_0}|_{{\\boldsymbol{x}_{0,k}}}( \\Delta \\boldsymbol{x}_k) \\Big)_{k=1}^K$$\n"
   ]
  },
  {
   "cell_type": "code",
   "execution_count": null,
   "id": "6e75db07",
   "metadata": {},
   "outputs": [],
   "source": [
    "def DM(psi,q,x,dpsi,dq,dx):\n",
    "    res = dq*Sop(psi,x)+q*(Sop(dpsi,x)+rho*DT(psi,x,dx))   \n",
    "    return res"
   ]
  },
  {
   "cell_type": "markdown",
   "id": "a6526ae8",
   "metadata": {},
   "source": [
    "##### $$ D^2M|_{(q_0,\\psi_0,\\boldsymbol{x})}\\big((\\Delta q^{(1)}, \\Delta \\psi^{(1)},\\Delta\\boldsymbol{x}^{(1)}),(\\Delta q^{(2)}, \\Delta \\psi^{(2)},\\Delta\\boldsymbol{x}^{(2)})\\big)= $$\n",
    "##### $$\\Big( q_0\\cdot DT_{\\Delta\\psi^{(1)}}|_{{\\boldsymbol{x}_{0,k}}}( \\Delta \\boldsymbol{x}^{(2)})+q_0\\cdot DT_{\\Delta\\psi^{(2)}}|_{{\\boldsymbol{x}_{0,k}}}( \\Delta \\boldsymbol{x}^{(1)})+ q_0\\cdot D^2{T_\\psi}|_{{\\boldsymbol{x}_0}}(\\Delta\\boldsymbol{x}^{(1)},\\Delta\\boldsymbol{x}^{(2)})+$$\n",
    "##### $$\\Delta q^{(1)}\\cdot T_{\\Delta \\psi^{(2)}}({\\boldsymbol{x}_{0,k}})+\\Delta q^{(2)}\\cdot T_{\\Delta \\psi^{(1)}}({\\boldsymbol{x}_{0,k}})+ $$\n",
    "##### $$\\Delta q^{(1)}\\cdot DT_{\\psi_0}|_{{\\boldsymbol{x}_{0,k}}}( \\Delta \\boldsymbol{x}^{(2)})+\\Delta q^{(2)}\\cdot DT_{\\psi_0}|_{{\\boldsymbol{x}_{0,k}}}( \\Delta \\boldsymbol{x}^{(1)})\\Big)_{k=1}^K.$$\n"
   ]
  },
  {
   "cell_type": "code",
   "execution_count": null,
   "id": "5a186ab6",
   "metadata": {},
   "outputs": [],
   "source": [
    "def D2M(psi,q,x,dpsi1,dq1,dx1,dpsi2,dq2,dx2):    \n",
    "    res =  q*rho*DT(dpsi1,x,dx2) + q*rho*DT(dpsi2,x,dx1) + q*rho**2*D2T(psi,x,dx1,dx2)  \n",
    "    res += dq1*Sop(dpsi2,x) + dq2*Sop(dpsi1,x) \n",
    "    res += dq1*rho*DT(psi,x,dx2) + dq2*rho*DT(psi,x,dx1)\n",
    "    return res"
   ]
  },
  {
   "cell_type": "markdown",
   "id": "0ed7cdab",
   "metadata": {},
   "source": [
    "##### $$\\mathcal{H}^G|_{ (q_0,\\psi_0,\\boldsymbol{x}_0)}\\Big((\\Delta q^{(1)},\\Delta \\psi^{(1)},\\Delta \\boldsymbol{x}^{(1)}),(\\Delta q^{(2)},\\Delta \\psi^{(2)},\\Delta \\boldsymbol{x}^{(2)})\\Big)=$$\n",
    "##### $$\\Big\\langle \\nabla F|_{M(q_0,\\psi_0,\\boldsymbol{x}_0)}, D^2M|_{(q_0,\\psi_0,\\boldsymbol{x}_0)}\\Big((\\Delta q^{(1)},\\Delta \\psi^{(1)},\\Delta \\boldsymbol{x}^{(1)}),(\\Delta q^{(2)},\\Delta \\psi^{(2)},\\Delta \\boldsymbol{x}^{(2)})\\Big)\\Big\\rangle +$$\n",
    "##### $$\\mathcal{H}^F|_{M(q_0,\\psi_0,\\boldsymbol{x}_0)}\\Big(DM|_{(q_0,\\psi_0,\\boldsymbol{x}_0)}(\\Delta q^{(1)},\\Delta \\psi^{(1)},\\Delta \\boldsymbol{x}^{(1)}),DM|_{(q_0,\\psi_0,\\boldsymbol{x}_0)}(\\Delta q^{(2)},\\Delta \\psi^{(2)},\\Delta \\boldsymbol{x}^{(2)})\\Big).$$"
   ]
  },
  {
   "cell_type": "markdown",
   "id": "f7a5ee1e",
   "metadata": {},
   "source": []
  },
  {
   "cell_type": "code",
   "execution_count": null,
   "id": "cffad99d",
   "metadata": {},
   "outputs": [],
   "source": [
    "def hessian2(psi,q,x,dpsi1,dq1,dx1,dpsi2,dq2,dx2,data):\n",
    "    gradF = gradientF(psi,q,x,data)\n",
    "    res = cp.sum(cp.real(gradF*cp.conj(D2M(psi,q,x,dpsi1,dq1,dx1,dpsi2,dq2,dx2))))\n",
    "    res += hessianF(Sop(psi,x)*q, DM(psi,q,x,dpsi1,dq1,dx1), DM(psi,q,x,dpsi2,dq2,dx2),data)         \n",
    "    return res"
   ]
  },
  {
   "cell_type": "markdown",
   "id": "62854fbe",
   "metadata": {},
   "source": []
  },
  {
   "cell_type": "code",
   "execution_count": null,
   "id": "91e7991a",
   "metadata": {},
   "outputs": [],
   "source": [
    "def rec_init(ref0,data00,shifts):\n",
    "    ref0 = cp.array(ref0)\n",
    "    data00 = cp.array(data00)\n",
    "\n",
    "    rdata = data00/ref0\n",
    "    # mshow((rdata)[0,0],show,vmax=2)\n",
    "    recMultiPaganin = cp.zeros([1,npos,ne,ne],dtype='float32')\n",
    "    recMultiPaganinr = cp.zeros([1,npos,ne,ne],dtype='float32')# to compensate for overlap\n",
    "    for j in range(0,npos):\n",
    "        r = multiPaganin(rdata[:,j:j+1],\n",
    "                            distances[j:j+1], wavelength, voxelsize,  24.05, 5e-2)    \n",
    "        rr = r*0+1 # to compensate for overlap\n",
    "        r = cp.pad(r,((0,0), (ne//2-n//2,ne//2-n//2), (ne//2-n//2,ne//2-n//2)),'constant')   \n",
    "        rr = cp.pad(rr,((0,0), (ne//2-n//2,ne//2-n//2), (ne//2-n//2,ne//2-n//2)),'constant')   \n",
    "        recMultiPaganin[:,j] = ST(r,shifts[:,j])\n",
    "        recMultiPaganinr[:,j] = ST(rr,shifts[:,j])\n",
    "        \n",
    "    recMultiPaganin = cp.sum(recMultiPaganin,axis=1)\n",
    "    recMultiPaganinr = cp.sum(recMultiPaganinr,axis=1)\n",
    "\n",
    "    # avoid division by 0\n",
    "    recMultiPaganinr[np.abs(recMultiPaganinr)<5e-2] = 1\n",
    "\n",
    "    # compensate for overlap\n",
    "    recMultiPaganin /= recMultiPaganinr\n",
    "    recMultiPaganin = cp.exp(1j*recMultiPaganin)\n",
    "\n",
    "    # mshow_polar(recMultiPaganin[0],show)\n",
    "    # mshow_polar(recMultiPaganin[0,pad:-pad,pad:-pad],show)\n",
    "    return recMultiPaganin\n"
   ]
  },
  {
   "cell_type": "code",
   "execution_count": null,
   "id": "32906064",
   "metadata": {},
   "outputs": [],
   "source": [
    "def minf(fpsi,data):\n",
    "    f = np.linalg.norm(np.abs(fpsi)-data)**2\n",
    "    return f\n",
    "\n",
    "def plot_debug2(psi,prb,shifts,etapsi,etaprb,etashift,top,bottom,gammah,data):\n",
    "    npp = 17\n",
    "    errt = np.zeros(npp*2)\n",
    "    errt2 = np.zeros(npp*2)\n",
    "    for k in range(0,npp*2):\n",
    "        psit = psi+(gammah*k/(npp-1))*etapsi\n",
    "        prbt = prb+(gammah*k/(npp-1))*etaprb\n",
    "        shiftst = shifts+(gammah*k/(npp-1))*etashift\n",
    "        fpsit = Lop(Sop(psit,shiftst*rho)*prbt)\n",
    "        errt[k] = minf(fpsit,data)    \n",
    "\n",
    "    t = gammah*(cp.arange(2*npp))/(npp-1)\n",
    "    errt2 = minf(Lop(Sop(psi,shifts*rho)*prb),data)-top*t+0.5*bottom*t**2\n",
    "    \n",
    "    plt.plot(gammah.get()*np.arange(2*npp)/(npp-1),errt,'.')\n",
    "    plt.plot(gammah.get()*np.arange(2*npp)/(npp-1),errt2.get(),'.')\n",
    "    plt.show()\n",
    "\n",
    "def plot_debug3(shifts):\n",
    "    plt.plot((shifts_gt[0,:,0]).get()-(shifts[0,:,0]).get(),'r.')\n",
    "    plt.plot((shifts_gt[0,:,1]).get()-(shifts[0,:,1]).get(),'b.')\n",
    "    plt.show()"
   ]
  },
  {
   "cell_type": "code",
   "execution_count": null,
   "id": "3e22132b",
   "metadata": {},
   "outputs": [],
   "source": [
    "def cg_holo(data, psi, prb,init_shifts, pars):\n",
    "\n",
    "    data = np.sqrt(data)    \n",
    "    shifts = init_shifts.copy()\n",
    "\n",
    "    conv = np.zeros(pars['niter'])\n",
    "    gammaha = np.zeros(pars['niter'])    \n",
    "    \n",
    "    for i in range(pars['niter']):                                                \n",
    "        print(f\"ITERATION {i}\")        \n",
    "        \n",
    "        gradpsi, gradprb, gradshift = gradients(psi,prb,shifts*rho,data)\n",
    "        print(f'gradient norms (psi, prb, shift): {cp.linalg.norm(gradpsi):.2f}, {cp.linalg.norm(gradprb):.2f}, {cp.linalg.norm(gradshift):.2f}')                        \n",
    "\n",
    "        if i==0:\n",
    "            etapsi = -gradpsi\n",
    "            etaprb = -gradprb\n",
    "            etashift = -gradshift\n",
    "        else:      \n",
    "            beta = hessian2(psi,prb,shifts*rho,gradpsi,gradprb,gradshift,etapsi,etaprb,etashift,data)/\\\n",
    "                   hessian2(psi,prb,shifts*rho, etapsi, etaprb, etashift,etapsi,etaprb,etashift,data)                        \n",
    "            etapsi = -gradpsi + beta*etapsi\n",
    "            etaprb = -gradprb + beta*etaprb\n",
    "            etashift = -gradshift + beta*etashift            \n",
    "        \n",
    "        top = -(cp.sum(cp.real(gradpsi*cp.conj(etapsi)))+\n",
    "                cp.sum(cp.real(gradprb*cp.conj(etaprb)))+\n",
    "                cp.sum(cp.real(gradshift*cp.conj(etashift))))        \n",
    "        bottom = hessian2(psi,prb,shifts*rho,etapsi,etaprb,etashift,\n",
    "                                         etapsi,etaprb,etashift,data)\n",
    "        gammah = top/bottom        \n",
    "        \n",
    "        plot_debug2(psi,prb,shifts,etapsi,etaprb,etashift,top,bottom,gammah,data)\n",
    "        \n",
    "        psi += gammah*etapsi\n",
    "        prb += gammah*etaprb\n",
    "        shifts += gammah*etashift\n",
    "        \n",
    "        plot_debug3(shifts)\n",
    "\n",
    "        if i % pars['err_step'] == 0:\n",
    "            fpsi = Lop(Sop(psi,shifts*rho)*prb)\n",
    "            err = minf(fpsi,data)\n",
    "            conv[i] = err\n",
    "            gammaha[i] = gammah\n",
    "            print(f'{i}) {gammah=}, {err=:1.5e}\\n')\n",
    "        \n",
    "    return conv,gammaha\n",
    "\n",
    "rec_psi = cp.ones([1,ne,ne],dtype='complex64')\n",
    "data = cp.array(data00.copy())\n",
    "rec_shifts = cp.array(shifts/rho)\n",
    "shifts_gt = cp.array(shifts/rho)\n",
    "rec_shifts += 4*(cp.random.random(rec_shifts.shape)-0.5)/rho\n",
    "\n",
    "rec_psi = rec_init(ref0,data00,rec_shifts*rho)\n",
    "rec_prb = cp.ones([1,n+2*pad,n+2*pad],dtype='complex64')\n",
    "pars = {'niter': 257, 'err_step': 1, 'vis_step': -1}\n",
    "\n",
    "# rec_prb = cp.array(np.load(f'{path}/data/prb_{flg}.npy'))\n",
    "# rec_psi = cp.array(np.load(f'{path}/data/psi_{flg}.npy'))\n",
    "rec_psi = rec_psi[:,rec_psi.shape[1]//2-ne//2:rec_psi.shape[1]//2+ne//2,rec_psi.shape[2]//2-ne//2:rec_psi.shape[2]//2+ne//2]\n",
    "\n",
    "conv,gammaha = cg_holo(data,rec_psi,rec_prb,rec_shifts, pars)   "
   ]
  }
 ],
 "metadata": {
  "kernelspec": {
   "display_name": "Python 3 (ipykernel)",
   "language": "python",
   "name": "python3"
  },
  "language_info": {
   "codemirror_mode": {
    "name": "ipython",
    "version": 3
   },
   "file_extension": ".py",
   "mimetype": "text/x-python",
   "name": "python",
   "nbconvert_exporter": "python",
   "pygments_lexer": "ipython3",
   "version": "3.12.4"
  }
 },
 "nbformat": 4,
 "nbformat_minor": 5
}
