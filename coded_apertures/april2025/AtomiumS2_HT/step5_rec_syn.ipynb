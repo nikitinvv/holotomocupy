{
 "cells": [
  {
   "cell_type": "code",
   "execution_count": null,
   "id": "fad77fab-e206-47c1-9655-088d14fe30cb",
   "metadata": {},
   "outputs": [],
   "source": [
    "import numpy as np\n",
    "import cupy as cp\n",
    "import h5py\n",
    "import matplotlib.pyplot as plt\n",
    "import cupyx.scipy.ndimage as ndimage\n",
    "from types import SimpleNamespace\n",
    "import pandas as pd\n",
    "\n",
    "# Use managed memory\n",
    "import h5py\n",
    "import sys\n",
    "import warnings\n",
    "warnings.filterwarnings(\"ignore\", message=f\".*peer.*\")\n",
    "\n",
    "sys.path.insert(0, '..')\n",
    "from utils import *\n",
    "from rec import Rec"
   ]
  },
  {
   "cell_type": "markdown",
   "id": "3c0fdd65-1cff-451e-865e-56cd8b7882a6",
   "metadata": {},
   "source": [
    "# Init data sizes and parametes of the PXM of ID16A"
   ]
  },
  {
   "cell_type": "code",
   "execution_count": null,
   "id": "e2b6781d",
   "metadata": {},
   "outputs": [],
   "source": [
    "step = 10\n",
    "bin = 0\n",
    "path_out = '/data/vnikitin/ESRF/ID16A/20240924_rec/AtomiumS2/AtomiumS2_HT_007nm/syn/'"
   ]
  },
  {
   "cell_type": "code",
   "execution_count": null,
   "id": "ad77f0fc",
   "metadata": {},
   "outputs": [],
   "source": [
    "with h5py.File(f'{path_out}/data.h5') as fid:\n",
    "    detector_pixelsize = fid['/exchange/detector_pixelsize'][0]    \n",
    "    focusToDetectorDistance = fid['/exchange/focusdetectordistance'][0]    \n",
    "    z1 = fid['/exchange/z1'][:]        \n",
    "    theta = fid['/exchange/theta'][::step]\n",
    "    shape = fid['/exchange/data0'][::step].shape\n",
    "    #pos_shifts-=pos_shifts[0]\n"
   ]
  },
  {
   "cell_type": "code",
   "execution_count": null,
   "id": "26f17e61",
   "metadata": {},
   "outputs": [],
   "source": [
    "theta = theta/180*np.pi"
   ]
  },
  {
   "cell_type": "code",
   "execution_count": null,
   "id": "da169abc",
   "metadata": {},
   "outputs": [],
   "source": [
    "ndist=4\n",
    "ntheta,n = shape[:2]\n",
    "\n",
    "n//=2**bin"
   ]
  },
  {
   "cell_type": "code",
   "execution_count": null,
   "id": "59fa16f2-1f9c-4b3a-a330-e10942f12234",
   "metadata": {},
   "outputs": [],
   "source": [
    "energy = 33.35  # [keV] xray energy\n",
    "wavelength = 1.2398419840550367e-09/energy  # [m] wave length\n",
    "z2 = focusToDetectorDistance-z1\n",
    "distances = (z1*z2)/focusToDetectorDistance\n",
    "magnifications = focusToDetectorDistance/z1\n",
    "norm_magnifications = magnifications/magnifications[0]\n",
    "voxelsize = detector_pixelsize/magnifications[0]*2048/n  # object voxel size\n",
    "show = True\n"
   ]
  },
  {
   "cell_type": "code",
   "execution_count": null,
   "id": "6a2d1c00",
   "metadata": {},
   "outputs": [],
   "source": [
    "pad = 0\n",
    "npsi = int(np.ceil((2048+2*pad)/norm_magnifications[-1]/16))*16  # make multiple of 8\n",
    "npsi//=(2048//n)"
   ]
  },
  {
   "cell_type": "code",
   "execution_count": null,
   "id": "21e717d2",
   "metadata": {},
   "outputs": [],
   "source": [
    "args = SimpleNamespace()\n",
    "args.ngpus = 4\n",
    "\n",
    "args.n = n\n",
    "args.ndist = ndist\n",
    "args.ntheta = ntheta\n",
    "args.pad = pad\n",
    "\n",
    "args.nq = n + 2 * pad\n",
    "args.nchunk = 16\n",
    "\n",
    "args.voxelsize = voxelsize\n",
    "args.wavelength = wavelength\n",
    "args.distance = distances\n",
    "args.eps = 1e-12\n",
    "args.rho = [1, 2, 0]\n",
    "args.lam = 0\n",
    "args.path_out = f\"/data/vnikitin/ESRF/ID16A/20240924_rec/AtomiumS2/AtomiumS2_HT_007nm/syn/\"\n",
    "args.show = True\n",
    "\n",
    "args.niter=1\n",
    "args.vis_step=1\n",
    "args.err_step=1\n",
    "args.method = \"BH-CG\"\n",
    "\n",
    "\n",
    "args.rotation_axis=796.25*n/1024#397.5*2#499.75*n//1024+npsi//2-n//2\n",
    "args.npsi = npsi\n",
    "args.theta = theta\n",
    "args.norm_magnifications = norm_magnifications\n",
    "# create class\n",
    "cl_rec = Rec(args)"
   ]
  },
  {
   "cell_type": "code",
   "execution_count": null,
   "id": "19ec19d3",
   "metadata": {},
   "outputs": [],
   "source": [
    "data = np.zeros([ntheta,ndist,n,n],dtype='float32')\n",
    "with h5py.File(f'{args.path_out}/data.h5') as fid:\n",
    "    for k in range(ndist):\n",
    "        tmp = fid[f'/exchange/data{k}'][::step].copy()\n",
    "        \n",
    "        for j in range(bin):\n",
    "            tmp = 0.5*(tmp[:,:,::2]+tmp[:,:,1::2])\n",
    "            tmp = 0.5*(tmp[:,::2,:]+tmp[:,1::2,:])        \n",
    "        data[:,k]=tmp.copy()\n",
    "    tmp = fid[f'/exchange/ref'][:]\n",
    "    for j in range(bin):\n",
    "        tmp = 0.5*(tmp[...,::2]+tmp[...,1::2])\n",
    "        tmp = 0.5*(tmp[...,::2,:]+tmp[...,1::2,:])\n",
    "    ref=tmp\n",
    "    "
   ]
  },
  {
   "cell_type": "code",
   "execution_count": null,
   "id": "4dc80e91",
   "metadata": {},
   "outputs": [],
   "source": [
    "# args.nchunk = 8\n",
    "# args.niter = 10000\n",
    "# args.vis_step=8\n",
    "# args.err_step=8\n",
    "\n",
    "# cl_rec = Rec(args)    \n",
    "# vars = {}\n",
    "# vars[\"u\"] = u_init.copy()\n",
    "# vars[\"q\"] = cp.array(q_init)\n",
    "# vars[\"r\"] = r_init.copy()\n",
    "# vars[\"r_init\"] = r_init.copy()\n",
    "# vars[\"Ru\"] = cl_rec.R(vars['u'])\n",
    "# vars[\"psi\"] = cl_rec.expR(vars['Ru'])        \n",
    "# vars[\"table\"] = pd.DataFrame(columns=[\"iter\", \"err\", \"time\"])\n",
    "\n",
    "# vars = cl_rec.BH(data, vars)  "
   ]
  },
  {
   "cell_type": "code",
   "execution_count": null,
   "id": "0dabf671",
   "metadata": {},
   "outputs": [],
   "source": [
    "n0=n\n",
    "npsi0 = npsi\n",
    "voxelsize0 = voxelsize"
   ]
  },
  {
   "cell_type": "code",
   "execution_count": null,
   "id": "f77b63ee",
   "metadata": {},
   "outputs": [],
   "source": [
    "import scipy as sp\n",
    "\n",
    "def _downsample(data, binning):\n",
    "    res = data.copy()\n",
    "    for k in range(binning):\n",
    "        res = 0.5*(res[..., ::2,:]+res[..., 1::2,:])\n",
    "        res = 0.5*(res[..., :, ::2]+res[..., :, 1::2])\n",
    "    return res\n",
    "\n",
    "def _downsample3d(data, binning):\n",
    "    res = data.copy()\n",
    "    for k in range(binning):\n",
    "        res = 0.5*(res[..., ::2,:,:]+res[..., 1::2,:, :])\n",
    "        res = 0.5*(res[..., ::2,:]+res[..., 1::2,:])\n",
    "        res = 0.5*(res[..., :, ::2]+res[..., :, 1::2])\n",
    "    return res\n",
    "\n",
    "def _fftupsample(f, dims):\n",
    "    paddim = np.zeros([np.ndim(f), 2], dtype='int32')\n",
    "    dims = np.asarray(dims).astype('int32')\n",
    "    paddim[dims, 0] = np.asarray(f.shape)[dims]//2\n",
    "    paddim[dims, 1] = np.asarray(f.shape)[dims]//2\n",
    "    fsize = f.size\n",
    "    f = sp.fft.ifftshift(sp.fft.fftn(sp.fft.fftshift(\n",
    "        f, dims), axes=dims, workers=-1), dims)\n",
    "    f = np.pad(f, paddim)\n",
    "    f = sp.fft.fftshift(f, dims)\n",
    "    f = sp.fft.ifftn(f, axes=dims, workers=-1)\n",
    "    f = sp.fft.ifftshift(f, dims)\n",
    "    return f.astype('complex64')*(f.size/fsize)"
   ]
  },
  {
   "cell_type": "code",
   "execution_count": null,
   "id": "604231d4",
   "metadata": {},
   "outputs": [],
   "source": [
    "nlevels = 3\n",
    "iters = np.array([385,129,65])\n",
    "# iters = np.array([17,17,17])\n",
    "vis_steps = [8,8,8]\n",
    "err_steps = [8,8,8]\n",
    "chunks = [32,8,2]\n",
    "\n",
    "for level in range(nlevels):    \n",
    "    print(f'{level=}')    \n",
    "\n",
    "    args.n = n0//2**(nlevels-level-1)\n",
    "    args.npsi = npsi0//2**(nlevels-level-1)\n",
    "    args.nq = (n + args.pad)//2**(nlevels-level-1)    \n",
    "    args.voxelsize = voxelsize*2**(nlevels-level-1)    \n",
    "\n",
    "    args.nchunk = chunks[level]\n",
    "    args.niter=iters[level]\n",
    "    args.vis_step=vis_steps[level]\n",
    "    args.err_step=err_steps[level]\n",
    "    args.rotation_axis=796.25/2**(nlevels-level-1)\n",
    "    args.rho = [1,2*(level+1),2]\n",
    "\n",
    "    if level==0:\n",
    "        vars = {}                \n",
    "        with h5py.File(f'{args.path_out}/data.h5') as fid:\n",
    "            u_init = fid['/exchange/u_init_re'][:]+1j*fid['/exchange/u_init_imag'][:]                \n",
    "            r_init = fid[f'/exchange/shifts_error'][::step]*n/2048/2**(nlevels-1)#*n/2048#/norm_magnifications[:,np.newaxis]# in init coordinates! not scaled            \n",
    "        u = u_init.copy()\n",
    "        #q = q_init.copy()\n",
    "        r = r_init.copy()\n",
    "    else:\n",
    "        u = _fftupsample(0.5*vars['u'],[0])\n",
    "        u = _fftupsample(u,[1])\n",
    "        u = _fftupsample(u,[2])        \n",
    "        # q = _fftupsample(vars['q'].get(),[1])\n",
    "        # q = _fftupsample(q,[2])        \n",
    "        r = vars['r']*2\n",
    "\n",
    "    data_bin = _downsample(data,nlevels-level-1)    \n",
    "    ref_bin = _downsample(ref,nlevels-level-1)    \n",
    "    cl_rec = Rec(args)    \n",
    "    q_init = np.ones([ndist,args.nq,args.nq],dtype='complex64')        \n",
    "    for j in range(ndist):\n",
    "        q_init[j] = cl_rec.DT(np.sqrt(ref_bin[j:j+1]),j)[0]\n",
    "    q = q_init.copy()\n",
    "\n",
    "    vars[\"u\"] = u\n",
    "    vars[\"q\"] = cp.array(q)\n",
    "    vars[\"r\"] = r\n",
    "    with h5py.File(f'{args.path_out}/data.h5') as fid:\n",
    "        vars[\"r_init\"] = fid[f'/exchange/cshifts_final'][::step]*n/2048/2**(nlevels-1)\n",
    "    vars[\"Ru\"] = cl_rec.R(vars['u'])\n",
    "    vars[\"psi\"] = cl_rec.expR(vars['Ru'])        \n",
    "    vars[\"table\"] = pd.DataFrame(columns=[\"iter\", \"err\", \"time\"])    \n",
    "    vars = cl_rec.BH(data_bin, vars)  \n",
    "    \n",
    "    "
   ]
  }
 ],
 "metadata": {
  "kernelspec": {
   "display_name": "holotomocupy",
   "language": "python",
   "name": "python3"
  },
  "language_info": {
   "codemirror_mode": {
    "name": "ipython",
    "version": 3
   },
   "file_extension": ".py",
   "mimetype": "text/x-python",
   "name": "python",
   "nbconvert_exporter": "python",
   "pygments_lexer": "ipython3",
   "version": "3.12.8"
  }
 },
 "nbformat": 4,
 "nbformat_minor": 5
}
