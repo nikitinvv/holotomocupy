{
 "cells": [
  {
   "cell_type": "code",
   "execution_count": 1,
   "metadata": {},
   "outputs": [],
   "source": [
    "import cupy as cp\n",
    "import matplotlib.pyplot as plt\n",
    "import pandas as pd\n",
    "import sys\n",
    "from types import SimpleNamespace\n",
    "import warnings\n",
    "warnings.filterwarnings(\"ignore\", message=f\".*peer.*\")\n",
    "\n",
    "\n",
    "sys.path.insert(0, '..')\n",
    "from utils import *\n",
    "from rec import Rec\n",
    "\n",
    "%matplotlib inline"
   ]
  },
  {
   "cell_type": "markdown",
   "metadata": {},
   "source": [
    "## Sizes and propagation settings"
   ]
  },
  {
   "cell_type": "code",
   "execution_count": 2,
   "metadata": {},
   "outputs": [
    {
     "data": {
      "text/plain": [
       "-0.017996142578125"
      ]
     },
     "execution_count": 2,
     "metadata": {},
     "output_type": "execute_result"
    }
   ],
   "source": [
    "energy = 33.5\n",
    "wavelength = 1.24e-09 / energy\n",
    "z1 = -17.75e-3  # [m] position of the sample\n",
    "detector_pixelsize = 3.03751e-6\n",
    "focusToDetectorDistance = 1.28  # [m]\n",
    "# adjustments for the cone beam\n",
    "z2 = focusToDetectorDistance - z1\n",
    "distance = (z1 * z2) / focusToDetectorDistance\n",
    "magnification = focusToDetectorDistance / z1\n",
    "voxelsize = float(cp.abs(detector_pixelsize / magnification))\n",
    "path = f\"/data/vnikitin/ESRF/ID16A/20240924/SiemensLH/code2um_nfp18x18_01\"\n",
    "distance"
   ]
  },
  {
   "cell_type": "code",
   "execution_count": null,
   "metadata": {},
   "outputs": [],
   "source": [
    "args = SimpleNamespace()\n",
    "\n",
    "args.ngpus = 4#int(sys.args[1])\n",
    "args.lam = 0.05#float(sys.args[2])\n",
    "\n",
    "args.n = 2048\n",
    "args.npsi = 8192+512\n",
    "args.pad = args.n // 4\n",
    "args.nq = args.n + 2 * args.pad\n",
    "args.ex = 16\n",
    "args.npatch = args.nq + 2 * args.ex\n",
    "args.npos = 18 * 18\n",
    "args.nchunk = 4\n",
    "\n",
    "args.voxelsize = voxelsize\n",
    "args.wavelength = wavelength\n",
    "args.distance = distance\n",
    "args.eps = 1e-12\n",
    "args.rho = [1, 2, 0.1]\n",
    "args.crop = 2 * args.pad\n",
    "args.path_out = f\"/data/vnikitin/ESRF/ID16A/20240924_rec0224/SiemensLH/code2um_nfp18x18_01/bets_{args.crop}_{args.lam}\"\n",
    "\n",
    "args.niter = 128\n",
    "args.err_step = 1\n",
    "args.vis_step = 4\n",
    "args.method = \"BH-CG\"\n",
    "args.show = True\n",
    "\n",
    "# create class\n",
    "cl_rec = Rec(args)"
   ]
  },
  {
   "cell_type": "code",
   "execution_count": null,
   "metadata": {},
   "outputs": [],
   "source": []
  },
  {
   "cell_type": "markdown",
   "metadata": {},
   "source": [
    "## read data"
   ]
  },
  {
   "cell_type": "code",
   "execution_count": null,
   "metadata": {},
   "outputs": [],
   "source": [
    "import h5py\n",
    "\n",
    "npos = args.npos\n",
    "pos_step = 1  # steps in positions\n",
    "with h5py.File(f\"{path}/code2um_nfp18x18_010000.h5\") as fid:\n",
    "    data = fid[\"/entry_0000/measurement/data\"][: args.npos].astype(\"float32\")\n",
    "\n",
    "with h5py.File(f\"{path}/ref_0000.h5\") as fid:\n",
    "    ref = fid[\"/entry_0000/measurement/data\"][:].astype(\"float32\")\n",
    "with h5py.File(f\"{path}/dark_0000.h5\") as fid:\n",
    "    dark = fid[\"/entry_0000/measurement/data\"][:].astype(\"float32\")\n",
    "\n",
    "pos_init = np.loadtxt(\n",
    "    f\"/data/vnikitin/ESRF/ID16A/20240924/positions/shifts_code_nfp18x18ordered.txt\"\n",
    ")[:, ::-1]\n",
    "pos_init = pos_init / voxelsize * (2048 // args.n) * 1e-6\n",
    "pos_init[:, 1] *= -1\n",
    "\n",
    "print(pos_init[-4:])\n",
    "pos_init = np.load(f\"shifts_new.npy\")\n",
    "print(pos_init[-4:])\n",
    "# centering\n",
    "pos_init[:, 1] -= (np.amax(pos_init[:, 1]) + np.amin(pos_init[:, 1])) / 2\n",
    "pos_init[:, 0] -= (np.amax(pos_init[:, 0]) + np.amin(pos_init[:, 0])) / 2\n",
    "pos_init = pos_init.reshape(int(np.sqrt(args.npos)), int(np.sqrt(args.npos)), 2)\n",
    "pos_init = pos_init[::pos_step, ::pos_step, :].reshape(args.npos // pos_step**2, 2)\n",
    "data = data.reshape(int(np.sqrt(args.npos)), int(np.sqrt(args.npos)), args.n, args.n)\n",
    "data = data[::pos_step, ::pos_step, :].reshape(npos // pos_step**2, args.n, args.n)\n",
    "\n",
    "ids = np.where(\n",
    "    (np.abs(pos_init[:, 0]) < args.npsi // 2 - args.n // 2 - args.pad - args.ex)\n",
    "    * (np.abs(pos_init[:, 1]) < args.npsi // 2 - args.n // 2 - args.pad - args.ex)\n",
    ")[0]  \n",
    "data = data[ids]\n",
    "pos_init = pos_init[ids]\n",
    "\n",
    "mplot_positions(pos_init,args.show)\n",
    "\n",
    "npos = len(ids)\n",
    "args.npos = npos\n",
    "print(f\"{npos=}\")"
   ]
  },
  {
   "cell_type": "markdown",
   "metadata": {},
   "source": [
    "# remove outliers from data"
   ]
  },
  {
   "cell_type": "code",
   "execution_count": null,
   "metadata": {},
   "outputs": [],
   "source": [
    "import cupyx.scipy.ndimage as ndimage\n",
    "\n",
    "\n",
    "def remove_outliers(data, dezinger, dezinger_threshold):\n",
    "    res = data.copy()\n",
    "    w = [dezinger, dezinger]\n",
    "    for k in range(data.shape[0]):\n",
    "        data0 = cp.array(data[k])\n",
    "        fdata = ndimage.median_filter(data0, w)\n",
    "        print(np.sum(np.abs(data0 - fdata) > fdata * dezinger_threshold))\n",
    "        res[k] = np.where(\n",
    "            np.abs(data0 - fdata) > fdata * dezinger_threshold, fdata, data0\n",
    "        ).get()\n",
    "    return res\n",
    "\n",
    "\n",
    "dark = np.mean(dark, axis=0)\n",
    "ref = np.mean(ref, axis=0)\n",
    "data -= dark\n",
    "ref -= dark\n",
    "\n",
    "data[data < 0] = 0\n",
    "ref[ref < 0] = 0\n",
    "data[:, 1320 // 3 : 1320 // 3 + 25 // 3, 890 // 3 : 890 // 3 + 25 // 3] = data[\n",
    "    :, 1280 // 3 : 1280 // 3 + 25 // 3, 890 // 3 : 890 // 3 + 25 // 3\n",
    "]\n",
    "ref[1320 // 3 : 1320 // 3 + 25 // 3, 890 // 3 : 890 // 3 + 25 // 3] = ref[\n",
    "    1280 // 3 : 1280 // 3 + 25 // 3, 890 // 3 : 890 // 3 + 25 // 3\n",
    "]\n",
    "\n",
    "data = remove_outliers(data, 3, 0.8)\n",
    "ref = remove_outliers(ref[None], 3, 0.8)[0]\n",
    "\n",
    "data /= np.mean(ref)\n",
    "ref /= np.mean(ref)\n",
    "\n",
    "data[np.isnan(data)] = 1\n",
    "ref[np.isnan(ref)] = 1\n",
    "\n",
    "mshow(data[0],args.show)\n",
    "mshow(ref,args.show)"
   ]
  },
  {
   "cell_type": "markdown",
   "metadata": {},
   "source": [
    "# initial guess for the object"
   ]
  },
  {
   "cell_type": "code",
   "execution_count": null,
   "metadata": {},
   "outputs": [],
   "source": [
    "def Paganin(data, wavelength, voxelsize, delta_beta, alpha):\n",
    "    fx = cp.fft.fftfreq(data.shape[-1], d=voxelsize).astype(\"float32\")\n",
    "    [fx, fy] = cp.meshgrid(fx, fx)\n",
    "    rad_freq = cp.fft.fft2(data)\n",
    "    taylorExp = 1 + wavelength * distance * cp.pi * (delta_beta) * (fx**2 + fy**2)\n",
    "    numerator = taylorExp * (rad_freq)\n",
    "    denominator = taylorExp**2 + alpha\n",
    "    phase = cp.log(cp.real(cp.fft.ifft2(numerator / denominator)))\n",
    "    phase = delta_beta * 0.5 * phase\n",
    "    return phase\n",
    "\n",
    "\n",
    "def rec_init(rdata, ipos_init):\n",
    "    recMultiPaganin = cp.zeros([args.npsi, args.npsi], dtype=\"float32\")\n",
    "    recMultiPaganinr = cp.zeros(\n",
    "        [args.npsi, args.npsi], dtype=\"float32\"\n",
    "    )  # to compensate for overlap\n",
    "    for j in range(0, npos):\n",
    "        r = cp.array(rdata[j])\n",
    "        r = Paganin(r, wavelength, voxelsize, 24.05, 1e-1)\n",
    "        rr = r * 0 + 1  # to compensate for overlap\n",
    "        rpsi = cp.zeros([args.npsi, args.npsi], dtype=\"float32\")\n",
    "        rrpsi = cp.zeros([args.npsi, args.npsi], dtype=\"float32\")\n",
    "        stx = args.npsi // 2 - ipos_init[j, 1] - args.n // 2\n",
    "        endx = stx + args.n\n",
    "        sty = args.npsi // 2 - ipos_init[j, 0] - args.n // 2\n",
    "        endy = sty + args.n\n",
    "        rpsi[sty:endy, stx:endx] = r\n",
    "        rrpsi[sty:endy, stx:endx] = rr\n",
    "\n",
    "        recMultiPaganin += rpsi\n",
    "        recMultiPaganinr += rrpsi\n",
    "\n",
    "    recMultiPaganinr[np.abs(recMultiPaganinr) < 5e-2] = 1\n",
    "    recMultiPaganin /= recMultiPaganinr\n",
    "    recMultiPaganin = np.exp(1j * recMultiPaganin)\n",
    "    return recMultiPaganin\n",
    "\n",
    "\n",
    "ipos_init = np.round(np.array(pos_init)).astype(\"int32\")\n",
    "rdata = np.array(data / (ref + 1e-5))\n",
    "psi_init = rec_init(rdata, ipos_init)\n",
    "mshow_polar(psi_init,args.show)\n",
    "mshow_polar(psi_init[:1000, :1000],args.show)\n",
    "\n",
    "# smooth borders\n",
    "v = cp.arange(-args.npsi // 2,args.npsi // 2) / args.npsi\n",
    "[vx, vy] = cp.meshgrid(v, v)\n",
    "v = cp.exp(-1000 * (vx**2 + vy**2)).astype(\"float32\")\n",
    "\n",
    "psi_init = cp.fft.fftshift(cp.fft.fftn(cp.fft.fftshift(psi_init)))\n",
    "psi_init = cp.fft.fftshift(cp.fft.ifftn(cp.fft.fftshift(psi_init * v))).astype(\n",
    "    \"complex64\"\n",
    ")\n",
    "mshow_polar(psi_init,args.show)\n",
    "mshow_polar(psi_init[:1000, :1000],args.show)\n",
    "\n",
    "rdata = v = []"
   ]
  },
  {
   "cell_type": "markdown",
   "metadata": {},
   "source": [
    "#### Initial guess for the probe calculated by backpropagating the square root of the reference image\n",
    "#### Smooth the probe borders for stability"
   ]
  },
  {
   "cell_type": "code",
   "execution_count": null,
   "metadata": {},
   "outputs": [],
   "source": [
    "q_init = cp.array(cl_rec.DT(np.sqrt(ref[np.newaxis]))[0])\n",
    "\n",
    "ppad = 3 * args.pad // 2\n",
    "q_init = np.pad(\n",
    "    q_init[ppad : args.nq - ppad, ppad : args.nq - ppad],\n",
    "    ((ppad, ppad), (ppad, ppad)),\n",
    "    \"symmetric\",\n",
    ")\n",
    "v = cp.ones(args.nq, dtype=\"float32\")\n",
    "vv = cp.sin(cp.linspace(0, cp.pi / 2, ppad))\n",
    "v[:ppad] = vv\n",
    "v[args.nq - ppad :] = vv[::-1]\n",
    "v = cp.outer(v, v)\n",
    "q_init = cp.abs(q_init * v) * cp.exp(1j * cp.angle(q_init) * v)\n",
    "\n",
    "mshow_polar(q_init,args.show)"
   ]
  },
  {
   "cell_type": "code",
   "execution_count": null,
   "metadata": {},
   "outputs": [],
   "source": [
    "# variables\n",
    "vars = {}\n",
    "vars[\"psi\"] = cp.array(psi_init)\n",
    "vars[\"q\"] = cp.array(q_init)\n",
    "vars[\"ri\"] = np.floor(pos_init).astype(\"int32\")\n",
    "vars[\"r\"] = np.array(pos_init - vars[\"ri\"]).astype(\"float32\")\n",
    "vars[\"table\"] = pd.DataFrame(columns=[\"iter\", \"err\", \"time\"])\n",
    "\n",
    "# reconstruction\n",
    "vars = cl_rec.BH(data, ref, vars)\n"
   ]
  },
  {
   "cell_type": "code",
   "execution_count": null,
   "metadata": {},
   "outputs": [],
   "source": [
    "# results\n",
    "erra = vars[\"table\"][\"err\"].values\n",
    "plt.plot(erra)\n",
    "plt.yscale(\"log\")\n",
    "plt.grid()\n",
    "mshow_polar(vars[\"psi\"],args.show)\n",
    "mshow_polar(vars[\"q\"],args.show)\n",
    "pos_rec = vars[\"ri\"] + vars[\"r\"]\n",
    "if args.show:\n",
    "    plt.plot((pos_init[:, 1] - pos_rec[:, 1]), \".\", label=\"x difference\")\n",
    "    plt.plot((pos_init[:, 0] - pos_rec[:, 0]), \".\", label=\"y difference\")\n",
    "    plt.legend()\n",
    "    plt.grid()\n",
    "    plt.plot()"
   ]
  }
 ],
 "metadata": {
  "kernelspec": {
   "display_name": "holotomocupy",
   "language": "python",
   "name": "python3"
  },
  "language_info": {
   "codemirror_mode": {
    "name": "ipython",
    "version": 3
   },
   "file_extension": ".py",
   "mimetype": "text/x-python",
   "name": "python",
   "nbconvert_exporter": "python",
   "pygments_lexer": "ipython3",
   "version": "3.12.8"
  }
 },
 "nbformat": 4,
 "nbformat_minor": 2
}
