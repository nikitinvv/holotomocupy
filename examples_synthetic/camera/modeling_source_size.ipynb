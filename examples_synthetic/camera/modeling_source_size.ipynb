{
 "cells": [
  {
   "cell_type": "code",
   "execution_count": null,
   "metadata": {},
   "outputs": [],
   "source": [
    "import cupy as cp\n",
    "import numpy as np\n",
    "import cv2\n",
    "import xraylib\n",
    "import matplotlib.pyplot as plt\n",
    "\n",
    "\n",
    "%matplotlib inline"
   ]
  },
  {
   "cell_type": "markdown",
   "metadata": {},
   "source": [
    "# acquisiton parameters"
   ]
  },
  {
   "cell_type": "code",
   "execution_count": null,
   "metadata": {},
   "outputs": [],
   "source": [
    "n = 512  # object size in each dimension\n",
    "voxelsize = 1e-6 # [m]\n",
    "energy = 30  # [keV] xray energy\n",
    "wavelength = 1.24e-09/energy  # [m] wave length\n",
    "distance = cp.array([0.1,0.2,0.3,0.4,0.5,0.6])\n",
    "d = 1e-6*2048 \n",
    "(d/2)**2/wavelength/50"
   ]
  },
  {
   "cell_type": "markdown",
   "metadata": {},
   "source": [
    "### visualization function for complex arrays with zooming "
   ]
  },
  {
   "cell_type": "code",
   "execution_count": null,
   "metadata": {},
   "outputs": [],
   "source": [
    "def mshow_polar(a, **args):    \n",
    "    fig, axs = plt.subplots(1, 2, figsize=(9, 3))\n",
    "    im = axs[0].imshow(cp.abs(a).get(), cmap='gray', **args)\n",
    "    axs[0].set_title('abs')\n",
    "    fig.colorbar(im, fraction=0.046, pad=0.04)\n",
    "    im = axs[1].imshow(cp.angle(a).get(), cmap='gray', **args)\n",
    "    axs[1].set_title('phase')\n",
    "    fig.colorbar(im, fraction=0.046, pad=0.04)\n",
    "    plt.show()\n",
    "    \n",
    "    n = a.shape[-1]\n",
    "    fig, axs = plt.subplots(1, 2, figsize=(9, 3))\n",
    "    im = axs[0].imshow(cp.abs(a[n//2-n//8:n//2+n//8,0:n//4]).get(), cmap='gray', **args)\n",
    "    axs[0].set_title('abs')\n",
    "    fig.colorbar(im, fraction=0.046, pad=0.04)\n",
    "    im = axs[1].imshow(cp.angle(a[n//2-n//8:n//2+n//8,0:n//4]).get(), cmap='gray', **args)\n",
    "    axs[1].set_title('phase')\n",
    "    fig.colorbar(im, fraction=0.046, pad=0.04)\n",
    "    plt.show()"
   ]
  },
  {
   "cell_type": "markdown",
   "metadata": {},
   "source": [
    "# siemens star object"
   ]
  },
  {
   "cell_type": "code",
   "execution_count": null,
   "metadata": {},
   "outputs": [],
   "source": [
    "img = np.zeros((n, n, 3), np.uint8)\n",
    "triangle = np.array([(n//16, n//2-n//32), (n//16, n//2+n//32), (n//2-n//128, n//2)], np.float32)\n",
    "star = img[:,:,0]*0\n",
    "for i in range(0, 360, 15):\n",
    "    img = np.zeros((n, n, 3), np.uint8)\n",
    "    degree = i\n",
    "    theta = degree * np.pi / 180\n",
    "    rot_mat = np.array([[np.cos(theta), -np.sin(theta)],\n",
    "                        [np.sin(theta), np.cos(theta)]], np.float32)    \n",
    "    rotated = cv2.gemm(triangle-n//2, rot_mat, 1, None, 1, flags=cv2.GEMM_2_T)+n//2\n",
    "    cv2.fillPoly(img, [np.int32(rotated)], (255, 0, 0))\n",
    "    star+=img[:,:,0]\n",
    "[x,y] = np.meshgrid(np.arange(-n//2,n//2),np.arange(-n//2,n//2))\n",
    "x = x/n*2\n",
    "y = y/n*2\n",
    "# add holes in triangles\n",
    "circ = (x**2+y**2>0.355)+(x**2+y**2<0.345)\n",
    "circ *= (x**2+y**2>0.083)+(x**2+y**2<0.08)\n",
    "circ *= (x**2+y**2>0.0085)+(x**2+y**2<0.008)\n",
    "star = star*circ/255\n",
    "\n",
    "# smooth\n",
    "v = np.arange(-n//2,n//2)/n\n",
    "[vx,vy] = np.meshgrid(v,v)\n",
    "v = np.exp(-5*(vx**2+vy**2))\n",
    "fu = np.fft.fftshift(np.fft.fftn(np.fft.fftshift(star)))\n",
    "star = np.fft.fftshift(np.fft.ifftn(np.fft.fftshift(fu*v))).real\n",
    "\n",
    "# define complex refractive index\n",
    "delta = 1-xraylib.Refractive_Index_Re('Au',energy,19.3)\n",
    "beta = xraylib.Refractive_Index_Im('Au',energy,19.3)\n",
    "\n",
    "thickness = 3e-6/voxelsize # siemens star thickness in pixels\n",
    "# form Transmittance function\n",
    "u = star*(-delta+1j*beta) # note -delta\n",
    "Ru = u*thickness \n",
    "psi = np.exp(1j * Ru * voxelsize * 2 * np.pi / wavelength).astype('complex64')\n",
    "\n",
    "psi = cp.array(psi)\n",
    "mshow_polar(psi)\n"
   ]
  },
  {
   "cell_type": "markdown",
   "metadata": {},
   "source": [
    "# define the Fresnel transform"
   ]
  },
  {
   "cell_type": "code",
   "execution_count": null,
   "metadata": {},
   "outputs": [],
   "source": [
    "def D(psi):\n",
    "    fpsi = cp.zeros([len(distance),n,n],dtype='complex64')\n",
    "    fx = cp.fft.fftfreq(2*n, d=voxelsize).astype('float32')\n",
    "    [fx, fy] = cp.meshgrid(fx, fx)\n",
    "    psi = cp.pad(psi,((n//2,n//2),(n//2,n//2)))\n",
    "    for k in range(len(distance)):\n",
    "        fP = cp.exp(1j*cp.pi*wavelength*distance[k]*(fx**2+fy**2))\n",
    "        fpsi0 = cp.fft.ifft2(cp.fft.fft2(psi)*fP)   \n",
    "        fpsi[k] = fpsi0[n//2:-n//2,n//2:-n//2]\n",
    "    return fpsi\n",
    "\n",
    "def DT(fpsi):\n",
    "    psi = cp.zeros([n,n],dtype='complex64')\n",
    "    fx = cp.fft.fftfreq(2*n, d=voxelsize).astype('float32')\n",
    "    [fx, fy] = cp.meshgrid(fx, fx)    \n",
    "    for k in range(len(distance)):\n",
    "        fpsi0 = cp.pad(fpsi[k],((n//2,n//2),(n//2,n//2)))\n",
    "        fP = cp.exp(-1j*cp.pi*wavelength*distance[k]*(fx**2+fy**2))\n",
    "        psi0 = cp.fft.ifft2(cp.fft.fft2(fpsi0)*fP)   \n",
    "        psi += psi0[n//2:-n//2,n//2:-n//2]\n",
    "    return psi\n",
    "# psi = cp.random.random([n,n]).astype('complex64')\n",
    "Dpsi = D(psi)\n",
    "DTpsi = DT(Dpsi)\n",
    "\n",
    "print(cp.sum(psi*cp.conj(DTpsi)))\n",
    "print(cp.sum(Dpsi*cp.conj(Dpsi)))"
   ]
  },
  {
   "cell_type": "markdown",
   "metadata": {},
   "source": [
    "# model data"
   ]
  },
  {
   "cell_type": "code",
   "execution_count": null,
   "metadata": {},
   "outputs": [],
   "source": [
    "fpsi = D(psi)\n",
    "data = np.abs(fpsi)**2\n",
    "mshow_polar(data[-1])"
   ]
  },
  {
   "cell_type": "code",
   "execution_count": null,
   "metadata": {},
   "outputs": [],
   "source": [
    "def multiPaganin(data, distances, wavelength, voxelsize, delta_beta,  alpha):   \n",
    "    fx = cp.fft.fftfreq(n, d=voxelsize).astype('float32')\n",
    "    [fx, fy] = cp.meshgrid(fx, fx)\n",
    "\n",
    "    numerator = 0\n",
    "    denominator = 0\n",
    "    for j in range(0, len(distance)):\n",
    "        rad_freq = cp.fft.fft2(data[j])\n",
    "        taylorExp = 1 + wavelength * distances[j] * cp.pi * (delta_beta) * (fx**2+fy**2)\n",
    "        numerator = numerator + taylorExp * (rad_freq)\n",
    "        denominator = denominator + taylorExp**2\n",
    "\n",
    "    numerator = numerator / len(distances)\n",
    "    denominator = (denominator / len(distances)) + alpha\n",
    "\n",
    "    phase = cp.log(cp.real(cp.fft.ifft2(numerator / denominator)))\n",
    "    phase = (delta_beta) * 0.5 * phase\n",
    "\n",
    "    return phase\n",
    "\n",
    "rec_paganin = np.exp(1j*multiPaganin(data, distance, wavelength, voxelsize, delta/beta,  1e-5))\n",
    "mshow_polar(rec_paganin)"
   ]
  },
  {
   "cell_type": "markdown",
   "metadata": {},
   "source": [
    "\n",
    "### construct a CG solver for \n",
    "### $\\argmin_\\psi F(\\psi) =\\argmin_\\psi\\||D\\psi|-\\sqrt{d}\\|_2^2$"
   ]
  },
  {
   "cell_type": "markdown",
   "metadata": {},
   "source": [
    "#### gradient: $$\\nabla F_\\psi=2 \\left(D^*\\left( D\\psi-\\frac{D(\\psi)}{|D\\psi|}\\right)\\right).$$\n",
    "#### hessian:\n",
    "##### $$\\frac{1}{2}\\mathcal{H}|_{\\psi_0}(\\psi_1,\\psi_2)= \\left\\langle \\mathbf{1}-d_{0}, \\mathsf{Re}({D(\\psi_1)}\\overline{D(\\psi_2)})\\right\\rangle+\\left\\langle d_{0},(\\mathsf{Re} (\\overline{l_0}\\cdot D(\\psi_1)))\\cdot (\\mathsf{Re} (\\overline{l_0}\\cdot D(\\psi_2)))\\right\\rangle.$$\n",
    "##### $$l_0=D(\\psi_0)/|D(\\psi_0)|$$\n",
    "##### $$d_0=d/|D(\\psi_0)|$$\n"
   ]
  },
  {
   "cell_type": "code",
   "execution_count": null,
   "metadata": {},
   "outputs": [],
   "source": [
    "def gradientF(psi,d):\n",
    "    Dpsi = D(psi)\n",
    "    td = d*(Dpsi/np.abs(Dpsi))\n",
    "    res = 2*DT(Dpsi - td)\n",
    "    return res\n",
    "\n",
    "def hessianF(psi,psi1,psi2,data):\n",
    "    Dpsi = D(psi)\n",
    "    Dpsi1 = D(psi1)\n",
    "    Dpsi2 = D(psi2)\n",
    "    l0 = Dpsi/np.abs(Dpsi)\n",
    "    d0 = data/np.abs(Dpsi)\n",
    "    v1 = np.sum((1-d0)*np.real(Dpsi1*np.conj(Dpsi2)))\n",
    "    v2 = np.sum(d0*np.real(l0*np.conj(Dpsi1))*np.real(l0*np.conj(Dpsi2)))    \n",
    "    return 2*(v1+v2)"
   ]
  },
  {
   "cell_type": "code",
   "execution_count": null,
   "metadata": {},
   "outputs": [],
   "source": [
    "def cg_holo(data, psi, niter):\n",
    "\n",
    "    data = cp.sqrt(data)    \n",
    "\n",
    "    for i in range(niter): \n",
    "        gradpsi = gradientF(psi,data)\n",
    "        \n",
    "        if i==0:\n",
    "            etapsi = -gradpsi\n",
    "        else:      \n",
    "            beta = hessianF(psi,gradpsi,etapsi,data)/\\\n",
    "                   hessianF(psi,etapsi, etapsi,data)                        \n",
    "            etapsi = -gradpsi + beta*etapsi\n",
    "            \n",
    "        top = -cp.sum(cp.real(gradpsi*cp.conj(etapsi)))               \n",
    "        bottom = hessianF(psi,etapsi,etapsi,data)\n",
    "        alpha = top/bottom        \n",
    "        \n",
    "        psi += alpha*etapsi\n",
    "        \n",
    "        if i % 32 == 0:\n",
    "            mshow_polar(psi)\n",
    "            \n",
    "        Dpsi = D(psi)\n",
    "        err = cp.linalg.norm(cp.abs(Dpsi)-data)**2\n",
    "        print(f'{i}) {alpha=:.5f}, {err=:1.5e}')\n",
    "            \n",
    "    return psi\n",
    "\n",
    "psi = rec_paganin#cp.ones([n,n],dtype='complex64')\n",
    "psi = cg_holo(data,psi,129)   "
   ]
  },
  {
   "cell_type": "code",
   "execution_count": null,
   "metadata": {},
   "outputs": [],
   "source": []
  },
  {
   "cell_type": "code",
   "execution_count": null,
   "metadata": {},
   "outputs": [],
   "source": []
  }
 ],
 "metadata": {
  "kernelspec": {
   "display_name": "holotomocupy",
   "language": "python",
   "name": "python3"
  },
  "language_info": {
   "codemirror_mode": {
    "name": "ipython",
    "version": 3
   },
   "file_extension": ".py",
   "mimetype": "text/x-python",
   "name": "python",
   "nbconvert_exporter": "python",
   "pygments_lexer": "ipython3",
   "version": "3.12.4"
  }
 },
 "nbformat": 4,
 "nbformat_minor": 2
}
