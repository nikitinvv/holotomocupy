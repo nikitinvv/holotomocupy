{
 "cells": [
  {
   "cell_type": "code",
   "execution_count": null,
   "id": "fad77fab-e206-47c1-9655-088d14fe30cb",
   "metadata": {},
   "outputs": [],
   "source": [
    "import numpy as np\n",
    "import cupy as cp\n",
    "import h5py\n",
    "import matplotlib.pyplot as plt\n",
    "import cupyx.scipy.ndimage as ndimage\n",
    "from types import SimpleNamespace\n",
    "\n",
    "# Use managed memory\n",
    "import h5py\n",
    "import sys\n",
    "import warnings\n",
    "warnings.filterwarnings(\"ignore\", message=f\".*peer.*\")\n",
    "\n",
    "sys.path.insert(0, '..')\n",
    "from utils import *\n",
    "from rec import Rec"
   ]
  },
  {
   "cell_type": "markdown",
   "id": "9c2dafdf",
   "metadata": {},
   "source": []
  },
  {
   "cell_type": "markdown",
   "id": "3c0fdd65-1cff-451e-865e-56cd8b7882a6",
   "metadata": {},
   "source": [
    "# Init data sizes and parametes of the PXM of ID16A"
   ]
  },
  {
   "cell_type": "code",
   "execution_count": null,
   "id": "e2b6781d",
   "metadata": {},
   "outputs": [],
   "source": [
    "step = 1\n",
    "ntheta = 3000\n",
    "st = 0\n",
    "bin = 0\n",
    "ndist=4\n"
   ]
  },
  {
   "cell_type": "code",
   "execution_count": null,
   "id": "ad77f0fc",
   "metadata": {},
   "outputs": [],
   "source": [
    "pfile = f'Y350c_HT_015nm'\n",
    "path_out = f'/data/vnikitin/ESRF/ID16A/brain_rec/20240515/Y350c2'\n",
    "with h5py.File(f'{path_out}/{pfile}.h5') as fid:\n",
    "    detector_pixelsize = fid['/exchange/detector_pixelsize'][0]    \n",
    "    focusToDetectorDistance = fid['/exchange/focusdetectordistance'][0]    \n",
    "    z1 = fid['/exchange/z1'][:ndist]        \n",
    "    shape = fid['/exchange/data0'].shape\n",
    "    shape_ref = fid['/exchange/data_white_start0'].shape\n",
    "    shape_dark = fid['/exchange/data_dark0'].shape"
   ]
  },
  {
   "cell_type": "code",
   "execution_count": null,
   "id": "da169abc",
   "metadata": {},
   "outputs": [],
   "source": [
    "\n",
    "n = shape[-1]\n",
    "ndark = shape_dark[0]\n",
    "nref = shape_ref[0]\n",
    "n//=2**bin"
   ]
  },
  {
   "cell_type": "code",
   "execution_count": null,
   "id": "59fa16f2-1f9c-4b3a-a330-e10942f12234",
   "metadata": {},
   "outputs": [],
   "source": [
    "energy = 33.35  # [keV] xray energy\n",
    "wavelength = 1.2398419840550367e-09/energy  # [m] wave length\n",
    "z2 = focusToDetectorDistance-z1\n",
    "magnifications = focusToDetectorDistance/z1\n",
    "norm_magnifications = magnifications/magnifications[0]\n",
    "distances = (z1*z2)/focusToDetectorDistance*norm_magnifications**2\n",
    "voxelsize = detector_pixelsize/magnifications[0]*2048/n  # object voxel size\n",
    "show = True"
   ]
  },
  {
   "cell_type": "code",
   "execution_count": null,
   "id": "6a2d1c00",
   "metadata": {},
   "outputs": [],
   "source": [
    "npsi = int(np.ceil(2048/norm_magnifications[-1]/16))*16  # make multiple of 8\n",
    "npsi//=(2048//n)"
   ]
  },
  {
   "cell_type": "code",
   "execution_count": null,
   "id": "21e717d2",
   "metadata": {},
   "outputs": [],
   "source": [
    "args = SimpleNamespace()\n",
    "args.ngpus = 4\n",
    "\n",
    "args.n = n\n",
    "args.ndist = ndist\n",
    "args.ntheta = ntheta\n",
    "args.pad = 0\n",
    "args.npsi = npsi\n",
    "args.nq = n + 2 * 0\n",
    "args.nchunk = 2\n",
    "args.lam = 0\n",
    "\n",
    "args.voxelsize = voxelsize\n",
    "args.wavelength = wavelength\n",
    "args.distance = distances\n",
    "args.eps = 1e-12\n",
    "args.rho = [1, 2, 1]\n",
    "args.path_out = f\"{path_out}/s1\"\n",
    "args.show = True\n",
    "args.norm_magnifications = norm_magnifications\n",
    "print(norm_magnifications)\n",
    "# create class\n",
    "cl_rec = Rec(args)\n"
   ]
  },
  {
   "cell_type": "code",
   "execution_count": null,
   "id": "1577cbe8",
   "metadata": {},
   "outputs": [],
   "source": [
    "# a = np.random.random([ntheta,npsi,npsi]).astype('float32')+1j*np.random.random([ntheta,npsi,npsi]).astype('float32')\n",
    "# b = cl_rec.M(a,2)\n",
    "# c = cl_rec.MT(b,2)\n",
    "# nnn=np.sum(a*np.conj(c))\n",
    "# print(np.sum(a*np.conj(c)))\n",
    "# print(np.sum(b*np.conj(b)))\n",
    "\n",
    "# a = np.random.random([ntheta,npsi,npsi]).astype('float32')+1j*np.random.random([ntheta,npsi,npsi]).astype('float32')\n",
    "# b = cl_rec.M(a,3)\n",
    "# c = cl_rec.MT(b,3)\n",
    "# nnnn=np.sum(a*np.conj(c))\n",
    "# print(np.sum(a*np.conj(c)))\n",
    "# print(np.sum(b*np.conj(b)))\n",
    "\n",
    "# print(nnn/nnnn,1/norm_magnifications[-1])"
   ]
  },
  {
   "cell_type": "code",
   "execution_count": null,
   "id": "19ec19d3",
   "metadata": {},
   "outputs": [],
   "source": [
    "data = np.zeros([ntheta,ndist,n,n],dtype='float32')\n",
    "with h5py.File(f'{path_out}/{pfile}_corr.h5') as fid:\n",
    "    for k in range(ndist):\n",
    "        tmp = fid[f'/exchange/data{k}'][st:step*ntheta:step].copy()\n",
    "        \n",
    "        for j in range(bin):\n",
    "            tmp = 0.5*(tmp[:,:,::2]+tmp[:,:,1::2])\n",
    "            tmp = 0.5*(tmp[:,::2,:]+tmp[:,1::2,:])        \n",
    "        data[:,k]=tmp.copy()\n",
    "    tmp = fid[f'/exchange/ref'][:ndist]\n",
    "    for j in range(bin):\n",
    "        tmp = 0.5*(tmp[...,::2]+tmp[...,1::2])\n",
    "        tmp = 0.5*(tmp[...,::2,:]+tmp[...,1::2,:])\n",
    "    ref=tmp\n",
    "    r = fid[f'/exchange/cshifts_final'][st:step*ntheta:step,:ndist]*n/2048#/norm_magnifications[:,np.newaxis]# in init coordinates! not scaled"
   ]
  },
  {
   "cell_type": "code",
   "execution_count": null,
   "id": "8e019668",
   "metadata": {},
   "outputs": [],
   "source": [
    "rdata = data/ref\n",
    "srdata = np.zeros([ntheta,ndist,args.npsi,args.npsi],dtype='float32')\n",
    "distances_pag = (distances/norm_magnifications**2)\n",
    "npad=n//32\n",
    "for j in np.arange(ndist)[::-1]:\n",
    "    tmp = cl_rec.STa(r[:,j]*norm_magnifications[j],rdata[:,j].astype('complex64'),\n",
    "                     'edge')    \n",
    "    #mshow_complex(tmp[0],True)\n",
    "    # tmp=cp.array(tmp)\n",
    "    tmp = (cl_rec.MT(tmp,j)/norm_magnifications[j]**2).real    \n",
    "    # mshow(tmp[0],True)\n",
    "    st = np.where(np.abs(tmp[0])>1e-1)[0][0]+8\n",
    "    \n",
    "    if j==ndist-1:\n",
    "         tmp = np.pad(tmp[:,st:-st,st:-st],((0,0),(st,st),(st,st)),'symmetric')\n",
    "    if j<ndist-1:\n",
    "        w = np.ones([args.npsi],dtype='float32')  \n",
    "        v = np.linspace(0, 1, npad, endpoint=False)\n",
    "        v = v**5*(126-420*v+540*v**2-315*v**3+70*v**4)             \n",
    "        w[:st]=0\n",
    "        w[st:st+npad] = v\n",
    "        w[-st-npad:-st] = 1-v\n",
    "        w[-st:]=0\n",
    "        w=np.outer(w,w)\n",
    "        #mshow(w,True)\n",
    "        tmp=tmp*(w)+srdata[:,j+1]*(1-w)       \n",
    "    srdata[:,j]=tmp\n",
    "    mshow(srdata[0,j],True)\n",
    "    \n"
   ]
  },
  {
   "cell_type": "code",
   "execution_count": null,
   "id": "2ebfd488",
   "metadata": {},
   "outputs": [],
   "source": [
    "\n",
    "mshow(srdata[0,0],args.show,vmax=1.3,vmin=0.7)\n",
    "mshow(srdata[0,ndist-1],args.show,vmax=1.3,vmin=0.7)\n",
    "mshow(srdata[0,0]-srdata[0,2],args.show,vmax=0.2,vmin=-0.2)\n"
   ]
  },
  {
   "cell_type": "code",
   "execution_count": null,
   "id": "3c577aab",
   "metadata": {},
   "outputs": [],
   "source": [
    "def multiPaganin(data, distances, wavelength, voxelsize, delta_beta,  alpha):    \n",
    "    \n",
    "    fx = cp.fft.fftfreq(data.shape[-1], d=voxelsize).astype('float32')\n",
    "    [fx, fy] = cp.meshgrid(fx, fx)\n",
    "    numerator = 0\n",
    "    denominator = 0\n",
    "    for j in range(data.shape[0]):        \n",
    "        rad_freq = cp.fft.fft2(data[j])\n",
    "        taylorExp = 1 + wavelength * distances[j] * cp.pi * (delta_beta) * (fx**2+fy**2)\n",
    "        numerator = numerator + taylorExp * (rad_freq)\n",
    "        denominator = denominator + taylorExp**2\n",
    "\n",
    "    numerator = numerator / len(distances)\n",
    "    denominator = (denominator / len(distances)) + alpha\n",
    "\n",
    "    phase = cp.log(cp.real(cp.fft.ifft2(numerator / denominator)))\n",
    "    phase = (delta_beta) * 0.5 * phase\n",
    "\n",
    "    return phase\n",
    "\n",
    "def rec_init(rdata):\n",
    "    recMultiPaganin = np.zeros([args.ntheta,args.npsi, args.npsi], dtype=\"float32\")\n",
    "    for j in range(0, args.ntheta):\n",
    "        print(j)\n",
    "        r = cp.array(rdata[j])\n",
    "        distances_pag = (distances/norm_magnifications**2)\n",
    "        r = multiPaganin(r, distances_pag,wavelength, voxelsize,120, 1e-5)            \n",
    "        # r = CTFPurePhase(r, distances_pag,wavelength, voxelsize, 1e-6)             \n",
    "        # r[r>0]=0\n",
    "        recMultiPaganin[j] = r.get()           \n",
    "        # recMultiPaganin[recMultiPaganin>0]=0\n",
    "        # recMultiPaganin[j]-=np.mean(recMultiPaganin[j,:8,:8])\n",
    "    recMultiPaganin = np.exp(1j * recMultiPaganin)\n",
    "    return recMultiPaganin\n",
    "psi_init = rec_init(srdata)\n",
    "mshow_polar(psi_init[0],args.show)\n",
    "mshow_polar(psi_init[-1],args.show)\n",
    "# write_tiff(np.angle(psi_init),'/data/tmp/tmp5')"
   ]
  },
  {
   "cell_type": "code",
   "execution_count": null,
   "id": "ce575cf8",
   "metadata": {},
   "outputs": [],
   "source": [
    "# a = np.random.random([ntheta,npsi,npsi]).astype('float32')+1j*np.random.random([ntheta,npsi,npsi]).astype('float32')\n",
    "# for k in range(4):\n",
    "#     b = cl_rec.M(a,k)\n",
    "#     c = cl_rec.MT(b,k)\n",
    "#     print(np.sum(a*np.conj(c)))\n",
    "#     print(np.sum(b*np.conj(b)))"
   ]
  },
  {
   "cell_type": "code",
   "execution_count": null,
   "id": "b09b8ce1",
   "metadata": {},
   "outputs": [],
   "source": [
    "\n",
    "# b = cl_rec.S(r[:,ndist-1],a)\n",
    "# c = cl_rec.ST(r[:,ndist-1],b)\n",
    "# print(np.sum(a*np.conj(c)))\n",
    "# print(np.sum(b*np.conj(b)))\n"
   ]
  },
  {
   "cell_type": "code",
   "execution_count": null,
   "id": "1b2eff11",
   "metadata": {},
   "outputs": [],
   "source": [
    "\n",
    "# a = np.random.random([ntheta,args.nq,args.nq]).astype('float32')+1j*np.random.random([ntheta,args.nq,args.nq]).astype('float32')\n",
    "# b = cl_rec.D(a,j)\n",
    "# c = cl_rec.DT(b,j)\n",
    "# print(np.sum(a*np.conj(c)))\n",
    "# print(np.sum(b*np.conj(b)))"
   ]
  },
  {
   "cell_type": "code",
   "execution_count": null,
   "id": "c8a9e01b",
   "metadata": {},
   "outputs": [],
   "source": [
    "\n",
    "\n",
    "print(psi_init.shape)\n",
    "with h5py.File(f'{path_out}/{pfile}_corr.h5','a') as fid:\n",
    "    try:\n",
    "        del fid['/exchange/psi_init_abs']\n",
    "        del fid['/exchange/psi_init_angle']\n",
    "    except:\n",
    "        pass\n",
    "    fid.create_dataset(f'/exchange/psi_init_abs',data = np.abs(psi_init))\n",
    "    fid.create_dataset(f'/exchange/psi_init_angle',data = np.angle(psi_init))"
   ]
  }
 ],
 "metadata": {
  "kernelspec": {
   "display_name": "holotomocupy",
   "language": "python",
   "name": "python3"
  },
  "language_info": {
   "codemirror_mode": {
    "name": "ipython",
    "version": 3
   },
   "file_extension": ".py",
   "mimetype": "text/x-python",
   "name": "python",
   "nbconvert_exporter": "python",
   "pygments_lexer": "ipython3",
   "version": "3.12.8"
  }
 },
 "nbformat": 4,
 "nbformat_minor": 5
}
