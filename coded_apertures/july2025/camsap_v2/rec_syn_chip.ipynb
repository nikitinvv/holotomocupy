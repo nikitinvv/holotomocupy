{
 "cells": [
  {
   "cell_type": "code",
   "execution_count": null,
   "id": "fad77fab-e206-47c1-9655-088d14fe30cb",
   "metadata": {},
   "outputs": [],
   "source": [
    "import cupy as cp\n",
    "import numpy as np\n",
    "import pandas as pd\n",
    "from types import SimpleNamespace\n",
    "\n",
    "from utils import *\n",
    "from rec import Rec"
   ]
  },
  {
   "cell_type": "markdown",
   "id": "3c0fdd65-1cff-451e-865e-56cd8b7882a6",
   "metadata": {},
   "source": [
    "# Init data sizes and parametes of the PXM of ID16A"
   ]
  },
  {
   "cell_type": "code",
   "execution_count": null,
   "id": "59fa16f2-1f9c-4b3a-a330-e10942f12234",
   "metadata": {},
   "outputs": [],
   "source": [
    "n = 128  # object size in each dimension\n",
    "ntheta = 128  # number of angles (rotations)\n",
    "theta = np.linspace(0, np.pi, ntheta).astype('float32')  # projection angles\n",
    "\n",
    "ndist = 4 # number of distances from the focal spot in holotomography\n",
    "detector_pixelsize = 3e-6 # detector pixel size\n",
    "energy = 33.35  # [keV] xray energy\n",
    "wavelength = 1.2398419840550367e-09/energy  # [m] wave length\n",
    "\n",
    "focusToDetectorDistance = 1.208  # focus to detector distance [m]\n",
    "sx0 = -2.493e-3\n",
    "z1 = np.array([1.5335e-3, 1.7065e-3, 2.3975e-3, 3.8320e-3])[:ndist]-sx0 # distances\n",
    "z2 = focusToDetectorDistance-z1\n",
    "distances = (z1*z2)/focusToDetectorDistance # adjusted distances\n",
    "magnifications = focusToDetectorDistance/z1 # magnifications\n",
    "voxelsize = detector_pixelsize/magnifications[0]*2048/n/2  # object voxel size\n",
    "\n",
    "norm_magnifications = magnifications/magnifications[0] # normalized magnifications\n",
    "distances = distances*norm_magnifications**2 # readjusted distances\n",
    "z1p = z1[0]  # positions of the probe for reconstruction\n",
    "\n",
    "z2p = z1-np.tile(z1p, len(z1))\n",
    "# magnification when propagating from the probe plane to the detector\n",
    "magnificationsp = (z1p+z2p)/z1p\n",
    "# propagation distances after switching from the point source wave to plane wave,\n",
    "distancesp = (z1p*z2p)/(z1p+z2p)\n",
    "norm_magnifications2 = magnificationsp/(z1p/z1[0])  # normalized magnifications\n",
    "# scaled propagation distances due to magnified probes\n",
    "distancesp = distancesp*norm_magnifications2**2\n",
    "distancesp = distancesp*(z1p/z1)**2\n",
    "\n",
    "npsi = int(np.ceil(n/norm_magnifications[-1]/8))*8  # reconstructed object size based on magnification and detector size\n"
   ]
  },
  {
   "cell_type": "code",
   "execution_count": null,
   "id": "cfa67fb9",
   "metadata": {},
   "outputs": [],
   "source": [
    "args = SimpleNamespace()\n",
    "args.n = n\n",
    "args.ndist = ndist\n",
    "args.ntheta = ntheta\n",
    "args.npsi = npsi\n",
    "\n",
    "args.voxelsize = voxelsize\n",
    "args.wavelength = wavelength\n",
    "args.distance = distances\n",
    "args.distancep = distancesp\n",
    "args.rotation_axis = args.npsi/2\n",
    "\n",
    "args.theta = theta\n",
    "args.norm_magnifications = norm_magnifications\n",
    "# create class\n",
    "cl_rec = Rec(args)"
   ]
  },
  {
   "cell_type": "markdown",
   "id": "49eb1696-bb30-496e-8c3d-565f2791112c",
   "metadata": {},
   "source": [
    "## Read data"
   ]
  },
  {
   "cell_type": "code",
   "execution_count": null,
   "id": "8a579ce4-0cd2-4769-a03d-7614aa96b0a8",
   "metadata": {},
   "outputs": [],
   "source": [
    "data = cp.load('data.npy')\n",
    "ref = cp.load('ref.npy')\n",
    "r = cp.load('shifts.npy')\n",
    "# for k in range(ndist):\n",
    "mshow_complex(data[0,0]+1j*data[0,-1],True)"
   ]
  },
  {
   "cell_type": "markdown",
   "id": "52f68aea",
   "metadata": {},
   "source": [
    "# Back propagate probe for the intial guess"
   ]
  },
  {
   "cell_type": "code",
   "execution_count": null,
   "id": "c8b1af4d",
   "metadata": {},
   "outputs": [],
   "source": [
    "q_init = cp.ones([1,args.n,args.n],dtype='complex64')\n",
    "q_init = cl_rec.DpT(cl_rec.DT(cp.sqrt(ref).astype('complex64'),0),0)\n",
    "mshow_polar(q_init[0],True)\n"
   ]
  },
  {
   "cell_type": "markdown",
   "id": "67489c09",
   "metadata": {},
   "source": [
    "# Reconstruct"
   ]
  },
  {
   "cell_type": "code",
   "execution_count": null,
   "id": "c41a3453",
   "metadata": {},
   "outputs": [],
   "source": [
    "args.niter=2049 # number of iters\n",
    "args.vis_step=64 # show visualization step\n",
    "args.err_step=64# show error step\n",
    "args.path_out='/local/data/out00' # output forlder for dumped results for each vis step\n",
    "args.show=True # show visualization or not\n",
    "args.rho=[1,25,15] # scaling of variables to control the convergence\n",
    "\n",
    "# create solver class\n",
    "cl_rec = Rec(args)\n",
    "\n",
    "# variables initiated with a guess\n",
    "vars={}\n",
    "vars[\"u\"] = cp.zeros([npsi,npsi,npsi],dtype='complex64')\n",
    "vars[\"q\"] = q_init\n",
    "vars[\"r\"] = r\n",
    "vars[\"r_init\"] = r.copy()\n",
    "vars[\"psi\"] = cl_rec.R(vars['u'])        \n",
    "vars[\"psi\"][:] = cl_rec.expR(vars[\"psi\"])        \n",
    "vars[\"table\"] = pd.DataFrame(columns=[\"iter\", \"err\", \"time\"])  #monitor convregence\n",
    "\n",
    "vars = cl_rec.BH(cp.sqrt(data), vars)  "
   ]
  },
  {
   "cell_type": "code",
   "execution_count": null,
   "id": "523280bb",
   "metadata": {},
   "outputs": [],
   "source": [
    "1.15527e+04, 4) err=8.84536e+03"
   ]
  },
  {
   "cell_type": "code",
   "execution_count": null,
   "id": "92c496e6",
   "metadata": {},
   "outputs": [],
   "source": [
    "plt.title('Convergence')\n",
    "plt.plot(vars[\"table\"]['err'])\n",
    "plt.grid()\n",
    "plt.xlabel('iter')\n",
    "plt.yscale('log')"
   ]
  }
 ],
 "metadata": {
  "kernelspec": {
   "display_name": "holotomocupy",
   "language": "python",
   "name": "python3"
  },
  "language_info": {
   "codemirror_mode": {
    "name": "ipython",
    "version": 3
   },
   "file_extension": ".py",
   "mimetype": "text/x-python",
   "name": "python",
   "nbconvert_exporter": "python",
   "pygments_lexer": "ipython3",
   "version": "3.12.8"
  }
 },
 "nbformat": 4,
 "nbformat_minor": 5
}
