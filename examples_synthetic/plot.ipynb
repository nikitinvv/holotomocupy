{
 "cells": [
  {
   "cell_type": "code",
   "execution_count": null,
   "metadata": {},
   "outputs": [],
   "source": [
    "import numpy as np\n",
    "import matplotlib.pyplot as plt\n",
    "import h5py\n",
    "import dxchange"
   ]
  },
  {
   "cell_type": "code",
   "execution_count": null,
   "metadata": {},
   "outputs": [],
   "source": [
    "\n",
    "n = 512  # object size in each dimension\n",
    "pad = 256\n",
    "npos= 16\n",
    "\n",
    "detector_pixelsize = 3.03751e-6\n",
    "energy = 33.35  # [keV] xray energy\n",
    "wavelength = 1.2398419840550367e-09/energy  # [m] wave length\n",
    "focusToDetectorDistance = 1.28  # [m]\n",
    "sx0 = 1.286e-3\n",
    "z1 = np.tile(5.5*1e-3-sx0, [npos]) # 5.5\n",
    "z2 = focusToDetectorDistance-z1\n",
    "distances = (z1*z2)/focusToDetectorDistance\n",
    "magnifications = focusToDetectorDistance/z1\n",
    "voxelsize = np.abs(detector_pixelsize/magnifications[0]*2048/n)  # object voxel size\n"
   ]
  },
  {
   "cell_type": "code",
   "execution_count": null,
   "metadata": {},
   "outputs": [],
   "source": [
    "rec={}\n",
    "rec_prb={}\n",
    "err={}\n",
    "l={}\n",
    "l['v1']='No zero-padding V1, probe fixed'\n",
    "l['v1_prb_']='No zero-padding V1, probe reconstructed'\n",
    "l['v2']='No zero-padding V2, probe fixed'\n",
    "l['v2_prb']='No zero-padding V2, probe reconstructed'\n",
    "l['noe']='Zero-padding, probe fixed'\n",
    "l['noe_prb']='Zero-padding, probe reconstructed'\n",
    "\n",
    "iter = 1024\n",
    "for i,t in enumerate(['v1','v2','noe','v1_prb_','v2_prb','noe_prb']):\n",
    "    path = f'/data/vnikitin/modeling/siemens_recn_{t}{n}_{pad}'\n",
    "    amp=dxchange.read_tiff(f'{path}/crec_code_abs/{iter}.tiff')\n",
    "    angle=dxchange.read_tiff(f'{path}/crec_code_angle/{iter}.tiff') \n",
    "    rec[f'{t}'] = amp*np.exp(1j*angle)\n",
    "\n",
    "    amp=dxchange.read_tiff(f'{path}/crec_prb_abs/{iter}.tiff')\n",
    "    angle=dxchange.read_tiff(f'{path}/crec_prb_angle/{iter}.tiff') \n",
    "    rec_prb[f'{t}'] = amp*np.exp(1j*angle)\n",
    "    \n",
    "    err[f'{t}']=np.load(f'{path}/err.npy')[:iter]\n",
    "\n",
    "for i,t in enumerate(['v1','v2','noe','v1_prb_','v2_prb','noe_prb']):\n",
    "    plt.plot(np.arange(0,iter,32),err[f'{t}'][::32],label=l[f'{t}'])\n",
    "\n",
    "plt.legend()\n",
    "plt.yscale('log')\n",
    "# plt.show()\n",
    "plt.savefig('conv',dpi=300)\n",
    "# plt.plot()\n",
    "    \n"
   ]
  },
  {
   "cell_type": "code",
   "execution_count": null,
   "metadata": {},
   "outputs": [],
   "source": []
  },
  {
   "cell_type": "code",
   "execution_count": null,
   "metadata": {},
   "outputs": [],
   "source": [
    "iter=256\n",
    "fig, ax = plt.subplots(2,3, figsize=(15,8))\n",
    "fig.suptitle(f'reconstructed object phase, iter {iter}', fontsize=15)\n",
    "from mpl_toolkits.axes_grid1 import make_axes_locatable\n",
    "plt.title('ss')\n",
    "\n",
    "for i,v in enumerate(['v1','v2','noe','v1_prb_','v2_prb','noe_prb']):\n",
    "    im=ax[np.unravel_index(i, (2,3))].imshow(np.angle(rec[v]),cmap='gray',vmax=0.5,vmin=-1)\n",
    "    divider = make_axes_locatable(ax[np.unravel_index(i, (2,3))])\n",
    "    cax = divider.append_axes('right', size='5%', pad=0.05)\n",
    "    ax[np.unravel_index(i, (2,3))].set_title(l[v])\n",
    "    left, bottom, width, height = [0.123+i%3*0.274, 0.53-i//3*0.42, 0.14, 0.2]\n",
    "    ax2 = fig.add_axes([left, bottom, width, height])\n",
    "    ax2.imshow(np.angle(rec[v][350:550,650:850]),cmap='gray',vmax=0.5,vmin=-1)\n",
    "    ax2.axis('off')\n",
    "    \n",
    "    fig.colorbar(im, cax=cax, orientation='vertical')\n",
    "plt.savefig(f'rec_angle_{iter}',dpi=450)"
   ]
  },
  {
   "cell_type": "code",
   "execution_count": null,
   "metadata": {},
   "outputs": [],
   "source": [
    "fig, ax = plt.subplots(2,3, figsize=(15,8))\n",
    "fig.suptitle(f'reconstructed object amp, iter {iter}', fontsize=15)\n",
    "from mpl_toolkits.axes_grid1 import make_axes_locatable\n",
    "plt.title('ss')\n",
    "\n",
    "for i,v in enumerate(['v1','v2','noe','v1_prb_','v2_prb','noe_prb']):\n",
    "    im=ax[np.unravel_index(i, (2,3))].imshow(np.abs(rec[v]),cmap='gray',vmax=1.05,vmin=0.95)\n",
    "    divider = make_axes_locatable(ax[np.unravel_index(i, (2,3))])\n",
    "    cax = divider.append_axes('right', size='5%', pad=0.05)\n",
    "    ax[np.unravel_index(i, (2,3))].set_title(l[v])\n",
    "    left, bottom, width, height = [0.123+i%3*0.274, 0.53-i//3*0.42, 0.14, 0.2]\n",
    "    ax2 = fig.add_axes([left, bottom, width, height])\n",
    "    ax2.imshow(np.abs(rec[v][350:550,650:850]),cmap='gray',vmax=1.05,vmin=0.95)\n",
    "    ax2.axis('off')\n",
    "    \n",
    "    fig.colorbar(im, cax=cax, orientation='vertical')\n",
    "plt.savefig(f'rec_abs_{iter}',dpi=450)"
   ]
  },
  {
   "cell_type": "code",
   "execution_count": null,
   "metadata": {},
   "outputs": [],
   "source": [
    "fig, ax = plt.subplots(2,3, figsize=(15,8))\n",
    "fig.suptitle(f'reconstructed probe amp, iter {iter}', fontsize=15)\n",
    "from mpl_toolkits.axes_grid1 import make_axes_locatable\n",
    "plt.title('ss')\n",
    "\n",
    "for i,v in enumerate(['v1','v2','noe','v1_prb_','v2_prb','noe_prb']):\n",
    "    im=ax[np.unravel_index(i, (2,3))].imshow(np.abs(rec_prb[v]),cmap='gray',vmax=1.55,vmin=0.45)\n",
    "    divider = make_axes_locatable(ax[np.unravel_index(i, (2,3))])\n",
    "    cax = divider.append_axes('right', size='5%', pad=0.05)\n",
    "    ax[np.unravel_index(i, (2,3))].set_title(l[v])\n",
    "    left, bottom, width, height = [0.123+i%3*0.274, 0.53-i//3*0.42, 0.14, 0.2]\n",
    "    ax2 = fig.add_axes([left, bottom, width, height])\n",
    "    ax2.imshow(np.abs(rec_prb[v][350:550,650:850]),cmap='gray',vmax=1.55,vmin=0.45)\n",
    "    ax2.axis('off')\n",
    "    \n",
    "    fig.colorbar(im, cax=cax, orientation='vertical')\n",
    "plt.savefig(f'prb_abs_{iter}',dpi=450)"
   ]
  },
  {
   "cell_type": "code",
   "execution_count": null,
   "metadata": {},
   "outputs": [],
   "source": [
    "fig, ax = plt.subplots(2,3, figsize=(15,8))\n",
    "fig.suptitle(f'reconstructed probe angle, iter {iter}', fontsize=15)\n",
    "from mpl_toolkits.axes_grid1 import make_axes_locatable\n",
    "plt.title('ss')\n",
    "\n",
    "for i,v in enumerate(['v1','v2','noe','v1_prb_','v2_prb','noe_prb']):\n",
    "    im=ax[np.unravel_index(i, (2,3))].imshow(np.angle(rec_prb[v]),cmap='gray',vmin=-1.5,vmax=1.5)\n",
    "    divider = make_axes_locatable(ax[np.unravel_index(i, (2,3))])\n",
    "    cax = divider.append_axes('right', size='5%', pad=0.05)\n",
    "    ax[np.unravel_index(i, (2,3))].set_title(l[v])\n",
    "    left, bottom, width, height = [0.123+i%3*0.274, 0.53-i//3*0.42, 0.14, 0.2]\n",
    "    ax2 = fig.add_axes([left, bottom, width, height])\n",
    "    ax2.imshow(np.angle(rec_prb[v][350:550,650:850]),cmap='gray',vmin=-1.5,vmax=1.5)\n",
    "    ax2.axis('off')\n",
    "    \n",
    "    fig.colorbar(im, cax=cax, orientation='vertical')\n",
    "plt.savefig(f'prb_angle_{iter}',dpi=450)"
   ]
  }
 ],
 "metadata": {
  "kernelspec": {
   "display_name": "holotomocupy",
   "language": "python",
   "name": "python3"
  },
  "language_info": {
   "codemirror_mode": {
    "name": "ipython",
    "version": 3
   },
   "file_extension": ".py",
   "mimetype": "text/x-python",
   "name": "python",
   "nbconvert_exporter": "python",
   "pygments_lexer": "ipython3",
   "version": "3.12.4"
  }
 },
 "nbformat": 4,
 "nbformat_minor": 2
}
