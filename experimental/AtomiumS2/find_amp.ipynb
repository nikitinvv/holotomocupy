{
 "cells": [
  {
   "cell_type": "code",
   "execution_count": null,
   "id": "fad77fab-e206-47c1-9655-088d14fe30cb",
   "metadata": {},
   "outputs": [],
   "source": [
    "import numpy as np\n",
    "import cupy as cp\n",
    "import h5py\n",
    "from holotomocupy.holo import G, GT\n",
    "from holotomocupy.shift import S, ST\n",
    "from holotomocupy.recon_methods import multiPaganin\n",
    "from holotomocupy.utils import *\n",
    "from holotomocupy.proc import remove_outliers\n",
    "# Use managed memory\n",
    "# cp.cuda.set_allocator(cp.cuda.MemoryPool(cp.cuda.malloc_managed).malloc)"
   ]
  },
  {
   "cell_type": "markdown",
   "id": "3c0fdd65-1cff-451e-865e-56cd8b7882a6",
   "metadata": {},
   "source": [
    "# Init data sizes and parametes of the PXM of ID16A"
   ]
  },
  {
   "cell_type": "code",
   "execution_count": null,
   "id": "59fa16f2-1f9c-4b3a-a330-e10942f12234",
   "metadata": {},
   "outputs": [],
   "source": [
    "n = 2048  # object size in each dimension\n",
    "detector_pixelsize = 3.03751e-6\n",
    "energy = 33.35  # [keV] xray energy\n",
    "wavelength = 1.2398419840550367e-09/energy  # [m] wave length\n",
    "focusToDetectorDistance = 1.28  # [m]\n",
    "sx0 = 1.286e-3\n",
    "z1 = np.array([4.236e-3,4.3625e-3,4.86850e-3,5.91950e-3])-sx0\n",
    "z2 = focusToDetectorDistance-z1\n",
    "distances = (z1*z2)/focusToDetectorDistance\n",
    "magnifications = focusToDetectorDistance/z1\n",
    "norm_magnifications = magnifications/magnifications[0]\n",
    "voxelsize = np.abs(detector_pixelsize/magnifications[0]*2048/n)  # object voxel size\n",
    "\n",
    "show = True\n",
    "path = f'/data/vnikitin/ESRF/ID16A/20240924/AtomiumS2/'\n",
    "pfile = f'AtomiumS2_HT_007nm'\n",
    "path_out = f'/data/vnikitin/ESRF/ID16A/20240924_rec/AtomiumS2/'\n",
    "print(f'{voxelsize=}')\n",
    "ntheta=1800\n",
    "ndist=4\n",
    "st=0"
   ]
  },
  {
   "cell_type": "markdown",
   "id": "49eb1696-bb30-496e-8c3d-565f2791112c",
   "metadata": {},
   "source": [
    "## Read data"
   ]
  },
  {
   "cell_type": "code",
   "execution_count": null,
   "id": "c23a78d2",
   "metadata": {},
   "outputs": [],
   "source": [
    "data00 = np.zeros([ntheta,ndist,2048,2048],dtype='float32')\n",
    "ref00 = np.zeros([ndist,2048,2048],dtype='float32')\n",
    "ref01 = np.zeros([ndist,2048,2048],dtype='float32')\n",
    "dark00 = np.zeros([ndist,2048,2048],dtype='float32')\n",
    "    \n",
    "mmeans = np.zeros(8)\n",
    "\n",
    "for k in range(ndist):\n",
    "    for j in range(0,ntheta):\n",
    "        jtheta=st+j*1800//ntheta\n",
    "        fname = f'{path}{pfile}_{k+1}_/{pfile}_{k+1}_{jtheta:04}.edf'\n",
    "        # print(fname)\n",
    "        tmp = dxchange.read_edf(fname)[0]\n",
    "        data00[j,k] = tmp\n",
    "    \n",
    "    tmp = np.zeros([n,n],dtype='float32')\n",
    "    for l in range(20):\n",
    "        fname=f'{path}{pfile}_{k+1}_/ref{l:04}_0000.edf'\n",
    "        #print(fname)\n",
    "        tmp += dxchange.read_edf(fname)[0]\n",
    "    tmp/=20\n",
    "    ref00[k] = tmp\n",
    "\n",
    "    tmp = np.zeros([n,n],dtype='float32')\n",
    "    for l in range(20):\n",
    "        fname = f'{path}{pfile}_{k+1}_/ref{l:04}_1800.edf'\n",
    "        #print(fname)\n",
    "        tmp += dxchange.read_edf(fname)[0]\n",
    "    tmp/=20\n",
    "    ref01[k] = tmp\n",
    "\n",
    "    tmp = np.zeros([n,n],dtype='float32')\n",
    "    for l in range(20):\n",
    "        fname = f'{path}{pfile}_{k+1}_/darkend{l:04}.edf'\n",
    "        #print(fname)\n",
    "        tmp += dxchange.read_edf(fname)[0]\n",
    "    tmp/=20\n",
    "\n",
    "    dark00[k] = tmp\n",
    "\n"
   ]
  },
  {
   "cell_type": "code",
   "execution_count": null,
   "id": "9b53b6ff",
   "metadata": {},
   "outputs": [],
   "source": [
    "data = data00.copy()\n",
    "ref0 = ref00.copy()\n",
    "ref1 = ref01.copy()\n",
    "dark = dark00.copy()\n",
    "# dark = np.mean(dark,axis=0)[np.newaxis]\n",
    "# ref = np.mean(ref,axis=0)[np.newaxis]\n",
    "data-=dark\n",
    "ref0-=dark\n",
    "ref1-=dark\n",
    "\n",
    "data[data<0]=0\n",
    "ref0[ref0<0]=0\n",
    "ref1[ref1<0]=0\n",
    "\n",
    "data[:,:,1320//3:1320//3+25//3,890//3:890//3+25//3] = data[:,:,1280//3:1280//3+25//3,890//3:890//3+25//3]\n",
    "ref0[:,1320//3:1320//3+25//3,890//3:890//3+25//3] = ref0[:,1280//3:1280//3+25//3,890//3:890//3+25//3]\n",
    "ref1[:,1320//3:1320//3+25//3,890//3:890//3+25//3] = ref1[:,1280//3:1280//3+25//3,890//3:890//3+25//3]\n",
    "\n",
    "mshow(data[0,0],show)\n",
    "for k in range(ndist):\n",
    "    radius = 3\n",
    "    threshold = 1.2\n",
    "    for j in range(0,60):\n",
    "        st=j*30\n",
    "        end=st+30\n",
    "        data[st:end,k] = remove_outliers(data[st:end,k], radius, threshold)\n",
    "    \n",
    "ref0[:] = remove_outliers(ref0[:], radius, threshold)     \n",
    "ref1[:] = remove_outliers(ref1[:], radius, threshold)   "
   ]
  },
  {
   "cell_type": "code",
   "execution_count": null,
   "id": "f313ea42",
   "metadata": {},
   "outputs": [],
   "source": [
    "print(data.shape)\n",
    "shifts_random = np.zeros([ntheta,ndist,2],dtype='float32')\n",
    "ss = np.zeros([ntheta,ndist,3])\n",
    "for k in range(ndist):\n",
    "    #s = np.loadtxt(f'{path}{pfile}_{k+1}_/correct.txt').astype('float32')[st:1800:1800//ntheta]/norm_magnifications[k]    \n",
    "    ss[:,k] = np.loadtxt(f'{path}{pfile}_{k+1}_/attributes.txt').astype('float32')[::1800//ntheta]\n",
    "\n",
    "mmean = np.mean(data[:,:,50:50+256,-50-256:-50],axis=(2,3))    \n",
    "print(mmean.shape)\n",
    "for k in range(4):\n",
    "    plt.plot(mmean[:,k]/mmean[mmean.shape[0]//2,k],label='mean')\n",
    "    plt.plot(ss[:,k]/ss[ss.shape[0]//2,k],label='current/counts')\n",
    "    plt.legend()\n",
    "    plt.show()\n"
   ]
  },
  {
   "cell_type": "code",
   "execution_count": null,
   "id": "29c56d44",
   "metadata": {},
   "outputs": [],
   "source": [
    "mmean = np.mean(data[:,:,50:50+256,-50-256:-50],axis=(2,3))\n",
    "mymean = mmean[mmean.shape[0]//2,1]\n",
    "# mmean /= mymean\n",
    "for k in range(4):\n",
    "    plt.plot(mmean[:,k]/mymean,label='mean')\n",
    "    plt.plot(ss[:,k]/ss[ss.shape[0]//2,k],label='current/counts')\n",
    "    plt.legend()\n",
    "    plt.show()"
   ]
  },
  {
   "cell_type": "code",
   "execution_count": null,
   "id": "86758b3e",
   "metadata": {},
   "outputs": [],
   "source": [
    "mmeanref0 = np.mean(ref0[:,50:50+256,-50-256:-50],axis=(1,2))\n",
    "mmeanref1 = np.mean(ref1[:,50:50+256,-50-256:-50],axis=(1,2))\n",
    "# np.save('amps',mmean)\n",
    "# np.save('amps_ref0',mmeanref0)\n",
    "# np.save('amps_ref1',mmeanref1)\n",
    "print(mmeanref0,mmeanref1)\n",
    "\n"
   ]
  }
 ],
 "metadata": {
  "kernelspec": {
   "display_name": "holotomocupy",
   "language": "python",
   "name": "python3"
  },
  "language_info": {
   "codemirror_mode": {
    "name": "ipython",
    "version": 3
   },
   "file_extension": ".py",
   "mimetype": "text/x-python",
   "name": "python",
   "nbconvert_exporter": "python",
   "pygments_lexer": "ipython3",
   "version": "3.12.4"
  }
 },
 "nbformat": 4,
 "nbformat_minor": 5
}
