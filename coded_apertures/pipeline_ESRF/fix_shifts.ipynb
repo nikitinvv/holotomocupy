{
 "cells": [
  {
   "cell_type": "code",
   "execution_count": null,
   "id": "fad77fab-e206-47c1-9655-088d14fe30cb",
   "metadata": {},
   "outputs": [],
   "source": [
    "import numpy as np\n",
    "import cupy as cp\n",
    "from holotomocupy.holo import G, GT\n",
    "from holotomocupy.shift import S, ST\n",
    "from holotomocupy.recon_methods import CTFPurePhase, multiPaganin\n",
    "from holotomocupy.utils import *\n",
    "from holotomocupy.proc import remove_outliers\n",
    "import h5py\n",
    "\n",
    "\n"
   ]
  },
  {
   "cell_type": "markdown",
   "id": "3c0fdd65-1cff-451e-865e-56cd8b7882a6",
   "metadata": {},
   "source": [
    "# Init data sizes and parametes of the PXM of ID16A"
   ]
  },
  {
   "cell_type": "code",
   "execution_count": null,
   "id": "59fa16f2-1f9c-4b3a-a330-e10942f12234",
   "metadata": {},
   "outputs": [],
   "source": [
    "n = 2048  # object size in each dimension\n",
    "pad = n//8\n",
    "npos= 18*18\n",
    "z1c = -20.1e-3\n",
    "# thickness of the coded aperture\n",
    "code_thickness = 1.8e-6 #in m\n",
    "# feature size\n",
    "ill_feature_size = 2e-6 #in m\n",
    "\n",
    "detector_pixelsize = 3.03751e-6\n",
    "energy = 33.35  # [keV] xray energy\n",
    "wavelength = 1.2398419840550367e-09/energy  # [m] wave length\n",
    "focusToDetectorDistance = 1.28  # [m]\n",
    "sx0 = 3.7e-4\n",
    "z1 = z1c\n",
    "z1 = np.tile(z1, [npos])\n",
    "z2 = focusToDetectorDistance-z1\n",
    "distances = (z1*z2)/focusToDetectorDistance\n",
    "magnifications = focusToDetectorDistance/z1\n",
    "voxelsize = np.abs(detector_pixelsize/magnifications[0]*2048/n)  # object voxel size\n",
    "\n",
    "# sample size after demagnification\n",
    "ne = 6144+2*pad\n",
    "show = True\n",
    "\n",
    "flg = f'{n}_{z1c}'\n",
    "path = f'/data2/vnikitin/nfp_codes'\n",
    "print(voxelsize)"
   ]
  },
  {
   "cell_type": "markdown",
   "id": "49eb1696-bb30-496e-8c3d-565f2791112c",
   "metadata": {},
   "source": [
    "## Read data"
   ]
  },
  {
   "cell_type": "code",
   "execution_count": null,
   "id": "c23a78d2",
   "metadata": {},
   "outputs": [],
   "source": [
    "# with h5py.File('/data/vnikitin/ESRF/ID16A/20240924/SiemensLH/code2um_nfp9x9_02/code2um_nfpx9_020000.h5') as fid:\n",
    "#     data0 = fid['/entry_0000/measurement/data'][:].astype('float32')\n",
    "# with h5py.File('/data/vnikitin/ESRF/ID16A/20240924/SiemensLH/code2um_nfp9x9_02/ref_0000.h5') as fid:\n",
    "#     ref0 = fid['/entry_0000/measurement/data'][:].astype('float32')\n",
    "# with h5py.File('/data/vnikitin/ESRF/ID16A/20240924/SiemensLH/code2um_nfp9x9_02/dark_0000.h5') as fid:\n",
    "#     dark0 = fid['/entry_0000/measurement/data'][:].astype('float32')\n",
    "\n",
    "with h5py.File('/data/vnikitin/ESRF/ID16A/20240924/SiemensLH/code2um_nfp18x18_01/code2um_nfp18x18_010000.h5') as fid:\n",
    "    data0 = fid['/entry_0000/measurement/data'][:].astype('float32')\n",
    "    \n",
    "with h5py.File('/data/vnikitin/ESRF/ID16A/20240924/SiemensLH/code2um_nfp18x18_01/ref_0000.h5') as fid:\n",
    "    ref0 = fid['/entry_0000/measurement/data'][:].astype('float32')\n",
    "with h5py.File('/data/vnikitin/ESRF/ID16A/20240924/SiemensLH/code2um_nfp18x18_01/dark_0000.h5') as fid:\n",
    "    dark0 = fid['/entry_0000/measurement/data'][:].astype('float32')\n",
    "\n",
    "print(ref0.shape)\n",
    "data0 = data0[np.newaxis]\n",
    "\n",
    "\n",
    "\n",
    "shifts_code0 = np.loadtxt(f'/data/vnikitin/ESRF/ID16A/20240924/positions/shifts_code_nfp18x18ordered.txt')[np.newaxis,:,::-1]\n",
    "shifts_code0 = shifts_code0/voxelsize*1e-6\n",
    "print(data0.shape)\n",
    "mshow(data0[0,0],show)\n",
    "mshow(ref0[0],show)\n",
    "print(dark0.shape)\n",
    "mshow(dark0[0],show)"
   ]
  },
  {
   "cell_type": "code",
   "execution_count": null,
   "id": "e1d4e4eb",
   "metadata": {},
   "outputs": [],
   "source": [
    "data = data0.copy()\n",
    "ref = ref0.copy()\n",
    "dark = dark0.copy()\n",
    "for k in range(npos):\n",
    "    radius = 7\n",
    "    threshold = 20000\n",
    "    data[:,k] = remove_outliers(data[:,k], radius, threshold)\n",
    "ref[:] = remove_outliers(ref[:], radius, threshold)     \n",
    "dark[:] = remove_outliers(dark[:], radius, threshold)     \n",
    "\n",
    "# data[data<=0] = 0\n",
    "# ref[ref<=0] = 0\n",
    "\n",
    "data/=np.mean(ref)\n",
    "dark/=np.mean(ref)\n",
    "ref/=np.mean(ref)\n",
    "\n",
    "rdata0 = (data-np.mean(dark,axis=0))/(np.mean(ref,axis=0)-np.mean(dark,axis=0))\n",
    "\n"
   ]
  },
  {
   "cell_type": "code",
   "execution_count": null,
   "id": "564d58f6",
   "metadata": {},
   "outputs": [],
   "source": [
    "mshow(rdata0[0,0],show)"
   ]
  },
  {
   "cell_type": "code",
   "execution_count": null,
   "id": "6a1494ac",
   "metadata": {},
   "outputs": [],
   "source": [
    "print(rdata0.shape,shifts_code0.shape)\n",
    "np.save('rdata',rdata0[0,:19])\n",
    "np.save('shifts_code',shifts_code0[0,:19])\n"
   ]
  },
  {
   "cell_type": "code",
   "execution_count": null,
   "id": "a1477048",
   "metadata": {},
   "outputs": [],
   "source": [
    "print(shifts_code0.shape)\n",
    "ipos = npos//2+9\n",
    "plt.plot(shifts_code0[0,:,0],shifts_code0[0,:,1],'.')\n",
    "plt.plot(shifts_code0[0,ipos,0],shifts_code0[0,ipos,1],'r.')\n",
    "\n",
    "plt.axis('square')\n",
    "plt.show()\n",
    "print(shifts_code0[:,ipos])"
   ]
  },
  {
   "cell_type": "code",
   "execution_count": null,
   "id": "69cc96b5",
   "metadata": {},
   "outputs": [],
   "source": [
    "from skimage.registration import phase_cross_correlation\n",
    "import scipy.ndimage as ndimage\n",
    "rdata = rdata0.copy()\n",
    "shifts_code = shifts_code0.copy()\n",
    "shifts_code[:,:,0]*=-1\n",
    "\n",
    "shifts_relative = shifts_code.copy()*0\n",
    "    \n",
    "\n",
    "frame = 10\n",
    "zoom = 100\n",
    "\n",
    "def my_phase_corr(d1, d2, zoom=1):\n",
    "    image_product = np.fft.fft2(d1) * np.fft.fft2(d2).conj()\n",
    "    cc_image = np.fft.fftshift(np.fft.ifft2(image_product))\n",
    "    ind = np.unravel_index(np.argmax(cc_image.real, axis=None), cc_image.real.shape)\n",
    "    frame = 10\n",
    "    # cropimg = cc_image[ind[0]-frame//2:ind[0]+frame//2, ind[1]-frame//2:ind[1]+frame//2]\n",
    "    # zoomimg = ndimage.zoom(cropimg.real, zoom, order=5)\n",
    "    # ind2 = np.unravel_index(np.argmax(zoomimg, axis=None), zoomimg.shape)\n",
    "    shifts = np.subtract(ind,d1.shape[-1]//2) #+ np.subtract(np.divide(ind2, zoom), frame // 2)\n",
    "    return shifts\n",
    "\n",
    "    \n",
    "for k in range(0,npos-1):     \n",
    "    rdata = rdata0.copy()\n",
    "    shifts_relative[0,k]=my_phase_corr(rdata[0,k],rdata[0,k+1],100)\n",
    "    print(k,shifts_relative[0,k])\n",
    "    rdata[:,k] = ST(rdata[:,k],shifts_relative[:,k])\n",
    "    # mshow_complex(rdata[0,k,:c,:c]+1j*rdata[0,k+1,:c,:c],show,vmax=3)\n",
    "    # mshow(rdata[0,k]-rdata[0,k+1],show,vmax=1)\n",
    "np.save('shifts_relative',shifts_relative)    \n"
   ]
  },
  {
   "cell_type": "markdown",
   "id": "2d3e1339",
   "metadata": {},
   "source": []
  },
  {
   "cell_type": "code",
   "execution_count": null,
   "id": "22f49b35",
   "metadata": {},
   "outputs": [],
   "source": []
  },
  {
   "cell_type": "code",
   "execution_count": null,
   "id": "41f9eaaa",
   "metadata": {},
   "outputs": [],
   "source": [
    "shifts_code = shifts_code0.copy()\n",
    "shifts_code[:,:,0]*=-1\n",
    "shifts_relative = -np.load('shifts_relative.npy')\n",
    "shifts_code_new = shifts_code*0\n",
    "for k in range(ipos):\n",
    "    shifts_code_new[:,k] = np.sum(shifts_relative[:,k:ipos],axis=1) \n",
    "shifts_code_new[:,ipos] = shifts_code[:,ipos]\n",
    "for k in range(ipos,npos):\n",
    "    shifts_code_new[:,k] = np.sum(-shifts_relative[:,ipos:k],axis=1)\n",
    "\n",
    "# shifts_code_new=shifts_code[:,ipos]\n",
    "# shifts_code_new[:,:,1]-=100\n",
    "# shifts_code_new[:,:,0]-=60\n",
    "\n",
    "# shifts_code_new*=0.92\n",
    "plt.plot(shifts_code[0,:,1],shifts_code[0,:,0],'.')\n",
    "plt.plot(shifts_code_new[0,:,1],shifts_code_new[0,:,0],'.')\n",
    "# plt.plot(shifts_relative[0,:,1],shifts_relative[0,:,0],'.')\n",
    "\n",
    "# plt.plot(shifts_code_new[0],'\n",
    "plt.show()\n",
    "# print(shifts_code[:,:10])\n",
    "\n",
    "# print(shifts_code_new[:,:10])\n",
    "# print(voxelsize*0.92)\n",
    "\n",
    "#back to original shape\n",
    "shifts_code_new[:,:,0]*=-1\n",
    "shifts_code0 = np.loadtxt(f'/data/vnikitin/ESRF/ID16A/20240924/positions/shifts_code_nfp18x18ordered.txt')[np.newaxis,:,::-1]\n",
    "shifts_code0 = shifts_code0/voxelsize*1e-6\n",
    "print(shifts_code0[:,-10:])\n",
    "print(shifts_code_new[:,-10:])\n",
    "\n",
    "np.save('shifts_code_new.npy',shifts_code_new[:,:,::-1])\n"
   ]
  }
 ],
 "metadata": {
  "kernelspec": {
   "display_name": "Python 3 (ipykernel)",
   "language": "python",
   "name": "python3"
  },
  "language_info": {
   "codemirror_mode": {
    "name": "ipython",
    "version": 3
   },
   "file_extension": ".py",
   "mimetype": "text/x-python",
   "name": "python",
   "nbconvert_exporter": "python",
   "pygments_lexer": "ipython3",
   "version": "3.12.4"
  }
 },
 "nbformat": 4,
 "nbformat_minor": 5
}
