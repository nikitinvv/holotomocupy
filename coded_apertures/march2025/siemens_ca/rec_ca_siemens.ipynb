{
 "cells": [
  {
   "cell_type": "code",
   "execution_count": null,
   "id": "fad77fab-e206-47c1-9655-088d14fe30cb",
   "metadata": {},
   "outputs": [],
   "source": [
    "import numpy as np\n",
    "import cupy as cp\n",
    "import sys\n",
    "import pandas as pd\n",
    "import time\n",
    "import matplotlib.pyplot as plt\n",
    "import h5py\n",
    "from types import SimpleNamespace\n",
    "import warnings\n",
    "warnings.filterwarnings(\"ignore\", message=f\".*peer.*\")\n",
    "\n",
    "\n",
    "sys.path.insert(0, '..')\n",
    "from utils import *\n",
    "from rec import Rec\n",
    "\n",
    "%matplotlib inline"
   ]
  },
  {
   "cell_type": "code",
   "execution_count": null,
   "id": "dc75e928",
   "metadata": {},
   "outputs": [],
   "source": [
    "energy = 33.5\n",
    "wavelength = 1.24e-09 / energy\n",
    "z1 = -17.75e-3  # [m] position of the sample\n",
    "detector_pixelsize = 3.03751e-6\n",
    "focusToDetectorDistance = 1.28  # [m]\n",
    "# adjustments for the cone beam\n",
    "z2 = focusToDetectorDistance - z1\n",
    "distance = (z1 * z2) / focusToDetectorDistance\n",
    "magnification = focusToDetectorDistance / z1\n",
    "voxelsize = float(cp.abs(detector_pixelsize / magnification))"
   ]
  },
  {
   "cell_type": "code",
   "execution_count": null,
   "id": "d545e3cb",
   "metadata": {},
   "outputs": [],
   "source": [
    "args = SimpleNamespace()\n",
    "\n",
    "args.ngpus = 1#int(sys.args[1])\n",
    "args.n = 8704\n",
    "args.ncode = 8704\n",
    "args.npsi = 8704\n",
    "args.pad = 0\n",
    "args.nq = 8704\n",
    "args.ex = 0\n",
    "args.npatch = 8704\n",
    "args.npos = 1\n",
    "args.nchunk = 1\n",
    "\n",
    "args.voxelsize = voxelsize\n",
    "args.wavelength = wavelength\n",
    "args.distance = distance\n",
    "args.distancec = distance\n",
    "\n",
    "# doesnt matter\n",
    "args.lam = 0\n",
    "args.eps = 1e-8\n",
    "args.rho = [1, 0.01, 0.1]\n",
    "args.crop = 0\n",
    "args.path_out = \"\"\n",
    "args.niter = 2049\n",
    "args.err_step = 1\n",
    "args.vis_step = 8\n",
    "args.method = \"BH-CG\"\n",
    "\n",
    "args.show = True\n",
    "\n",
    "# create class\n",
    "cl_rec = Rec(args)"
   ]
  },
  {
   "cell_type": "code",
   "execution_count": null,
   "id": "ccb0c881",
   "metadata": {},
   "outputs": [],
   "source": [
    "path_code = f\"/data/vnikitin/ESRF/ID16A/20240924_rec0224/SiemensLH/code2um_nfp18x18_01/bets_final_256_0.1_2\"\n",
    "iter = 768"
   ]
  },
  {
   "cell_type": "code",
   "execution_count": null,
   "id": "2041fd3f",
   "metadata": {},
   "outputs": [],
   "source": [
    "code_angle = read_tiff(f'{path_code}/rec_psi_angle/{iter:04}.tiff')\n",
    "code_abs = read_tiff(f'{path_code}/rec_psi_abs/{iter:04}.tiff')\n",
    "code = code_abs*np.exp(1j*code_angle)\n",
    "mshow_polar(code,args.show)\n",
    "\n",
    "q_angle = read_tiff(f'{path_code}/rec_prb_angle/{iter:04}.tiff')\n",
    "q_abs = read_tiff(f'{path_code}/rec_prb_abs/{iter:04}.tiff')\n",
    "q = q_abs*np.exp(1j*q_angle)\n",
    "mshow_polar(q,args.show)"
   ]
  },
  {
   "cell_type": "code",
   "execution_count": null,
   "id": "23b13f76",
   "metadata": {},
   "outputs": [],
   "source": [
    "code_data = (cp.abs(cl_rec.D(cp.array(code[cp.newaxis]))[0])**2).get()"
   ]
  },
  {
   "cell_type": "code",
   "execution_count": null,
   "id": "b293973d",
   "metadata": {},
   "outputs": [],
   "source": [
    "mshow(code_data,args.show,vmax=1.7,vmin=0.7)\n",
    "mshow(code_data[2000:2500,2000:2500],args.show,vmax=1.7,vmin=0.7)"
   ]
  },
  {
   "cell_type": "markdown",
   "id": "49eb1696-bb30-496e-8c3d-565f2791112c",
   "metadata": {},
   "source": [
    "## Read data"
   ]
  },
  {
   "cell_type": "code",
   "execution_count": null,
   "id": "c23a78d2",
   "metadata": {},
   "outputs": [],
   "source": [
    "with h5py.File('/data/vnikitin/ESRF/ID16A/20240924/SiemensLH/SiemensLH_010nm_code2um_nfp9x9_01/SiemensLH_010nm_code2um_nfp9x9_010000.h5') as fid:\n",
    "    data = fid['/entry_0000/measurement/data'][:].astype('float32')    \n",
    "with h5py.File('/data/vnikitin/ESRF/ID16A/20240924/SiemensLH/SiemensLH_010nm_nfp_02/ref_0000.h5') as fid:\n",
    "    ref = fid['/entry_0000/measurement/data'][:].astype('float32')\n",
    "with h5py.File('/data/vnikitin/ESRF/ID16A/20240924/SiemensLH/SiemensLH_010nm_code2um_nfp9x9_01/dark_0000.h5') as fid:\n",
    "    dark = fid['/entry_0000/measurement/data'][:].astype('float32')\n"
   ]
  },
  {
   "cell_type": "markdown",
   "id": "f7398276",
   "metadata": {},
   "source": [
    "# Pre-processing"
   ]
  },
  {
   "cell_type": "code",
   "execution_count": null,
   "id": "e1d4e4eb",
   "metadata": {},
   "outputs": [],
   "source": [
    "import cupyx.scipy.ndimage as ndimage\n",
    "def remove_outliers(data, dezinger, dezinger_threshold):    \n",
    "    res = data.copy()\n",
    "    w = [dezinger,dezinger]\n",
    "    for k in range(data.shape[0]):\n",
    "        data0 = cp.array(data[k])\n",
    "        fdata = ndimage.median_filter(data0, w)\n",
    "        print(np.sum(np.abs(data0-fdata)>fdata*dezinger_threshold),end=\" \")\n",
    "        res[k] = np.where(np.abs(data0-fdata)>fdata*dezinger_threshold, fdata, data0).get()\n",
    "    return res\n",
    "\n",
    "dark = np.mean(dark,axis=0)\n",
    "ref = np.mean(ref,axis=0)\n",
    "data -= dark\n",
    "ref -= dark\n",
    "\n",
    "data[data<0]=0\n",
    "ref[ref<0]=0\n",
    "data[:,1320//3:1320//3+25//3,890//3:890//3+25//3] = data[:,1280//3:1280//3+25//3,890//3:890//3+25//3]\n",
    "ref[1320//3:1320//3+25//3,890//3:890//3+25//3] = ref[1280//3:1280//3+25//3,890//3:890//3+25//3]\n",
    "\n",
    "data = remove_outliers(data, 3, 0.8)    \n",
    "ref = remove_outliers(ref[None], 3, 0.8)[0]     \n",
    "\n",
    "data /= np.mean(ref)\n",
    "ref /= np.mean(ref)\n",
    "\n",
    "data[np.isnan(data)] = 1\n",
    "ref[np.isnan(ref)] = 1\n",
    "\n",
    "mshow(data[0],mshow)\n",
    "mshow(ref,mshow)"
   ]
  },
  {
   "cell_type": "markdown",
   "id": "233b06b6",
   "metadata": {},
   "source": [
    "# find shift with 1 pixel accuracy"
   ]
  },
  {
   "cell_type": "code",
   "execution_count": null,
   "id": "15d52a4e",
   "metadata": {},
   "outputs": [],
   "source": [
    "z1c = -17.75e-3\n",
    "detector_pixelsize = 3.03751e-6\n",
    "energy = 33.35  # [keV] xray energy\n",
    "wavelength = 1.2398419840550367e-09/energy  # [m] wave length\n",
    "focusToDetectorDistance = 1.28  # [m]\n",
    "sx0 = 1.286e-3\n",
    "z1 = 5.5e-3-sx0\n",
    "z2 = focusToDetectorDistance-z1\n",
    "distance = (z1*z2)/focusToDetectorDistance\n",
    "magnifications = focusToDetectorDistance/z1\n",
    "voxelsize = np.abs(detector_pixelsize/magnifications)  # object voxel size\n",
    "\n",
    "# magnification when propagating from the probe plane to the detector\n",
    "magnifications2 = z1/z1c\n",
    "distancec = (z1-z1c)/(z1c/z1)#magnifications2\n",
    "\n",
    "show = True"
   ]
  },
  {
   "cell_type": "code",
   "execution_count": null,
   "id": "14f44d56",
   "metadata": {},
   "outputs": [],
   "source": [
    "args = SimpleNamespace()\n",
    "args.npos = 81\n",
    "\n",
    "args.ngpus = 3\n",
    "args.lam = 0.2\n",
    "\n",
    "args.n = 2048\n",
    "args.ncode = 8704\n",
    "args.pad = args.n // 8\n",
    "args.npsi = args.n + 2 * args.pad\n",
    "args.nq = args.n + 2 * args.pad\n",
    "args.ex = 8\n",
    "args.npatch = args.nq + 2 * args.ex\n",
    "args.nchunk = 9\n",
    "\n",
    "args.voxelsize = voxelsize\n",
    "args.wavelength = wavelength\n",
    "args.distance = distance\n",
    "args.distancec = distancec\n",
    "args.eps = 1e-12\n",
    "args.rho = [1, 0.5, 0.1]\n",
    "args.crop = 0#2 * args.pad\n",
    "args.path_out = f\"/data/vnikitin/ESRF/ID16A/20240924_rec0224/SiemensLH/SiemensLH_010nm_code2um_nfp9x9_01/{args.lam}_{args.rho[1]}_{args.rho[2]}\"\n",
    "\n",
    "args.niter = 2049\n",
    "args.err_step = 1\n",
    "args.vis_step = 32\n",
    "args.method = \"BH-CG\"\n",
    "args.show = True\n",
    "\n",
    "# create class\n",
    "cl_rec = Rec(args)\n"
   ]
  },
  {
   "cell_type": "code",
   "execution_count": null,
   "id": "476d7c3e",
   "metadata": {},
   "outputs": [],
   "source": [
    "rdata = data/ref\n",
    "mshow(rdata[-1],show)"
   ]
  },
  {
   "cell_type": "code",
   "execution_count": null,
   "id": "2093410a",
   "metadata": {},
   "outputs": [],
   "source": [
    "def my_phase_corr(d1, d2):\n",
    "    image_product = np.fft.fft2(d1) * np.fft.fft2(d2).conj()\n",
    "    cc_image = np.fft.fftshift(np.fft.ifft2(image_product))\n",
    "    ind = np.unravel_index(np.argmax(cc_image.real, axis=None), cc_image.real.shape)\n",
    "    shifts = cp.zeros(2,'float32')\n",
    "    shifts[0] = ind[0]\n",
    "    shifts[1] = ind[1]\n",
    "    shifts -= d1.shape[-1]//2\n",
    "    return shifts.get()\n",
    "\n",
    "shifts_code = np.zeros([args.npos,2],dtype='float32')\n",
    "a = cp.array(code_data)\n",
    "nn = code_data.shape[-1]\n",
    "rrdata0=rdata.copy()\n",
    "for k in range(rdata.shape[0]):        \n",
    "    b = cp.pad(cp.array(rdata[k]),((nn//2-args.n//2,nn//2-args.n//2),(nn//2-args.n//2,nn//2-args.n//2)))\n",
    "    shift = -my_phase_corr(a,b)\n",
    "    shifts_code[k] = shift\n",
    "    aa = a[nn//2-shift[0]-args.n//2:nn//2-shift[0]+args.n//2,\n",
    "           nn//2-shift[1]-args.n//2:nn//2-shift[1]+args.n//2]\n",
    "    bb = cp.array(rdata[k])\n",
    "    rrdata0[k] = (bb/aa).get()\n",
    "# print(shifts_code)\n"
   ]
  },
  {
   "cell_type": "markdown",
   "id": "2d3e1339",
   "metadata": {},
   "source": []
  },
  {
   "cell_type": "code",
   "execution_count": null,
   "id": "e1d45c0c",
   "metadata": {},
   "outputs": [],
   "source": [
    "ri = shifts_code.astype('int32')\n",
    "r = (shifts_code-ri).astype('float32')\n",
    "scode = cl_rec.S(ri,r,code)\n",
    "Dscode = cl_rec.Dc(scode*q)\n",
    "DDscode =  cl_rec.D(Dscode)\n",
    "rrdata = data/np.abs(DDscode)**2\n",
    "mshow(rrdata0[0],show,vmin=0.5,vmax=1.5)\n",
    "mshow(rrdata[0],show,vmax=1.3,vmin=0.7)"
   ]
  },
  {
   "cell_type": "code",
   "execution_count": null,
   "id": "597e0eea",
   "metadata": {},
   "outputs": [],
   "source": [
    "mshow(cp.mean(rrdata[:],axis=0),show,vmax=1.1,vmin=0.8)"
   ]
  },
  {
   "cell_type": "code",
   "execution_count": null,
   "id": "dd4d579d",
   "metadata": {},
   "outputs": [],
   "source": [
    "def Paganin(data, wavelength, voxelsize, delta_beta, alpha):\n",
    "    fx = cp.fft.fftfreq(data.shape[-1], d=voxelsize).astype(\"float32\")\n",
    "    [fx, fy] = cp.meshgrid(fx, fx)\n",
    "    rad_freq = cp.fft.fft2(data)\n",
    "    taylorExp = 1 + wavelength * distance * cp.pi * (delta_beta) * (fx**2 + fy**2)\n",
    "    numerator = taylorExp * (rad_freq)\n",
    "    denominator = taylorExp**2 + alpha\n",
    "    phase = cp.log(cp.real(cp.fft.ifft2(numerator / denominator)))\n",
    "    phase = delta_beta * 0.5 * phase\n",
    "    return phase\n",
    "\n",
    "rrdata0 = np.mean(rrdata,axis=0)\n",
    "rrdata0/=np.mean(rrdata0)\n",
    "rrdata0[rrdata0>1.5]=1.5\n",
    "\n",
    "rrdata0 = cp.array(rrdata0)\n",
    "psi_init = Paganin(rrdata0, wavelength, voxelsize, 4.05, 2e-2)\n",
    "psi_init = np.pad(psi_init,((args.npsi//2-args.n//2,args.npsi//2-args.n//2),\n",
    "                                         (args.npsi//2-args.n//2,args.npsi//2-args.n//2)\n",
    "                                         ))\n",
    "psi_init = np.exp(1j * psi_init)\n",
    "mshow_polar(psi_init,args.show)\n",
    "\n",
    "# smooth borders\n",
    "v = cp.arange(-args.npsi // 2,args.npsi // 2) / args.npsi\n",
    "[vx, vy] = cp.meshgrid(v, v)\n",
    "v = cp.exp(-100 * (vx**2 + vy**2)).astype(\"float32\")\n",
    "\n",
    "psi_init = cp.fft.fftshift(cp.fft.fftn(cp.fft.fftshift(psi_init)))\n",
    "psi_init = cp.fft.fftshift(cp.fft.ifftn(cp.fft.fftshift(psi_init * v))).astype(\n",
    "    \"complex64\"\n",
    ")\n",
    "mshow_polar(psi_init,args.show)\n",
    "\n",
    "rdata = v = []"
   ]
  },
  {
   "cell_type": "code",
   "execution_count": null,
   "id": "41741819",
   "metadata": {},
   "outputs": [],
   "source": [
    "\n",
    "# variables\n",
    "vars = {}\n",
    "vars[\"code\"] = cp.array(code)\n",
    "vars[\"psi\"] = cp.array(psi_init)\n",
    "vars[\"q\"] = cp.array(q)\n",
    "vars[\"ri\"] = shifts_code.astype(\"int32\")\n",
    "vars[\"r\"] = np.array(shifts_code - vars[\"ri\"]).astype(\"float32\")\n",
    "vars[\"table\"] = pd.DataFrame(columns=[\"iter\", \"err\", \"time\"])\n",
    "\n",
    "# reconstruction\n",
    "vars = cl_rec.BH(data, vars)\n"
   ]
  }
 ],
 "metadata": {
  "kernelspec": {
   "display_name": "holotomocupy",
   "language": "python",
   "name": "python3"
  },
  "language_info": {
   "codemirror_mode": {
    "name": "ipython",
    "version": 3
   },
   "file_extension": ".py",
   "mimetype": "text/x-python",
   "name": "python",
   "nbconvert_exporter": "python",
   "pygments_lexer": "ipython3",
   "version": "3.12.8"
  }
 },
 "nbformat": 4,
 "nbformat_minor": 5
}
