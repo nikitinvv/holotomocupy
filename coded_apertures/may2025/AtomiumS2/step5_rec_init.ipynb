{
 "cells": [
  {
   "cell_type": "code",
   "execution_count": null,
   "id": "fad77fab-e206-47c1-9655-088d14fe30cb",
   "metadata": {},
   "outputs": [],
   "source": [
    "import numpy as np\n",
    "import cupy as cp\n",
    "import sys\n",
    "import scipy.ndimage as ndimage\n",
    "import matplotlib.pyplot as plt\n",
    "from types import SimpleNamespace\n",
    "import h5py\n",
    "import dxchange\n",
    "import warnings\n",
    "warnings.filterwarnings(\"ignore\", message=f\".*peer.*\")\n",
    "\n",
    "sys.path.insert(0, '..')\n",
    "from utils import *\n",
    "from rec import Rec"
   ]
  },
  {
   "cell_type": "code",
   "execution_count": null,
   "id": "59fa16f2-1f9c-4b3a-a330-e10942f12234",
   "metadata": {},
   "outputs": [],
   "source": [
    "bin = 0\n",
    "ntheta = 2400\n",
    "path = f'/data/vnikitin/ESRF/ID16A/20240924_rec_ca/data/'\n",
    "with  h5py.File(f'{path}/data_atomium.h5','r') as fid:\n",
    "    data = fid[f'/exchange/pdata'][::7200//ntheta].astype('float32')\n",
    "    psi_init = fid[f'/exchange/psi_init'][::7200//ntheta].astype('complex64')\n",
    "    ref0 = fid[f'/exchange/pref0'][:].astype('float32')\n",
    "    ref1 = fid[f'/exchange/pref1'][:].astype('float32')\n",
    "    theta = fid[f'/exchange/theta'][::7200//ntheta].astype('float32')\n",
    "    code = fid[f'/exchange/code'][:].astype('complex64')\n",
    "    q = fid[f'/exchange/prb'][:].astype('complex64')\n",
    "    \n",
    "    shifts_cor = fid[f'/exchange/shifts_cor'][::7200//ntheta].astype('float32')\n",
    "    shifts_code = fid[f'/exchange/shifts_code'][::7200//ntheta].astype('float32')\n",
    "    cdata = fid['/exchange/cdata'][::7200//ntheta]\n",
    "    \n",
    "    z1 = fid['/exchange/z1'][0]\n",
    "    detector_pixelsize = fid['/exchange/detector_pixelsize'][0]\n",
    "    focusdetectordistance = fid['/exchange/focusdetectordistance'][0]\n",
    "    energy = fid['/exchange/energy'][0]\n",
    "\n",
    "\n",
    "with  h5py.File(f'{path}/data_ca.h5','r') as fid:\n",
    "    z1c = fid['/exchange/z1'][0] \n",
    "\n",
    "for k in range(bin):\n",
    "    data = 0.5*(data[:,::2]+data[:,1::2])\n",
    "    data = 0.5*(data[:,:,::2]+data[:,:,1::2])\n",
    "    psi_init = 0.5*(psi_init[:,::2]+psi_init[:,1::2])\n",
    "    psi_init = 0.5*(psi_init[:,:,::2]+psi_init[:,:,1::2])\n",
    "    ref0 = 0.5*(ref0[::2]+ref0[1::2])\n",
    "    ref0 = 0.5*(ref0[:,::2]+ref0[:,1::2])\n",
    "    cdata = 0.5*(cdata[::2]+cdata[1::2])\n",
    "    cdata = 0.5*(cdata[:,::2]+cdata[:,1::2])\n",
    "    q = 0.5*(q[::2]+q[1::2])\n",
    "    q = 0.5*(q[:,::2]+q[:,1::2])\n",
    "    code = 0.5*(code[::2]+code[1::2])\n",
    "    code = 0.5*(code[:,::2]+code[:,1::2])\n",
    "shifts_cor/=2**bin\n",
    "shifts_code/=2**bin"
   ]
  },
  {
   "cell_type": "code",
   "execution_count": null,
   "id": "2123d6e1",
   "metadata": {},
   "outputs": [],
   "source": [
    "wavelength = 1.24e-09/energy  # [m] wave length\n",
    "focusToDetectorDistance = 1.28  # [m]\n",
    "z2 = focusToDetectorDistance-z1\n",
    "distance = (z1*z2)/focusToDetectorDistance\n",
    "magnification = focusToDetectorDistance/z1\n",
    "voxelsize = np.abs(detector_pixelsize/magnification)  # object voxel size\n",
    "magnifications2 = z1/z1c\n",
    "distancec = (z1-z1c)/(z1c/z1)\n",
    "show = True"
   ]
  },
  {
   "cell_type": "code",
   "execution_count": null,
   "id": "dc0c4bcb",
   "metadata": {},
   "outputs": [],
   "source": [
    "args = SimpleNamespace()\n",
    "args.ngpus = 4\n",
    "args.lam = 50\n",
    "\n",
    "args.n = 2048//2**bin\n",
    "voxelsize *= 2048/args.n\n",
    "\n",
    "args.ntheta = ntheta\n",
    "args.ncode = 8192*args.n//2048\n",
    "args.pad = 0\n",
    "args.npsi = args.n + 2 * args.pad\n",
    "args.nq = args.n + 2 * args.pad\n",
    "args.ex = 32\n",
    "args.npatch = args.nq + 2 * args.ex\n",
    "args.nchunk = 16\n",
    "\n",
    "args.voxelsize = voxelsize\n",
    "args.wavelength = wavelength\n",
    "args.distance = distance\n",
    "args.distancec = distancec\n",
    "args.eps = 1e-8\n",
    "args.rho = [1, 20, 10]\n",
    "args.path_out = f\"/data/vnikitin/ESRF/ID16A/20240924_rec_ca/rec_atomium/r_{args.lam}_{args.pad}\"\n",
    "args.show = show\n",
    "\n",
    "args.niter=4097\n",
    "args.vis_step=4\n",
    "args.err_step=4\n",
    "args.rotation_axis=756*args.n/1024-args.n//4+args.pad\n",
    "\n",
    "args.theta = theta*np.pi/180\n",
    "# create class\n",
    "cl_rec = Rec(args)\n"
   ]
  },
  {
   "cell_type": "code",
   "execution_count": null,
   "id": "1e49b641",
   "metadata": {},
   "outputs": [],
   "source": [
    "psi_data = cl_rec.logR(psi_init)"
   ]
  },
  {
   "cell_type": "code",
   "execution_count": null,
   "id": "c5ed35f5",
   "metadata": {},
   "outputs": [],
   "source": [
    "u_init = cl_rec.rec_tomo(psi_data,shifts_cor,32)\n",
    "mshow_complex(u_init[u_init.shape[0]//2],args.show)"
   ]
  },
  {
   "cell_type": "code",
   "execution_count": null,
   "id": "9f7a456e",
   "metadata": {},
   "outputs": [],
   "source": [
    "path = f'/data/vnikitin/ESRF/ID16A/20240924_rec_ca/data/'\n",
    "with  h5py.File(f'{path}/data_atomium.h5','a') as fid:\n",
    "    try:\n",
    "        del fid['/exchange/u_init']        \n",
    "    except:\n",
    "        pass\n",
    "    fid.create_dataset('/exchange/u_init',data=cdata)\n",
    "    "
   ]
  }
 ],
 "metadata": {
  "kernelspec": {
   "display_name": "holotomocupy",
   "language": "python",
   "name": "python3"
  },
  "language_info": {
   "codemirror_mode": {
    "name": "ipython",
    "version": 3
   },
   "file_extension": ".py",
   "mimetype": "text/x-python",
   "name": "python",
   "nbconvert_exporter": "python",
   "pygments_lexer": "ipython3",
   "version": "3.12.8"
  }
 },
 "nbformat": 4,
 "nbformat_minor": 5
}
