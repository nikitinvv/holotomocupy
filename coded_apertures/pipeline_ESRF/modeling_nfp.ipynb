{
 "cells": [
  {
   "cell_type": "code",
   "execution_count": null,
   "id": "fad77fab-e206-47c1-9655-088d14fe30cb",
   "metadata": {},
   "outputs": [],
   "source": [
    "import numpy as np\n",
    "import cupy as cp\n",
    "import matplotlib.pyplot as plt\n",
    "\n",
    "from holotomocupy.holo import G\n",
    "from holotomocupy.shift import S\n",
    "from holotomocupy.utils import *\n",
    "\n",
    "%matplotlib inline\n",
    "\n",
    "np.random.seed(10)"
   ]
  },
  {
   "cell_type": "markdown",
   "id": "3c0fdd65-1cff-451e-865e-56cd8b7882a6",
   "metadata": {},
   "source": [
    "# Init data sizes and parametes of the PXM of ID16A"
   ]
  },
  {
   "cell_type": "code",
   "execution_count": null,
   "id": "d8408841",
   "metadata": {},
   "outputs": [],
   "source": [
    "n = 2048  # object size in each dimension\n",
    "pad = n//8"
   ]
  },
  {
   "cell_type": "code",
   "execution_count": null,
   "id": "b3afe392",
   "metadata": {},
   "outputs": [],
   "source": [
    "import matplotlib.patches as patches\n",
    "def get_cmap(n, name='hsv'):\n",
    "    '''Returns a function that maps each index in 0, 1, ..., n-1 to a distinct \n",
    "    RGB color; the keyword argument name must be a standard mpl colormap name.'''\n",
    "    return plt.cm.get_cmap(name, n)\n",
    "\n",
    "fig, ax = plt.subplots()\n",
    "\n",
    "step = n//4\n",
    "s = 5*n//4 # size without pad\n",
    "\n",
    "npos0 = int(np.ceil((s+2*pad)/step))\n",
    "print(npos0)\n",
    "cmap = get_cmap(npos0**2)\n",
    "shifts_code = np.zeros([1,npos0**2,2],dtype='float32')\n",
    "ipos = 0\n",
    "for y in range(npos0):\n",
    "    for x in range(npos0): \n",
    "        for k in range(1):       \n",
    "            shifts_code[0,ipos,0] = int((y-npos0/2+0.5)*step+(np.random.random(1)[0]-0.5)*n//16)\n",
    "            shifts_code[0,ipos,1] = int((x-npos0/2+0.5)*step+(np.random.random(1)[0]-0.5)*n//16)\n",
    "            ipos+=1\n",
    "for k in range(npos0**2):\n",
    "    for j in range(1):\n",
    "        print(shifts_code[0,k*1+j,:])\n",
    "        rect = patches.Rectangle((shifts_code[0,k*1+j,1]-n//2, shifts_code[0,k*1+j,0]-n//2), n, n, linewidth=1, edgecolor=cmap(k), facecolor='none')        \n",
    "        ax.add_patch(rect)\n",
    "\n",
    "ax.plot(shifts_code[0,:,1],shifts_code[0,:,0],'.',)\n",
    "\n",
    "ax.axis('square')\n",
    "rect = patches.Rectangle((0-s//2-pad, 0-s//2-pad), s+2*pad, s+2*pad, linewidth=3, edgecolor='r', facecolor='none')\n",
    "ax.add_patch(rect)\n",
    "\n",
    "ax.axis('square')\n",
    "rect = patches.Rectangle((0-n//2-pad, 0-n//2-pad), n+2*pad, n+2*pad, linewidth=3, edgecolor='b', facecolor='none')\n",
    "ax.add_patch(rect)\n",
    "\n",
    "\n",
    "\n",
    "print(\"parameters for recon:\")\n",
    "print(\"size\",n+(npos0-1)*step)\n",
    "npos = npos0**2\n",
    "print(\"npos\",npos)\n",
    "\n",
    "\n"
   ]
  },
  {
   "cell_type": "markdown",
   "id": "bcecc362",
   "metadata": {},
   "source": []
  },
  {
   "cell_type": "code",
   "execution_count": null,
   "id": "59fa16f2-1f9c-4b3a-a330-e10942f12234",
   "metadata": {},
   "outputs": [],
   "source": [
    "\n",
    "z1c = -19.5e-3\n",
    "# thickness of the coded aperture\n",
    "code_thickness = 1.8e-6 #in m\n",
    "# feature size\n",
    "ill_feature_size = 2e-6 #in m\n",
    "\n",
    "detector_pixelsize = 3.03751e-6\n",
    "energy = 33.35  # [keV] xray energy\n",
    "wavelength = 1.2398419840550367e-09/energy  # [m] wave length\n",
    "focusToDetectorDistance = 1.28  # [m]\n",
    "sx0 = 3.7e-4\n",
    "z1 = z1c\n",
    "z1 = np.tile(z1, [npos])\n",
    "z2 = focusToDetectorDistance-z1\n",
    "distances = (z1*z2)/focusToDetectorDistance\n",
    "magnifications = focusToDetectorDistance/z1\n",
    "voxelsize = np.abs(detector_pixelsize/magnifications[0]*2048/n)  # object voxel size\n",
    "\n",
    "# sample size after demagnification\n",
    "ne = n+2*pad\n",
    "nee = n+(npos0-1)*step+pad # extra pad due to random shift\n",
    "show = True\n",
    "\n",
    "flg = f'{n}_{z1c}'\n",
    "path = f'/data2/vnikitin/nfp_codes'\n",
    "print(voxelsize)"
   ]
  },
  {
   "cell_type": "code",
   "execution_count": null,
   "id": "d08f7f53",
   "metadata": {},
   "outputs": [],
   "source": [
    "shifts_code_um = (np.int32(voxelsize*1e6*shifts_code/2.5))*2.5\n",
    "import matplotlib.patches as patches\n",
    "def get_cmap(n, name='hsv'):\n",
    "    '''Returns a function that maps each index in 0, 1, ..., n-1 to a distinct \n",
    "    RGB color; the keyword argument name must be a standard mpl colormap name.'''\n",
    "    return plt.cm.get_cmap(name, n)\n",
    "\n",
    "fig, ax = plt.subplots()\n",
    "\n",
    "step = n//4\n",
    "s = 5*n//4 # size without pad\n",
    "\n",
    "npos0 = int(np.ceil((s+2*pad)/step))\n",
    "print(npos0)\n",
    "cmap = get_cmap(npos0**2)\n",
    "ipos = 0\n",
    "\n",
    "for k in range(npos0**2):\n",
    "    for j in range(1):\n",
    "        print(shifts_code_um[0,k*1+j,:])\n",
    "        rect = patches.Rectangle((shifts_code_um[0,k*1+j,1]-n//2*voxelsize*1e6, shifts_code_um[0,k*1+j,0]-n//2*voxelsize*1e6), n*voxelsize*1e6, n*voxelsize*1e6, linewidth=1, edgecolor=cmap(k), facecolor='none')        \n",
    "        ax.add_patch(rect)\n",
    "\n",
    "ax.plot(shifts_code_um[0,:,1],shifts_code_um[0,:,0],'.',)\n",
    "\n",
    "ax.axis('square')\n",
    "rect = patches.Rectangle((0-s//2*voxelsize*1e6-pad*voxelsize*1e6, 0-s//2*voxelsize*1e6-pad*voxelsize*1e6), \n",
    "                         s*voxelsize*1e6+2*pad*voxelsize*1e6, s*voxelsize*1e6+2*pad*voxelsize*1e6, linewidth=3, edgecolor='r', facecolor='none')\n",
    "ax.add_patch(rect)\n",
    "\n",
    "\n",
    "\n",
    "\n",
    "print(\"parameters for recon:\")\n",
    "print(\"size\",n+(npos0-1)*step)\n",
    "npos = npos0**2\n",
    "print(\"npos\",npos)\n",
    "\n",
    "\n",
    "\n"
   ]
  },
  {
   "cell_type": "code",
   "execution_count": null,
   "id": "2edcc7dc",
   "metadata": {},
   "outputs": [],
   "source": [
    "sss"
   ]
  },
  {
   "cell_type": "markdown",
   "id": "bc0f342c-c899-4a73-9871-9717e2bc96c6",
   "metadata": {},
   "source": [
    "## Load probe, note run make_probe first"
   ]
  },
  {
   "cell_type": "code",
   "execution_count": null,
   "id": "6ae30f8e-2518-42aa-bbbc-9a2664e74e2d",
   "metadata": {},
   "outputs": [],
   "source": [
    "prb_abs = read_tiff(f'{path}/prb_abs_2048_code.tiff')[0:1]\n",
    "prb_phase = read_tiff(f'{path}/prb_phase_2048_code.tiff')[0:1]\n",
    "prb = prb_abs*np.exp(1j*prb_phase).astype('complex64')\n",
    "for k in range(int(np.log2(2048//n))):\n",
    "    prb = 0.5*(prb[:,::2,:]+prb[:,1::2,:])\n",
    "    prb = 0.5*(prb[:,:,::2]+prb[:,:,1::2])\n",
    "prb /= np.mean(np.abs(prb))\n",
    "prb.shape"
   ]
  },
  {
   "cell_type": "markdown",
   "id": "fab6f53c",
   "metadata": {},
   "source": [
    "### Generate a coded aperture, make it twice bigger than the sample to allow motion"
   ]
  },
  {
   "cell_type": "code",
   "execution_count": null,
   "id": "1b148894",
   "metadata": {},
   "outputs": [],
   "source": [
    "import cupy.random as random\n",
    "import xraylib\n",
    "import cupyx.scipy.ndimage as ndimage\n",
    "\n",
    "\n",
    "\n",
    "random.seed(10)\n",
    "nill = nee\n",
    "ill_global = cp.zeros([1,nill,nill],dtype='bool')\n",
    "for k in  range(ill_global.shape[0]):\n",
    "    ill0 = cp.zeros([nill*nill],dtype='bool')\n",
    "    ill_ids = cp.random.choice(cp.arange(0, nill*nill), int(nill*nill*0.55),replace=False)\n",
    "    ill0[ill_ids] = 1\n",
    "    ill_global[k] = ill0.reshape(nill,nill)\n",
    "# form codes for simulations\n",
    "nill = int(nee*voxelsize//(ill_feature_size*2))*2\n",
    "ill = cp.zeros([1,nill,nill],dtype='bool')\n",
    "for k in  range(ill.shape[0]):\n",
    "    ill0 = ill_global[k]\n",
    "    ill[k] = ill0[ill0.shape[0]//2-nill//2:ill0.shape[0]//2+(nill)//2,ill0.shape[1]//2-nill//2:ill0.shape[1]//2+(nill)//2]#.reshape(nill,nill)\n",
    "ill = cp.array(ill)    \n",
    "ill = ndimage.zoom(ill,[1,nee/nill,nee/nill],order=0,grid_mode=True,mode='grid-wrap')\n",
    "\n",
    "\n",
    "\n",
    "delta = 1-xraylib.Refractive_Index_Re('Au',energy,19.3)\n",
    "beta = xraylib.Refractive_Index_Im('Au',energy,19.3)\n",
    "print(beta,delta,delta/beta)\n",
    "thickness = code_thickness/voxelsize # thickness in pixels\n",
    "# form Transmittance function\n",
    "\n",
    "Rill = ill*(-delta+1j*beta)*thickness \n",
    "Rill=ndimage.rotate(Rill, 45, axes=(2, 1), reshape=False, order=3, mode='reflect',\n",
    "                   prefilter=True)\n",
    "\n",
    "v = cp.arange(-nee//2,nee//2)/2/ne\n",
    "[vx,vy] = cp.meshgrid(v,v)\n",
    "v = cp.exp(-2*(vx**2+vy**2))\n",
    "fill = cp.fft.fftshift(cp.fft.fftn(cp.fft.fftshift(Rill)))\n",
    "Rill = cp.fft.fftshift(cp.fft.ifftn(cp.fft.fftshift(fill*v)))\n",
    "Rill = Rill.astype('complex64')\n",
    "\n",
    "code = cp.exp(1j * Rill * voxelsize * 2 * np.pi / wavelength).astype('complex64')\n",
    "code = code.get()\n",
    "\n",
    "mshow_polar(code[0],show)\n",
    "\n",
    "mshow_polar(code[0,:n//32,:n//32],show)\n",
    "\n"
   ]
  },
  {
   "cell_type": "code",
   "execution_count": null,
   "id": "8f0fb92d",
   "metadata": {},
   "outputs": [],
   "source": [
    "print('voxelsize',voxelsize)\n",
    "print('field of view',voxelsize*n)\n",
    "print('detector voxel size after binning', voxelsize*magnifications[0])\n",
    "print('detector field of view', voxelsize*n*magnifications[0])\n",
    "print(45*voxelsize)"
   ]
  },
  {
   "cell_type": "code",
   "execution_count": null,
   "id": "a30189fe",
   "metadata": {},
   "outputs": [],
   "source": [
    "\n",
    "fig, ax = plt.subplots()\n",
    "ax.imshow(code[0].real,cmap='gray')\n",
    "#ax.set(xticks=np.arange(-code.shape[1]//2,code.shape[1]//2,100))\n",
    "for k in range(npos0**2):\n",
    "    for j in range(1):\n",
    "        rect = patches.Rectangle((shifts_code[0,k*1+j,1]-n//2+code.shape[1]//2, shifts_code[0,k*1+j,0]-n//2+code.shape[1]//2), n, n, linewidth=1, edgecolor=cmap(k), facecolor='none')\n",
    "        ax.add_patch(rect)\n",
    "\n",
    "\n",
    "ax.axis('square')\n",
    "ax.plot(shifts_code[0,:,1]+code.shape[1]//2,shifts_code[0,:,0]+code.shape[1]//2,'.',)\n",
    "# print(s)\n",
    "ax.axis('square')\n",
    "rect = patches.Rectangle((0-s//2-pad+code.shape[1]//2, 0-s//2-pad+code.shape[1]//2), s+2*pad, s+2*pad, linewidth=3, edgecolor='r', facecolor='none')\n",
    "ax.add_patch(rect)\n",
    "plt.show()"
   ]
  },
  {
   "cell_type": "markdown",
   "id": "34abfd9e-9dde-4241-8055-96cec24c18fb",
   "metadata": {},
   "source": [
    "### Compute holographic projections for all positions"
   ]
  },
  {
   "cell_type": "code",
   "execution_count": null,
   "id": "0472ad04",
   "metadata": {},
   "outputs": [],
   "source": [
    "def _fwd_holo(psi, shifts_code, prb):\n",
    "    prb = cp.array(prb)\n",
    "    psi = cp.array(psi)\n",
    "\n",
    "    data = cp.zeros([psi.shape[0], npos, n, n], dtype='complex64')\n",
    "    for i in range(npos):\n",
    "        psir = psi.copy()\n",
    "        prbr = cp.tile(prb, [psi.shape[0], 1, 1])\n",
    "        \n",
    "        # shift and crop the code \n",
    "        psir = S(psir, shifts_code[:, i])\n",
    "        nee = psir.shape[1]\n",
    "        psir = psir[:, nee//2-n//2-pad:nee/2+n//2+pad, nee//2-n//2-pad:nee/2+n//2+pad]\n",
    "        psir *= prbr\n",
    "        \n",
    "        # propagate the code to the probe plane\n",
    "        psir = G(psir, wavelength, voxelsize, distances[i])\n",
    "        \n",
    "        # unpad\n",
    "        data[:, i] = psir[:, pad:n+pad, pad:n+pad]\n",
    "    return data\n",
    "\n",
    "def fwd_holo(psi, prb):\n",
    "    return _fwd_holo(psi, shifts_code,  prb)\n",
    "\n",
    "def _fwd_holo0(prb):    \n",
    "    data = cp.zeros([1,npos, n, n], dtype='complex64')\n",
    "    for j in range(npos):\n",
    "        # propagate illumination \n",
    "        data[:,j] = G(prb, wavelength, voxelsize, distances[0])[:,pad:n+pad,pad:n+pad]        \n",
    "    return data\n",
    "\n",
    "def fwd_holo0(prb): \n",
    "    return _fwd_holo0(prb)\n",
    "\n",
    "# Apply the forward transform\n",
    "psi = cp.array(code)\n",
    "prb = cp.array(prb)\n",
    "shifts_code = cp.array(shifts_code)\n",
    "fpsi = fwd_holo(psi, prb)\n",
    "fref = fwd_holo0(prb)"
   ]
  },
  {
   "cell_type": "markdown",
   "id": "18e9c352-2b2c-49d7-adc0-301a05da964c",
   "metadata": {},
   "source": [
    "### Take squared absolute value to simulate data on the detector"
   ]
  },
  {
   "cell_type": "code",
   "execution_count": null,
   "id": "f4f94fd7-b14c-4dc3-832c-2f00d1674039",
   "metadata": {},
   "outputs": [],
   "source": [
    "data = np.abs(fpsi)**2\n",
    "ref = np.abs(fref)**2\n",
    "mshow((data[0,0]/ref[0,0])[:500,:500],show,vmax=2)\n",
    "\n",
    "mshow(data[0,0],show)\n",
    "mshow(ref[0,0],show,vmax=3)\n",
    "mshow(data[0,0]/ref[0,0],show,vmax=2)\n",
    "\n"
   ]
  },
  {
   "cell_type": "markdown",
   "id": "80625cf6-2687-43fa-8d0a-dd3396f91aa7",
   "metadata": {},
   "source": [
    "### Save data and shifts"
   ]
  },
  {
   "cell_type": "code",
   "execution_count": null,
   "id": "1edf3f41-30cb-4092-b90c-ca2f1f829ac7",
   "metadata": {},
   "outputs": [],
   "source": [
    "for k in range(npos):\n",
    "    write_tiff(data[:,k],f'{path}/data_{k}_{flg}')\n",
    "for k in range(npos):\n",
    "    write_tiff(ref[:,k],f'{path}/ref_{k}_{flg}')\n",
    "\n",
    "np.save(f'{path}/code_{flg}',code)\n",
    "np.save(f'{path}/shifts_code_nfp_{flg}', shifts_code)\n",
    "np.save(f'{path}/prb_{flg}', prb)\n",
    "np.save(f'{path}/psi_{flg}', psi)\n",
    "print(f'{path}/data_{k}_{flg}.tiff')\n",
    "\n"
   ]
  },
  {
   "cell_type": "code",
   "execution_count": null,
   "id": "7ff60464",
   "metadata": {},
   "outputs": [],
   "source": [
    "np.savetxt('shifts_code_nfp6x6.txt',voxelsize*1e6*shifts_code[0,:,::-1].get(),fmt='%.8f')\n",
    "\n",
    "print(voxelsize)"
   ]
  }
 ],
 "metadata": {
  "kernelspec": {
   "display_name": "Python 3 (ipykernel)",
   "language": "python",
   "name": "python3"
  },
  "language_info": {
   "codemirror_mode": {
    "name": "ipython",
    "version": 3
   },
   "file_extension": ".py",
   "mimetype": "text/x-python",
   "name": "python",
   "nbconvert_exporter": "python",
   "pygments_lexer": "ipython3",
   "version": "3.12.4"
  }
 },
 "nbformat": 4,
 "nbformat_minor": 5
}
