{
 "cells": [
  {
   "cell_type": "code",
   "execution_count": null,
   "id": "fad77fab-e206-47c1-9655-088d14fe30cb",
   "metadata": {},
   "outputs": [],
   "source": [
    "import numpy as np\n",
    "import cupy as cp\n",
    "import sys\n",
    "import pandas as pd\n",
    "import time\n",
    "import matplotlib.pyplot as plt\n",
    "import h5py\n",
    "from types import SimpleNamespace\n",
    "import warnings\n",
    "warnings.filterwarnings(\"ignore\", message=f\".*peer.*\")\n",
    "import dxchange\n",
    "sys.path.insert(0, '..')\n",
    "from utils import *\n",
    "from rec import Rec"
   ]
  },
  {
   "cell_type": "code",
   "execution_count": null,
   "id": "c4e686b1",
   "metadata": {},
   "outputs": [],
   "source": [
    "bin = 2\n",
    "ntheta = 720\n",
    "stheta = 600\n",
    "etheta = 600\n",
    "ids = np.concatenate((np.arange(0,stheta),np.arange(etheta,1610)))\n",
    "step = len(ids)/ntheta\n",
    "ids = ids[np.int32(np.arange(0,len(ids),step))]\n",
    "\n",
    "# ids = ids[::len(ids)//ntheta][:ntheta]\n",
    "print(len(ids))\n",
    "with h5py.File(f'/data/vnikitin/ESRF/ID16A/20240924_h5/Chip/Chip_codedht_random_010nm//data_corrected.h5') as fid:\n",
    "    theta = fid['/exchange/theta'][ids]/180*np.pi\n",
    "    print(len(theta))\n",
    "plt.plot(np.cos(theta),np.sin(theta),'.')\n",
    "plt.grid()\n",
    "    "
   ]
  },
  {
   "cell_type": "code",
   "execution_count": null,
   "id": "e48e6acc",
   "metadata": {},
   "outputs": [],
   "source": [
    "with h5py.File(f'/data/vnikitin/ESRF/ID16A/20240924_h5/Chip/Chip_codedht_random_010nm//data_corrected.h5') as fid:\n",
    "    sx0 = fid['/exchange/sx0'][0]    \n",
    "    detector_pixelsize = fid['/exchange/detector_pixelsize'][0]    \n",
    "    focusToDetectorDistance = fid['/exchange/focusdetectordistance'][0]    \n",
    "    z10 = fid['/exchange/z1'][0]      \n",
    "    theta = fid['/exchange/theta'][ids]/180*np.pi\n",
    "    shifts_cor = fid['/exchange/shifts_cor'][ids]\n",
    "    shifts_code = fid['/exchange/shifts_code'][ids]\n",
    "    cdata2 = fid['/exchange/cdata2'][ids]\n",
    "    data = fid['/exchange/data'][ids]\n",
    "\n",
    "    cdata = fid['/exchange/cdata'][:]    \n",
    "    ref = fid['/exchange/ref'][:]\n",
    "    q = fid['/exchange/prb'][:]\n",
    "    code = fid['/exchange/code'][:]    \n",
    "    \n",
    "\n",
    "for k in range(bin):\n",
    "    data = 0.5*(data[:,::2]+data[:,1::2])\n",
    "    data = 0.5*(data[:,:,::2]+data[:,:,1::2])\n",
    "    ref = 0.5*(ref[::2]+ref[1::2])\n",
    "    ref = 0.5*(ref[:,::2]+ref[:,1::2])\n",
    "    cdata = 0.5*(cdata[::2]+cdata[1::2])\n",
    "    cdata = 0.5*(cdata[:,::2]+cdata[:,1::2])\n",
    "    cdata2 = 0.5*(cdata2[:,::2]+cdata2[:,1::2])\n",
    "    cdata2 = 0.5*(cdata2[:,:,::2]+cdata2[:,:,1::2])\n",
    "    q = 0.5*(q[::2]+q[1::2])\n",
    "    q = 0.5*(q[:,::2]+q[:,1::2])\n",
    "    code = 0.5*(code[::2]+code[1::2])\n",
    "    code = 0.5*(code[:,::2]+code[:,1::2])\n",
    "shifts_cor/=2**bin\n",
    "shifts_code/=2**bin\n"
   ]
  },
  {
   "cell_type": "code",
   "execution_count": null,
   "id": "a93385e5",
   "metadata": {},
   "outputs": [],
   "source": [
    "print(len(ids))\n",
    "with h5py.File(f'/data/vnikitin/ESRF/ID16A/20240924_h5/Chip/Chip_codedht_random_010nm//data_corrected.h5') as fid:\n",
    "    theta = fid['/exchange/theta'][ids]/180*np.pi\n",
    "    print(len(theta))\n",
    "plt.plot(np.cos(theta),np.sin(theta),'.')\n",
    "plt.grid()"
   ]
  },
  {
   "cell_type": "code",
   "execution_count": null,
   "id": "3d812b48",
   "metadata": {},
   "outputs": [],
   "source": [
    "z1c = -17.75e-3\n",
    "energy = 33.35  # [keV] xray energy\n",
    "wavelength = 1.2398419840550367e-09/energy  # [m] wave length\n",
    "z1 = z10 - sx0\n",
    "z2 = focusToDetectorDistance-z1\n",
    "distance = (z1*z2)/focusToDetectorDistance\n",
    "magnifications = focusToDetectorDistance/z1\n",
    "voxelsize = np.abs(detector_pixelsize/magnifications)\n",
    "magnifications2 = z1/z1c\n",
    "distancec = (z1-z1c)/(z1c/z1)#magnifications2"
   ]
  },
  {
   "cell_type": "code",
   "execution_count": null,
   "id": "14f44d56",
   "metadata": {},
   "outputs": [],
   "source": [
    "args = SimpleNamespace()\n",
    "args.npos = 1\n",
    "args.ngpus = 4\n",
    "args.lam = 100\n",
    "\n",
    "args.n = 2048//2**bin\n",
    "voxelsize *= 2048/args.n\n",
    "\n",
    "args.ntheta = ntheta\n",
    "args.ncode = 8704*args.n//2048\n",
    "args.pad = args.n // 8\n",
    "args.npsi = args.n + 2 * args.pad\n",
    "args.nq = args.n + 2 * args.pad\n",
    "args.ex = 8\n",
    "args.npatch = args.nq + 2 * args.ex\n",
    "args.nchunk = 8\n",
    "\n",
    "args.voxelsize = voxelsize\n",
    "args.wavelength = wavelength\n",
    "args.distance = distance\n",
    "args.distancec = distancec\n",
    "args.eps = 1e-12\n",
    "args.rho = [1, 20, 10]\n",
    "args.crop = 0#2 * args.pad\n",
    "args.path_out = f\"/data/vnikitin/ESRF/ID16A/20240924_rec0224//Chip/Chip_codedht_random2_010nm//{args.n}_{args.lam}_{args.rho[1]}_{args.rho[2]}\"\n",
    "args.show = False\n",
    "\n",
    "args.niter=512\n",
    "args.vis_step=4\n",
    "args.err_step=4\n",
    "args.method = \"BH-CG\"\n",
    "args.rotation_axis=380*args.n/512-args.n // 8\n",
    "\n",
    "args.theta = theta\n",
    "# create class\n",
    "cl_rec = Rec(args)\n"
   ]
  },
  {
   "cell_type": "code",
   "execution_count": null,
   "id": "26260ba2",
   "metadata": {},
   "outputs": [],
   "source": [
    "# q = np.pad(q,((args.pad//2,args.pad//2),(args.pad//2,args.pad//2)))"
   ]
  },
  {
   "cell_type": "markdown",
   "id": "2d3e1339",
   "metadata": {},
   "source": []
  },
  {
   "cell_type": "code",
   "execution_count": null,
   "id": "8f3563fc",
   "metadata": {},
   "outputs": [],
   "source": [
    "rdata=data/cdata2\n",
    "mshow(rdata[-1],args.show)"
   ]
  },
  {
   "cell_type": "code",
   "execution_count": null,
   "id": "5778a425",
   "metadata": {},
   "outputs": [],
   "source": [
    "def Paganin(data, wavelength, voxelsize, delta_beta, alpha):\n",
    "    n = data.shape[-1]\n",
    "    fx = cp.fft.fftfreq(2*n, d=voxelsize).astype(\"float32\")\n",
    "    [fx, fy] = cp.meshgrid(fx, fx)\n",
    "    data = np.pad(data,((n//2,n//2),(n//2,n//2)),'edge')\n",
    "    rad_freq = cp.fft.fft2(data)\n",
    "    taylorExp = 1 + wavelength * distance * cp.pi * (delta_beta) * (fx**2 + fy**2)\n",
    "    numerator = taylorExp * (rad_freq)\n",
    "    denominator = taylorExp**2 + alpha\n",
    "    phase = cp.log(cp.real(cp.fft.ifft2(numerator / denominator)))\n",
    "    phase = delta_beta * 0.5 * phase\n",
    "    phase = phase[n//2:-n//2,n//2:-n//2]\n",
    "    return phase\n",
    "\n",
    "def rec_init(rdata):\n",
    "    recMultiPaganin = np.zeros([args.ntheta,args.npsi, args.npsi], dtype=\"float32\")\n",
    "    for j in range(0, args.ntheta):\n",
    "        r = cp.array(rdata[j])\n",
    "        r = cp.pad(r,((args.pad,args.pad),(args.pad,args.pad)),'edge')\n",
    "        v = cp.zeros([args.npsi,args.npsi],dtype='complex64')\n",
    "        v = cp.linspace(0,1,args.pad)\n",
    "        v = v**5*(126-420*v+540*v**2-315*v**3+70*v**4)           \n",
    "\n",
    "        vv = cp.ones(args.npsi)\n",
    "        vv[args.pad:2*args.pad]=v\n",
    "        vv[:args.pad] = 0\n",
    "        vv[-2*args.pad:-args.pad]=1-v\n",
    "        vv[-args.pad:] = 0\n",
    "        vv=cp.outer(vv,vv)\n",
    "        r = r*vv+(1-vv)*np.mean(r)\n",
    "        r = Paganin(r, wavelength, voxelsize, 1.05, 1e-12)     \n",
    "        r-=0.5*(np.mean(r[:args.n//32,:args.n//32])+np.mean(r[-args.n//32:,-args.n//32:]))\n",
    "        recMultiPaganin[j] = r.get()   \n",
    "\n",
    "    recMultiPaganin = np.exp(1j * recMultiPaganin)\n",
    "    return recMultiPaganin\n",
    "\n",
    "psi_init = rec_init(rdata)\n",
    "mshow_polar(psi_init[0],args.show)\n",
    "\n"
   ]
  },
  {
   "cell_type": "code",
   "execution_count": null,
   "id": "ac72aeab",
   "metadata": {},
   "outputs": [],
   "source": [
    "import dxchange\n",
    "\n",
    "dxchange.write_tiff_stack(psi_init,'/data/tmp/psi_init/r',overwrite=True)"
   ]
  },
  {
   "cell_type": "code",
   "execution_count": null,
   "id": "6bc4b547",
   "metadata": {},
   "outputs": [],
   "source": [
    "psi_data = np.log(psi_init)/1j\n",
    "rpsi = shifts_cor\n",
    "#adjustments\n",
    "# v=np.arange(-ntheta//2,ntheta//2)/(ntheta//2)\n",
    "# cc = v**2\n",
    "# cc[ntheta//2:]-=v[ntheta//2:]**2\n",
    "# cc = v**2\n",
    "# rpsi[:,0]=shifts_cor[:,0]+cc*args.n/512*7/10\n",
    "# plt.plot(cc)\n",
    "# mshow_polar(psi_data[0],args.show)\n",
    "# import dxchange\n",
    "# dxchange.write_tiff_stack(np.real(cl_rec.STpsi(psi_data,rpsi)),'/data/tmp/psi_data/r',overwrite=True)\n",
    "# cc = cl_rec.rotation_axis\n",
    "# for k in np.arange(cc-3,cc+3,1):\n",
    "#     print(k)\n",
    "#     cl_rec.rotation_axis = k\n",
    "#     u_init = cl_rec.rec_tomo(psi_data,rpsi,32)\n",
    "#     mshow_complex(u_init[u_init.shape[0]//2],args.show)\n",
    "#     dxchange.write_tiff(u_init[u_init.shape[0]//2].real,f'/data/tmp/test_center_chip2/r{k}',overwrite=True)"
   ]
  },
  {
   "cell_type": "code",
   "execution_count": null,
   "id": "37ab96a6",
   "metadata": {},
   "outputs": [],
   "source": [
    "mshow_complex(psi_data[0],args.show)"
   ]
  },
  {
   "cell_type": "code",
   "execution_count": null,
   "id": "932c01c3",
   "metadata": {},
   "outputs": [],
   "source": [
    "\n",
    "# axis_init = args.rotation_axis\n",
    "# for k in np.arange(381,384):\n",
    "#     print(k)\n",
    "#     cl_rec.rotation_axis = k\n",
    "#     u_init = cl_rec.rec_tomo(psi_data,rpsi,50)\n",
    "#     dxchange.write_tiff(np.real(u_init[args.npsi//2]),f'/data/tmp/test_center_chip/r{k}',overwrite=True)\n",
    "# # ss\n",
    "# # u_init = cl_rec.rec_tomo(psi_data,rpsi,32)\n",
    "# # np.save(f'/data/tmp/u_init{args.n}',u_init)\n",
    "# # u_init = np.load(f'/data/tmp/u_init{args.n}.npy')\n",
    "# # mshow_complex(u_init[u_init.shape[0]//2],True)"
   ]
  },
  {
   "cell_type": "code",
   "execution_count": null,
   "id": "037460cb",
   "metadata": {},
   "outputs": [],
   "source": [
    "# print(np.sum(psi_data))\n",
    "u_init = cl_rec.rec_tomo(psi_data,rpsi,32)\n",
    "np.save(f'/data/tmp/u_init{args.n}',u_init)\n",
    "u_init = np.load(f'/data/tmp/u_init{args.n}.npy')\n",
    "mshow_complex(u_init[args.npsi//2],args.show)"
   ]
  },
  {
   "cell_type": "code",
   "execution_count": null,
   "id": "f5c6cb7d",
   "metadata": {},
   "outputs": [],
   "source": [
    "\n",
    "# ur_init = cl_rec.Rotate(u_init).swapaxes(0,1)\n",
    "# mshow_complex(ur_init[180],args.show)\n",
    "# dxchange.write_tiff_stack(u_init.real,'/data/tmp/r/r',overwrite=True)"
   ]
  },
  {
   "cell_type": "code",
   "execution_count": null,
   "id": "c580e0b3",
   "metadata": {},
   "outputs": [],
   "source": [
    "vars = {}\n",
    "vars[\"code\"] = cp.array(code)\n",
    "vars[\"u\"] = np.array(u_init)\n",
    "vars[\"Ru\"] = cl_rec.R(vars['u'])\n",
    "vars[\"psi\"] = cl_rec.expR(vars['Ru'])\n",
    "vars[\"q\"] = cp.array(q)\n",
    "vars[\"ri\"] = np.round(shifts_code).astype(\"int32\")\n",
    "vars[\"r\"] = np.array(shifts_code - vars[\"ri\"]).astype(\"float32\")\n",
    "vars[\"rpsi\"] = np.array(shifts_cor).astype(\"float32\")\n",
    "vars[\"table\"] = pd.DataFrame(columns=[\"iter\", \"err\", \"time\"])\n",
    "cl_rec.rho = [1,20,10]\n",
    "vars = cl_rec.BH(data, vars)"
   ]
  }
 ],
 "metadata": {
  "kernelspec": {
   "display_name": "holotomocupy",
   "language": "python",
   "name": "python3"
  },
  "language_info": {
   "codemirror_mode": {
    "name": "ipython",
    "version": 3
   },
   "file_extension": ".py",
   "mimetype": "text/x-python",
   "name": "python",
   "nbconvert_exporter": "python",
   "pygments_lexer": "ipython3",
   "version": "3.12.8"
  }
 },
 "nbformat": 4,
 "nbformat_minor": 5
}
